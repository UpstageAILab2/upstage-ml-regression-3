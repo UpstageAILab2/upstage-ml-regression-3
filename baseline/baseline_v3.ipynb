{
 "cells": [
  {
   "cell_type": "code",
   "execution_count": 1,
   "metadata": {},
   "outputs": [],
   "source": [
    "# visualization\n",
    "import matplotlib.pyplot as plt\n",
    "import matplotlib.font_manager as fm\n",
    "fe = fm.FontEntry(\n",
    "    fname=r'/usr/share/fonts/truetype/nanum/NanumGothic.ttf', # ttf 파일이 저장되어 있는 경로\n",
    "    name='NanumBarunGothic')                        # 이 폰트의 원하는 이름 설정\n",
    "fm.fontManager.ttflist.insert(0, fe)              # Matplotlib에 폰트 추가\n",
    "plt.rcParams.update({'font.size': 10, 'font.family': 'NanumBarunGothic'}) # 폰트 설정\n",
    "plt.rc('font', family='NanumBarunGothic')\n",
    "import seaborn as sns\n",
    "\n",
    "# utils\n",
    "import pickle\n",
    "import csv\n",
    "import pandas as pd\n",
    "import numpy as np\n",
    "from tqdm import tqdm\n",
    "import pickle\n",
    "import warnings;warnings.filterwarnings('ignore')\n",
    "import gdown\n",
    "import joblib\n",
    "\n",
    "# Model\n",
    "from sklearn.preprocessing import LabelEncoder\n",
    "from sklearn.model_selection import train_test_split, TimeSeriesSplit\n",
    "from sklearn.metrics import mean_squared_error\n",
    "from sklearn.ensemble import RandomForestRegressor\n",
    "from sklearn import metrics\n",
    "import lightgbm as lgb\n",
    "\n",
    "import eli5\n",
    "from eli5.sklearn import PermutationImportance\n",
    "\n",
    "# 코드 셀 실행 후 경고를 무시\n",
    "# import warnings\n",
    "# warnings.filterwarnings(action='ignore')"
   ]
  },
  {
   "cell_type": "markdown",
   "metadata": {},
   "source": [
    "### Load Table"
   ]
  },
  {
   "cell_type": "code",
   "execution_count": 9,
   "metadata": {},
   "outputs": [],
   "source": [
    "# pickle에서 데이터프레임 다시 불러오기\n",
    "with open('df.pickle', 'rb') as f:\n",
    "    df = pickle.load(f)"
   ]
  },
  {
   "cell_type": "markdown",
   "metadata": {},
   "source": [
    "### Feature Engineering"
   ]
  },
  {
   "cell_type": "code",
   "execution_count": null,
   "metadata": {},
   "outputs": [],
   "source": [
    "# df['공시가격리스트']= df['공시가격리스트'].astype(str)\n",
    "df.drop(['공시가격리스트', '지하철역세권', '버스정류장세권'], axis=1, inplace=True)\n",
    "df['평균공시가격']=df['평균공시가격'].interpolate(method='linear', axis=0)"
   ]
  },
  {
   "cell_type": "code",
   "execution_count": 10,
   "metadata": {},
   "outputs": [
    {
     "data": {
      "text/plain": [
       "Index(['번지', '본번', '아파트명', '전용면적(㎡)', '계약년월', '층', '건축년도', '도로명', 'target',\n",
       "       'is_test', '구', '동', '계약년', '계약월', '평균공시가격'],\n",
       "      dtype='object')"
      ]
     },
     "execution_count": 10,
     "metadata": {},
     "output_type": "execute_result"
    }
   ],
   "source": [
    "df.columns"
   ]
  },
  {
   "cell_type": "markdown",
   "metadata": {},
   "source": [
    "### Train"
   ]
  },
  {
   "cell_type": "code",
   "execution_count": 12,
   "metadata": {},
   "outputs": [
    {
     "name": "stdout",
     "output_type": "stream",
     "text": [
      "(1118822, 14) (9272, 14)\n"
     ]
    }
   ],
   "source": [
    "df_train = df.loc[df['is_test']==0, :]\n",
    "df_test = df.loc[df['is_test']==1, :]\n",
    "\n",
    "df_train.drop(['is_test'], axis=1, inplace=True)\n",
    "df_test.drop(['is_test'], axis=1, inplace=True)\n",
    "print(df_train.shape, df_test.shape)"
   ]
  },
  {
   "cell_type": "code",
   "execution_count": 13,
   "metadata": {},
   "outputs": [
    {
     "name": "stdout",
     "output_type": "stream",
     "text": [
      "연속형 변수: ['전용면적(㎡)', '계약년월', '층', '건축년도', 'target', '평균공시가격']\n",
      "범주형 변수: ['번지', '본번', '아파트명', '도로명', '구', '동', '계약년', '계약월']\n"
     ]
    }
   ],
   "source": [
    "# 변수 삭제 및 파생변수 제작으로 추가된 변수들이 존재하기에, 다시한번 연속형과 범주형 칼럼을 분리해주겠습니다.\n",
    "continuous_columns = []\n",
    "categorical_columns = []\n",
    "\n",
    "for column in df_train.columns:\n",
    "    if pd.api.types.is_numeric_dtype(df_train[column]):\n",
    "        continuous_columns.append(column)\n",
    "    else:\n",
    "        categorical_columns.append(column)\n",
    "\n",
    "print(\"연속형 변수:\", continuous_columns)\n",
    "print(\"범주형 변수:\", categorical_columns)"
   ]
  },
  {
   "cell_type": "code",
   "execution_count": 14,
   "metadata": {},
   "outputs": [
    {
     "name": "stderr",
     "output_type": "stream",
     "text": [
      "100%|██████████| 8/8 [00:02<00:00,  3.49it/s]\n"
     ]
    }
   ],
   "source": [
    "# 아래에서 범주형 변수들을 대상으로 레이블인코딩을 진행해 주겠습니다.\n",
    "\n",
    "# 각 변수에 대한 LabelEncoder를 저장할 딕셔너리\n",
    "label_encoders = {}\n",
    "\n",
    "# Implement Label Encoding\n",
    "for col in tqdm(categorical_columns):\n",
    "    lbl = LabelEncoder()\n",
    "\n",
    "    # Label-Encoding을 fit\n",
    "    lbl.fit( df_train[col].astype(str) )\n",
    "    df_train[col] = lbl.transform(df_train[col].astype(str))\n",
    "    label_encoders[col] = lbl           # 나중에 후처리를 위해 레이블인코더를 저장해주겠습니다.\n",
    "\n",
    "    # Test 데이터에만 존재하는 새로 출현한 데이터를 신규 클래스로 추가해줍니다.\n",
    "    for label in np.unique(df_test[col]):\n",
    "      if label not in lbl.classes_: # unseen label 데이터인 경우\n",
    "        lbl.classes_ = np.append(lbl.classes_, label) # 미처리 시 ValueError발생하니 주의하세요!\n",
    "\n",
    "    df_test[col] = lbl.transform(df_test[col].astype(str))"
   ]
  },
  {
   "cell_type": "code",
   "execution_count": 15,
   "metadata": {},
   "outputs": [],
   "source": [
    "y_train = df_train['target']\n",
    "X_train = df_train.drop(['target'], axis=1)\n",
    "\n",
    "# Split the data into train and validation sets\n",
    "X_train, X_val, y_train, y_val = train_test_split(X_train, y_train, test_size=0.2, random_state=2023)"
   ]
  },
  {
   "cell_type": "code",
   "execution_count": 16,
   "metadata": {},
   "outputs": [],
   "source": [
    "import optuna\n",
    "\n",
    "def objective(trial):\n",
    "    # Define the hyperparameter search space\n",
    "    n_estimators = trial.suggest_int('n_estimators', 1000, 5000)\n",
    "    max_depth = trial.suggest_int('max_depth', 10, 50)\n",
    "    num_leaves = trial.suggest_int('num_leaves', 100, 1000)\n",
    "    min_child_samples = trial.suggest_int('min_child_samples', 50, 500)\n",
    "    feature_fraction = trial.suggest_float('feature_fraction', 0.5, 1.0)\n",
    "    bagging_fraction = trial.suggest_float('bagging_fraction', 0.5, 1.0)\n",
    "    lambda_l1 = trial.suggest_float('lambda_l1', 1e-8, 1.0, log=True)  # Increase L1 regularization\n",
    "    lambda_l2 = trial.suggest_float('lambda_l2', 1e-8, 1.0, log=True)  # Increase L2 regularization\n",
    "\n",
    "    # Create the LGBMRegressor model with the suggested hyperparameters\n",
    "    gbm = lgb.LGBMRegressor(n_estimators=n_estimators, max_depth=max_depth, num_leaves=num_leaves,\n",
    "                            min_child_samples=min_child_samples, feature_fraction=feature_fraction,\n",
    "                            bagging_fraction=bagging_fraction, lambda_l1=lambda_l1, lambda_l2=lambda_l2, verbosity=-1)\n",
    "\n",
    "    # Train the model\n",
    "    gbm.fit(\n",
    "        X_train, y_train, \n",
    "        eval_set=[(X_train, y_train), (X_val, y_val)], \n",
    "        eval_metric='rmse',\n",
    "        callbacks=[lgb.early_stopping(stopping_rounds=50),\n",
    "                   lgb.log_evaluation(period=100, show_stdv=True)]\n",
    "        )\n",
    "    \n",
    "    # Compute the validation RMSE\n",
    "    val_rmse = gbm.best_score_['valid_1']['rmse']\n",
    "    return val_rmse\n",
    "\n",
    "def optimize_hyperparameters(n_trials=100, early_stopping=50, log_evaluation=100):\n",
    "    study = optuna.create_study(direction='minimize')\n",
    "    study.optimize(objective, n_trials=n_trials)\n",
    "\n",
    "    # Get the best hyperparameters\n",
    "    best_params = study.best_trial.params\n",
    "\n",
    "    # Create the final model with the best hyperparameters\n",
    "    best_model = lgb.LGBMRegressor(**best_params)\n",
    "\n",
    "    # Train the final model with early stopping and evaluation logging\n",
    "    best_model.fit(X_train, y_train,\n",
    "                   eval_set=[(X_train, y_train), (X_val, y_val)],\n",
    "                   eval_metric='rmse',\n",
    "                   callbacks=[lgb.early_stopping(stopping_rounds=early_stopping),\n",
    "                              lgb.log_evaluation(period=log_evaluation, show_stdv=True)])\n",
    "\n",
    "    return best_model"
   ]
  },
  {
   "cell_type": "code",
   "execution_count": 17,
   "metadata": {},
   "outputs": [
    {
     "name": "stderr",
     "output_type": "stream",
     "text": [
      "[I 2024-03-28 09:38:42,903] A new study created in memory with name: no-name-2abec9cb-b46a-4172-9996-a596634c6348\n"
     ]
    },
    {
     "name": "stdout",
     "output_type": "stream",
     "text": [
      "Training until validation scores don't improve for 50 rounds\n",
      "[100]\ttraining's rmse: 5169.92\ttraining's l2: 2.67281e+07\tvalid_1's rmse: 6184.02\tvalid_1's l2: 3.82421e+07\n",
      "[200]\ttraining's rmse: 4386.87\ttraining's l2: 1.92447e+07\tvalid_1's rmse: 5804.44\tvalid_1's l2: 3.36915e+07\n",
      "[300]\ttraining's rmse: 3993.24\ttraining's l2: 1.5946e+07\tvalid_1's rmse: 5693.47\tvalid_1's l2: 3.24156e+07\n",
      "[400]\ttraining's rmse: 3719.13\ttraining's l2: 1.38319e+07\tvalid_1's rmse: 5647.07\tvalid_1's l2: 3.18894e+07\n",
      "[500]\ttraining's rmse: 3518.52\ttraining's l2: 1.238e+07\tvalid_1's rmse: 5619.33\tvalid_1's l2: 3.15768e+07\n",
      "[600]\ttraining's rmse: 3352.32\ttraining's l2: 1.12381e+07\tvalid_1's rmse: 5608.19\tvalid_1's l2: 3.14518e+07\n",
      "[700]\ttraining's rmse: 3206.46\ttraining's l2: 1.02814e+07\tvalid_1's rmse: 5599.92\tvalid_1's l2: 3.13591e+07\n",
      "Early stopping, best iteration is:\n",
      "[707]\ttraining's rmse: 3199.67\ttraining's l2: 1.02379e+07\tvalid_1's rmse: 5598.28\tvalid_1's l2: 3.13407e+07\n"
     ]
    },
    {
     "name": "stderr",
     "output_type": "stream",
     "text": [
      "[I 2024-03-28 09:39:11,803] Trial 0 finished with value: 5598.279882656738 and parameters: {'n_estimators': 2510, 'max_depth': 25, 'num_leaves': 855, 'min_child_samples': 51, 'feature_fraction': 0.8407470372531338, 'bagging_fraction': 0.7803757472839843, 'lambda_l1': 0.00023665934828538617, 'lambda_l2': 0.18520109431461257}. Best is trial 0 with value: 5598.279882656738.\n"
     ]
    },
    {
     "name": "stdout",
     "output_type": "stream",
     "text": [
      "Training until validation scores don't improve for 50 rounds\n",
      "[100]\ttraining's rmse: 6963.73\ttraining's l2: 4.84935e+07\tvalid_1's rmse: 7339.66\tvalid_1's l2: 5.38706e+07\n",
      "[200]\ttraining's rmse: 6093.93\ttraining's l2: 3.71359e+07\tvalid_1's rmse: 6617.83\tvalid_1's l2: 4.37956e+07\n",
      "[300]\ttraining's rmse: 5668.07\ttraining's l2: 3.2127e+07\tvalid_1's rmse: 6299.93\tvalid_1's l2: 3.96891e+07\n",
      "[400]\ttraining's rmse: 5395.51\ttraining's l2: 2.91115e+07\tvalid_1's rmse: 6121.65\tvalid_1's l2: 3.74746e+07\n",
      "[500]\ttraining's rmse: 5193.26\ttraining's l2: 2.69699e+07\tvalid_1's rmse: 5995.68\tvalid_1's l2: 3.59482e+07\n",
      "[600]\ttraining's rmse: 5035.03\ttraining's l2: 2.53516e+07\tvalid_1's rmse: 5903.96\tvalid_1's l2: 3.48568e+07\n",
      "[700]\ttraining's rmse: 4902.54\ttraining's l2: 2.40349e+07\tvalid_1's rmse: 5834.69\tvalid_1's l2: 3.40436e+07\n",
      "[800]\ttraining's rmse: 4783.46\ttraining's l2: 2.28815e+07\tvalid_1's rmse: 5780.15\tvalid_1's l2: 3.34102e+07\n",
      "[900]\ttraining's rmse: 4676.7\ttraining's l2: 2.18716e+07\tvalid_1's rmse: 5735.5\tvalid_1's l2: 3.2896e+07\n",
      "[1000]\ttraining's rmse: 4585.89\ttraining's l2: 2.10304e+07\tvalid_1's rmse: 5705.96\tvalid_1's l2: 3.2558e+07\n",
      "[1100]\ttraining's rmse: 4503\ttraining's l2: 2.0277e+07\tvalid_1's rmse: 5676.34\tvalid_1's l2: 3.22208e+07\n",
      "[1200]\ttraining's rmse: 4427.09\ttraining's l2: 1.95992e+07\tvalid_1's rmse: 5654.77\tvalid_1's l2: 3.19764e+07\n",
      "[1300]\ttraining's rmse: 4356.82\ttraining's l2: 1.89819e+07\tvalid_1's rmse: 5634.02\tvalid_1's l2: 3.17422e+07\n",
      "[1400]\ttraining's rmse: 4289.47\ttraining's l2: 1.83995e+07\tvalid_1's rmse: 5616.14\tvalid_1's l2: 3.1541e+07\n",
      "[1500]\ttraining's rmse: 4225.58\ttraining's l2: 1.78556e+07\tvalid_1's rmse: 5598.84\tvalid_1's l2: 3.1347e+07\n",
      "[1600]\ttraining's rmse: 4163.93\ttraining's l2: 1.73383e+07\tvalid_1's rmse: 5585.27\tvalid_1's l2: 3.11952e+07\n",
      "[1700]\ttraining's rmse: 4107.88\ttraining's l2: 1.68747e+07\tvalid_1's rmse: 5574.94\tvalid_1's l2: 3.10799e+07\n",
      "[1800]\ttraining's rmse: 4054.94\ttraining's l2: 1.64426e+07\tvalid_1's rmse: 5566.17\tvalid_1's l2: 3.09822e+07\n",
      "[1900]\ttraining's rmse: 4005.81\ttraining's l2: 1.60465e+07\tvalid_1's rmse: 5556.91\tvalid_1's l2: 3.08793e+07\n",
      "[2000]\ttraining's rmse: 3961.23\ttraining's l2: 1.56913e+07\tvalid_1's rmse: 5551.4\tvalid_1's l2: 3.0818e+07\n",
      "[2100]\ttraining's rmse: 3915.59\ttraining's l2: 1.53319e+07\tvalid_1's rmse: 5542.97\tvalid_1's l2: 3.07245e+07\n",
      "[2200]\ttraining's rmse: 3873.46\ttraining's l2: 1.50037e+07\tvalid_1's rmse: 5538.1\tvalid_1's l2: 3.06705e+07\n",
      "[2300]\ttraining's rmse: 3833.06\ttraining's l2: 1.46924e+07\tvalid_1's rmse: 5531.8\tvalid_1's l2: 3.06008e+07\n",
      "[2400]\ttraining's rmse: 3793.73\ttraining's l2: 1.43924e+07\tvalid_1's rmse: 5530.91\tvalid_1's l2: 3.0591e+07\n",
      "Early stopping, best iteration is:\n",
      "[2358]\ttraining's rmse: 3810.1\ttraining's l2: 1.45168e+07\tvalid_1's rmse: 5530.06\tvalid_1's l2: 3.05815e+07\n"
     ]
    },
    {
     "name": "stderr",
     "output_type": "stream",
     "text": [
      "[I 2024-03-28 09:39:58,769] Trial 1 finished with value: 5530.05823486167 and parameters: {'n_estimators': 3018, 'max_depth': 35, 'num_leaves': 299, 'min_child_samples': 282, 'feature_fraction': 0.9592111410711301, 'bagging_fraction': 0.6666926617089871, 'lambda_l1': 5.5208157879714006e-05, 'lambda_l2': 1.9910789868692976e-07}. Best is trial 1 with value: 5530.05823486167.\n"
     ]
    },
    {
     "name": "stdout",
     "output_type": "stream",
     "text": [
      "Training until validation scores don't improve for 50 rounds\n",
      "[100]\ttraining's rmse: 7173.55\ttraining's l2: 5.14599e+07\tvalid_1's rmse: 7577.61\tvalid_1's l2: 5.74201e+07\n",
      "[200]\ttraining's rmse: 6453.37\ttraining's l2: 4.1646e+07\tvalid_1's rmse: 6926.32\tvalid_1's l2: 4.79739e+07\n",
      "[300]\ttraining's rmse: 6067.18\ttraining's l2: 3.68106e+07\tvalid_1's rmse: 6600.28\tvalid_1's l2: 4.35637e+07\n",
      "[400]\ttraining's rmse: 5819.1\ttraining's l2: 3.38619e+07\tvalid_1's rmse: 6402.93\tvalid_1's l2: 4.09975e+07\n",
      "[500]\ttraining's rmse: 5631.59\ttraining's l2: 3.17148e+07\tvalid_1's rmse: 6266.2\tvalid_1's l2: 3.92653e+07\n",
      "[600]\ttraining's rmse: 5482.53\ttraining's l2: 3.00582e+07\tvalid_1's rmse: 6156.64\tvalid_1's l2: 3.79042e+07\n",
      "[700]\ttraining's rmse: 5365.77\ttraining's l2: 2.87915e+07\tvalid_1's rmse: 6079.71\tvalid_1's l2: 3.69629e+07\n",
      "[800]\ttraining's rmse: 5260.95\ttraining's l2: 2.76776e+07\tvalid_1's rmse: 6017.87\tvalid_1's l2: 3.62148e+07\n",
      "[900]\ttraining's rmse: 5172.65\ttraining's l2: 2.67563e+07\tvalid_1's rmse: 5967.14\tvalid_1's l2: 3.56067e+07\n",
      "[1000]\ttraining's rmse: 5100.08\ttraining's l2: 2.60108e+07\tvalid_1's rmse: 5928.01\tvalid_1's l2: 3.51413e+07\n",
      "[1100]\ttraining's rmse: 5030.28\ttraining's l2: 2.53037e+07\tvalid_1's rmse: 5891.56\tvalid_1's l2: 3.47104e+07\n",
      "[1200]\ttraining's rmse: 4970.31\ttraining's l2: 2.4704e+07\tvalid_1's rmse: 5862.71\tvalid_1's l2: 3.43713e+07\n",
      "[1300]\ttraining's rmse: 4910.21\ttraining's l2: 2.41102e+07\tvalid_1's rmse: 5832.14\tvalid_1's l2: 3.40139e+07\n",
      "[1400]\ttraining's rmse: 4855.46\ttraining's l2: 2.35754e+07\tvalid_1's rmse: 5806.36\tvalid_1's l2: 3.37138e+07\n",
      "[1500]\ttraining's rmse: 4808.91\ttraining's l2: 2.31256e+07\tvalid_1's rmse: 5786.6\tvalid_1's l2: 3.34847e+07\n",
      "[1600]\ttraining's rmse: 4762.3\ttraining's l2: 2.26795e+07\tvalid_1's rmse: 5766.67\tvalid_1's l2: 3.32545e+07\n",
      "[1700]\ttraining's rmse: 4718.19\ttraining's l2: 2.22614e+07\tvalid_1's rmse: 5749.29\tvalid_1's l2: 3.30543e+07\n",
      "[1800]\ttraining's rmse: 4682.04\ttraining's l2: 2.19215e+07\tvalid_1's rmse: 5738.33\tvalid_1's l2: 3.29285e+07\n",
      "[1900]\ttraining's rmse: 4645.86\ttraining's l2: 2.1584e+07\tvalid_1's rmse: 5725.4\tvalid_1's l2: 3.27802e+07\n",
      "[2000]\ttraining's rmse: 4611.38\ttraining's l2: 2.12648e+07\tvalid_1's rmse: 5715.9\tvalid_1's l2: 3.26715e+07\n",
      "[2100]\ttraining's rmse: 4580.83\ttraining's l2: 2.0984e+07\tvalid_1's rmse: 5705.45\tvalid_1's l2: 3.25522e+07\n",
      "[2200]\ttraining's rmse: 4548.52\ttraining's l2: 2.0689e+07\tvalid_1's rmse: 5695.97\tvalid_1's l2: 3.24441e+07\n",
      "[2300]\ttraining's rmse: 4516.17\ttraining's l2: 2.03957e+07\tvalid_1's rmse: 5686.42\tvalid_1's l2: 3.23354e+07\n",
      "[2400]\ttraining's rmse: 4484.3\ttraining's l2: 2.0109e+07\tvalid_1's rmse: 5676.63\tvalid_1's l2: 3.22241e+07\n",
      "[2500]\ttraining's rmse: 4455.1\ttraining's l2: 1.98479e+07\tvalid_1's rmse: 5668.74\tvalid_1's l2: 3.21346e+07\n",
      "[2600]\ttraining's rmse: 4425.64\ttraining's l2: 1.95863e+07\tvalid_1's rmse: 5662.42\tvalid_1's l2: 3.2063e+07\n",
      "[2700]\ttraining's rmse: 4400.38\ttraining's l2: 1.93634e+07\tvalid_1's rmse: 5655.9\tvalid_1's l2: 3.19893e+07\n",
      "[2800]\ttraining's rmse: 4373.17\ttraining's l2: 1.91247e+07\tvalid_1's rmse: 5649.2\tvalid_1's l2: 3.19134e+07\n",
      "[2900]\ttraining's rmse: 4343.1\ttraining's l2: 1.88625e+07\tvalid_1's rmse: 5641.03\tvalid_1's l2: 3.18212e+07\n",
      "[3000]\ttraining's rmse: 4314.17\ttraining's l2: 1.8612e+07\tvalid_1's rmse: 5634.38\tvalid_1's l2: 3.17462e+07\n",
      "Did not meet early stopping. Best iteration is:\n",
      "[3013]\ttraining's rmse: 4310.6\ttraining's l2: 1.85813e+07\tvalid_1's rmse: 5633.24\tvalid_1's l2: 3.17334e+07\n"
     ]
    },
    {
     "name": "stderr",
     "output_type": "stream",
     "text": [
      "[I 2024-03-28 09:40:50,282] Trial 2 finished with value: 5633.2428980216055 and parameters: {'n_estimators': 3013, 'max_depth': 17, 'num_leaves': 952, 'min_child_samples': 373, 'feature_fraction': 0.9498075226750793, 'bagging_fraction': 0.59117298004789, 'lambda_l1': 0.00010238565136602412, 'lambda_l2': 4.215862576048331e-06}. Best is trial 1 with value: 5530.05823486167.\n"
     ]
    },
    {
     "name": "stdout",
     "output_type": "stream",
     "text": [
      "Training until validation scores don't improve for 50 rounds\n",
      "[100]\ttraining's rmse: 7297.23\ttraining's l2: 5.32496e+07\tvalid_1's rmse: 7698.74\tvalid_1's l2: 5.92706e+07\n",
      "[200]\ttraining's rmse: 6482.46\ttraining's l2: 4.20223e+07\tvalid_1's rmse: 6970.61\tvalid_1's l2: 4.85895e+07\n",
      "[300]\ttraining's rmse: 6058.06\ttraining's l2: 3.67001e+07\tvalid_1's rmse: 6622.42\tvalid_1's l2: 4.38565e+07\n",
      "[400]\ttraining's rmse: 5777.84\ttraining's l2: 3.33834e+07\tvalid_1's rmse: 6419.77\tvalid_1's l2: 4.12135e+07\n",
      "[500]\ttraining's rmse: 5574.64\ttraining's l2: 3.10766e+07\tvalid_1's rmse: 6285.12\tvalid_1's l2: 3.95027e+07\n",
      "[600]\ttraining's rmse: 5407.38\ttraining's l2: 2.92398e+07\tvalid_1's rmse: 6181.45\tvalid_1's l2: 3.82104e+07\n",
      "[700]\ttraining's rmse: 5271.81\ttraining's l2: 2.7792e+07\tvalid_1's rmse: 6100.85\tvalid_1's l2: 3.72204e+07\n",
      "[800]\ttraining's rmse: 5155.37\ttraining's l2: 2.65778e+07\tvalid_1's rmse: 6031.63\tvalid_1's l2: 3.63806e+07\n",
      "[900]\ttraining's rmse: 5053.17\ttraining's l2: 2.55345e+07\tvalid_1's rmse: 5978.38\tvalid_1's l2: 3.5741e+07\n",
      "[1000]\ttraining's rmse: 4962.03\ttraining's l2: 2.46218e+07\tvalid_1's rmse: 5932.33\tvalid_1's l2: 3.51925e+07\n",
      "[1100]\ttraining's rmse: 4884.37\ttraining's l2: 2.38571e+07\tvalid_1's rmse: 5896.28\tvalid_1's l2: 3.47662e+07\n",
      "[1200]\ttraining's rmse: 4812.49\ttraining's l2: 2.31601e+07\tvalid_1's rmse: 5863.52\tvalid_1's l2: 3.43809e+07\n",
      "[1300]\ttraining's rmse: 4748.61\ttraining's l2: 2.25493e+07\tvalid_1's rmse: 5835.66\tvalid_1's l2: 3.40549e+07\n",
      "[1400]\ttraining's rmse: 4690.4\ttraining's l2: 2.19998e+07\tvalid_1's rmse: 5811.77\tvalid_1's l2: 3.37767e+07\n",
      "[1500]\ttraining's rmse: 4634.32\ttraining's l2: 2.14769e+07\tvalid_1's rmse: 5788.85\tvalid_1's l2: 3.35108e+07\n",
      "[1600]\ttraining's rmse: 4577.52\ttraining's l2: 2.09537e+07\tvalid_1's rmse: 5765.78\tvalid_1's l2: 3.32443e+07\n",
      "[1700]\ttraining's rmse: 4526.52\ttraining's l2: 2.04894e+07\tvalid_1's rmse: 5745.34\tvalid_1's l2: 3.30089e+07\n",
      "Did not meet early stopping. Best iteration is:\n",
      "[1728]\ttraining's rmse: 4513.91\ttraining's l2: 2.03754e+07\tvalid_1's rmse: 5740.05\tvalid_1's l2: 3.29481e+07\n"
     ]
    },
    {
     "name": "stderr",
     "output_type": "stream",
     "text": [
      "[I 2024-03-28 09:41:52,060] Trial 3 finished with value: 5740.047066435013 and parameters: {'n_estimators': 1728, 'max_depth': 39, 'num_leaves': 989, 'min_child_samples': 487, 'feature_fraction': 0.9746757802324266, 'bagging_fraction': 0.9242736342607145, 'lambda_l1': 3.720254767133898e-05, 'lambda_l2': 1.5002527580161077e-07}. Best is trial 1 with value: 5530.05823486167.\n"
     ]
    },
    {
     "name": "stdout",
     "output_type": "stream",
     "text": [
      "Training until validation scores don't improve for 50 rounds\n",
      "[100]\ttraining's rmse: 6659.82\ttraining's l2: 4.43531e+07\tvalid_1's rmse: 7124.54\tvalid_1's l2: 5.07591e+07\n",
      "[200]\ttraining's rmse: 5818.44\ttraining's l2: 3.38542e+07\tvalid_1's rmse: 6466.92\tvalid_1's l2: 4.18211e+07\n",
      "[300]\ttraining's rmse: 5412.25\ttraining's l2: 2.92925e+07\tvalid_1's rmse: 6178.91\tvalid_1's l2: 3.81789e+07\n",
      "[400]\ttraining's rmse: 5168.93\ttraining's l2: 2.67178e+07\tvalid_1's rmse: 6023.04\tvalid_1's l2: 3.62771e+07\n",
      "[500]\ttraining's rmse: 4983.34\ttraining's l2: 2.48337e+07\tvalid_1's rmse: 5923.61\tvalid_1's l2: 3.50891e+07\n",
      "[600]\ttraining's rmse: 4837.18\ttraining's l2: 2.33983e+07\tvalid_1's rmse: 5862.52\tvalid_1's l2: 3.43691e+07\n",
      "[700]\ttraining's rmse: 4728.2\ttraining's l2: 2.23558e+07\tvalid_1's rmse: 5813.87\tvalid_1's l2: 3.38011e+07\n",
      "[800]\ttraining's rmse: 4626.23\ttraining's l2: 2.1402e+07\tvalid_1's rmse: 5779.55\tvalid_1's l2: 3.34032e+07\n",
      "[900]\ttraining's rmse: 4531.27\ttraining's l2: 2.05324e+07\tvalid_1's rmse: 5750.45\tvalid_1's l2: 3.30677e+07\n",
      "[1000]\ttraining's rmse: 4445.79\ttraining's l2: 1.9765e+07\tvalid_1's rmse: 5723.43\tvalid_1's l2: 3.27577e+07\n",
      "[1100]\ttraining's rmse: 4357.63\ttraining's l2: 1.89889e+07\tvalid_1's rmse: 5700.86\tvalid_1's l2: 3.24999e+07\n",
      "[1200]\ttraining's rmse: 4290.52\ttraining's l2: 1.84086e+07\tvalid_1's rmse: 5686.13\tvalid_1's l2: 3.2332e+07\n",
      "[1300]\ttraining's rmse: 4218.08\ttraining's l2: 1.77922e+07\tvalid_1's rmse: 5666.7\tvalid_1's l2: 3.21115e+07\n",
      "[1400]\ttraining's rmse: 4158.35\ttraining's l2: 1.72919e+07\tvalid_1's rmse: 5651.66\tvalid_1's l2: 3.19413e+07\n",
      "[1500]\ttraining's rmse: 4101.28\ttraining's l2: 1.68205e+07\tvalid_1's rmse: 5641.67\tvalid_1's l2: 3.18284e+07\n",
      "[1600]\ttraining's rmse: 4041.61\ttraining's l2: 1.63346e+07\tvalid_1's rmse: 5629.72\tvalid_1's l2: 3.16938e+07\n",
      "[1700]\ttraining's rmse: 3987.05\ttraining's l2: 1.58966e+07\tvalid_1's rmse: 5620.06\tvalid_1's l2: 3.15851e+07\n",
      "[1800]\ttraining's rmse: 3939.86\ttraining's l2: 1.55225e+07\tvalid_1's rmse: 5615.34\tvalid_1's l2: 3.1532e+07\n",
      "[1900]\ttraining's rmse: 3891.65\ttraining's l2: 1.51449e+07\tvalid_1's rmse: 5610.54\tvalid_1's l2: 3.14782e+07\n",
      "[2000]\ttraining's rmse: 3849.31\ttraining's l2: 1.48172e+07\tvalid_1's rmse: 5606.63\tvalid_1's l2: 3.14343e+07\n",
      "[2100]\ttraining's rmse: 3807.14\ttraining's l2: 1.44943e+07\tvalid_1's rmse: 5602.52\tvalid_1's l2: 3.13882e+07\n",
      "Early stopping, best iteration is:\n",
      "[2133]\ttraining's rmse: 3792.32\ttraining's l2: 1.43817e+07\tvalid_1's rmse: 5600.74\tvalid_1's l2: 3.13682e+07\n"
     ]
    },
    {
     "name": "stderr",
     "output_type": "stream",
     "text": [
      "[I 2024-03-28 09:42:27,438] Trial 4 finished with value: 5600.7362682284065 and parameters: {'n_estimators': 4436, 'max_depth': 14, 'num_leaves': 251, 'min_child_samples': 120, 'feature_fraction': 0.8883064919419235, 'bagging_fraction': 0.7457023584127582, 'lambda_l1': 0.00037733126515602193, 'lambda_l2': 5.4048215421845396e-05}. Best is trial 1 with value: 5530.05823486167.\n"
     ]
    },
    {
     "name": "stdout",
     "output_type": "stream",
     "text": [
      "[LightGBM] [Warning] feature_fraction is set=0.9592111410711301, colsample_bytree=1.0 will be ignored. Current value: feature_fraction=0.9592111410711301\n",
      "[LightGBM] [Warning] lambda_l2 is set=1.9910789868692976e-07, reg_lambda=0.0 will be ignored. Current value: lambda_l2=1.9910789868692976e-07\n",
      "[LightGBM] [Warning] lambda_l1 is set=5.5208157879714006e-05, reg_alpha=0.0 will be ignored. Current value: lambda_l1=5.5208157879714006e-05\n",
      "[LightGBM] [Warning] bagging_fraction is set=0.6666926617089871, subsample=1.0 will be ignored. Current value: bagging_fraction=0.6666926617089871\n",
      "[LightGBM] [Warning] feature_fraction is set=0.9592111410711301, colsample_bytree=1.0 will be ignored. Current value: feature_fraction=0.9592111410711301\n",
      "[LightGBM] [Warning] lambda_l2 is set=1.9910789868692976e-07, reg_lambda=0.0 will be ignored. Current value: lambda_l2=1.9910789868692976e-07\n",
      "[LightGBM] [Warning] lambda_l1 is set=5.5208157879714006e-05, reg_alpha=0.0 will be ignored. Current value: lambda_l1=5.5208157879714006e-05\n",
      "[LightGBM] [Warning] bagging_fraction is set=0.6666926617089871, subsample=1.0 will be ignored. Current value: bagging_fraction=0.6666926617089871\n",
      "[LightGBM] [Warning] Auto-choosing row-wise multi-threading, the overhead of testing was 0.003385 seconds.\n",
      "You can set `force_row_wise=true` to remove the overhead.\n",
      "And if memory is not enough, you can set `force_col_wise=true`.\n",
      "[LightGBM] [Info] Total Bins 2017\n",
      "[LightGBM] [Info] Number of data points in the train set: 895057, number of used features: 13\n",
      "[LightGBM] [Warning] feature_fraction is set=0.9592111410711301, colsample_bytree=1.0 will be ignored. Current value: feature_fraction=0.9592111410711301\n",
      "[LightGBM] [Warning] lambda_l2 is set=1.9910789868692976e-07, reg_lambda=0.0 will be ignored. Current value: lambda_l2=1.9910789868692976e-07\n",
      "[LightGBM] [Warning] lambda_l1 is set=5.5208157879714006e-05, reg_alpha=0.0 will be ignored. Current value: lambda_l1=5.5208157879714006e-05\n",
      "[LightGBM] [Warning] bagging_fraction is set=0.6666926617089871, subsample=1.0 will be ignored. Current value: bagging_fraction=0.6666926617089871\n",
      "[LightGBM] [Info] Start training from score 58000.483999\n",
      "Training until validation scores don't improve for 50 rounds\n",
      "[100]\ttraining's rmse: 6963.73\ttraining's l2: 4.84935e+07\tvalid_1's rmse: 7339.66\tvalid_1's l2: 5.38706e+07\n",
      "[200]\ttraining's rmse: 6093.93\ttraining's l2: 3.71359e+07\tvalid_1's rmse: 6617.83\tvalid_1's l2: 4.37956e+07\n",
      "[300]\ttraining's rmse: 5668.07\ttraining's l2: 3.2127e+07\tvalid_1's rmse: 6299.93\tvalid_1's l2: 3.96891e+07\n",
      "[400]\ttraining's rmse: 5395.51\ttraining's l2: 2.91115e+07\tvalid_1's rmse: 6121.65\tvalid_1's l2: 3.74746e+07\n",
      "[500]\ttraining's rmse: 5193.26\ttraining's l2: 2.69699e+07\tvalid_1's rmse: 5995.68\tvalid_1's l2: 3.59482e+07\n",
      "[600]\ttraining's rmse: 5035.03\ttraining's l2: 2.53516e+07\tvalid_1's rmse: 5903.96\tvalid_1's l2: 3.48568e+07\n",
      "[700]\ttraining's rmse: 4902.54\ttraining's l2: 2.40349e+07\tvalid_1's rmse: 5834.69\tvalid_1's l2: 3.40436e+07\n",
      "[800]\ttraining's rmse: 4783.46\ttraining's l2: 2.28815e+07\tvalid_1's rmse: 5780.15\tvalid_1's l2: 3.34102e+07\n",
      "[900]\ttraining's rmse: 4676.7\ttraining's l2: 2.18716e+07\tvalid_1's rmse: 5735.5\tvalid_1's l2: 3.2896e+07\n",
      "[1000]\ttraining's rmse: 4585.89\ttraining's l2: 2.10304e+07\tvalid_1's rmse: 5705.96\tvalid_1's l2: 3.2558e+07\n",
      "[1100]\ttraining's rmse: 4503\ttraining's l2: 2.0277e+07\tvalid_1's rmse: 5676.34\tvalid_1's l2: 3.22208e+07\n",
      "[1200]\ttraining's rmse: 4427.09\ttraining's l2: 1.95992e+07\tvalid_1's rmse: 5654.77\tvalid_1's l2: 3.19764e+07\n",
      "[LightGBM] [Warning] No further splits with positive gain, best gain: -inf\n",
      "[1300]\ttraining's rmse: 4356.82\ttraining's l2: 1.89819e+07\tvalid_1's rmse: 5634.02\tvalid_1's l2: 3.17422e+07\n",
      "[1400]\ttraining's rmse: 4289.47\ttraining's l2: 1.83995e+07\tvalid_1's rmse: 5616.14\tvalid_1's l2: 3.1541e+07\n",
      "[1500]\ttraining's rmse: 4225.58\ttraining's l2: 1.78556e+07\tvalid_1's rmse: 5598.84\tvalid_1's l2: 3.1347e+07\n",
      "[1600]\ttraining's rmse: 4163.93\ttraining's l2: 1.73383e+07\tvalid_1's rmse: 5585.27\tvalid_1's l2: 3.11952e+07\n",
      "[1700]\ttraining's rmse: 4107.88\ttraining's l2: 1.68747e+07\tvalid_1's rmse: 5574.94\tvalid_1's l2: 3.10799e+07\n",
      "[LightGBM] [Warning] No further splits with positive gain, best gain: -inf\n",
      "[LightGBM] [Warning] No further splits with positive gain, best gain: -inf\n",
      "[1800]\ttraining's rmse: 4054.94\ttraining's l2: 1.64426e+07\tvalid_1's rmse: 5566.17\tvalid_1's l2: 3.09822e+07\n",
      "[1900]\ttraining's rmse: 4005.81\ttraining's l2: 1.60465e+07\tvalid_1's rmse: 5556.91\tvalid_1's l2: 3.08793e+07\n",
      "[LightGBM] [Warning] No further splits with positive gain, best gain: -inf\n",
      "[2000]\ttraining's rmse: 3961.23\ttraining's l2: 1.56913e+07\tvalid_1's rmse: 5551.4\tvalid_1's l2: 3.0818e+07\n",
      "[2100]\ttraining's rmse: 3915.59\ttraining's l2: 1.53319e+07\tvalid_1's rmse: 5542.97\tvalid_1's l2: 3.07245e+07\n",
      "[LightGBM] [Warning] No further splits with positive gain, best gain: -inf\n",
      "[LightGBM] [Warning] No further splits with positive gain, best gain: -inf\n",
      "[2200]\ttraining's rmse: 3873.46\ttraining's l2: 1.50037e+07\tvalid_1's rmse: 5538.1\tvalid_1's l2: 3.06705e+07\n",
      "[2300]\ttraining's rmse: 3833.06\ttraining's l2: 1.46924e+07\tvalid_1's rmse: 5531.8\tvalid_1's l2: 3.06008e+07\n",
      "[LightGBM] [Warning] No further splits with positive gain, best gain: -inf\n",
      "[2400]\ttraining's rmse: 3793.73\ttraining's l2: 1.43924e+07\tvalid_1's rmse: 5530.91\tvalid_1's l2: 3.0591e+07\n",
      "Early stopping, best iteration is:\n",
      "[2358]\ttraining's rmse: 3810.1\ttraining's l2: 1.45168e+07\tvalid_1's rmse: 5530.06\tvalid_1's l2: 3.05815e+07\n"
     ]
    }
   ],
   "source": [
    "best_model = optimize_hyperparameters(n_trials=5)"
   ]
  },
  {
   "cell_type": "code",
   "execution_count": 18,
   "metadata": {},
   "outputs": [
    {
     "name": "stdout",
     "output_type": "stream",
     "text": [
      "[LightGBM] [Warning] feature_fraction is set=0.9592111410711301, colsample_bytree=1.0 will be ignored. Current value: feature_fraction=0.9592111410711301\n",
      "[LightGBM] [Warning] lambda_l2 is set=1.9910789868692976e-07, reg_lambda=0.0 will be ignored. Current value: lambda_l2=1.9910789868692976e-07\n",
      "[LightGBM] [Warning] lambda_l1 is set=5.5208157879714006e-05, reg_alpha=0.0 will be ignored. Current value: lambda_l1=5.5208157879714006e-05\n",
      "[LightGBM] [Warning] bagging_fraction is set=0.6666926617089871, subsample=1.0 will be ignored. Current value: bagging_fraction=0.6666926617089871\n"
     ]
    }
   ],
   "source": [
    "X_test = df_test.drop(['target'], axis=1)\n",
    "real_test_pred = best_model.predict(X_test)\n",
    "preds_df = pd.DataFrame(real_test_pred.astype(int), columns=[\"target\"])\n",
    "preds_df.to_csv('baseline3.csv', index=False)"
   ]
  },
  {
   "cell_type": "code",
   "execution_count": 19,
   "metadata": {},
   "outputs": [
    {
     "data": {
      "image/png": "[encoded data removed]",
      "text/plain": [
       "<Figure size 1000x800 with 1 Axes>"
      ]
     },
     "metadata": {},
     "output_type": "display_data"
    }
   ],
   "source": [
    "# 위 feature importance를 시각화해봅니다.\n",
    "importances = pd.Series(best_model.feature_importances_, index=list(X_train.columns))\n",
    "importances = importances.sort_values(ascending=False)\n",
    "\n",
    "plt.figure(figsize=(10,8))\n",
    "plt.title(\"Feature Importances\")\n",
    "sns.barplot(x=importances, y=importances.index)\n",
    "plt.show()"
   ]
  },
  {
   "cell_type": "code",
   "execution_count": null,
   "metadata": {},
   "outputs": [],
   "source": []
  }
 ],
 "metadata": {
  "kernelspec": {
   "display_name": "base",
   "language": "python",
   "name": "python3"
  },
  "language_info": {
   "codemirror_mode": {
    "name": "ipython",
    "version": 3
   },
   "file_extension": ".py",
   "mimetype": "text/x-python",
   "name": "python",
   "nbconvert_exporter": "python",
   "pygments_lexer": "ipython3",
   "version": "3.10.13"
  }
 },
 "nbformat": 4,
 "nbformat_minor": 2
}
