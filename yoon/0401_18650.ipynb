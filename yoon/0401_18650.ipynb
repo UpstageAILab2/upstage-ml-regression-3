{
 "cells": [
  {
   "cell_type": "code",
   "execution_count": 189,
   "metadata": {},
   "outputs": [],
   "source": [
    "# visualization\n",
    "import matplotlib.pyplot as plt\n",
    "import matplotlib.font_manager as fm\n",
    "fe = fm.FontEntry(\n",
    "    fname=r'/usr/share/fonts/truetype/nanum/NanumGothic.ttf', # ttf 파일이 저장되어 있는 경로\n",
    "    name='NanumBarunGothic')                        # 이 폰트의 원하는 이름 설정\n",
    "fm.fontManager.ttflist.insert(0, fe)              # Matplotlib에 폰트 추가\n",
    "plt.rcParams.update({'font.size': 10, 'font.family': 'NanumBarunGothic'}) # 폰트 설정\n",
    "plt.rc('font', family='NanumBarunGothic')\n",
    "import seaborn as sns\n",
    "\n",
    "# utils\n",
    "import pickle\n",
    "import csv\n",
    "import pandas as pd\n",
    "import numpy as np\n",
    "from tqdm import tqdm\n",
    "import pickle\n",
    "import warnings;warnings.filterwarnings('ignore')\n",
    "import gdown\n",
    "import joblib\n",
    "\n",
    "# Model\n",
    "from sklearn.preprocessing import LabelEncoder\n",
    "from sklearn.model_selection import train_test_split, TimeSeriesSplit\n",
    "from sklearn.metrics import mean_squared_error\n",
    "from sklearn.ensemble import RandomForestRegressor\n",
    "from sklearn import metrics\n",
    "import lightgbm as lgb\n",
    "\n",
    "import eli5\n",
    "from eli5.sklearn import PermutationImportance\n",
    "\n",
    "import os\n",
    "import glob\n",
    "\n",
    "# 코드 셀 실행 후 경고를 무시\n",
    "# import warnings\n",
    "# warnings.filterwarnings(action='ignore')"
   ]
  },
  {
   "cell_type": "markdown",
   "metadata": {},
   "source": [
    "### Load files"
   ]
  },
  {
   "cell_type": "code",
   "execution_count": 190,
   "metadata": {},
   "outputs": [],
   "source": [
    "base_path = \"/root/\"\n",
    "\n",
    "dt_train = pd.read_csv(base_path + \"train.csv\")\n",
    "dt_test = pd.read_csv(base_path + \"test.csv\")"
   ]
  },
  {
   "cell_type": "code",
   "execution_count": 191,
   "metadata": {},
   "outputs": [],
   "source": [
    "extra_data_path = '/root/extra_data/'"
   ]
  },
  {
   "cell_type": "markdown",
   "metadata": {},
   "source": [
    "### values needed from dt_train before merge"
   ]
  },
  {
   "cell_type": "code",
   "execution_count": 192,
   "metadata": {},
   "outputs": [],
   "source": [
    "dt_train['구'] = dt_train['시군구'].map(lambda x : x.split()[1])\n",
    "dt_train['동'] = dt_train['시군구'].map(lambda x : x.split()[2])\n",
    "# del dt_train['시군구']\n",
    "\n",
    "dt_test['구'] = dt_test['시군구'].map(lambda x : x.split()[1])\n",
    "dt_test['동'] = dt_test['시군구'].map(lambda x : x.split()[2])\n",
    "# del dt_test['시군구']"
   ]
  },
  {
   "cell_type": "code",
   "execution_count": 193,
   "metadata": {},
   "outputs": [],
   "source": [
    "dt_train = dt_train[dt_train['계약년월']>=201501]\n",
    "dt_test = dt_test[dt_test['계약년월']>=201501]"
   ]
  },
  {
   "cell_type": "code",
   "execution_count": 194,
   "metadata": {},
   "outputs": [],
   "source": [
    "dt_train_over2020 = dt_train[dt_train['계약년월']>=202001]"
   ]
  },
  {
   "cell_type": "code",
   "execution_count": 195,
   "metadata": {},
   "outputs": [],
   "source": [
    "mean_val_by_gu = dt_train_over2020.groupby(\"구\")[\"target\"].mean().sort_values(ascending=False)\n",
    "mean_val_by_dong = dt_train_over2020.groupby(\"동\")[\"target\"].mean().sort_values(ascending=False)\n",
    "std_val_by_gu = dt_train_over2020.groupby(\"구\")[\"target\"].std().sort_values(ascending=False)\n",
    "std_val_by_dong = dt_train_over2020.groupby(\"동\")[\"target\"].std().sort_values(ascending=False)"
   ]
  },
  {
   "cell_type": "markdown",
   "metadata": {},
   "source": [
    "### Load Table from pickle"
   ]
  },
  {
   "cell_type": "code",
   "execution_count": 196,
   "metadata": {},
   "outputs": [],
   "source": [
    "# pickle에서 데이터프레임 다시 불러오기\n",
    "with open('/root/data.pickle', 'rb') as f:\n",
    "    df = pickle.load(f)"
   ]
  },
  {
   "cell_type": "code",
   "execution_count": 197,
   "metadata": {},
   "outputs": [
    {
     "data": {
      "text/plain": [
       "Index(['번지', '본번', '아파트명', '전용면적(㎡)', '계약년월', '층', '건축년도', '도로명', 'target',\n",
       "       'is_test', '구', '동', '계약년', '계약월', '평균공시가격', '계약일', 'date'],\n",
       "      dtype='object')"
      ]
     },
     "execution_count": 197,
     "metadata": {},
     "output_type": "execute_result"
    }
   ],
   "source": [
    "df.columns"
   ]
  },
  {
   "cell_type": "code",
   "execution_count": 198,
   "metadata": {},
   "outputs": [],
   "source": [
    "df = df[df['계약년월']>=201501]"
   ]
  },
  {
   "cell_type": "markdown",
   "metadata": {},
   "source": [
    "### concat to process"
   ]
  },
  {
   "cell_type": "code",
   "execution_count": 199,
   "metadata": {},
   "outputs": [],
   "source": [
    "# train/test 구분을 위한 칼럼을 하나 만들어 줍니다.\n",
    "dt_train['is_test'] = 0\n",
    "dt_test['is_test'] = 1"
   ]
  },
  {
   "cell_type": "code",
   "execution_count": 200,
   "metadata": {},
   "outputs": [],
   "source": [
    "dt = pd.concat([dt_train, dt_test])"
   ]
  },
  {
   "cell_type": "code",
   "execution_count": 201,
   "metadata": {},
   "outputs": [
    {
     "data": {
      "text/plain": [
       "0    636736\n",
       "1      9272\n",
       "Name: is_test, dtype: int64"
      ]
     },
     "execution_count": 201,
     "metadata": {},
     "output_type": "execute_result"
    }
   ],
   "source": [
    "dt['is_test'].value_counts()"
   ]
  },
  {
   "cell_type": "code",
   "execution_count": 202,
   "metadata": {},
   "outputs": [],
   "source": [
    "df['large_std_동'] = df['동']\n",
    "df.drop(['동'], axis=1, inplace=True)"
   ]
  },
  {
   "cell_type": "code",
   "execution_count": 203,
   "metadata": {},
   "outputs": [],
   "source": [
    "dt = dt.reset_index()"
   ]
  },
  {
   "cell_type": "code",
   "execution_count": 204,
   "metadata": {},
   "outputs": [],
   "source": [
    "df['동'] = dt['동']"
   ]
  },
  {
   "cell_type": "markdown",
   "metadata": {},
   "source": [
    "### 구 동 encoding of df"
   ]
  },
  {
   "cell_type": "code",
   "execution_count": 205,
   "metadata": {},
   "outputs": [],
   "source": [
    "order1_mean_gu = mean_val_by_gu.index.tolist()\n",
    "order2_mean_dong = mean_val_by_dong.index.tolist()\n",
    "order3_std_gu = std_val_by_gu.index.tolist()\n",
    "order4_std_dong = std_val_by_dong.index.tolist()\n",
    "\n",
    "# Create a dictionary to map district names to their corresponding label encoded values\n",
    "gu_mapping1 = {district: label for label, district in enumerate(order1_mean_gu)}\n",
    "gu_mapping2 = {district: label for label, district in enumerate(order3_std_gu)}\n",
    "dong_mapping1 = {dong: label for label, dong in enumerate(order2_mean_dong)}\n",
    "dong_mapping2 = {dong: label for label, dong in enumerate(order4_std_dong)}\n",
    "\n",
    "df['구_encoded'] = df[\"구\"].map(gu_mapping1)\n",
    "df['구_std'] = df[\"구\"].map(gu_mapping2)\n",
    "df['동_encoded'] = df[\"동\"].map(dong_mapping1)\n",
    "df['동_std'] = df[\"동\"].map(dong_mapping2)"
   ]
  },
  {
   "cell_type": "code",
   "execution_count": 206,
   "metadata": {},
   "outputs": [],
   "source": [
    "df['yrs_diff'] = df['계약년월'].map(lambda x : x // 100) - df['건축년도']"
   ]
  },
  {
   "cell_type": "code",
   "execution_count": 207,
   "metadata": {},
   "outputs": [],
   "source": [
    "df['is_public'] = dt[\"k-전용면적별세대현황(60㎡이하)\"].notnull()"
   ]
  },
  {
   "cell_type": "markdown",
   "metadata": {},
   "source": [
    "### 년도에따라 동, 구별 statistics 추가"
   ]
  },
  {
   "cell_type": "code",
   "execution_count": 208,
   "metadata": {},
   "outputs": [],
   "source": [
    "# df.drop(['아파트명'], axis=1, inplace=True)"
   ]
  },
  {
   "cell_type": "code",
   "execution_count": 209,
   "metadata": {},
   "outputs": [],
   "source": [
    "stats = df.groupby(['계약년', '구'])['target'].agg(['std', 'mean', 'max'])\n",
    "df = df.join(stats, on=['계약년', '구'], rsuffix='_target')"
   ]
  },
  {
   "cell_type": "code",
   "execution_count": 210,
   "metadata": {},
   "outputs": [],
   "source": [
    "df['계약년과구에따른std'] = df['std']\n",
    "df['계약년과구에따른mean'] = df['mean']\n",
    "df['계약년과구에따른max'] = df['max']\n",
    "df.drop(['std', 'mean', 'max'], axis=1, inplace=True)"
   ]
  },
  {
   "cell_type": "code",
   "execution_count": 211,
   "metadata": {},
   "outputs": [],
   "source": [
    "stats = df.groupby(['계약년', '동'])['target'].agg(['std', 'mean', 'max'])\n",
    "df = df.join(stats, on=['계약년', '동'], rsuffix='_target')"
   ]
  },
  {
   "cell_type": "code",
   "execution_count": 212,
   "metadata": {},
   "outputs": [],
   "source": [
    "df['계약년과동에따른std'] = df['std']\n",
    "df['계약년과동에따른mean'] = df['mean']\n",
    "df['계약년과동에따른max'] = df['max']\n",
    "df.drop(['std', 'mean', 'max'], axis=1, inplace=True)"
   ]
  },
  {
   "cell_type": "code",
   "execution_count": 213,
   "metadata": {},
   "outputs": [],
   "source": [
    "# '계약년과동에따른std', '계약년과동에따른mean', '계약년과동에따른max'의 null 값을\n",
    "# '계약년과구에따른std', '계약년과구에따른mean', '계약년과구에따른max'의 값으로 채우기\n",
    "df['계약년과동에따른std'] = df['계약년과동에따른std'].fillna(df['계약년과구에따른std'])\n",
    "df['계약년과동에따른mean'] = df['계약년과동에따른mean'].fillna(df['계약년과구에따른mean'])\n",
    "df['계약년과동에따른max'] = df['계약년과동에따른max'].fillna(df['계약년과구에따른max'])"
   ]
  },
  {
   "cell_type": "markdown",
   "metadata": {},
   "source": [
    "### yrs_diff 에따른 통계량 추가"
   ]
  },
  {
   "cell_type": "code",
   "execution_count": 163,
   "metadata": {},
   "outputs": [],
   "source": [
    "# stats = df.groupby(['yrs_diff', '구'])['target'].agg(['std', 'mean', 'max'])\n",
    "# df = df.join(stats, on=['yrs_diff', '구'], rsuffix='_target')"
   ]
  },
  {
   "cell_type": "code",
   "execution_count": 164,
   "metadata": {},
   "outputs": [],
   "source": [
    "# df['yrs_diff와구에따른std'] = df['std']\n",
    "# df['yrs_diff와구에따른mean'] = df['mean']\n",
    "# df['yrs_diff와구에따른max'] = df['max']\n",
    "# df.drop(['std', 'mean', 'max'], axis=1, inplace=True)"
   ]
  },
  {
   "cell_type": "code",
   "execution_count": 165,
   "metadata": {},
   "outputs": [],
   "source": [
    "# stats = df.groupby(['yrs_diff', '동'])['target'].agg(['std', 'mean', 'max'])\n",
    "# df = df.join(stats, on=['yrs_diff', '동'], rsuffix='_target')"
   ]
  },
  {
   "cell_type": "code",
   "execution_count": 166,
   "metadata": {},
   "outputs": [],
   "source": [
    "# df['yrs_diff와동에따른std'] = df['std']\n",
    "# df['yrs_diff와동에따른mean'] = df['mean']\n",
    "# df['yrs_diff와동에따른max'] = df['max']\n",
    "# df.drop(['std', 'mean', 'max'], axis=1, inplace=True)"
   ]
  },
  {
   "cell_type": "code",
   "execution_count": 167,
   "metadata": {},
   "outputs": [],
   "source": [
    "# # '계약년과동에따른std', '계약년과동에따른mean', '계약년과동에따른max'의 null 값을\n",
    "# # '계약년과구에따른std', '계약년과구에따른mean', '계약년과구에따른max'의 값으로 채우기\n",
    "# df['yrs_diff와동에따른std'] = df['yrs_diff와동에따른std'].fillna(df['yrs_diff와구에따른std'])\n",
    "# df['yrs_diff와동에따른mean'] = df['yrs_diff와동에따른mean'].fillna(df['yrs_diff와구에따른mean'])\n",
    "# df['yrs_diff와동에따른max'] = df['yrs_diff와동에따른max'].fillna(df['yrs_diff와구에따른max'])"
   ]
  },
  {
   "cell_type": "code",
   "execution_count": 214,
   "metadata": {},
   "outputs": [],
   "source": [
    "df.drop(['동', 'large_std_동', '본번', '계약년과구에따른std', '계약년과구에따른mean', '계약년과구에따른max'], axis=1, inplace=True)"
   ]
  },
  {
   "cell_type": "markdown",
   "metadata": {},
   "source": [
    "### KOSPI 종가 delay"
   ]
  },
  {
   "cell_type": "code",
   "execution_count": 215,
   "metadata": {},
   "outputs": [],
   "source": [
    "# # Use glob to find all files that match the pattern\n",
    "# file_paths = glob.glob(extra_data_path + \"/KOSPI_*.csv\")\n",
    "\n",
    "# # Initialize an empty list to store the dataframes\n",
    "# dfs = []\n",
    "\n",
    "# # Iterate over the file paths and read each CSV file into a dataframe\n",
    "# for file_path in file_paths:\n",
    "#     kospi_df_yr = pd.read_csv(file_path, encoding=\"euc-kr\")\n",
    "#     dfs.append(kospi_df_yr)\n",
    "\n",
    "# kospi_df = pd.concat(dfs, ignore_index=True)\n",
    "# kospi_df = kospi_df.drop(columns=['시가', '고가', '저가'])"
   ]
  },
  {
   "cell_type": "code",
   "execution_count": 216,
   "metadata": {},
   "outputs": [],
   "source": [
    "# kospi_df.rename(columns={\"일자\":\"date\", \"종가\":\"Close\"}, inplace=True)\n",
    "# kospi_df[\"date\"] = kospi_df['date'].str.replace('/', '-')\n",
    "# kospi_df[\"date\"] = pd.to_datetime(kospi_df[\"date\"])\n",
    "# kospi_df.sort_values(by='date', ascending=True, inplace=True)"
   ]
  },
  {
   "cell_type": "code",
   "execution_count": 217,
   "metadata": {},
   "outputs": [],
   "source": [
    "# kospi_df[\"Close_delay120d\"] = kospi_df[\"Close\"].shift(120)"
   ]
  },
  {
   "cell_type": "code",
   "execution_count": 218,
   "metadata": {},
   "outputs": [],
   "source": [
    "# df.columns"
   ]
  },
  {
   "cell_type": "code",
   "execution_count": 219,
   "metadata": {},
   "outputs": [],
   "source": [
    "df['date'] = pd.to_datetime(df['계약년'].astype(str) + '-' + df['계약월'].astype(str) + '-' + df['계약일'].astype(str))"
   ]
  },
  {
   "cell_type": "code",
   "execution_count": 220,
   "metadata": {},
   "outputs": [],
   "source": [
    "# df = pd.merge(left=df, right=kospi_df, on='date', how='left')"
   ]
  },
  {
   "cell_type": "code",
   "execution_count": 221,
   "metadata": {},
   "outputs": [],
   "source": [
    "# df.drop(columns=['Close', '대비', '등락률', '거래량', '거래대금', '상장시가총액'], inplace=True)"
   ]
  },
  {
   "cell_type": "code",
   "execution_count": 222,
   "metadata": {},
   "outputs": [],
   "source": [
    "# df[\"Close_delay120d\"] = df[\"Close_delay120d\"].interpolate(method='linear', axis=0)"
   ]
  },
  {
   "cell_type": "code",
   "execution_count": 223,
   "metadata": {},
   "outputs": [],
   "source": [
    "df['date'] = df['date'].astype(str)"
   ]
  },
  {
   "cell_type": "code",
   "execution_count": 225,
   "metadata": {},
   "outputs": [],
   "source": [
    "df.drop(['구', '구_std', '동_std', '계약년월', '계약년', '계약월', '계약일'], axis=1, inplace=True)"
   ]
  },
  {
   "cell_type": "markdown",
   "metadata": {},
   "source": [
    "### 면적당단가 적용"
   ]
  },
  {
   "cell_type": "code",
   "execution_count": 226,
   "metadata": {},
   "outputs": [
    {
     "data": {
      "text/plain": [
       "Index(['번지', '아파트명', '전용면적(㎡)', '층', '건축년도', '도로명', 'target', 'is_test',\n",
       "       '평균공시가격', 'date', '구_encoded', '동_encoded', 'yrs_diff', 'is_public',\n",
       "       '계약년과동에따른std', '계약년과동에따른mean', '계약년과동에따른max'],\n",
       "      dtype='object')"
      ]
     },
     "execution_count": 226,
     "metadata": {},
     "output_type": "execute_result"
    }
   ],
   "source": [
    "df.columns"
   ]
  },
  {
   "cell_type": "code",
   "execution_count": 227,
   "metadata": {},
   "outputs": [],
   "source": [
    "df['ann_price_per_area'] = df['평균공시가격'] / df['전용면적(㎡)']"
   ]
  },
  {
   "cell_type": "code",
   "execution_count": 228,
   "metadata": {},
   "outputs": [
    {
     "data": {
      "text/plain": [
       "0"
      ]
     },
     "execution_count": 228,
     "metadata": {},
     "output_type": "execute_result"
    }
   ],
   "source": [
    "df['ann_price_per_area'].isnull().sum()"
   ]
  },
  {
   "cell_type": "code",
   "execution_count": 229,
   "metadata": {},
   "outputs": [],
   "source": [
    "df['target_price_per_area'] = df['target'] / df['전용면적(㎡)']"
   ]
  },
  {
   "cell_type": "code",
   "execution_count": 230,
   "metadata": {},
   "outputs": [
    {
     "data": {
      "text/plain": [
       "9272"
      ]
     },
     "execution_count": 230,
     "metadata": {},
     "output_type": "execute_result"
    }
   ],
   "source": [
    "df['target_price_per_area'].isnull().sum()"
   ]
  },
  {
   "cell_type": "code",
   "execution_count": 231,
   "metadata": {},
   "outputs": [],
   "source": [
    "# Sort the DataFrame by '도로명', '전용면적', and any relevant time column (if available)\n",
    "df_sorted = df.sort_values(by=['도로명', '전용면적(㎡)', 'date'], ascending=True)\n",
    "\n",
    "# Forward fill missing values in 'price_per_area' based on '도로명' and '전용면적'\n",
    "df['target_price_per_area'] = df_sorted.groupby(['도로명', '전용면적(㎡)'])['target_price_per_area'].ffill()\n",
    "\n",
    "# If there are any remaining missing values after forward fill, you can backfill them\n",
    "df['target_price_per_area'] = df['target_price_per_area'].bfill()"
   ]
  },
  {
   "cell_type": "code",
   "execution_count": 232,
   "metadata": {},
   "outputs": [
    {
     "data": {
      "text/plain": [
       "0"
      ]
     },
     "execution_count": 232,
     "metadata": {},
     "output_type": "execute_result"
    }
   ],
   "source": [
    "df['target_price_per_area'].isnull().sum()"
   ]
  },
  {
   "cell_type": "code",
   "execution_count": 233,
   "metadata": {},
   "outputs": [],
   "source": [
    "df['over_240'] = df['전용면적(㎡)'].apply(lambda x: 1 if x > 240 else 0)"
   ]
  },
  {
   "cell_type": "code",
   "execution_count": 234,
   "metadata": {},
   "outputs": [
    {
     "data": {
      "text/plain": [
       "0    645029\n",
       "1       979\n",
       "Name: over_240, dtype: int64"
      ]
     },
     "execution_count": 234,
     "metadata": {},
     "output_type": "execute_result"
    }
   ],
   "source": [
    "df['over_240'].value_counts()"
   ]
  },
  {
   "cell_type": "code",
   "execution_count": 235,
   "metadata": {},
   "outputs": [
    {
     "data": {
      "text/plain": [
       "Index(['번지', '아파트명', '전용면적(㎡)', '층', '건축년도', '도로명', 'target', 'is_test',\n",
       "       '평균공시가격', 'date', '구_encoded', '동_encoded', 'yrs_diff', 'is_public',\n",
       "       '계약년과동에따른std', '계약년과동에따른mean', '계약년과동에따른max', 'ann_price_per_area',\n",
       "       'target_price_per_area', 'over_240'],\n",
       "      dtype='object')"
      ]
     },
     "execution_count": 235,
     "metadata": {},
     "output_type": "execute_result"
    }
   ],
   "source": [
    "df.columns"
   ]
  },
  {
   "cell_type": "code",
   "execution_count": 236,
   "metadata": {},
   "outputs": [],
   "source": [
    "df['maxfl'] = df_sorted.groupby('아파트명')['층'].transform('max')\n",
    "df['is_maxfl'] = (df['층'] == df['maxfl']).astype(int)"
   ]
  },
  {
   "cell_type": "code",
   "execution_count": 237,
   "metadata": {},
   "outputs": [
    {
     "data": {
      "text/plain": [
       "0    618907\n",
       "1     27101\n",
       "Name: is_maxfl, dtype: int64"
      ]
     },
     "execution_count": 237,
     "metadata": {},
     "output_type": "execute_result"
    }
   ],
   "source": [
    "df['is_maxfl'].value_counts()"
   ]
  },
  {
   "cell_type": "code",
   "execution_count": 238,
   "metadata": {},
   "outputs": [],
   "source": [
    "del df['maxfl']"
   ]
  },
  {
   "cell_type": "markdown",
   "metadata": {},
   "source": [
    "### Feature Engineering"
   ]
  },
  {
   "cell_type": "markdown",
   "metadata": {},
   "source": [
    "### Train"
   ]
  },
  {
   "cell_type": "code",
   "execution_count": 239,
   "metadata": {},
   "outputs": [
    {
     "name": "stdout",
     "output_type": "stream",
     "text": [
      "(636736, 20) (9272, 20)\n"
     ]
    }
   ],
   "source": [
    "df_train = df.loc[df['is_test']==0, :]\n",
    "df_test = df.loc[df['is_test']==1, :]\n",
    "\n",
    "df_train.drop(['is_test'], axis=1, inplace=True)\n",
    "df_test.drop(['is_test'], axis=1, inplace=True)\n",
    "print(df_train.shape, df_test.shape)"
   ]
  },
  {
   "cell_type": "code",
   "execution_count": 240,
   "metadata": {},
   "outputs": [
    {
     "name": "stdout",
     "output_type": "stream",
     "text": [
      "연속형 변수: ['전용면적(㎡)', '층', '건축년도', 'target', '평균공시가격', '구_encoded', '동_encoded', 'yrs_diff', '계약년과동에따른std', '계약년과동에따른mean', '계약년과동에따른max', 'ann_price_per_area', 'target_price_per_area', 'over_240', 'is_maxfl']\n",
      "범주형 변수: ['번지', '아파트명', '도로명', 'date', 'is_public']\n"
     ]
    }
   ],
   "source": [
    "# 변수 삭제 및 파생변수 제작으로 추가된 변수들이 존재하기에, 다시한번 연속형과 범주형 칼럼을 분리해주겠습니다.\n",
    "continuous_columns = []\n",
    "categorical_columns = []\n",
    "\n",
    "for column in df_train.columns:\n",
    "    if pd.api.types.is_numeric_dtype(df_train[column]):\n",
    "        continuous_columns.append(column)\n",
    "    else:\n",
    "        categorical_columns.append(column)\n",
    "\n",
    "print(\"연속형 변수:\", continuous_columns)\n",
    "print(\"범주형 변수:\", categorical_columns)"
   ]
  },
  {
   "cell_type": "code",
   "execution_count": 241,
   "metadata": {},
   "outputs": [
    {
     "name": "stderr",
     "output_type": "stream",
     "text": [
      "100%|██████████| 5/5 [00:01<00:00,  2.76it/s]\n"
     ]
    }
   ],
   "source": [
    "# 아래에서 범주형 변수들을 대상으로 레이블인코딩을 진행해 주겠습니다.\n",
    "\n",
    "# 각 변수에 대한 LabelEncoder를 저장할 딕셔너리\n",
    "label_encoders = {}\n",
    "\n",
    "# Implement Label Encoding\n",
    "for col in tqdm(categorical_columns):\n",
    "    lbl = LabelEncoder()\n",
    "\n",
    "    # Label-Encoding을 fit\n",
    "    lbl.fit( df_train[col].astype(str) )\n",
    "    df_train[col] = lbl.transform(df_train[col].astype(str))\n",
    "    label_encoders[col] = lbl           # 나중에 후처리를 위해 레이블인코더를 저장해주겠습니다.\n",
    "\n",
    "    # Test 데이터에만 존재하는 새로 출현한 데이터를 신규 클래스로 추가해줍니다.\n",
    "    for label in np.unique(df_test[col]):\n",
    "      if label not in lbl.classes_: # unseen label 데이터인 경우\n",
    "        lbl.classes_ = np.append(lbl.classes_, label) # 미처리 시 ValueError발생하니 주의하세요!\n",
    "\n",
    "    df_test[col] = lbl.transform(df_test[col].astype(str))"
   ]
  },
  {
   "cell_type": "code",
   "execution_count": 242,
   "metadata": {},
   "outputs": [],
   "source": [
    "df_train0 = df_train[(df_train['전용면적(㎡)']<60)]\n",
    "df_train60 = df_train[(df_train['전용면적(㎡)']>=60)&(df_train['전용면적(㎡)']<135)]\n",
    "df_train135 = df_train[(df_train['전용면적(㎡)']>=135)]"
   ]
  },
  {
   "cell_type": "code",
   "execution_count": 243,
   "metadata": {},
   "outputs": [],
   "source": [
    "X_test = df_test.drop(['target'], axis=1)\n",
    "# X_test = X_test.drop(columns='Close_delay120d')\n",
    "# X_test = X_test.drop(columns='계약년월')\n",
    "\n",
    "X_test\n",
    "X_test0 = X_test[(X_test['전용면적(㎡)']<60)]\n",
    "X_test60 = X_test[(X_test['전용면적(㎡)']>=60)&(X_test['전용면적(㎡)']<135)]\n",
    "X_test135 = X_test[(X_test['전용면적(㎡)']>=135)]"
   ]
  },
  {
   "cell_type": "code",
   "execution_count": 244,
   "metadata": {},
   "outputs": [],
   "source": [
    "y_train0 = df_train0['target']\n",
    "X_train0 = df_train0.drop(['target'], axis=1)\n",
    "\n",
    "\n",
    "y_train60 = df_train60['target']\n",
    "X_train60 = df_train60.drop(['target'], axis=1)\n",
    "\n",
    "y_train135 = df_train135['target']\n",
    "X_train135 = df_train135.drop(['target'], axis=1)"
   ]
  },
  {
   "cell_type": "code",
   "execution_count": 245,
   "metadata": {},
   "outputs": [
    {
     "data": {
      "text/plain": [
       "Index(['번지', '아파트명', '전용면적(㎡)', '층', '건축년도', '도로명', '평균공시가격', 'date',\n",
       "       '구_encoded', '동_encoded', 'yrs_diff', 'is_public', '계약년과동에따른std',\n",
       "       '계약년과동에따른mean', '계약년과동에따른max', 'ann_price_per_area',\n",
       "       'target_price_per_area', 'over_240', 'is_maxfl'],\n",
       "      dtype='object')"
      ]
     },
     "execution_count": 245,
     "metadata": {},
     "output_type": "execute_result"
    }
   ],
   "source": [
    "X_train0.columns"
   ]
  },
  {
   "cell_type": "code",
   "execution_count": 246,
   "metadata": {},
   "outputs": [],
   "source": [
    "drop_col_under135 = ['target_price_per_area', 'over_240', 'is_maxfl']\n",
    "drop_col_over135 = ['ann_price_per_area', 'is_public', 'date']"
   ]
  },
  {
   "cell_type": "code",
   "execution_count": 247,
   "metadata": {},
   "outputs": [],
   "source": [
    "X_train0.drop(columns=drop_col_under135, inplace=True)\n",
    "X_test0.drop(columns=drop_col_under135, inplace=True)\n",
    "X_train60.drop(columns=drop_col_under135, inplace=True)\n",
    "X_test60.drop(columns=drop_col_under135, inplace=True)"
   ]
  },
  {
   "cell_type": "code",
   "execution_count": 248,
   "metadata": {},
   "outputs": [],
   "source": [
    "# Split the data into train and validation sets\n",
    "X_train0, X_val0, y_train0, y_val0 = train_test_split(X_train0, y_train0, test_size=0.2, random_state=2023)\n",
    "X_train60, X_val60, y_train60, y_val60 = train_test_split(X_train60, y_train60, test_size=0.2, random_state=2023)"
   ]
  },
  {
   "cell_type": "code",
   "execution_count": 249,
   "metadata": {},
   "outputs": [
    {
     "name": "stdout",
     "output_type": "stream",
     "text": [
      "(196015, 16) (49004, 16)\n",
      "(291853, 16) (72964, 16)\n"
     ]
    }
   ],
   "source": [
    "print(X_train0.shape, X_val0.shape)\n",
    "print(X_train60.shape, X_val60.shape)"
   ]
  },
  {
   "cell_type": "code",
   "execution_count": 250,
   "metadata": {},
   "outputs": [
    {
     "data": {
      "text/plain": [
       "Index(['번지', '아파트명', '전용면적(㎡)', '층', '건축년도', '도로명', '평균공시가격', 'date',\n",
       "       '구_encoded', '동_encoded', 'yrs_diff', 'is_public', '계약년과동에따른std',\n",
       "       '계약년과동에따른mean', '계약년과동에따른max', 'ann_price_per_area'],\n",
       "      dtype='object')"
      ]
     },
     "execution_count": 250,
     "metadata": {},
     "output_type": "execute_result"
    }
   ],
   "source": [
    "X_train0.columns"
   ]
  },
  {
   "cell_type": "code",
   "execution_count": 251,
   "metadata": {},
   "outputs": [],
   "source": [
    "gbm0 = lgb.LGBMRegressor(n_estimators=5000, max_depth=50, num_leaves=600, min_child_samples=30,\n",
    "                            feature_fraction=0.7,\n",
    "                            bagging_fraction=0.9, verbosity=-1)\n",
    "\n",
    "\n",
    "\n",
    "gbm60 = lgb.LGBMRegressor(n_estimators=5000, max_depth=50, num_leaves=600, min_child_samples=30,\n",
    "                            feature_fraction=0.7,\n",
    "                            bagging_fraction=0.9, verbosity=-1)"
   ]
  },
  {
   "cell_type": "code",
   "execution_count": 252,
   "metadata": {},
   "outputs": [
    {
     "name": "stdout",
     "output_type": "stream",
     "text": [
      "Training until validation scores don't improve for 50 rounds\n",
      "[100]\ttraining's rmse: 2513.6\ttraining's l2: 6.31817e+06\tvalid_1's rmse: 3573.6\tvalid_1's l2: 1.27707e+07\n",
      "[200]\ttraining's rmse: 2070.09\ttraining's l2: 4.28525e+06\tvalid_1's rmse: 3432.71\tvalid_1's l2: 1.17835e+07\n",
      "[300]\ttraining's rmse: 1844.68\ttraining's l2: 3.40285e+06\tvalid_1's rmse: 3395.29\tvalid_1's l2: 1.1528e+07\n",
      "[400]\ttraining's rmse: 1685.86\ttraining's l2: 2.84211e+06\tvalid_1's rmse: 3382.86\tvalid_1's l2: 1.14437e+07\n",
      "Early stopping, best iteration is:\n",
      "[440]\ttraining's rmse: 1628.9\ttraining's l2: 2.6533e+06\tvalid_1's rmse: 3380.91\tvalid_1's l2: 1.14306e+07\n"
     ]
    },
    {
     "data": {
      "text/html": [
       "<style>#sk-container-id-9 {color: black;background-color: white;}#sk-container-id-9 pre{padding: 0;}#sk-container-id-9 div.sk-toggleable {background-color: white;}#sk-container-id-9 label.sk-toggleable__label {cursor: pointer;display: block;width: 100%;margin-bottom: 0;padding: 0.3em;box-sizing: border-box;text-align: center;}#sk-container-id-9 label.sk-toggleable__label-arrow:before {content: \"▸\";float: left;margin-right: 0.25em;color: #696969;}#sk-container-id-9 label.sk-toggleable__label-arrow:hover:before {color: black;}#sk-container-id-9 div.sk-estimator:hover label.sk-toggleable__label-arrow:before {color: black;}#sk-container-id-9 div.sk-toggleable__content {max-height: 0;max-width: 0;overflow: hidden;text-align: left;background-color: #f0f8ff;}#sk-container-id-9 div.sk-toggleable__content pre {margin: 0.2em;color: black;border-radius: 0.25em;background-color: #f0f8ff;}#sk-container-id-9 input.sk-toggleable__control:checked~div.sk-toggleable__content {max-height: 200px;max-width: 100%;overflow: auto;}#sk-container-id-9 input.sk-toggleable__control:checked~label.sk-toggleable__label-arrow:before {content: \"▾\";}#sk-container-id-9 div.sk-estimator input.sk-toggleable__control:checked~label.sk-toggleable__label {background-color: #d4ebff;}#sk-container-id-9 div.sk-label input.sk-toggleable__control:checked~label.sk-toggleable__label {background-color: #d4ebff;}#sk-container-id-9 input.sk-hidden--visually {border: 0;clip: rect(1px 1px 1px 1px);clip: rect(1px, 1px, 1px, 1px);height: 1px;margin: -1px;overflow: hidden;padding: 0;position: absolute;width: 1px;}#sk-container-id-9 div.sk-estimator {font-family: monospace;background-color: #f0f8ff;border: 1px dotted black;border-radius: 0.25em;box-sizing: border-box;margin-bottom: 0.5em;}#sk-container-id-9 div.sk-estimator:hover {background-color: #d4ebff;}#sk-container-id-9 div.sk-parallel-item::after {content: \"\";width: 100%;border-bottom: 1px solid gray;flex-grow: 1;}#sk-container-id-9 div.sk-label:hover label.sk-toggleable__label {background-color: #d4ebff;}#sk-container-id-9 div.sk-serial::before {content: \"\";position: absolute;border-left: 1px solid gray;box-sizing: border-box;top: 0;bottom: 0;left: 50%;z-index: 0;}#sk-container-id-9 div.sk-serial {display: flex;flex-direction: column;align-items: center;background-color: white;padding-right: 0.2em;padding-left: 0.2em;position: relative;}#sk-container-id-9 div.sk-item {position: relative;z-index: 1;}#sk-container-id-9 div.sk-parallel {display: flex;align-items: stretch;justify-content: center;background-color: white;position: relative;}#sk-container-id-9 div.sk-item::before, #sk-container-id-9 div.sk-parallel-item::before {content: \"\";position: absolute;border-left: 1px solid gray;box-sizing: border-box;top: 0;bottom: 0;left: 50%;z-index: -1;}#sk-container-id-9 div.sk-parallel-item {display: flex;flex-direction: column;z-index: 1;position: relative;background-color: white;}#sk-container-id-9 div.sk-parallel-item:first-child::after {align-self: flex-end;width: 50%;}#sk-container-id-9 div.sk-parallel-item:last-child::after {align-self: flex-start;width: 50%;}#sk-container-id-9 div.sk-parallel-item:only-child::after {width: 0;}#sk-container-id-9 div.sk-dashed-wrapped {border: 1px dashed gray;margin: 0 0.4em 0.5em 0.4em;box-sizing: border-box;padding-bottom: 0.4em;background-color: white;}#sk-container-id-9 div.sk-label label {font-family: monospace;font-weight: bold;display: inline-block;line-height: 1.2em;}#sk-container-id-9 div.sk-label-container {text-align: center;}#sk-container-id-9 div.sk-container {/* jupyter's `normalize.less` sets `[hidden] { display: none; }` but bootstrap.min.css set `[hidden] { display: none !important; }` so we also need the `!important` here to be able to override the default hidden behavior on the sphinx rendered scikit-learn.org. See: https://github.com/scikit-learn/scikit-learn/issues/21755 */display: inline-block !important;position: relative;}#sk-container-id-9 div.sk-text-repr-fallback {display: none;}</style><div id=\"sk-container-id-9\" class=\"sk-top-container\"><div class=\"sk-text-repr-fallback\"><pre>LGBMRegressor(bagging_fraction=0.9, feature_fraction=0.7, max_depth=50,\n",
       "              min_child_samples=30, n_estimators=5000, num_leaves=600,\n",
       "              verbosity=-1)</pre><b>In a Jupyter environment, please rerun this cell to show the HTML representation or trust the notebook. <br />On GitHub, the HTML representation is unable to render, please try loading this page with nbviewer.org.</b></div><div class=\"sk-container\" hidden><div class=\"sk-item\"><div class=\"sk-estimator sk-toggleable\"><input class=\"sk-toggleable__control sk-hidden--visually\" id=\"sk-estimator-id-9\" type=\"checkbox\" checked><label for=\"sk-estimator-id-9\" class=\"sk-toggleable__label sk-toggleable__label-arrow\">LGBMRegressor</label><div class=\"sk-toggleable__content\"><pre>LGBMRegressor(bagging_fraction=0.9, feature_fraction=0.7, max_depth=50,\n",
       "              min_child_samples=30, n_estimators=5000, num_leaves=600,\n",
       "              verbosity=-1)</pre></div></div></div></div></div>"
      ],
      "text/plain": [
       "LGBMRegressor(bagging_fraction=0.9, feature_fraction=0.7, max_depth=50,\n",
       "              min_child_samples=30, n_estimators=5000, num_leaves=600,\n",
       "              verbosity=-1)"
      ]
     },
     "execution_count": 252,
     "metadata": {},
     "output_type": "execute_result"
    }
   ],
   "source": [
    "gbm0.fit(\n",
    "        X_train0, y_train0, \n",
    "        eval_set=[(X_train0, y_train0), (X_val0, y_val0)], \n",
    "        eval_metric='rmse',\n",
    "        callbacks=[lgb.early_stopping(stopping_rounds=50),\n",
    "                   lgb.log_evaluation(period=100, show_stdv=True)]\n",
    "        )\n"
   ]
  },
  {
   "cell_type": "code",
   "execution_count": 253,
   "metadata": {},
   "outputs": [
    {
     "data": {
      "image/png": "[encoded data removed]",
      "text/plain": [
       "<Figure size 1000x800 with 1 Axes>"
      ]
     },
     "metadata": {},
     "output_type": "display_data"
    }
   ],
   "source": [
    "# 위 feature importance를 시각화해봅니다.\n",
    "importances = pd.Series(gbm0.feature_importances_, index=list(X_train0.columns))\n",
    "importances = importances.sort_values(ascending=False)\n",
    "\n",
    "plt.figure(figsize=(10,8))\n",
    "plt.title(\"Feature Importances\")\n",
    "sns.barplot(x=importances, y=importances.index)\n",
    "plt.show()"
   ]
  },
  {
   "cell_type": "code",
   "execution_count": 254,
   "metadata": {},
   "outputs": [
    {
     "data": {
      "text/html": [
       "\n",
       "    <style>\n",
       "    table.eli5-weights tr:hover {\n",
       "        filter: brightness(85%);\n",
       "    }\n",
       "</style>\n",
       "\n",
       "\n",
       "\n",
       "    \n",
       "\n",
       "    \n",
       "\n",
       "    \n",
       "\n",
       "    \n",
       "\n",
       "    \n",
       "\n",
       "    \n",
       "\n",
       "\n",
       "    \n",
       "\n",
       "    \n",
       "\n",
       "    \n",
       "\n",
       "    \n",
       "\n",
       "    \n",
       "\n",
       "    \n",
       "\n",
       "\n",
       "    \n",
       "\n",
       "    \n",
       "\n",
       "    \n",
       "\n",
       "    \n",
       "\n",
       "    \n",
       "        <table class=\"eli5-weights eli5-feature-importances\" style=\"border-collapse: collapse; border: none; margin-top: 0em; table-layout: auto;\">\n",
       "    <thead>\n",
       "    <tr style=\"border: none;\">\n",
       "        <th style=\"padding: 0 1em 0 0.5em; text-align: right; border: none;\">Weight</th>\n",
       "        <th style=\"padding: 0 0.5em 0 0.5em; text-align: left; border: none;\">Feature</th>\n",
       "    </tr>\n",
       "    </thead>\n",
       "    <tbody>\n",
       "    \n",
       "        <tr style=\"background-color: hsl(120, 100.00%, 80.00%); border: none;\">\n",
       "            <td style=\"padding: 0 1em 0 0.5em; text-align: right; border: none;\">\n",
       "                590937396.3301\n",
       "                \n",
       "                    &plusmn; 2132799.3462\n",
       "                \n",
       "            </td>\n",
       "            <td style=\"padding: 0 0.5em 0 0.5em; text-align: left; border: none;\">\n",
       "                평균공시가격\n",
       "            </td>\n",
       "        </tr>\n",
       "    \n",
       "        <tr style=\"background-color: hsl(120, 100.00%, 83.53%); border: none;\">\n",
       "            <td style=\"padding: 0 1em 0 0.5em; text-align: right; border: none;\">\n",
       "                447965768.5200\n",
       "                \n",
       "                    &plusmn; 4167416.0117\n",
       "                \n",
       "            </td>\n",
       "            <td style=\"padding: 0 0.5em 0 0.5em; text-align: left; border: none;\">\n",
       "                date\n",
       "            </td>\n",
       "        </tr>\n",
       "    \n",
       "        <tr style=\"background-color: hsl(120, 100.00%, 93.82%); border: none;\">\n",
       "            <td style=\"padding: 0 1em 0 0.5em; text-align: right; border: none;\">\n",
       "                110498382.2933\n",
       "                \n",
       "                    &plusmn; 1886276.2798\n",
       "                \n",
       "            </td>\n",
       "            <td style=\"padding: 0 0.5em 0 0.5em; text-align: left; border: none;\">\n",
       "                전용면적(㎡)\n",
       "            </td>\n",
       "        </tr>\n",
       "    \n",
       "        <tr style=\"background-color: hsl(120, 100.00%, 97.36%); border: none;\">\n",
       "            <td style=\"padding: 0 1em 0 0.5em; text-align: right; border: none;\">\n",
       "                32705343.7983\n",
       "                \n",
       "                    &plusmn; 305307.4566\n",
       "                \n",
       "            </td>\n",
       "            <td style=\"padding: 0 0.5em 0 0.5em; text-align: left; border: none;\">\n",
       "                구_encoded\n",
       "            </td>\n",
       "        </tr>\n",
       "    \n",
       "        <tr style=\"background-color: hsl(120, 100.00%, 97.76%); border: none;\">\n",
       "            <td style=\"padding: 0 1em 0 0.5em; text-align: right; border: none;\">\n",
       "                25930973.2126\n",
       "                \n",
       "                    &plusmn; 396463.5482\n",
       "                \n",
       "            </td>\n",
       "            <td style=\"padding: 0 0.5em 0 0.5em; text-align: left; border: none;\">\n",
       "                건축년도\n",
       "            </td>\n",
       "        </tr>\n",
       "    \n",
       "        <tr style=\"background-color: hsl(120, 100.00%, 98.54%); border: none;\">\n",
       "            <td style=\"padding: 0 1em 0 0.5em; text-align: right; border: none;\">\n",
       "                14020776.1774\n",
       "                \n",
       "                    &plusmn; 201142.9235\n",
       "                \n",
       "            </td>\n",
       "            <td style=\"padding: 0 0.5em 0 0.5em; text-align: left; border: none;\">\n",
       "                ann_price_per_area\n",
       "            </td>\n",
       "        </tr>\n",
       "    \n",
       "        <tr style=\"background-color: hsl(120, 100.00%, 99.10%); border: none;\">\n",
       "            <td style=\"padding: 0 1em 0 0.5em; text-align: right; border: none;\">\n",
       "                7054352.7477\n",
       "                \n",
       "                    &plusmn; 110870.7238\n",
       "                \n",
       "            </td>\n",
       "            <td style=\"padding: 0 0.5em 0 0.5em; text-align: left; border: none;\">\n",
       "                yrs_diff\n",
       "            </td>\n",
       "        </tr>\n",
       "    \n",
       "        <tr style=\"background-color: hsl(120, 100.00%, 99.13%); border: none;\">\n",
       "            <td style=\"padding: 0 1em 0 0.5em; text-align: right; border: none;\">\n",
       "                6700696.8432\n",
       "                \n",
       "                    &plusmn; 279790.3323\n",
       "                \n",
       "            </td>\n",
       "            <td style=\"padding: 0 0.5em 0 0.5em; text-align: left; border: none;\">\n",
       "                계약년과동에따른mean\n",
       "            </td>\n",
       "        </tr>\n",
       "    \n",
       "        <tr style=\"background-color: hsl(120, 100.00%, 99.17%); border: none;\">\n",
       "            <td style=\"padding: 0 1em 0 0.5em; text-align: right; border: none;\">\n",
       "                6218255.0697\n",
       "                \n",
       "                    &plusmn; 210422.6597\n",
       "                \n",
       "            </td>\n",
       "            <td style=\"padding: 0 0.5em 0 0.5em; text-align: left; border: none;\">\n",
       "                아파트명\n",
       "            </td>\n",
       "        </tr>\n",
       "    \n",
       "        <tr style=\"background-color: hsl(120, 100.00%, 99.27%); border: none;\">\n",
       "            <td style=\"padding: 0 1em 0 0.5em; text-align: right; border: none;\">\n",
       "                5181773.5721\n",
       "                \n",
       "                    &plusmn; 103808.9619\n",
       "                \n",
       "            </td>\n",
       "            <td style=\"padding: 0 0.5em 0 0.5em; text-align: left; border: none;\">\n",
       "                도로명\n",
       "            </td>\n",
       "        </tr>\n",
       "    \n",
       "        <tr style=\"background-color: hsl(120, 100.00%, 99.31%); border: none;\">\n",
       "            <td style=\"padding: 0 1em 0 0.5em; text-align: right; border: none;\">\n",
       "                4785532.1420\n",
       "                \n",
       "                    &plusmn; 100900.3096\n",
       "                \n",
       "            </td>\n",
       "            <td style=\"padding: 0 0.5em 0 0.5em; text-align: left; border: none;\">\n",
       "                번지\n",
       "            </td>\n",
       "        </tr>\n",
       "    \n",
       "        <tr style=\"background-color: hsl(120, 100.00%, 99.43%); border: none;\">\n",
       "            <td style=\"padding: 0 1em 0 0.5em; text-align: right; border: none;\">\n",
       "                3638791.6812\n",
       "                \n",
       "                    &plusmn; 90096.2483\n",
       "                \n",
       "            </td>\n",
       "            <td style=\"padding: 0 0.5em 0 0.5em; text-align: left; border: none;\">\n",
       "                동_encoded\n",
       "            </td>\n",
       "        </tr>\n",
       "    \n",
       "        <tr style=\"background-color: hsl(120, 100.00%, 99.47%); border: none;\">\n",
       "            <td style=\"padding: 0 1em 0 0.5em; text-align: right; border: none;\">\n",
       "                3341950.0311\n",
       "                \n",
       "                    &plusmn; 176552.2587\n",
       "                \n",
       "            </td>\n",
       "            <td style=\"padding: 0 0.5em 0 0.5em; text-align: left; border: none;\">\n",
       "                층\n",
       "            </td>\n",
       "        </tr>\n",
       "    \n",
       "        <tr style=\"background-color: hsl(120, 100.00%, 99.57%); border: none;\">\n",
       "            <td style=\"padding: 0 1em 0 0.5em; text-align: right; border: none;\">\n",
       "                2455137.8540\n",
       "                \n",
       "                    &plusmn; 82561.9277\n",
       "                \n",
       "            </td>\n",
       "            <td style=\"padding: 0 0.5em 0 0.5em; text-align: left; border: none;\">\n",
       "                계약년과동에따른std\n",
       "            </td>\n",
       "        </tr>\n",
       "    \n",
       "        <tr style=\"background-color: hsl(120, 100.00%, 99.83%); border: none;\">\n",
       "            <td style=\"padding: 0 1em 0 0.5em; text-align: right; border: none;\">\n",
       "                645288.4967\n",
       "                \n",
       "                    &plusmn; 21192.9039\n",
       "                \n",
       "            </td>\n",
       "            <td style=\"padding: 0 0.5em 0 0.5em; text-align: left; border: none;\">\n",
       "                is_public\n",
       "            </td>\n",
       "        </tr>\n",
       "    \n",
       "        <tr style=\"background-color: hsl(120, 100.00%, 99.84%); border: none;\">\n",
       "            <td style=\"padding: 0 1em 0 0.5em; text-align: right; border: none;\">\n",
       "                610029.3284\n",
       "                \n",
       "                    &plusmn; 21842.7794\n",
       "                \n",
       "            </td>\n",
       "            <td style=\"padding: 0 0.5em 0 0.5em; text-align: left; border: none;\">\n",
       "                계약년과동에따른max\n",
       "            </td>\n",
       "        </tr>\n",
       "    \n",
       "    \n",
       "    </tbody>\n",
       "</table>\n",
       "    \n",
       "\n",
       "    \n",
       "\n",
       "\n",
       "    \n",
       "\n",
       "    \n",
       "\n",
       "    \n",
       "\n",
       "    \n",
       "\n",
       "    \n",
       "\n",
       "    \n",
       "\n",
       "\n",
       "\n"
      ],
      "text/plain": [
       "<IPython.core.display.HTML object>"
      ]
     },
     "execution_count": 254,
     "metadata": {},
     "output_type": "execute_result"
    }
   ],
   "source": [
    "# Permutation importance 방법을 변수 선택에 이용해보겠습니다.\n",
    "perm = PermutationImportance(gbm0,        # 위에서 학습된 모델을 이용하겠습니다.\n",
    "                             scoring = \"neg_mean_squared_error\",        # 평가 지표로는 회귀문제이기에 negative rmse를 사용합니다. (neg_mean_squared_error : 음의 평균 제곱 오차)\n",
    "                             random_state = 42,\n",
    "                             n_iter=3).fit(X_val0, y_val0)\n",
    "eli5.show_weights(perm, feature_names = X_val0.columns.tolist())    # valid data에 대해 적합시킵니다."
   ]
  },
  {
   "cell_type": "code",
   "execution_count": 255,
   "metadata": {},
   "outputs": [
    {
     "name": "stdout",
     "output_type": "stream",
     "text": [
      "Training until validation scores don't improve for 50 rounds\n",
      "[100]\ttraining's rmse: 4570.92\ttraining's l2: 2.08933e+07\tvalid_1's rmse: 5930.4\tvalid_1's l2: 3.51697e+07\n",
      "[200]\ttraining's rmse: 3756.59\ttraining's l2: 1.4112e+07\tvalid_1's rmse: 5576.96\tvalid_1's l2: 3.11024e+07\n",
      "[300]\ttraining's rmse: 3348.55\ttraining's l2: 1.12128e+07\tvalid_1's rmse: 5481.5\tvalid_1's l2: 3.00468e+07\n",
      "[400]\ttraining's rmse: 3072.75\ttraining's l2: 9.44181e+06\tvalid_1's rmse: 5434.9\tvalid_1's l2: 2.95381e+07\n",
      "[500]\ttraining's rmse: 2846.17\ttraining's l2: 8.10071e+06\tvalid_1's rmse: 5417.22\tvalid_1's l2: 2.93463e+07\n",
      "[600]\ttraining's rmse: 2667.68\ttraining's l2: 7.11652e+06\tvalid_1's rmse: 5410.81\tvalid_1's l2: 2.92769e+07\n",
      "Early stopping, best iteration is:\n",
      "[573]\ttraining's rmse: 2719.33\ttraining's l2: 7.39474e+06\tvalid_1's rmse: 5408.53\tvalid_1's l2: 2.92521e+07\n"
     ]
    },
    {
     "data": {
      "text/html": [
       "<style>#sk-container-id-10 {color: black;background-color: white;}#sk-container-id-10 pre{padding: 0;}#sk-container-id-10 div.sk-toggleable {background-color: white;}#sk-container-id-10 label.sk-toggleable__label {cursor: pointer;display: block;width: 100%;margin-bottom: 0;padding: 0.3em;box-sizing: border-box;text-align: center;}#sk-container-id-10 label.sk-toggleable__label-arrow:before {content: \"▸\";float: left;margin-right: 0.25em;color: #696969;}#sk-container-id-10 label.sk-toggleable__label-arrow:hover:before {color: black;}#sk-container-id-10 div.sk-estimator:hover label.sk-toggleable__label-arrow:before {color: black;}#sk-container-id-10 div.sk-toggleable__content {max-height: 0;max-width: 0;overflow: hidden;text-align: left;background-color: #f0f8ff;}#sk-container-id-10 div.sk-toggleable__content pre {margin: 0.2em;color: black;border-radius: 0.25em;background-color: #f0f8ff;}#sk-container-id-10 input.sk-toggleable__control:checked~div.sk-toggleable__content {max-height: 200px;max-width: 100%;overflow: auto;}#sk-container-id-10 input.sk-toggleable__control:checked~label.sk-toggleable__label-arrow:before {content: \"▾\";}#sk-container-id-10 div.sk-estimator input.sk-toggleable__control:checked~label.sk-toggleable__label {background-color: #d4ebff;}#sk-container-id-10 div.sk-label input.sk-toggleable__control:checked~label.sk-toggleable__label {background-color: #d4ebff;}#sk-container-id-10 input.sk-hidden--visually {border: 0;clip: rect(1px 1px 1px 1px);clip: rect(1px, 1px, 1px, 1px);height: 1px;margin: -1px;overflow: hidden;padding: 0;position: absolute;width: 1px;}#sk-container-id-10 div.sk-estimator {font-family: monospace;background-color: #f0f8ff;border: 1px dotted black;border-radius: 0.25em;box-sizing: border-box;margin-bottom: 0.5em;}#sk-container-id-10 div.sk-estimator:hover {background-color: #d4ebff;}#sk-container-id-10 div.sk-parallel-item::after {content: \"\";width: 100%;border-bottom: 1px solid gray;flex-grow: 1;}#sk-container-id-10 div.sk-label:hover label.sk-toggleable__label {background-color: #d4ebff;}#sk-container-id-10 div.sk-serial::before {content: \"\";position: absolute;border-left: 1px solid gray;box-sizing: border-box;top: 0;bottom: 0;left: 50%;z-index: 0;}#sk-container-id-10 div.sk-serial {display: flex;flex-direction: column;align-items: center;background-color: white;padding-right: 0.2em;padding-left: 0.2em;position: relative;}#sk-container-id-10 div.sk-item {position: relative;z-index: 1;}#sk-container-id-10 div.sk-parallel {display: flex;align-items: stretch;justify-content: center;background-color: white;position: relative;}#sk-container-id-10 div.sk-item::before, #sk-container-id-10 div.sk-parallel-item::before {content: \"\";position: absolute;border-left: 1px solid gray;box-sizing: border-box;top: 0;bottom: 0;left: 50%;z-index: -1;}#sk-container-id-10 div.sk-parallel-item {display: flex;flex-direction: column;z-index: 1;position: relative;background-color: white;}#sk-container-id-10 div.sk-parallel-item:first-child::after {align-self: flex-end;width: 50%;}#sk-container-id-10 div.sk-parallel-item:last-child::after {align-self: flex-start;width: 50%;}#sk-container-id-10 div.sk-parallel-item:only-child::after {width: 0;}#sk-container-id-10 div.sk-dashed-wrapped {border: 1px dashed gray;margin: 0 0.4em 0.5em 0.4em;box-sizing: border-box;padding-bottom: 0.4em;background-color: white;}#sk-container-id-10 div.sk-label label {font-family: monospace;font-weight: bold;display: inline-block;line-height: 1.2em;}#sk-container-id-10 div.sk-label-container {text-align: center;}#sk-container-id-10 div.sk-container {/* jupyter's `normalize.less` sets `[hidden] { display: none; }` but bootstrap.min.css set `[hidden] { display: none !important; }` so we also need the `!important` here to be able to override the default hidden behavior on the sphinx rendered scikit-learn.org. See: https://github.com/scikit-learn/scikit-learn/issues/21755 */display: inline-block !important;position: relative;}#sk-container-id-10 div.sk-text-repr-fallback {display: none;}</style><div id=\"sk-container-id-10\" class=\"sk-top-container\"><div class=\"sk-text-repr-fallback\"><pre>LGBMRegressor(bagging_fraction=0.9, feature_fraction=0.7, max_depth=50,\n",
       "              min_child_samples=30, n_estimators=5000, num_leaves=600,\n",
       "              verbosity=-1)</pre><b>In a Jupyter environment, please rerun this cell to show the HTML representation or trust the notebook. <br />On GitHub, the HTML representation is unable to render, please try loading this page with nbviewer.org.</b></div><div class=\"sk-container\" hidden><div class=\"sk-item\"><div class=\"sk-estimator sk-toggleable\"><input class=\"sk-toggleable__control sk-hidden--visually\" id=\"sk-estimator-id-10\" type=\"checkbox\" checked><label for=\"sk-estimator-id-10\" class=\"sk-toggleable__label sk-toggleable__label-arrow\">LGBMRegressor</label><div class=\"sk-toggleable__content\"><pre>LGBMRegressor(bagging_fraction=0.9, feature_fraction=0.7, max_depth=50,\n",
       "              min_child_samples=30, n_estimators=5000, num_leaves=600,\n",
       "              verbosity=-1)</pre></div></div></div></div></div>"
      ],
      "text/plain": [
       "LGBMRegressor(bagging_fraction=0.9, feature_fraction=0.7, max_depth=50,\n",
       "              min_child_samples=30, n_estimators=5000, num_leaves=600,\n",
       "              verbosity=-1)"
      ]
     },
     "execution_count": 255,
     "metadata": {},
     "output_type": "execute_result"
    }
   ],
   "source": [
    "gbm60.fit(\n",
    "        X_train60, y_train60, \n",
    "        eval_set=[(X_train60, y_train60), (X_val60, y_val60)], \n",
    "        eval_metric='rmse',\n",
    "        callbacks=[lgb.early_stopping(stopping_rounds=50),\n",
    "                   lgb.log_evaluation(period=100, show_stdv=True)]\n",
    "        )"
   ]
  },
  {
   "cell_type": "code",
   "execution_count": 256,
   "metadata": {},
   "outputs": [
    {
     "data": {
      "image/png": "[encoded data removed]",
      "text/plain": [
       "<Figure size 1000x800 with 1 Axes>"
      ]
     },
     "metadata": {},
     "output_type": "display_data"
    }
   ],
   "source": [
    "# 위 feature importance를 시각화해봅니다.\n",
    "importances = pd.Series(gbm60.feature_importances_, index=list(X_train60.columns))\n",
    "importances = importances.sort_values(ascending=False)\n",
    "\n",
    "plt.figure(figsize=(10,8))\n",
    "plt.title(\"Feature Importances\")\n",
    "sns.barplot(x=importances, y=importances.index)\n",
    "plt.show()"
   ]
  },
  {
   "cell_type": "code",
   "execution_count": 257,
   "metadata": {},
   "outputs": [
    {
     "data": {
      "text/html": [
       "\n",
       "    <style>\n",
       "    table.eli5-weights tr:hover {\n",
       "        filter: brightness(85%);\n",
       "    }\n",
       "</style>\n",
       "\n",
       "\n",
       "\n",
       "    \n",
       "\n",
       "    \n",
       "\n",
       "    \n",
       "\n",
       "    \n",
       "\n",
       "    \n",
       "\n",
       "    \n",
       "\n",
       "\n",
       "    \n",
       "\n",
       "    \n",
       "\n",
       "    \n",
       "\n",
       "    \n",
       "\n",
       "    \n",
       "\n",
       "    \n",
       "\n",
       "\n",
       "    \n",
       "\n",
       "    \n",
       "\n",
       "    \n",
       "\n",
       "    \n",
       "\n",
       "    \n",
       "        <table class=\"eli5-weights eli5-feature-importances\" style=\"border-collapse: collapse; border: none; margin-top: 0em; table-layout: auto;\">\n",
       "    <thead>\n",
       "    <tr style=\"border: none;\">\n",
       "        <th style=\"padding: 0 1em 0 0.5em; text-align: right; border: none;\">Weight</th>\n",
       "        <th style=\"padding: 0 0.5em 0 0.5em; text-align: left; border: none;\">Feature</th>\n",
       "    </tr>\n",
       "    </thead>\n",
       "    <tbody>\n",
       "    \n",
       "        <tr style=\"background-color: hsl(120, 100.00%, 80.00%); border: none;\">\n",
       "            <td style=\"padding: 0 1em 0 0.5em; text-align: right; border: none;\">\n",
       "                1385897224.6333\n",
       "                \n",
       "                    &plusmn; 7355499.0814\n",
       "                \n",
       "            </td>\n",
       "            <td style=\"padding: 0 0.5em 0 0.5em; text-align: left; border: none;\">\n",
       "                평균공시가격\n",
       "            </td>\n",
       "        </tr>\n",
       "    \n",
       "        <tr style=\"background-color: hsl(120, 100.00%, 84.34%); border: none;\">\n",
       "            <td style=\"padding: 0 1em 0 0.5em; text-align: right; border: none;\">\n",
       "                977158830.0389\n",
       "                \n",
       "                    &plusmn; 6112606.1310\n",
       "                \n",
       "            </td>\n",
       "            <td style=\"padding: 0 0.5em 0 0.5em; text-align: left; border: none;\">\n",
       "                date\n",
       "            </td>\n",
       "        </tr>\n",
       "    \n",
       "        <tr style=\"background-color: hsl(120, 100.00%, 96.03%); border: none;\">\n",
       "            <td style=\"padding: 0 1em 0 0.5em; text-align: right; border: none;\">\n",
       "                137347396.7667\n",
       "                \n",
       "                    &plusmn; 4047546.4305\n",
       "                \n",
       "            </td>\n",
       "            <td style=\"padding: 0 0.5em 0 0.5em; text-align: left; border: none;\">\n",
       "                전용면적(㎡)\n",
       "            </td>\n",
       "        </tr>\n",
       "    \n",
       "        <tr style=\"background-color: hsl(120, 100.00%, 97.15%); border: none;\">\n",
       "            <td style=\"padding: 0 1em 0 0.5em; text-align: right; border: none;\">\n",
       "                85721254.8003\n",
       "                \n",
       "                    &plusmn; 1065359.2321\n",
       "                \n",
       "            </td>\n",
       "            <td style=\"padding: 0 0.5em 0 0.5em; text-align: left; border: none;\">\n",
       "                구_encoded\n",
       "            </td>\n",
       "        </tr>\n",
       "    \n",
       "        <tr style=\"background-color: hsl(120, 100.00%, 97.59%); border: none;\">\n",
       "            <td style=\"padding: 0 1em 0 0.5em; text-align: right; border: none;\">\n",
       "                67341107.2294\n",
       "                \n",
       "                    &plusmn; 1728992.1759\n",
       "                \n",
       "            </td>\n",
       "            <td style=\"padding: 0 0.5em 0 0.5em; text-align: left; border: none;\">\n",
       "                건축년도\n",
       "            </td>\n",
       "        </tr>\n",
       "    \n",
       "        <tr style=\"background-color: hsl(120, 100.00%, 98.81%); border: none;\">\n",
       "            <td style=\"padding: 0 1em 0 0.5em; text-align: right; border: none;\">\n",
       "                24524926.6948\n",
       "                \n",
       "                    &plusmn; 637353.1836\n",
       "                \n",
       "            </td>\n",
       "            <td style=\"padding: 0 0.5em 0 0.5em; text-align: left; border: none;\">\n",
       "                ann_price_per_area\n",
       "            </td>\n",
       "        </tr>\n",
       "    \n",
       "        <tr style=\"background-color: hsl(120, 100.00%, 99.05%); border: none;\">\n",
       "            <td style=\"padding: 0 1em 0 0.5em; text-align: right; border: none;\">\n",
       "                17863878.6116\n",
       "                \n",
       "                    &plusmn; 695172.0276\n",
       "                \n",
       "            </td>\n",
       "            <td style=\"padding: 0 0.5em 0 0.5em; text-align: left; border: none;\">\n",
       "                도로명\n",
       "            </td>\n",
       "        </tr>\n",
       "    \n",
       "        <tr style=\"background-color: hsl(120, 100.00%, 99.12%); border: none;\">\n",
       "            <td style=\"padding: 0 1em 0 0.5em; text-align: right; border: none;\">\n",
       "                16041899.0565\n",
       "                \n",
       "                    &plusmn; 314954.3667\n",
       "                \n",
       "            </td>\n",
       "            <td style=\"padding: 0 0.5em 0 0.5em; text-align: left; border: none;\">\n",
       "                번지\n",
       "            </td>\n",
       "        </tr>\n",
       "    \n",
       "        <tr style=\"background-color: hsl(120, 100.00%, 99.15%); border: none;\">\n",
       "            <td style=\"padding: 0 1em 0 0.5em; text-align: right; border: none;\">\n",
       "                15304792.8397\n",
       "                \n",
       "                    &plusmn; 549755.5094\n",
       "                \n",
       "            </td>\n",
       "            <td style=\"padding: 0 0.5em 0 0.5em; text-align: left; border: none;\">\n",
       "                계약년과동에따른mean\n",
       "            </td>\n",
       "        </tr>\n",
       "    \n",
       "        <tr style=\"background-color: hsl(120, 100.00%, 99.21%); border: none;\">\n",
       "            <td style=\"padding: 0 1em 0 0.5em; text-align: right; border: none;\">\n",
       "                13781516.0171\n",
       "                \n",
       "                    &plusmn; 327239.7124\n",
       "                \n",
       "            </td>\n",
       "            <td style=\"padding: 0 0.5em 0 0.5em; text-align: left; border: none;\">\n",
       "                yrs_diff\n",
       "            </td>\n",
       "        </tr>\n",
       "    \n",
       "        <tr style=\"background-color: hsl(120, 100.00%, 99.28%); border: none;\">\n",
       "            <td style=\"padding: 0 1em 0 0.5em; text-align: right; border: none;\">\n",
       "                12091990.0862\n",
       "                \n",
       "                    &plusmn; 34883.1606\n",
       "                \n",
       "            </td>\n",
       "            <td style=\"padding: 0 0.5em 0 0.5em; text-align: left; border: none;\">\n",
       "                아파트명\n",
       "            </td>\n",
       "        </tr>\n",
       "    \n",
       "        <tr style=\"background-color: hsl(120, 100.00%, 99.31%); border: none;\">\n",
       "            <td style=\"padding: 0 1em 0 0.5em; text-align: right; border: none;\">\n",
       "                11190372.8348\n",
       "                \n",
       "                    &plusmn; 465049.7728\n",
       "                \n",
       "            </td>\n",
       "            <td style=\"padding: 0 0.5em 0 0.5em; text-align: left; border: none;\">\n",
       "                층\n",
       "            </td>\n",
       "        </tr>\n",
       "    \n",
       "        <tr style=\"background-color: hsl(120, 100.00%, 99.36%); border: none;\">\n",
       "            <td style=\"padding: 0 1em 0 0.5em; text-align: right; border: none;\">\n",
       "                10205646.2060\n",
       "                \n",
       "                    &plusmn; 165481.9915\n",
       "                \n",
       "            </td>\n",
       "            <td style=\"padding: 0 0.5em 0 0.5em; text-align: left; border: none;\">\n",
       "                계약년과동에따른std\n",
       "            </td>\n",
       "        </tr>\n",
       "    \n",
       "        <tr style=\"background-color: hsl(120, 100.00%, 99.58%); border: none;\">\n",
       "            <td style=\"padding: 0 1em 0 0.5em; text-align: right; border: none;\">\n",
       "                5579956.8955\n",
       "                \n",
       "                    &plusmn; 65445.2050\n",
       "                \n",
       "            </td>\n",
       "            <td style=\"padding: 0 0.5em 0 0.5em; text-align: left; border: none;\">\n",
       "                동_encoded\n",
       "            </td>\n",
       "        </tr>\n",
       "    \n",
       "        <tr style=\"background-color: hsl(120, 100.00%, 99.80%); border: none;\">\n",
       "            <td style=\"padding: 0 1em 0 0.5em; text-align: right; border: none;\">\n",
       "                1988515.5403\n",
       "                \n",
       "                    &plusmn; 122044.6861\n",
       "                \n",
       "            </td>\n",
       "            <td style=\"padding: 0 0.5em 0 0.5em; text-align: left; border: none;\">\n",
       "                계약년과동에따른max\n",
       "            </td>\n",
       "        </tr>\n",
       "    \n",
       "        <tr style=\"background-color: hsl(120, 100.00%, 99.95%); border: none;\">\n",
       "            <td style=\"padding: 0 1em 0 0.5em; text-align: right; border: none;\">\n",
       "                291811.6123\n",
       "                \n",
       "                    &plusmn; 127812.4377\n",
       "                \n",
       "            </td>\n",
       "            <td style=\"padding: 0 0.5em 0 0.5em; text-align: left; border: none;\">\n",
       "                is_public\n",
       "            </td>\n",
       "        </tr>\n",
       "    \n",
       "    \n",
       "    </tbody>\n",
       "</table>\n",
       "    \n",
       "\n",
       "    \n",
       "\n",
       "\n",
       "    \n",
       "\n",
       "    \n",
       "\n",
       "    \n",
       "\n",
       "    \n",
       "\n",
       "    \n",
       "\n",
       "    \n",
       "\n",
       "\n",
       "\n"
      ],
      "text/plain": [
       "<IPython.core.display.HTML object>"
      ]
     },
     "execution_count": 257,
     "metadata": {},
     "output_type": "execute_result"
    }
   ],
   "source": [
    "# Permutation importance 방법을 변수 선택에 이용해보겠습니다.\n",
    "perm = PermutationImportance(gbm60,        # 위에서 학습된 모델을 이용하겠습니다.\n",
    "                             scoring = \"neg_mean_squared_error\",        # 평가 지표로는 회귀문제이기에 negative rmse를 사용합니다. (neg_mean_squared_error : 음의 평균 제곱 오차)\n",
    "                             random_state = 42,\n",
    "                             n_iter=3).fit(X_val60, y_val60)\n",
    "eli5.show_weights(perm, feature_names = X_val60.columns.tolist())    # valid data에 대해 적합시킵니다."
   ]
  },
  {
   "cell_type": "markdown",
   "metadata": {},
   "source": [
    "### 135만 다르게 접근해야할 것 같음"
   ]
  },
  {
   "cell_type": "code",
   "execution_count": 258,
   "metadata": {},
   "outputs": [
    {
     "name": "stdout",
     "output_type": "stream",
     "text": [
      "(196015, 16) (49004, 16)\n",
      "(291853, 16) (72964, 16)\n"
     ]
    }
   ],
   "source": [
    "print(X_train0.shape, X_val0.shape)\n",
    "print(X_train60.shape, X_val60.shape)"
   ]
  },
  {
   "cell_type": "code",
   "execution_count": 259,
   "metadata": {},
   "outputs": [],
   "source": [
    "X_train135.drop(columns=drop_col_over135, inplace=True)"
   ]
  },
  {
   "cell_type": "code",
   "execution_count": 260,
   "metadata": {},
   "outputs": [],
   "source": [
    "X_test135.drop(columns=drop_col_over135, inplace=True)"
   ]
  },
  {
   "cell_type": "code",
   "execution_count": 261,
   "metadata": {},
   "outputs": [
    {
     "data": {
      "text/plain": [
       "(26900, 16)"
      ]
     },
     "execution_count": 261,
     "metadata": {},
     "output_type": "execute_result"
    }
   ],
   "source": [
    "X_train135.shape"
   ]
  },
  {
   "cell_type": "code",
   "execution_count": 262,
   "metadata": {},
   "outputs": [],
   "source": [
    "# X_train135, X_val135"
   ]
  },
  {
   "cell_type": "code",
   "execution_count": 263,
   "metadata": {},
   "outputs": [],
   "source": [
    "from sklearn.model_selection import KFold, cross_val_score"
   ]
  },
  {
   "cell_type": "code",
   "execution_count": 264,
   "metadata": {},
   "outputs": [
    {
     "name": "stdout",
     "output_type": "stream",
     "text": [
      "Fold 1/5\n",
      "Training until validation scores don't improve for 50 rounds\n",
      "[100]\ttraining's rmse: 2361.87\ttraining's l2: 5.57841e+06\tvalid_1's rmse: 8410.7\tvalid_1's l2: 7.074e+07\n",
      "[200]\ttraining's rmse: 1204.46\ttraining's l2: 1.45072e+06\tvalid_1's rmse: 8204.2\tvalid_1's l2: 6.73089e+07\n",
      "[300]\ttraining's rmse: 783.382\ttraining's l2: 613687\tvalid_1's rmse: 8185.09\tvalid_1's l2: 6.69957e+07\n",
      "Early stopping, best iteration is:\n",
      "[292]\ttraining's rmse: 814.108\ttraining's l2: 662771\tvalid_1's rmse: 8181.64\tvalid_1's l2: 6.69392e+07\n",
      "Fold 2/5\n",
      "Training until validation scores don't improve for 50 rounds\n",
      "[100]\ttraining's rmse: 2080.73\ttraining's l2: 4.32944e+06\tvalid_1's rmse: 10347\tvalid_1's l2: 1.0706e+08\n",
      "[200]\ttraining's rmse: 1134.6\ttraining's l2: 1.28731e+06\tvalid_1's rmse: 10042\tvalid_1's l2: 1.00841e+08\n",
      "[300]\ttraining's rmse: 809.633\ttraining's l2: 655506\tvalid_1's rmse: 9997.72\tvalid_1's l2: 9.99545e+07\n",
      "[400]\ttraining's rmse: 638.626\ttraining's l2: 407844\tvalid_1's rmse: 9969.13\tvalid_1's l2: 9.93835e+07\n",
      "[500]\ttraining's rmse: 531.243\ttraining's l2: 282219\tvalid_1's rmse: 9947.87\tvalid_1's l2: 9.89601e+07\n",
      "[600]\ttraining's rmse: 461.663\ttraining's l2: 213132\tvalid_1's rmse: 9938.07\tvalid_1's l2: 9.87653e+07\n",
      "[700]\ttraining's rmse: 412.204\ttraining's l2: 169913\tvalid_1's rmse: 9923.85\tvalid_1's l2: 9.84829e+07\n",
      "[800]\ttraining's rmse: 380.433\ttraining's l2: 144730\tvalid_1's rmse: 9910.06\tvalid_1's l2: 9.82094e+07\n",
      "[900]\ttraining's rmse: 361.295\ttraining's l2: 130534\tvalid_1's rmse: 9906.4\tvalid_1's l2: 9.81367e+07\n",
      "[1000]\ttraining's rmse: 349.944\ttraining's l2: 122461\tvalid_1's rmse: 9901.73\tvalid_1's l2: 9.80443e+07\n",
      "[1100]\ttraining's rmse: 341.324\ttraining's l2: 116502\tvalid_1's rmse: 9899.62\tvalid_1's l2: 9.80025e+07\n",
      "Early stopping, best iteration is:\n",
      "[1146]\ttraining's rmse: 338.287\ttraining's l2: 114438\tvalid_1's rmse: 9897.69\tvalid_1's l2: 9.79642e+07\n",
      "Fold 3/5\n",
      "Training until validation scores don't improve for 50 rounds\n",
      "[100]\ttraining's rmse: 2349.99\ttraining's l2: 5.52244e+06\tvalid_1's rmse: 8417.43\tvalid_1's l2: 7.08531e+07\n",
      "[200]\ttraining's rmse: 1298.97\ttraining's l2: 1.68733e+06\tvalid_1's rmse: 8146.73\tvalid_1's l2: 6.63692e+07\n",
      "[300]\ttraining's rmse: 928.586\ttraining's l2: 862272\tvalid_1's rmse: 8060.86\tvalid_1's l2: 6.49775e+07\n",
      "[400]\ttraining's rmse: 701.073\ttraining's l2: 491504\tvalid_1's rmse: 8029.95\tvalid_1's l2: 6.44801e+07\n",
      "[500]\ttraining's rmse: 544.951\ttraining's l2: 296972\tvalid_1's rmse: 8017.44\tvalid_1's l2: 6.42794e+07\n",
      "[600]\ttraining's rmse: 437.571\ttraining's l2: 191469\tvalid_1's rmse: 8006.95\tvalid_1's l2: 6.41112e+07\n",
      "[700]\ttraining's rmse: 369.83\ttraining's l2: 136775\tvalid_1's rmse: 8000.59\tvalid_1's l2: 6.40094e+07\n",
      "Early stopping, best iteration is:\n",
      "[704]\ttraining's rmse: 367.122\ttraining's l2: 134778\tvalid_1's rmse: 7999.31\tvalid_1's l2: 6.3989e+07\n",
      "Fold 4/5\n",
      "Training until validation scores don't improve for 50 rounds\n",
      "[100]\ttraining's rmse: 2309.01\ttraining's l2: 5.33151e+06\tvalid_1's rmse: 9868.73\tvalid_1's l2: 9.73919e+07\n",
      "[200]\ttraining's rmse: 1230.49\ttraining's l2: 1.51411e+06\tvalid_1's rmse: 9581.03\tvalid_1's l2: 9.17962e+07\n",
      "[300]\ttraining's rmse: 859.134\ttraining's l2: 738112\tvalid_1's rmse: 9515.63\tvalid_1's l2: 9.05472e+07\n",
      "[400]\ttraining's rmse: 649.783\ttraining's l2: 422217\tvalid_1's rmse: 9462.13\tvalid_1's l2: 8.95319e+07\n",
      "[500]\ttraining's rmse: 514.254\ttraining's l2: 264457\tvalid_1's rmse: 9437.33\tvalid_1's l2: 8.90633e+07\n",
      "[600]\ttraining's rmse: 430.409\ttraining's l2: 185252\tvalid_1's rmse: 9417.72\tvalid_1's l2: 8.86934e+07\n",
      "[700]\ttraining's rmse: 376.711\ttraining's l2: 141911\tvalid_1's rmse: 9407.2\tvalid_1's l2: 8.84953e+07\n",
      "[800]\ttraining's rmse: 331.158\ttraining's l2: 109666\tvalid_1's rmse: 9403.09\tvalid_1's l2: 8.84182e+07\n",
      "[900]\ttraining's rmse: 303.791\ttraining's l2: 92289.3\tvalid_1's rmse: 9396.72\tvalid_1's l2: 8.82984e+07\n",
      "[1000]\ttraining's rmse: 283.74\ttraining's l2: 80508.5\tvalid_1's rmse: 9391.53\tvalid_1's l2: 8.82008e+07\n",
      "[1100]\ttraining's rmse: 267.366\ttraining's l2: 71484.3\tvalid_1's rmse: 9388.02\tvalid_1's l2: 8.8135e+07\n",
      "[1200]\ttraining's rmse: 255.588\ttraining's l2: 65325.3\tvalid_1's rmse: 9383.87\tvalid_1's l2: 8.8057e+07\n",
      "[1300]\ttraining's rmse: 247.716\ttraining's l2: 61363.1\tvalid_1's rmse: 9382.58\tvalid_1's l2: 8.80329e+07\n",
      "[1400]\ttraining's rmse: 242.167\ttraining's l2: 58644.8\tvalid_1's rmse: 9380.99\tvalid_1's l2: 8.8003e+07\n",
      "[1500]\ttraining's rmse: 237.889\ttraining's l2: 56591.2\tvalid_1's rmse: 9378.97\tvalid_1's l2: 8.79651e+07\n",
      "[1600]\ttraining's rmse: 234.296\ttraining's l2: 54894.4\tvalid_1's rmse: 9377.77\tvalid_1's l2: 8.79426e+07\n",
      "[1700]\ttraining's rmse: 231.878\ttraining's l2: 53767.3\tvalid_1's rmse: 9376.86\tvalid_1's l2: 8.79254e+07\n",
      "[1800]\ttraining's rmse: 230.164\ttraining's l2: 52975.5\tvalid_1's rmse: 9376.19\tvalid_1's l2: 8.79129e+07\n",
      "[1900]\ttraining's rmse: 228.82\ttraining's l2: 52358.5\tvalid_1's rmse: 9375.76\tvalid_1's l2: 8.79049e+07\n",
      "[2000]\ttraining's rmse: 227.846\ttraining's l2: 51913.9\tvalid_1's rmse: 9375.2\tvalid_1's l2: 8.78944e+07\n",
      "[2100]\ttraining's rmse: 227.133\ttraining's l2: 51589.5\tvalid_1's rmse: 9374.9\tvalid_1's l2: 8.78888e+07\n",
      "[2200]\ttraining's rmse: 226.626\ttraining's l2: 51359.5\tvalid_1's rmse: 9374.63\tvalid_1's l2: 8.78837e+07\n",
      "Early stopping, best iteration is:\n",
      "[2179]\ttraining's rmse: 226.719\ttraining's l2: 51401.3\tvalid_1's rmse: 9374.6\tvalid_1's l2: 8.78831e+07\n",
      "Fold 5/5\n",
      "Training until validation scores don't improve for 50 rounds\n",
      "[100]\ttraining's rmse: 2204.99\ttraining's l2: 4.86199e+06\tvalid_1's rmse: 11166.4\tvalid_1's l2: 1.24689e+08\n",
      "[200]\ttraining's rmse: 1196.35\ttraining's l2: 1.43126e+06\tvalid_1's rmse: 10878.9\tvalid_1's l2: 1.18351e+08\n",
      "[300]\ttraining's rmse: 792.8\ttraining's l2: 628533\tvalid_1's rmse: 10817.6\tvalid_1's l2: 1.1702e+08\n",
      "[400]\ttraining's rmse: 582.067\ttraining's l2: 338802\tvalid_1's rmse: 10812.9\tvalid_1's l2: 1.16919e+08\n",
      "Early stopping, best iteration is:\n",
      "[362]\ttraining's rmse: 645.475\ttraining's l2: 416638\tvalid_1's rmse: 10809.5\tvalid_1's l2: 1.16844e+08\n"
     ]
    }
   ],
   "source": [
    "# Define the number of base learners for the ensemble\n",
    "num_base_learners = 5\n",
    "\n",
    "# Initialize an empty list to store the base learners\n",
    "base_learners = []\n",
    "\n",
    "num_folds = 5\n",
    "# Define the k-fold cross-validator\n",
    "kf = KFold(n_splits=num_folds, shuffle=True, random_state=2023)\n",
    "\n",
    "# Perform k-fold cross-validation\n",
    "for fold, (train_idx, val_idx) in enumerate(kf.split(X_train135), 1):\n",
    "    print(f\"Fold {fold}/{num_folds}\")\n",
    "    X_train_fold, X_val_fold = X_train135.iloc[train_idx], X_train135.iloc[val_idx]\n",
    "    y_train_fold, y_val_fold = y_train135.iloc[train_idx], y_train135.iloc[val_idx]\n",
    "    \n",
    "    # Initialize a LightGBM regressor for the base learner\n",
    "    gbm135 = lgb.LGBMRegressor(n_estimators=5000, max_depth=20, num_leaves=600, min_child_samples=10,\n",
    "                            feature_fraction=0.7, bagging_fraction=0.9, verbosity=-1)\n",
    "    \n",
    "    # Train the base learner\n",
    "    gbm135.fit(\n",
    "            X_train_fold, y_train_fold, \n",
    "            eval_set=[(X_train_fold, y_train_fold), (X_val_fold, y_val_fold)], \n",
    "            eval_metric='rmse',\n",
    "            callbacks=[lgb.early_stopping(stopping_rounds=50),\n",
    "                       lgb.log_evaluation(period=100, show_stdv=True)]\n",
    "            )\n",
    "    \n",
    "    # Add the trained base learner to the list\n",
    "    base_learners.append(gbm135)\n",
    "\n",
    "# Initialize an empty array to store predictions from each base learner\n",
    "predictions = np.zeros(len(X_train135))\n",
    "\n",
    "# Make predictions using each base learner and aggregate them\n",
    "for gbm in base_learners:\n",
    "    predictions += gbm.predict(X_train135)\n",
    "\n",
    "# Take the average of the predictions to get the final prediction\n",
    "ensemble_prediction = predictions / num_base_learners"
   ]
  },
  {
   "cell_type": "code",
   "execution_count": 265,
   "metadata": {},
   "outputs": [
    {
     "data": {
      "text/plain": [
       "1391519.1570267342"
      ]
     },
     "execution_count": 265,
     "metadata": {},
     "output_type": "execute_result"
    }
   ],
   "source": [
    "ensemble_prediction.max()"
   ]
  },
  {
   "cell_type": "code",
   "execution_count": 266,
   "metadata": {},
   "outputs": [],
   "source": [
    "real_test_pred0 = gbm0.predict(X_test0)\n",
    "real_test_pred60 = gbm60.predict(X_test60)"
   ]
  },
  {
   "cell_type": "code",
   "execution_count": 267,
   "metadata": {},
   "outputs": [],
   "source": [
    "X_test0['target'] = real_test_pred0\n",
    "X_test60['target'] = real_test_pred60"
   ]
  },
  {
   "cell_type": "code",
   "execution_count": 268,
   "metadata": {},
   "outputs": [],
   "source": [
    "# List to store predictions from base learners\n",
    "predictions = []\n",
    "\n",
    "# Iterate over base learners and get predictions for X_test135\n",
    "for gbm in base_learners:\n",
    "    predictions.append(gbm.predict(X_test135))\n",
    "\n",
    "# Convert predictions to a NumPy array\n",
    "predictions_array = np.array(predictions)\n",
    "\n",
    "# Take the maximum prediction across the base learners\n",
    "max_predictions = np.max(predictions_array, axis=0)\n",
    "\n",
    "# Fill X_test135['target'] with the maximum predictions\n",
    "X_test135['target'] = max_predictions\n"
   ]
  },
  {
   "cell_type": "code",
   "execution_count": 269,
   "metadata": {},
   "outputs": [
    {
     "data": {
      "text/plain": [
       "count        357.00\n",
       "mean      285890.50\n",
       "std       162652.53\n",
       "min        42793.38\n",
       "25%       178947.06\n",
       "50%       254580.24\n",
       "75%       348578.80\n",
       "max      1259777.23\n",
       "Name: target, dtype: float64"
      ]
     },
     "execution_count": 269,
     "metadata": {},
     "output_type": "execute_result"
    }
   ],
   "source": [
    "X_test135['target'].describe().round(2)"
   ]
  },
  {
   "cell_type": "code",
   "execution_count": 270,
   "metadata": {},
   "outputs": [
    {
     "data": {
      "text/plain": [
       "Index(['번지', '아파트명', '전용면적(㎡)', '층', '건축년도', '도로명', '평균공시가격', 'date',\n",
       "       '구_encoded', '동_encoded', 'yrs_diff', 'is_public', '계약년과동에따른std',\n",
       "       '계약년과동에따른mean', '계약년과동에따른max', 'ann_price_per_area', 'target'],\n",
       "      dtype='object')"
      ]
     },
     "execution_count": 270,
     "metadata": {},
     "output_type": "execute_result"
    }
   ],
   "source": [
    "X_test0.columns"
   ]
  },
  {
   "cell_type": "code",
   "execution_count": 271,
   "metadata": {},
   "outputs": [
    {
     "data": {
      "text/plain": [
       "Index(['번지', '아파트명', '전용면적(㎡)', '층', '건축년도', '도로명', '평균공시가격', '구_encoded',\n",
       "       '동_encoded', 'yrs_diff', '계약년과동에따른std', '계약년과동에따른mean', '계약년과동에따른max',\n",
       "       'target_price_per_area', 'over_240', 'is_maxfl', 'target'],\n",
       "      dtype='object')"
      ]
     },
     "execution_count": 271,
     "metadata": {},
     "output_type": "execute_result"
    }
   ],
   "source": [
    "X_test135.columns"
   ]
  },
  {
   "cell_type": "code",
   "execution_count": 272,
   "metadata": {},
   "outputs": [],
   "source": [
    "X_test0.drop(['date', 'is_public', 'ann_price_per_area'], axis=1, inplace=True)\n",
    "X_test60.drop(['date', 'is_public', 'ann_price_per_area'], axis=1, inplace=True)\n",
    "X_test135.drop(['target_price_per_area', 'over_240', 'is_maxfl'], axis=1, inplace=True)"
   ]
  },
  {
   "cell_type": "code",
   "execution_count": 273,
   "metadata": {},
   "outputs": [
    {
     "data": {
      "text/html": [
       "<div>\n",
       "<style scoped>\n",
       "    .dataframe tbody tr th:only-of-type {\n",
       "        vertical-align: middle;\n",
       "    }\n",
       "\n",
       "    .dataframe tbody tr th {\n",
       "        vertical-align: top;\n",
       "    }\n",
       "\n",
       "    .dataframe thead th {\n",
       "        text-align: right;\n",
       "    }\n",
       "</style>\n",
       "<table border=\"1\" class=\"dataframe\">\n",
       "  <thead>\n",
       "    <tr style=\"text-align: right;\">\n",
       "      <th></th>\n",
       "      <th>번지</th>\n",
       "      <th>아파트명</th>\n",
       "      <th>전용면적(㎡)</th>\n",
       "      <th>층</th>\n",
       "      <th>건축년도</th>\n",
       "      <th>도로명</th>\n",
       "      <th>평균공시가격</th>\n",
       "      <th>구_encoded</th>\n",
       "      <th>동_encoded</th>\n",
       "      <th>yrs_diff</th>\n",
       "      <th>계약년과동에따른std</th>\n",
       "      <th>계약년과동에따른mean</th>\n",
       "      <th>계약년과동에따른max</th>\n",
       "      <th>target</th>\n",
       "    </tr>\n",
       "  </thead>\n",
       "  <tbody>\n",
       "    <tr>\n",
       "      <th>1118822</th>\n",
       "      <td>4682</td>\n",
       "      <td>319</td>\n",
       "      <td>79.9700</td>\n",
       "      <td>5</td>\n",
       "      <td>1987</td>\n",
       "      <td>6025</td>\n",
       "      <td>120960.000000</td>\n",
       "      <td>0</td>\n",
       "      <td>NaN</td>\n",
       "      <td>36</td>\n",
       "      <td>112520.254068</td>\n",
       "      <td>208005.081699</td>\n",
       "      <td>900000.0</td>\n",
       "      <td>172805.210198</td>\n",
       "    </tr>\n",
       "    <tr>\n",
       "      <th>1118823</th>\n",
       "      <td>4657</td>\n",
       "      <td>320</td>\n",
       "      <td>108.2017</td>\n",
       "      <td>10</td>\n",
       "      <td>2021</td>\n",
       "      <td>464</td>\n",
       "      <td>155775.000000</td>\n",
       "      <td>0</td>\n",
       "      <td>NaN</td>\n",
       "      <td>2</td>\n",
       "      <td>112520.254068</td>\n",
       "      <td>208005.081699</td>\n",
       "      <td>900000.0</td>\n",
       "      <td>257470.886158</td>\n",
       "    </tr>\n",
       "    <tr>\n",
       "      <th>1118824</th>\n",
       "      <td>4658</td>\n",
       "      <td>324</td>\n",
       "      <td>161.0000</td>\n",
       "      <td>15</td>\n",
       "      <td>1984</td>\n",
       "      <td>462</td>\n",
       "      <td>182537.777778</td>\n",
       "      <td>0</td>\n",
       "      <td>NaN</td>\n",
       "      <td>39</td>\n",
       "      <td>112520.254068</td>\n",
       "      <td>208005.081699</td>\n",
       "      <td>900000.0</td>\n",
       "      <td>358742.949075</td>\n",
       "    </tr>\n",
       "    <tr>\n",
       "      <th>1118825</th>\n",
       "      <td>4658</td>\n",
       "      <td>324</td>\n",
       "      <td>133.4600</td>\n",
       "      <td>14</td>\n",
       "      <td>1984</td>\n",
       "      <td>462</td>\n",
       "      <td>182537.777778</td>\n",
       "      <td>0</td>\n",
       "      <td>NaN</td>\n",
       "      <td>39</td>\n",
       "      <td>112520.254068</td>\n",
       "      <td>208005.081699</td>\n",
       "      <td>900000.0</td>\n",
       "      <td>267478.784565</td>\n",
       "    </tr>\n",
       "    <tr>\n",
       "      <th>1118826</th>\n",
       "      <td>4658</td>\n",
       "      <td>324</td>\n",
       "      <td>104.4300</td>\n",
       "      <td>6</td>\n",
       "      <td>1984</td>\n",
       "      <td>462</td>\n",
       "      <td>182537.777778</td>\n",
       "      <td>0</td>\n",
       "      <td>NaN</td>\n",
       "      <td>39</td>\n",
       "      <td>112520.254068</td>\n",
       "      <td>208005.081699</td>\n",
       "      <td>900000.0</td>\n",
       "      <td>200579.634965</td>\n",
       "    </tr>\n",
       "    <tr>\n",
       "      <th>...</th>\n",
       "      <td>...</td>\n",
       "      <td>...</td>\n",
       "      <td>...</td>\n",
       "      <td>...</td>\n",
       "      <td>...</td>\n",
       "      <td>...</td>\n",
       "      <td>...</td>\n",
       "      <td>...</td>\n",
       "      <td>...</td>\n",
       "      <td>...</td>\n",
       "      <td>...</td>\n",
       "      <td>...</td>\n",
       "      <td>...</td>\n",
       "      <td>...</td>\n",
       "    </tr>\n",
       "    <tr>\n",
       "      <th>1128089</th>\n",
       "      <td>5716</td>\n",
       "      <td>3617</td>\n",
       "      <td>84.6500</td>\n",
       "      <td>13</td>\n",
       "      <td>2014</td>\n",
       "      <td>5423</td>\n",
       "      <td>39021.326676</td>\n",
       "      <td>22</td>\n",
       "      <td>NaN</td>\n",
       "      <td>9</td>\n",
       "      <td>27142.558383</td>\n",
       "      <td>56865.823529</td>\n",
       "      <td>185000.0</td>\n",
       "      <td>67681.107344</td>\n",
       "    </tr>\n",
       "    <tr>\n",
       "      <th>1128090</th>\n",
       "      <td>5716</td>\n",
       "      <td>3617</td>\n",
       "      <td>84.6200</td>\n",
       "      <td>12</td>\n",
       "      <td>2014</td>\n",
       "      <td>5423</td>\n",
       "      <td>39021.326676</td>\n",
       "      <td>22</td>\n",
       "      <td>NaN</td>\n",
       "      <td>9</td>\n",
       "      <td>27142.558383</td>\n",
       "      <td>56865.823529</td>\n",
       "      <td>185000.0</td>\n",
       "      <td>68102.884189</td>\n",
       "    </tr>\n",
       "    <tr>\n",
       "      <th>1128091</th>\n",
       "      <td>5716</td>\n",
       "      <td>3617</td>\n",
       "      <td>101.6500</td>\n",
       "      <td>12</td>\n",
       "      <td>2014</td>\n",
       "      <td>5423</td>\n",
       "      <td>39021.326676</td>\n",
       "      <td>22</td>\n",
       "      <td>NaN</td>\n",
       "      <td>9</td>\n",
       "      <td>27142.558383</td>\n",
       "      <td>56865.823529</td>\n",
       "      <td>185000.0</td>\n",
       "      <td>82654.824374</td>\n",
       "    </tr>\n",
       "    <tr>\n",
       "      <th>1128092</th>\n",
       "      <td>5716</td>\n",
       "      <td>3617</td>\n",
       "      <td>84.9400</td>\n",
       "      <td>18</td>\n",
       "      <td>2014</td>\n",
       "      <td>5423</td>\n",
       "      <td>39021.326676</td>\n",
       "      <td>22</td>\n",
       "      <td>NaN</td>\n",
       "      <td>9</td>\n",
       "      <td>27142.558383</td>\n",
       "      <td>56865.823529</td>\n",
       "      <td>185000.0</td>\n",
       "      <td>67485.185353</td>\n",
       "    </tr>\n",
       "    <tr>\n",
       "      <th>1128093</th>\n",
       "      <td>5716</td>\n",
       "      <td>3617</td>\n",
       "      <td>84.6500</td>\n",
       "      <td>13</td>\n",
       "      <td>2014</td>\n",
       "      <td>5423</td>\n",
       "      <td>39021.326676</td>\n",
       "      <td>22</td>\n",
       "      <td>NaN</td>\n",
       "      <td>9</td>\n",
       "      <td>27142.558383</td>\n",
       "      <td>56865.823529</td>\n",
       "      <td>185000.0</td>\n",
       "      <td>67681.107344</td>\n",
       "    </tr>\n",
       "  </tbody>\n",
       "</table>\n",
       "<p>9272 rows × 14 columns</p>\n",
       "</div>"
      ],
      "text/plain": [
       "           번지  아파트명   전용면적(㎡)   층  건축년도   도로명         평균공시가격  구_encoded  \\\n",
       "1118822  4682   319   79.9700   5  1987  6025  120960.000000          0   \n",
       "1118823  4657   320  108.2017  10  2021   464  155775.000000          0   \n",
       "1118824  4658   324  161.0000  15  1984   462  182537.777778          0   \n",
       "1118825  4658   324  133.4600  14  1984   462  182537.777778          0   \n",
       "1118826  4658   324  104.4300   6  1984   462  182537.777778          0   \n",
       "...       ...   ...       ...  ..   ...   ...            ...        ...   \n",
       "1128089  5716  3617   84.6500  13  2014  5423   39021.326676         22   \n",
       "1128090  5716  3617   84.6200  12  2014  5423   39021.326676         22   \n",
       "1128091  5716  3617  101.6500  12  2014  5423   39021.326676         22   \n",
       "1128092  5716  3617   84.9400  18  2014  5423   39021.326676         22   \n",
       "1128093  5716  3617   84.6500  13  2014  5423   39021.326676         22   \n",
       "\n",
       "         동_encoded  yrs_diff    계약년과동에따른std   계약년과동에따른mean  계약년과동에따른max  \\\n",
       "1118822        NaN        36  112520.254068  208005.081699     900000.0   \n",
       "1118823        NaN         2  112520.254068  208005.081699     900000.0   \n",
       "1118824        NaN        39  112520.254068  208005.081699     900000.0   \n",
       "1118825        NaN        39  112520.254068  208005.081699     900000.0   \n",
       "1118826        NaN        39  112520.254068  208005.081699     900000.0   \n",
       "...            ...       ...            ...            ...          ...   \n",
       "1128089        NaN         9   27142.558383   56865.823529     185000.0   \n",
       "1128090        NaN         9   27142.558383   56865.823529     185000.0   \n",
       "1128091        NaN         9   27142.558383   56865.823529     185000.0   \n",
       "1128092        NaN         9   27142.558383   56865.823529     185000.0   \n",
       "1128093        NaN         9   27142.558383   56865.823529     185000.0   \n",
       "\n",
       "                target  \n",
       "1118822  172805.210198  \n",
       "1118823  257470.886158  \n",
       "1118824  358742.949075  \n",
       "1118825  267478.784565  \n",
       "1118826  200579.634965  \n",
       "...                ...  \n",
       "1128089   67681.107344  \n",
       "1128090   68102.884189  \n",
       "1128091   82654.824374  \n",
       "1128092   67485.185353  \n",
       "1128093   67681.107344  \n",
       "\n",
       "[9272 rows x 14 columns]"
      ]
     },
     "execution_count": 273,
     "metadata": {},
     "output_type": "execute_result"
    }
   ],
   "source": [
    "# concat\n",
    "\n",
    "concat_test = pd.concat([X_test0, X_test60, X_test135], axis=0)\n",
    "concat_test = concat_test.sort_index()\n",
    "concat_test\n"
   ]
  },
  {
   "cell_type": "code",
   "execution_count": 276,
   "metadata": {},
   "outputs": [],
   "source": [
    "\n",
    "# X_test에서 target만 분리.\n",
    "\n",
    "ttt = concat_test.loc[:,'target']\n",
    "ttt = pd.DataFrame(ttt)\n",
    "\n",
    "ttt= ttt.reset_index()\n",
    "\n",
    "preds_df= ttt.drop(columns='index')\n",
    "preds_df= ttt.drop(columns='index')\n",
    "\n",
    "preds_df2 = pd.DataFrame(preds_df['target'].astype(int), columns=[\"target\"])\n",
    "preds_df2\n",
    "\n",
    "preds_df2.to_csv('gu-dong-encoded_0401_2pm_yoon.csv', index=False)\n",
    "\n"
   ]
  },
  {
   "cell_type": "code",
   "execution_count": 275,
   "metadata": {},
   "outputs": [
    {
     "data": {
      "text/html": [
       "<div>\n",
       "<style scoped>\n",
       "    .dataframe tbody tr th:only-of-type {\n",
       "        vertical-align: middle;\n",
       "    }\n",
       "\n",
       "    .dataframe tbody tr th {\n",
       "        vertical-align: top;\n",
       "    }\n",
       "\n",
       "    .dataframe thead th {\n",
       "        text-align: right;\n",
       "    }\n",
       "</style>\n",
       "<table border=\"1\" class=\"dataframe\">\n",
       "  <thead>\n",
       "    <tr style=\"text-align: right;\">\n",
       "      <th></th>\n",
       "      <th>target</th>\n",
       "    </tr>\n",
       "  </thead>\n",
       "  <tbody>\n",
       "    <tr>\n",
       "      <th>count</th>\n",
       "      <td>9272.00</td>\n",
       "    </tr>\n",
       "    <tr>\n",
       "      <th>mean</th>\n",
       "      <td>105185.85</td>\n",
       "    </tr>\n",
       "    <tr>\n",
       "      <th>std</th>\n",
       "      <td>74000.81</td>\n",
       "    </tr>\n",
       "    <tr>\n",
       "      <th>min</th>\n",
       "      <td>8433.00</td>\n",
       "    </tr>\n",
       "    <tr>\n",
       "      <th>25%</th>\n",
       "      <td>62112.25</td>\n",
       "    </tr>\n",
       "    <tr>\n",
       "      <th>50%</th>\n",
       "      <td>87038.50</td>\n",
       "    </tr>\n",
       "    <tr>\n",
       "      <th>75%</th>\n",
       "      <td>123577.75</td>\n",
       "    </tr>\n",
       "    <tr>\n",
       "      <th>max</th>\n",
       "      <td>1259777.00</td>\n",
       "    </tr>\n",
       "  </tbody>\n",
       "</table>\n",
       "</div>"
      ],
      "text/plain": [
       "           target\n",
       "count     9272.00\n",
       "mean    105185.85\n",
       "std      74000.81\n",
       "min       8433.00\n",
       "25%      62112.25\n",
       "50%      87038.50\n",
       "75%     123577.75\n",
       "max    1259777.00"
      ]
     },
     "execution_count": 275,
     "metadata": {},
     "output_type": "execute_result"
    }
   ],
   "source": [
    "preds_df2.describe().round(2)"
   ]
  },
  {
   "cell_type": "code",
   "execution_count": null,
   "metadata": {},
   "outputs": [],
   "source": []
  },
  {
   "cell_type": "code",
   "execution_count": null,
   "metadata": {},
   "outputs": [],
   "source": []
  }
 ],
 "metadata": {
  "kernelspec": {
   "display_name": "base",
   "language": "python",
   "name": "python3"
  },
  "language_info": {
   "codemirror_mode": {
    "name": "ipython",
    "version": 3
   },
   "file_extension": ".py",
   "mimetype": "text/x-python",
   "name": "python",
   "nbconvert_exporter": "python",
   "pygments_lexer": "ipython3",
   "version": "3.10.13"
  }
 },
 "nbformat": 4,
 "nbformat_minor": 2
}
