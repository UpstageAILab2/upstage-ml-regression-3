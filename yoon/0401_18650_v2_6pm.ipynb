{
 "cells": [
  {
   "cell_type": "code",
   "execution_count": 1,
   "metadata": {},
   "outputs": [],
   "source": [
    "# visualization\n",
    "import matplotlib.pyplot as plt\n",
    "import matplotlib.font_manager as fm\n",
    "fe = fm.FontEntry(\n",
    "    fname=r'/usr/share/fonts/truetype/nanum/NanumGothic.ttf', # ttf 파일이 저장되어 있는 경로\n",
    "    name='NanumBarunGothic')                        # 이 폰트의 원하는 이름 설정\n",
    "fm.fontManager.ttflist.insert(0, fe)              # Matplotlib에 폰트 추가\n",
    "plt.rcParams.update({'font.size': 10, 'font.family': 'NanumBarunGothic'}) # 폰트 설정\n",
    "plt.rc('font', family='NanumBarunGothic')\n",
    "import seaborn as sns\n",
    "\n",
    "# utils\n",
    "import pickle\n",
    "import csv\n",
    "import pandas as pd\n",
    "import numpy as np\n",
    "from tqdm import tqdm\n",
    "import pickle\n",
    "import warnings;warnings.filterwarnings('ignore')\n",
    "import gdown\n",
    "import joblib\n",
    "\n",
    "# Model\n",
    "from sklearn.preprocessing import LabelEncoder\n",
    "from sklearn.model_selection import train_test_split, TimeSeriesSplit\n",
    "from sklearn.metrics import mean_squared_error\n",
    "from sklearn.ensemble import RandomForestRegressor\n",
    "from sklearn import metrics\n",
    "import lightgbm as lgb\n",
    "\n",
    "import eli5\n",
    "from eli5.sklearn import PermutationImportance\n",
    "\n",
    "import os\n",
    "import glob\n",
    "\n",
    "# 코드 셀 실행 후 경고를 무시\n",
    "# import warnings\n",
    "# warnings.filterwarnings(action='ignore')"
   ]
  },
  {
   "cell_type": "markdown",
   "metadata": {},
   "source": [
    "### Load files"
   ]
  },
  {
   "cell_type": "code",
   "execution_count": 2,
   "metadata": {},
   "outputs": [],
   "source": [
    "base_path = \"/root/\"\n",
    "\n",
    "dt_train = pd.read_csv(base_path + \"train.csv\")\n",
    "dt_test = pd.read_csv(base_path + \"test.csv\")"
   ]
  },
  {
   "cell_type": "code",
   "execution_count": 3,
   "metadata": {},
   "outputs": [],
   "source": [
    "extra_data_path = '/root/extra_data/'"
   ]
  },
  {
   "cell_type": "markdown",
   "metadata": {},
   "source": [
    "### values needed from dt_train before merge"
   ]
  },
  {
   "cell_type": "code",
   "execution_count": 4,
   "metadata": {},
   "outputs": [],
   "source": [
    "dt_train['구'] = dt_train['시군구'].map(lambda x : x.split()[1])\n",
    "dt_train['동'] = dt_train['시군구'].map(lambda x : x.split()[2])\n",
    "# del dt_train['시군구']\n",
    "\n",
    "dt_test['구'] = dt_test['시군구'].map(lambda x : x.split()[1])\n",
    "dt_test['동'] = dt_test['시군구'].map(lambda x : x.split()[2])\n",
    "# del dt_test['시군구']"
   ]
  },
  {
   "cell_type": "code",
   "execution_count": 5,
   "metadata": {},
   "outputs": [],
   "source": [
    "dt_train = dt_train[dt_train['계약년월']>=201501]\n",
    "dt_test = dt_test[dt_test['계약년월']>=201501]"
   ]
  },
  {
   "cell_type": "code",
   "execution_count": 6,
   "metadata": {},
   "outputs": [],
   "source": [
    "dt_train_over2020 = dt_train[dt_train['계약년월']>=202001]"
   ]
  },
  {
   "cell_type": "code",
   "execution_count": 7,
   "metadata": {},
   "outputs": [],
   "source": [
    "mean_val_by_gu = dt_train_over2020.groupby(\"구\")[\"target\"].mean().sort_values(ascending=False)\n",
    "mean_val_by_dong = dt_train_over2020.groupby(\"동\")[\"target\"].mean().sort_values(ascending=False)\n",
    "std_val_by_gu = dt_train_over2020.groupby(\"구\")[\"target\"].std().sort_values(ascending=False)\n",
    "std_val_by_dong = dt_train_over2020.groupby(\"동\")[\"target\"].std().sort_values(ascending=False)"
   ]
  },
  {
   "cell_type": "markdown",
   "metadata": {},
   "source": [
    "### Load Table from pickle"
   ]
  },
  {
   "cell_type": "code",
   "execution_count": 8,
   "metadata": {},
   "outputs": [],
   "source": [
    "# pickle에서 데이터프레임 다시 불러오기\n",
    "with open('/root/data.pickle', 'rb') as f:\n",
    "    df = pickle.load(f)"
   ]
  },
  {
   "cell_type": "code",
   "execution_count": 9,
   "metadata": {},
   "outputs": [
    {
     "data": {
      "text/plain": [
       "Index(['번지', '본번', '아파트명', '전용면적(㎡)', '계약년월', '층', '건축년도', '도로명', 'target',\n",
       "       'is_test', '구', '동', '계약년', '계약월', '평균공시가격', '계약일', 'date'],\n",
       "      dtype='object')"
      ]
     },
     "execution_count": 9,
     "metadata": {},
     "output_type": "execute_result"
    }
   ],
   "source": [
    "df.columns"
   ]
  },
  {
   "cell_type": "code",
   "execution_count": 10,
   "metadata": {},
   "outputs": [],
   "source": [
    "df = df[df['계약년월']>=201501]"
   ]
  },
  {
   "cell_type": "markdown",
   "metadata": {},
   "source": [
    "### concat to process"
   ]
  },
  {
   "cell_type": "code",
   "execution_count": 11,
   "metadata": {},
   "outputs": [],
   "source": [
    "# train/test 구분을 위한 칼럼을 하나 만들어 줍니다.\n",
    "dt_train['is_test'] = 0\n",
    "dt_test['is_test'] = 1"
   ]
  },
  {
   "cell_type": "code",
   "execution_count": 12,
   "metadata": {},
   "outputs": [],
   "source": [
    "dt = pd.concat([dt_train, dt_test])"
   ]
  },
  {
   "cell_type": "code",
   "execution_count": 13,
   "metadata": {},
   "outputs": [
    {
     "data": {
      "text/plain": [
       "0    636736\n",
       "1      9272\n",
       "Name: is_test, dtype: int64"
      ]
     },
     "execution_count": 13,
     "metadata": {},
     "output_type": "execute_result"
    }
   ],
   "source": [
    "dt['is_test'].value_counts()"
   ]
  },
  {
   "cell_type": "code",
   "execution_count": 14,
   "metadata": {},
   "outputs": [],
   "source": [
    "df['large_std_동'] = df['동']\n",
    "df.drop(['동'], axis=1, inplace=True)"
   ]
  },
  {
   "cell_type": "code",
   "execution_count": 15,
   "metadata": {},
   "outputs": [],
   "source": [
    "dt = dt.reset_index()"
   ]
  },
  {
   "cell_type": "code",
   "execution_count": 16,
   "metadata": {},
   "outputs": [],
   "source": [
    "df['동'] = dt['동']"
   ]
  },
  {
   "cell_type": "markdown",
   "metadata": {},
   "source": [
    "### 구 동 encoding of df"
   ]
  },
  {
   "cell_type": "code",
   "execution_count": 17,
   "metadata": {},
   "outputs": [],
   "source": [
    "exp_dongs = ['청담동', '압구정동', '청담동', '삼성동', '도곡동', '반포동', '한남동', '성수동']\n",
    "df[\"exp_dongs\"] = df[\"동\"].apply(lambda x : 1 if x in exp_dongs else 0)"
   ]
  },
  {
   "cell_type": "code",
   "execution_count": 18,
   "metadata": {},
   "outputs": [],
   "source": [
    "order1_mean_gu = mean_val_by_gu.index.tolist()\n",
    "order2_mean_dong = mean_val_by_dong.index.tolist()\n",
    "order3_std_gu = std_val_by_gu.index.tolist()\n",
    "order4_std_dong = std_val_by_dong.index.tolist()\n",
    "\n",
    "# Create a dictionary to map district names to their corresponding label encoded values\n",
    "gu_mapping1 = {district: label for label, district in enumerate(order1_mean_gu)}\n",
    "gu_mapping2 = {district: label for label, district in enumerate(order3_std_gu)}\n",
    "dong_mapping1 = {dong: label for label, dong in enumerate(order2_mean_dong)}\n",
    "dong_mapping2 = {dong: label for label, dong in enumerate(order4_std_dong)}\n",
    "\n",
    "df['구_encoded'] = df[\"구\"].map(gu_mapping1)\n",
    "df['구_std'] = df[\"구\"].map(gu_mapping2)\n",
    "df['동_encoded'] = df[\"동\"].map(dong_mapping1)\n",
    "df['동_std'] = df[\"동\"].map(dong_mapping2)"
   ]
  },
  {
   "cell_type": "code",
   "execution_count": 19,
   "metadata": {},
   "outputs": [],
   "source": [
    "df['yrs_diff'] = df['계약년월'].map(lambda x : x // 100) - df['건축년도']"
   ]
  },
  {
   "cell_type": "code",
   "execution_count": 20,
   "metadata": {},
   "outputs": [],
   "source": [
    "df['is_public'] = dt[\"k-전용면적별세대현황(60㎡이하)\"].notnull()"
   ]
  },
  {
   "cell_type": "markdown",
   "metadata": {},
   "source": [
    "### 년도에따라 동, 구별 statistics 추가"
   ]
  },
  {
   "cell_type": "code",
   "execution_count": 21,
   "metadata": {},
   "outputs": [],
   "source": [
    "stats = df.groupby(['계약년', '구'])['target'].agg(['std', 'mean', 'max'])\n",
    "df = df.join(stats, on=['계약년', '구'], rsuffix='_target')"
   ]
  },
  {
   "cell_type": "code",
   "execution_count": 22,
   "metadata": {},
   "outputs": [],
   "source": [
    "df['계약년과구에따른std'] = df['std']\n",
    "df['계약년과구에따른mean'] = df['mean']\n",
    "df['계약년과구에따른max'] = df['max']\n",
    "df.drop(['std', 'mean', 'max'], axis=1, inplace=True)"
   ]
  },
  {
   "cell_type": "code",
   "execution_count": 23,
   "metadata": {},
   "outputs": [],
   "source": [
    "stats = df.groupby(['계약년', '동'])['target'].agg(['std', 'mean', 'max'])\n",
    "df = df.join(stats, on=['계약년', '동'], rsuffix='_target')"
   ]
  },
  {
   "cell_type": "code",
   "execution_count": 24,
   "metadata": {},
   "outputs": [],
   "source": [
    "df['계약년과동에따른std'] = df['std']\n",
    "df['계약년과동에따른mean'] = df['mean']\n",
    "df['계약년과동에따른max'] = df['max']\n",
    "df.drop(['std', 'mean', 'max'], axis=1, inplace=True)"
   ]
  },
  {
   "cell_type": "code",
   "execution_count": 25,
   "metadata": {},
   "outputs": [],
   "source": [
    "# '계약년과동에따른std', '계약년과동에따른mean', '계약년과동에따른max'의 null 값을\n",
    "# '계약년과구에따른std', '계약년과구에따른mean', '계약년과구에따른max'의 값으로 채우기\n",
    "df['계약년과동에따른std'] = df['계약년과동에따른std'].fillna(df['계약년과구에따른std'])\n",
    "df['계약년과동에따른mean'] = df['계약년과동에따른mean'].fillna(df['계약년과구에따른mean'])\n",
    "df['계약년과동에따른max'] = df['계약년과동에따른max'].fillna(df['계약년과구에따른max'])"
   ]
  },
  {
   "cell_type": "code",
   "execution_count": 26,
   "metadata": {},
   "outputs": [],
   "source": [
    "df.drop(['계약년과구에따른std', '계약년과구에따른mean', '계약년과구에따른max'], axis=1, inplace=True)"
   ]
  },
  {
   "cell_type": "markdown",
   "metadata": {},
   "source": [
    "### yrs_diff 에따른 통계량 추가"
   ]
  },
  {
   "cell_type": "code",
   "execution_count": 27,
   "metadata": {},
   "outputs": [],
   "source": [
    "stats = df.groupby(['yrs_diff', '구'])['target'].agg(['std', 'mean', 'max'])\n",
    "df = df.join(stats, on=['yrs_diff', '구'], rsuffix='_target')"
   ]
  },
  {
   "cell_type": "code",
   "execution_count": 28,
   "metadata": {},
   "outputs": [],
   "source": [
    "df['yrs_diff와구에따른std'] = df['std']\n",
    "df['yrs_diff와구에따른mean'] = df['mean']\n",
    "df['yrs_diff와구에따른max'] = df['max']\n",
    "df.drop(['std', 'mean', 'max'], axis=1, inplace=True)"
   ]
  },
  {
   "cell_type": "code",
   "execution_count": 29,
   "metadata": {},
   "outputs": [],
   "source": [
    "stats = df.groupby(['yrs_diff', '동'])['target'].agg(['std', 'mean', 'max'])\n",
    "df = df.join(stats, on=['yrs_diff', '동'], rsuffix='_target')"
   ]
  },
  {
   "cell_type": "code",
   "execution_count": 30,
   "metadata": {},
   "outputs": [],
   "source": [
    "df['yrs_diff와동에따른std'] = df['std']\n",
    "df['yrs_diff와동에따른mean'] = df['mean']\n",
    "df['yrs_diff와동에따른max'] = df['max']\n",
    "df.drop(['std', 'mean', 'max'], axis=1, inplace=True)"
   ]
  },
  {
   "cell_type": "code",
   "execution_count": 31,
   "metadata": {},
   "outputs": [],
   "source": [
    "# '계약년과동에따른std', '계약년과동에따른mean', '계약년과동에따른max'의 null 값을\n",
    "# '계약년과구에따른std', '계약년과구에따른mean', '계약년과구에따른max'의 값으로 채우기\n",
    "df['yrs_diff와동에따른std'] = df['yrs_diff와동에따른std'].fillna(df['yrs_diff와구에따른std'])\n",
    "df['yrs_diff와동에따른mean'] = df['yrs_diff와동에따른mean'].fillna(df['yrs_diff와구에따른mean'])\n",
    "df['yrs_diff와동에따른max'] = df['yrs_diff와동에따른max'].fillna(df['yrs_diff와구에따른max'])"
   ]
  },
  {
   "cell_type": "code",
   "execution_count": 32,
   "metadata": {},
   "outputs": [],
   "source": [
    "df.drop(['yrs_diff와구에따른std', 'yrs_diff와구에따른mean', 'yrs_diff와구에따른max'], axis=1, inplace=True)"
   ]
  },
  {
   "cell_type": "code",
   "execution_count": 33,
   "metadata": {},
   "outputs": [],
   "source": [
    "df.drop(['동', 'large_std_동', '본번'], axis=1, inplace=True)"
   ]
  },
  {
   "cell_type": "markdown",
   "metadata": {},
   "source": [
    "### KOSPI 종가 delay"
   ]
  },
  {
   "cell_type": "code",
   "execution_count": 34,
   "metadata": {},
   "outputs": [],
   "source": [
    "# Use glob to find all files that match the pattern\n",
    "file_paths = glob.glob(extra_data_path + \"/KOSPI_*.csv\")\n",
    "\n",
    "# Initialize an empty list to store the dataframes\n",
    "dfs = []\n",
    "\n",
    "# Iterate over the file paths and read each CSV file into a dataframe\n",
    "for file_path in file_paths:\n",
    "    kospi_df_yr = pd.read_csv(file_path, encoding=\"euc-kr\")\n",
    "    dfs.append(kospi_df_yr)\n",
    "\n",
    "kospi_df = pd.concat(dfs, ignore_index=True)\n",
    "kospi_df = kospi_df.drop(columns=['시가', '고가', '저가'])"
   ]
  },
  {
   "cell_type": "code",
   "execution_count": 35,
   "metadata": {},
   "outputs": [],
   "source": [
    "kospi_df.rename(columns={\"일자\":\"date\", \"종가\":\"Close\"}, inplace=True)\n",
    "kospi_df[\"date\"] = kospi_df['date'].str.replace('/', '-')\n",
    "kospi_df[\"date\"] = pd.to_datetime(kospi_df[\"date\"])\n",
    "kospi_df.sort_values(by='date', ascending=True, inplace=True)"
   ]
  },
  {
   "cell_type": "code",
   "execution_count": 36,
   "metadata": {},
   "outputs": [],
   "source": [
    "kospi_df[\"Close_delay120d\"] = kospi_df[\"Close\"].shift(120)"
   ]
  },
  {
   "cell_type": "code",
   "execution_count": 37,
   "metadata": {},
   "outputs": [
    {
     "data": {
      "text/plain": [
       "Index(['번지', '아파트명', '전용면적(㎡)', '계약년월', '층', '건축년도', '도로명', 'target',\n",
       "       'is_test', '구', '계약년', '계약월', '평균공시가격', '계약일', 'date', 'exp_dongs',\n",
       "       '구_encoded', '구_std', '동_encoded', '동_std', 'yrs_diff', 'is_public',\n",
       "       '계약년과동에따른std', '계약년과동에따른mean', '계약년과동에따른max', 'yrs_diff와동에따른std',\n",
       "       'yrs_diff와동에따른mean', 'yrs_diff와동에따른max'],\n",
       "      dtype='object')"
      ]
     },
     "execution_count": 37,
     "metadata": {},
     "output_type": "execute_result"
    }
   ],
   "source": [
    "df.columns"
   ]
  },
  {
   "cell_type": "code",
   "execution_count": 38,
   "metadata": {},
   "outputs": [],
   "source": [
    "df['date'] = pd.to_datetime(df['계약년'].astype(str) + '-' + df['계약월'].astype(str) + '-' + df['계약일'].astype(str))"
   ]
  },
  {
   "cell_type": "code",
   "execution_count": 39,
   "metadata": {},
   "outputs": [],
   "source": [
    "df = pd.merge(left=df, right=kospi_df, on='date', how='left')"
   ]
  },
  {
   "cell_type": "code",
   "execution_count": 40,
   "metadata": {},
   "outputs": [],
   "source": [
    "df.drop(columns=['Close', '대비', '등락률', '거래량', '거래대금', '상장시가총액'], inplace=True)"
   ]
  },
  {
   "cell_type": "code",
   "execution_count": 41,
   "metadata": {},
   "outputs": [],
   "source": [
    "df[\"Close_delay120d\"] = df[\"Close_delay120d\"].interpolate(method='linear', axis=0)"
   ]
  },
  {
   "cell_type": "code",
   "execution_count": 42,
   "metadata": {},
   "outputs": [],
   "source": [
    "df['date'] = df['date'].astype(str)"
   ]
  },
  {
   "cell_type": "code",
   "execution_count": 43,
   "metadata": {},
   "outputs": [],
   "source": [
    "df.drop(['구', '구_std', '동_std', '계약년월', '계약년', '계약월', '계약일'], axis=1, inplace=True)"
   ]
  },
  {
   "cell_type": "markdown",
   "metadata": {},
   "source": [
    "### 면적당단가 적용"
   ]
  },
  {
   "cell_type": "code",
   "execution_count": 44,
   "metadata": {},
   "outputs": [
    {
     "data": {
      "text/plain": [
       "Index(['번지', '아파트명', '전용면적(㎡)', '층', '건축년도', '도로명', 'target', 'is_test',\n",
       "       '평균공시가격', 'date', 'exp_dongs', '구_encoded', '동_encoded', 'yrs_diff',\n",
       "       'is_public', '계약년과동에따른std', '계약년과동에따른mean', '계약년과동에따른max',\n",
       "       'yrs_diff와동에따른std', 'yrs_diff와동에따른mean', 'yrs_diff와동에따른max',\n",
       "       'Close_delay120d'],\n",
       "      dtype='object')"
      ]
     },
     "execution_count": 44,
     "metadata": {},
     "output_type": "execute_result"
    }
   ],
   "source": [
    "df.columns"
   ]
  },
  {
   "cell_type": "code",
   "execution_count": 45,
   "metadata": {},
   "outputs": [],
   "source": [
    "df['ann_price_per_area'] = df['평균공시가격'] / df['전용면적(㎡)']"
   ]
  },
  {
   "cell_type": "code",
   "execution_count": 46,
   "metadata": {},
   "outputs": [
    {
     "data": {
      "text/plain": [
       "0"
      ]
     },
     "execution_count": 46,
     "metadata": {},
     "output_type": "execute_result"
    }
   ],
   "source": [
    "df['ann_price_per_area'].isnull().sum()"
   ]
  },
  {
   "cell_type": "code",
   "execution_count": 47,
   "metadata": {},
   "outputs": [],
   "source": [
    "df['target_price_per_area'] = df['target'] / df['전용면적(㎡)']"
   ]
  },
  {
   "cell_type": "code",
   "execution_count": 48,
   "metadata": {},
   "outputs": [
    {
     "data": {
      "text/plain": [
       "9272"
      ]
     },
     "execution_count": 48,
     "metadata": {},
     "output_type": "execute_result"
    }
   ],
   "source": [
    "df['target_price_per_area'].isnull().sum()"
   ]
  },
  {
   "cell_type": "code",
   "execution_count": 49,
   "metadata": {},
   "outputs": [],
   "source": [
    "# Sort the DataFrame by '도로명', '전용면적', and any relevant time column (if available)\n",
    "df_sorted = df.sort_values(by=['도로명', '전용면적(㎡)', 'date'], ascending=True)\n",
    "\n",
    "# Forward fill missing values in 'price_per_area' based on '도로명' and '전용면적'\n",
    "df['target_price_per_area'] = df_sorted.groupby(['도로명', '전용면적(㎡)'])['target_price_per_area'].ffill()\n",
    "\n",
    "# If there are any remaining missing values after forward fill, you can backfill them\n",
    "df['target_price_per_area'] = df['target_price_per_area'].bfill()"
   ]
  },
  {
   "cell_type": "code",
   "execution_count": 50,
   "metadata": {},
   "outputs": [
    {
     "data": {
      "text/plain": [
       "0"
      ]
     },
     "execution_count": 50,
     "metadata": {},
     "output_type": "execute_result"
    }
   ],
   "source": [
    "df['target_price_per_area'].isnull().sum()"
   ]
  },
  {
   "cell_type": "code",
   "execution_count": 51,
   "metadata": {},
   "outputs": [],
   "source": [
    "df['over_240'] = df['전용면적(㎡)'].apply(lambda x: 1 if x > 240 else 0)"
   ]
  },
  {
   "cell_type": "code",
   "execution_count": 52,
   "metadata": {},
   "outputs": [
    {
     "data": {
      "text/plain": [
       "0    645029\n",
       "1       979\n",
       "Name: over_240, dtype: int64"
      ]
     },
     "execution_count": 52,
     "metadata": {},
     "output_type": "execute_result"
    }
   ],
   "source": [
    "df['over_240'].value_counts()"
   ]
  },
  {
   "cell_type": "code",
   "execution_count": 53,
   "metadata": {},
   "outputs": [],
   "source": [
    "df['maxfl'] = df_sorted.groupby('아파트명')['층'].transform('max')\n",
    "df['is_maxfl'] = (df['층'] == df['maxfl']).astype(int)"
   ]
  },
  {
   "cell_type": "code",
   "execution_count": 54,
   "metadata": {},
   "outputs": [
    {
     "data": {
      "text/plain": [
       "0    618907\n",
       "1     27101\n",
       "Name: is_maxfl, dtype: int64"
      ]
     },
     "execution_count": 54,
     "metadata": {},
     "output_type": "execute_result"
    }
   ],
   "source": [
    "df['is_maxfl'].value_counts()"
   ]
  },
  {
   "cell_type": "code",
   "execution_count": 55,
   "metadata": {},
   "outputs": [],
   "source": [
    "del df['maxfl']"
   ]
  },
  {
   "cell_type": "code",
   "execution_count": 56,
   "metadata": {},
   "outputs": [],
   "source": [
    "df['over_27yrs'] = df['yrs_diff'].apply(lambda x: 1 if x > 27 else 0)"
   ]
  },
  {
   "cell_type": "code",
   "execution_count": 57,
   "metadata": {},
   "outputs": [
    {
     "data": {
      "text/plain": [
       "0    526483\n",
       "1    119525\n",
       "Name: over_27yrs, dtype: int64"
      ]
     },
     "execution_count": 57,
     "metadata": {},
     "output_type": "execute_result"
    }
   ],
   "source": [
    "df['over_27yrs'].value_counts()"
   ]
  },
  {
   "cell_type": "markdown",
   "metadata": {},
   "source": [
    "### Feature Engineering"
   ]
  },
  {
   "cell_type": "markdown",
   "metadata": {},
   "source": [
    "### Train"
   ]
  },
  {
   "cell_type": "code",
   "execution_count": 58,
   "metadata": {},
   "outputs": [
    {
     "name": "stdout",
     "output_type": "stream",
     "text": [
      "(636736, 26) (9272, 26)\n"
     ]
    }
   ],
   "source": [
    "df_train = df.loc[df['is_test']==0, :]\n",
    "df_test = df.loc[df['is_test']==1, :]\n",
    "\n",
    "df_train.drop(['is_test'], axis=1, inplace=True)\n",
    "df_test.drop(['is_test'], axis=1, inplace=True)\n",
    "print(df_train.shape, df_test.shape)"
   ]
  },
  {
   "cell_type": "code",
   "execution_count": 59,
   "metadata": {},
   "outputs": [
    {
     "name": "stdout",
     "output_type": "stream",
     "text": [
      "연속형 변수: ['전용면적(㎡)', '층', '건축년도', 'target', '평균공시가격', 'exp_dongs', '구_encoded', '동_encoded', 'yrs_diff', '계약년과동에따른std', '계약년과동에따른mean', '계약년과동에따른max', 'yrs_diff와동에따른std', 'yrs_diff와동에따른mean', 'yrs_diff와동에따른max', 'Close_delay120d', 'ann_price_per_area', 'target_price_per_area', 'over_240', 'is_maxfl', 'over_27yrs']\n",
      "범주형 변수: ['번지', '아파트명', '도로명', 'date', 'is_public']\n"
     ]
    }
   ],
   "source": [
    "# 변수 삭제 및 파생변수 제작으로 추가된 변수들이 존재하기에, 다시한번 연속형과 범주형 칼럼을 분리해주겠습니다.\n",
    "continuous_columns = []\n",
    "categorical_columns = []\n",
    "\n",
    "for column in df_train.columns:\n",
    "    if pd.api.types.is_numeric_dtype(df_train[column]):\n",
    "        continuous_columns.append(column)\n",
    "    else:\n",
    "        categorical_columns.append(column)\n",
    "\n",
    "print(\"연속형 변수:\", continuous_columns)\n",
    "print(\"범주형 변수:\", categorical_columns)"
   ]
  },
  {
   "cell_type": "code",
   "execution_count": 60,
   "metadata": {},
   "outputs": [
    {
     "name": "stderr",
     "output_type": "stream",
     "text": [
      "100%|██████████| 5/5 [00:01<00:00,  2.83it/s]\n"
     ]
    }
   ],
   "source": [
    "# 아래에서 범주형 변수들을 대상으로 레이블인코딩을 진행해 주겠습니다.\n",
    "\n",
    "# 각 변수에 대한 LabelEncoder를 저장할 딕셔너리\n",
    "label_encoders = {}\n",
    "\n",
    "# Implement Label Encoding\n",
    "for col in tqdm(categorical_columns):\n",
    "    lbl = LabelEncoder()\n",
    "\n",
    "    # Label-Encoding을 fit\n",
    "    lbl.fit( df_train[col].astype(str) )\n",
    "    df_train[col] = lbl.transform(df_train[col].astype(str))\n",
    "    label_encoders[col] = lbl           # 나중에 후처리를 위해 레이블인코더를 저장해주겠습니다.\n",
    "\n",
    "    # Test 데이터에만 존재하는 새로 출현한 데이터를 신규 클래스로 추가해줍니다.\n",
    "    for label in np.unique(df_test[col]):\n",
    "      if label not in lbl.classes_: # unseen label 데이터인 경우\n",
    "        lbl.classes_ = np.append(lbl.classes_, label) # 미처리 시 ValueError발생하니 주의하세요!\n",
    "\n",
    "    df_test[col] = lbl.transform(df_test[col].astype(str))"
   ]
  },
  {
   "cell_type": "code",
   "execution_count": 61,
   "metadata": {},
   "outputs": [],
   "source": [
    "df_train0 = df_train[(df_train['전용면적(㎡)']<60)]\n",
    "df_train60 = df_train[(df_train['전용면적(㎡)']>=60)&(df_train['전용면적(㎡)']<135)]\n",
    "df_train135 = df_train[(df_train['전용면적(㎡)']>=135)]"
   ]
  },
  {
   "cell_type": "code",
   "execution_count": 62,
   "metadata": {},
   "outputs": [],
   "source": [
    "X_test = df_test.drop(['target'], axis=1)\n",
    "# X_test = X_test.drop(columns='Close_delay120d')\n",
    "# X_test = X_test.drop(columns='계약년월')\n",
    "\n",
    "X_test\n",
    "X_test0 = X_test[(X_test['전용면적(㎡)']<60)]\n",
    "X_test60 = X_test[(X_test['전용면적(㎡)']>=60)&(X_test['전용면적(㎡)']<135)]\n",
    "X_test135 = X_test[(X_test['전용면적(㎡)']>=135)]"
   ]
  },
  {
   "cell_type": "code",
   "execution_count": 63,
   "metadata": {},
   "outputs": [],
   "source": [
    "y_train0 = df_train0['target']\n",
    "X_train0 = df_train0.drop(['target'], axis=1)\n",
    "\n",
    "\n",
    "y_train60 = df_train60['target']\n",
    "X_train60 = df_train60.drop(['target'], axis=1)\n",
    "\n",
    "y_train135 = df_train135['target']\n",
    "X_train135 = df_train135.drop(['target'], axis=1)"
   ]
  },
  {
   "cell_type": "code",
   "execution_count": 64,
   "metadata": {},
   "outputs": [
    {
     "data": {
      "text/plain": [
       "Index(['번지', '아파트명', '전용면적(㎡)', '층', '건축년도', '도로명', '평균공시가격', 'date',\n",
       "       'exp_dongs', '구_encoded', '동_encoded', 'yrs_diff', 'is_public',\n",
       "       '계약년과동에따른std', '계약년과동에따른mean', '계약년과동에따른max', 'yrs_diff와동에따른std',\n",
       "       'yrs_diff와동에따른mean', 'yrs_diff와동에따른max', 'Close_delay120d',\n",
       "       'ann_price_per_area', 'target_price_per_area', 'over_240', 'is_maxfl',\n",
       "       'over_27yrs'],\n",
       "      dtype='object')"
      ]
     },
     "execution_count": 64,
     "metadata": {},
     "output_type": "execute_result"
    }
   ],
   "source": [
    "X_train0.columns"
   ]
  },
  {
   "cell_type": "code",
   "execution_count": 65,
   "metadata": {},
   "outputs": [],
   "source": [
    "drop_col_under135 = ['target_price_per_area', 'over_240', 'is_maxfl']\n",
    "drop_col_over135 = ['ann_price_per_area', 'is_public', 'date']"
   ]
  },
  {
   "cell_type": "code",
   "execution_count": 66,
   "metadata": {},
   "outputs": [],
   "source": [
    "X_train0.drop(columns=drop_col_under135, inplace=True)\n",
    "X_test0.drop(columns=drop_col_under135, inplace=True)\n",
    "X_train60.drop(columns=drop_col_under135, inplace=True)\n",
    "X_test60.drop(columns=drop_col_under135, inplace=True)"
   ]
  },
  {
   "cell_type": "code",
   "execution_count": 67,
   "metadata": {},
   "outputs": [],
   "source": [
    "# Split the data into train and validation sets\n",
    "X_train0, X_val0, y_train0, y_val0 = train_test_split(X_train0, y_train0, test_size=0.2, random_state=2023)\n",
    "X_train60, X_val60, y_train60, y_val60 = train_test_split(X_train60, y_train60, test_size=0.2, random_state=2023)"
   ]
  },
  {
   "cell_type": "code",
   "execution_count": 68,
   "metadata": {},
   "outputs": [
    {
     "name": "stdout",
     "output_type": "stream",
     "text": [
      "(196015, 22) (49004, 22)\n",
      "(291853, 22) (72964, 22)\n"
     ]
    }
   ],
   "source": [
    "print(X_train0.shape, X_val0.shape)\n",
    "print(X_train60.shape, X_val60.shape)"
   ]
  },
  {
   "cell_type": "code",
   "execution_count": 69,
   "metadata": {},
   "outputs": [
    {
     "data": {
      "text/plain": [
       "Index(['번지', '아파트명', '전용면적(㎡)', '층', '건축년도', '도로명', '평균공시가격', 'date',\n",
       "       'exp_dongs', '구_encoded', '동_encoded', 'yrs_diff', 'is_public',\n",
       "       '계약년과동에따른std', '계약년과동에따른mean', '계약년과동에따른max', 'yrs_diff와동에따른std',\n",
       "       'yrs_diff와동에따른mean', 'yrs_diff와동에따른max', 'Close_delay120d',\n",
       "       'ann_price_per_area', 'over_27yrs'],\n",
       "      dtype='object')"
      ]
     },
     "execution_count": 69,
     "metadata": {},
     "output_type": "execute_result"
    }
   ],
   "source": [
    "X_train0.columns"
   ]
  },
  {
   "cell_type": "code",
   "execution_count": 70,
   "metadata": {},
   "outputs": [],
   "source": [
    "gbm0 = lgb.LGBMRegressor(n_estimators=5000, max_depth=50, num_leaves=1200, min_child_samples=30,\n",
    "                            feature_fraction=0.7,\n",
    "                            bagging_fraction=0.9, verbosity=-1)\n",
    "\n",
    "\n",
    "\n",
    "gbm60 = lgb.LGBMRegressor(n_estimators=5000, max_depth=50, num_leaves=1200, min_child_samples=30,\n",
    "                            feature_fraction=0.7,\n",
    "                            bagging_fraction=0.9, verbosity=-1)"
   ]
  },
  {
   "cell_type": "code",
   "execution_count": 71,
   "metadata": {},
   "outputs": [
    {
     "name": "stdout",
     "output_type": "stream",
     "text": [
      "Training until validation scores don't improve for 50 rounds\n",
      "[100]\ttraining's rmse: 2080.32\ttraining's l2: 4.32771e+06\tvalid_1's rmse: 3547.25\tvalid_1's l2: 1.2583e+07\n",
      "[200]\ttraining's rmse: 1574.73\ttraining's l2: 2.47976e+06\tvalid_1's rmse: 3461.81\tvalid_1's l2: 1.19841e+07\n",
      "[300]\ttraining's rmse: 1296.7\ttraining's l2: 1.68143e+06\tvalid_1's rmse: 3452.84\tvalid_1's l2: 1.19221e+07\n",
      "Early stopping, best iteration is:\n",
      "[285]\ttraining's rmse: 1331.54\ttraining's l2: 1.77299e+06\tvalid_1's rmse: 3452.22\tvalid_1's l2: 1.19178e+07\n"
     ]
    },
    {
     "data": {
      "text/html": [
       "<style>#sk-container-id-1 {color: black;background-color: white;}#sk-container-id-1 pre{padding: 0;}#sk-container-id-1 div.sk-toggleable {background-color: white;}#sk-container-id-1 label.sk-toggleable__label {cursor: pointer;display: block;width: 100%;margin-bottom: 0;padding: 0.3em;box-sizing: border-box;text-align: center;}#sk-container-id-1 label.sk-toggleable__label-arrow:before {content: \"▸\";float: left;margin-right: 0.25em;color: #696969;}#sk-container-id-1 label.sk-toggleable__label-arrow:hover:before {color: black;}#sk-container-id-1 div.sk-estimator:hover label.sk-toggleable__label-arrow:before {color: black;}#sk-container-id-1 div.sk-toggleable__content {max-height: 0;max-width: 0;overflow: hidden;text-align: left;background-color: #f0f8ff;}#sk-container-id-1 div.sk-toggleable__content pre {margin: 0.2em;color: black;border-radius: 0.25em;background-color: #f0f8ff;}#sk-container-id-1 input.sk-toggleable__control:checked~div.sk-toggleable__content {max-height: 200px;max-width: 100%;overflow: auto;}#sk-container-id-1 input.sk-toggleable__control:checked~label.sk-toggleable__label-arrow:before {content: \"▾\";}#sk-container-id-1 div.sk-estimator input.sk-toggleable__control:checked~label.sk-toggleable__label {background-color: #d4ebff;}#sk-container-id-1 div.sk-label input.sk-toggleable__control:checked~label.sk-toggleable__label {background-color: #d4ebff;}#sk-container-id-1 input.sk-hidden--visually {border: 0;clip: rect(1px 1px 1px 1px);clip: rect(1px, 1px, 1px, 1px);height: 1px;margin: -1px;overflow: hidden;padding: 0;position: absolute;width: 1px;}#sk-container-id-1 div.sk-estimator {font-family: monospace;background-color: #f0f8ff;border: 1px dotted black;border-radius: 0.25em;box-sizing: border-box;margin-bottom: 0.5em;}#sk-container-id-1 div.sk-estimator:hover {background-color: #d4ebff;}#sk-container-id-1 div.sk-parallel-item::after {content: \"\";width: 100%;border-bottom: 1px solid gray;flex-grow: 1;}#sk-container-id-1 div.sk-label:hover label.sk-toggleable__label {background-color: #d4ebff;}#sk-container-id-1 div.sk-serial::before {content: \"\";position: absolute;border-left: 1px solid gray;box-sizing: border-box;top: 0;bottom: 0;left: 50%;z-index: 0;}#sk-container-id-1 div.sk-serial {display: flex;flex-direction: column;align-items: center;background-color: white;padding-right: 0.2em;padding-left: 0.2em;position: relative;}#sk-container-id-1 div.sk-item {position: relative;z-index: 1;}#sk-container-id-1 div.sk-parallel {display: flex;align-items: stretch;justify-content: center;background-color: white;position: relative;}#sk-container-id-1 div.sk-item::before, #sk-container-id-1 div.sk-parallel-item::before {content: \"\";position: absolute;border-left: 1px solid gray;box-sizing: border-box;top: 0;bottom: 0;left: 50%;z-index: -1;}#sk-container-id-1 div.sk-parallel-item {display: flex;flex-direction: column;z-index: 1;position: relative;background-color: white;}#sk-container-id-1 div.sk-parallel-item:first-child::after {align-self: flex-end;width: 50%;}#sk-container-id-1 div.sk-parallel-item:last-child::after {align-self: flex-start;width: 50%;}#sk-container-id-1 div.sk-parallel-item:only-child::after {width: 0;}#sk-container-id-1 div.sk-dashed-wrapped {border: 1px dashed gray;margin: 0 0.4em 0.5em 0.4em;box-sizing: border-box;padding-bottom: 0.4em;background-color: white;}#sk-container-id-1 div.sk-label label {font-family: monospace;font-weight: bold;display: inline-block;line-height: 1.2em;}#sk-container-id-1 div.sk-label-container {text-align: center;}#sk-container-id-1 div.sk-container {/* jupyter's `normalize.less` sets `[hidden] { display: none; }` but bootstrap.min.css set `[hidden] { display: none !important; }` so we also need the `!important` here to be able to override the default hidden behavior on the sphinx rendered scikit-learn.org. See: https://github.com/scikit-learn/scikit-learn/issues/21755 */display: inline-block !important;position: relative;}#sk-container-id-1 div.sk-text-repr-fallback {display: none;}</style><div id=\"sk-container-id-1\" class=\"sk-top-container\"><div class=\"sk-text-repr-fallback\"><pre>LGBMRegressor(bagging_fraction=0.9, feature_fraction=0.7, max_depth=50,\n",
       "              min_child_samples=30, n_estimators=5000, num_leaves=1200,\n",
       "              verbosity=-1)</pre><b>In a Jupyter environment, please rerun this cell to show the HTML representation or trust the notebook. <br />On GitHub, the HTML representation is unable to render, please try loading this page with nbviewer.org.</b></div><div class=\"sk-container\" hidden><div class=\"sk-item\"><div class=\"sk-estimator sk-toggleable\"><input class=\"sk-toggleable__control sk-hidden--visually\" id=\"sk-estimator-id-1\" type=\"checkbox\" checked><label for=\"sk-estimator-id-1\" class=\"sk-toggleable__label sk-toggleable__label-arrow\">LGBMRegressor</label><div class=\"sk-toggleable__content\"><pre>LGBMRegressor(bagging_fraction=0.9, feature_fraction=0.7, max_depth=50,\n",
       "              min_child_samples=30, n_estimators=5000, num_leaves=1200,\n",
       "              verbosity=-1)</pre></div></div></div></div></div>"
      ],
      "text/plain": [
       "LGBMRegressor(bagging_fraction=0.9, feature_fraction=0.7, max_depth=50,\n",
       "              min_child_samples=30, n_estimators=5000, num_leaves=1200,\n",
       "              verbosity=-1)"
      ]
     },
     "execution_count": 71,
     "metadata": {},
     "output_type": "execute_result"
    }
   ],
   "source": [
    "gbm0.fit(\n",
    "        X_train0, y_train0, \n",
    "        eval_set=[(X_train0, y_train0), (X_val0, y_val0)], \n",
    "        eval_metric='rmse',\n",
    "        callbacks=[lgb.early_stopping(stopping_rounds=50),\n",
    "                   lgb.log_evaluation(period=100, show_stdv=True)]\n",
    "        )\n"
   ]
  },
  {
   "cell_type": "code",
   "execution_count": 72,
   "metadata": {},
   "outputs": [
    {
     "data": {
      "image/png": "[encoded data removed]",
      "text/plain": [
       "<Figure size 1000x800 with 1 Axes>"
      ]
     },
     "metadata": {},
     "output_type": "display_data"
    }
   ],
   "source": [
    "# 위 feature importance를 시각화해봅니다.\n",
    "importances = pd.Series(gbm0.feature_importances_, index=list(X_train0.columns))\n",
    "importances = importances.sort_values(ascending=False)\n",
    "\n",
    "plt.figure(figsize=(10,8))\n",
    "plt.title(\"Feature Importances\")\n",
    "sns.barplot(x=importances, y=importances.index)\n",
    "plt.show()"
   ]
  },
  {
   "cell_type": "code",
   "execution_count": 73,
   "metadata": {},
   "outputs": [
    {
     "data": {
      "text/html": [
       "\n",
       "    <style>\n",
       "    table.eli5-weights tr:hover {\n",
       "        filter: brightness(85%);\n",
       "    }\n",
       "</style>\n",
       "\n",
       "\n",
       "\n",
       "    \n",
       "\n",
       "    \n",
       "\n",
       "    \n",
       "\n",
       "    \n",
       "\n",
       "    \n",
       "\n",
       "    \n",
       "\n",
       "\n",
       "    \n",
       "\n",
       "    \n",
       "\n",
       "    \n",
       "\n",
       "    \n",
       "\n",
       "    \n",
       "\n",
       "    \n",
       "\n",
       "\n",
       "    \n",
       "\n",
       "    \n",
       "\n",
       "    \n",
       "\n",
       "    \n",
       "\n",
       "    \n",
       "        <table class=\"eli5-weights eli5-feature-importances\" style=\"border-collapse: collapse; border: none; margin-top: 0em; table-layout: auto;\">\n",
       "    <thead>\n",
       "    <tr style=\"border: none;\">\n",
       "        <th style=\"padding: 0 1em 0 0.5em; text-align: right; border: none;\">Weight</th>\n",
       "        <th style=\"padding: 0 0.5em 0 0.5em; text-align: left; border: none;\">Feature</th>\n",
       "    </tr>\n",
       "    </thead>\n",
       "    <tbody>\n",
       "    \n",
       "        <tr style=\"background-color: hsl(120, 100.00%, 80.00%); border: none;\">\n",
       "            <td style=\"padding: 0 1em 0 0.5em; text-align: right; border: none;\">\n",
       "                305768149.6477\n",
       "                \n",
       "                    &plusmn; 4312252.9628\n",
       "                \n",
       "            </td>\n",
       "            <td style=\"padding: 0 0.5em 0 0.5em; text-align: left; border: none;\">\n",
       "                date\n",
       "            </td>\n",
       "        </tr>\n",
       "    \n",
       "        <tr style=\"background-color: hsl(120, 100.00%, 80.40%); border: none;\">\n",
       "            <td style=\"padding: 0 1em 0 0.5em; text-align: right; border: none;\">\n",
       "                297109014.3072\n",
       "                \n",
       "                    &plusmn; 3719968.0484\n",
       "                \n",
       "            </td>\n",
       "            <td style=\"padding: 0 0.5em 0 0.5em; text-align: left; border: none;\">\n",
       "                평균공시가격\n",
       "            </td>\n",
       "        </tr>\n",
       "    \n",
       "        <tr style=\"background-color: hsl(120, 100.00%, 87.57%); border: none;\">\n",
       "            <td style=\"padding: 0 1em 0 0.5em; text-align: right; border: none;\">\n",
       "                155057903.2772\n",
       "                \n",
       "                    &plusmn; 1829732.7812\n",
       "                \n",
       "            </td>\n",
       "            <td style=\"padding: 0 0.5em 0 0.5em; text-align: left; border: none;\">\n",
       "                전용면적(㎡)\n",
       "            </td>\n",
       "        </tr>\n",
       "    \n",
       "        <tr style=\"background-color: hsl(120, 100.00%, 91.77%); border: none;\">\n",
       "            <td style=\"padding: 0 1em 0 0.5em; text-align: right; border: none;\">\n",
       "                85978875.6126\n",
       "                \n",
       "                    &plusmn; 1464052.4430\n",
       "                \n",
       "            </td>\n",
       "            <td style=\"padding: 0 0.5em 0 0.5em; text-align: left; border: none;\">\n",
       "                ann_price_per_area\n",
       "            </td>\n",
       "        </tr>\n",
       "    \n",
       "        <tr style=\"background-color: hsl(120, 100.00%, 96.64%); border: none;\">\n",
       "            <td style=\"padding: 0 1em 0 0.5em; text-align: right; border: none;\">\n",
       "                23880666.5684\n",
       "                \n",
       "                    &plusmn; 402059.7724\n",
       "                \n",
       "            </td>\n",
       "            <td style=\"padding: 0 0.5em 0 0.5em; text-align: left; border: none;\">\n",
       "                구_encoded\n",
       "            </td>\n",
       "        </tr>\n",
       "    \n",
       "        <tr style=\"background-color: hsl(120, 100.00%, 97.03%); border: none;\">\n",
       "            <td style=\"padding: 0 1em 0 0.5em; text-align: right; border: none;\">\n",
       "                20096376.7154\n",
       "                \n",
       "                    &plusmn; 152035.4899\n",
       "                \n",
       "            </td>\n",
       "            <td style=\"padding: 0 0.5em 0 0.5em; text-align: left; border: none;\">\n",
       "                건축년도\n",
       "            </td>\n",
       "        </tr>\n",
       "    \n",
       "        <tr style=\"background-color: hsl(120, 100.00%, 97.78%); border: none;\">\n",
       "            <td style=\"padding: 0 1em 0 0.5em; text-align: right; border: none;\">\n",
       "                13271941.4517\n",
       "                \n",
       "                    &plusmn; 443479.4138\n",
       "                \n",
       "            </td>\n",
       "            <td style=\"padding: 0 0.5em 0 0.5em; text-align: left; border: none;\">\n",
       "                계약년과동에따른mean\n",
       "            </td>\n",
       "        </tr>\n",
       "    \n",
       "        <tr style=\"background-color: hsl(120, 100.00%, 98.45%); border: none;\">\n",
       "            <td style=\"padding: 0 1em 0 0.5em; text-align: right; border: none;\">\n",
       "                7946173.9473\n",
       "                \n",
       "                    &plusmn; 62028.7777\n",
       "                \n",
       "            </td>\n",
       "            <td style=\"padding: 0 0.5em 0 0.5em; text-align: left; border: none;\">\n",
       "                yrs_diff\n",
       "            </td>\n",
       "        </tr>\n",
       "    \n",
       "        <tr style=\"background-color: hsl(120, 100.00%, 98.64%); border: none;\">\n",
       "            <td style=\"padding: 0 1em 0 0.5em; text-align: right; border: none;\">\n",
       "                6555222.5758\n",
       "                \n",
       "                    &plusmn; 837190.7462\n",
       "                \n",
       "            </td>\n",
       "            <td style=\"padding: 0 0.5em 0 0.5em; text-align: left; border: none;\">\n",
       "                yrs_diff와동에따른max\n",
       "            </td>\n",
       "        </tr>\n",
       "    \n",
       "        <tr style=\"background-color: hsl(120, 100.00%, 98.76%); border: none;\">\n",
       "            <td style=\"padding: 0 1em 0 0.5em; text-align: right; border: none;\">\n",
       "                5734256.4660\n",
       "                \n",
       "                    &plusmn; 131594.3704\n",
       "                \n",
       "            </td>\n",
       "            <td style=\"padding: 0 0.5em 0 0.5em; text-align: left; border: none;\">\n",
       "                Close_delay120d\n",
       "            </td>\n",
       "        </tr>\n",
       "    \n",
       "        <tr style=\"background-color: hsl(120, 100.00%, 98.87%); border: none;\">\n",
       "            <td style=\"padding: 0 1em 0 0.5em; text-align: right; border: none;\">\n",
       "                5050445.7452\n",
       "                \n",
       "                    &plusmn; 152176.8819\n",
       "                \n",
       "            </td>\n",
       "            <td style=\"padding: 0 0.5em 0 0.5em; text-align: left; border: none;\">\n",
       "                yrs_diff와동에따른mean\n",
       "            </td>\n",
       "        </tr>\n",
       "    \n",
       "        <tr style=\"background-color: hsl(120, 100.00%, 98.93%); border: none;\">\n",
       "            <td style=\"padding: 0 1em 0 0.5em; text-align: right; border: none;\">\n",
       "                4683152.1449\n",
       "                \n",
       "                    &plusmn; 236319.0409\n",
       "                \n",
       "            </td>\n",
       "            <td style=\"padding: 0 0.5em 0 0.5em; text-align: left; border: none;\">\n",
       "                아파트명\n",
       "            </td>\n",
       "        </tr>\n",
       "    \n",
       "        <tr style=\"background-color: hsl(120, 100.00%, 99.06%); border: none;\">\n",
       "            <td style=\"padding: 0 1em 0 0.5em; text-align: right; border: none;\">\n",
       "                3856528.7302\n",
       "                \n",
       "                    &plusmn; 76024.6260\n",
       "                \n",
       "            </td>\n",
       "            <td style=\"padding: 0 0.5em 0 0.5em; text-align: left; border: none;\">\n",
       "                번지\n",
       "            </td>\n",
       "        </tr>\n",
       "    \n",
       "        <tr style=\"background-color: hsl(120, 100.00%, 99.09%); border: none;\">\n",
       "            <td style=\"padding: 0 1em 0 0.5em; text-align: right; border: none;\">\n",
       "                3729117.1189\n",
       "                \n",
       "                    &plusmn; 76968.1008\n",
       "                \n",
       "            </td>\n",
       "            <td style=\"padding: 0 0.5em 0 0.5em; text-align: left; border: none;\">\n",
       "                도로명\n",
       "            </td>\n",
       "        </tr>\n",
       "    \n",
       "        <tr style=\"background-color: hsl(120, 100.00%, 99.20%); border: none;\">\n",
       "            <td style=\"padding: 0 1em 0 0.5em; text-align: right; border: none;\">\n",
       "                3071036.4258\n",
       "                \n",
       "                    &plusmn; 98480.6815\n",
       "                \n",
       "            </td>\n",
       "            <td style=\"padding: 0 0.5em 0 0.5em; text-align: left; border: none;\">\n",
       "                층\n",
       "            </td>\n",
       "        </tr>\n",
       "    \n",
       "        <tr style=\"background-color: hsl(120, 100.00%, 99.24%); border: none;\">\n",
       "            <td style=\"padding: 0 1em 0 0.5em; text-align: right; border: none;\">\n",
       "                2861005.5898\n",
       "                \n",
       "                    &plusmn; 95558.3096\n",
       "                \n",
       "            </td>\n",
       "            <td style=\"padding: 0 0.5em 0 0.5em; text-align: left; border: none;\">\n",
       "                동_encoded\n",
       "            </td>\n",
       "        </tr>\n",
       "    \n",
       "        <tr style=\"background-color: hsl(120, 100.00%, 99.24%); border: none;\">\n",
       "            <td style=\"padding: 0 1em 0 0.5em; text-align: right; border: none;\">\n",
       "                2855591.2218\n",
       "                \n",
       "                    &plusmn; 82861.8427\n",
       "                \n",
       "            </td>\n",
       "            <td style=\"padding: 0 0.5em 0 0.5em; text-align: left; border: none;\">\n",
       "                계약년과동에따른std\n",
       "            </td>\n",
       "        </tr>\n",
       "    \n",
       "        <tr style=\"background-color: hsl(120, 100.00%, 99.39%); border: none;\">\n",
       "            <td style=\"padding: 0 1em 0 0.5em; text-align: right; border: none;\">\n",
       "                2088480.0527\n",
       "                \n",
       "                    &plusmn; 58893.6486\n",
       "                \n",
       "            </td>\n",
       "            <td style=\"padding: 0 0.5em 0 0.5em; text-align: left; border: none;\">\n",
       "                yrs_diff와동에따른std\n",
       "            </td>\n",
       "        </tr>\n",
       "    \n",
       "        <tr style=\"background-color: hsl(120, 100.00%, 99.57%); border: none;\">\n",
       "            <td style=\"padding: 0 1em 0 0.5em; text-align: right; border: none;\">\n",
       "                1269251.5155\n",
       "                \n",
       "                    &plusmn; 85354.5636\n",
       "                \n",
       "            </td>\n",
       "            <td style=\"padding: 0 0.5em 0 0.5em; text-align: left; border: none;\">\n",
       "                계약년과동에따른max\n",
       "            </td>\n",
       "        </tr>\n",
       "    \n",
       "        <tr style=\"background-color: hsl(120, 100.00%, 99.77%); border: none;\">\n",
       "            <td style=\"padding: 0 1em 0 0.5em; text-align: right; border: none;\">\n",
       "                506837.2728\n",
       "                \n",
       "                    &plusmn; 56229.8642\n",
       "                \n",
       "            </td>\n",
       "            <td style=\"padding: 0 0.5em 0 0.5em; text-align: left; border: none;\">\n",
       "                is_public\n",
       "            </td>\n",
       "        </tr>\n",
       "    \n",
       "    \n",
       "        \n",
       "            <tr style=\"background-color: hsl(120, 100.00%, 99.77%); border: none;\">\n",
       "                <td colspan=\"2\" style=\"padding: 0 0.5em 0 0.5em; text-align: center; border: none; white-space: nowrap;\">\n",
       "                    <i>&hellip; 2 more &hellip;</i>\n",
       "                </td>\n",
       "            </tr>\n",
       "        \n",
       "    \n",
       "    </tbody>\n",
       "</table>\n",
       "    \n",
       "\n",
       "    \n",
       "\n",
       "\n",
       "    \n",
       "\n",
       "    \n",
       "\n",
       "    \n",
       "\n",
       "    \n",
       "\n",
       "    \n",
       "\n",
       "    \n",
       "\n",
       "\n",
       "\n"
      ],
      "text/plain": [
       "<IPython.core.display.HTML object>"
      ]
     },
     "execution_count": 73,
     "metadata": {},
     "output_type": "execute_result"
    }
   ],
   "source": [
    "# Permutation importance 방법을 변수 선택에 이용해보겠습니다.\n",
    "perm = PermutationImportance(gbm0,        # 위에서 학습된 모델을 이용하겠습니다.\n",
    "                             scoring=\"neg_mean_squared_error\",        # 평가 지표로는 회귀문제이기에 negative rmse를 사용합니다. (neg_mean_squared_error : 음의 평균 제곱 오차)\n",
    "                             random_state=42,\n",
    "                             n_iter=3).fit(X_val0, y_val0)\n",
    "eli5.show_weights(perm, feature_names=X_val0.columns.tolist())\n"
   ]
  },
  {
   "cell_type": "code",
   "execution_count": 74,
   "metadata": {},
   "outputs": [
    {
     "name": "stdout",
     "output_type": "stream",
     "text": [
      "Training until validation scores don't improve for 50 rounds\n",
      "[100]\ttraining's rmse: 3825.66\ttraining's l2: 1.46357e+07\tvalid_1's rmse: 5929.09\tvalid_1's l2: 3.51541e+07\n",
      "[200]\ttraining's rmse: 2919.83\ttraining's l2: 8.52542e+06\tvalid_1's rmse: 5696.91\tvalid_1's l2: 3.24548e+07\n",
      "[300]\ttraining's rmse: 2458.78\ttraining's l2: 6.04558e+06\tvalid_1's rmse: 5652.74\tvalid_1's l2: 3.19534e+07\n",
      "[400]\ttraining's rmse: 2131.28\ttraining's l2: 4.54237e+06\tvalid_1's rmse: 5638.37\tvalid_1's l2: 3.17912e+07\n",
      "[500]\ttraining's rmse: 1881.07\ttraining's l2: 3.53841e+06\tvalid_1's rmse: 5636.79\tvalid_1's l2: 3.17734e+07\n",
      "Early stopping, best iteration is:\n",
      "[491]\ttraining's rmse: 1903.81\ttraining's l2: 3.62451e+06\tvalid_1's rmse: 5636.06\tvalid_1's l2: 3.17652e+07\n"
     ]
    },
    {
     "data": {
      "text/html": [
       "<style>#sk-container-id-2 {color: black;background-color: white;}#sk-container-id-2 pre{padding: 0;}#sk-container-id-2 div.sk-toggleable {background-color: white;}#sk-container-id-2 label.sk-toggleable__label {cursor: pointer;display: block;width: 100%;margin-bottom: 0;padding: 0.3em;box-sizing: border-box;text-align: center;}#sk-container-id-2 label.sk-toggleable__label-arrow:before {content: \"▸\";float: left;margin-right: 0.25em;color: #696969;}#sk-container-id-2 label.sk-toggleable__label-arrow:hover:before {color: black;}#sk-container-id-2 div.sk-estimator:hover label.sk-toggleable__label-arrow:before {color: black;}#sk-container-id-2 div.sk-toggleable__content {max-height: 0;max-width: 0;overflow: hidden;text-align: left;background-color: #f0f8ff;}#sk-container-id-2 div.sk-toggleable__content pre {margin: 0.2em;color: black;border-radius: 0.25em;background-color: #f0f8ff;}#sk-container-id-2 input.sk-toggleable__control:checked~div.sk-toggleable__content {max-height: 200px;max-width: 100%;overflow: auto;}#sk-container-id-2 input.sk-toggleable__control:checked~label.sk-toggleable__label-arrow:before {content: \"▾\";}#sk-container-id-2 div.sk-estimator input.sk-toggleable__control:checked~label.sk-toggleable__label {background-color: #d4ebff;}#sk-container-id-2 div.sk-label input.sk-toggleable__control:checked~label.sk-toggleable__label {background-color: #d4ebff;}#sk-container-id-2 input.sk-hidden--visually {border: 0;clip: rect(1px 1px 1px 1px);clip: rect(1px, 1px, 1px, 1px);height: 1px;margin: -1px;overflow: hidden;padding: 0;position: absolute;width: 1px;}#sk-container-id-2 div.sk-estimator {font-family: monospace;background-color: #f0f8ff;border: 1px dotted black;border-radius: 0.25em;box-sizing: border-box;margin-bottom: 0.5em;}#sk-container-id-2 div.sk-estimator:hover {background-color: #d4ebff;}#sk-container-id-2 div.sk-parallel-item::after {content: \"\";width: 100%;border-bottom: 1px solid gray;flex-grow: 1;}#sk-container-id-2 div.sk-label:hover label.sk-toggleable__label {background-color: #d4ebff;}#sk-container-id-2 div.sk-serial::before {content: \"\";position: absolute;border-left: 1px solid gray;box-sizing: border-box;top: 0;bottom: 0;left: 50%;z-index: 0;}#sk-container-id-2 div.sk-serial {display: flex;flex-direction: column;align-items: center;background-color: white;padding-right: 0.2em;padding-left: 0.2em;position: relative;}#sk-container-id-2 div.sk-item {position: relative;z-index: 1;}#sk-container-id-2 div.sk-parallel {display: flex;align-items: stretch;justify-content: center;background-color: white;position: relative;}#sk-container-id-2 div.sk-item::before, #sk-container-id-2 div.sk-parallel-item::before {content: \"\";position: absolute;border-left: 1px solid gray;box-sizing: border-box;top: 0;bottom: 0;left: 50%;z-index: -1;}#sk-container-id-2 div.sk-parallel-item {display: flex;flex-direction: column;z-index: 1;position: relative;background-color: white;}#sk-container-id-2 div.sk-parallel-item:first-child::after {align-self: flex-end;width: 50%;}#sk-container-id-2 div.sk-parallel-item:last-child::after {align-self: flex-start;width: 50%;}#sk-container-id-2 div.sk-parallel-item:only-child::after {width: 0;}#sk-container-id-2 div.sk-dashed-wrapped {border: 1px dashed gray;margin: 0 0.4em 0.5em 0.4em;box-sizing: border-box;padding-bottom: 0.4em;background-color: white;}#sk-container-id-2 div.sk-label label {font-family: monospace;font-weight: bold;display: inline-block;line-height: 1.2em;}#sk-container-id-2 div.sk-label-container {text-align: center;}#sk-container-id-2 div.sk-container {/* jupyter's `normalize.less` sets `[hidden] { display: none; }` but bootstrap.min.css set `[hidden] { display: none !important; }` so we also need the `!important` here to be able to override the default hidden behavior on the sphinx rendered scikit-learn.org. See: https://github.com/scikit-learn/scikit-learn/issues/21755 */display: inline-block !important;position: relative;}#sk-container-id-2 div.sk-text-repr-fallback {display: none;}</style><div id=\"sk-container-id-2\" class=\"sk-top-container\"><div class=\"sk-text-repr-fallback\"><pre>LGBMRegressor(bagging_fraction=0.9, feature_fraction=0.7, max_depth=50,\n",
       "              min_child_samples=30, n_estimators=5000, num_leaves=1200,\n",
       "              verbosity=-1)</pre><b>In a Jupyter environment, please rerun this cell to show the HTML representation or trust the notebook. <br />On GitHub, the HTML representation is unable to render, please try loading this page with nbviewer.org.</b></div><div class=\"sk-container\" hidden><div class=\"sk-item\"><div class=\"sk-estimator sk-toggleable\"><input class=\"sk-toggleable__control sk-hidden--visually\" id=\"sk-estimator-id-2\" type=\"checkbox\" checked><label for=\"sk-estimator-id-2\" class=\"sk-toggleable__label sk-toggleable__label-arrow\">LGBMRegressor</label><div class=\"sk-toggleable__content\"><pre>LGBMRegressor(bagging_fraction=0.9, feature_fraction=0.7, max_depth=50,\n",
       "              min_child_samples=30, n_estimators=5000, num_leaves=1200,\n",
       "              verbosity=-1)</pre></div></div></div></div></div>"
      ],
      "text/plain": [
       "LGBMRegressor(bagging_fraction=0.9, feature_fraction=0.7, max_depth=50,\n",
       "              min_child_samples=30, n_estimators=5000, num_leaves=1200,\n",
       "              verbosity=-1)"
      ]
     },
     "execution_count": 74,
     "metadata": {},
     "output_type": "execute_result"
    }
   ],
   "source": [
    "gbm60.fit(\n",
    "        X_train60, y_train60, \n",
    "        eval_set=[(X_train60, y_train60), (X_val60, y_val60)], \n",
    "        eval_metric='rmse',\n",
    "        callbacks=[lgb.early_stopping(stopping_rounds=50),\n",
    "                   lgb.log_evaluation(period=100, show_stdv=True)]\n",
    "        )"
   ]
  },
  {
   "cell_type": "code",
   "execution_count": 75,
   "metadata": {},
   "outputs": [
    {
     "data": {
      "image/png": "[encoded data removed]",
      "text/plain": [
       "<Figure size 1000x800 with 1 Axes>"
      ]
     },
     "metadata": {},
     "output_type": "display_data"
    }
   ],
   "source": [
    "# 위 feature importance를 시각화해봅니다.\n",
    "importances = pd.Series(gbm60.feature_importances_, index=list(X_train60.columns))\n",
    "importances = importances.sort_values(ascending=False)\n",
    "\n",
    "plt.figure(figsize=(10,8))\n",
    "plt.title(\"Feature Importances\")\n",
    "sns.barplot(x=importances, y=importances.index)\n",
    "plt.show()"
   ]
  },
  {
   "cell_type": "code",
   "execution_count": 76,
   "metadata": {},
   "outputs": [
    {
     "data": {
      "text/html": [
       "\n",
       "    <style>\n",
       "    table.eli5-weights tr:hover {\n",
       "        filter: brightness(85%);\n",
       "    }\n",
       "</style>\n",
       "\n",
       "\n",
       "\n",
       "    \n",
       "\n",
       "    \n",
       "\n",
       "    \n",
       "\n",
       "    \n",
       "\n",
       "    \n",
       "\n",
       "    \n",
       "\n",
       "\n",
       "    \n",
       "\n",
       "    \n",
       "\n",
       "    \n",
       "\n",
       "    \n",
       "\n",
       "    \n",
       "\n",
       "    \n",
       "\n",
       "\n",
       "    \n",
       "\n",
       "    \n",
       "\n",
       "    \n",
       "\n",
       "    \n",
       "\n",
       "    \n",
       "        <table class=\"eli5-weights eli5-feature-importances\" style=\"border-collapse: collapse; border: none; margin-top: 0em; table-layout: auto;\">\n",
       "    <thead>\n",
       "    <tr style=\"border: none;\">\n",
       "        <th style=\"padding: 0 1em 0 0.5em; text-align: right; border: none;\">Weight</th>\n",
       "        <th style=\"padding: 0 0.5em 0 0.5em; text-align: left; border: none;\">Feature</th>\n",
       "    </tr>\n",
       "    </thead>\n",
       "    <tbody>\n",
       "    \n",
       "        <tr style=\"background-color: hsl(120, 100.00%, 80.00%); border: none;\">\n",
       "            <td style=\"padding: 0 1em 0 0.5em; text-align: right; border: none;\">\n",
       "                668853892.2105\n",
       "                \n",
       "                    &plusmn; 5023538.2550\n",
       "                \n",
       "            </td>\n",
       "            <td style=\"padding: 0 0.5em 0 0.5em; text-align: left; border: none;\">\n",
       "                date\n",
       "            </td>\n",
       "        </tr>\n",
       "    \n",
       "        <tr style=\"background-color: hsl(120, 100.00%, 80.38%); border: none;\">\n",
       "            <td style=\"padding: 0 1em 0 0.5em; text-align: right; border: none;\">\n",
       "                650889802.2885\n",
       "                \n",
       "                    &plusmn; 5675239.9891\n",
       "                \n",
       "            </td>\n",
       "            <td style=\"padding: 0 0.5em 0 0.5em; text-align: left; border: none;\">\n",
       "                평균공시가격\n",
       "            </td>\n",
       "        </tr>\n",
       "    \n",
       "        <tr style=\"background-color: hsl(120, 100.00%, 90.79%); border: none;\">\n",
       "            <td style=\"padding: 0 1em 0 0.5em; text-align: right; border: none;\">\n",
       "                220968511.5710\n",
       "                \n",
       "                    &plusmn; 4846505.6927\n",
       "                \n",
       "            </td>\n",
       "            <td style=\"padding: 0 0.5em 0 0.5em; text-align: left; border: none;\">\n",
       "                전용면적(㎡)\n",
       "            </td>\n",
       "        </tr>\n",
       "    \n",
       "        <tr style=\"background-color: hsl(120, 100.00%, 91.25%); border: none;\">\n",
       "            <td style=\"padding: 0 1em 0 0.5em; text-align: right; border: none;\">\n",
       "                205303694.0986\n",
       "                \n",
       "                    &plusmn; 1780447.8705\n",
       "                \n",
       "            </td>\n",
       "            <td style=\"padding: 0 0.5em 0 0.5em; text-align: left; border: none;\">\n",
       "                ann_price_per_area\n",
       "            </td>\n",
       "        </tr>\n",
       "    \n",
       "        <tr style=\"background-color: hsl(120, 100.00%, 96.38%); border: none;\">\n",
       "            <td style=\"padding: 0 1em 0 0.5em; text-align: right; border: none;\">\n",
       "                58101012.2108\n",
       "                \n",
       "                    &plusmn; 890743.5180\n",
       "                \n",
       "            </td>\n",
       "            <td style=\"padding: 0 0.5em 0 0.5em; text-align: left; border: none;\">\n",
       "                구_encoded\n",
       "            </td>\n",
       "        </tr>\n",
       "    \n",
       "        <tr style=\"background-color: hsl(120, 100.00%, 96.76%); border: none;\">\n",
       "            <td style=\"padding: 0 1em 0 0.5em; text-align: right; border: none;\">\n",
       "                49627864.4917\n",
       "                \n",
       "                    &plusmn; 511941.3676\n",
       "                \n",
       "            </td>\n",
       "            <td style=\"padding: 0 0.5em 0 0.5em; text-align: left; border: none;\">\n",
       "                건축년도\n",
       "            </td>\n",
       "        </tr>\n",
       "    \n",
       "        <tr style=\"background-color: hsl(120, 100.00%, 96.86%); border: none;\">\n",
       "            <td style=\"padding: 0 1em 0 0.5em; text-align: right; border: none;\">\n",
       "                47471324.7080\n",
       "                \n",
       "                    &plusmn; 2006943.2717\n",
       "                \n",
       "            </td>\n",
       "            <td style=\"padding: 0 0.5em 0 0.5em; text-align: left; border: none;\">\n",
       "                yrs_diff와동에따른max\n",
       "            </td>\n",
       "        </tr>\n",
       "    \n",
       "        <tr style=\"background-color: hsl(120, 100.00%, 98.16%); border: none;\">\n",
       "            <td style=\"padding: 0 1em 0 0.5em; text-align: right; border: none;\">\n",
       "                22191879.0257\n",
       "                \n",
       "                    &plusmn; 219745.4530\n",
       "                \n",
       "            </td>\n",
       "            <td style=\"padding: 0 0.5em 0 0.5em; text-align: left; border: none;\">\n",
       "                계약년과동에따른mean\n",
       "            </td>\n",
       "        </tr>\n",
       "    \n",
       "        <tr style=\"background-color: hsl(120, 100.00%, 98.71%); border: none;\">\n",
       "            <td style=\"padding: 0 1em 0 0.5em; text-align: right; border: none;\">\n",
       "                13392260.4949\n",
       "                \n",
       "                    &plusmn; 511300.6635\n",
       "                \n",
       "            </td>\n",
       "            <td style=\"padding: 0 0.5em 0 0.5em; text-align: left; border: none;\">\n",
       "                yrs_diff와동에따른mean\n",
       "            </td>\n",
       "        </tr>\n",
       "    \n",
       "        <tr style=\"background-color: hsl(120, 100.00%, 98.81%); border: none;\">\n",
       "            <td style=\"padding: 0 1em 0 0.5em; text-align: right; border: none;\">\n",
       "                11896733.0505\n",
       "                \n",
       "                    &plusmn; 57880.7799\n",
       "                \n",
       "            </td>\n",
       "            <td style=\"padding: 0 0.5em 0 0.5em; text-align: left; border: none;\">\n",
       "                도로명\n",
       "            </td>\n",
       "        </tr>\n",
       "    \n",
       "        <tr style=\"background-color: hsl(120, 100.00%, 98.90%); border: none;\">\n",
       "            <td style=\"padding: 0 1em 0 0.5em; text-align: right; border: none;\">\n",
       "                10613863.1265\n",
       "                \n",
       "                    &plusmn; 94933.8723\n",
       "                \n",
       "            </td>\n",
       "            <td style=\"padding: 0 0.5em 0 0.5em; text-align: left; border: none;\">\n",
       "                Close_delay120d\n",
       "            </td>\n",
       "        </tr>\n",
       "    \n",
       "        <tr style=\"background-color: hsl(120, 100.00%, 98.91%); border: none;\">\n",
       "            <td style=\"padding: 0 1em 0 0.5em; text-align: right; border: none;\">\n",
       "                10469121.1897\n",
       "                \n",
       "                    &plusmn; 368552.4364\n",
       "                \n",
       "            </td>\n",
       "            <td style=\"padding: 0 0.5em 0 0.5em; text-align: left; border: none;\">\n",
       "                계약년과동에따른std\n",
       "            </td>\n",
       "        </tr>\n",
       "    \n",
       "        <tr style=\"background-color: hsl(120, 100.00%, 98.92%); border: none;\">\n",
       "            <td style=\"padding: 0 1em 0 0.5em; text-align: right; border: none;\">\n",
       "                10284940.1500\n",
       "                \n",
       "                    &plusmn; 494112.3386\n",
       "                \n",
       "            </td>\n",
       "            <td style=\"padding: 0 0.5em 0 0.5em; text-align: left; border: none;\">\n",
       "                yrs_diff\n",
       "            </td>\n",
       "        </tr>\n",
       "    \n",
       "        <tr style=\"background-color: hsl(120, 100.00%, 98.93%); border: none;\">\n",
       "            <td style=\"padding: 0 1em 0 0.5em; text-align: right; border: none;\">\n",
       "                10158914.2840\n",
       "                \n",
       "                    &plusmn; 211775.6849\n",
       "                \n",
       "            </td>\n",
       "            <td style=\"padding: 0 0.5em 0 0.5em; text-align: left; border: none;\">\n",
       "                층\n",
       "            </td>\n",
       "        </tr>\n",
       "    \n",
       "        <tr style=\"background-color: hsl(120, 100.00%, 98.94%); border: none;\">\n",
       "            <td style=\"padding: 0 1em 0 0.5em; text-align: right; border: none;\">\n",
       "                10074069.3028\n",
       "                \n",
       "                    &plusmn; 170922.7228\n",
       "                \n",
       "            </td>\n",
       "            <td style=\"padding: 0 0.5em 0 0.5em; text-align: left; border: none;\">\n",
       "                번지\n",
       "            </td>\n",
       "        </tr>\n",
       "    \n",
       "        <tr style=\"background-color: hsl(120, 100.00%, 99.14%); border: none;\">\n",
       "            <td style=\"padding: 0 1em 0 0.5em; text-align: right; border: none;\">\n",
       "                7466260.1580\n",
       "                \n",
       "                    &plusmn; 211739.8070\n",
       "                \n",
       "            </td>\n",
       "            <td style=\"padding: 0 0.5em 0 0.5em; text-align: left; border: none;\">\n",
       "                아파트명\n",
       "            </td>\n",
       "        </tr>\n",
       "    \n",
       "        <tr style=\"background-color: hsl(120, 100.00%, 99.17%); border: none;\">\n",
       "            <td style=\"padding: 0 1em 0 0.5em; text-align: right; border: none;\">\n",
       "                7111932.3340\n",
       "                \n",
       "                    &plusmn; 301325.0048\n",
       "                \n",
       "            </td>\n",
       "            <td style=\"padding: 0 0.5em 0 0.5em; text-align: left; border: none;\">\n",
       "                동_encoded\n",
       "            </td>\n",
       "        </tr>\n",
       "    \n",
       "        <tr style=\"background-color: hsl(120, 100.00%, 99.32%); border: none;\">\n",
       "            <td style=\"padding: 0 1em 0 0.5em; text-align: right; border: none;\">\n",
       "                5391536.4759\n",
       "                \n",
       "                    &plusmn; 208501.4504\n",
       "                \n",
       "            </td>\n",
       "            <td style=\"padding: 0 0.5em 0 0.5em; text-align: left; border: none;\">\n",
       "                yrs_diff와동에따른std\n",
       "            </td>\n",
       "        </tr>\n",
       "    \n",
       "        <tr style=\"background-color: hsl(120, 100.00%, 99.56%); border: none;\">\n",
       "            <td style=\"padding: 0 1em 0 0.5em; text-align: right; border: none;\">\n",
       "                2910440.8326\n",
       "                \n",
       "                    &plusmn; 53623.4116\n",
       "                \n",
       "            </td>\n",
       "            <td style=\"padding: 0 0.5em 0 0.5em; text-align: left; border: none;\">\n",
       "                계약년과동에따른max\n",
       "            </td>\n",
       "        </tr>\n",
       "    \n",
       "        <tr style=\"background-color: hsl(120, 100.00%, 99.84%); border: none;\">\n",
       "            <td style=\"padding: 0 1em 0 0.5em; text-align: right; border: none;\">\n",
       "                671626.8763\n",
       "                \n",
       "                    &plusmn; 60948.9177\n",
       "                \n",
       "            </td>\n",
       "            <td style=\"padding: 0 0.5em 0 0.5em; text-align: left; border: none;\">\n",
       "                is_public\n",
       "            </td>\n",
       "        </tr>\n",
       "    \n",
       "    \n",
       "        \n",
       "            <tr style=\"background-color: hsl(120, 100.00%, 99.84%); border: none;\">\n",
       "                <td colspan=\"2\" style=\"padding: 0 0.5em 0 0.5em; text-align: center; border: none; white-space: nowrap;\">\n",
       "                    <i>&hellip; 2 more &hellip;</i>\n",
       "                </td>\n",
       "            </tr>\n",
       "        \n",
       "    \n",
       "    </tbody>\n",
       "</table>\n",
       "    \n",
       "\n",
       "    \n",
       "\n",
       "\n",
       "    \n",
       "\n",
       "    \n",
       "\n",
       "    \n",
       "\n",
       "    \n",
       "\n",
       "    \n",
       "\n",
       "    \n",
       "\n",
       "\n",
       "\n"
      ],
      "text/plain": [
       "<IPython.core.display.HTML object>"
      ]
     },
     "execution_count": 76,
     "metadata": {},
     "output_type": "execute_result"
    }
   ],
   "source": [
    "# Permutation importance 방법을 변수 선택에 이용해보겠습니다.\n",
    "perm = PermutationImportance(gbm60,        # 위에서 학습된 모델을 이용하겠습니다.\n",
    "                             scoring = \"neg_mean_squared_error\",        # 평가 지표로는 회귀문제이기에 negative rmse를 사용합니다. (neg_mean_squared_error : 음의 평균 제곱 오차)\n",
    "                             random_state = 42,\n",
    "                             n_iter=3).fit(X_val60, y_val60)\n",
    "eli5.show_weights(perm, feature_names = X_val60.columns.tolist())    # valid data에 대해 적합시킵니다."
   ]
  },
  {
   "cell_type": "markdown",
   "metadata": {},
   "source": [
    "### 135만 다르게 접근해야할 것 같음"
   ]
  },
  {
   "cell_type": "code",
   "execution_count": 77,
   "metadata": {},
   "outputs": [
    {
     "name": "stdout",
     "output_type": "stream",
     "text": [
      "(196015, 22) (49004, 22)\n",
      "(291853, 22) (72964, 22)\n"
     ]
    }
   ],
   "source": [
    "print(X_train0.shape, X_val0.shape)\n",
    "print(X_train60.shape, X_val60.shape)"
   ]
  },
  {
   "cell_type": "code",
   "execution_count": 78,
   "metadata": {},
   "outputs": [],
   "source": [
    "X_train135.drop(columns=drop_col_over135, inplace=True)"
   ]
  },
  {
   "cell_type": "code",
   "execution_count": 79,
   "metadata": {},
   "outputs": [],
   "source": [
    "X_test135.drop(columns=drop_col_over135, inplace=True)"
   ]
  },
  {
   "cell_type": "code",
   "execution_count": 80,
   "metadata": {},
   "outputs": [
    {
     "data": {
      "text/plain": [
       "(26900, 22)"
      ]
     },
     "execution_count": 80,
     "metadata": {},
     "output_type": "execute_result"
    }
   ],
   "source": [
    "X_train135.shape"
   ]
  },
  {
   "cell_type": "code",
   "execution_count": 81,
   "metadata": {},
   "outputs": [],
   "source": [
    "# X_train135, X_val135"
   ]
  },
  {
   "cell_type": "code",
   "execution_count": 82,
   "metadata": {},
   "outputs": [],
   "source": [
    "from sklearn.model_selection import KFold, cross_val_score"
   ]
  },
  {
   "cell_type": "code",
   "execution_count": 83,
   "metadata": {},
   "outputs": [
    {
     "name": "stdout",
     "output_type": "stream",
     "text": [
      "Fold 1/5\n",
      "Training until validation scores don't improve for 50 rounds\n"
     ]
    },
    {
     "name": "stdout",
     "output_type": "stream",
     "text": [
      "[100]\ttraining's rmse: 2059.73\ttraining's l2: 4.24247e+06\tvalid_1's rmse: 6889.94\tvalid_1's l2: 4.74712e+07\n",
      "[200]\ttraining's rmse: 1127.68\ttraining's l2: 1.27167e+06\tvalid_1's rmse: 6779.63\tvalid_1's l2: 4.59634e+07\n",
      "Early stopping, best iteration is:\n",
      "[233]\ttraining's rmse: 954.666\ttraining's l2: 911388\tvalid_1's rmse: 6760.18\tvalid_1's l2: 4.57001e+07\n",
      "Fold 2/5\n",
      "Training until validation scores don't improve for 50 rounds\n",
      "[100]\ttraining's rmse: 1967.55\ttraining's l2: 3.87124e+06\tvalid_1's rmse: 8185.4\tvalid_1's l2: 6.70008e+07\n",
      "[200]\ttraining's rmse: 1119.78\ttraining's l2: 1.25391e+06\tvalid_1's rmse: 7955.26\tvalid_1's l2: 6.32861e+07\n",
      "[300]\ttraining's rmse: 704.488\ttraining's l2: 496304\tvalid_1's rmse: 7875.78\tvalid_1's l2: 6.20279e+07\n",
      "[400]\ttraining's rmse: 470.922\ttraining's l2: 221768\tvalid_1's rmse: 7835.04\tvalid_1's l2: 6.13879e+07\n",
      "[500]\ttraining's rmse: 328.724\ttraining's l2: 108060\tvalid_1's rmse: 7810.04\tvalid_1's l2: 6.09967e+07\n",
      "[600]\ttraining's rmse: 230.367\ttraining's l2: 53068.9\tvalid_1's rmse: 7806.34\tvalid_1's l2: 6.0939e+07\n",
      "[700]\ttraining's rmse: 172.244\ttraining's l2: 29668.1\tvalid_1's rmse: 7805.5\tvalid_1's l2: 6.09259e+07\n",
      "Early stopping, best iteration is:\n",
      "[654]\ttraining's rmse: 195.728\ttraining's l2: 38309.5\tvalid_1's rmse: 7804.35\tvalid_1's l2: 6.09078e+07\n",
      "Fold 3/5\n",
      "Training until validation scores don't improve for 50 rounds\n",
      "[100]\ttraining's rmse: 2048.64\ttraining's l2: 4.19691e+06\tvalid_1's rmse: 7127.6\tvalid_1's l2: 5.08027e+07\n",
      "[200]\ttraining's rmse: 1180.46\ttraining's l2: 1.39347e+06\tvalid_1's rmse: 6994.55\tvalid_1's l2: 4.89237e+07\n",
      "[300]\ttraining's rmse: 788.844\ttraining's l2: 622275\tvalid_1's rmse: 6906.43\tvalid_1's l2: 4.76988e+07\n",
      "[400]\ttraining's rmse: 539.107\ttraining's l2: 290637\tvalid_1's rmse: 6862.96\tvalid_1's l2: 4.71002e+07\n",
      "[500]\ttraining's rmse: 399.555\ttraining's l2: 159644\tvalid_1's rmse: 6841\tvalid_1's l2: 4.67992e+07\n",
      "[600]\ttraining's rmse: 289.47\ttraining's l2: 83792.7\tvalid_1's rmse: 6821.07\tvalid_1's l2: 4.6527e+07\n",
      "[700]\ttraining's rmse: 214.471\ttraining's l2: 45997.6\tvalid_1's rmse: 6807.91\tvalid_1's l2: 4.63477e+07\n",
      "[800]\ttraining's rmse: 162.642\ttraining's l2: 26452.4\tvalid_1's rmse: 6802.7\tvalid_1's l2: 4.62767e+07\n",
      "[900]\ttraining's rmse: 122.163\ttraining's l2: 14923.8\tvalid_1's rmse: 6801.22\tvalid_1's l2: 4.62566e+07\n",
      "Early stopping, best iteration is:\n",
      "[872]\ttraining's rmse: 132.413\ttraining's l2: 17533.3\tvalid_1's rmse: 6800.82\tvalid_1's l2: 4.62512e+07\n",
      "Fold 4/5\n",
      "Training until validation scores don't improve for 50 rounds\n",
      "[100]\ttraining's rmse: 1948.7\ttraining's l2: 3.79743e+06\tvalid_1's rmse: 8617.89\tvalid_1's l2: 7.4268e+07\n",
      "[200]\ttraining's rmse: 1081.38\ttraining's l2: 1.16938e+06\tvalid_1's rmse: 8422.43\tvalid_1's l2: 7.09374e+07\n",
      "[300]\ttraining's rmse: 694.803\ttraining's l2: 482752\tvalid_1's rmse: 8412.91\tvalid_1's l2: 7.07771e+07\n",
      "[400]\ttraining's rmse: 478.199\ttraining's l2: 228674\tvalid_1's rmse: 8388.68\tvalid_1's l2: 7.037e+07\n",
      "Early stopping, best iteration is:\n",
      "[385]\ttraining's rmse: 506.555\ttraining's l2: 256598\tvalid_1's rmse: 8386.2\tvalid_1's l2: 7.03284e+07\n",
      "Fold 5/5\n",
      "Training until validation scores don't improve for 50 rounds\n",
      "[100]\ttraining's rmse: 2035.84\ttraining's l2: 4.14466e+06\tvalid_1's rmse: 8741.94\tvalid_1's l2: 7.64216e+07\n",
      "[200]\ttraining's rmse: 1202.62\ttraining's l2: 1.44631e+06\tvalid_1's rmse: 8627.64\tvalid_1's l2: 7.44362e+07\n",
      "Early stopping, best iteration is:\n",
      "[165]\ttraining's rmse: 1418.26\ttraining's l2: 2.01145e+06\tvalid_1's rmse: 8614.07\tvalid_1's l2: 7.42022e+07\n"
     ]
    }
   ],
   "source": [
    "# Define the number of base learners for the ensemble\n",
    "num_base_learners = 5\n",
    "\n",
    "# Initialize an empty list to store the base learners\n",
    "base_learners = []\n",
    "\n",
    "num_folds = 5\n",
    "# Define the k-fold cross-validator\n",
    "kf = KFold(n_splits=num_folds, shuffle=True, random_state=2023)\n",
    "\n",
    "# Perform k-fold cross-validation\n",
    "for fold, (train_idx, val_idx) in enumerate(kf.split(X_train135), 1):\n",
    "    print(f\"Fold {fold}/{num_folds}\")\n",
    "    X_train_fold, X_val_fold = X_train135.iloc[train_idx], X_train135.iloc[val_idx]\n",
    "    y_train_fold, y_val_fold = y_train135.iloc[train_idx], y_train135.iloc[val_idx]\n",
    "    \n",
    "    # Initialize a LightGBM regressor for the base learner\n",
    "    gbm135 = lgb.LGBMRegressor(n_estimators=5000, max_depth=20, num_leaves=600, min_child_samples=10,\n",
    "                            feature_fraction=0.7, bagging_fraction=0.9, verbosity=-1)\n",
    "    \n",
    "    # Train the base learner\n",
    "    gbm135.fit(\n",
    "            X_train_fold, y_train_fold, \n",
    "            eval_set=[(X_train_fold, y_train_fold), (X_val_fold, y_val_fold)], \n",
    "            eval_metric='rmse',\n",
    "            callbacks=[lgb.early_stopping(stopping_rounds=50),\n",
    "                       lgb.log_evaluation(period=100, show_stdv=True)]\n",
    "            )\n",
    "    \n",
    "    # Add the trained base learner to the list\n",
    "    base_learners.append(gbm135)\n",
    "\n",
    "# Initialize an empty array to store predictions from each base learner\n",
    "predictions = np.zeros(len(X_train135))\n",
    "\n",
    "# Make predictions using each base learner and aggregate them\n",
    "for gbm in base_learners:\n",
    "    predictions += gbm.predict(X_train135)\n",
    "\n",
    "# Take the average of the predictions to get the final prediction\n",
    "ensemble_prediction = predictions / num_base_learners"
   ]
  },
  {
   "cell_type": "code",
   "execution_count": 84,
   "metadata": {},
   "outputs": [
    {
     "data": {
      "text/plain": [
       "1375701.107908386"
      ]
     },
     "execution_count": 84,
     "metadata": {},
     "output_type": "execute_result"
    }
   ],
   "source": [
    "ensemble_prediction.max()"
   ]
  },
  {
   "cell_type": "code",
   "execution_count": 85,
   "metadata": {},
   "outputs": [],
   "source": [
    "real_test_pred0 = gbm0.predict(X_test0)\n",
    "real_test_pred60 = gbm60.predict(X_test60)"
   ]
  },
  {
   "cell_type": "code",
   "execution_count": 86,
   "metadata": {},
   "outputs": [],
   "source": [
    "X_test0['target'] = real_test_pred0\n",
    "X_test60['target'] = real_test_pred60"
   ]
  },
  {
   "cell_type": "code",
   "execution_count": 87,
   "metadata": {},
   "outputs": [],
   "source": [
    "# List to store predictions from base learners\n",
    "predictions = []\n",
    "\n",
    "# Iterate over base learners and get predictions for X_test135\n",
    "for gbm in base_learners:\n",
    "    predictions.append(gbm.predict(X_test135))\n",
    "\n",
    "# Convert predictions to a NumPy array\n",
    "predictions_array = np.array(predictions)\n",
    "\n",
    "# Take the maximum prediction across the base learners\n",
    "max_predictions = np.max(predictions_array, axis=0)\n",
    "\n",
    "# Fill X_test135['target'] with the maximum predictions\n",
    "X_test135['target'] = max_predictions\n"
   ]
  },
  {
   "cell_type": "code",
   "execution_count": 88,
   "metadata": {},
   "outputs": [
    {
     "data": {
      "text/plain": [
       "count        357.00\n",
       "mean      283165.42\n",
       "std       160621.86\n",
       "min        40617.22\n",
       "25%       174028.02\n",
       "50%       245654.41\n",
       "75%       354633.35\n",
       "max      1181784.75\n",
       "Name: target, dtype: float64"
      ]
     },
     "execution_count": 88,
     "metadata": {},
     "output_type": "execute_result"
    }
   ],
   "source": [
    "X_test135['target'].describe().round(2)"
   ]
  },
  {
   "cell_type": "code",
   "execution_count": 89,
   "metadata": {},
   "outputs": [
    {
     "data": {
      "text/plain": [
       "Index(['번지', '아파트명', '전용면적(㎡)', '층', '건축년도', '도로명', '평균공시가격', 'date',\n",
       "       'exp_dongs', '구_encoded', '동_encoded', 'yrs_diff', 'is_public',\n",
       "       '계약년과동에따른std', '계약년과동에따른mean', '계약년과동에따른max', 'yrs_diff와동에따른std',\n",
       "       'yrs_diff와동에따른mean', 'yrs_diff와동에따른max', 'Close_delay120d',\n",
       "       'ann_price_per_area', 'over_27yrs', 'target'],\n",
       "      dtype='object')"
      ]
     },
     "execution_count": 89,
     "metadata": {},
     "output_type": "execute_result"
    }
   ],
   "source": [
    "X_test0.columns"
   ]
  },
  {
   "cell_type": "code",
   "execution_count": 90,
   "metadata": {},
   "outputs": [
    {
     "data": {
      "text/plain": [
       "Index(['번지', '아파트명', '전용면적(㎡)', '층', '건축년도', '도로명', '평균공시가격', 'exp_dongs',\n",
       "       '구_encoded', '동_encoded', 'yrs_diff', '계약년과동에따른std', '계약년과동에따른mean',\n",
       "       '계약년과동에따른max', 'yrs_diff와동에따른std', 'yrs_diff와동에따른mean',\n",
       "       'yrs_diff와동에따른max', 'Close_delay120d', 'target_price_per_area',\n",
       "       'over_240', 'is_maxfl', 'over_27yrs', 'target'],\n",
       "      dtype='object')"
      ]
     },
     "execution_count": 90,
     "metadata": {},
     "output_type": "execute_result"
    }
   ],
   "source": [
    "X_test135.columns"
   ]
  },
  {
   "cell_type": "code",
   "execution_count": 91,
   "metadata": {},
   "outputs": [],
   "source": [
    "X_test0.drop(['date', 'is_public', 'ann_price_per_area'], axis=1, inplace=True)\n",
    "X_test60.drop(['date', 'is_public', 'ann_price_per_area'], axis=1, inplace=True)\n",
    "X_test135.drop(['target_price_per_area', 'over_240', 'is_maxfl'], axis=1, inplace=True)"
   ]
  },
  {
   "cell_type": "code",
   "execution_count": 92,
   "metadata": {},
   "outputs": [
    {
     "data": {
      "text/html": [
       "<div>\n",
       "<style scoped>\n",
       "    .dataframe tbody tr th:only-of-type {\n",
       "        vertical-align: middle;\n",
       "    }\n",
       "\n",
       "    .dataframe tbody tr th {\n",
       "        vertical-align: top;\n",
       "    }\n",
       "\n",
       "    .dataframe thead th {\n",
       "        text-align: right;\n",
       "    }\n",
       "</style>\n",
       "<table border=\"1\" class=\"dataframe\">\n",
       "  <thead>\n",
       "    <tr style=\"text-align: right;\">\n",
       "      <th></th>\n",
       "      <th>번지</th>\n",
       "      <th>아파트명</th>\n",
       "      <th>전용면적(㎡)</th>\n",
       "      <th>층</th>\n",
       "      <th>건축년도</th>\n",
       "      <th>도로명</th>\n",
       "      <th>평균공시가격</th>\n",
       "      <th>exp_dongs</th>\n",
       "      <th>구_encoded</th>\n",
       "      <th>동_encoded</th>\n",
       "      <th>yrs_diff</th>\n",
       "      <th>계약년과동에따른std</th>\n",
       "      <th>계약년과동에따른mean</th>\n",
       "      <th>계약년과동에따른max</th>\n",
       "      <th>yrs_diff와동에따른std</th>\n",
       "      <th>yrs_diff와동에따른mean</th>\n",
       "      <th>yrs_diff와동에따른max</th>\n",
       "      <th>Close_delay120d</th>\n",
       "      <th>over_27yrs</th>\n",
       "      <th>target</th>\n",
       "    </tr>\n",
       "  </thead>\n",
       "  <tbody>\n",
       "    <tr>\n",
       "      <th>636736</th>\n",
       "      <td>4682</td>\n",
       "      <td>319</td>\n",
       "      <td>79.9700</td>\n",
       "      <td>5</td>\n",
       "      <td>1987</td>\n",
       "      <td>6025</td>\n",
       "      <td>120960.000000</td>\n",
       "      <td>0</td>\n",
       "      <td>0</td>\n",
       "      <td>NaN</td>\n",
       "      <td>36</td>\n",
       "      <td>112520.254068</td>\n",
       "      <td>208005.081699</td>\n",
       "      <td>900000.0</td>\n",
       "      <td>78047.338623</td>\n",
       "      <td>180069.893485</td>\n",
       "      <td>540000.0</td>\n",
       "      <td>2449.800000</td>\n",
       "      <td>1</td>\n",
       "      <td>206188.643187</td>\n",
       "    </tr>\n",
       "    <tr>\n",
       "      <th>636737</th>\n",
       "      <td>4657</td>\n",
       "      <td>320</td>\n",
       "      <td>108.2017</td>\n",
       "      <td>10</td>\n",
       "      <td>2021</td>\n",
       "      <td>464</td>\n",
       "      <td>155775.000000</td>\n",
       "      <td>0</td>\n",
       "      <td>0</td>\n",
       "      <td>NaN</td>\n",
       "      <td>2</td>\n",
       "      <td>112520.254068</td>\n",
       "      <td>208005.081699</td>\n",
       "      <td>900000.0</td>\n",
       "      <td>103660.430459</td>\n",
       "      <td>169122.259048</td>\n",
       "      <td>1450000.0</td>\n",
       "      <td>2465.100000</td>\n",
       "      <td>0</td>\n",
       "      <td>284885.075476</td>\n",
       "    </tr>\n",
       "    <tr>\n",
       "      <th>636738</th>\n",
       "      <td>4658</td>\n",
       "      <td>324</td>\n",
       "      <td>161.0000</td>\n",
       "      <td>15</td>\n",
       "      <td>1984</td>\n",
       "      <td>462</td>\n",
       "      <td>182537.777778</td>\n",
       "      <td>0</td>\n",
       "      <td>0</td>\n",
       "      <td>NaN</td>\n",
       "      <td>39</td>\n",
       "      <td>112520.254068</td>\n",
       "      <td>208005.081699</td>\n",
       "      <td>900000.0</td>\n",
       "      <td>88521.744758</td>\n",
       "      <td>209776.336634</td>\n",
       "      <td>595000.0</td>\n",
       "      <td>2480.400000</td>\n",
       "      <td>1</td>\n",
       "      <td>368122.867929</td>\n",
       "    </tr>\n",
       "    <tr>\n",
       "      <th>636739</th>\n",
       "      <td>4658</td>\n",
       "      <td>324</td>\n",
       "      <td>133.4600</td>\n",
       "      <td>14</td>\n",
       "      <td>1984</td>\n",
       "      <td>462</td>\n",
       "      <td>182537.777778</td>\n",
       "      <td>0</td>\n",
       "      <td>0</td>\n",
       "      <td>NaN</td>\n",
       "      <td>39</td>\n",
       "      <td>112520.254068</td>\n",
       "      <td>208005.081699</td>\n",
       "      <td>900000.0</td>\n",
       "      <td>88521.744758</td>\n",
       "      <td>209776.336634</td>\n",
       "      <td>595000.0</td>\n",
       "      <td>2475.480000</td>\n",
       "      <td>1</td>\n",
       "      <td>298672.733761</td>\n",
       "    </tr>\n",
       "    <tr>\n",
       "      <th>636740</th>\n",
       "      <td>4658</td>\n",
       "      <td>324</td>\n",
       "      <td>104.4300</td>\n",
       "      <td>6</td>\n",
       "      <td>1984</td>\n",
       "      <td>462</td>\n",
       "      <td>182537.777778</td>\n",
       "      <td>0</td>\n",
       "      <td>0</td>\n",
       "      <td>NaN</td>\n",
       "      <td>39</td>\n",
       "      <td>112520.254068</td>\n",
       "      <td>208005.081699</td>\n",
       "      <td>900000.0</td>\n",
       "      <td>88521.744758</td>\n",
       "      <td>209776.336634</td>\n",
       "      <td>595000.0</td>\n",
       "      <td>2439.090000</td>\n",
       "      <td>1</td>\n",
       "      <td>229733.115630</td>\n",
       "    </tr>\n",
       "    <tr>\n",
       "      <th>...</th>\n",
       "      <td>...</td>\n",
       "      <td>...</td>\n",
       "      <td>...</td>\n",
       "      <td>...</td>\n",
       "      <td>...</td>\n",
       "      <td>...</td>\n",
       "      <td>...</td>\n",
       "      <td>...</td>\n",
       "      <td>...</td>\n",
       "      <td>...</td>\n",
       "      <td>...</td>\n",
       "      <td>...</td>\n",
       "      <td>...</td>\n",
       "      <td>...</td>\n",
       "      <td>...</td>\n",
       "      <td>...</td>\n",
       "      <td>...</td>\n",
       "      <td>...</td>\n",
       "      <td>...</td>\n",
       "      <td>...</td>\n",
       "    </tr>\n",
       "    <tr>\n",
       "      <th>646003</th>\n",
       "      <td>5716</td>\n",
       "      <td>3617</td>\n",
       "      <td>84.6500</td>\n",
       "      <td>13</td>\n",
       "      <td>2014</td>\n",
       "      <td>5423</td>\n",
       "      <td>39021.326676</td>\n",
       "      <td>0</td>\n",
       "      <td>22</td>\n",
       "      <td>NaN</td>\n",
       "      <td>9</td>\n",
       "      <td>27142.558383</td>\n",
       "      <td>56865.823529</td>\n",
       "      <td>185000.0</td>\n",
       "      <td>22509.608301</td>\n",
       "      <td>41454.276316</td>\n",
       "      <td>208000.0</td>\n",
       "      <td>2428.570000</td>\n",
       "      <td>0</td>\n",
       "      <td>70926.936248</td>\n",
       "    </tr>\n",
       "    <tr>\n",
       "      <th>646004</th>\n",
       "      <td>5716</td>\n",
       "      <td>3617</td>\n",
       "      <td>84.6200</td>\n",
       "      <td>12</td>\n",
       "      <td>2014</td>\n",
       "      <td>5423</td>\n",
       "      <td>39021.326676</td>\n",
       "      <td>0</td>\n",
       "      <td>22</td>\n",
       "      <td>NaN</td>\n",
       "      <td>9</td>\n",
       "      <td>27142.558383</td>\n",
       "      <td>56865.823529</td>\n",
       "      <td>185000.0</td>\n",
       "      <td>22509.608301</td>\n",
       "      <td>41454.276316</td>\n",
       "      <td>208000.0</td>\n",
       "      <td>2425.080000</td>\n",
       "      <td>0</td>\n",
       "      <td>70550.706011</td>\n",
       "    </tr>\n",
       "    <tr>\n",
       "      <th>646005</th>\n",
       "      <td>5716</td>\n",
       "      <td>3617</td>\n",
       "      <td>101.6500</td>\n",
       "      <td>12</td>\n",
       "      <td>2014</td>\n",
       "      <td>5423</td>\n",
       "      <td>39021.326676</td>\n",
       "      <td>0</td>\n",
       "      <td>22</td>\n",
       "      <td>NaN</td>\n",
       "      <td>9</td>\n",
       "      <td>27142.558383</td>\n",
       "      <td>56865.823529</td>\n",
       "      <td>185000.0</td>\n",
       "      <td>22509.608301</td>\n",
       "      <td>41454.276316</td>\n",
       "      <td>208000.0</td>\n",
       "      <td>2420.253333</td>\n",
       "      <td>0</td>\n",
       "      <td>84510.626167</td>\n",
       "    </tr>\n",
       "    <tr>\n",
       "      <th>646006</th>\n",
       "      <td>5716</td>\n",
       "      <td>3617</td>\n",
       "      <td>84.9400</td>\n",
       "      <td>18</td>\n",
       "      <td>2014</td>\n",
       "      <td>5423</td>\n",
       "      <td>39021.326676</td>\n",
       "      <td>0</td>\n",
       "      <td>22</td>\n",
       "      <td>NaN</td>\n",
       "      <td>9</td>\n",
       "      <td>27142.558383</td>\n",
       "      <td>56865.823529</td>\n",
       "      <td>185000.0</td>\n",
       "      <td>22509.608301</td>\n",
       "      <td>41454.276316</td>\n",
       "      <td>208000.0</td>\n",
       "      <td>2415.426667</td>\n",
       "      <td>0</td>\n",
       "      <td>67802.547816</td>\n",
       "    </tr>\n",
       "    <tr>\n",
       "      <th>646007</th>\n",
       "      <td>5716</td>\n",
       "      <td>3617</td>\n",
       "      <td>84.6500</td>\n",
       "      <td>13</td>\n",
       "      <td>2014</td>\n",
       "      <td>5423</td>\n",
       "      <td>39021.326676</td>\n",
       "      <td>0</td>\n",
       "      <td>22</td>\n",
       "      <td>NaN</td>\n",
       "      <td>9</td>\n",
       "      <td>27142.558383</td>\n",
       "      <td>56865.823529</td>\n",
       "      <td>185000.0</td>\n",
       "      <td>22509.608301</td>\n",
       "      <td>41454.276316</td>\n",
       "      <td>208000.0</td>\n",
       "      <td>2410.600000</td>\n",
       "      <td>0</td>\n",
       "      <td>71105.251053</td>\n",
       "    </tr>\n",
       "  </tbody>\n",
       "</table>\n",
       "<p>9272 rows × 20 columns</p>\n",
       "</div>"
      ],
      "text/plain": [
       "          번지  아파트명   전용면적(㎡)   층  건축년도   도로명         평균공시가격  exp_dongs  \\\n",
       "636736  4682   319   79.9700   5  1987  6025  120960.000000          0   \n",
       "636737  4657   320  108.2017  10  2021   464  155775.000000          0   \n",
       "636738  4658   324  161.0000  15  1984   462  182537.777778          0   \n",
       "636739  4658   324  133.4600  14  1984   462  182537.777778          0   \n",
       "636740  4658   324  104.4300   6  1984   462  182537.777778          0   \n",
       "...      ...   ...       ...  ..   ...   ...            ...        ...   \n",
       "646003  5716  3617   84.6500  13  2014  5423   39021.326676          0   \n",
       "646004  5716  3617   84.6200  12  2014  5423   39021.326676          0   \n",
       "646005  5716  3617  101.6500  12  2014  5423   39021.326676          0   \n",
       "646006  5716  3617   84.9400  18  2014  5423   39021.326676          0   \n",
       "646007  5716  3617   84.6500  13  2014  5423   39021.326676          0   \n",
       "\n",
       "        구_encoded  동_encoded  yrs_diff    계약년과동에따른std   계약년과동에따른mean  \\\n",
       "636736          0        NaN        36  112520.254068  208005.081699   \n",
       "636737          0        NaN         2  112520.254068  208005.081699   \n",
       "636738          0        NaN        39  112520.254068  208005.081699   \n",
       "636739          0        NaN        39  112520.254068  208005.081699   \n",
       "636740          0        NaN        39  112520.254068  208005.081699   \n",
       "...           ...        ...       ...            ...            ...   \n",
       "646003         22        NaN         9   27142.558383   56865.823529   \n",
       "646004         22        NaN         9   27142.558383   56865.823529   \n",
       "646005         22        NaN         9   27142.558383   56865.823529   \n",
       "646006         22        NaN         9   27142.558383   56865.823529   \n",
       "646007         22        NaN         9   27142.558383   56865.823529   \n",
       "\n",
       "        계약년과동에따른max  yrs_diff와동에따른std  yrs_diff와동에따른mean  yrs_diff와동에따른max  \\\n",
       "636736     900000.0      78047.338623      180069.893485          540000.0   \n",
       "636737     900000.0     103660.430459      169122.259048         1450000.0   \n",
       "636738     900000.0      88521.744758      209776.336634          595000.0   \n",
       "636739     900000.0      88521.744758      209776.336634          595000.0   \n",
       "636740     900000.0      88521.744758      209776.336634          595000.0   \n",
       "...             ...               ...                ...               ...   \n",
       "646003     185000.0      22509.608301       41454.276316          208000.0   \n",
       "646004     185000.0      22509.608301       41454.276316          208000.0   \n",
       "646005     185000.0      22509.608301       41454.276316          208000.0   \n",
       "646006     185000.0      22509.608301       41454.276316          208000.0   \n",
       "646007     185000.0      22509.608301       41454.276316          208000.0   \n",
       "\n",
       "        Close_delay120d  over_27yrs         target  \n",
       "636736      2449.800000           1  206188.643187  \n",
       "636737      2465.100000           0  284885.075476  \n",
       "636738      2480.400000           1  368122.867929  \n",
       "636739      2475.480000           1  298672.733761  \n",
       "636740      2439.090000           1  229733.115630  \n",
       "...                 ...         ...            ...  \n",
       "646003      2428.570000           0   70926.936248  \n",
       "646004      2425.080000           0   70550.706011  \n",
       "646005      2420.253333           0   84510.626167  \n",
       "646006      2415.426667           0   67802.547816  \n",
       "646007      2410.600000           0   71105.251053  \n",
       "\n",
       "[9272 rows x 20 columns]"
      ]
     },
     "execution_count": 92,
     "metadata": {},
     "output_type": "execute_result"
    }
   ],
   "source": [
    "# concat\n",
    "\n",
    "concat_test = pd.concat([X_test0, X_test60, X_test135], axis=0)\n",
    "concat_test = concat_test.sort_index()\n",
    "concat_test\n"
   ]
  },
  {
   "cell_type": "code",
   "execution_count": 93,
   "metadata": {},
   "outputs": [],
   "source": [
    "\n",
    "# X_test에서 target만 분리.\n",
    "\n",
    "ttt = concat_test.loc[:,'target']\n",
    "ttt = pd.DataFrame(ttt)\n",
    "\n",
    "ttt= ttt.reset_index()\n",
    "\n",
    "preds_df= ttt.drop(columns='index')\n",
    "preds_df= ttt.drop(columns='index')\n",
    "\n",
    "preds_df2 = pd.DataFrame(preds_df['target'].astype(int), columns=[\"target\"])\n",
    "preds_df2\n",
    "\n",
    "preds_df2.to_csv('gu-dong-encoded_0401_5pm_yoon.csv', index=False)\n",
    "\n"
   ]
  },
  {
   "cell_type": "code",
   "execution_count": 94,
   "metadata": {},
   "outputs": [
    {
     "data": {
      "text/html": [
       "<div>\n",
       "<style scoped>\n",
       "    .dataframe tbody tr th:only-of-type {\n",
       "        vertical-align: middle;\n",
       "    }\n",
       "\n",
       "    .dataframe tbody tr th {\n",
       "        vertical-align: top;\n",
       "    }\n",
       "\n",
       "    .dataframe thead th {\n",
       "        text-align: right;\n",
       "    }\n",
       "</style>\n",
       "<table border=\"1\" class=\"dataframe\">\n",
       "  <thead>\n",
       "    <tr style=\"text-align: right;\">\n",
       "      <th></th>\n",
       "      <th>target</th>\n",
       "    </tr>\n",
       "  </thead>\n",
       "  <tbody>\n",
       "    <tr>\n",
       "      <th>count</th>\n",
       "      <td>9272.00</td>\n",
       "    </tr>\n",
       "    <tr>\n",
       "      <th>mean</th>\n",
       "      <td>106532.15</td>\n",
       "    </tr>\n",
       "    <tr>\n",
       "      <th>std</th>\n",
       "      <td>74050.83</td>\n",
       "    </tr>\n",
       "    <tr>\n",
       "      <th>min</th>\n",
       "      <td>9159.00</td>\n",
       "    </tr>\n",
       "    <tr>\n",
       "      <th>25%</th>\n",
       "      <td>62842.25</td>\n",
       "    </tr>\n",
       "    <tr>\n",
       "      <th>50%</th>\n",
       "      <td>88339.00</td>\n",
       "    </tr>\n",
       "    <tr>\n",
       "      <th>75%</th>\n",
       "      <td>125181.50</td>\n",
       "    </tr>\n",
       "    <tr>\n",
       "      <th>max</th>\n",
       "      <td>1181784.00</td>\n",
       "    </tr>\n",
       "  </tbody>\n",
       "</table>\n",
       "</div>"
      ],
      "text/plain": [
       "           target\n",
       "count     9272.00\n",
       "mean    106532.15\n",
       "std      74050.83\n",
       "min       9159.00\n",
       "25%      62842.25\n",
       "50%      88339.00\n",
       "75%     125181.50\n",
       "max    1181784.00"
      ]
     },
     "execution_count": 94,
     "metadata": {},
     "output_type": "execute_result"
    }
   ],
   "source": [
    "preds_df2.describe().round(2)"
   ]
  },
  {
   "cell_type": "code",
   "execution_count": null,
   "metadata": {},
   "outputs": [],
   "source": []
  },
  {
   "cell_type": "code",
   "execution_count": null,
   "metadata": {},
   "outputs": [],
   "source": []
  }
 ],
 "metadata": {
  "kernelspec": {
   "display_name": "base",
   "language": "python",
   "name": "python3"
  },
  "language_info": {
   "codemirror_mode": {
    "name": "ipython",
    "version": 3
   },
   "file_extension": ".py",
   "mimetype": "text/x-python",
   "name": "python",
   "nbconvert_exporter": "python",
   "pygments_lexer": "ipython3",
   "version": "3.10.13"
  }
 },
 "nbformat": 4,
 "nbformat_minor": 2
}
