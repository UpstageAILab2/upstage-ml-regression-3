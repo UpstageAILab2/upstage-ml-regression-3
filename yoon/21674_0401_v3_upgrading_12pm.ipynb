{
 "cells": [
  {
   "cell_type": "code",
   "execution_count": 1,
   "metadata": {},
   "outputs": [],
   "source": [
    "# visualization\n",
    "import matplotlib.pyplot as plt\n",
    "import matplotlib.font_manager as fm\n",
    "fe = fm.FontEntry(\n",
    "    fname=r'/usr/share/fonts/truetype/nanum/NanumGothic.ttf', # ttf 파일이 저장되어 있는 경로\n",
    "    name='NanumBarunGothic')                        # 이 폰트의 원하는 이름 설정\n",
    "fm.fontManager.ttflist.insert(0, fe)              # Matplotlib에 폰트 추가\n",
    "plt.rcParams.update({'font.size': 10, 'font.family': 'NanumBarunGothic'}) # 폰트 설정\n",
    "plt.rc('font', family='NanumBarunGothic')\n",
    "import seaborn as sns\n",
    "\n",
    "# utils\n",
    "import pickle\n",
    "import csv\n",
    "import pandas as pd\n",
    "import numpy as np\n",
    "from tqdm import tqdm\n",
    "import pickle\n",
    "import warnings;warnings.filterwarnings('ignore')\n",
    "import gdown\n",
    "import joblib\n",
    "\n",
    "# Model\n",
    "from sklearn.preprocessing import LabelEncoder\n",
    "from sklearn.model_selection import train_test_split, TimeSeriesSplit\n",
    "from sklearn.metrics import mean_squared_error\n",
    "from sklearn.ensemble import RandomForestRegressor\n",
    "from sklearn import metrics\n",
    "import lightgbm as lgb\n",
    "\n",
    "import eli5\n",
    "from eli5.sklearn import PermutationImportance\n",
    "\n",
    "import os\n",
    "import glob\n",
    "\n",
    "# 코드 셀 실행 후 경고를 무시\n",
    "# import warnings\n",
    "# warnings.filterwarnings(action='ignore')"
   ]
  },
  {
   "cell_type": "markdown",
   "metadata": {},
   "source": [
    "### Load files"
   ]
  },
  {
   "cell_type": "code",
   "execution_count": 2,
   "metadata": {},
   "outputs": [],
   "source": [
    "base_path = \"/root/\"\n",
    "\n",
    "dt_train = pd.read_csv(base_path + \"train.csv\")\n",
    "dt_test = pd.read_csv(base_path + \"test.csv\")"
   ]
  },
  {
   "cell_type": "code",
   "execution_count": 3,
   "metadata": {},
   "outputs": [],
   "source": [
    "extra_data_path = '/root/extra_data/'"
   ]
  },
  {
   "cell_type": "markdown",
   "metadata": {},
   "source": [
    "### values needed from dt_train before merge"
   ]
  },
  {
   "cell_type": "code",
   "execution_count": 4,
   "metadata": {},
   "outputs": [],
   "source": [
    "dt_train['구'] = dt_train['시군구'].map(lambda x : x.split()[1])\n",
    "dt_train['동'] = dt_train['시군구'].map(lambda x : x.split()[2])\n",
    "# del dt_train['시군구']\n",
    "\n",
    "dt_test['구'] = dt_test['시군구'].map(lambda x : x.split()[1])\n",
    "dt_test['동'] = dt_test['시군구'].map(lambda x : x.split()[2])\n",
    "# del dt_test['시군구']"
   ]
  },
  {
   "cell_type": "markdown",
   "metadata": {},
   "source": [
    "- >=201307 에서 >=201501 로 수정"
   ]
  },
  {
   "cell_type": "code",
   "execution_count": 5,
   "metadata": {},
   "outputs": [],
   "source": [
    "dt_train = dt_train[dt_train['계약년월']>=201501]\n",
    "dt_test = dt_test[dt_test['계약년월']>=201501]"
   ]
  },
  {
   "cell_type": "code",
   "execution_count": 6,
   "metadata": {},
   "outputs": [],
   "source": [
    "mean_val_by_gu = dt_train.groupby(\"구\")[\"target\"].mean().sort_values(ascending=False)\n",
    "mean_val_by_dong = dt_train.groupby(\"동\")[\"target\"].mean().sort_values(ascending=False)\n",
    "std_val_by_gu = dt_train.groupby(\"구\")[\"target\"].std().sort_values(ascending=False)\n",
    "std_val_by_dong = dt_train.groupby(\"동\")[\"target\"].std().sort_values(ascending=False)"
   ]
  },
  {
   "cell_type": "markdown",
   "metadata": {},
   "source": [
    "### Load Table from pickle"
   ]
  },
  {
   "cell_type": "code",
   "execution_count": 7,
   "metadata": {},
   "outputs": [],
   "source": [
    "# pickle에서 데이터프레임 다시 불러오기\n",
    "with open('/root/data.pickle', 'rb') as f:\n",
    "    df = pickle.load(f)"
   ]
  },
  {
   "cell_type": "code",
   "execution_count": 8,
   "metadata": {},
   "outputs": [
    {
     "data": {
      "text/plain": [
       "Index(['번지', '본번', '아파트명', '전용면적(㎡)', '계약년월', '층', '건축년도', '도로명', 'target',\n",
       "       'is_test', '구', '동', '계약년', '계약월', '평균공시가격', '계약일', 'date'],\n",
       "      dtype='object')"
      ]
     },
     "execution_count": 8,
     "metadata": {},
     "output_type": "execute_result"
    }
   ],
   "source": [
    "df.columns"
   ]
  },
  {
   "cell_type": "code",
   "execution_count": 9,
   "metadata": {},
   "outputs": [],
   "source": [
    "df = df[df['계약년월']>=201501]"
   ]
  },
  {
   "cell_type": "markdown",
   "metadata": {},
   "source": [
    "### concat to process"
   ]
  },
  {
   "cell_type": "code",
   "execution_count": 10,
   "metadata": {},
   "outputs": [],
   "source": [
    "# train/test 구분을 위한 칼럼을 하나 만들어 줍니다.\n",
    "dt_train['is_test'] = 0\n",
    "dt_test['is_test'] = 1"
   ]
  },
  {
   "cell_type": "code",
   "execution_count": 11,
   "metadata": {},
   "outputs": [],
   "source": [
    "dt_train['price_per_area'] = dt_train['target'] / dt_train['전용면적(㎡)']"
   ]
  },
  {
   "cell_type": "code",
   "execution_count": 12,
   "metadata": {},
   "outputs": [],
   "source": [
    "dt = pd.concat([dt_train, dt_test])"
   ]
  },
  {
   "cell_type": "code",
   "execution_count": 13,
   "metadata": {},
   "outputs": [
    {
     "data": {
      "text/plain": [
       "0    636736\n",
       "1      9272\n",
       "Name: is_test, dtype: int64"
      ]
     },
     "execution_count": 13,
     "metadata": {},
     "output_type": "execute_result"
    }
   ],
   "source": [
    "dt['is_test'].value_counts()"
   ]
  },
  {
   "cell_type": "code",
   "execution_count": 14,
   "metadata": {},
   "outputs": [],
   "source": [
    "df['large_std_동'] = df['동']\n",
    "df.drop(['동'], axis=1, inplace=True)"
   ]
  },
  {
   "cell_type": "code",
   "execution_count": 15,
   "metadata": {},
   "outputs": [],
   "source": [
    "dt = dt.reset_index()"
   ]
  },
  {
   "cell_type": "code",
   "execution_count": 16,
   "metadata": {},
   "outputs": [],
   "source": [
    "df['동'] = dt['동']"
   ]
  },
  {
   "cell_type": "markdown",
   "metadata": {},
   "source": [
    "### 구 동 encoding of df"
   ]
  },
  {
   "cell_type": "code",
   "execution_count": 17,
   "metadata": {},
   "outputs": [],
   "source": [
    "order1_mean_gu = mean_val_by_gu.index.tolist()\n",
    "order2_mean_dong = mean_val_by_dong.index.tolist()\n",
    "order3_std_gu = std_val_by_gu.index.tolist()\n",
    "order4_std_dong = std_val_by_dong.index.tolist()\n",
    "\n",
    "# Create a dictionary to map district names to their corresponding label encoded values\n",
    "gu_mapping1 = {district: label for label, district in enumerate(order1_mean_gu)}\n",
    "gu_mapping2 = {district: label for label, district in enumerate(order3_std_gu)}\n",
    "dong_mapping1 = {dong: label for label, dong in enumerate(order2_mean_dong)}\n",
    "dong_mapping2 = {dong: label for label, dong in enumerate(order4_std_dong)}\n",
    "\n",
    "df['구_encoded'] = df[\"구\"].map(gu_mapping1)\n",
    "df['구_std'] = df[\"구\"].map(gu_mapping2)\n",
    "df['동_encoded'] = df[\"동\"].map(dong_mapping1)\n",
    "df['동_std'] = df[\"동\"].map(dong_mapping2)"
   ]
  },
  {
   "cell_type": "code",
   "execution_count": 18,
   "metadata": {},
   "outputs": [],
   "source": [
    "df['yrs_diff'] = df['계약년월'].map(lambda x : x // 100) - df['건축년도']"
   ]
  },
  {
   "cell_type": "code",
   "execution_count": 19,
   "metadata": {},
   "outputs": [],
   "source": [
    "df['is_public'] = dt[\"k-전용면적별세대현황(60㎡이하)\"].notnull()"
   ]
  },
  {
   "cell_type": "markdown",
   "metadata": {},
   "source": [
    "### 년도에따라 동, 구별 statistics 추가"
   ]
  },
  {
   "cell_type": "code",
   "execution_count": 20,
   "metadata": {},
   "outputs": [],
   "source": [
    "# df.drop(['아파트명'], axis=1, inplace=True)"
   ]
  },
  {
   "cell_type": "code",
   "execution_count": 21,
   "metadata": {},
   "outputs": [],
   "source": [
    "stats = df.groupby(['계약년', '구'])['target'].agg(['std', 'mean', 'max'])\n",
    "df = df.join(stats, on=['계약년', '구'], rsuffix='_target')"
   ]
  },
  {
   "cell_type": "code",
   "execution_count": 22,
   "metadata": {},
   "outputs": [],
   "source": [
    "df['계약년과구에따른std'] = df['std']\n",
    "df['계약년과구에따른mean'] = df['mean']\n",
    "df['계약년과구에따른max'] = df['max']\n",
    "df.drop(['std', 'mean', 'max'], axis=1, inplace=True)"
   ]
  },
  {
   "cell_type": "code",
   "execution_count": 23,
   "metadata": {},
   "outputs": [],
   "source": [
    "stats = df.groupby(['계약년', '동'])['target'].agg(['std', 'mean', 'max'])\n",
    "df = df.join(stats, on=['계약년', '동'], rsuffix='_target')"
   ]
  },
  {
   "cell_type": "code",
   "execution_count": 24,
   "metadata": {},
   "outputs": [],
   "source": [
    "df['계약년과동에따른std'] = df['std']\n",
    "df['계약년과동에따른mean'] = df['mean']\n",
    "df['계약년과동에따른max'] = df['max']\n",
    "df.drop(['std', 'mean', 'max'], axis=1, inplace=True)"
   ]
  },
  {
   "cell_type": "code",
   "execution_count": 25,
   "metadata": {},
   "outputs": [],
   "source": [
    "# '계약년과동에따른std', '계약년과동에따른mean', '계약년과동에따른max'의 null 값을\n",
    "# '계약년과구에따른std', '계약년과구에따른mean', '계약년과구에따른max'의 값으로 채우기\n",
    "df['계약년과동에따른std'] = df['계약년과동에따른std'].fillna(df['계약년과구에따른std'])\n",
    "df['계약년과동에따른mean'] = df['계약년과동에따른mean'].fillna(df['계약년과구에따른mean'])\n",
    "df['계약년과동에따른max'] = df['계약년과동에따른max'].fillna(df['계약년과구에따른max'])"
   ]
  },
  {
   "cell_type": "markdown",
   "metadata": {},
   "source": [
    "### yrs_diff 에따른 통계량 추가"
   ]
  },
  {
   "cell_type": "code",
   "execution_count": 26,
   "metadata": {},
   "outputs": [
    {
     "data": {
      "text/plain": [
       "Index(['번지', '본번', '아파트명', '전용면적(㎡)', '계약년월', '층', '건축년도', '도로명', 'target',\n",
       "       'is_test', '구', '계약년', '계약월', '평균공시가격', '계약일', 'date', 'large_std_동',\n",
       "       '동', '구_encoded', '구_std', '동_encoded', '동_std', 'yrs_diff',\n",
       "       'is_public', '계약년과구에따른std', '계약년과구에따른mean', '계약년과구에따른max',\n",
       "       '계약년과동에따른std', '계약년과동에따른mean', '계약년과동에따른max'],\n",
       "      dtype='object')"
      ]
     },
     "execution_count": 26,
     "metadata": {},
     "output_type": "execute_result"
    }
   ],
   "source": [
    "df.columns"
   ]
  },
  {
   "cell_type": "code",
   "execution_count": 27,
   "metadata": {},
   "outputs": [],
   "source": [
    "stats = df.groupby(['yrs_diff', '구'])['target'].agg(['std', 'mean', 'max'])\n",
    "df = df.join(stats, on=['yrs_diff', '구'], rsuffix='_target')"
   ]
  },
  {
   "cell_type": "code",
   "execution_count": 28,
   "metadata": {},
   "outputs": [],
   "source": [
    "df['yrs_diff와구에따른std'] = df['std']\n",
    "df['yrs_diff와구에따른mean'] = df['mean']\n",
    "df['yrs_diff와구에따른max'] = df['max']\n",
    "df.drop(['std', 'mean', 'max'], axis=1, inplace=True)"
   ]
  },
  {
   "cell_type": "code",
   "execution_count": 29,
   "metadata": {},
   "outputs": [],
   "source": [
    "stats = df.groupby(['yrs_diff', '동'])['target'].agg(['std', 'mean', 'max'])\n",
    "df = df.join(stats, on=['yrs_diff', '동'], rsuffix='_target')"
   ]
  },
  {
   "cell_type": "code",
   "execution_count": 30,
   "metadata": {},
   "outputs": [],
   "source": [
    "df['yrs_diff와동에따른std'] = df['std']\n",
    "df['yrs_diff와동에따른mean'] = df['mean']\n",
    "df['yrs_diff와동에따른max'] = df['max']\n",
    "df.drop(['std', 'mean', 'max'], axis=1, inplace=True)"
   ]
  },
  {
   "cell_type": "code",
   "execution_count": 31,
   "metadata": {},
   "outputs": [],
   "source": [
    "# '계약년과동에따른std', '계약년과동에따른mean', '계약년과동에따른max'의 null 값을\n",
    "# '계약년과구에따른std', '계약년과구에따른mean', '계약년과구에따른max'의 값으로 채우기\n",
    "df['yrs_diff와동에따른std'] = df['yrs_diff와동에따른std'].fillna(df['yrs_diff와구에따른std'])\n",
    "df['yrs_diff와동에따른mean'] = df['yrs_diff와동에따른mean'].fillna(df['yrs_diff와구에따른mean'])\n",
    "df['yrs_diff와동에따른max'] = df['yrs_diff와동에따른max'].fillna(df['yrs_diff와구에따른max'])"
   ]
  },
  {
   "cell_type": "code",
   "execution_count": 32,
   "metadata": {},
   "outputs": [],
   "source": [
    "df.drop(['동', 'large_std_동', '본번', '계약년과구에따른std', '계약년과구에따른mean', '계약년과구에따른max'], axis=1, inplace=True)"
   ]
  },
  {
   "cell_type": "code",
   "execution_count": 33,
   "metadata": {},
   "outputs": [
    {
     "data": {
      "text/plain": [
       "Index(['번지', '아파트명', '전용면적(㎡)', '계약년월', '층', '건축년도', '도로명', 'target',\n",
       "       'is_test', '구', '계약년', '계약월', '평균공시가격', '계약일', 'date', '구_encoded',\n",
       "       '구_std', '동_encoded', '동_std', 'yrs_diff', 'is_public', '계약년과동에따른std',\n",
       "       '계약년과동에따른mean', '계약년과동에따른max', 'yrs_diff와구에따른std', 'yrs_diff와구에따른mean',\n",
       "       'yrs_diff와구에따른max', 'yrs_diff와동에따른std', 'yrs_diff와동에따른mean',\n",
       "       'yrs_diff와동에따른max'],\n",
       "      dtype='object')"
      ]
     },
     "execution_count": 33,
     "metadata": {},
     "output_type": "execute_result"
    }
   ],
   "source": [
    "df.columns"
   ]
  },
  {
   "cell_type": "code",
   "execution_count": 34,
   "metadata": {},
   "outputs": [],
   "source": [
    "df.drop(['date'], axis=1, inplace=True)"
   ]
  },
  {
   "cell_type": "markdown",
   "metadata": {},
   "source": [
    "### KOSPI 종가 delay"
   ]
  },
  {
   "cell_type": "code",
   "execution_count": 35,
   "metadata": {},
   "outputs": [],
   "source": [
    "# # Use glob to find all files that match the pattern\n",
    "# file_paths = glob.glob(extra_data_path + \"/KOSPI_*.csv\")\n",
    "\n",
    "# # Initialize an empty list to store the dataframes\n",
    "# dfs = []\n",
    "\n",
    "# # Iterate over the file paths and read each CSV file into a dataframe\n",
    "# for file_path in file_paths:\n",
    "#     kospi_df_yr = pd.read_csv(file_path, encoding=\"euc-kr\")\n",
    "#     dfs.append(kospi_df_yr)\n",
    "\n",
    "# kospi_df = pd.concat(dfs, ignore_index=True)\n",
    "# kospi_df = kospi_df.drop(columns=['시가', '고가', '저가'])"
   ]
  },
  {
   "cell_type": "code",
   "execution_count": 36,
   "metadata": {},
   "outputs": [],
   "source": [
    "# kospi_df.rename(columns={\"일자\":\"date\", \"종가\":\"Close\"}, inplace=True)\n",
    "# kospi_df[\"date\"] = kospi_df['date'].str.replace('/', '-')\n",
    "# kospi_df[\"date\"] = pd.to_datetime(kospi_df[\"date\"])\n",
    "# kospi_df.sort_values(by='date', ascending=True, inplace=True)"
   ]
  },
  {
   "cell_type": "code",
   "execution_count": 37,
   "metadata": {},
   "outputs": [],
   "source": [
    "# kospi_df[\"Close_delay120d\"] = kospi_df[\"Close\"].shift(120)"
   ]
  },
  {
   "cell_type": "code",
   "execution_count": 38,
   "metadata": {},
   "outputs": [],
   "source": [
    "# df.columns"
   ]
  },
  {
   "cell_type": "code",
   "execution_count": 39,
   "metadata": {},
   "outputs": [],
   "source": [
    "df['date'] = pd.to_datetime(df['계약년'].astype(str) + '-' + df['계약월'].astype(str) + '-' + df['계약일'].astype(str))"
   ]
  },
  {
   "cell_type": "code",
   "execution_count": 40,
   "metadata": {},
   "outputs": [],
   "source": [
    "# df = pd.merge(left=df, right=kospi_df, on='date', how='left')"
   ]
  },
  {
   "cell_type": "code",
   "execution_count": 41,
   "metadata": {},
   "outputs": [],
   "source": [
    "# df.drop(columns=['Close', '대비', '등락률', '거래량', '거래대금', '상장시가총액'], inplace=True)"
   ]
  },
  {
   "cell_type": "code",
   "execution_count": 42,
   "metadata": {},
   "outputs": [],
   "source": [
    "# df[\"Close_delay120d\"] = df[\"Close_delay120d\"].interpolate(method='linear', axis=0)"
   ]
  },
  {
   "cell_type": "code",
   "execution_count": 43,
   "metadata": {},
   "outputs": [],
   "source": [
    "df['date'] = df['date'].astype(str)"
   ]
  },
  {
   "cell_type": "code",
   "execution_count": 44,
   "metadata": {},
   "outputs": [],
   "source": [
    "df.drop(['구', 'yrs_diff와구에따른std', 'yrs_diff와구에따른mean', \n",
    "       'yrs_diff와구에따른max','구_std', '동_std'], axis=1, inplace=True)"
   ]
  },
  {
   "cell_type": "code",
   "execution_count": 45,
   "metadata": {},
   "outputs": [],
   "source": [
    "df.drop(['계약년월', '계약년', '계약월', '계약일', '계약년과동에따른std', '계약년과동에따른mean', '계약년과동에따른max'], axis=1, inplace=True)"
   ]
  },
  {
   "cell_type": "code",
   "execution_count": 46,
   "metadata": {},
   "outputs": [
    {
     "data": {
      "text/plain": [
       "Index(['번지', '아파트명', '전용면적(㎡)', '층', '건축년도', '도로명', 'target', 'is_test',\n",
       "       '평균공시가격', '구_encoded', '동_encoded', 'yrs_diff', 'is_public',\n",
       "       'yrs_diff와동에따른std', 'yrs_diff와동에따른mean', 'yrs_diff와동에따른max', 'date'],\n",
       "      dtype='object')"
      ]
     },
     "execution_count": 46,
     "metadata": {},
     "output_type": "execute_result"
    }
   ],
   "source": [
    "df.columns"
   ]
  },
  {
   "cell_type": "code",
   "execution_count": 47,
   "metadata": {},
   "outputs": [],
   "source": [
    "df['price_per_area'] = df['target'] / df['전용면적(㎡)']"
   ]
  },
  {
   "cell_type": "code",
   "execution_count": 48,
   "metadata": {},
   "outputs": [
    {
     "data": {
      "text/plain": [
       "9272"
      ]
     },
     "execution_count": 48,
     "metadata": {},
     "output_type": "execute_result"
    }
   ],
   "source": [
    "df['price_per_area'].isnull().sum()"
   ]
  },
  {
   "cell_type": "code",
   "execution_count": 49,
   "metadata": {},
   "outputs": [],
   "source": [
    "# Assuming '도로명' column contains strings representing roads\n",
    "# Assuming 'price_per_area' column contains numerical values\n",
    "\n",
    "# Sort the DataFrame by '도로명' and any relevant time column (if available)\n",
    "df_sorted = df.sort_values(by=['도로명', 'date'], ascending=True)\n",
    "\n",
    "# Forward fill missing values in 'price_per_area' based on '도로명'\n",
    "df['price_per_area'] = df_sorted.groupby('도로명')['price_per_area'].ffill()\n",
    "\n",
    "# If there are any remaining missing values after forward fill, you can backfill them\n",
    "df['price_per_area'] = df['price_per_area'].bfill()"
   ]
  },
  {
   "cell_type": "code",
   "execution_count": 50,
   "metadata": {},
   "outputs": [
    {
     "data": {
      "text/plain": [
       "0"
      ]
     },
     "execution_count": 50,
     "metadata": {},
     "output_type": "execute_result"
    }
   ],
   "source": [
    "df['price_per_area'].isnull().sum()"
   ]
  },
  {
   "cell_type": "code",
   "execution_count": 51,
   "metadata": {},
   "outputs": [
    {
     "data": {
      "text/plain": [
       "0    636736\n",
       "1      9272\n",
       "Name: is_test, dtype: int64"
      ]
     },
     "execution_count": 51,
     "metadata": {},
     "output_type": "execute_result"
    }
   ],
   "source": [
    "df['is_test'].value_counts()"
   ]
  },
  {
   "cell_type": "code",
   "execution_count": 52,
   "metadata": {},
   "outputs": [
    {
     "data": {
      "text/plain": [
       "Index(['번지', '아파트명', '전용면적(㎡)', '층', '건축년도', '도로명', 'target', 'is_test',\n",
       "       '평균공시가격', '구_encoded', '동_encoded', 'yrs_diff', 'is_public',\n",
       "       'yrs_diff와동에따른std', 'yrs_diff와동에따른mean', 'yrs_diff와동에따른max', 'date',\n",
       "       'price_per_area'],\n",
       "      dtype='object')"
      ]
     },
     "execution_count": 52,
     "metadata": {},
     "output_type": "execute_result"
    }
   ],
   "source": [
    "df.columns"
   ]
  },
  {
   "cell_type": "code",
   "execution_count": 53,
   "metadata": {},
   "outputs": [],
   "source": [
    "df.drop(['is_public'], axis=1, inplace=True)"
   ]
  },
  {
   "cell_type": "markdown",
   "metadata": {},
   "source": [
    "### Feature Engineering"
   ]
  },
  {
   "cell_type": "markdown",
   "metadata": {},
   "source": [
    "### Train"
   ]
  },
  {
   "cell_type": "code",
   "execution_count": 54,
   "metadata": {},
   "outputs": [
    {
     "data": {
      "text/plain": [
       "Index(['번지', '아파트명', '전용면적(㎡)', '층', '건축년도', '도로명', 'target', 'is_test',\n",
       "       '평균공시가격', '구_encoded', '동_encoded', 'yrs_diff', 'yrs_diff와동에따른std',\n",
       "       'yrs_diff와동에따른mean', 'yrs_diff와동에따른max', 'date', 'price_per_area'],\n",
       "      dtype='object')"
      ]
     },
     "execution_count": 54,
     "metadata": {},
     "output_type": "execute_result"
    }
   ],
   "source": [
    "df.columns"
   ]
  },
  {
   "cell_type": "code",
   "execution_count": 55,
   "metadata": {},
   "outputs": [
    {
     "name": "stdout",
     "output_type": "stream",
     "text": [
      "(636736, 16) (9272, 16)\n"
     ]
    }
   ],
   "source": [
    "df_train = df.loc[df['is_test']==0, :]\n",
    "df_test = df.loc[df['is_test']==1, :]\n",
    "\n",
    "df_train.drop(['is_test'], axis=1, inplace=True)\n",
    "df_test.drop(['is_test'], axis=1, inplace=True)\n",
    "print(df_train.shape, df_test.shape)"
   ]
  },
  {
   "cell_type": "code",
   "execution_count": 56,
   "metadata": {},
   "outputs": [
    {
     "name": "stdout",
     "output_type": "stream",
     "text": [
      "연속형 변수: ['전용면적(㎡)', '층', '건축년도', 'target', '평균공시가격', '구_encoded', '동_encoded', 'yrs_diff', 'yrs_diff와동에따른std', 'yrs_diff와동에따른mean', 'yrs_diff와동에따른max', 'price_per_area']\n",
      "범주형 변수: ['번지', '아파트명', '도로명', 'date']\n"
     ]
    }
   ],
   "source": [
    "# 변수 삭제 및 파생변수 제작으로 추가된 변수들이 존재하기에, 다시한번 연속형과 범주형 칼럼을 분리해주겠습니다.\n",
    "continuous_columns = []\n",
    "categorical_columns = []\n",
    "\n",
    "for column in df_train.columns:\n",
    "    if pd.api.types.is_numeric_dtype(df_train[column]):\n",
    "        continuous_columns.append(column)\n",
    "    else:\n",
    "        categorical_columns.append(column)\n",
    "\n",
    "print(\"연속형 변수:\", continuous_columns)\n",
    "print(\"범주형 변수:\", categorical_columns)"
   ]
  },
  {
   "cell_type": "code",
   "execution_count": 57,
   "metadata": {},
   "outputs": [
    {
     "name": "stderr",
     "output_type": "stream",
     "text": [
      "  0%|          | 0/4 [00:00<?, ?it/s]"
     ]
    },
    {
     "name": "stderr",
     "output_type": "stream",
     "text": [
      "100%|██████████| 4/4 [00:01<00:00,  3.83it/s]\n"
     ]
    }
   ],
   "source": [
    "# 아래에서 범주형 변수들을 대상으로 레이블인코딩을 진행해 주겠습니다.\n",
    "\n",
    "# 각 변수에 대한 LabelEncoder를 저장할 딕셔너리\n",
    "label_encoders = {}\n",
    "\n",
    "# Implement Label Encoding\n",
    "for col in tqdm(categorical_columns):\n",
    "    lbl = LabelEncoder()\n",
    "\n",
    "    # Label-Encoding을 fit\n",
    "    lbl.fit( df_train[col].astype(str) )\n",
    "    df_train[col] = lbl.transform(df_train[col].astype(str))\n",
    "    label_encoders[col] = lbl           # 나중에 후처리를 위해 레이블인코더를 저장해주겠습니다.\n",
    "\n",
    "    # Test 데이터에만 존재하는 새로 출현한 데이터를 신규 클래스로 추가해줍니다.\n",
    "    for label in np.unique(df_test[col]):\n",
    "      if label not in lbl.classes_: # unseen label 데이터인 경우\n",
    "        lbl.classes_ = np.append(lbl.classes_, label) # 미처리 시 ValueError발생하니 주의하세요!\n",
    "\n",
    "    df_test[col] = lbl.transform(df_test[col].astype(str))"
   ]
  },
  {
   "cell_type": "code",
   "execution_count": 58,
   "metadata": {},
   "outputs": [],
   "source": [
    "y_train = df_train['target']\n",
    "X_train = df_train.drop(['target'], axis=1)\n",
    "\n",
    "# Split the data into train and validation sets\n",
    "X_train, X_val, y_train, y_val = train_test_split(X_train, y_train, test_size=0.2, random_state=2023)"
   ]
  },
  {
   "cell_type": "code",
   "execution_count": 59,
   "metadata": {},
   "outputs": [],
   "source": [
    "df_train0 = df_train[(df_train['전용면적(㎡)']<60)]\n",
    "df_train60 = df_train[(df_train['전용면적(㎡)']>=60)&(df_train['전용면적(㎡)']<135)]\n",
    "df_train135 = df_train[(df_train['전용면적(㎡)']>=135)]"
   ]
  },
  {
   "cell_type": "code",
   "execution_count": 60,
   "metadata": {},
   "outputs": [
    {
     "data": {
      "text/html": [
       "<div>\n",
       "<style scoped>\n",
       "    .dataframe tbody tr th:only-of-type {\n",
       "        vertical-align: middle;\n",
       "    }\n",
       "\n",
       "    .dataframe tbody tr th {\n",
       "        vertical-align: top;\n",
       "    }\n",
       "\n",
       "    .dataframe thead th {\n",
       "        text-align: right;\n",
       "    }\n",
       "</style>\n",
       "<table border=\"1\" class=\"dataframe\">\n",
       "  <thead>\n",
       "    <tr style=\"text-align: right;\">\n",
       "      <th></th>\n",
       "      <th>번지</th>\n",
       "      <th>아파트명</th>\n",
       "      <th>전용면적(㎡)</th>\n",
       "      <th>층</th>\n",
       "      <th>건축년도</th>\n",
       "      <th>도로명</th>\n",
       "      <th>target</th>\n",
       "      <th>평균공시가격</th>\n",
       "      <th>구_encoded</th>\n",
       "      <th>동_encoded</th>\n",
       "      <th>yrs_diff</th>\n",
       "      <th>yrs_diff와동에따른std</th>\n",
       "      <th>yrs_diff와동에따른mean</th>\n",
       "      <th>yrs_diff와동에따른max</th>\n",
       "      <th>date</th>\n",
       "      <th>price_per_area</th>\n",
       "    </tr>\n",
       "  </thead>\n",
       "  <tbody>\n",
       "    <tr>\n",
       "      <th>547784</th>\n",
       "      <td>1726</td>\n",
       "      <td>6426</td>\n",
       "      <td>424.32</td>\n",
       "      <td>10</td>\n",
       "      <td>1998</td>\n",
       "      <td>1617</td>\n",
       "      <td>498000.0</td>\n",
       "      <td>321942.105263</td>\n",
       "      <td>0</td>\n",
       "      <td>130.0</td>\n",
       "      <td>18</td>\n",
       "      <td>53448.549796</td>\n",
       "      <td>85095.049505</td>\n",
       "      <td>498000.0</td>\n",
       "      <td>465</td>\n",
       "      <td>1173.642534</td>\n",
       "    </tr>\n",
       "    <tr>\n",
       "      <th>60088</th>\n",
       "      <td>1165</td>\n",
       "      <td>4575</td>\n",
       "      <td>395.06</td>\n",
       "      <td>10</td>\n",
       "      <td>1996</td>\n",
       "      <td>3292</td>\n",
       "      <td>290000.0</td>\n",
       "      <td>207557.894737</td>\n",
       "      <td>1</td>\n",
       "      <td>32.0</td>\n",
       "      <td>22</td>\n",
       "      <td>35321.884950</td>\n",
       "      <td>57323.263889</td>\n",
       "      <td>290000.0</td>\n",
       "      <td>1336</td>\n",
       "      <td>734.065712</td>\n",
       "    </tr>\n",
       "    <tr>\n",
       "      <th>288524</th>\n",
       "      <td>2488</td>\n",
       "      <td>4933</td>\n",
       "      <td>317.36</td>\n",
       "      <td>9</td>\n",
       "      <td>1972</td>\n",
       "      <td>7182</td>\n",
       "      <td>175000.0</td>\n",
       "      <td>115991.666667</td>\n",
       "      <td>2</td>\n",
       "      <td>274.0</td>\n",
       "      <td>49</td>\n",
       "      <td>35957.758681</td>\n",
       "      <td>27152.631579</td>\n",
       "      <td>175000.0</td>\n",
       "      <td>2294</td>\n",
       "      <td>551.424250</td>\n",
       "    </tr>\n",
       "    <tr>\n",
       "      <th>381470</th>\n",
       "      <td>2488</td>\n",
       "      <td>4933</td>\n",
       "      <td>317.36</td>\n",
       "      <td>2</td>\n",
       "      <td>1972</td>\n",
       "      <td>7182</td>\n",
       "      <td>150000.0</td>\n",
       "      <td>115991.666667</td>\n",
       "      <td>2</td>\n",
       "      <td>260.0</td>\n",
       "      <td>48</td>\n",
       "      <td>132848.924498</td>\n",
       "      <td>239956.342857</td>\n",
       "      <td>640000.0</td>\n",
       "      <td>1981</td>\n",
       "      <td>472.649357</td>\n",
       "    </tr>\n",
       "    <tr>\n",
       "      <th>751298</th>\n",
       "      <td>2488</td>\n",
       "      <td>4933</td>\n",
       "      <td>317.36</td>\n",
       "      <td>2</td>\n",
       "      <td>1972</td>\n",
       "      <td>7182</td>\n",
       "      <td>85000.0</td>\n",
       "      <td>115991.666667</td>\n",
       "      <td>2</td>\n",
       "      <td>NaN</td>\n",
       "      <td>43</td>\n",
       "      <td>41114.162197</td>\n",
       "      <td>101770.507937</td>\n",
       "      <td>233500.0</td>\n",
       "      <td>107</td>\n",
       "      <td>267.834636</td>\n",
       "    </tr>\n",
       "    <tr>\n",
       "      <th>...</th>\n",
       "      <td>...</td>\n",
       "      <td>...</td>\n",
       "      <td>...</td>\n",
       "      <td>...</td>\n",
       "      <td>...</td>\n",
       "      <td>...</td>\n",
       "      <td>...</td>\n",
       "      <td>...</td>\n",
       "      <td>...</td>\n",
       "      <td>...</td>\n",
       "      <td>...</td>\n",
       "      <td>...</td>\n",
       "      <td>...</td>\n",
       "      <td>...</td>\n",
       "      <td>...</td>\n",
       "      <td>...</td>\n",
       "    </tr>\n",
       "    <tr>\n",
       "      <th>588481</th>\n",
       "      <td>5665</td>\n",
       "      <td>3881</td>\n",
       "      <td>135.00</td>\n",
       "      <td>15</td>\n",
       "      <td>1997</td>\n",
       "      <td>3057</td>\n",
       "      <td>53500.0</td>\n",
       "      <td>47264.792899</td>\n",
       "      <td>24</td>\n",
       "      <td>66.0</td>\n",
       "      <td>19</td>\n",
       "      <td>16136.817663</td>\n",
       "      <td>47111.718750</td>\n",
       "      <td>119000.0</td>\n",
       "      <td>467</td>\n",
       "      <td>396.296296</td>\n",
       "    </tr>\n",
       "    <tr>\n",
       "      <th>698469</th>\n",
       "      <td>5665</td>\n",
       "      <td>3881</td>\n",
       "      <td>135.00</td>\n",
       "      <td>22</td>\n",
       "      <td>1997</td>\n",
       "      <td>3057</td>\n",
       "      <td>49500.0</td>\n",
       "      <td>47264.792899</td>\n",
       "      <td>24</td>\n",
       "      <td>NaN</td>\n",
       "      <td>18</td>\n",
       "      <td>21654.891038</td>\n",
       "      <td>46442.330097</td>\n",
       "      <td>147000.0</td>\n",
       "      <td>26</td>\n",
       "      <td>366.666667</td>\n",
       "    </tr>\n",
       "    <tr>\n",
       "      <th>698476</th>\n",
       "      <td>5665</td>\n",
       "      <td>3881</td>\n",
       "      <td>135.00</td>\n",
       "      <td>6</td>\n",
       "      <td>1997</td>\n",
       "      <td>3057</td>\n",
       "      <td>48500.0</td>\n",
       "      <td>47264.792899</td>\n",
       "      <td>24</td>\n",
       "      <td>NaN</td>\n",
       "      <td>18</td>\n",
       "      <td>21654.891038</td>\n",
       "      <td>46442.330097</td>\n",
       "      <td>147000.0</td>\n",
       "      <td>39</td>\n",
       "      <td>359.259259</td>\n",
       "    </tr>\n",
       "    <tr>\n",
       "      <th>698477</th>\n",
       "      <td>5665</td>\n",
       "      <td>3881</td>\n",
       "      <td>135.00</td>\n",
       "      <td>1</td>\n",
       "      <td>1997</td>\n",
       "      <td>3057</td>\n",
       "      <td>44250.0</td>\n",
       "      <td>47264.792899</td>\n",
       "      <td>24</td>\n",
       "      <td>NaN</td>\n",
       "      <td>18</td>\n",
       "      <td>21654.891038</td>\n",
       "      <td>46442.330097</td>\n",
       "      <td>147000.0</td>\n",
       "      <td>39</td>\n",
       "      <td>327.777778</td>\n",
       "    </tr>\n",
       "    <tr>\n",
       "      <th>210500</th>\n",
       "      <td>5665</td>\n",
       "      <td>3881</td>\n",
       "      <td>135.00</td>\n",
       "      <td>11</td>\n",
       "      <td>1997</td>\n",
       "      <td>3057</td>\n",
       "      <td>92000.0</td>\n",
       "      <td>47264.792899</td>\n",
       "      <td>24</td>\n",
       "      <td>84.0</td>\n",
       "      <td>26</td>\n",
       "      <td>30194.553699</td>\n",
       "      <td>77374.468085</td>\n",
       "      <td>260000.0</td>\n",
       "      <td>3058</td>\n",
       "      <td>681.481481</td>\n",
       "    </tr>\n",
       "  </tbody>\n",
       "</table>\n",
       "<p>26900 rows × 16 columns</p>\n",
       "</div>"
      ],
      "text/plain": [
       "          번지  아파트명  전용면적(㎡)   층  건축년도   도로명    target         평균공시가격  \\\n",
       "547784  1726  6426   424.32  10  1998  1617  498000.0  321942.105263   \n",
       "60088   1165  4575   395.06  10  1996  3292  290000.0  207557.894737   \n",
       "288524  2488  4933   317.36   9  1972  7182  175000.0  115991.666667   \n",
       "381470  2488  4933   317.36   2  1972  7182  150000.0  115991.666667   \n",
       "751298  2488  4933   317.36   2  1972  7182   85000.0  115991.666667   \n",
       "...      ...   ...      ...  ..   ...   ...       ...            ...   \n",
       "588481  5665  3881   135.00  15  1997  3057   53500.0   47264.792899   \n",
       "698469  5665  3881   135.00  22  1997  3057   49500.0   47264.792899   \n",
       "698476  5665  3881   135.00   6  1997  3057   48500.0   47264.792899   \n",
       "698477  5665  3881   135.00   1  1997  3057   44250.0   47264.792899   \n",
       "210500  5665  3881   135.00  11  1997  3057   92000.0   47264.792899   \n",
       "\n",
       "        구_encoded  동_encoded  yrs_diff  yrs_diff와동에따른std  yrs_diff와동에따른mean  \\\n",
       "547784          0      130.0        18      53448.549796       85095.049505   \n",
       "60088           1       32.0        22      35321.884950       57323.263889   \n",
       "288524          2      274.0        49      35957.758681       27152.631579   \n",
       "381470          2      260.0        48     132848.924498      239956.342857   \n",
       "751298          2        NaN        43      41114.162197      101770.507937   \n",
       "...           ...        ...       ...               ...                ...   \n",
       "588481         24       66.0        19      16136.817663       47111.718750   \n",
       "698469         24        NaN        18      21654.891038       46442.330097   \n",
       "698476         24        NaN        18      21654.891038       46442.330097   \n",
       "698477         24        NaN        18      21654.891038       46442.330097   \n",
       "210500         24       84.0        26      30194.553699       77374.468085   \n",
       "\n",
       "        yrs_diff와동에따른max  date  price_per_area  \n",
       "547784          498000.0   465     1173.642534  \n",
       "60088           290000.0  1336      734.065712  \n",
       "288524          175000.0  2294      551.424250  \n",
       "381470          640000.0  1981      472.649357  \n",
       "751298          233500.0   107      267.834636  \n",
       "...                  ...   ...             ...  \n",
       "588481          119000.0   467      396.296296  \n",
       "698469          147000.0    26      366.666667  \n",
       "698476          147000.0    39      359.259259  \n",
       "698477          147000.0    39      327.777778  \n",
       "210500          260000.0  3058      681.481481  \n",
       "\n",
       "[26900 rows x 16 columns]"
      ]
     },
     "execution_count": 60,
     "metadata": {},
     "output_type": "execute_result"
    }
   ],
   "source": [
    "df_train0.sort_values(by= '전용면적(㎡)', ascending=False)\n",
    "df_train60.sort_values(by= '전용면적(㎡)', ascending=False)\n",
    "df_train135.sort_values(by= '전용면적(㎡)', ascending=False)"
   ]
  },
  {
   "cell_type": "code",
   "execution_count": 61,
   "metadata": {},
   "outputs": [],
   "source": [
    "y_train0 = df_train0['target']\n",
    "X_train0 = df_train0.drop(['target'], axis=1)\n",
    "\n",
    "\n",
    "y_train60 = df_train60['target']\n",
    "X_train60 = df_train60.drop(['target'], axis=1)\n",
    "\n",
    "y_train135 = df_train135['target']\n",
    "X_train135 = df_train135.drop(['target'], axis=1)\n",
    "\n",
    "\n",
    "# Split the data into train and validation sets\n",
    "X_train0, X_val0, y_train0, y_val0 = train_test_split(X_train0, y_train0, test_size=0.2, random_state=2023)\n",
    "X_train60, X_val60, y_train60, y_val60 = train_test_split(X_train60, y_train60, test_size=0.2, random_state=2023)"
   ]
  },
  {
   "cell_type": "code",
   "execution_count": 70,
   "metadata": {},
   "outputs": [
    {
     "name": "stdout",
     "output_type": "stream",
     "text": [
      "(196015, 15) (49004, 15)\n",
      "(291853, 15) (72964, 15)\n"
     ]
    }
   ],
   "source": [
    "print(X_train0.shape, X_val0.shape)\n",
    "print(X_train60.shape, X_val60.shape)"
   ]
  },
  {
   "cell_type": "code",
   "execution_count": 71,
   "metadata": {},
   "outputs": [],
   "source": [
    "gbm0 = lgb.LGBMRegressor(n_estimators=5000, max_depth=50, num_leaves=600, min_child_samples=50,\n",
    "                            feature_fraction=0.7,\n",
    "                            bagging_fraction=0.9, verbosity=-1)\n",
    "\n",
    "\n",
    "\n",
    "gbm60 = lgb.LGBMRegressor(n_estimators=5000, max_depth=50, num_leaves=600, min_child_samples=50,\n",
    "                            feature_fraction=0.7,\n",
    "                            bagging_fraction=0.9, verbosity=-1)"
   ]
  },
  {
   "cell_type": "code",
   "execution_count": 72,
   "metadata": {},
   "outputs": [
    {
     "name": "stdout",
     "output_type": "stream",
     "text": [
      "Training until validation scores don't improve for 50 rounds\n",
      "[100]\ttraining's rmse: 970.887\ttraining's l2: 942621\tvalid_1's rmse: 1597.33\tvalid_1's l2: 2.55146e+06\n",
      "[200]\ttraining's rmse: 753.934\ttraining's l2: 568416\tvalid_1's rmse: 1513.63\tvalid_1's l2: 2.29106e+06\n",
      "[300]\ttraining's rmse: 648.876\ttraining's l2: 421040\tvalid_1's rmse: 1493.31\tvalid_1's l2: 2.22997e+06\n",
      "[400]\ttraining's rmse: 577.677\ttraining's l2: 333711\tvalid_1's rmse: 1484.66\tvalid_1's l2: 2.20423e+06\n",
      "[500]\ttraining's rmse: 527.538\ttraining's l2: 278296\tvalid_1's rmse: 1481.71\tvalid_1's l2: 2.19546e+06\n",
      "Early stopping, best iteration is:\n",
      "[460]\ttraining's rmse: 545.937\ttraining's l2: 298048\tvalid_1's rmse: 1480.58\tvalid_1's l2: 2.19213e+06\n"
     ]
    },
    {
     "data": {
      "text/html": [
       "<style>#sk-container-id-2 {color: black;background-color: white;}#sk-container-id-2 pre{padding: 0;}#sk-container-id-2 div.sk-toggleable {background-color: white;}#sk-container-id-2 label.sk-toggleable__label {cursor: pointer;display: block;width: 100%;margin-bottom: 0;padding: 0.3em;box-sizing: border-box;text-align: center;}#sk-container-id-2 label.sk-toggleable__label-arrow:before {content: \"▸\";float: left;margin-right: 0.25em;color: #696969;}#sk-container-id-2 label.sk-toggleable__label-arrow:hover:before {color: black;}#sk-container-id-2 div.sk-estimator:hover label.sk-toggleable__label-arrow:before {color: black;}#sk-container-id-2 div.sk-toggleable__content {max-height: 0;max-width: 0;overflow: hidden;text-align: left;background-color: #f0f8ff;}#sk-container-id-2 div.sk-toggleable__content pre {margin: 0.2em;color: black;border-radius: 0.25em;background-color: #f0f8ff;}#sk-container-id-2 input.sk-toggleable__control:checked~div.sk-toggleable__content {max-height: 200px;max-width: 100%;overflow: auto;}#sk-container-id-2 input.sk-toggleable__control:checked~label.sk-toggleable__label-arrow:before {content: \"▾\";}#sk-container-id-2 div.sk-estimator input.sk-toggleable__control:checked~label.sk-toggleable__label {background-color: #d4ebff;}#sk-container-id-2 div.sk-label input.sk-toggleable__control:checked~label.sk-toggleable__label {background-color: #d4ebff;}#sk-container-id-2 input.sk-hidden--visually {border: 0;clip: rect(1px 1px 1px 1px);clip: rect(1px, 1px, 1px, 1px);height: 1px;margin: -1px;overflow: hidden;padding: 0;position: absolute;width: 1px;}#sk-container-id-2 div.sk-estimator {font-family: monospace;background-color: #f0f8ff;border: 1px dotted black;border-radius: 0.25em;box-sizing: border-box;margin-bottom: 0.5em;}#sk-container-id-2 div.sk-estimator:hover {background-color: #d4ebff;}#sk-container-id-2 div.sk-parallel-item::after {content: \"\";width: 100%;border-bottom: 1px solid gray;flex-grow: 1;}#sk-container-id-2 div.sk-label:hover label.sk-toggleable__label {background-color: #d4ebff;}#sk-container-id-2 div.sk-serial::before {content: \"\";position: absolute;border-left: 1px solid gray;box-sizing: border-box;top: 0;bottom: 0;left: 50%;z-index: 0;}#sk-container-id-2 div.sk-serial {display: flex;flex-direction: column;align-items: center;background-color: white;padding-right: 0.2em;padding-left: 0.2em;position: relative;}#sk-container-id-2 div.sk-item {position: relative;z-index: 1;}#sk-container-id-2 div.sk-parallel {display: flex;align-items: stretch;justify-content: center;background-color: white;position: relative;}#sk-container-id-2 div.sk-item::before, #sk-container-id-2 div.sk-parallel-item::before {content: \"\";position: absolute;border-left: 1px solid gray;box-sizing: border-box;top: 0;bottom: 0;left: 50%;z-index: -1;}#sk-container-id-2 div.sk-parallel-item {display: flex;flex-direction: column;z-index: 1;position: relative;background-color: white;}#sk-container-id-2 div.sk-parallel-item:first-child::after {align-self: flex-end;width: 50%;}#sk-container-id-2 div.sk-parallel-item:last-child::after {align-self: flex-start;width: 50%;}#sk-container-id-2 div.sk-parallel-item:only-child::after {width: 0;}#sk-container-id-2 div.sk-dashed-wrapped {border: 1px dashed gray;margin: 0 0.4em 0.5em 0.4em;box-sizing: border-box;padding-bottom: 0.4em;background-color: white;}#sk-container-id-2 div.sk-label label {font-family: monospace;font-weight: bold;display: inline-block;line-height: 1.2em;}#sk-container-id-2 div.sk-label-container {text-align: center;}#sk-container-id-2 div.sk-container {/* jupyter's `normalize.less` sets `[hidden] { display: none; }` but bootstrap.min.css set `[hidden] { display: none !important; }` so we also need the `!important` here to be able to override the default hidden behavior on the sphinx rendered scikit-learn.org. See: https://github.com/scikit-learn/scikit-learn/issues/21755 */display: inline-block !important;position: relative;}#sk-container-id-2 div.sk-text-repr-fallback {display: none;}</style><div id=\"sk-container-id-2\" class=\"sk-top-container\"><div class=\"sk-text-repr-fallback\"><pre>LGBMRegressor(bagging_fraction=0.9, feature_fraction=0.7, max_depth=50,\n",
       "              min_child_samples=50, n_estimators=5000, num_leaves=600,\n",
       "              verbosity=-1)</pre><b>In a Jupyter environment, please rerun this cell to show the HTML representation or trust the notebook. <br />On GitHub, the HTML representation is unable to render, please try loading this page with nbviewer.org.</b></div><div class=\"sk-container\" hidden><div class=\"sk-item\"><div class=\"sk-estimator sk-toggleable\"><input class=\"sk-toggleable__control sk-hidden--visually\" id=\"sk-estimator-id-2\" type=\"checkbox\" checked><label for=\"sk-estimator-id-2\" class=\"sk-toggleable__label sk-toggleable__label-arrow\">LGBMRegressor</label><div class=\"sk-toggleable__content\"><pre>LGBMRegressor(bagging_fraction=0.9, feature_fraction=0.7, max_depth=50,\n",
       "              min_child_samples=50, n_estimators=5000, num_leaves=600,\n",
       "              verbosity=-1)</pre></div></div></div></div></div>"
      ],
      "text/plain": [
       "LGBMRegressor(bagging_fraction=0.9, feature_fraction=0.7, max_depth=50,\n",
       "              min_child_samples=50, n_estimators=5000, num_leaves=600,\n",
       "              verbosity=-1)"
      ]
     },
     "execution_count": 72,
     "metadata": {},
     "output_type": "execute_result"
    }
   ],
   "source": [
    "gbm0.fit(\n",
    "        X_train0, y_train0, \n",
    "        eval_set=[(X_train0, y_train0), (X_val0, y_val0)], \n",
    "        eval_metric='rmse',\n",
    "        callbacks=[lgb.early_stopping(stopping_rounds=50),\n",
    "                   lgb.log_evaluation(period=100, show_stdv=True)]\n",
    "        )\n"
   ]
  },
  {
   "cell_type": "code",
   "execution_count": 73,
   "metadata": {},
   "outputs": [
    {
     "name": "stdout",
     "output_type": "stream",
     "text": [
      "Training until validation scores don't improve for 50 rounds\n",
      "[100]\ttraining's rmse: 1503.64\ttraining's l2: 2.26092e+06\tvalid_1's rmse: 2012.39\tvalid_1's l2: 4.0497e+06\n",
      "[200]\ttraining's rmse: 1107.18\ttraining's l2: 1.22584e+06\tvalid_1's rmse: 1814.18\tvalid_1's l2: 3.29125e+06\n",
      "[300]\ttraining's rmse: 926.215\ttraining's l2: 857874\tvalid_1's rmse: 1763.24\tvalid_1's l2: 3.10903e+06\n",
      "[400]\ttraining's rmse: 809.68\ttraining's l2: 655582\tvalid_1's rmse: 1740.7\tvalid_1's l2: 3.03004e+06\n",
      "[500]\ttraining's rmse: 727.671\ttraining's l2: 529505\tvalid_1's rmse: 1729.22\tvalid_1's l2: 2.99021e+06\n",
      "[600]\ttraining's rmse: 661.16\ttraining's l2: 437132\tvalid_1's rmse: 1724.58\tvalid_1's l2: 2.97419e+06\n",
      "[700]\ttraining's rmse: 609.646\ttraining's l2: 371668\tvalid_1's rmse: 1721.86\tvalid_1's l2: 2.96482e+06\n",
      "[800]\ttraining's rmse: 567.851\ttraining's l2: 322455\tvalid_1's rmse: 1720.79\tvalid_1's l2: 2.96111e+06\n",
      "[900]\ttraining's rmse: 532.375\ttraining's l2: 283423\tvalid_1's rmse: 1721.76\tvalid_1's l2: 2.96445e+06\n",
      "Early stopping, best iteration is:\n",
      "[854]\ttraining's rmse: 548.012\ttraining's l2: 300317\tvalid_1's rmse: 1720.01\tvalid_1's l2: 2.95845e+06\n"
     ]
    },
    {
     "data": {
      "text/html": [
       "<style>#sk-container-id-3 {color: black;background-color: white;}#sk-container-id-3 pre{padding: 0;}#sk-container-id-3 div.sk-toggleable {background-color: white;}#sk-container-id-3 label.sk-toggleable__label {cursor: pointer;display: block;width: 100%;margin-bottom: 0;padding: 0.3em;box-sizing: border-box;text-align: center;}#sk-container-id-3 label.sk-toggleable__label-arrow:before {content: \"▸\";float: left;margin-right: 0.25em;color: #696969;}#sk-container-id-3 label.sk-toggleable__label-arrow:hover:before {color: black;}#sk-container-id-3 div.sk-estimator:hover label.sk-toggleable__label-arrow:before {color: black;}#sk-container-id-3 div.sk-toggleable__content {max-height: 0;max-width: 0;overflow: hidden;text-align: left;background-color: #f0f8ff;}#sk-container-id-3 div.sk-toggleable__content pre {margin: 0.2em;color: black;border-radius: 0.25em;background-color: #f0f8ff;}#sk-container-id-3 input.sk-toggleable__control:checked~div.sk-toggleable__content {max-height: 200px;max-width: 100%;overflow: auto;}#sk-container-id-3 input.sk-toggleable__control:checked~label.sk-toggleable__label-arrow:before {content: \"▾\";}#sk-container-id-3 div.sk-estimator input.sk-toggleable__control:checked~label.sk-toggleable__label {background-color: #d4ebff;}#sk-container-id-3 div.sk-label input.sk-toggleable__control:checked~label.sk-toggleable__label {background-color: #d4ebff;}#sk-container-id-3 input.sk-hidden--visually {border: 0;clip: rect(1px 1px 1px 1px);clip: rect(1px, 1px, 1px, 1px);height: 1px;margin: -1px;overflow: hidden;padding: 0;position: absolute;width: 1px;}#sk-container-id-3 div.sk-estimator {font-family: monospace;background-color: #f0f8ff;border: 1px dotted black;border-radius: 0.25em;box-sizing: border-box;margin-bottom: 0.5em;}#sk-container-id-3 div.sk-estimator:hover {background-color: #d4ebff;}#sk-container-id-3 div.sk-parallel-item::after {content: \"\";width: 100%;border-bottom: 1px solid gray;flex-grow: 1;}#sk-container-id-3 div.sk-label:hover label.sk-toggleable__label {background-color: #d4ebff;}#sk-container-id-3 div.sk-serial::before {content: \"\";position: absolute;border-left: 1px solid gray;box-sizing: border-box;top: 0;bottom: 0;left: 50%;z-index: 0;}#sk-container-id-3 div.sk-serial {display: flex;flex-direction: column;align-items: center;background-color: white;padding-right: 0.2em;padding-left: 0.2em;position: relative;}#sk-container-id-3 div.sk-item {position: relative;z-index: 1;}#sk-container-id-3 div.sk-parallel {display: flex;align-items: stretch;justify-content: center;background-color: white;position: relative;}#sk-container-id-3 div.sk-item::before, #sk-container-id-3 div.sk-parallel-item::before {content: \"\";position: absolute;border-left: 1px solid gray;box-sizing: border-box;top: 0;bottom: 0;left: 50%;z-index: -1;}#sk-container-id-3 div.sk-parallel-item {display: flex;flex-direction: column;z-index: 1;position: relative;background-color: white;}#sk-container-id-3 div.sk-parallel-item:first-child::after {align-self: flex-end;width: 50%;}#sk-container-id-3 div.sk-parallel-item:last-child::after {align-self: flex-start;width: 50%;}#sk-container-id-3 div.sk-parallel-item:only-child::after {width: 0;}#sk-container-id-3 div.sk-dashed-wrapped {border: 1px dashed gray;margin: 0 0.4em 0.5em 0.4em;box-sizing: border-box;padding-bottom: 0.4em;background-color: white;}#sk-container-id-3 div.sk-label label {font-family: monospace;font-weight: bold;display: inline-block;line-height: 1.2em;}#sk-container-id-3 div.sk-label-container {text-align: center;}#sk-container-id-3 div.sk-container {/* jupyter's `normalize.less` sets `[hidden] { display: none; }` but bootstrap.min.css set `[hidden] { display: none !important; }` so we also need the `!important` here to be able to override the default hidden behavior on the sphinx rendered scikit-learn.org. See: https://github.com/scikit-learn/scikit-learn/issues/21755 */display: inline-block !important;position: relative;}#sk-container-id-3 div.sk-text-repr-fallback {display: none;}</style><div id=\"sk-container-id-3\" class=\"sk-top-container\"><div class=\"sk-text-repr-fallback\"><pre>LGBMRegressor(bagging_fraction=0.9, feature_fraction=0.7, max_depth=50,\n",
       "              min_child_samples=50, n_estimators=5000, num_leaves=600,\n",
       "              verbosity=-1)</pre><b>In a Jupyter environment, please rerun this cell to show the HTML representation or trust the notebook. <br />On GitHub, the HTML representation is unable to render, please try loading this page with nbviewer.org.</b></div><div class=\"sk-container\" hidden><div class=\"sk-item\"><div class=\"sk-estimator sk-toggleable\"><input class=\"sk-toggleable__control sk-hidden--visually\" id=\"sk-estimator-id-3\" type=\"checkbox\" checked><label for=\"sk-estimator-id-3\" class=\"sk-toggleable__label sk-toggleable__label-arrow\">LGBMRegressor</label><div class=\"sk-toggleable__content\"><pre>LGBMRegressor(bagging_fraction=0.9, feature_fraction=0.7, max_depth=50,\n",
       "              min_child_samples=50, n_estimators=5000, num_leaves=600,\n",
       "              verbosity=-1)</pre></div></div></div></div></div>"
      ],
      "text/plain": [
       "LGBMRegressor(bagging_fraction=0.9, feature_fraction=0.7, max_depth=50,\n",
       "              min_child_samples=50, n_estimators=5000, num_leaves=600,\n",
       "              verbosity=-1)"
      ]
     },
     "execution_count": 73,
     "metadata": {},
     "output_type": "execute_result"
    }
   ],
   "source": [
    "gbm60.fit(\n",
    "        X_train60, y_train60, \n",
    "        eval_set=[(X_train60, y_train60), (X_val60, y_val60)], \n",
    "        eval_metric='rmse',\n",
    "        callbacks=[lgb.early_stopping(stopping_rounds=50),\n",
    "                   lgb.log_evaluation(period=100, show_stdv=True)]\n",
    "        )"
   ]
  },
  {
   "cell_type": "markdown",
   "metadata": {},
   "source": [
    "### 135만 다르게 접근해야할 것 같음"
   ]
  },
  {
   "cell_type": "code",
   "execution_count": 74,
   "metadata": {},
   "outputs": [],
   "source": [
    "# X_train135, y_train135, X_val135"
   ]
  },
  {
   "cell_type": "code",
   "execution_count": 75,
   "metadata": {},
   "outputs": [],
   "source": [
    "# from sklearn.model_selection import KFold, cross_val_score"
   ]
  },
  {
   "cell_type": "code",
   "execution_count": 76,
   "metadata": {},
   "outputs": [],
   "source": [
    "# kf = KFold(n_splits=5, random_state=42, shuffle=True)"
   ]
  },
  {
   "cell_type": "code",
   "execution_count": 77,
   "metadata": {},
   "outputs": [],
   "source": [
    "X_train135, X_val135, y_train135, y_val135 = train_test_split(X_train135, y_train135, test_size=0.1, random_state=2023)"
   ]
  },
  {
   "cell_type": "code",
   "execution_count": 78,
   "metadata": {},
   "outputs": [],
   "source": [
    "gbm135 = lgb.LGBMRegressor(n_estimators=5000, max_depth=20, num_leaves=600, min_child_samples=10,\n",
    "                            feature_fraction=0.7,\n",
    "                            bagging_fraction=0.9, verbosity=-1)"
   ]
  },
  {
   "cell_type": "code",
   "execution_count": 80,
   "metadata": {},
   "outputs": [],
   "source": [
    "# X_train135.drop('date', axis=1, inplace=True)\n",
    "# X_val135.drop('date', axis=1, inplace=True)"
   ]
  },
  {
   "cell_type": "code",
   "execution_count": 81,
   "metadata": {},
   "outputs": [
    {
     "name": "stdout",
     "output_type": "stream",
     "text": [
      "Training until validation scores don't improve for 50 rounds\n",
      "[100]\ttraining's rmse: 2451.19\ttraining's l2: 6.00834e+06\tvalid_1's rmse: 8085.56\tvalid_1's l2: 6.53762e+07\n",
      "[200]\ttraining's rmse: 1514.86\ttraining's l2: 2.2948e+06\tvalid_1's rmse: 7934.15\tvalid_1's l2: 6.29507e+07\n",
      "Early stopping, best iteration is:\n",
      "[228]\ttraining's rmse: 1323.56\ttraining's l2: 1.75181e+06\tvalid_1's rmse: 7913.78\tvalid_1's l2: 6.26278e+07\n"
     ]
    },
    {
     "data": {
      "text/html": [
       "<style>#sk-container-id-4 {color: black;background-color: white;}#sk-container-id-4 pre{padding: 0;}#sk-container-id-4 div.sk-toggleable {background-color: white;}#sk-container-id-4 label.sk-toggleable__label {cursor: pointer;display: block;width: 100%;margin-bottom: 0;padding: 0.3em;box-sizing: border-box;text-align: center;}#sk-container-id-4 label.sk-toggleable__label-arrow:before {content: \"▸\";float: left;margin-right: 0.25em;color: #696969;}#sk-container-id-4 label.sk-toggleable__label-arrow:hover:before {color: black;}#sk-container-id-4 div.sk-estimator:hover label.sk-toggleable__label-arrow:before {color: black;}#sk-container-id-4 div.sk-toggleable__content {max-height: 0;max-width: 0;overflow: hidden;text-align: left;background-color: #f0f8ff;}#sk-container-id-4 div.sk-toggleable__content pre {margin: 0.2em;color: black;border-radius: 0.25em;background-color: #f0f8ff;}#sk-container-id-4 input.sk-toggleable__control:checked~div.sk-toggleable__content {max-height: 200px;max-width: 100%;overflow: auto;}#sk-container-id-4 input.sk-toggleable__control:checked~label.sk-toggleable__label-arrow:before {content: \"▾\";}#sk-container-id-4 div.sk-estimator input.sk-toggleable__control:checked~label.sk-toggleable__label {background-color: #d4ebff;}#sk-container-id-4 div.sk-label input.sk-toggleable__control:checked~label.sk-toggleable__label {background-color: #d4ebff;}#sk-container-id-4 input.sk-hidden--visually {border: 0;clip: rect(1px 1px 1px 1px);clip: rect(1px, 1px, 1px, 1px);height: 1px;margin: -1px;overflow: hidden;padding: 0;position: absolute;width: 1px;}#sk-container-id-4 div.sk-estimator {font-family: monospace;background-color: #f0f8ff;border: 1px dotted black;border-radius: 0.25em;box-sizing: border-box;margin-bottom: 0.5em;}#sk-container-id-4 div.sk-estimator:hover {background-color: #d4ebff;}#sk-container-id-4 div.sk-parallel-item::after {content: \"\";width: 100%;border-bottom: 1px solid gray;flex-grow: 1;}#sk-container-id-4 div.sk-label:hover label.sk-toggleable__label {background-color: #d4ebff;}#sk-container-id-4 div.sk-serial::before {content: \"\";position: absolute;border-left: 1px solid gray;box-sizing: border-box;top: 0;bottom: 0;left: 50%;z-index: 0;}#sk-container-id-4 div.sk-serial {display: flex;flex-direction: column;align-items: center;background-color: white;padding-right: 0.2em;padding-left: 0.2em;position: relative;}#sk-container-id-4 div.sk-item {position: relative;z-index: 1;}#sk-container-id-4 div.sk-parallel {display: flex;align-items: stretch;justify-content: center;background-color: white;position: relative;}#sk-container-id-4 div.sk-item::before, #sk-container-id-4 div.sk-parallel-item::before {content: \"\";position: absolute;border-left: 1px solid gray;box-sizing: border-box;top: 0;bottom: 0;left: 50%;z-index: -1;}#sk-container-id-4 div.sk-parallel-item {display: flex;flex-direction: column;z-index: 1;position: relative;background-color: white;}#sk-container-id-4 div.sk-parallel-item:first-child::after {align-self: flex-end;width: 50%;}#sk-container-id-4 div.sk-parallel-item:last-child::after {align-self: flex-start;width: 50%;}#sk-container-id-4 div.sk-parallel-item:only-child::after {width: 0;}#sk-container-id-4 div.sk-dashed-wrapped {border: 1px dashed gray;margin: 0 0.4em 0.5em 0.4em;box-sizing: border-box;padding-bottom: 0.4em;background-color: white;}#sk-container-id-4 div.sk-label label {font-family: monospace;font-weight: bold;display: inline-block;line-height: 1.2em;}#sk-container-id-4 div.sk-label-container {text-align: center;}#sk-container-id-4 div.sk-container {/* jupyter's `normalize.less` sets `[hidden] { display: none; }` but bootstrap.min.css set `[hidden] { display: none !important; }` so we also need the `!important` here to be able to override the default hidden behavior on the sphinx rendered scikit-learn.org. See: https://github.com/scikit-learn/scikit-learn/issues/21755 */display: inline-block !important;position: relative;}#sk-container-id-4 div.sk-text-repr-fallback {display: none;}</style><div id=\"sk-container-id-4\" class=\"sk-top-container\"><div class=\"sk-text-repr-fallback\"><pre>LGBMRegressor(bagging_fraction=0.9, feature_fraction=0.7, max_depth=20,\n",
       "              min_child_samples=10, n_estimators=5000, num_leaves=600,\n",
       "              verbosity=-1)</pre><b>In a Jupyter environment, please rerun this cell to show the HTML representation or trust the notebook. <br />On GitHub, the HTML representation is unable to render, please try loading this page with nbviewer.org.</b></div><div class=\"sk-container\" hidden><div class=\"sk-item\"><div class=\"sk-estimator sk-toggleable\"><input class=\"sk-toggleable__control sk-hidden--visually\" id=\"sk-estimator-id-4\" type=\"checkbox\" checked><label for=\"sk-estimator-id-4\" class=\"sk-toggleable__label sk-toggleable__label-arrow\">LGBMRegressor</label><div class=\"sk-toggleable__content\"><pre>LGBMRegressor(bagging_fraction=0.9, feature_fraction=0.7, max_depth=20,\n",
       "              min_child_samples=10, n_estimators=5000, num_leaves=600,\n",
       "              verbosity=-1)</pre></div></div></div></div></div>"
      ],
      "text/plain": [
       "LGBMRegressor(bagging_fraction=0.9, feature_fraction=0.7, max_depth=20,\n",
       "              min_child_samples=10, n_estimators=5000, num_leaves=600,\n",
       "              verbosity=-1)"
      ]
     },
     "execution_count": 81,
     "metadata": {},
     "output_type": "execute_result"
    }
   ],
   "source": [
    "gbm135.fit(\n",
    "        X_train135, y_train135, \n",
    "        eval_set=[(X_train135, y_train135), (X_val135, y_val135)], \n",
    "        eval_metric='rmse',\n",
    "        callbacks=[lgb.early_stopping(stopping_rounds=50),\n",
    "                   lgb.log_evaluation(period=100, show_stdv=True)]\n",
    "        )"
   ]
  },
  {
   "cell_type": "code",
   "execution_count": 82,
   "metadata": {},
   "outputs": [
    {
     "data": {
      "text/html": [
       "<div>\n",
       "<style scoped>\n",
       "    .dataframe tbody tr th:only-of-type {\n",
       "        vertical-align: middle;\n",
       "    }\n",
       "\n",
       "    .dataframe tbody tr th {\n",
       "        vertical-align: top;\n",
       "    }\n",
       "\n",
       "    .dataframe thead th {\n",
       "        text-align: right;\n",
       "    }\n",
       "</style>\n",
       "<table border=\"1\" class=\"dataframe\">\n",
       "  <thead>\n",
       "    <tr style=\"text-align: right;\">\n",
       "      <th></th>\n",
       "      <th>번지</th>\n",
       "      <th>아파트명</th>\n",
       "      <th>전용면적(㎡)</th>\n",
       "      <th>층</th>\n",
       "      <th>건축년도</th>\n",
       "      <th>도로명</th>\n",
       "      <th>평균공시가격</th>\n",
       "      <th>구_encoded</th>\n",
       "      <th>동_encoded</th>\n",
       "      <th>yrs_diff</th>\n",
       "      <th>yrs_diff와동에따른std</th>\n",
       "      <th>yrs_diff와동에따른mean</th>\n",
       "      <th>yrs_diff와동에따른max</th>\n",
       "      <th>date</th>\n",
       "      <th>price_per_area</th>\n",
       "    </tr>\n",
       "  </thead>\n",
       "  <tbody>\n",
       "    <tr>\n",
       "      <th>1118822</th>\n",
       "      <td>4682</td>\n",
       "      <td>319</td>\n",
       "      <td>79.9700</td>\n",
       "      <td>5</td>\n",
       "      <td>1987</td>\n",
       "      <td>6025</td>\n",
       "      <td>120960.000000</td>\n",
       "      <td>0</td>\n",
       "      <td>NaN</td>\n",
       "      <td>36</td>\n",
       "      <td>78047.338623</td>\n",
       "      <td>180069.893485</td>\n",
       "      <td>540000.0</td>\n",
       "      <td>3097</td>\n",
       "      <td>2701.012880</td>\n",
       "    </tr>\n",
       "    <tr>\n",
       "      <th>1118823</th>\n",
       "      <td>4657</td>\n",
       "      <td>320</td>\n",
       "      <td>108.2017</td>\n",
       "      <td>10</td>\n",
       "      <td>2021</td>\n",
       "      <td>464</td>\n",
       "      <td>155775.000000</td>\n",
       "      <td>0</td>\n",
       "      <td>NaN</td>\n",
       "      <td>2</td>\n",
       "      <td>103660.430459</td>\n",
       "      <td>169122.259048</td>\n",
       "      <td>1450000.0</td>\n",
       "      <td>3117</td>\n",
       "      <td>2268.293789</td>\n",
       "    </tr>\n",
       "    <tr>\n",
       "      <th>1118824</th>\n",
       "      <td>4658</td>\n",
       "      <td>324</td>\n",
       "      <td>161.0000</td>\n",
       "      <td>15</td>\n",
       "      <td>1984</td>\n",
       "      <td>462</td>\n",
       "      <td>182537.777778</td>\n",
       "      <td>0</td>\n",
       "      <td>NaN</td>\n",
       "      <td>39</td>\n",
       "      <td>88521.744758</td>\n",
       "      <td>209776.336634</td>\n",
       "      <td>595000.0</td>\n",
       "      <td>3099</td>\n",
       "      <td>2389.160203</td>\n",
       "    </tr>\n",
       "    <tr>\n",
       "      <th>1118825</th>\n",
       "      <td>4658</td>\n",
       "      <td>324</td>\n",
       "      <td>133.4600</td>\n",
       "      <td>14</td>\n",
       "      <td>1984</td>\n",
       "      <td>462</td>\n",
       "      <td>182537.777778</td>\n",
       "      <td>0</td>\n",
       "      <td>NaN</td>\n",
       "      <td>39</td>\n",
       "      <td>88521.744758</td>\n",
       "      <td>209776.336634</td>\n",
       "      <td>595000.0</td>\n",
       "      <td>3112</td>\n",
       "      <td>2389.160203</td>\n",
       "    </tr>\n",
       "    <tr>\n",
       "      <th>1118826</th>\n",
       "      <td>4658</td>\n",
       "      <td>324</td>\n",
       "      <td>104.4300</td>\n",
       "      <td>6</td>\n",
       "      <td>1984</td>\n",
       "      <td>462</td>\n",
       "      <td>182537.777778</td>\n",
       "      <td>0</td>\n",
       "      <td>NaN</td>\n",
       "      <td>39</td>\n",
       "      <td>88521.744758</td>\n",
       "      <td>209776.336634</td>\n",
       "      <td>595000.0</td>\n",
       "      <td>3120</td>\n",
       "      <td>2389.160203</td>\n",
       "    </tr>\n",
       "    <tr>\n",
       "      <th>...</th>\n",
       "      <td>...</td>\n",
       "      <td>...</td>\n",
       "      <td>...</td>\n",
       "      <td>...</td>\n",
       "      <td>...</td>\n",
       "      <td>...</td>\n",
       "      <td>...</td>\n",
       "      <td>...</td>\n",
       "      <td>...</td>\n",
       "      <td>...</td>\n",
       "      <td>...</td>\n",
       "      <td>...</td>\n",
       "      <td>...</td>\n",
       "      <td>...</td>\n",
       "      <td>...</td>\n",
       "    </tr>\n",
       "    <tr>\n",
       "      <th>1128089</th>\n",
       "      <td>5716</td>\n",
       "      <td>3617</td>\n",
       "      <td>84.6500</td>\n",
       "      <td>13</td>\n",
       "      <td>2014</td>\n",
       "      <td>5423</td>\n",
       "      <td>39021.326676</td>\n",
       "      <td>21</td>\n",
       "      <td>NaN</td>\n",
       "      <td>9</td>\n",
       "      <td>22509.608301</td>\n",
       "      <td>41454.276316</td>\n",
       "      <td>208000.0</td>\n",
       "      <td>3090</td>\n",
       "      <td>813.487385</td>\n",
       "    </tr>\n",
       "    <tr>\n",
       "      <th>1128090</th>\n",
       "      <td>5716</td>\n",
       "      <td>3617</td>\n",
       "      <td>84.6200</td>\n",
       "      <td>12</td>\n",
       "      <td>2014</td>\n",
       "      <td>5423</td>\n",
       "      <td>39021.326676</td>\n",
       "      <td>21</td>\n",
       "      <td>NaN</td>\n",
       "      <td>9</td>\n",
       "      <td>22509.608301</td>\n",
       "      <td>41454.276316</td>\n",
       "      <td>208000.0</td>\n",
       "      <td>3096</td>\n",
       "      <td>813.487385</td>\n",
       "    </tr>\n",
       "    <tr>\n",
       "      <th>1128091</th>\n",
       "      <td>5716</td>\n",
       "      <td>3617</td>\n",
       "      <td>101.6500</td>\n",
       "      <td>12</td>\n",
       "      <td>2014</td>\n",
       "      <td>5423</td>\n",
       "      <td>39021.326676</td>\n",
       "      <td>21</td>\n",
       "      <td>NaN</td>\n",
       "      <td>9</td>\n",
       "      <td>22509.608301</td>\n",
       "      <td>41454.276316</td>\n",
       "      <td>208000.0</td>\n",
       "      <td>3129</td>\n",
       "      <td>813.487385</td>\n",
       "    </tr>\n",
       "    <tr>\n",
       "      <th>1128092</th>\n",
       "      <td>5716</td>\n",
       "      <td>3617</td>\n",
       "      <td>84.9400</td>\n",
       "      <td>18</td>\n",
       "      <td>2014</td>\n",
       "      <td>5423</td>\n",
       "      <td>39021.326676</td>\n",
       "      <td>21</td>\n",
       "      <td>NaN</td>\n",
       "      <td>9</td>\n",
       "      <td>22509.608301</td>\n",
       "      <td>41454.276316</td>\n",
       "      <td>208000.0</td>\n",
       "      <td>3135</td>\n",
       "      <td>813.487385</td>\n",
       "    </tr>\n",
       "    <tr>\n",
       "      <th>1128093</th>\n",
       "      <td>5716</td>\n",
       "      <td>3617</td>\n",
       "      <td>84.6500</td>\n",
       "      <td>13</td>\n",
       "      <td>2014</td>\n",
       "      <td>5423</td>\n",
       "      <td>39021.326676</td>\n",
       "      <td>21</td>\n",
       "      <td>NaN</td>\n",
       "      <td>9</td>\n",
       "      <td>22509.608301</td>\n",
       "      <td>41454.276316</td>\n",
       "      <td>208000.0</td>\n",
       "      <td>3137</td>\n",
       "      <td>813.487385</td>\n",
       "    </tr>\n",
       "  </tbody>\n",
       "</table>\n",
       "<p>9272 rows × 15 columns</p>\n",
       "</div>"
      ],
      "text/plain": [
       "           번지  아파트명   전용면적(㎡)   층  건축년도   도로명         평균공시가격  구_encoded  \\\n",
       "1118822  4682   319   79.9700   5  1987  6025  120960.000000          0   \n",
       "1118823  4657   320  108.2017  10  2021   464  155775.000000          0   \n",
       "1118824  4658   324  161.0000  15  1984   462  182537.777778          0   \n",
       "1118825  4658   324  133.4600  14  1984   462  182537.777778          0   \n",
       "1118826  4658   324  104.4300   6  1984   462  182537.777778          0   \n",
       "...       ...   ...       ...  ..   ...   ...            ...        ...   \n",
       "1128089  5716  3617   84.6500  13  2014  5423   39021.326676         21   \n",
       "1128090  5716  3617   84.6200  12  2014  5423   39021.326676         21   \n",
       "1128091  5716  3617  101.6500  12  2014  5423   39021.326676         21   \n",
       "1128092  5716  3617   84.9400  18  2014  5423   39021.326676         21   \n",
       "1128093  5716  3617   84.6500  13  2014  5423   39021.326676         21   \n",
       "\n",
       "         동_encoded  yrs_diff  yrs_diff와동에따른std  yrs_diff와동에따른mean  \\\n",
       "1118822        NaN        36      78047.338623      180069.893485   \n",
       "1118823        NaN         2     103660.430459      169122.259048   \n",
       "1118824        NaN        39      88521.744758      209776.336634   \n",
       "1118825        NaN        39      88521.744758      209776.336634   \n",
       "1118826        NaN        39      88521.744758      209776.336634   \n",
       "...            ...       ...               ...                ...   \n",
       "1128089        NaN         9      22509.608301       41454.276316   \n",
       "1128090        NaN         9      22509.608301       41454.276316   \n",
       "1128091        NaN         9      22509.608301       41454.276316   \n",
       "1128092        NaN         9      22509.608301       41454.276316   \n",
       "1128093        NaN         9      22509.608301       41454.276316   \n",
       "\n",
       "         yrs_diff와동에따른max  date  price_per_area  \n",
       "1118822          540000.0  3097     2701.012880  \n",
       "1118823         1450000.0  3117     2268.293789  \n",
       "1118824          595000.0  3099     2389.160203  \n",
       "1118825          595000.0  3112     2389.160203  \n",
       "1118826          595000.0  3120     2389.160203  \n",
       "...                   ...   ...             ...  \n",
       "1128089          208000.0  3090      813.487385  \n",
       "1128090          208000.0  3096      813.487385  \n",
       "1128091          208000.0  3129      813.487385  \n",
       "1128092          208000.0  3135      813.487385  \n",
       "1128093          208000.0  3137      813.487385  \n",
       "\n",
       "[9272 rows x 15 columns]"
      ]
     },
     "execution_count": 82,
     "metadata": {},
     "output_type": "execute_result"
    }
   ],
   "source": [
    "X_test = df_test.drop(['target'], axis=1)\n",
    "# X_test = X_test.drop(columns='Close_delay120d')\n",
    "# X_test = X_test.drop(columns='계약년월')\n",
    "\n",
    "X_test"
   ]
  },
  {
   "cell_type": "code",
   "execution_count": 83,
   "metadata": {},
   "outputs": [],
   "source": [
    "X_test0 = X_test[(X_test['전용면적(㎡)']<60)]\n",
    "X_test60 = X_test[(X_test['전용면적(㎡)']>=60)&(X_test['전용면적(㎡)']<135)]\n",
    "X_test135 = X_test[(X_test['전용면적(㎡)']>=135)]"
   ]
  },
  {
   "cell_type": "code",
   "execution_count": 85,
   "metadata": {},
   "outputs": [
    {
     "data": {
      "text/plain": [
       "Index(['번지', '아파트명', '전용면적(㎡)', '층', '건축년도', '도로명', '평균공시가격', '구_encoded',\n",
       "       '동_encoded', 'yrs_diff', 'yrs_diff와동에따른std', 'yrs_diff와동에따른mean',\n",
       "       'yrs_diff와동에따른max', 'price_per_area'],\n",
       "      dtype='object')"
      ]
     },
     "execution_count": 85,
     "metadata": {},
     "output_type": "execute_result"
    }
   ],
   "source": [
    "X_train135.columns"
   ]
  },
  {
   "cell_type": "code",
   "execution_count": 86,
   "metadata": {},
   "outputs": [
    {
     "data": {
      "text/plain": [
       "Index(['번지', '아파트명', '전용면적(㎡)', '층', '건축년도', '도로명', '평균공시가격', '구_encoded',\n",
       "       '동_encoded', 'yrs_diff', 'yrs_diff와동에따른std', 'yrs_diff와동에따른mean',\n",
       "       'yrs_diff와동에따른max', 'date', 'price_per_area'],\n",
       "      dtype='object')"
      ]
     },
     "execution_count": 86,
     "metadata": {},
     "output_type": "execute_result"
    }
   ],
   "source": [
    "X_test135.columns"
   ]
  },
  {
   "cell_type": "code",
   "execution_count": 87,
   "metadata": {},
   "outputs": [],
   "source": [
    "X_test135.drop(['date'], axis=1, inplace=True)"
   ]
  },
  {
   "cell_type": "code",
   "execution_count": 88,
   "metadata": {},
   "outputs": [],
   "source": [
    "real_test_pred0 = gbm0.predict(X_test0)\n",
    "real_test_pred60 = gbm60.predict(X_test60)\n",
    "real_test_pred135 = gbm135.predict(X_test135)\n"
   ]
  },
  {
   "cell_type": "code",
   "execution_count": 89,
   "metadata": {},
   "outputs": [],
   "source": [
    "X_test0['target'] = real_test_pred0\n",
    "X_test60['target'] = real_test_pred60\n",
    "X_test135['target'] = real_test_pred135\n"
   ]
  },
  {
   "cell_type": "code",
   "execution_count": 90,
   "metadata": {},
   "outputs": [
    {
     "data": {
      "text/html": [
       "<div>\n",
       "<style scoped>\n",
       "    .dataframe tbody tr th:only-of-type {\n",
       "        vertical-align: middle;\n",
       "    }\n",
       "\n",
       "    .dataframe tbody tr th {\n",
       "        vertical-align: top;\n",
       "    }\n",
       "\n",
       "    .dataframe thead th {\n",
       "        text-align: right;\n",
       "    }\n",
       "</style>\n",
       "<table border=\"1\" class=\"dataframe\">\n",
       "  <thead>\n",
       "    <tr style=\"text-align: right;\">\n",
       "      <th></th>\n",
       "      <th>번지</th>\n",
       "      <th>아파트명</th>\n",
       "      <th>전용면적(㎡)</th>\n",
       "      <th>층</th>\n",
       "      <th>건축년도</th>\n",
       "      <th>도로명</th>\n",
       "      <th>평균공시가격</th>\n",
       "      <th>구_encoded</th>\n",
       "      <th>동_encoded</th>\n",
       "      <th>yrs_diff</th>\n",
       "      <th>yrs_diff와동에따른std</th>\n",
       "      <th>yrs_diff와동에따른mean</th>\n",
       "      <th>yrs_diff와동에따른max</th>\n",
       "      <th>date</th>\n",
       "      <th>price_per_area</th>\n",
       "      <th>target</th>\n",
       "    </tr>\n",
       "  </thead>\n",
       "  <tbody>\n",
       "    <tr>\n",
       "      <th>1118822</th>\n",
       "      <td>4682</td>\n",
       "      <td>319</td>\n",
       "      <td>79.9700</td>\n",
       "      <td>5</td>\n",
       "      <td>1987</td>\n",
       "      <td>6025</td>\n",
       "      <td>120960.000000</td>\n",
       "      <td>0</td>\n",
       "      <td>NaN</td>\n",
       "      <td>36</td>\n",
       "      <td>78047.338623</td>\n",
       "      <td>180069.893485</td>\n",
       "      <td>540000.0</td>\n",
       "      <td>3097.0</td>\n",
       "      <td>2701.012880</td>\n",
       "      <td>217429.595113</td>\n",
       "    </tr>\n",
       "    <tr>\n",
       "      <th>1118823</th>\n",
       "      <td>4657</td>\n",
       "      <td>320</td>\n",
       "      <td>108.2017</td>\n",
       "      <td>10</td>\n",
       "      <td>2021</td>\n",
       "      <td>464</td>\n",
       "      <td>155775.000000</td>\n",
       "      <td>0</td>\n",
       "      <td>NaN</td>\n",
       "      <td>2</td>\n",
       "      <td>103660.430459</td>\n",
       "      <td>169122.259048</td>\n",
       "      <td>1450000.0</td>\n",
       "      <td>3117.0</td>\n",
       "      <td>2268.293789</td>\n",
       "      <td>259467.499161</td>\n",
       "    </tr>\n",
       "    <tr>\n",
       "      <th>1118824</th>\n",
       "      <td>4658</td>\n",
       "      <td>324</td>\n",
       "      <td>161.0000</td>\n",
       "      <td>15</td>\n",
       "      <td>1984</td>\n",
       "      <td>462</td>\n",
       "      <td>182537.777778</td>\n",
       "      <td>0</td>\n",
       "      <td>NaN</td>\n",
       "      <td>39</td>\n",
       "      <td>88521.744758</td>\n",
       "      <td>209776.336634</td>\n",
       "      <td>595000.0</td>\n",
       "      <td>NaN</td>\n",
       "      <td>2389.160203</td>\n",
       "      <td>353800.340815</td>\n",
       "    </tr>\n",
       "    <tr>\n",
       "      <th>1118825</th>\n",
       "      <td>4658</td>\n",
       "      <td>324</td>\n",
       "      <td>133.4600</td>\n",
       "      <td>14</td>\n",
       "      <td>1984</td>\n",
       "      <td>462</td>\n",
       "      <td>182537.777778</td>\n",
       "      <td>0</td>\n",
       "      <td>NaN</td>\n",
       "      <td>39</td>\n",
       "      <td>88521.744758</td>\n",
       "      <td>209776.336634</td>\n",
       "      <td>595000.0</td>\n",
       "      <td>3112.0</td>\n",
       "      <td>2389.160203</td>\n",
       "      <td>323993.633157</td>\n",
       "    </tr>\n",
       "    <tr>\n",
       "      <th>1118826</th>\n",
       "      <td>4658</td>\n",
       "      <td>324</td>\n",
       "      <td>104.4300</td>\n",
       "      <td>6</td>\n",
       "      <td>1984</td>\n",
       "      <td>462</td>\n",
       "      <td>182537.777778</td>\n",
       "      <td>0</td>\n",
       "      <td>NaN</td>\n",
       "      <td>39</td>\n",
       "      <td>88521.744758</td>\n",
       "      <td>209776.336634</td>\n",
       "      <td>595000.0</td>\n",
       "      <td>3120.0</td>\n",
       "      <td>2389.160203</td>\n",
       "      <td>243487.148035</td>\n",
       "    </tr>\n",
       "    <tr>\n",
       "      <th>...</th>\n",
       "      <td>...</td>\n",
       "      <td>...</td>\n",
       "      <td>...</td>\n",
       "      <td>...</td>\n",
       "      <td>...</td>\n",
       "      <td>...</td>\n",
       "      <td>...</td>\n",
       "      <td>...</td>\n",
       "      <td>...</td>\n",
       "      <td>...</td>\n",
       "      <td>...</td>\n",
       "      <td>...</td>\n",
       "      <td>...</td>\n",
       "      <td>...</td>\n",
       "      <td>...</td>\n",
       "      <td>...</td>\n",
       "    </tr>\n",
       "    <tr>\n",
       "      <th>1128089</th>\n",
       "      <td>5716</td>\n",
       "      <td>3617</td>\n",
       "      <td>84.6500</td>\n",
       "      <td>13</td>\n",
       "      <td>2014</td>\n",
       "      <td>5423</td>\n",
       "      <td>39021.326676</td>\n",
       "      <td>21</td>\n",
       "      <td>NaN</td>\n",
       "      <td>9</td>\n",
       "      <td>22509.608301</td>\n",
       "      <td>41454.276316</td>\n",
       "      <td>208000.0</td>\n",
       "      <td>3090.0</td>\n",
       "      <td>813.487385</td>\n",
       "      <td>72252.967454</td>\n",
       "    </tr>\n",
       "    <tr>\n",
       "      <th>1128090</th>\n",
       "      <td>5716</td>\n",
       "      <td>3617</td>\n",
       "      <td>84.6200</td>\n",
       "      <td>12</td>\n",
       "      <td>2014</td>\n",
       "      <td>5423</td>\n",
       "      <td>39021.326676</td>\n",
       "      <td>21</td>\n",
       "      <td>NaN</td>\n",
       "      <td>9</td>\n",
       "      <td>22509.608301</td>\n",
       "      <td>41454.276316</td>\n",
       "      <td>208000.0</td>\n",
       "      <td>3096.0</td>\n",
       "      <td>813.487385</td>\n",
       "      <td>72402.266820</td>\n",
       "    </tr>\n",
       "    <tr>\n",
       "      <th>1128091</th>\n",
       "      <td>5716</td>\n",
       "      <td>3617</td>\n",
       "      <td>101.6500</td>\n",
       "      <td>12</td>\n",
       "      <td>2014</td>\n",
       "      <td>5423</td>\n",
       "      <td>39021.326676</td>\n",
       "      <td>21</td>\n",
       "      <td>NaN</td>\n",
       "      <td>9</td>\n",
       "      <td>22509.608301</td>\n",
       "      <td>41454.276316</td>\n",
       "      <td>208000.0</td>\n",
       "      <td>3129.0</td>\n",
       "      <td>813.487385</td>\n",
       "      <td>84624.245425</td>\n",
       "    </tr>\n",
       "    <tr>\n",
       "      <th>1128092</th>\n",
       "      <td>5716</td>\n",
       "      <td>3617</td>\n",
       "      <td>84.9400</td>\n",
       "      <td>18</td>\n",
       "      <td>2014</td>\n",
       "      <td>5423</td>\n",
       "      <td>39021.326676</td>\n",
       "      <td>21</td>\n",
       "      <td>NaN</td>\n",
       "      <td>9</td>\n",
       "      <td>22509.608301</td>\n",
       "      <td>41454.276316</td>\n",
       "      <td>208000.0</td>\n",
       "      <td>3135.0</td>\n",
       "      <td>813.487385</td>\n",
       "      <td>72009.096827</td>\n",
       "    </tr>\n",
       "    <tr>\n",
       "      <th>1128093</th>\n",
       "      <td>5716</td>\n",
       "      <td>3617</td>\n",
       "      <td>84.6500</td>\n",
       "      <td>13</td>\n",
       "      <td>2014</td>\n",
       "      <td>5423</td>\n",
       "      <td>39021.326676</td>\n",
       "      <td>21</td>\n",
       "      <td>NaN</td>\n",
       "      <td>9</td>\n",
       "      <td>22509.608301</td>\n",
       "      <td>41454.276316</td>\n",
       "      <td>208000.0</td>\n",
       "      <td>3137.0</td>\n",
       "      <td>813.487385</td>\n",
       "      <td>72252.967454</td>\n",
       "    </tr>\n",
       "  </tbody>\n",
       "</table>\n",
       "<p>9272 rows × 16 columns</p>\n",
       "</div>"
      ],
      "text/plain": [
       "           번지  아파트명   전용면적(㎡)   층  건축년도   도로명         평균공시가격  구_encoded  \\\n",
       "1118822  4682   319   79.9700   5  1987  6025  120960.000000          0   \n",
       "1118823  4657   320  108.2017  10  2021   464  155775.000000          0   \n",
       "1118824  4658   324  161.0000  15  1984   462  182537.777778          0   \n",
       "1118825  4658   324  133.4600  14  1984   462  182537.777778          0   \n",
       "1118826  4658   324  104.4300   6  1984   462  182537.777778          0   \n",
       "...       ...   ...       ...  ..   ...   ...            ...        ...   \n",
       "1128089  5716  3617   84.6500  13  2014  5423   39021.326676         21   \n",
       "1128090  5716  3617   84.6200  12  2014  5423   39021.326676         21   \n",
       "1128091  5716  3617  101.6500  12  2014  5423   39021.326676         21   \n",
       "1128092  5716  3617   84.9400  18  2014  5423   39021.326676         21   \n",
       "1128093  5716  3617   84.6500  13  2014  5423   39021.326676         21   \n",
       "\n",
       "         동_encoded  yrs_diff  yrs_diff와동에따른std  yrs_diff와동에따른mean  \\\n",
       "1118822        NaN        36      78047.338623      180069.893485   \n",
       "1118823        NaN         2     103660.430459      169122.259048   \n",
       "1118824        NaN        39      88521.744758      209776.336634   \n",
       "1118825        NaN        39      88521.744758      209776.336634   \n",
       "1118826        NaN        39      88521.744758      209776.336634   \n",
       "...            ...       ...               ...                ...   \n",
       "1128089        NaN         9      22509.608301       41454.276316   \n",
       "1128090        NaN         9      22509.608301       41454.276316   \n",
       "1128091        NaN         9      22509.608301       41454.276316   \n",
       "1128092        NaN         9      22509.608301       41454.276316   \n",
       "1128093        NaN         9      22509.608301       41454.276316   \n",
       "\n",
       "         yrs_diff와동에따른max    date  price_per_area         target  \n",
       "1118822          540000.0  3097.0     2701.012880  217429.595113  \n",
       "1118823         1450000.0  3117.0     2268.293789  259467.499161  \n",
       "1118824          595000.0     NaN     2389.160203  353800.340815  \n",
       "1118825          595000.0  3112.0     2389.160203  323993.633157  \n",
       "1118826          595000.0  3120.0     2389.160203  243487.148035  \n",
       "...                   ...     ...             ...            ...  \n",
       "1128089          208000.0  3090.0      813.487385   72252.967454  \n",
       "1128090          208000.0  3096.0      813.487385   72402.266820  \n",
       "1128091          208000.0  3129.0      813.487385   84624.245425  \n",
       "1128092          208000.0  3135.0      813.487385   72009.096827  \n",
       "1128093          208000.0  3137.0      813.487385   72252.967454  \n",
       "\n",
       "[9272 rows x 16 columns]"
      ]
     },
     "execution_count": 90,
     "metadata": {},
     "output_type": "execute_result"
    }
   ],
   "source": [
    "# concat\n",
    "\n",
    "concat_test = pd.concat([X_test0, X_test60, X_test135], axis=0)\n",
    "concat_test = concat_test.sort_index()\n",
    "concat_test\n"
   ]
  },
  {
   "cell_type": "code",
   "execution_count": 91,
   "metadata": {},
   "outputs": [],
   "source": [
    "\n",
    "# X_test에서 target만 분리.\n",
    "\n",
    "ttt = concat_test.loc[:,'target']\n",
    "ttt = pd.DataFrame(ttt)\n",
    "\n",
    "ttt= ttt.reset_index()\n",
    "\n",
    "preds_df= ttt.drop(columns='index')\n",
    "preds_df= ttt.drop(columns='index')\n",
    "\n",
    "preds_df2 = pd.DataFrame(preds_df['target'].astype(int), columns=[\"target\"])\n",
    "preds_df2\n",
    "\n",
    "preds_df2.to_csv('gu-dong-encoded_0401_9am_yoon.csv', index=False)\n",
    "\n"
   ]
  },
  {
   "cell_type": "code",
   "execution_count": 92,
   "metadata": {},
   "outputs": [
    {
     "data": {
      "image/png": "[encoded data removed]",
      "text/plain": [
       "<Figure size 1000x800 with 1 Axes>"
      ]
     },
     "metadata": {},
     "output_type": "display_data"
    }
   ],
   "source": [
    "# 위 feature importance를 시각화해봅니다.\n",
    "importances = pd.Series(gbm0.feature_importances_, index=list(X_train0.columns))\n",
    "importances = importances.sort_values(ascending=False)\n",
    "\n",
    "plt.figure(figsize=(10,8))\n",
    "plt.title(\"Feature Importances\")\n",
    "sns.barplot(x=importances, y=importances.index)\n",
    "plt.show()"
   ]
  },
  {
   "cell_type": "code",
   "execution_count": 93,
   "metadata": {},
   "outputs": [
    {
     "data": {
      "image/png": "[encoded data removed]",
      "text/plain": [
       "<Figure size 1000x800 with 1 Axes>"
      ]
     },
     "metadata": {},
     "output_type": "display_data"
    }
   ],
   "source": [
    "# 위 feature importance를 시각화해봅니다.\n",
    "importances = pd.Series(gbm60.feature_importances_, index=list(X_train60.columns))\n",
    "importances = importances.sort_values(ascending=False)\n",
    "\n",
    "plt.figure(figsize=(10,8))\n",
    "plt.title(\"Feature Importances\")\n",
    "sns.barplot(x=importances, y=importances.index)\n",
    "plt.show()"
   ]
  },
  {
   "cell_type": "code",
   "execution_count": 94,
   "metadata": {},
   "outputs": [
    {
     "data": {
      "image/png": "[encoded data removed]",
      "text/plain": [
       "<Figure size 1000x800 with 1 Axes>"
      ]
     },
     "metadata": {},
     "output_type": "display_data"
    }
   ],
   "source": [
    "# 위 feature importance를 시각화해봅니다.\n",
    "importances = pd.Series(gbm135.feature_importances_, index=list(X_train135.columns))\n",
    "importances = importances.sort_values(ascending=False)\n",
    "\n",
    "plt.figure(figsize=(10,8))\n",
    "plt.title(\"Feature Importances\")\n",
    "sns.barplot(x=importances, y=importances.index)\n",
    "plt.show()"
   ]
  },
  {
   "cell_type": "code",
   "execution_count": 95,
   "metadata": {},
   "outputs": [
    {
     "data": {
      "text/html": [
       "\n",
       "    <style>\n",
       "    table.eli5-weights tr:hover {\n",
       "        filter: brightness(85%);\n",
       "    }\n",
       "</style>\n",
       "\n",
       "\n",
       "\n",
       "    \n",
       "\n",
       "    \n",
       "\n",
       "    \n",
       "\n",
       "    \n",
       "\n",
       "    \n",
       "\n",
       "    \n",
       "\n",
       "\n",
       "    \n",
       "\n",
       "    \n",
       "\n",
       "    \n",
       "\n",
       "    \n",
       "\n",
       "    \n",
       "\n",
       "    \n",
       "\n",
       "\n",
       "    \n",
       "\n",
       "    \n",
       "\n",
       "    \n",
       "\n",
       "    \n",
       "\n",
       "    \n",
       "        <table class=\"eli5-weights eli5-feature-importances\" style=\"border-collapse: collapse; border: none; margin-top: 0em; table-layout: auto;\">\n",
       "    <thead>\n",
       "    <tr style=\"border: none;\">\n",
       "        <th style=\"padding: 0 1em 0 0.5em; text-align: right; border: none;\">Weight</th>\n",
       "        <th style=\"padding: 0 0.5em 0 0.5em; text-align: left; border: none;\">Feature</th>\n",
       "    </tr>\n",
       "    </thead>\n",
       "    <tbody>\n",
       "    \n",
       "        <tr style=\"background-color: hsl(120, 100.00%, 80.00%); border: none;\">\n",
       "            <td style=\"padding: 0 1em 0 0.5em; text-align: right; border: none;\">\n",
       "                995534984.3851\n",
       "                \n",
       "                    &plusmn; 8775977.6511\n",
       "                \n",
       "            </td>\n",
       "            <td style=\"padding: 0 0.5em 0 0.5em; text-align: left; border: none;\">\n",
       "                price_per_area\n",
       "            </td>\n",
       "        </tr>\n",
       "    \n",
       "        <tr style=\"background-color: hsl(120, 100.00%, 92.23%); border: none;\">\n",
       "            <td style=\"padding: 0 1em 0 0.5em; text-align: right; border: none;\">\n",
       "                257944264.2015\n",
       "                \n",
       "                    &plusmn; 3818409.2239\n",
       "                \n",
       "            </td>\n",
       "            <td style=\"padding: 0 0.5em 0 0.5em; text-align: left; border: none;\">\n",
       "                전용면적(㎡)\n",
       "            </td>\n",
       "        </tr>\n",
       "    \n",
       "        <tr style=\"background-color: hsl(120, 100.00%, 98.72%); border: none;\">\n",
       "            <td style=\"padding: 0 1em 0 0.5em; text-align: right; border: none;\">\n",
       "                19653811.4643\n",
       "                \n",
       "                    &plusmn; 428237.4157\n",
       "                \n",
       "            </td>\n",
       "            <td style=\"padding: 0 0.5em 0 0.5em; text-align: left; border: none;\">\n",
       "                date\n",
       "            </td>\n",
       "        </tr>\n",
       "    \n",
       "        <tr style=\"background-color: hsl(120, 100.00%, 99.14%); border: none;\">\n",
       "            <td style=\"padding: 0 1em 0 0.5em; text-align: right; border: none;\">\n",
       "                11075521.0336\n",
       "                \n",
       "                    &plusmn; 50872.1029\n",
       "                \n",
       "            </td>\n",
       "            <td style=\"padding: 0 0.5em 0 0.5em; text-align: left; border: none;\">\n",
       "                평균공시가격\n",
       "            </td>\n",
       "        </tr>\n",
       "    \n",
       "        <tr style=\"background-color: hsl(120, 100.00%, 99.54%); border: none;\">\n",
       "            <td style=\"padding: 0 1em 0 0.5em; text-align: right; border: none;\">\n",
       "                4607130.5740\n",
       "                \n",
       "                    &plusmn; 37649.4347\n",
       "                \n",
       "            </td>\n",
       "            <td style=\"padding: 0 0.5em 0 0.5em; text-align: left; border: none;\">\n",
       "                구_encoded\n",
       "            </td>\n",
       "        </tr>\n",
       "    \n",
       "        <tr style=\"background-color: hsl(120, 100.00%, 99.68%); border: none;\">\n",
       "            <td style=\"padding: 0 1em 0 0.5em; text-align: right; border: none;\">\n",
       "                2671217.6642\n",
       "                \n",
       "                    &plusmn; 83879.4682\n",
       "                \n",
       "            </td>\n",
       "            <td style=\"padding: 0 0.5em 0 0.5em; text-align: left; border: none;\">\n",
       "                yrs_diff와동에따른mean\n",
       "            </td>\n",
       "        </tr>\n",
       "    \n",
       "        <tr style=\"background-color: hsl(120, 100.00%, 99.74%); border: none;\">\n",
       "            <td style=\"padding: 0 1em 0 0.5em; text-align: right; border: none;\">\n",
       "                2056029.3850\n",
       "                \n",
       "                    &plusmn; 83220.1738\n",
       "                \n",
       "            </td>\n",
       "            <td style=\"padding: 0 0.5em 0 0.5em; text-align: left; border: none;\">\n",
       "                건축년도\n",
       "            </td>\n",
       "        </tr>\n",
       "    \n",
       "        <tr style=\"background-color: hsl(120, 100.00%, 99.78%); border: none;\">\n",
       "            <td style=\"padding: 0 1em 0 0.5em; text-align: right; border: none;\">\n",
       "                1606176.0567\n",
       "                \n",
       "                    &plusmn; 65523.6985\n",
       "                \n",
       "            </td>\n",
       "            <td style=\"padding: 0 0.5em 0 0.5em; text-align: left; border: none;\">\n",
       "                yrs_diff\n",
       "            </td>\n",
       "        </tr>\n",
       "    \n",
       "        <tr style=\"background-color: hsl(120, 100.00%, 99.80%); border: none;\">\n",
       "            <td style=\"padding: 0 1em 0 0.5em; text-align: right; border: none;\">\n",
       "                1362059.1717\n",
       "                \n",
       "                    &plusmn; 86638.1617\n",
       "                \n",
       "            </td>\n",
       "            <td style=\"padding: 0 0.5em 0 0.5em; text-align: left; border: none;\">\n",
       "                yrs_diff와동에따른max\n",
       "            </td>\n",
       "        </tr>\n",
       "    \n",
       "        <tr style=\"background-color: hsl(120, 100.00%, 99.82%); border: none;\">\n",
       "            <td style=\"padding: 0 1em 0 0.5em; text-align: right; border: none;\">\n",
       "                1212079.0858\n",
       "                \n",
       "                    &plusmn; 34332.4334\n",
       "                \n",
       "            </td>\n",
       "            <td style=\"padding: 0 0.5em 0 0.5em; text-align: left; border: none;\">\n",
       "                번지\n",
       "            </td>\n",
       "        </tr>\n",
       "    \n",
       "        <tr style=\"background-color: hsl(120, 100.00%, 99.82%); border: none;\">\n",
       "            <td style=\"padding: 0 1em 0 0.5em; text-align: right; border: none;\">\n",
       "                1148749.7027\n",
       "                \n",
       "                    &plusmn; 46823.4420\n",
       "                \n",
       "            </td>\n",
       "            <td style=\"padding: 0 0.5em 0 0.5em; text-align: left; border: none;\">\n",
       "                아파트명\n",
       "            </td>\n",
       "        </tr>\n",
       "    \n",
       "        <tr style=\"background-color: hsl(120, 100.00%, 99.83%); border: none;\">\n",
       "            <td style=\"padding: 0 1em 0 0.5em; text-align: right; border: none;\">\n",
       "                1052721.3243\n",
       "                \n",
       "                    &plusmn; 56565.0018\n",
       "                \n",
       "            </td>\n",
       "            <td style=\"padding: 0 0.5em 0 0.5em; text-align: left; border: none;\">\n",
       "                도로명\n",
       "            </td>\n",
       "        </tr>\n",
       "    \n",
       "        <tr style=\"background-color: hsl(120, 100.00%, 99.86%); border: none;\">\n",
       "            <td style=\"padding: 0 1em 0 0.5em; text-align: right; border: none;\">\n",
       "                855994.1508\n",
       "                \n",
       "                    &plusmn; 75984.6109\n",
       "                \n",
       "            </td>\n",
       "            <td style=\"padding: 0 0.5em 0 0.5em; text-align: left; border: none;\">\n",
       "                동_encoded\n",
       "            </td>\n",
       "        </tr>\n",
       "    \n",
       "        <tr style=\"background-color: hsl(120, 100.00%, 99.90%); border: none;\">\n",
       "            <td style=\"padding: 0 1em 0 0.5em; text-align: right; border: none;\">\n",
       "                488513.8118\n",
       "                \n",
       "                    &plusmn; 2578.2673\n",
       "                \n",
       "            </td>\n",
       "            <td style=\"padding: 0 0.5em 0 0.5em; text-align: left; border: none;\">\n",
       "                yrs_diff와동에따른std\n",
       "            </td>\n",
       "        </tr>\n",
       "    \n",
       "        <tr style=\"background-color: hsl(120, 100.00%, 99.96%); border: none;\">\n",
       "            <td style=\"padding: 0 1em 0 0.5em; text-align: right; border: none;\">\n",
       "                143166.3427\n",
       "                \n",
       "                    &plusmn; 35105.2626\n",
       "                \n",
       "            </td>\n",
       "            <td style=\"padding: 0 0.5em 0 0.5em; text-align: left; border: none;\">\n",
       "                층\n",
       "            </td>\n",
       "        </tr>\n",
       "    \n",
       "    \n",
       "    </tbody>\n",
       "</table>\n",
       "    \n",
       "\n",
       "    \n",
       "\n",
       "\n",
       "    \n",
       "\n",
       "    \n",
       "\n",
       "    \n",
       "\n",
       "    \n",
       "\n",
       "    \n",
       "\n",
       "    \n",
       "\n",
       "\n",
       "\n"
      ],
      "text/plain": [
       "<IPython.core.display.HTML object>"
      ]
     },
     "execution_count": 95,
     "metadata": {},
     "output_type": "execute_result"
    }
   ],
   "source": [
    "# Permutation importance 방법을 변수 선택에 이용해보겠습니다.\n",
    "perm = PermutationImportance(gbm0,        # 위에서 학습된 모델을 이용하겠습니다.\n",
    "                             scoring = \"neg_mean_squared_error\",        # 평가 지표로는 회귀문제이기에 negative rmse를 사용합니다. (neg_mean_squared_error : 음의 평균 제곱 오차)\n",
    "                             random_state = 42,\n",
    "                             n_iter=3).fit(X_val0, y_val0)\n",
    "eli5.show_weights(perm, feature_names = X_val0.columns.tolist())    # valid data에 대해 적합시킵니다."
   ]
  },
  {
   "cell_type": "code",
   "execution_count": 96,
   "metadata": {},
   "outputs": [
    {
     "data": {
      "text/html": [
       "\n",
       "    <style>\n",
       "    table.eli5-weights tr:hover {\n",
       "        filter: brightness(85%);\n",
       "    }\n",
       "</style>\n",
       "\n",
       "\n",
       "\n",
       "    \n",
       "\n",
       "    \n",
       "\n",
       "    \n",
       "\n",
       "    \n",
       "\n",
       "    \n",
       "\n",
       "    \n",
       "\n",
       "\n",
       "    \n",
       "\n",
       "    \n",
       "\n",
       "    \n",
       "\n",
       "    \n",
       "\n",
       "    \n",
       "\n",
       "    \n",
       "\n",
       "\n",
       "    \n",
       "\n",
       "    \n",
       "\n",
       "    \n",
       "\n",
       "    \n",
       "\n",
       "    \n",
       "        <table class=\"eli5-weights eli5-feature-importances\" style=\"border-collapse: collapse; border: none; margin-top: 0em; table-layout: auto;\">\n",
       "    <thead>\n",
       "    <tr style=\"border: none;\">\n",
       "        <th style=\"padding: 0 1em 0 0.5em; text-align: right; border: none;\">Weight</th>\n",
       "        <th style=\"padding: 0 0.5em 0 0.5em; text-align: left; border: none;\">Feature</th>\n",
       "    </tr>\n",
       "    </thead>\n",
       "    <tbody>\n",
       "    \n",
       "        <tr style=\"background-color: hsl(120, 100.00%, 80.00%); border: none;\">\n",
       "            <td style=\"padding: 0 1em 0 0.5em; text-align: right; border: none;\">\n",
       "                2951140684.3838\n",
       "                \n",
       "                    &plusmn; 27180886.8622\n",
       "                \n",
       "            </td>\n",
       "            <td style=\"padding: 0 0.5em 0 0.5em; text-align: left; border: none;\">\n",
       "                price_per_area\n",
       "            </td>\n",
       "        </tr>\n",
       "    \n",
       "        <tr style=\"background-color: hsl(120, 100.00%, 95.08%); border: none;\">\n",
       "            <td style=\"padding: 0 1em 0 0.5em; text-align: right; border: none;\">\n",
       "                398188316.4554\n",
       "                \n",
       "                    &plusmn; 8332582.3265\n",
       "                \n",
       "            </td>\n",
       "            <td style=\"padding: 0 0.5em 0 0.5em; text-align: left; border: none;\">\n",
       "                전용면적(㎡)\n",
       "            </td>\n",
       "        </tr>\n",
       "    \n",
       "        <tr style=\"background-color: hsl(120, 100.00%, 99.22%); border: none;\">\n",
       "            <td style=\"padding: 0 1em 0 0.5em; text-align: right; border: none;\">\n",
       "                28493705.9016\n",
       "                \n",
       "                    &plusmn; 807133.3069\n",
       "                \n",
       "            </td>\n",
       "            <td style=\"padding: 0 0.5em 0 0.5em; text-align: left; border: none;\">\n",
       "                date\n",
       "            </td>\n",
       "        </tr>\n",
       "    \n",
       "        <tr style=\"background-color: hsl(120, 100.00%, 99.51%); border: none;\">\n",
       "            <td style=\"padding: 0 1em 0 0.5em; text-align: right; border: none;\">\n",
       "                14906980.2203\n",
       "                \n",
       "                    &plusmn; 229989.0811\n",
       "                \n",
       "            </td>\n",
       "            <td style=\"padding: 0 0.5em 0 0.5em; text-align: left; border: none;\">\n",
       "                평균공시가격\n",
       "            </td>\n",
       "        </tr>\n",
       "    \n",
       "        <tr style=\"background-color: hsl(120, 100.00%, 99.67%); border: none;\">\n",
       "            <td style=\"padding: 0 1em 0 0.5em; text-align: right; border: none;\">\n",
       "                8422709.5635\n",
       "                \n",
       "                    &plusmn; 346473.8946\n",
       "                \n",
       "            </td>\n",
       "            <td style=\"padding: 0 0.5em 0 0.5em; text-align: left; border: none;\">\n",
       "                yrs_diff와동에따른max\n",
       "            </td>\n",
       "        </tr>\n",
       "    \n",
       "        <tr style=\"background-color: hsl(120, 100.00%, 99.70%); border: none;\">\n",
       "            <td style=\"padding: 0 1em 0 0.5em; text-align: right; border: none;\">\n",
       "                7370502.0471\n",
       "                \n",
       "                    &plusmn; 239136.4418\n",
       "                \n",
       "            </td>\n",
       "            <td style=\"padding: 0 0.5em 0 0.5em; text-align: left; border: none;\">\n",
       "                구_encoded\n",
       "            </td>\n",
       "        </tr>\n",
       "    \n",
       "        <tr style=\"background-color: hsl(120, 100.00%, 99.82%); border: none;\">\n",
       "            <td style=\"padding: 0 1em 0 0.5em; text-align: right; border: none;\">\n",
       "                3441095.9441\n",
       "                \n",
       "                    &plusmn; 104603.4291\n",
       "                \n",
       "            </td>\n",
       "            <td style=\"padding: 0 0.5em 0 0.5em; text-align: left; border: none;\">\n",
       "                yrs_diff와동에따른mean\n",
       "            </td>\n",
       "        </tr>\n",
       "    \n",
       "        <tr style=\"background-color: hsl(120, 100.00%, 99.85%); border: none;\">\n",
       "            <td style=\"padding: 0 1em 0 0.5em; text-align: right; border: none;\">\n",
       "                2791188.7407\n",
       "                \n",
       "                    &plusmn; 32556.9577\n",
       "                \n",
       "            </td>\n",
       "            <td style=\"padding: 0 0.5em 0 0.5em; text-align: left; border: none;\">\n",
       "                건축년도\n",
       "            </td>\n",
       "        </tr>\n",
       "    \n",
       "        <tr style=\"background-color: hsl(120, 100.00%, 99.89%); border: none;\">\n",
       "            <td style=\"padding: 0 1em 0 0.5em; text-align: right; border: none;\">\n",
       "                1789220.7733\n",
       "                \n",
       "                    &plusmn; 73968.3540\n",
       "                \n",
       "            </td>\n",
       "            <td style=\"padding: 0 0.5em 0 0.5em; text-align: left; border: none;\">\n",
       "                동_encoded\n",
       "            </td>\n",
       "        </tr>\n",
       "    \n",
       "        <tr style=\"background-color: hsl(120, 100.00%, 99.91%); border: none;\">\n",
       "            <td style=\"padding: 0 1em 0 0.5em; text-align: right; border: none;\">\n",
       "                1247258.7166\n",
       "                \n",
       "                    &plusmn; 48485.5784\n",
       "                \n",
       "            </td>\n",
       "            <td style=\"padding: 0 0.5em 0 0.5em; text-align: left; border: none;\">\n",
       "                yrs_diff\n",
       "            </td>\n",
       "        </tr>\n",
       "    \n",
       "        <tr style=\"background-color: hsl(120, 100.00%, 99.92%); border: none;\">\n",
       "            <td style=\"padding: 0 1em 0 0.5em; text-align: right; border: none;\">\n",
       "                1123091.6552\n",
       "                \n",
       "                    &plusmn; 25940.2378\n",
       "                \n",
       "            </td>\n",
       "            <td style=\"padding: 0 0.5em 0 0.5em; text-align: left; border: none;\">\n",
       "                yrs_diff와동에따른std\n",
       "            </td>\n",
       "        </tr>\n",
       "    \n",
       "        <tr style=\"background-color: hsl(120, 100.00%, 99.92%); border: none;\">\n",
       "            <td style=\"padding: 0 1em 0 0.5em; text-align: right; border: none;\">\n",
       "                1109827.3564\n",
       "                \n",
       "                    &plusmn; 65309.7516\n",
       "                \n",
       "            </td>\n",
       "            <td style=\"padding: 0 0.5em 0 0.5em; text-align: left; border: none;\">\n",
       "                번지\n",
       "            </td>\n",
       "        </tr>\n",
       "    \n",
       "        <tr style=\"background-color: hsl(120, 100.00%, 99.93%); border: none;\">\n",
       "            <td style=\"padding: 0 1em 0 0.5em; text-align: right; border: none;\">\n",
       "                978148.6450\n",
       "                \n",
       "                    &plusmn; 169118.3392\n",
       "                \n",
       "            </td>\n",
       "            <td style=\"padding: 0 0.5em 0 0.5em; text-align: left; border: none;\">\n",
       "                아파트명\n",
       "            </td>\n",
       "        </tr>\n",
       "    \n",
       "        <tr style=\"background-color: hsl(120, 100.00%, 99.93%); border: none;\">\n",
       "            <td style=\"padding: 0 1em 0 0.5em; text-align: right; border: none;\">\n",
       "                826573.9780\n",
       "                \n",
       "                    &plusmn; 41963.8968\n",
       "                \n",
       "            </td>\n",
       "            <td style=\"padding: 0 0.5em 0 0.5em; text-align: left; border: none;\">\n",
       "                도로명\n",
       "            </td>\n",
       "        </tr>\n",
       "    \n",
       "        <tr style=\"background-color: hsl(120, 100.00%, 99.95%); border: none;\">\n",
       "            <td style=\"padding: 0 1em 0 0.5em; text-align: right; border: none;\">\n",
       "                570359.6613\n",
       "                \n",
       "                    &plusmn; 110112.2327\n",
       "                \n",
       "            </td>\n",
       "            <td style=\"padding: 0 0.5em 0 0.5em; text-align: left; border: none;\">\n",
       "                층\n",
       "            </td>\n",
       "        </tr>\n",
       "    \n",
       "    \n",
       "    </tbody>\n",
       "</table>\n",
       "    \n",
       "\n",
       "    \n",
       "\n",
       "\n",
       "    \n",
       "\n",
       "    \n",
       "\n",
       "    \n",
       "\n",
       "    \n",
       "\n",
       "    \n",
       "\n",
       "    \n",
       "\n",
       "\n",
       "\n"
      ],
      "text/plain": [
       "<IPython.core.display.HTML object>"
      ]
     },
     "execution_count": 96,
     "metadata": {},
     "output_type": "execute_result"
    }
   ],
   "source": [
    "# Permutation importance 방법을 변수 선택에 이용해보겠습니다.\n",
    "perm = PermutationImportance(gbm60,        # 위에서 학습된 모델을 이용하겠습니다.\n",
    "                             scoring = \"neg_mean_squared_error\",        # 평가 지표로는 회귀문제이기에 negative rmse를 사용합니다. (neg_mean_squared_error : 음의 평균 제곱 오차)\n",
    "                             random_state = 42,\n",
    "                             n_iter=3).fit(X_val60, y_val60)\n",
    "eli5.show_weights(perm, feature_names = X_val.columns.tolist())    # valid data에 대해 적합시킵니다."
   ]
  },
  {
   "cell_type": "code",
   "execution_count": 97,
   "metadata": {},
   "outputs": [
    {
     "data": {
      "text/html": [
       "\n",
       "    <style>\n",
       "    table.eli5-weights tr:hover {\n",
       "        filter: brightness(85%);\n",
       "    }\n",
       "</style>\n",
       "\n",
       "\n",
       "\n",
       "    \n",
       "\n",
       "    \n",
       "\n",
       "    \n",
       "\n",
       "    \n",
       "\n",
       "    \n",
       "\n",
       "    \n",
       "\n",
       "\n",
       "    \n",
       "\n",
       "    \n",
       "\n",
       "    \n",
       "\n",
       "    \n",
       "\n",
       "    \n",
       "\n",
       "    \n",
       "\n",
       "\n",
       "    \n",
       "\n",
       "    \n",
       "\n",
       "    \n",
       "\n",
       "    \n",
       "\n",
       "    \n",
       "        <table class=\"eli5-weights eli5-feature-importances\" style=\"border-collapse: collapse; border: none; margin-top: 0em; table-layout: auto;\">\n",
       "    <thead>\n",
       "    <tr style=\"border: none;\">\n",
       "        <th style=\"padding: 0 1em 0 0.5em; text-align: right; border: none;\">Weight</th>\n",
       "        <th style=\"padding: 0 0.5em 0 0.5em; text-align: left; border: none;\">Feature</th>\n",
       "    </tr>\n",
       "    </thead>\n",
       "    <tbody>\n",
       "    \n",
       "        <tr style=\"background-color: hsl(120, 100.00%, 80.00%); border: none;\">\n",
       "            <td style=\"padding: 0 1em 0 0.5em; text-align: right; border: none;\">\n",
       "                10740366893.0041\n",
       "                \n",
       "                    &plusmn; 399469845.8958\n",
       "                \n",
       "            </td>\n",
       "            <td style=\"padding: 0 0.5em 0 0.5em; text-align: left; border: none;\">\n",
       "                price_per_area\n",
       "            </td>\n",
       "        </tr>\n",
       "    \n",
       "        <tr style=\"background-color: hsl(120, 100.00%, 94.61%); border: none;\">\n",
       "            <td style=\"padding: 0 1em 0 0.5em; text-align: right; border: none;\">\n",
       "                1648684185.4615\n",
       "                \n",
       "                    &plusmn; 58420039.3453\n",
       "                \n",
       "            </td>\n",
       "            <td style=\"padding: 0 0.5em 0 0.5em; text-align: left; border: none;\">\n",
       "                전용면적(㎡)\n",
       "            </td>\n",
       "        </tr>\n",
       "    \n",
       "        <tr style=\"background-color: hsl(120, 100.00%, 97.66%); border: none;\">\n",
       "            <td style=\"padding: 0 1em 0 0.5em; text-align: right; border: none;\">\n",
       "                501919965.4185\n",
       "                \n",
       "                    &plusmn; 21986092.3992\n",
       "                \n",
       "            </td>\n",
       "            <td style=\"padding: 0 0.5em 0 0.5em; text-align: left; border: none;\">\n",
       "                yrs_diff와동에따른max\n",
       "            </td>\n",
       "        </tr>\n",
       "    \n",
       "        <tr style=\"background-color: hsl(120, 100.00%, 97.99%); border: none;\">\n",
       "            <td style=\"padding: 0 1em 0 0.5em; text-align: right; border: none;\">\n",
       "                402576945.3362\n",
       "                \n",
       "                    &plusmn; 17268786.5425\n",
       "                \n",
       "            </td>\n",
       "            <td style=\"padding: 0 0.5em 0 0.5em; text-align: left; border: none;\">\n",
       "                평균공시가격\n",
       "            </td>\n",
       "        </tr>\n",
       "    \n",
       "        <tr style=\"background-color: hsl(120, 100.00%, 99.46%); border: none;\">\n",
       "            <td style=\"padding: 0 1em 0 0.5em; text-align: right; border: none;\">\n",
       "                62452618.2977\n",
       "                \n",
       "                    &plusmn; 5553828.3406\n",
       "                \n",
       "            </td>\n",
       "            <td style=\"padding: 0 0.5em 0 0.5em; text-align: left; border: none;\">\n",
       "                yrs_diff와동에따른std\n",
       "            </td>\n",
       "        </tr>\n",
       "    \n",
       "        <tr style=\"background-color: hsl(120, 100.00%, 99.46%); border: none;\">\n",
       "            <td style=\"padding: 0 1em 0 0.5em; text-align: right; border: none;\">\n",
       "                61696348.4487\n",
       "                \n",
       "                    &plusmn; 7607859.2127\n",
       "                \n",
       "            </td>\n",
       "            <td style=\"padding: 0 0.5em 0 0.5em; text-align: left; border: none;\">\n",
       "                yrs_diff와동에따른mean\n",
       "            </td>\n",
       "        </tr>\n",
       "    \n",
       "        <tr style=\"background-color: hsl(120, 100.00%, 99.47%); border: none;\">\n",
       "            <td style=\"padding: 0 1em 0 0.5em; text-align: right; border: none;\">\n",
       "                59851401.6504\n",
       "                \n",
       "                    &plusmn; 12193801.4669\n",
       "                \n",
       "            </td>\n",
       "            <td style=\"padding: 0 0.5em 0 0.5em; text-align: left; border: none;\">\n",
       "                동_encoded\n",
       "            </td>\n",
       "        </tr>\n",
       "    \n",
       "        <tr style=\"background-color: hsl(120, 100.00%, 99.55%); border: none;\">\n",
       "            <td style=\"padding: 0 1em 0 0.5em; text-align: right; border: none;\">\n",
       "                47014133.8999\n",
       "                \n",
       "                    &plusmn; 501087.6653\n",
       "                \n",
       "            </td>\n",
       "            <td style=\"padding: 0 0.5em 0 0.5em; text-align: left; border: none;\">\n",
       "                yrs_diff\n",
       "            </td>\n",
       "        </tr>\n",
       "    \n",
       "        <tr style=\"background-color: hsl(120, 100.00%, 99.71%); border: none;\">\n",
       "            <td style=\"padding: 0 1em 0 0.5em; text-align: right; border: none;\">\n",
       "                25136784.3971\n",
       "                \n",
       "                    &plusmn; 1939947.7788\n",
       "                \n",
       "            </td>\n",
       "            <td style=\"padding: 0 0.5em 0 0.5em; text-align: left; border: none;\">\n",
       "                건축년도\n",
       "            </td>\n",
       "        </tr>\n",
       "    \n",
       "        <tr style=\"background-color: hsl(120, 100.00%, 99.75%); border: none;\">\n",
       "            <td style=\"padding: 0 1em 0 0.5em; text-align: right; border: none;\">\n",
       "                20700284.7778\n",
       "                \n",
       "                    &plusmn; 646490.3102\n",
       "                \n",
       "            </td>\n",
       "            <td style=\"padding: 0 0.5em 0 0.5em; text-align: left; border: none;\">\n",
       "                도로명\n",
       "            </td>\n",
       "        </tr>\n",
       "    \n",
       "        <tr style=\"background-color: hsl(120, 100.00%, 99.77%); border: none;\">\n",
       "            <td style=\"padding: 0 1em 0 0.5em; text-align: right; border: none;\">\n",
       "                17948066.9947\n",
       "                \n",
       "                    &plusmn; 865654.9780\n",
       "                \n",
       "            </td>\n",
       "            <td style=\"padding: 0 0.5em 0 0.5em; text-align: left; border: none;\">\n",
       "                번지\n",
       "            </td>\n",
       "        </tr>\n",
       "    \n",
       "        <tr style=\"background-color: hsl(120, 100.00%, 99.81%); border: none;\">\n",
       "            <td style=\"padding: 0 1em 0 0.5em; text-align: right; border: none;\">\n",
       "                14075546.9784\n",
       "                \n",
       "                    &plusmn; 5412545.6022\n",
       "                \n",
       "            </td>\n",
       "            <td style=\"padding: 0 0.5em 0 0.5em; text-align: left; border: none;\">\n",
       "                아파트명\n",
       "            </td>\n",
       "        </tr>\n",
       "    \n",
       "        <tr style=\"background-color: hsl(120, 100.00%, 99.86%); border: none;\">\n",
       "            <td style=\"padding: 0 1em 0 0.5em; text-align: right; border: none;\">\n",
       "                8976522.8770\n",
       "                \n",
       "                    &plusmn; 2390172.2166\n",
       "                \n",
       "            </td>\n",
       "            <td style=\"padding: 0 0.5em 0 0.5em; text-align: left; border: none;\">\n",
       "                층\n",
       "            </td>\n",
       "        </tr>\n",
       "    \n",
       "        <tr style=\"background-color: hsl(120, 100.00%, 99.87%); border: none;\">\n",
       "            <td style=\"padding: 0 1em 0 0.5em; text-align: right; border: none;\">\n",
       "                8375720.4597\n",
       "                \n",
       "                    &plusmn; 1457391.0015\n",
       "                \n",
       "            </td>\n",
       "            <td style=\"padding: 0 0.5em 0 0.5em; text-align: left; border: none;\">\n",
       "                구_encoded\n",
       "            </td>\n",
       "        </tr>\n",
       "    \n",
       "    \n",
       "    </tbody>\n",
       "</table>\n",
       "    \n",
       "\n",
       "    \n",
       "\n",
       "\n",
       "    \n",
       "\n",
       "    \n",
       "\n",
       "    \n",
       "\n",
       "    \n",
       "\n",
       "    \n",
       "\n",
       "    \n",
       "\n",
       "\n",
       "\n"
      ],
      "text/plain": [
       "<IPython.core.display.HTML object>"
      ]
     },
     "execution_count": 97,
     "metadata": {},
     "output_type": "execute_result"
    }
   ],
   "source": [
    "# Permutation importance 방법을 변수 선택에 이용해보겠습니다.\n",
    "perm = PermutationImportance(gbm135,        # 위에서 학습된 모델을 이용하겠습니다.\n",
    "                             scoring = \"neg_mean_squared_error\",        # 평가 지표로는 회귀문제이기에 negative rmse를 사용합니다. (neg_mean_squared_error : 음의 평균 제곱 오차)\n",
    "                             random_state = 42,\n",
    "                             n_iter=3).fit(X_val135, y_val135)\n",
    "eli5.show_weights(perm, feature_names = X_val135.columns.tolist())    # valid data에 대해 적합시킵니다."
   ]
  },
  {
   "cell_type": "code",
   "execution_count": 98,
   "metadata": {},
   "outputs": [
    {
     "data": {
      "text/html": [
       "<div>\n",
       "<style scoped>\n",
       "    .dataframe tbody tr th:only-of-type {\n",
       "        vertical-align: middle;\n",
       "    }\n",
       "\n",
       "    .dataframe tbody tr th {\n",
       "        vertical-align: top;\n",
       "    }\n",
       "\n",
       "    .dataframe thead th {\n",
       "        text-align: right;\n",
       "    }\n",
       "</style>\n",
       "<table border=\"1\" class=\"dataframe\">\n",
       "  <thead>\n",
       "    <tr style=\"text-align: right;\">\n",
       "      <th></th>\n",
       "      <th>target</th>\n",
       "    </tr>\n",
       "  </thead>\n",
       "  <tbody>\n",
       "    <tr>\n",
       "      <th>count</th>\n",
       "      <td>9272.00</td>\n",
       "    </tr>\n",
       "    <tr>\n",
       "      <th>mean</th>\n",
       "      <td>108421.13</td>\n",
       "    </tr>\n",
       "    <tr>\n",
       "      <th>std</th>\n",
       "      <td>76610.98</td>\n",
       "    </tr>\n",
       "    <tr>\n",
       "      <th>min</th>\n",
       "      <td>7583.00</td>\n",
       "    </tr>\n",
       "    <tr>\n",
       "      <th>25%</th>\n",
       "      <td>60518.75</td>\n",
       "    </tr>\n",
       "    <tr>\n",
       "      <th>50%</th>\n",
       "      <td>87928.50</td>\n",
       "    </tr>\n",
       "    <tr>\n",
       "      <th>75%</th>\n",
       "      <td>133898.00</td>\n",
       "    </tr>\n",
       "    <tr>\n",
       "      <th>max</th>\n",
       "      <td>1041582.00</td>\n",
       "    </tr>\n",
       "  </tbody>\n",
       "</table>\n",
       "</div>"
      ],
      "text/plain": [
       "           target\n",
       "count     9272.00\n",
       "mean    108421.13\n",
       "std      76610.98\n",
       "min       7583.00\n",
       "25%      60518.75\n",
       "50%      87928.50\n",
       "75%     133898.00\n",
       "max    1041582.00"
      ]
     },
     "execution_count": 98,
     "metadata": {},
     "output_type": "execute_result"
    }
   ],
   "source": [
    "preds_df2.describe().round(2)"
   ]
  },
  {
   "cell_type": "code",
   "execution_count": null,
   "metadata": {},
   "outputs": [],
   "source": []
  },
  {
   "cell_type": "code",
   "execution_count": null,
   "metadata": {},
   "outputs": [],
   "source": []
  }
 ],
 "metadata": {
  "kernelspec": {
   "display_name": "base",
   "language": "python",
   "name": "python3"
  },
  "language_info": {
   "codemirror_mode": {
    "name": "ipython",
    "version": 3
   },
   "file_extension": ".py",
   "mimetype": "text/x-python",
   "name": "python",
   "nbconvert_exporter": "python",
   "pygments_lexer": "ipython3",
   "version": "3.10.13"
  }
 },
 "nbformat": 4,
 "nbformat_minor": 2
}
