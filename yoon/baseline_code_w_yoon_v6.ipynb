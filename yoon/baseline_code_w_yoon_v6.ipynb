{
  "cells": [
    {
      "cell_type": "markdown",
      "metadata": {
        "id": "92WHLz8346Yf"
      },
      "source": [
        "# **🏠 부동산 실거래가 Baseline code**\n",
        "> 부동산 실거래가 예측 대회에 오신 여러분 환영합니다! 🎉     \n",
        "> 아래 baseline에서는 RandomForest를 활용해 ML 방법론들을 실제 대회에 적용해보도록 하겠습니다.\n",
        "> 강의는 google colab으로 실행하였기에 아래의 베이스라인 코드와는 일부 차이가 있을 수 있습니다. \n",
        "\n",
        "## Contents\n",
        "- Library Import\n",
        "- Data Load\n",
        "- Data Preprocessing\n",
        "- Feature Engineering\n",
        "- Model Training\n",
        "- Inference\n",
        "- Output File Save\n"
      ]
    },
    {
      "cell_type": "markdown",
      "metadata": {
        "id": "2-DJzJjvO88V"
      },
      "source": [
        "## 1. Library Import\n",
        "- 필요한 라이브러리를 불러옵니다."
      ]
    },
    {
      "cell_type": "code",
      "execution_count": 1,
      "metadata": {
        "id": "d-NiCLGs4ZpM"
      },
      "outputs": [],
      "source": [
        "# visualization\n",
        "import matplotlib.pyplot as plt\n",
        "import matplotlib.font_manager as fm\n",
        "fe = fm.FontEntry(\n",
        "    fname=r'/usr/share/fonts/truetype/nanum/NanumGothic.ttf', # ttf 파일이 저장되어 있는 경로\n",
        "    name='NanumBarunGothic')                        # 이 폰트의 원하는 이름 설정\n",
        "fm.fontManager.ttflist.insert(0, fe)              # Matplotlib에 폰트 추가\n",
        "plt.rcParams.update({'font.size': 10, 'font.family': 'NanumBarunGothic'}) # 폰트 설정\n",
        "plt.rc('font', family='NanumBarunGothic')\n",
        "import seaborn as sns\n",
        "\n",
        "# utils\n",
        "import pandas as pd\n",
        "import numpy as np\n",
        "from tqdm import tqdm\n",
        "import pickle\n",
        "import warnings;warnings.filterwarnings('ignore')\n",
        "\n",
        "# Model\n",
        "from sklearn.preprocessing import LabelEncoder\n",
        "from sklearn.model_selection import train_test_split\n",
        "from sklearn.metrics import mean_squared_error\n",
        "from sklearn.ensemble import RandomForestRegressor\n",
        "from sklearn import metrics\n",
        "\n",
        "import eli5\n",
        "from eli5.sklearn import PermutationImportance"
      ]
    },
    {
      "cell_type": "markdown",
      "metadata": {
        "id": "OPJvYT0OPAWS"
      },
      "source": [
        "## 2. Data Load"
      ]
    },
    {
      "cell_type": "markdown",
      "metadata": {
        "id": "vvwnwnpNJeR1"
      },
      "source": [
        "#### 2.1. 데이터 로드"
      ]
    },
    {
      "cell_type": "code",
      "execution_count": 2,
      "metadata": {},
      "outputs": [],
      "source": [
        "import os"
      ]
    },
    {
      "cell_type": "code",
      "execution_count": 3,
      "metadata": {},
      "outputs": [
        {
          "data": {
            "text/plain": [
              "'/root/code/upstage-ml-regression-3/yoon'"
            ]
          },
          "execution_count": 3,
          "metadata": {},
          "output_type": "execute_result"
        }
      ],
      "source": [
        "os.getcwd()"
      ]
    },
    {
      "cell_type": "code",
      "execution_count": 4,
      "metadata": {
        "id": "hx6nk3N_4_Tk"
      },
      "outputs": [],
      "source": [
        "# 필요한 데이터를 load 하겠습니다. 경로는 환경에 맞게 지정해주면 됩니다.\n",
        "train_path = '/root/train.csv'\n",
        "test_path  = '/root/test.csv'"
      ]
    },
    {
      "cell_type": "code",
      "execution_count": 5,
      "metadata": {},
      "outputs": [],
      "source": [
        "dt = pd.read_csv(train_path)"
      ]
    },
    {
      "cell_type": "code",
      "execution_count": 6,
      "metadata": {},
      "outputs": [],
      "source": [
        "dt_test = pd.read_csv(test_path)"
      ]
    },
    {
      "cell_type": "code",
      "execution_count": 7,
      "metadata": {},
      "outputs": [
        {
          "name": "stdout",
          "output_type": "stream",
          "text": [
            "<class 'pandas.core.frame.DataFrame'>\n",
            "RangeIndex: 1118822 entries, 0 to 1118821\n",
            "Data columns (total 52 columns):\n",
            " #   Column                  Non-Null Count    Dtype  \n",
            "---  ------                  --------------    -----  \n",
            " 0   시군구                     1118822 non-null  object \n",
            " 1   번지                      1118597 non-null  object \n",
            " 2   본번                      1118747 non-null  float64\n",
            " 3   부번                      1118747 non-null  float64\n",
            " 4   아파트명                    1116696 non-null  object \n",
            " 5   전용면적(㎡)                 1118822 non-null  float64\n",
            " 6   계약년월                    1118822 non-null  int64  \n",
            " 7   계약일                     1118822 non-null  int64  \n",
            " 8   층                       1118822 non-null  int64  \n",
            " 9   건축년도                    1118822 non-null  int64  \n",
            " 10  도로명                     1118822 non-null  object \n",
            " 11  해제사유발생일                 5983 non-null     float64\n",
            " 12  등기신청일자                  1118822 non-null  object \n",
            " 13  거래유형                    1118822 non-null  object \n",
            " 14  중개사소재지                  1118822 non-null  object \n",
            " 15  k-단지분류(아파트,주상복합등등)      248131 non-null   object \n",
            " 16  k-전화번호                  248548 non-null   object \n",
            " 17  k-팩스번호                  246080 non-null   object \n",
            " 18  단지소개기존clob              68582 non-null    float64\n",
            " 19  k-세대타입(분양형태)            249259 non-null   object \n",
            " 20  k-관리방식                  249259 non-null   object \n",
            " 21  k-복도유형                  248932 non-null   object \n",
            " 22  k-난방방식                  249259 non-null   object \n",
            " 23  k-전체동수                  248192 non-null   float64\n",
            " 24  k-전체세대수                 249259 non-null   float64\n",
            " 25  k-건설사(시공사)              247764 non-null   object \n",
            " 26  k-시행사                   247568 non-null   object \n",
            " 27  k-사용검사일-사용승인일           249126 non-null   object \n",
            " 28  k-연면적                   249259 non-null   float64\n",
            " 29  k-주거전용면적                249214 non-null   float64\n",
            " 30  k-관리비부과면적               249259 non-null   float64\n",
            " 31  k-전용면적별세대현황(60㎡이하)      249214 non-null   float64\n",
            " 32  k-전용면적별세대현황(60㎡~85㎡이하)  249214 non-null   float64\n",
            " 33  k-85㎡~135㎡이하            249214 non-null   float64\n",
            " 34  k-135㎡초과                327 non-null      float64\n",
            " 35  k-홈페이지                  113175 non-null   object \n",
            " 36  k-등록일자                  10990 non-null    object \n",
            " 37  k-수정일자                  249214 non-null   object \n",
            " 38  고용보험관리번호                205518 non-null   object \n",
            " 39  경비비관리형태                 247834 non-null   object \n",
            " 40  세대전기계약방법                240075 non-null   object \n",
            " 41  청소비관리형태                 247644 non-null   object \n",
            " 42  건축면적                    249108 non-null   float64\n",
            " 43  주차대수                    249108 non-null   float64\n",
            " 44  기타/의무/임대/임의=1/2/3/4     249259 non-null   object \n",
            " 45  단지승인일                   248536 non-null   object \n",
            " 46  사용허가여부                  249259 non-null   object \n",
            " 47  관리비 업로드                 249259 non-null   object \n",
            " 48  좌표X                     249152 non-null   float64\n",
            " 49  좌표Y                     249152 non-null   float64\n",
            " 50  단지신청일                   249197 non-null   object \n",
            " 51  target                  1118822 non-null  int64  \n",
            "dtypes: float64(18), int64(5), object(29)\n",
            "memory usage: 443.9+ MB\n"
          ]
        }
      ],
      "source": [
        "dt.info()"
      ]
    },
    {
      "cell_type": "code",
      "execution_count": 8,
      "metadata": {},
      "outputs": [
        {
          "name": "stdout",
          "output_type": "stream",
          "text": [
            "<class 'pandas.core.frame.DataFrame'>\n",
            "RangeIndex: 9272 entries, 0 to 9271\n",
            "Data columns (total 51 columns):\n",
            " #   Column                  Non-Null Count  Dtype  \n",
            "---  ------                  --------------  -----  \n",
            " 0   시군구                     9272 non-null   object \n",
            " 1   번지                      9270 non-null   object \n",
            " 2   본번                      9272 non-null   float64\n",
            " 3   부번                      9272 non-null   float64\n",
            " 4   아파트명                    9262 non-null   object \n",
            " 5   전용면적(㎡)                 9272 non-null   float64\n",
            " 6   계약년월                    9272 non-null   int64  \n",
            " 7   계약일                     9272 non-null   int64  \n",
            " 8   층                       9272 non-null   int64  \n",
            " 9   건축년도                    9272 non-null   int64  \n",
            " 10  도로명                     9272 non-null   object \n",
            " 11  해제사유발생일                 212 non-null    float64\n",
            " 12  등기신청일자                  9272 non-null   object \n",
            " 13  거래유형                    9272 non-null   object \n",
            " 14  중개사소재지                  9272 non-null   object \n",
            " 15  k-단지분류(아파트,주상복합등등)      2690 non-null   object \n",
            " 16  k-전화번호                  2696 non-null   object \n",
            " 17  k-팩스번호                  2666 non-null   object \n",
            " 18  단지소개기존clob              554 non-null    float64\n",
            " 19  k-세대타입(분양형태)            2710 non-null   object \n",
            " 20  k-관리방식                  2710 non-null   object \n",
            " 21  k-복도유형                  2708 non-null   object \n",
            " 22  k-난방방식                  2710 non-null   object \n",
            " 23  k-전체동수                  2695 non-null   float64\n",
            " 24  k-전체세대수                 2710 non-null   float64\n",
            " 25  k-건설사(시공사)              2693 non-null   object \n",
            " 26  k-시행사                   2692 non-null   object \n",
            " 27  k-사용검사일-사용승인일           2709 non-null   object \n",
            " 28  k-연면적                   2710 non-null   float64\n",
            " 29  k-주거전용면적                2710 non-null   float64\n",
            " 30  k-관리비부과면적               2710 non-null   float64\n",
            " 31  k-전용면적별세대현황(60㎡이하)      2710 non-null   float64\n",
            " 32  k-전용면적별세대현황(60㎡~85㎡이하)  2710 non-null   float64\n",
            " 33  k-85㎡~135㎡이하            2710 non-null   float64\n",
            " 34  k-135㎡초과                2 non-null      float64\n",
            " 35  k-홈페이지                  1396 non-null   object \n",
            " 36  k-등록일자                  718 non-null    object \n",
            " 37  k-수정일자                  2710 non-null   object \n",
            " 38  고용보험관리번호                1819 non-null   object \n",
            " 39  경비비관리형태                 2699 non-null   object \n",
            " 40  세대전기계약방법                2630 non-null   object \n",
            " 41  청소비관리형태                 2699 non-null   object \n",
            " 42  건축면적                    2707 non-null   float64\n",
            " 43  주차대수                    2709 non-null   float64\n",
            " 44  기타/의무/임대/임의=1/2/3/4     2710 non-null   object \n",
            " 45  단지승인일                   2704 non-null   object \n",
            " 46  사용허가여부                  2710 non-null   object \n",
            " 47  관리비 업로드                 2710 non-null   object \n",
            " 48  좌표X                     2710 non-null   float64\n",
            " 49  좌표Y                     2710 non-null   float64\n",
            " 50  단지신청일                   2710 non-null   object \n",
            "dtypes: float64(18), int64(4), object(29)\n",
            "memory usage: 3.6+ MB\n"
          ]
        }
      ],
      "source": [
        "dt_test.info()"
      ]
    },
    {
      "cell_type": "code",
      "execution_count": 9,
      "metadata": {
        "colab": {
          "base_uri": "https://localhost:8080/"
        },
        "id": "O6tWMND66vT8",
        "outputId": "e0ba702b-6662-4723-c5a1-600d7236e597"
      },
      "outputs": [
        {
          "name": "stdout",
          "output_type": "stream",
          "text": [
            "Train data shape :  (1118822, 52) Test data shape :  (9272, 51)\n"
          ]
        }
      ],
      "source": [
        "# Train data와 Test data shape은 아래와 같습니다.\n",
        "print('Train data shape : ', dt.shape, 'Test data shape : ', dt_test.shape)"
      ]
    },
    {
      "cell_type": "code",
      "execution_count": 10,
      "metadata": {},
      "outputs": [],
      "source": [
        "df_bus = pd.read_csv(\"/root/bus_feature.csv\")\n",
        "df_metro = pd.read_csv(\"/root/subway_feature.csv\")"
      ]
    },
    {
      "cell_type": "code",
      "execution_count": 13,
      "metadata": {},
      "outputs": [],
      "source": [
        "df_interest_rate = pd.read_csv(\"./base_rate.csv\")"
      ]
    },
    {
      "cell_type": "markdown",
      "metadata": {},
      "source": [
        "### 공공주택에 대한 가정 체크\n",
        "- 작업자 : 정혜윤"
      ]
    },
    {
      "cell_type": "code",
      "execution_count": 14,
      "metadata": {},
      "outputs": [],
      "source": [
        "k_rel_cols = ['k-단지분류(아파트,주상복합등등)',\n",
        "    'k-전화번호', 'k-팩스번호', '단지소개기존clob', 'k-세대타입(분양형태)', 'k-관리방식', 'k-복도유형',\n",
        "    'k-난방방식', 'k-전체동수', 'k-전체세대수', 'k-건설사(시공사)', 'k-시행사', 'k-사용검사일-사용승인일',\n",
        "    'k-연면적', 'k-주거전용면적', 'k-관리비부과면적', 'k-전용면적별세대현황(60㎡이하)',\n",
        "    'k-전용면적별세대현황(60㎡~85㎡이하)', 'k-85㎡~135㎡이하', 'k-135㎡초과', 'k-홈페이지',\n",
        "    'k-등록일자', 'k-수정일자']"
      ]
    },
    {
      "cell_type": "code",
      "execution_count": 15,
      "metadata": {},
      "outputs": [
        {
          "data": {
            "text/plain": [
              "869608"
            ]
          },
          "execution_count": 15,
          "metadata": {},
          "output_type": "execute_result"
        }
      ],
      "source": [
        "dt[\"k-전용면적별세대현황(60㎡이하)\"].isnull().sum()"
      ]
    },
    {
      "cell_type": "code",
      "execution_count": 16,
      "metadata": {},
      "outputs": [
        {
          "data": {
            "text/plain": [
              "249214"
            ]
          },
          "execution_count": 16,
          "metadata": {},
          "output_type": "execute_result"
        }
      ],
      "source": [
        "dt[\"k-전용면적별세대현황(60㎡이하)\"].notnull().sum()"
      ]
    },
    {
      "cell_type": "code",
      "execution_count": 17,
      "metadata": {},
      "outputs": [],
      "source": [
        "dt_k_area_isnull = dt[dt['k-전용면적별세대현황(60㎡이하)'].isnull()][k_rel_cols]"
      ]
    },
    {
      "cell_type": "code",
      "execution_count": 18,
      "metadata": {},
      "outputs": [
        {
          "data": {
            "text/plain": [
              "k-단지분류(아파트,주상복합등등)        0\n",
              "단지소개기존clob                0\n",
              "k-시행사                     0\n",
              "k-주거전용면적                  0\n",
              "k-전용면적별세대현황(60㎡이하)        0\n",
              "k-전용면적별세대현황(60㎡~85㎡이하)    0\n",
              "k-85㎡~135㎡이하              0\n",
              "k-135㎡초과                  0\n",
              "k-홈페이지                    0\n",
              "k-등록일자                    0\n",
              "k-수정일자                    0\n",
              "dtype: int64"
            ]
          },
          "execution_count": 18,
          "metadata": {},
          "output_type": "execute_result"
        }
      ],
      "source": [
        "dt_k_area_isnull.loc[:, dt_k_area_isnull.notnull().sum() == 0].notnull().sum()"
      ]
    },
    {
      "cell_type": "code",
      "execution_count": 19,
      "metadata": {},
      "outputs": [
        {
          "data": {
            "text/plain": [
              "k-전화번호           45\n",
              "k-팩스번호           45\n",
              "k-세대타입(분양형태)     45\n",
              "k-관리방식           45\n",
              "k-복도유형           45\n",
              "k-난방방식           45\n",
              "k-전체동수           45\n",
              "k-전체세대수          45\n",
              "k-건설사(시공사)       45\n",
              "k-사용검사일-사용승인일    45\n",
              "k-연면적            45\n",
              "k-관리비부과면적        45\n",
              "dtype: int64"
            ]
          },
          "execution_count": 19,
          "metadata": {},
          "output_type": "execute_result"
        }
      ],
      "source": [
        "dt_k_area_isnull.loc[:, dt_k_area_isnull.notnull().sum() != 0].notnull().sum()"
      ]
    },
    {
      "cell_type": "code",
      "execution_count": 20,
      "metadata": {},
      "outputs": [],
      "source": [
        "dt_k_area_notnull = dt[dt['k-전용면적별세대현황(60㎡이하)'].notnull()][k_rel_cols]"
      ]
    },
    {
      "cell_type": "code",
      "execution_count": 21,
      "metadata": {},
      "outputs": [
        {
          "data": {
            "text/plain": [
              "k-세대타입(분양형태)              0\n",
              "k-관리방식                    0\n",
              "k-난방방식                    0\n",
              "k-전체세대수                   0\n",
              "k-연면적                     0\n",
              "k-주거전용면적                  0\n",
              "k-관리비부과면적                 0\n",
              "k-전용면적별세대현황(60㎡이하)        0\n",
              "k-전용면적별세대현황(60㎡~85㎡이하)    0\n",
              "k-85㎡~135㎡이하              0\n",
              "k-수정일자                    0\n",
              "dtype: int64"
            ]
          },
          "execution_count": 21,
          "metadata": {},
          "output_type": "execute_result"
        }
      ],
      "source": [
        "dt_k_area_notnull.loc[:, dt_k_area_notnull.isnull().sum() == 0].isnull().sum()"
      ]
    },
    {
      "cell_type": "code",
      "execution_count": 22,
      "metadata": {},
      "outputs": [
        {
          "data": {
            "text/plain": [
              "k-단지분류(아파트,주상복합등등)      1083\n",
              "k-전화번호                   711\n",
              "k-팩스번호                  3179\n",
              "단지소개기존clob            180632\n",
              "k-복도유형                   327\n",
              "k-전체동수                  1067\n",
              "k-건설사(시공사)              1495\n",
              "k-시행사                   1646\n",
              "k-사용검사일-사용승인일            133\n",
              "k-135㎡초과              248887\n",
              "k-홈페이지                136039\n",
              "k-등록일자                238224\n",
              "dtype: int64"
            ]
          },
          "execution_count": 22,
          "metadata": {},
          "output_type": "execute_result"
        }
      ],
      "source": [
        "dt_k_area_notnull.loc[:, dt_k_area_notnull.isnull().sum() != 0].isnull().sum()"
      ]
    },
    {
      "cell_type": "code",
      "execution_count": 23,
      "metadata": {},
      "outputs": [
        {
          "data": {
            "text/plain": [
              "k-단지분류(아파트,주상복합등등)    0.0043\n",
              "k-전화번호                0.0029\n",
              "k-팩스번호                0.0128\n",
              "단지소개기존clob            0.7248\n",
              "k-복도유형                0.0013\n",
              "k-전체동수                0.0043\n",
              "k-건설사(시공사)            0.0060\n",
              "k-시행사                 0.0066\n",
              "k-사용검사일-사용승인일         0.0005\n",
              "k-135㎡초과              0.9987\n",
              "k-홈페이지                0.5459\n",
              "k-등록일자                0.9559\n",
              "dtype: float64"
            ]
          },
          "execution_count": 23,
          "metadata": {},
          "output_type": "execute_result"
        }
      ],
      "source": [
        "(dt_k_area_notnull.loc[:, dt_k_area_notnull.isnull().sum() != 0].isnull().sum()/dt_k_area_notnull.shape[0]).round(4)"
      ]
    },
    {
      "cell_type": "code",
      "execution_count": 24,
      "metadata": {},
      "outputs": [],
      "source": [
        "# dt_k_area_isnull 중 notnull().sum() == 0 인 컬럼들을 dt_k_area_notnull에 대하여 체크하기\n",
        "\n",
        "cols_to_check = dt_k_area_isnull.loc[:, dt_k_area_isnull.notnull().sum() == 0].columns.tolist()"
      ]
    },
    {
      "cell_type": "code",
      "execution_count": 25,
      "metadata": {},
      "outputs": [
        {
          "data": {
            "text/plain": [
              "k-단지분류(아파트,주상복합등등)          1083\n",
              "단지소개기존clob                180632\n",
              "k-시행사                       1646\n",
              "k-주거전용면적                       0\n",
              "k-전용면적별세대현황(60㎡이하)             0\n",
              "k-전용면적별세대현황(60㎡~85㎡이하)         0\n",
              "k-85㎡~135㎡이하                   0\n",
              "k-135㎡초과                  248887\n",
              "k-홈페이지                    136039\n",
              "k-등록일자                    238224\n",
              "k-수정일자                         0\n",
              "dtype: int64"
            ]
          },
          "execution_count": 25,
          "metadata": {},
          "output_type": "execute_result"
        }
      ],
      "source": [
        "dt_k_area_notnull[cols_to_check].isnull().sum()"
      ]
    },
    {
      "cell_type": "code",
      "execution_count": 26,
      "metadata": {},
      "outputs": [],
      "source": [
        "# 우선 dt_k_area_isnull 에 대하여 notnull().sum() == 0 이면서, dt_k_area_notnull 에 대하여 isnull().sum() == 0 이어야 공공주택과 아닌 경우를 구분할 수 있는 의미가 있는 컬럼을 판단\n",
        "\n",
        "cols_to_use = []\n",
        "for col in dt_k_area_isnull.loc[:, dt_k_area_isnull.notnull().sum() == 0].columns.tolist():\n",
        "    if col in dt_k_area_notnull.loc[:, dt_k_area_notnull.isnull().sum() == 0].columns.tolist():\n",
        "        cols_to_use.append(col)"
      ]
    },
    {
      "cell_type": "code",
      "execution_count": 27,
      "metadata": {},
      "outputs": [
        {
          "data": {
            "text/plain": [
              "['k-주거전용면적',\n",
              " 'k-전용면적별세대현황(60㎡이하)',\n",
              " 'k-전용면적별세대현황(60㎡~85㎡이하)',\n",
              " 'k-85㎡~135㎡이하',\n",
              " 'k-수정일자']"
            ]
          },
          "execution_count": 27,
          "metadata": {},
          "output_type": "execute_result"
        }
      ],
      "source": [
        "cols_to_use"
      ]
    },
    {
      "cell_type": "code",
      "execution_count": 28,
      "metadata": {},
      "outputs": [],
      "source": [
        "cols_to_drop = []\n",
        "\n",
        "for col in k_rel_cols:\n",
        "    if col not in cols_to_use:\n",
        "        cols_to_drop.append(col)"
      ]
    },
    {
      "cell_type": "code",
      "execution_count": 29,
      "metadata": {},
      "outputs": [],
      "source": [
        "dt['is_public'] = dt[\"k-전용면적별세대현황(60㎡이하)\"].notnull()"
      ]
    },
    {
      "cell_type": "code",
      "execution_count": 30,
      "metadata": {},
      "outputs": [],
      "source": [
        "dt_test['is_public'] = dt_test[\"k-전용면적별세대현황(60㎡이하)\"].notnull()"
      ]
    },
    {
      "cell_type": "code",
      "execution_count": 31,
      "metadata": {},
      "outputs": [
        {
          "data": {
            "text/plain": [
              "False    869608\n",
              "True     249214\n",
              "Name: is_public, dtype: int64"
            ]
          },
          "execution_count": 31,
          "metadata": {},
          "output_type": "execute_result"
        }
      ],
      "source": [
        "dt['is_public'].value_counts()"
      ]
    },
    {
      "cell_type": "code",
      "execution_count": 32,
      "metadata": {},
      "outputs": [],
      "source": [
        "dt = dt.drop(columns = cols_to_drop)"
      ]
    },
    {
      "cell_type": "code",
      "execution_count": 33,
      "metadata": {},
      "outputs": [],
      "source": [
        "dt_test = dt_test.drop(columns = cols_to_drop)"
      ]
    },
    {
      "cell_type": "markdown",
      "metadata": {},
      "source": [
        "### 등기정보 및 x좌표 y좌표 체크"
      ]
    },
    {
      "cell_type": "code",
      "execution_count": 34,
      "metadata": {},
      "outputs": [],
      "source": [
        "basic_cols = ['시군구', '번지', '본번', '부번', '아파트명', 'target']"
      ]
    },
    {
      "cell_type": "code",
      "execution_count": 35,
      "metadata": {},
      "outputs": [],
      "source": [
        "cols_except_k = []\n",
        "for col in dt.columns.tolist():\n",
        "    if (col not in k_rel_cols) & (col not in basic_cols):\n",
        "        cols_except_k.append(col)  "
      ]
    },
    {
      "cell_type": "code",
      "execution_count": 36,
      "metadata": {},
      "outputs": [
        {
          "data": {
            "text/plain": [
              "전용면적(㎡)                      0\n",
              "계약년월                         0\n",
              "계약일                          0\n",
              "층                            0\n",
              "건축년도                         0\n",
              "도로명                          0\n",
              "해제사유발생일                1112839\n",
              "등기신청일자                       0\n",
              "거래유형                         0\n",
              "중개사소재지                       0\n",
              "고용보험관리번호                913304\n",
              "경비비관리형태                 870988\n",
              "세대전기계약방법                878747\n",
              "청소비관리형태                 871178\n",
              "건축면적                    869714\n",
              "주차대수                    869714\n",
              "기타/의무/임대/임의=1/2/3/4     869563\n",
              "단지승인일                   870286\n",
              "사용허가여부                  869563\n",
              "관리비 업로드                 869563\n",
              "좌표X                     869670\n",
              "좌표Y                     869670\n",
              "단지신청일                   869625\n",
              "is_public                    0\n",
              "dtype: int64"
            ]
          },
          "execution_count": 36,
          "metadata": {},
          "output_type": "execute_result"
        }
      ],
      "source": [
        "dt[cols_except_k].isnull().sum()"
      ]
    },
    {
      "cell_type": "code",
      "execution_count": 37,
      "metadata": {},
      "outputs": [
        {
          "data": {
            "text/plain": [
              "전용면적(㎡)      0\n",
              "계약년월         0\n",
              "계약일          0\n",
              "층            0\n",
              "건축년도         0\n",
              "도로명          0\n",
              "등기신청일자       0\n",
              "거래유형         0\n",
              "중개사소재지       0\n",
              "is_public    0\n",
              "dtype: int64"
            ]
          },
          "execution_count": 37,
          "metadata": {},
          "output_type": "execute_result"
        }
      ],
      "source": [
        "dt[cols_except_k].loc[:, dt[cols_except_k].isnull().sum() == 0].isnull().sum()"
      ]
    },
    {
      "cell_type": "markdown",
      "metadata": {},
      "source": [
        "### 분석"
      ]
    },
    {
      "cell_type": "code",
      "execution_count": 38,
      "metadata": {},
      "outputs": [
        {
          "data": {
            "text/plain": [
              "Index(['시군구', '번지', '본번', '부번', '아파트명', '전용면적(㎡)', '계약년월', '계약일', '층', '건축년도',\n",
              "       '도로명', '해제사유발생일', '등기신청일자', '거래유형', '중개사소재지', 'k-주거전용면적',\n",
              "       'k-전용면적별세대현황(60㎡이하)', 'k-전용면적별세대현황(60㎡~85㎡이하)', 'k-85㎡~135㎡이하',\n",
              "       'k-수정일자', '고용보험관리번호', '경비비관리형태', '세대전기계약방법', '청소비관리형태', '건축면적', '주차대수',\n",
              "       '기타/의무/임대/임의=1/2/3/4', '단지승인일', '사용허가여부', '관리비 업로드', '좌표X', '좌표Y',\n",
              "       '단지신청일', 'target', 'is_public'],\n",
              "      dtype='object')"
            ]
          },
          "execution_count": 38,
          "metadata": {},
          "output_type": "execute_result"
        }
      ],
      "source": [
        "dt.columns"
      ]
    },
    {
      "cell_type": "code",
      "execution_count": 39,
      "metadata": {},
      "outputs": [],
      "source": [
        "dt['구'] = dt['시군구'].map(lambda x : x.split()[1])\n",
        "dt['동'] = dt['시군구'].map(lambda x : x.split()[2])\n",
        "del dt['시군구']"
      ]
    },
    {
      "cell_type": "code",
      "execution_count": 40,
      "metadata": {},
      "outputs": [],
      "source": [
        "dt_test['구'] = dt_test['시군구'].map(lambda x : x.split()[1])\n",
        "dt_test['동'] = dt_test['시군구'].map(lambda x : x.split()[2])\n",
        "del dt_test['시군구']"
      ]
    },
    {
      "cell_type": "code",
      "execution_count": 41,
      "metadata": {},
      "outputs": [
        {
          "data": {
            "text/plain": [
              "구\n",
              "강남구     114847.461503\n",
              "서초구     113608.653390\n",
              "용산구     105876.961900\n",
              "송파구      83868.032920\n",
              "성동구      68924.389400\n",
              "광진구      67158.379293\n",
              "마포구      64445.226137\n",
              "중구       62084.985733\n",
              "동작구      60936.451058\n",
              "양천구      59042.132927\n",
              "종로구      57674.032963\n",
              "영등포구     56137.342464\n",
              "강동구      54402.872801\n",
              "서대문구     49082.573688\n",
              "동대문구     45194.761822\n",
              "성북구      45117.779038\n",
              "강서구      44215.453701\n",
              "은평구      43721.691848\n",
              "관악구      41954.133039\n",
              "구로구      38605.012447\n",
              "강북구      38316.975201\n",
              "중랑구      35195.762819\n",
              "노원구      33870.444730\n",
              "금천구      33709.248647\n",
              "도봉구      31924.613711\n",
              "Name: target, dtype: float64"
            ]
          },
          "execution_count": 41,
          "metadata": {},
          "output_type": "execute_result"
        }
      ],
      "source": [
        "dt.groupby(\"구\")[\"target\"].mean().sort_values(ascending=False)"
      ]
    },
    {
      "cell_type": "code",
      "execution_count": 42,
      "metadata": {},
      "outputs": [],
      "source": [
        "mean_val_by_gu = dt.groupby(\"구\")[\"target\"].mean().sort_values(ascending=False)"
      ]
    },
    {
      "cell_type": "code",
      "execution_count": 43,
      "metadata": {},
      "outputs": [
        {
          "data": {
            "text/plain": [
              "동\n",
              "신문로2가     329833.333333\n",
              "장충동1가     255131.818182\n",
              "압구정동      203222.949968\n",
              "용산동5가     188139.910569\n",
              "홍파동       170336.419753\n",
              "              ...      \n",
              "영등포동4가     13926.136364\n",
              "미근동        13084.848485\n",
              "영등포동3가     11530.827068\n",
              "안암동5가      11300.000000\n",
              "장충동2가       8530.128205\n",
              "Name: target, Length: 337, dtype: float64"
            ]
          },
          "execution_count": 43,
          "metadata": {},
          "output_type": "execute_result"
        }
      ],
      "source": [
        "dt.groupby(\"동\")[\"target\"].mean().sort_values(ascending=False)"
      ]
    },
    {
      "cell_type": "code",
      "execution_count": 44,
      "metadata": {},
      "outputs": [],
      "source": [
        "mean_val_by_dong = dt.groupby(\"동\")[\"target\"].mean().sort_values(ascending=False)"
      ]
    },
    {
      "cell_type": "code",
      "execution_count": 45,
      "metadata": {},
      "outputs": [
        {
          "data": {
            "text/plain": [
              "구\n",
              "용산구     90148.440633\n",
              "강남구     78572.045476\n",
              "서초구     74485.257724\n",
              "송파구     47626.592378\n",
              "성동구     45378.104410\n",
              "종로구     41036.478979\n",
              "양천구     37811.589121\n",
              "영등포구    37610.116967\n",
              "광진구     35952.014115\n",
              "중구      35533.593585\n",
              "마포구     35529.508459\n",
              "동작구     29448.545826\n",
              "강동구     28152.234720\n",
              "서대문구    27368.356400\n",
              "강서구     23947.649811\n",
              "동대문구    22755.297441\n",
              "은평구     21368.819979\n",
              "구로구     19893.188082\n",
              "성북구     19874.793126\n",
              "관악구     18337.719985\n",
              "노원구     17460.680792\n",
              "금천구     16949.254267\n",
              "중랑구     16822.560420\n",
              "강북구     16429.208005\n",
              "도봉구     15887.709700\n",
              "Name: target, dtype: float64"
            ]
          },
          "execution_count": 45,
          "metadata": {},
          "output_type": "execute_result"
        }
      ],
      "source": [
        "dt.groupby(\"구\")[\"target\"].std().sort_values(ascending=False)"
      ]
    },
    {
      "cell_type": "code",
      "execution_count": 46,
      "metadata": {},
      "outputs": [],
      "source": [
        "std_val_by_gu = dt.groupby(\"구\")[\"target\"].std().sort_values(ascending=False)"
      ]
    },
    {
      "cell_type": "code",
      "execution_count": 47,
      "metadata": {},
      "outputs": [
        {
          "data": {
            "text/plain": [
              "동\n",
              "한남동       186577.761692\n",
              "장충동1가     152718.687553\n",
              "반포동       100821.951289\n",
              "성수동1가     100050.693828\n",
              "압구정동       97856.744540\n",
              "              ...      \n",
              "충신동         1502.873888\n",
              "영등포동4가      1384.283234\n",
              "영등포동3가       614.555820\n",
              "안암동5가          0.000000\n",
              "입정동                 NaN\n",
              "Name: target, Length: 337, dtype: float64"
            ]
          },
          "execution_count": 47,
          "metadata": {},
          "output_type": "execute_result"
        }
      ],
      "source": [
        "dt.groupby(\"동\")[\"target\"].std().sort_values(ascending=False)"
      ]
    },
    {
      "cell_type": "code",
      "execution_count": 48,
      "metadata": {},
      "outputs": [],
      "source": [
        "std_val_by_dong = dt.groupby(\"동\")[\"target\"].std().sort_values(ascending=False)"
      ]
    },
    {
      "cell_type": "code",
      "execution_count": 49,
      "metadata": {},
      "outputs": [
        {
          "data": {
            "text/plain": [
              "Text(0.5, 1.0, '구별 평균가')"
            ]
          },
          "execution_count": 49,
          "metadata": {},
          "output_type": "execute_result"
        },
        {
          "data": {
            "image/png": "[encoded data removed]",
            "text/plain": [
              "<Figure size 2400x900 with 1 Axes>"
            ]
          },
          "metadata": {},
          "output_type": "display_data"
        }
      ],
      "source": [
        "plt.figure(figsize=(24, 9))\n",
        "mean_val_by_gu.plot.bar()\n",
        "plt.title(\"구별 평균가\")"
      ]
    },
    {
      "cell_type": "code",
      "execution_count": 50,
      "metadata": {},
      "outputs": [],
      "source": [
        "list_of_gu = dt[\"구\"].unique().tolist()"
      ]
    },
    {
      "cell_type": "code",
      "execution_count": 51,
      "metadata": {},
      "outputs": [
        {
          "data": {
            "text/plain": [
              "25"
            ]
          },
          "execution_count": 51,
          "metadata": {},
          "output_type": "execute_result"
        }
      ],
      "source": [
        "len(list_of_gu)"
      ]
    },
    {
      "cell_type": "code",
      "execution_count": 52,
      "metadata": {},
      "outputs": [
        {
          "data": {
            "image/png": "[encoded data removed]",
            "text/plain": [
              "<Figure size 2400x900 with 1 Axes>"
            ]
          },
          "metadata": {},
          "output_type": "display_data"
        }
      ],
      "source": [
        "plt.figure(figsize=(24, 9))\n",
        "sns.boxplot(data=dt, x=\"구\", y=\"target\")\n",
        "\n",
        "plt.xticks(rotation=90)\n",
        "plt.title('Apartment Prices Distribution by District')\n",
        "plt.xlabel('District')\n",
        "plt.ylabel('Apartment Price')\n",
        "\n",
        "plt.tight_layout()\n",
        "plt.show()"
      ]
    },
    {
      "cell_type": "code",
      "execution_count": 53,
      "metadata": {},
      "outputs": [],
      "source": [
        "dt['계약년'] = dt['계약년월'].map(lambda x : x // 100)\n",
        "dt['계약월'] = dt['계약년월'].map(lambda x : x % 100)\n",
        "del dt['계약년월']"
      ]
    },
    {
      "cell_type": "code",
      "execution_count": 54,
      "metadata": {},
      "outputs": [],
      "source": [
        "dt_test['계약년'] = dt_test['계약년월'].map(lambda x : x // 100)\n",
        "dt_test['계약월'] = dt_test['계약년월'].map(lambda x : x % 100)\n",
        "del dt_test['계약년월']"
      ]
    },
    {
      "cell_type": "code",
      "execution_count": 55,
      "metadata": {},
      "outputs": [],
      "source": [
        "dt = dt.drop(columns = ['번지', '본번', '부번', '아파트명'])\n",
        "dt_test = dt_test.drop(columns = ['번지', '본번', '부번', '아파트명'])"
      ]
    },
    {
      "cell_type": "code",
      "execution_count": 56,
      "metadata": {},
      "outputs": [],
      "source": [
        "dt.rename(columns={'도로명': 'street'}, inplace=True)\n",
        "dt_test.rename(columns={'도로명': 'street'}, inplace=True)"
      ]
    },
    {
      "cell_type": "code",
      "execution_count": 57,
      "metadata": {},
      "outputs": [],
      "source": [
        "# 언선님이 해준 좌표 작업은 나중에 추가하기\n",
        "# coords = pd.read_csv(\"좌표.csv\")"
      ]
    },
    {
      "cell_type": "code",
      "execution_count": 137,
      "metadata": {},
      "outputs": [],
      "source": [
        "# coords.set_index('street', inplace=True)"
      ]
    },
    {
      "cell_type": "code",
      "execution_count": 138,
      "metadata": {},
      "outputs": [],
      "source": [
        "# for index, row in dt.iterrows():\n",
        "#     if pd.isnull(row['좌표X']) or pd.isnull(row['좌표Y']):\n",
        "#         street = row['street']\n",
        "#         if street in coords.index:\n",
        "#             dt.at[index, '좌표X'] = coords.loc[street, '좌표X']\n",
        "#             dt.at[index, '좌표Y'] = coords.loc[street, '좌표Y']"
      ]
    },
    {
      "cell_type": "code",
      "execution_count": 139,
      "metadata": {},
      "outputs": [],
      "source": [
        "# for index, row in dt_test.iterrows():\n",
        "#     if pd.isnull(row['좌표X']) or pd.isnull(row['좌표Y']):\n",
        "#         street = row['street']\n",
        "#         if street in coords.index:\n",
        "#             dt.at[index, '좌표X'] = coords.loc[street, '좌표X']\n",
        "#             dt.at[index, '좌표Y'] = coords.loc[street, '좌표Y']"
      ]
    },
    {
      "cell_type": "code",
      "execution_count": 140,
      "metadata": {},
      "outputs": [
        {
          "data": {
            "text/plain": [
              "11431"
            ]
          },
          "execution_count": 140,
          "metadata": {},
          "output_type": "execute_result"
        }
      ],
      "source": [
        "# dt['좌표X'].isnull().sum()"
      ]
    },
    {
      "cell_type": "code",
      "execution_count": 141,
      "metadata": {},
      "outputs": [
        {
          "data": {
            "text/plain": [
              "6562"
            ]
          },
          "execution_count": 141,
          "metadata": {},
          "output_type": "execute_result"
        }
      ],
      "source": [
        "# dt_test['좌표X'].isnull().sum()"
      ]
    },
    {
      "cell_type": "code",
      "execution_count": 58,
      "metadata": {},
      "outputs": [],
      "source": [
        "df_interest_rate.rename(columns={'날짜': 'date'}, inplace=True)"
      ]
    },
    {
      "cell_type": "code",
      "execution_count": 59,
      "metadata": {},
      "outputs": [],
      "source": [
        "df_interest_rate['date'] = pd.to_datetime(df_interest_rate['date'])"
      ]
    },
    {
      "cell_type": "code",
      "execution_count": 60,
      "metadata": {},
      "outputs": [],
      "source": [
        "dt[\"date\"] = pd.to_datetime(dt['계약년'].astype(str) + '-' + dt['계약월'].astype(str) + '-' + dt['계약일'].astype(str))\n",
        "dt_test[\"date\"] = pd.to_datetime(dt['계약년'].astype(str) + '-' + dt['계약월'].astype(str) + '-' + dt['계약일'].astype(str))"
      ]
    },
    {
      "cell_type": "code",
      "execution_count": 61,
      "metadata": {},
      "outputs": [],
      "source": [
        "dt_merge = pd.merge(dt, df_interest_rate, on = 'date', how='left')\n",
        "dt_test_merge = pd.merge(dt_test, df_interest_rate, on = 'date', how='left')"
      ]
    },
    {
      "cell_type": "code",
      "execution_count": null,
      "metadata": {},
      "outputs": [],
      "source": []
    },
    {
      "cell_type": "markdown",
      "metadata": {
        "id": "KVjw5Cnz24nz"
      },
      "source": [
        "## 3. Data Preprocessing"
      ]
    },
    {
      "cell_type": "markdown",
      "metadata": {
        "id": "X24Y1OIR2_oa"
      },
      "source": [
        "- 모델링 전에 데이터 내 결측치, 이상치 등을 제거하고 범주형과 연속형 변수를 살펴보도록 하겠습니다!\n",
        "- 먼저, 용이한 전처리를 위해 train과 test data를 합친 하나의 데이터로 진행하도록 하겠습니다."
      ]
    },
    {
      "cell_type": "code",
      "execution_count": 64,
      "metadata": {
        "id": "vltXVoeRhZiI"
      },
      "outputs": [],
      "source": [
        "# train/test 구분을 위한 칼럼을 하나 만들어 줍니다.\n",
        "dt_merge['is_test'] = 0\n",
        "dt_test_merge['is_test'] = 1\n",
        "concat = pd.concat([dt_merge, dt_test_merge])     # 하나의 데이터로 만들어줍니다."
      ]
    },
    {
      "cell_type": "code",
      "execution_count": 65,
      "metadata": {
        "colab": {
          "base_uri": "https://localhost:8080/"
        },
        "id": "e-iZAY9WxQLK",
        "outputId": "ee049806-cb94-4336-f376-6a5c6947f79a"
      },
      "outputs": [
        {
          "data": {
            "text/plain": [
              "0    1118822\n",
              "1       9272\n",
              "Name: is_test, dtype: int64"
            ]
          },
          "execution_count": 65,
          "metadata": {},
          "output_type": "execute_result"
        }
      ],
      "source": [
        "concat['is_test'].value_counts()      # train과 test data가 하나로 합쳐진 것을 확인할 수 있습니다."
      ]
    },
    {
      "cell_type": "markdown",
      "metadata": {
        "id": "jQLCLZYM_vBT"
      },
      "source": [
        "### 3.1. 결측치 탐색 및 보간\n",
        "- 결측치를 처리할 때 많이 쓰는 방법은 삭제(Deletion)과 대체(Imputation) 입니다.\n",
        "- 본 Baseline에서는 결측치가 90% 이상을 차지하는 변수의 결측치는 제거하고, 나머지 결측치는 대체하도록 하겠습니다.\n",
        "  - 연속형 변수의 경우에는 선형보간(Linear interpolation)으로 대체하겠습니다.\n",
        "  - 범주형 변수의 경우에는 'NULL' 이라는 임의의 범주로 대체해주도록 하겠습니다."
      ]
    },
    {
      "cell_type": "markdown",
      "metadata": {
        "id": "e6BUATgqyhOA"
      },
      "source": [
        "- 참고 ✅\n",
        "  - 선형보간(Linear interpolation)이란 두 점의 값이 주어졌을 때 **그 사이의 값**을 추정하기 위해 직선 거리에 따라 선형적으로 계산하는 방법입니다.\n",
        "  - 아래 두개의 붉은 점 사이에 ($x$, $y$) 값을 추정하기 위해, 해당 점이 두 붉은 점을 이은 선형적인 선분에 있다고 가정하고, 단순 비례식으로 ($x$, $y$)를 추정해 보간하는 방법입니다.\n",
        "  - [참고자료](https://ko.wikipedia.org/wiki/%EC%84%A0%ED%98%95_%EB%B3%B4%EA%B0%84%EB%B2%95#:~:text=%EC%84%A0%ED%98%95%20%EB%B3%B4%EA%B0%84%EB%B2%95(%E7%B7%9A%E5%9E%8B%E8%A3%9C%E9%96%93%E6%B3%95,%EC%9C%BC%EB%A1%9C%20%EA%B3%84%EC%82%B0%ED%95%98%EB%8A%94%20%EB%B0%A9%EB%B2%95%EC%9D%B4%EB%8B%A4.)\n"
      ]
    },
    {
      "cell_type": "code",
      "execution_count": 66,
      "metadata": {
        "id": "PSC14w1WZ-5I"
      },
      "outputs": [],
      "source": [
        "# 위 처럼 아무 의미도 갖지 않는 칼럼은 결측치와 같은 역할을 하므로, np.nan으로 채워 결측치로 인식되도록 합니다.\n",
        "concat['등기신청일자'] = concat['등기신청일자'].replace(' ', np.nan)\n",
        "concat['거래유형'] = concat['거래유형'].replace('-', np.nan)\n",
        "concat['중개사소재지'] = concat['중개사소재지'].replace('-', np.nan)"
      ]
    },
    {
      "cell_type": "code",
      "execution_count": 67,
      "metadata": {
        "colab": {
          "base_uri": "https://localhost:8080/"
        },
        "id": "msOiDlOPQ8hS",
        "outputId": "4ab60461-ef7e-4037-e6f4-5de494eed5bd"
      },
      "outputs": [
        {
          "data": {
            "text/plain": [
              "전용면적(㎡)                         0\n",
              "계약일                             0\n",
              "층                               0\n",
              "건축년도                            0\n",
              "street                          0\n",
              "해제사유발생일                   1121899\n",
              "등기신청일자                    1111271\n",
              "거래유형                      1086451\n",
              "중개사소재지                    1090013\n",
              "k-주거전용면적                   876170\n",
              "k-전용면적별세대현황(60㎡이하)         876170\n",
              "k-전용면적별세대현황(60㎡~85㎡이하)     876170\n",
              "k-85㎡~135㎡이하               876170\n",
              "k-수정일자                     876170\n",
              "고용보험관리번호                   920757\n",
              "경비비관리형태                    877561\n",
              "세대전기계약방법                   885389\n",
              "청소비관리형태                    877751\n",
              "건축면적                       876279\n",
              "주차대수                       876277\n",
              "기타/의무/임대/임의=1/2/3/4        876125\n",
              "단지승인일                      876854\n",
              "사용허가여부                     876125\n",
              "관리비 업로드                    876125\n",
              "좌표X                        876232\n",
              "좌표Y                        876232\n",
              "단지신청일                      876187\n",
              "target                       9272\n",
              "is_public                       0\n",
              "구                               0\n",
              "동                               0\n",
              "계약년                             0\n",
              "계약월                             0\n",
              "date                            0\n",
              "기준금리                            0\n",
              "is_test                         0\n",
              "dtype: int64"
            ]
          },
          "execution_count": 67,
          "metadata": {},
          "output_type": "execute_result"
        }
      ],
      "source": [
        "# EDA에 앞서 결측치를 확인해보겠습니다.\n",
        "concat.isnull().sum()"
      ]
    },
    {
      "cell_type": "markdown",
      "metadata": {
        "id": "yLNXVw1dysm-"
      },
      "source": [
        "- 위 그래프에서 볼 수 있다시피 결측치가 100만개 이상인 칼럼들은 결측치가 해당 칼럼의 element 중 90% 이상을 차지하는 상황이 됩니다.\n",
        "- 따라서 본 Baseline 에서는 이 칼럼은 예측에 도움이 되지 않는다고 판단해 삭제해주도록 하겠습니다."
      ]
    },
    {
      "cell_type": "code",
      "execution_count": 68,
      "metadata": {},
      "outputs": [],
      "source": [
        "# 위에서 결측치가 100만개 이하인 변수들만 골라 새로운 concat_select 객체로 저장해줍니다.\n",
        "selected = list(concat.columns[concat.isnull().sum() <= 1000000])\n",
        "concat_select = concat[selected]"
      ]
    },
    {
      "cell_type": "code",
      "execution_count": 69,
      "metadata": {
        "colab": {
          "base_uri": "https://localhost:8080/"
        },
        "id": "cOvWhZncQrO_",
        "outputId": "f73f7b51-b5dc-4635-ad5c-6a9eaa5ef1a0"
      },
      "outputs": [
        {
          "data": {
            "text/plain": [
              "전용면적(㎡)                        0\n",
              "계약일                            0\n",
              "층                              0\n",
              "건축년도                           0\n",
              "street                         0\n",
              "k-주거전용면적                  876170\n",
              "k-전용면적별세대현황(60㎡이하)        876170\n",
              "k-전용면적별세대현황(60㎡~85㎡이하)    876170\n",
              "k-85㎡~135㎡이하              876170\n",
              "k-수정일자                    876170\n",
              "고용보험관리번호                  920757\n",
              "경비비관리형태                   877561\n",
              "세대전기계약방법                  885389\n",
              "청소비관리형태                   877751\n",
              "건축면적                      876279\n",
              "주차대수                      876277\n",
              "기타/의무/임대/임의=1/2/3/4       876125\n",
              "단지승인일                     876854\n",
              "사용허가여부                    876125\n",
              "관리비 업로드                   876125\n",
              "좌표X                       876232\n",
              "좌표Y                       876232\n",
              "단지신청일                     876187\n",
              "target                      9272\n",
              "is_public                      0\n",
              "구                              0\n",
              "동                              0\n",
              "계약년                            0\n",
              "계약월                            0\n",
              "date                           0\n",
              "기준금리                           0\n",
              "is_test                        0\n",
              "dtype: int64"
            ]
          },
          "execution_count": 69,
          "metadata": {},
          "output_type": "execute_result"
        }
      ],
      "source": [
        "concat_select.isnull().sum()     # 결측치가 100만개 초과인 칼럼이 제거된 모습은 아래와 같습니다.\n",
        "# target변수는 test dataset 개수만큼(9272) 결측치가 존재함을 확인할 수 있습니다."
      ]
    },
    {
      "cell_type": "code",
      "execution_count": 70,
      "metadata": {
        "colab": {
          "base_uri": "https://localhost:8080/"
        },
        "id": "OAtKbkR3zTtR",
        "outputId": "5b161b68-f329-4e3a-eaf2-3d076f7f19c7"
      },
      "outputs": [
        {
          "name": "stdout",
          "output_type": "stream",
          "text": [
            "<class 'pandas.core.frame.DataFrame'>\n",
            "Int64Index: 1128094 entries, 0 to 9271\n",
            "Data columns (total 32 columns):\n",
            " #   Column                  Non-Null Count    Dtype         \n",
            "---  ------                  --------------    -----         \n",
            " 0   전용면적(㎡)                 1128094 non-null  float64       \n",
            " 1   계약일                     1128094 non-null  int64         \n",
            " 2   층                       1128094 non-null  int64         \n",
            " 3   건축년도                    1128094 non-null  int64         \n",
            " 4   street                  1128094 non-null  object        \n",
            " 5   k-주거전용면적                251924 non-null   float64       \n",
            " 6   k-전용면적별세대현황(60㎡이하)      251924 non-null   float64       \n",
            " 7   k-전용면적별세대현황(60㎡~85㎡이하)  251924 non-null   float64       \n",
            " 8   k-85㎡~135㎡이하            251924 non-null   float64       \n",
            " 9   k-수정일자                  251924 non-null   object        \n",
            " 10  고용보험관리번호                207337 non-null   object        \n",
            " 11  경비비관리형태                 250533 non-null   object        \n",
            " 12  세대전기계약방법                242705 non-null   object        \n",
            " 13  청소비관리형태                 250343 non-null   object        \n",
            " 14  건축면적                    251815 non-null   float64       \n",
            " 15  주차대수                    251817 non-null   float64       \n",
            " 16  기타/의무/임대/임의=1/2/3/4     251969 non-null   object        \n",
            " 17  단지승인일                   251240 non-null   object        \n",
            " 18  사용허가여부                  251969 non-null   object        \n",
            " 19  관리비 업로드                 251969 non-null   object        \n",
            " 20  좌표X                     251862 non-null   float64       \n",
            " 21  좌표Y                     251862 non-null   float64       \n",
            " 22  단지신청일                   251907 non-null   object        \n",
            " 23  target                  1118822 non-null  float64       \n",
            " 24  is_public               1128094 non-null  bool          \n",
            " 25  구                       1128094 non-null  object        \n",
            " 26  동                       1128094 non-null  object        \n",
            " 27  계약년                     1128094 non-null  int64         \n",
            " 28  계약월                     1128094 non-null  int64         \n",
            " 29  date                    1128094 non-null  datetime64[ns]\n",
            " 30  기준금리                    1128094 non-null  float64       \n",
            " 31  is_test                 1128094 non-null  int64         \n",
            "dtypes: bool(1), datetime64[ns](1), float64(11), int64(6), object(13)\n",
            "memory usage: 276.5+ MB\n"
          ]
        }
      ],
      "source": [
        "# 연속형 변수는 선형보간을 해주고, 범주형변수는 알수없기에 “unknown”이라고 임의로 보간해 주겠습니다.\n",
        "concat_select.info()"
      ]
    },
    {
      "cell_type": "code",
      "execution_count": 71,
      "metadata": {},
      "outputs": [
        {
          "data": {
            "text/plain": [
              "Index(['전용면적(㎡)', '계약일', '층', '건축년도', 'street', 'k-주거전용면적',\n",
              "       'k-전용면적별세대현황(60㎡이하)', 'k-전용면적별세대현황(60㎡~85㎡이하)', 'k-85㎡~135㎡이하',\n",
              "       'k-수정일자', '고용보험관리번호', '경비비관리형태', '세대전기계약방법', '청소비관리형태', '건축면적', '주차대수',\n",
              "       '기타/의무/임대/임의=1/2/3/4', '단지승인일', '사용허가여부', '관리비 업로드', '좌표X', '좌표Y',\n",
              "       '단지신청일', 'target', 'is_public', '구', '동', '계약년', '계약월', 'date', '기준금리',\n",
              "       'is_test'],\n",
              "      dtype='object')"
            ]
          },
          "execution_count": 71,
          "metadata": {},
          "output_type": "execute_result"
        }
      ],
      "source": [
        "concat_select.columns"
      ]
    },
    {
      "cell_type": "code",
      "execution_count": 72,
      "metadata": {
        "colab": {
          "base_uri": "https://localhost:8080/"
        },
        "id": "wVdU-Ge00OGM",
        "outputId": "6bd1a10a-689a-46ef-c0af-c879be59f715"
      },
      "outputs": [],
      "source": [
        "# 먼저, 연속형 변수와 범주형 변수를 위 info에 따라 분리해주겠습니다.\n",
        "continuous_columns = []\n",
        "categorical_columns = []\n",
        "\n",
        "for column in concat_select.columns:\n",
        "    if pd.api.types.is_numeric_dtype(concat_select[column]):\n",
        "        continuous_columns.append(column)\n",
        "    else:\n",
        "        categorical_columns.append(column)"
      ]
    },
    {
      "cell_type": "markdown",
      "metadata": {
        "id": "pVtoElzZ5Y_z"
      },
      "source": [
        "- 연속형 변수와 범주형 변수가 알맞게 나누어졌는지 확인해보고, 이제 각각 보간을 진행합니다."
      ]
    },
    {
      "cell_type": "code",
      "execution_count": 73,
      "metadata": {
        "id": "193c8GTdzzOX"
      },
      "outputs": [],
      "source": [
        "# 범주형 변수에 대한 보간\n",
        "concat_select[categorical_columns] = concat_select[categorical_columns].fillna('NULL')\n",
        "\n",
        "# 연속형 변수에 대한 보간 (선형 보간)\n",
        "concat_select[continuous_columns] = concat_select[continuous_columns].interpolate(method='linear', axis=0)"
      ]
    },
    {
      "cell_type": "code",
      "execution_count": 74,
      "metadata": {
        "colab": {
          "base_uri": "https://localhost:8080/"
        },
        "id": "tTJHspKl0mhM",
        "outputId": "d212330d-6c07-4b68-cc0f-d626eb733bc9"
      },
      "outputs": [
        {
          "data": {
            "text/plain": [
              "전용면적(㎡)                   0\n",
              "계약일                       0\n",
              "층                         0\n",
              "건축년도                      0\n",
              "street                    0\n",
              "k-주거전용면적                  0\n",
              "k-전용면적별세대현황(60㎡이하)        0\n",
              "k-전용면적별세대현황(60㎡~85㎡이하)    0\n",
              "k-85㎡~135㎡이하              0\n",
              "k-수정일자                    0\n",
              "고용보험관리번호                  0\n",
              "경비비관리형태                   0\n",
              "세대전기계약방법                  0\n",
              "청소비관리형태                   0\n",
              "건축면적                      0\n",
              "주차대수                      0\n",
              "기타/의무/임대/임의=1/2/3/4       0\n",
              "단지승인일                     0\n",
              "사용허가여부                    0\n",
              "관리비 업로드                   0\n",
              "좌표X                       0\n",
              "좌표Y                       0\n",
              "단지신청일                     0\n",
              "target                    0\n",
              "is_public                 0\n",
              "구                         0\n",
              "동                         0\n",
              "계약년                       0\n",
              "계약월                       0\n",
              "date                      0\n",
              "기준금리                      0\n",
              "is_test                   0\n",
              "dtype: int64"
            ]
          },
          "execution_count": 74,
          "metadata": {},
          "output_type": "execute_result"
        }
      ],
      "source": [
        "concat_select.isnull().sum()         # 결측치가 보간된 모습을 확인해봅니다."
      ]
    },
    {
      "cell_type": "markdown",
      "metadata": {
        "id": "4fU1E4SUafVU"
      },
      "source": [
        "- Baseline에서는 단순 결측치들을 제거하거나 보간했지만,\n",
        "EDA를 통해 변수들의 흐름을 조금 더 파악하고 더 나은 interpolation 등의 방법을 고려해볼 수 있을 것 같습니다."
      ]
    },
    {
      "cell_type": "markdown",
      "metadata": {
        "id": "zPm7QkS03RCZ"
      },
      "source": [
        "### 3.2. 이상치 처리\n",
        "- 이번엔 이상치를 처리해봅시다.\n",
        "- 이상치를 처리하는 방법은 IQR, Z-score 등 다양한 방법이 있습니다. 가장 쉽고 직관적으로 접근하는 방법은 기본 통계치를 이용하는 것입니다.\n",
        "- 본 baseline에서는 IQR를 이용한 방법을 사용하겠습니다."
      ]
    },
    {
      "cell_type": "code",
      "execution_count": 237,
      "metadata": {
        "colab": {
          "base_uri": "https://localhost:8080/"
        },
        "id": "t7omvXsd9GP1",
        "outputId": "83808c7b-df9a-46ee-d86a-966e7eff3248"
      },
      "outputs": [
        {
          "name": "stdout",
          "output_type": "stream",
          "text": [
            "(1128094, 35)\n"
          ]
        }
      ],
      "source": [
        "# # 이상치 제거 이전의 shape은 아래와 같습니다.\n",
        "# print(concat_select.shape)"
      ]
    },
    {
      "cell_type": "code",
      "execution_count": 238,
      "metadata": {
        "id": "fOCSdvBd8GJq"
      },
      "outputs": [],
      "source": [
        "# # 이상치 제거 방법에는 IQR을 이용하겠습니다.\n",
        "# def remove_outliers_iqr(dt, column_name):\n",
        "#     df = dt.query('is_test == 0')       # train data 내에 있는 이상치만 제거하도록 하겠습니다.\n",
        "#     df_test = dt.query('is_test == 1')\n",
        "\n",
        "#     Q1 = df[column_name].quantile(0.25)\n",
        "#     Q3 = df[column_name].quantile(0.75)\n",
        "#     IQR = Q3 - Q1\n",
        "\n",
        "#     lower_bound = Q1 - 1.5 * IQR\n",
        "#     upper_bound = Q3 + 1.5 * IQR\n",
        "\n",
        "#     df = df[(df[column_name] >= lower_bound) & (df[column_name] <= upper_bound)]\n",
        "\n",
        "#     result = pd.concat([df, df_test])   # test data와 다시 합쳐주겠습니다.\n",
        "#     return result"
      ]
    },
    {
      "cell_type": "code",
      "execution_count": 239,
      "metadata": {
        "id": "F_GJQBVX8AH9"
      },
      "outputs": [],
      "source": [
        "# # 위 방법으로 전용 면적에 대한 이상치를 제거해보겠습니다.\n",
        "# concat_select = remove_outliers_iqr(concat_select, '전용면적(㎡)')"
      ]
    },
    {
      "cell_type": "code",
      "execution_count": 240,
      "metadata": {
        "colab": {
          "base_uri": "https://localhost:8080/"
        },
        "id": "iBwwOd5t8qbj",
        "outputId": "54409d2d-84cd-4ad3-cb4f-cbe3b71bdfbd"
      },
      "outputs": [],
      "source": [
        "# # 이상치 제거 후의 shape은 아래와 같습니다. 약 10만개의 데이터가 제거된 모습을 확인할 수 있습니다.\n",
        "# print(concat_select.shape)"
      ]
    },
    {
      "cell_type": "markdown",
      "metadata": {
        "id": "9QxCTz0zJg0F"
      },
      "source": [
        "## 4. Feature Engineering\n",
        "- 이제 파생변수를 만들어보도록 하겠습니다.\n",
        "- 파생 변수는 도메인 지식에 기반해 제작하는 것이 중요합니다.\n",
        "- 주택의 가격을 예측하는 문제이기 때문에 약간의 부동산 지식을 기반으로 파생 변수를 만들어 보도록 하겠습니다."
      ]
    },
    {
      "cell_type": "code",
      "execution_count": 75,
      "metadata": {},
      "outputs": [
        {
          "data": {
            "text/plain": [
              "Index(['전용면적(㎡)', '계약일', '층', '건축년도', 'street', 'k-주거전용면적',\n",
              "       'k-전용면적별세대현황(60㎡이하)', 'k-전용면적별세대현황(60㎡~85㎡이하)', 'k-85㎡~135㎡이하',\n",
              "       'k-수정일자', '고용보험관리번호', '경비비관리형태', '세대전기계약방법', '청소비관리형태', '건축면적', '주차대수',\n",
              "       '기타/의무/임대/임의=1/2/3/4', '단지승인일', '사용허가여부', '관리비 업로드', '좌표X', '좌표Y',\n",
              "       '단지신청일', 'target', 'is_public', '구', '동', '계약년', '계약월', 'date', '기준금리',\n",
              "       'is_test'],\n",
              "      dtype='object')"
            ]
          },
          "execution_count": 75,
          "metadata": {},
          "output_type": "execute_result"
        }
      ],
      "source": [
        "concat_select.columns"
      ]
    },
    {
      "cell_type": "markdown",
      "metadata": {
        "id": "zwtVsbS5-0SL"
      },
      "source": [
        "- 서울의 집값은 강남, 강북 여부에 따라 차이가 많이 난다는 사실은 많이 알려진 사실입니다.\n",
        "- 따라서 강남/강북의 여부에 따라 파생변수를 생성해주도록 하겠습니다."
      ]
    },
    {
      "cell_type": "code",
      "execution_count": 76,
      "metadata": {},
      "outputs": [],
      "source": [
        "order1_mean_gu = mean_val_by_gu.index.tolist()\n",
        "order2_mean_dong = mean_val_by_dong.index.tolist()\n",
        "order3_std_gu = std_val_by_gu.index.tolist()\n",
        "order4_std_dong = std_val_by_dong.index.tolist()"
      ]
    },
    {
      "cell_type": "code",
      "execution_count": 77,
      "metadata": {},
      "outputs": [],
      "source": [
        "# Create a dictionary to map district names to their corresponding label encoded values\n",
        "gu_mapping1 = {district: label for label, district in enumerate(order1_mean_gu)}"
      ]
    },
    {
      "cell_type": "code",
      "execution_count": 78,
      "metadata": {},
      "outputs": [],
      "source": [
        "gu_mapping2 = {district: label for label, district in enumerate(order3_std_gu)}"
      ]
    },
    {
      "cell_type": "code",
      "execution_count": 79,
      "metadata": {},
      "outputs": [],
      "source": [
        "dong_mapping1 = {dong: label for label, dong in enumerate(order2_mean_dong)}"
      ]
    },
    {
      "cell_type": "code",
      "execution_count": 80,
      "metadata": {},
      "outputs": [],
      "source": [
        "dong_mapping2 = {dong: label for label, dong in enumerate(order4_std_dong)}"
      ]
    },
    {
      "cell_type": "code",
      "execution_count": 81,
      "metadata": {},
      "outputs": [],
      "source": [
        "concat_select['구_encoded'] = concat_select[\"구\"].map(gu_mapping1)"
      ]
    },
    {
      "cell_type": "code",
      "execution_count": 82,
      "metadata": {},
      "outputs": [],
      "source": [
        "concat_select['구_std'] = concat_select[\"구\"].map(gu_mapping2)"
      ]
    },
    {
      "cell_type": "code",
      "execution_count": 83,
      "metadata": {},
      "outputs": [],
      "source": [
        "concat_select['동_encoded'] = concat_select[\"동\"].map(dong_mapping1)"
      ]
    },
    {
      "cell_type": "code",
      "execution_count": 84,
      "metadata": {},
      "outputs": [],
      "source": [
        "concat_select['동_std'] = concat_select[\"동\"].map(dong_mapping2)"
      ]
    },
    {
      "cell_type": "code",
      "execution_count": 86,
      "metadata": {},
      "outputs": [],
      "source": [
        "seoul_bds = [\"강남구\", \"영등포구\", \"용산구\"]"
      ]
    },
    {
      "cell_type": "code",
      "execution_count": 89,
      "metadata": {},
      "outputs": [],
      "source": [
        "concat_select[\"has_bds\"] = concat_select[\"구\"].apply(lambda x : 1 if x in seoul_bds else 0)"
      ]
    },
    {
      "cell_type": "code",
      "execution_count": 100,
      "metadata": {},
      "outputs": [
        {
          "data": {
            "text/plain": [
              "Index(['전용면적(㎡)', '계약일', '층', '건축년도', 'street', 'k-주거전용면적',\n",
              "       'k-전용면적별세대현황(60㎡이하)', 'k-전용면적별세대현황(60㎡~85㎡이하)', 'k-85㎡~135㎡이하',\n",
              "       'k-수정일자', '고용보험관리번호', '경비비관리형태', '세대전기계약방법', '청소비관리형태', '건축면적', '주차대수',\n",
              "       '기타/의무/임대/임의=1/2/3/4', '단지승인일', '사용허가여부', '관리비 업로드', '좌표X', '좌표Y',\n",
              "       '단지신청일', 'target', 'is_public', '구', '동', '계약년', '계약월', 'date', '기준금리',\n",
              "       'is_test', '구_encoded', '구_std', '동_encoded', '동_std', 'has_bds'],\n",
              "      dtype='object')"
            ]
          },
          "execution_count": 100,
          "metadata": {},
          "output_type": "execute_result"
        }
      ],
      "source": [
        "concat_select.columns"
      ]
    },
    {
      "cell_type": "markdown",
      "metadata": {},
      "source": [
        "### add 구별 특성"
      ]
    },
    {
      "cell_type": "code",
      "execution_count": 92,
      "metadata": {},
      "outputs": [],
      "source": [
        "df_zones_original = pd.read_csv(\"./extra_data/2022년_도시계획현황통계_용도지역(시군구별)_서울시.CSV\", encoding='euc-kr', skiprows=1)"
      ]
    },
    {
      "cell_type": "code",
      "execution_count": 93,
      "metadata": {},
      "outputs": [],
      "source": [
        "df_zones_original = df_zones_original.dropna()"
      ]
    },
    {
      "cell_type": "code",
      "execution_count": 94,
      "metadata": {},
      "outputs": [
        {
          "data": {
            "text/plain": [
              "Index(['시군구', '도시지역 면적', '주거지역_소계', '주거지역_비율', '주거지역_전용주거_소계 ', '주거지역_1종_전용주거',\n",
              "       '주거지역_2종_전용주거', '주거지역_일반주거지역_소계 ', '주거지역_1종일반주거', '주거지역_2종일반주거',\n",
              "       '주거지역_3종일반주거', '주거지역_준주거지역', '상업지역_소계', '상업지역_비율', '상업지역_중심상업',\n",
              "       '상업지역_일반상업', '상업지역_근린상업 ', '상업지역_유통상업', '공업지역_소계', '공업지역_비율',\n",
              "       '공업지역_전용공업', '공업지역_일반공업', '공업지역_준공업', '녹지지역_소계', '녹지지역_비율', '녹지지역_보전녹지',\n",
              "       '녹지지역_자연녹지', '녹지지역_생산녹지'],\n",
              "      dtype='object')"
            ]
          },
          "execution_count": 94,
          "metadata": {},
          "output_type": "execute_result"
        }
      ],
      "source": [
        "df_zones_original.columns"
      ]
    },
    {
      "cell_type": "code",
      "execution_count": 97,
      "metadata": {},
      "outputs": [],
      "source": [
        "df_zone_ratio = df_zones_original[['시군구', '주거지역_비율', '상업지역_비율', '공업지역_비율', '녹지지역_비율']]"
      ]
    },
    {
      "cell_type": "code",
      "execution_count": 101,
      "metadata": {},
      "outputs": [],
      "source": [
        "df_zone_ratio.rename(columns={'시군구': '구'}, inplace=True)"
      ]
    },
    {
      "cell_type": "code",
      "execution_count": 102,
      "metadata": {},
      "outputs": [
        {
          "data": {
            "text/html": [
              "<div>\n",
              "<style scoped>\n",
              "    .dataframe tbody tr th:only-of-type {\n",
              "        vertical-align: middle;\n",
              "    }\n",
              "\n",
              "    .dataframe tbody tr th {\n",
              "        vertical-align: top;\n",
              "    }\n",
              "\n",
              "    .dataframe thead th {\n",
              "        text-align: right;\n",
              "    }\n",
              "</style>\n",
              "<table border=\"1\" class=\"dataframe\">\n",
              "  <thead>\n",
              "    <tr style=\"text-align: right;\">\n",
              "      <th></th>\n",
              "      <th>구</th>\n",
              "      <th>주거지역_비율</th>\n",
              "      <th>상업지역_비율</th>\n",
              "      <th>공업지역_비율</th>\n",
              "      <th>녹지지역_비율</th>\n",
              "    </tr>\n",
              "  </thead>\n",
              "  <tbody>\n",
              "    <tr>\n",
              "      <th>0</th>\n",
              "      <td>종로구</td>\n",
              "      <td>41.01</td>\n",
              "      <td>12.25</td>\n",
              "      <td>0.00</td>\n",
              "      <td>46.74</td>\n",
              "    </tr>\n",
              "    <tr>\n",
              "      <th>1</th>\n",
              "      <td>중구</td>\n",
              "      <td>60.24</td>\n",
              "      <td>39.51</td>\n",
              "      <td>0.00</td>\n",
              "      <td>0.25</td>\n",
              "    </tr>\n",
              "    <tr>\n",
              "      <th>2</th>\n",
              "      <td>용산구</td>\n",
              "      <td>52.17</td>\n",
              "      <td>7.18</td>\n",
              "      <td>0.00</td>\n",
              "      <td>40.64</td>\n",
              "    </tr>\n",
              "    <tr>\n",
              "      <th>3</th>\n",
              "      <td>성동구</td>\n",
              "      <td>59.20</td>\n",
              "      <td>2.82</td>\n",
              "      <td>12.21</td>\n",
              "      <td>25.78</td>\n",
              "    </tr>\n",
              "    <tr>\n",
              "      <th>4</th>\n",
              "      <td>광진구</td>\n",
              "      <td>67.90</td>\n",
              "      <td>1.21</td>\n",
              "      <td>0.00</td>\n",
              "      <td>30.89</td>\n",
              "    </tr>\n",
              "    <tr>\n",
              "      <th>5</th>\n",
              "      <td>동대문구</td>\n",
              "      <td>91.49</td>\n",
              "      <td>5.82</td>\n",
              "      <td>0.00</td>\n",
              "      <td>2.69</td>\n",
              "    </tr>\n",
              "    <tr>\n",
              "      <th>6</th>\n",
              "      <td>중랑구</td>\n",
              "      <td>58.40</td>\n",
              "      <td>1.93</td>\n",
              "      <td>0.00</td>\n",
              "      <td>39.67</td>\n",
              "    </tr>\n",
              "    <tr>\n",
              "      <th>7</th>\n",
              "      <td>성북구</td>\n",
              "      <td>72.25</td>\n",
              "      <td>1.63</td>\n",
              "      <td>0.00</td>\n",
              "      <td>26.13</td>\n",
              "    </tr>\n",
              "    <tr>\n",
              "      <th>8</th>\n",
              "      <td>강북구</td>\n",
              "      <td>46.11</td>\n",
              "      <td>1.15</td>\n",
              "      <td>0.00</td>\n",
              "      <td>52.74</td>\n",
              "    </tr>\n",
              "    <tr>\n",
              "      <th>9</th>\n",
              "      <td>도봉구</td>\n",
              "      <td>41.81</td>\n",
              "      <td>1.29</td>\n",
              "      <td>7.07</td>\n",
              "      <td>49.83</td>\n",
              "    </tr>\n",
              "    <tr>\n",
              "      <th>10</th>\n",
              "      <td>노원구</td>\n",
              "      <td>39.15</td>\n",
              "      <td>1.69</td>\n",
              "      <td>0.00</td>\n",
              "      <td>59.16</td>\n",
              "    </tr>\n",
              "    <tr>\n",
              "      <th>11</th>\n",
              "      <td>은평구</td>\n",
              "      <td>51.62</td>\n",
              "      <td>1.71</td>\n",
              "      <td>0.00</td>\n",
              "      <td>46.67</td>\n",
              "    </tr>\n",
              "    <tr>\n",
              "      <th>12</th>\n",
              "      <td>서대문구</td>\n",
              "      <td>87.30</td>\n",
              "      <td>1.60</td>\n",
              "      <td>0.00</td>\n",
              "      <td>11.10</td>\n",
              "    </tr>\n",
              "    <tr>\n",
              "      <th>13</th>\n",
              "      <td>마포구</td>\n",
              "      <td>56.04</td>\n",
              "      <td>3.94</td>\n",
              "      <td>0.00</td>\n",
              "      <td>40.03</td>\n",
              "    </tr>\n",
              "    <tr>\n",
              "      <th>14</th>\n",
              "      <td>양천구</td>\n",
              "      <td>71.76</td>\n",
              "      <td>4.56</td>\n",
              "      <td>0.53</td>\n",
              "      <td>23.14</td>\n",
              "    </tr>\n",
              "    <tr>\n",
              "      <th>15</th>\n",
              "      <td>강서구</td>\n",
              "      <td>35.50</td>\n",
              "      <td>3.19</td>\n",
              "      <td>7.04</td>\n",
              "      <td>54.27</td>\n",
              "    </tr>\n",
              "    <tr>\n",
              "      <th>16</th>\n",
              "      <td>구로구</td>\n",
              "      <td>51.00</td>\n",
              "      <td>2.55</td>\n",
              "      <td>20.84</td>\n",
              "      <td>25.61</td>\n",
              "    </tr>\n",
              "    <tr>\n",
              "      <th>17</th>\n",
              "      <td>금천구</td>\n",
              "      <td>44.92</td>\n",
              "      <td>1.15</td>\n",
              "      <td>31.68</td>\n",
              "      <td>22.25</td>\n",
              "    </tr>\n",
              "    <tr>\n",
              "      <th>18</th>\n",
              "      <td>영등포구</td>\n",
              "      <td>32.89</td>\n",
              "      <td>10.72</td>\n",
              "      <td>20.63</td>\n",
              "      <td>35.76</td>\n",
              "    </tr>\n",
              "    <tr>\n",
              "      <th>19</th>\n",
              "      <td>동작구</td>\n",
              "      <td>84.11</td>\n",
              "      <td>2.16</td>\n",
              "      <td>0.00</td>\n",
              "      <td>13.73</td>\n",
              "    </tr>\n",
              "    <tr>\n",
              "      <th>20</th>\n",
              "      <td>관악구</td>\n",
              "      <td>51.83</td>\n",
              "      <td>1.34</td>\n",
              "      <td>0.00</td>\n",
              "      <td>46.83</td>\n",
              "    </tr>\n",
              "    <tr>\n",
              "      <th>21</th>\n",
              "      <td>서초구</td>\n",
              "      <td>40.53</td>\n",
              "      <td>2.84</td>\n",
              "      <td>0.00</td>\n",
              "      <td>56.63</td>\n",
              "    </tr>\n",
              "    <tr>\n",
              "      <th>22</th>\n",
              "      <td>강남구</td>\n",
              "      <td>61.24</td>\n",
              "      <td>4.25</td>\n",
              "      <td>0.00</td>\n",
              "      <td>34.51</td>\n",
              "    </tr>\n",
              "    <tr>\n",
              "      <th>23</th>\n",
              "      <td>송파구</td>\n",
              "      <td>63.27</td>\n",
              "      <td>6.98</td>\n",
              "      <td>0.00</td>\n",
              "      <td>29.75</td>\n",
              "    </tr>\n",
              "    <tr>\n",
              "      <th>24</th>\n",
              "      <td>강동구</td>\n",
              "      <td>52.74</td>\n",
              "      <td>2.83</td>\n",
              "      <td>0.32</td>\n",
              "      <td>44.11</td>\n",
              "    </tr>\n",
              "  </tbody>\n",
              "</table>\n",
              "</div>"
            ],
            "text/plain": [
              "       구  주거지역_비율  상업지역_비율  공업지역_비율  녹지지역_비율\n",
              "0    종로구    41.01    12.25     0.00    46.74\n",
              "1     중구    60.24    39.51     0.00     0.25\n",
              "2    용산구    52.17     7.18     0.00    40.64\n",
              "3    성동구    59.20     2.82    12.21    25.78\n",
              "4    광진구    67.90     1.21     0.00    30.89\n",
              "5   동대문구    91.49     5.82     0.00     2.69\n",
              "6    중랑구    58.40     1.93     0.00    39.67\n",
              "7    성북구    72.25     1.63     0.00    26.13\n",
              "8    강북구    46.11     1.15     0.00    52.74\n",
              "9    도봉구    41.81     1.29     7.07    49.83\n",
              "10   노원구    39.15     1.69     0.00    59.16\n",
              "11   은평구    51.62     1.71     0.00    46.67\n",
              "12  서대문구    87.30     1.60     0.00    11.10\n",
              "13   마포구    56.04     3.94     0.00    40.03\n",
              "14   양천구    71.76     4.56     0.53    23.14\n",
              "15   강서구    35.50     3.19     7.04    54.27\n",
              "16   구로구    51.00     2.55    20.84    25.61\n",
              "17   금천구    44.92     1.15    31.68    22.25\n",
              "18  영등포구    32.89    10.72    20.63    35.76\n",
              "19   동작구    84.11     2.16     0.00    13.73\n",
              "20   관악구    51.83     1.34     0.00    46.83\n",
              "21   서초구    40.53     2.84     0.00    56.63\n",
              "22   강남구    61.24     4.25     0.00    34.51\n",
              "23   송파구    63.27     6.98     0.00    29.75\n",
              "24   강동구    52.74     2.83     0.32    44.11"
            ]
          },
          "execution_count": 102,
          "metadata": {},
          "output_type": "execute_result"
        }
      ],
      "source": [
        "df_zone_ratio"
      ]
    },
    {
      "cell_type": "code",
      "execution_count": 103,
      "metadata": {},
      "outputs": [],
      "source": [
        "concat_select_merge = pd.merge(left=concat_select, right=df_zone_ratio, on='구', how='left')"
      ]
    },
    {
      "cell_type": "code",
      "execution_count": 105,
      "metadata": {},
      "outputs": [],
      "source": [
        "concat_select = concat_select_merge"
      ]
    },
    {
      "cell_type": "markdown",
      "metadata": {
        "id": "7zUmQubaAbKJ"
      },
      "source": [
        "- 또한 신축인지, 구축인지의 여부도 실거래가에 큰 영향을 줄 수 있습니다.\n",
        "- 따라서 건축년도에 따라 파생변수를 제작해주도록 하겠습니다."
      ]
    },
    {
      "cell_type": "code",
      "execution_count": 107,
      "metadata": {
        "colab": {
          "base_uri": "https://localhost:8080/"
        },
        "id": "_NcBva7dAVBq",
        "outputId": "9796e4f8-8f8f-4e0c-9fb2-9757ad6e0f3b"
      },
      "outputs": [
        {
          "data": {
            "text/plain": [
              "count    1.128094e+06\n",
              "mean     1.998791e+03\n",
              "std      9.358540e+00\n",
              "min      1.961000e+03\n",
              "10%      1.986000e+03\n",
              "25%      1.992000e+03\n",
              "50%      2.000000e+03\n",
              "75%      2.005000e+03\n",
              "80%      2.006000e+03\n",
              "90%      2.010000e+03\n",
              "max      2.023000e+03\n",
              "Name: 건축년도, dtype: float64"
            ]
          },
          "execution_count": 107,
          "metadata": {},
          "output_type": "execute_result"
        }
      ],
      "source": [
        "# 건축년도 분포는 아래와 같습니다. 특히 2005년이 Q3에 해당합니다.\n",
        "# 2009년 이후에 지어진 건물은 10%정도 되는 것을 확인할 수 있습니다.\n",
        "concat_select['건축년도'].describe(percentiles = [0.1, 0.25, 0.5, 0.75, 0.8, 0.9])"
      ]
    },
    {
      "cell_type": "code",
      "execution_count": 108,
      "metadata": {},
      "outputs": [],
      "source": [
        "concat_select['yrs_diff_built_contract'] = concat_select['계약년'] - concat_select['건축년도']"
      ]
    },
    {
      "cell_type": "code",
      "execution_count": 109,
      "metadata": {},
      "outputs": [],
      "source": [
        "concat_select['built_in3yrs'] = concat_select['yrs_diff_built_contract'].apply(lambda x : 1 if x <= 3 else 0)"
      ]
    },
    {
      "cell_type": "code",
      "execution_count": 110,
      "metadata": {},
      "outputs": [],
      "source": [
        "concat_select['built_in5yrs'] = concat_select['yrs_diff_built_contract'].apply(lambda x : 1 if x <= 5 else 0)"
      ]
    },
    {
      "cell_type": "code",
      "execution_count": 111,
      "metadata": {},
      "outputs": [],
      "source": [
        "concat_select['built_over30yrs'] = concat_select['yrs_diff_built_contract'].apply(lambda x : 1 if x >= 30 else 0)"
      ]
    },
    {
      "cell_type": "code",
      "execution_count": 112,
      "metadata": {},
      "outputs": [],
      "source": [
        "concat_select['built_over35yrs'] = concat_select['yrs_diff_built_contract'].apply(lambda x : 1 if x >= 35 else 0)"
      ]
    },
    {
      "cell_type": "code",
      "execution_count": 113,
      "metadata": {},
      "outputs": [],
      "source": [
        "concat_select['built_over40yrs'] = concat_select['yrs_diff_built_contract'].apply(lambda x : 1 if x >= 40 else 0)"
      ]
    },
    {
      "cell_type": "code",
      "execution_count": 114,
      "metadata": {},
      "outputs": [],
      "source": [
        "concat_select['road'] = concat_select['street'].apply(lambda x : x.split()[0] if len(x.split()) > 0 else x)"
      ]
    },
    {
      "cell_type": "code",
      "execution_count": 115,
      "metadata": {},
      "outputs": [],
      "source": [
        "concat_select['on_main_st'] = concat_select['road'].apply(lambda x: not any(char.isdigit() for char in x))\n",
        "del concat_select['road']"
      ]
    },
    {
      "cell_type": "code",
      "execution_count": 116,
      "metadata": {},
      "outputs": [],
      "source": [
        "concat_select.columns = concat_select.columns.str.replace('[^\\w\\s]', '')\n",
        "concat_select.columns = concat_select.columns.str.replace(' ', '_')"
      ]
    },
    {
      "cell_type": "code",
      "execution_count": 117,
      "metadata": {
        "colab": {
          "base_uri": "https://localhost:8080/"
        },
        "id": "c-VGjus86phR",
        "outputId": "a25af50e-7f13-4402-81e0-46bf7d94ad12"
      },
      "outputs": [
        {
          "data": {
            "text/plain": [
              "(1128094, 48)"
            ]
          },
          "execution_count": 117,
          "metadata": {},
          "output_type": "execute_result"
        }
      ],
      "source": [
        "concat_select.shape"
      ]
    },
    {
      "cell_type": "code",
      "execution_count": 118,
      "metadata": {},
      "outputs": [
        {
          "data": {
            "text/plain": [
              "Index(['전용면적', '계약일', '층', '건축년도', 'street', 'k주거전용면적', 'k전용면적별세대현황60이하',\n",
              "       'k전용면적별세대현황6085이하', 'k85135이하', 'k수정일자', '고용보험관리번호', '경비비관리형태',\n",
              "       '세대전기계약방법', '청소비관리형태', '건축면적', '주차대수', '기타의무임대임의1234', '단지승인일',\n",
              "       '사용허가여부', '관리비_업로드', '좌표X', '좌표Y', '단지신청일', 'target', 'is_public', '구',\n",
              "       '동', '계약년', '계약월', 'date', '기준금리', 'is_test', '구_encoded', '구_std',\n",
              "       '동_encoded', '동_std', 'has_bds', '주거지역_비율', '상업지역_비율', '공업지역_비율',\n",
              "       '녹지지역_비율', 'yrs_diff_built_contract', 'built_in3yrs', 'built_in5yrs',\n",
              "       'built_over30yrs', 'built_over35yrs', 'built_over40yrs', 'on_main_st'],\n",
              "      dtype='object')"
            ]
          },
          "execution_count": 118,
          "metadata": {},
          "output_type": "execute_result"
        }
      ],
      "source": [
        "concat_select.columns"
      ]
    },
    {
      "cell_type": "code",
      "execution_count": 119,
      "metadata": {},
      "outputs": [],
      "source": [
        "del concat_select['좌표X']"
      ]
    },
    {
      "cell_type": "code",
      "execution_count": 120,
      "metadata": {},
      "outputs": [],
      "source": [
        "del concat_select['좌표Y']"
      ]
    },
    {
      "cell_type": "code",
      "execution_count": null,
      "metadata": {},
      "outputs": [],
      "source": [
        "# from geopy.distance import geodesic\n",
        "\n",
        "# # Function to calculate distances between two points\n",
        "# def calculate_distance(lat1, lon1, lat2, lon2):\n",
        "#     coords_1 = (lat1, lon1)\n",
        "#     coords_2 = (lat2, lon2)\n",
        "#     return geodesic(coords_1, coords_2).meters  # Calculate distance in meters\n",
        "\n",
        "# # Iterate over each row in concat_select\n",
        "# for index, row in concat_select.iterrows():\n",
        "#     property_lat = row['좌표Y']\n",
        "#     property_lon = row['좌표X']\n",
        "    \n",
        "#     # Initialize counters for bus and metro stations within different distances\n",
        "#     bus_500m = 0\n",
        "#     bus_1km = 0\n",
        "#     bus_3km = 0\n",
        "#     metro_500m = 0\n",
        "#     metro_1km = 0\n",
        "#     metro_3km = 0\n",
        "    \n",
        "#     # Iterate over each bus station\n",
        "#     for bus_index, bus_row in df_bus.iterrows():\n",
        "#         bus_lat = bus_row['Y좌표']\n",
        "#         bus_lon = bus_row['X좌표']\n",
        "        \n",
        "#         # Calculate distance between property and bus station\n",
        "#         distance = calculate_distance(property_lat, property_lon, bus_lat, bus_lon)\n",
        "        \n",
        "#         # Update counters based on distance\n",
        "#         if distance <= 500:\n",
        "#             bus_500m += 1\n",
        "#         elif distance <= 1000:\n",
        "#             bus_1km += 1\n",
        "#         elif distance <= 3000:\n",
        "#             bus_3km += 1\n",
        "            \n",
        "#     for metro_index, metro_row in df_metro.iterrows():\n",
        "#         metro_lat = metro_row['위도']\n",
        "#         metro_lon = metro_row['경도']\n",
        "        \n",
        "#         # Calculate distance between property and bus station\n",
        "#         distance = calculate_distance(property_lat, property_lon, metro_lat, metro_lon)\n",
        "        \n",
        "#         # Update counters based on distance\n",
        "#         if distance <= 500:\n",
        "#             metro_500m += 1\n",
        "#         elif distance <= 1000:\n",
        "#             metro_1km += 1\n",
        "#         elif distance <= 3000:\n",
        "#             metro_3km += 1\n",
        "#     # Iterate over each metro station (assuming the same process as for bus stations)\n",
        "#     # Update counters similarly\n",
        "    \n",
        "#     # Add new columns to concat_select\n",
        "#     concat_select.at[index, 'bus_500m'] = bus_500m\n",
        "#     concat_select.at[index, 'bus_1km'] = bus_1km\n",
        "#     concat_select.at[index, 'bus_3km'] = bus_3km\n",
        "#     concat_select.at[index, 'metro_500m'] = metro_500m\n",
        "#     concat_select.at[index, 'metro_1km'] = metro_1km\n",
        "#     concat_select.at[index, 'metro_3km'] = metro_3km\n"
      ]
    },
    {
      "cell_type": "markdown",
      "metadata": {
        "id": "uXfXRevr3dfe"
      },
      "source": [
        "## 5. Model Training"
      ]
    },
    {
      "cell_type": "markdown",
      "metadata": {
        "id": "ytuwazY43gwQ"
      },
      "source": [
        "- 이제 위에서 만든 파생변수들과 정제한 데이터를 기반으로 본격적으로 부동산 실거래가를 예측하는 모델링을 진행하겠습니다.\n",
        "- 모델링에는 `sklearn`의 `RandomForest`를 이용하도록 하겠습니다.\n",
        "\n",
        "- 참고 ✅\n",
        "  - `RandomForest`는 배깅(Bagging)의 일종으로, 학습시키는 데이터 뿐 아니라 특성변수(X)들도 무작위로 선택해 트리를 생성하는 방법입니다.\n",
        "  - 모델 학습 과정에서 서로 다른 N개의 Tree 생성하고, N개의 Tree에서 발생한 Output을 Voting(범주형, 분류문제)하거나, Average(연속형, 회귀문제)해 최종 Output 생성합니다.\n",
        "  - 이는 High variance, Low bias 상황에서 분산(Variance) 감소에 도움을 줍니다."
      ]
    },
    {
      "cell_type": "code",
      "execution_count": 189,
      "metadata": {
        "colab": {
          "base_uri": "https://localhost:8080/"
        },
        "id": "9E__0jEyyXIA",
        "outputId": "ffb3cc6e-d337-4ed6-96d1-ddf96dc97449"
      },
      "outputs": [
        {
          "name": "stdout",
          "output_type": "stream",
          "text": [
            "(1118822, 45) (9272, 45)\n"
          ]
        }
      ],
      "source": [
        "# 이제 다시 train과 test dataset을 분할해줍니다. 위에서 제작해 놓았던 is_test 칼럼을 이용합니다.\n",
        "dt_train = concat_select.query('is_test==0')\n",
        "dt_test = concat_select.query('is_test==1')\n",
        "\n",
        "# 이제 is_test 칼럼은 drop해줍니다.\n",
        "dt_train.drop(['is_test'], axis = 1, inplace=True)\n",
        "dt_test.drop(['is_test'], axis = 1, inplace=True)\n",
        "print(dt_train.shape, dt_test.shape)"
      ]
    },
    {
      "cell_type": "code",
      "execution_count": 190,
      "metadata": {
        "id": "CpRwDCH7UB_p"
      },
      "outputs": [],
      "source": [
        "# dt_test의 target은 일단 0으로 임의로 채워주도록 하겠습니다.\n",
        "dt_test['target'] = 0"
      ]
    },
    {
      "cell_type": "markdown",
      "metadata": {
        "id": "wdHNkPO_3tSb"
      },
      "source": [
        "### 5.1. 범주형 변수 Encoding\n",
        "- 범주형 변수는 그대로 모델에 투입하면, 모델이 제대로 작동할 수 없습니다.\n",
        "- 따라서 **레이블 인코딩 과정**을 통해 범주형 변수들을 numeric하게 바꾸는 인코딩 과정을 진행해주도록 하겠습니다."
      ]
    },
    {
      "cell_type": "code",
      "execution_count": 191,
      "metadata": {
        "colab": {
          "base_uri": "https://localhost:8080/"
        },
        "id": "yCW2dTz12VMZ",
        "outputId": "5c81b9e1-0462-421e-cb77-6b056532e5cd"
      },
      "outputs": [
        {
          "name": "stdout",
          "output_type": "stream",
          "text": [
            "연속형 변수: ['전용면적', '계약일', '층', '건축년도', 'k주거전용면적', 'k전용면적별세대현황60이하', 'k전용면적별세대현황6085이하', 'k85135이하', '건축면적', '주차대수', 'target', 'is_public', '계약년', '계약월', '기준금리', '구_encoded', '구_std', '동_encoded', '동_std', 'has_bds', '주거지역_비율', '상업지역_비율', '공업지역_비율', '녹지지역_비율', 'yrs_diff_built_contract', 'built_in3yrs', 'built_in5yrs', 'built_over30yrs', 'built_over35yrs', 'built_over40yrs', 'on_main_st']\n",
            "범주형 변수: ['street', 'k수정일자', '고용보험관리번호', '경비비관리형태', '세대전기계약방법', '청소비관리형태', '기타의무임대임의1234', '단지승인일', '사용허가여부', '관리비_업로드', '단지신청일', '구', '동', 'date']\n"
          ]
        }
      ],
      "source": [
        "# 파생변수 제작으로 추가된 변수들이 존재하기에, 다시한번 연속형과 범주형 칼럼을 분리해주겠습니다.\n",
        "continuous_columns_v2 = []\n",
        "categorical_columns_v2 = []\n",
        "\n",
        "for column in dt_train.columns:\n",
        "    if pd.api.types.is_numeric_dtype(dt_train[column]):\n",
        "        continuous_columns_v2.append(column)\n",
        "    else:\n",
        "        categorical_columns_v2.append(column)\n",
        "\n",
        "print(\"연속형 변수:\", continuous_columns_v2)\n",
        "print(\"범주형 변수:\", categorical_columns_v2)"
      ]
    },
    {
      "cell_type": "code",
      "execution_count": 192,
      "metadata": {
        "colab": {
          "base_uri": "https://localhost:8080/"
        },
        "id": "klnjrUceP_bC",
        "outputId": "ba94e4af-e06b-4c5c-b3a6-736a4616e589"
      },
      "outputs": [
        {
          "name": "stderr",
          "output_type": "stream",
          "text": [
            "100%|██████████| 14/14 [00:03<00:00,  3.52it/s]\n"
          ]
        }
      ],
      "source": [
        "# 아래에서 범주형 변수들을 대상으로 레이블인코딩을 진행해 주겠습니다.\n",
        "\n",
        "# 각 변수에 대한 LabelEncoder를 저장할 딕셔너리\n",
        "label_encoders = {}\n",
        "\n",
        "# Implement Label Encoding\n",
        "for col in tqdm( categorical_columns_v2 ):\n",
        "    lbl = LabelEncoder()\n",
        "\n",
        "    # Label-Encoding을 fit\n",
        "    lbl.fit( dt_train[col].astype(str) )\n",
        "    dt_train[col] = lbl.transform(dt_train[col].astype(str))\n",
        "    label_encoders[col] = lbl           # 나중에 후처리를 위해 레이블인코더를 저장해주겠습니다.\n",
        "\n",
        "    # Test 데이터에만 존재하는 새로 출현한 데이터를 신규 클래스로 추가해줍니다.\n",
        "    for label in np.unique(dt_test[col]):\n",
        "      if label not in lbl.classes_: # unseen label 데이터인 경우\n",
        "        lbl.classes_ = np.append(lbl.classes_, label) # 미처리 시 ValueError발생하니 주의하세요!\n",
        "\n",
        "    dt_test[col] = lbl.transform(dt_test[col].astype(str))"
      ]
    },
    {
      "cell_type": "markdown",
      "metadata": {
        "id": "L4sHljC3NWje"
      },
      "source": [
        "### 5.2. Model Training\n",
        "- 위 데이터를 이용해 모델을 train 해보겠습니다. 모델은 RandomForest를 이용하겠습니다.\n",
        "- Train과 Valid dataset을 분할하는 과정에서는 `holdout` 방법을 사용하겠습니다. 이 방법의 경우  대략적인 성능을 빠르게 확인할 수 있다는 점에서 baseline에서 사용해보도록 하겠습니다.\n",
        "  - 이 후 추가적인 eda를 통해서 평가세트와 경향을 맞추거나 kfold와 같은 분포에 대한 고려를 추가할 수 있습니다."
      ]
    },
    {
      "cell_type": "code",
      "execution_count": 193,
      "metadata": {
        "id": "7S-ow8vVP_YZ"
      },
      "outputs": [],
      "source": [
        "assert dt_train.shape[1] == dt_test.shape[1]          # train/test dataset의 shape이 같은지 확인해주겠습니다."
      ]
    },
    {
      "cell_type": "code",
      "execution_count": 194,
      "metadata": {},
      "outputs": [
        {
          "data": {
            "text/plain": [
              "Index(['전용면적', '계약일', '층', '건축년도', 'street', 'k주거전용면적', 'k전용면적별세대현황60이하',\n",
              "       'k전용면적별세대현황6085이하', 'k85135이하', 'k수정일자', '고용보험관리번호', '경비비관리형태',\n",
              "       '세대전기계약방법', '청소비관리형태', '건축면적', '주차대수', '기타의무임대임의1234', '단지승인일',\n",
              "       '사용허가여부', '관리비_업로드', '단지신청일', 'target', 'is_public', '구', '동', '계약년',\n",
              "       '계약월', 'date', '기준금리', '구_encoded', '구_std', '동_encoded', '동_std',\n",
              "       'has_bds', '주거지역_비율', '상업지역_비율', '공업지역_비율', '녹지지역_비율',\n",
              "       'yrs_diff_built_contract', 'built_in3yrs', 'built_in5yrs',\n",
              "       'built_over30yrs', 'built_over35yrs', 'built_over40yrs', 'on_main_st'],\n",
              "      dtype='object')"
            ]
          },
          "execution_count": 194,
          "metadata": {},
          "output_type": "execute_result"
        }
      ],
      "source": [
        "dt_train.columns"
      ]
    },
    {
      "cell_type": "code",
      "execution_count": 195,
      "metadata": {},
      "outputs": [],
      "source": [
        "drop_cols_before_train = ['street', '구', '동', '계약월', '계약일', '고용보험관리번호', 'k수정일자', '관리비_업로드', '기타의무임대임의1234']"
      ]
    },
    {
      "cell_type": "code",
      "execution_count": 196,
      "metadata": {},
      "outputs": [],
      "source": [
        "dt_train = dt_train.drop(columns=drop_cols_before_train)\n",
        "dt_test = dt_test.drop(columns=drop_cols_before_train)"
      ]
    },
    {
      "cell_type": "code",
      "execution_count": 197,
      "metadata": {},
      "outputs": [
        {
          "data": {
            "text/plain": [
              "Index(['전용면적', '층', '건축년도', 'k주거전용면적', 'k전용면적별세대현황60이하', 'k전용면적별세대현황6085이하',\n",
              "       'k85135이하', '경비비관리형태', '세대전기계약방법', '청소비관리형태', '건축면적', '주차대수', '단지승인일',\n",
              "       '사용허가여부', '단지신청일', 'target', 'is_public', '계약년', 'date', '기준금리',\n",
              "       '구_encoded', '구_std', '동_encoded', '동_std', 'has_bds', '주거지역_비율',\n",
              "       '상업지역_비율', '공업지역_비율', '녹지지역_비율', 'yrs_diff_built_contract',\n",
              "       'built_in3yrs', 'built_in5yrs', 'built_over30yrs', 'built_over35yrs',\n",
              "       'built_over40yrs', 'on_main_st'],\n",
              "      dtype='object')"
            ]
          },
          "execution_count": 197,
          "metadata": {},
          "output_type": "execute_result"
        }
      ],
      "source": [
        "dt_train.columns"
      ]
    },
    {
      "cell_type": "code",
      "execution_count": 198,
      "metadata": {},
      "outputs": [
        {
          "name": "stdout",
          "output_type": "stream",
          "text": [
            "(1118822, 36) (9272, 36)\n"
          ]
        }
      ],
      "source": [
        "print(dt_train.shape, dt_test.shape)"
      ]
    },
    {
      "cell_type": "code",
      "execution_count": 199,
      "metadata": {},
      "outputs": [],
      "source": [
        "# Target과 독립변수들을 분리해줍니다.\n",
        "y_train = dt_train['target']\n",
        "X_train = dt_train.drop(['target'], axis=1)"
      ]
    },
    {
      "cell_type": "code",
      "execution_count": 200,
      "metadata": {},
      "outputs": [],
      "source": [
        "# Hold out split을 사용해 학습 데이터와 검증 데이터를 8:2 비율로 나누겠습니다.\n",
        "X_train, X_val, y_train, y_val = train_test_split(X_train, y_train, test_size=0.2, random_state=42)"
      ]
    },
    {
      "cell_type": "code",
      "execution_count": 201,
      "metadata": {},
      "outputs": [],
      "source": [
        "X_test = dt_test.drop(['target'], axis=1)"
      ]
    },
    {
      "cell_type": "code",
      "execution_count": 202,
      "metadata": {},
      "outputs": [],
      "source": [
        "import xgboost as xgb"
      ]
    },
    {
      "cell_type": "code",
      "execution_count": 203,
      "metadata": {},
      "outputs": [],
      "source": [
        "# Define parameters for XGBRegressor\n",
        "params = {\n",
        "    'objective': 'reg:squarederror',  # Use squared error for regression task\n",
        "    'eval_metric': 'rmse',  # Root Mean Squared Error for evaluation\n",
        "    'max_depth': 20,\n",
        "    'learning_rate': 0.05,\n",
        "    'n_estimators': 200,\n",
        "    'min_child_weight': 1,\n",
        "    'gamma': 0,\n",
        "    'subsample': 0.8,\n",
        "    'colsample_bytree': 0.8,\n",
        "    'reg_alpha': 0,\n",
        "    'reg_lambda': 1,\n",
        "    'random_state': 42\n",
        "}\n",
        "\n",
        "# Create and train the XGBRegressor model\n",
        "model_xgb1 = xgb.XGBRegressor(**params)\n",
        "model_xgb1.fit(X_train, y_train)\n",
        "\n",
        "# Make predictions on the validation set\n",
        "pred_xgb1 = model_xgb1.predict(X_val)"
      ]
    },
    {
      "cell_type": "code",
      "execution_count": 204,
      "metadata": {},
      "outputs": [
        {
          "name": "stdout",
          "output_type": "stream",
          "text": [
            "RMSE test: 7236.763387208487\n"
          ]
        }
      ],
      "source": [
        "# 회귀 관련 metric을 통해 train/valid의 모델 적합 결과를 관찰합니다.\n",
        "print(f'RMSE test: {np.sqrt(metrics.mean_squared_error(y_val, pred_xgb1))}')"
      ]
    },
    {
      "cell_type": "code",
      "execution_count": 205,
      "metadata": {
        "colab": {
          "base_uri": "https://localhost:8080/",
          "height": 698
        },
        "id": "VbgCRxFgdFQb",
        "outputId": "f9114f72-78e1-471c-fc0b-ba5b8b6b6d2f"
      },
      "outputs": [
        {
          "data": {
            "image/png": "[encoded data removed]",
            "text/plain": [
              "<Figure size 1000x800 with 1 Axes>"
            ]
          },
          "metadata": {},
          "output_type": "display_data"
        }
      ],
      "source": [
        "importances = pd.Series(model_xgb1.feature_importances_, index=list(X_train.columns))\n",
        "importances = importances.sort_values(ascending=False)\n",
        "\n",
        "plt.figure(figsize=(10, 8))\n",
        "plt.title(\"Feature Importances\")\n",
        "sns.barplot(x=importances, y=importances.index)\n",
        "plt.show()"
      ]
    },
    {
      "cell_type": "code",
      "execution_count": 206,
      "metadata": {},
      "outputs": [],
      "source": [
        "# Get feature importances\n",
        "importances = model_xgb1.feature_importances_\n",
        "\n",
        "# Create a DataFrame with feature importances\n",
        "feature_importance_df = pd.DataFrame({'Feature': X_train.columns, 'Importance': importances})\n",
        "\n",
        "# Sort the DataFrame by importance in ascending order\n",
        "feature_importance_df = feature_importance_df.sort_values(by='Importance')\n",
        "\n",
        "# Get the names of the 10 least important features\n",
        "features_to_drop = feature_importance_df.head(10)['Feature']\n",
        "\n",
        "# Drop the least important features from X_train and X_val\n",
        "X_train.drop(columns=features_to_drop, inplace=True)\n",
        "X_val.drop(columns=features_to_drop, inplace=True)\n",
        "X_test.drop(columns=features_to_drop, inplace=True)"
      ]
    },
    {
      "cell_type": "code",
      "execution_count": 207,
      "metadata": {},
      "outputs": [],
      "source": [
        "# Create and train the XGBRegressor model\n",
        "model_xgb2 = xgb.XGBRegressor(**params)\n",
        "model_xgb2.fit(X_train, y_train)\n",
        "\n",
        "# Make predictions on the validation set\n",
        "pred_xgb2 = model_xgb2.predict(X_val)"
      ]
    },
    {
      "cell_type": "code",
      "execution_count": 208,
      "metadata": {},
      "outputs": [
        {
          "name": "stdout",
          "output_type": "stream",
          "text": [
            "RMSE test: 7683.2718283395225\n"
          ]
        }
      ],
      "source": [
        "# 회귀 관련 metric을 통해 train/valid의 모델 적합 결과를 관찰합니다.\n",
        "print(f'RMSE test: {np.sqrt(metrics.mean_squared_error(y_val, pred_xgb2))}')"
      ]
    },
    {
      "cell_type": "code",
      "execution_count": 209,
      "metadata": {},
      "outputs": [
        {
          "data": {
            "image/png": "[encoded data removed]",
            "text/plain": [
              "<Figure size 1000x800 with 1 Axes>"
            ]
          },
          "metadata": {},
          "output_type": "display_data"
        }
      ],
      "source": [
        "importances = pd.Series(model_xgb2.feature_importances_, index=list(X_train.columns))\n",
        "importances = importances.sort_values(ascending=False)\n",
        "\n",
        "plt.figure(figsize=(10, 8))\n",
        "plt.title(\"Feature Importances\")\n",
        "sns.barplot(x=importances, y=importances.index)\n",
        "plt.show()"
      ]
    },
    {
      "cell_type": "code",
      "execution_count": 210,
      "metadata": {},
      "outputs": [],
      "source": [
        "# 학습된 모델을 저장합니다. Pickle 라이브러리를 이용하겠습니다.\n",
        "with open('model_xgb2.pkl', 'wb') as f:\n",
        "    pickle.dump(model_xgb2, f)"
      ]
    },
    {
      "cell_type": "markdown",
      "metadata": {
        "id": "jOVbJ3KWgBTC"
      },
      "source": [
        "### 5.3. Feature selection"
      ]
    },
    {
      "cell_type": "markdown",
      "metadata": {
        "id": "0Qp7gLG3CfgJ"
      },
      "source": [
        "- 어떤 변수가 유용한 변수인지 확인해보기 위해 permutation selection을 이용해보겠습니다."
      ]
    },
    {
      "cell_type": "code",
      "execution_count": 312,
      "metadata": {
        "colab": {
          "base_uri": "https://localhost:8080/",
          "height": 399
        },
        "id": "bWucmvKrf-tq",
        "outputId": "016c2fae-320b-4778-efb9-799b5cf695b0"
      },
      "outputs": [
        {
          "data": {
            "text/html": [
              "\n",
              "    <style>\n",
              "    table.eli5-weights tr:hover {\n",
              "        filter: brightness(85%);\n",
              "    }\n",
              "</style>\n",
              "\n",
              "\n",
              "\n",
              "    \n",
              "\n",
              "    \n",
              "\n",
              "    \n",
              "\n",
              "    \n",
              "\n",
              "    \n",
              "\n",
              "    \n",
              "\n",
              "\n",
              "    \n",
              "\n",
              "    \n",
              "\n",
              "    \n",
              "\n",
              "    \n",
              "\n",
              "    \n",
              "\n",
              "    \n",
              "\n",
              "\n",
              "    \n",
              "\n",
              "    \n",
              "\n",
              "    \n",
              "\n",
              "    \n",
              "\n",
              "    \n",
              "        <table class=\"eli5-weights eli5-feature-importances\" style=\"border-collapse: collapse; border: none; margin-top: 0em; table-layout: auto;\">\n",
              "    <thead>\n",
              "    <tr style=\"border: none;\">\n",
              "        <th style=\"padding: 0 1em 0 0.5em; text-align: right; border: none;\">Weight</th>\n",
              "        <th style=\"padding: 0 0.5em 0 0.5em; text-align: left; border: none;\">Feature</th>\n",
              "    </tr>\n",
              "    </thead>\n",
              "    <tbody>\n",
              "    \n",
              "        <tr style=\"background-color: hsl(120, 100.00%, 80.00%); border: none;\">\n",
              "            <td style=\"padding: 0 1em 0 0.5em; text-align: right; border: none;\">\n",
              "                1115100604.8982\n",
              "                \n",
              "                    &plusmn; 16011314.4157\n",
              "                \n",
              "            </td>\n",
              "            <td style=\"padding: 0 0.5em 0 0.5em; text-align: left; border: none;\">\n",
              "                전용면적\n",
              "            </td>\n",
              "        </tr>\n",
              "    \n",
              "        <tr style=\"background-color: hsl(120, 100.00%, 81.31%); border: none;\">\n",
              "            <td style=\"padding: 0 1em 0 0.5em; text-align: right; border: none;\">\n",
              "                1012592379.8384\n",
              "                \n",
              "                    &plusmn; 9979412.9561\n",
              "                \n",
              "            </td>\n",
              "            <td style=\"padding: 0 0.5em 0 0.5em; text-align: left; border: none;\">\n",
              "                동_encoded\n",
              "            </td>\n",
              "        </tr>\n",
              "    \n",
              "        <tr style=\"background-color: hsl(120, 100.00%, 81.49%); border: none;\">\n",
              "            <td style=\"padding: 0 1em 0 0.5em; text-align: right; border: none;\">\n",
              "                998076962.4988\n",
              "                \n",
              "                    &plusmn; 7148859.3022\n",
              "                \n",
              "            </td>\n",
              "            <td style=\"padding: 0 0.5em 0 0.5em; text-align: left; border: none;\">\n",
              "                계약년월\n",
              "            </td>\n",
              "        </tr>\n",
              "    \n",
              "        <tr style=\"background-color: hsl(120, 100.00%, 90.10%); border: none;\">\n",
              "            <td style=\"padding: 0 1em 0 0.5em; text-align: right; border: none;\">\n",
              "                408483981.9837\n",
              "                \n",
              "                    &plusmn; 1699485.3199\n",
              "                \n",
              "            </td>\n",
              "            <td style=\"padding: 0 0.5em 0 0.5em; text-align: left; border: none;\">\n",
              "                동_std\n",
              "            </td>\n",
              "        </tr>\n",
              "    \n",
              "        <tr style=\"background-color: hsl(120, 100.00%, 94.42%); border: none;\">\n",
              "            <td style=\"padding: 0 1em 0 0.5em; text-align: right; border: none;\">\n",
              "                179847539.9027\n",
              "                \n",
              "                    &plusmn; 4178794.3527\n",
              "                \n",
              "            </td>\n",
              "            <td style=\"padding: 0 0.5em 0 0.5em; text-align: left; border: none;\">\n",
              "                건축년도\n",
              "            </td>\n",
              "        </tr>\n",
              "    \n",
              "        <tr style=\"background-color: hsl(120, 100.00%, 98.09%); border: none;\">\n",
              "            <td style=\"padding: 0 1em 0 0.5em; text-align: right; border: none;\">\n",
              "                39009181.6323\n",
              "                \n",
              "                    &plusmn; 733301.9405\n",
              "                \n",
              "            </td>\n",
              "            <td style=\"padding: 0 0.5em 0 0.5em; text-align: left; border: none;\">\n",
              "                부번\n",
              "            </td>\n",
              "        </tr>\n",
              "    \n",
              "        <tr style=\"background-color: hsl(120, 100.00%, 98.50%); border: none;\">\n",
              "            <td style=\"padding: 0 1em 0 0.5em; text-align: right; border: none;\">\n",
              "                27655840.5256\n",
              "                \n",
              "                    &plusmn; 658130.5952\n",
              "                \n",
              "            </td>\n",
              "            <td style=\"padding: 0 0.5em 0 0.5em; text-align: left; border: none;\">\n",
              "                도로명\n",
              "            </td>\n",
              "        </tr>\n",
              "    \n",
              "        <tr style=\"background-color: hsl(120, 100.00%, 98.65%); border: none;\">\n",
              "            <td style=\"padding: 0 1em 0 0.5em; text-align: right; border: none;\">\n",
              "                23801508.9218\n",
              "                \n",
              "                    &plusmn; 1016627.3693\n",
              "                \n",
              "            </td>\n",
              "            <td style=\"padding: 0 0.5em 0 0.5em; text-align: left; border: none;\">\n",
              "                동\n",
              "            </td>\n",
              "        </tr>\n",
              "    \n",
              "        <tr style=\"background-color: hsl(120, 100.00%, 98.74%); border: none;\">\n",
              "            <td style=\"padding: 0 1em 0 0.5em; text-align: right; border: none;\">\n",
              "                21363376.5972\n",
              "                \n",
              "                    &plusmn; 192892.0522\n",
              "                \n",
              "            </td>\n",
              "            <td style=\"padding: 0 0.5em 0 0.5em; text-align: left; border: none;\">\n",
              "                yrs_diff_built_contract\n",
              "            </td>\n",
              "        </tr>\n",
              "    \n",
              "        <tr style=\"background-color: hsl(120, 100.00%, 98.78%); border: none;\">\n",
              "            <td style=\"padding: 0 1em 0 0.5em; text-align: right; border: none;\">\n",
              "                20618314.2286\n",
              "                \n",
              "                    &plusmn; 243254.3049\n",
              "                \n",
              "            </td>\n",
              "            <td style=\"padding: 0 0.5em 0 0.5em; text-align: left; border: none;\">\n",
              "                구_encoded\n",
              "            </td>\n",
              "        </tr>\n",
              "    \n",
              "        <tr style=\"background-color: hsl(120, 100.00%, 98.93%); border: none;\">\n",
              "            <td style=\"padding: 0 1em 0 0.5em; text-align: right; border: none;\">\n",
              "                17095581.7190\n",
              "                \n",
              "                    &plusmn; 412943.4185\n",
              "                \n",
              "            </td>\n",
              "            <td style=\"padding: 0 0.5em 0 0.5em; text-align: left; border: none;\">\n",
              "                road\n",
              "            </td>\n",
              "        </tr>\n",
              "    \n",
              "        <tr style=\"background-color: hsl(120, 100.00%, 98.96%); border: none;\">\n",
              "            <td style=\"padding: 0 1em 0 0.5em; text-align: right; border: none;\">\n",
              "                16396688.1919\n",
              "                \n",
              "                    &plusmn; 752586.3723\n",
              "                \n",
              "            </td>\n",
              "            <td style=\"padding: 0 0.5em 0 0.5em; text-align: left; border: none;\">\n",
              "                아파트명\n",
              "            </td>\n",
              "        </tr>\n",
              "    \n",
              "        <tr style=\"background-color: hsl(120, 100.00%, 99.04%); border: none;\">\n",
              "            <td style=\"padding: 0 1em 0 0.5em; text-align: right; border: none;\">\n",
              "                14573717.4344\n",
              "                \n",
              "                    &plusmn; 138949.9844\n",
              "                \n",
              "            </td>\n",
              "            <td style=\"padding: 0 0.5em 0 0.5em; text-align: left; border: none;\">\n",
              "                구_std\n",
              "            </td>\n",
              "        </tr>\n",
              "    \n",
              "        <tr style=\"background-color: hsl(120, 100.00%, 99.13%); border: none;\">\n",
              "            <td style=\"padding: 0 1em 0 0.5em; text-align: right; border: none;\">\n",
              "                12587615.2423\n",
              "                \n",
              "                    &plusmn; 281359.9891\n",
              "                \n",
              "            </td>\n",
              "            <td style=\"padding: 0 0.5em 0 0.5em; text-align: left; border: none;\">\n",
              "                구\n",
              "            </td>\n",
              "        </tr>\n",
              "    \n",
              "        <tr style=\"background-color: hsl(120, 100.00%, 99.17%); border: none;\">\n",
              "            <td style=\"padding: 0 1em 0 0.5em; text-align: right; border: none;\">\n",
              "                11872203.2536\n",
              "                \n",
              "                    &plusmn; 946692.5475\n",
              "                \n",
              "            </td>\n",
              "            <td style=\"padding: 0 0.5em 0 0.5em; text-align: left; border: none;\">\n",
              "                층\n",
              "            </td>\n",
              "        </tr>\n",
              "    \n",
              "        <tr style=\"background-color: hsl(120, 100.00%, 99.21%); border: none;\">\n",
              "            <td style=\"padding: 0 1em 0 0.5em; text-align: right; border: none;\">\n",
              "                10967260.1166\n",
              "                \n",
              "                    &plusmn; 499609.6156\n",
              "                \n",
              "            </td>\n",
              "            <td style=\"padding: 0 0.5em 0 0.5em; text-align: left; border: none;\">\n",
              "                번지\n",
              "            </td>\n",
              "        </tr>\n",
              "    \n",
              "        <tr style=\"background-color: hsl(120, 100.00%, 99.25%); border: none;\">\n",
              "            <td style=\"padding: 0 1em 0 0.5em; text-align: right; border: none;\">\n",
              "                10280402.8423\n",
              "                \n",
              "                    &plusmn; 601341.6588\n",
              "                \n",
              "            </td>\n",
              "            <td style=\"padding: 0 0.5em 0 0.5em; text-align: left; border: none;\">\n",
              "                본번\n",
              "            </td>\n",
              "        </tr>\n",
              "    \n",
              "        <tr style=\"background-color: hsl(120, 100.00%, 99.25%); border: none;\">\n",
              "            <td style=\"padding: 0 1em 0 0.5em; text-align: right; border: none;\">\n",
              "                10168491.1157\n",
              "                \n",
              "                    &plusmn; 194565.4135\n",
              "                \n",
              "            </td>\n",
              "            <td style=\"padding: 0 0.5em 0 0.5em; text-align: left; border: none;\">\n",
              "                좌표Y\n",
              "            </td>\n",
              "        </tr>\n",
              "    \n",
              "        <tr style=\"background-color: hsl(120, 100.00%, 99.26%); border: none;\">\n",
              "            <td style=\"padding: 0 1em 0 0.5em; text-align: right; border: none;\">\n",
              "                10139860.3106\n",
              "                \n",
              "                    &plusmn; 114258.6776\n",
              "                \n",
              "            </td>\n",
              "            <td style=\"padding: 0 0.5em 0 0.5em; text-align: left; border: none;\">\n",
              "                on_main_st\n",
              "            </td>\n",
              "        </tr>\n",
              "    \n",
              "        <tr style=\"background-color: hsl(120, 100.00%, 99.32%); border: none;\">\n",
              "            <td style=\"padding: 0 1em 0 0.5em; text-align: right; border: none;\">\n",
              "                8914033.5872\n",
              "                \n",
              "                    &plusmn; 276041.3235\n",
              "                \n",
              "            </td>\n",
              "            <td style=\"padding: 0 0.5em 0 0.5em; text-align: left; border: none;\">\n",
              "                k주거전용면적\n",
              "            </td>\n",
              "        </tr>\n",
              "    \n",
              "    \n",
              "        \n",
              "            <tr style=\"background-color: hsl(120, 100.00%, 99.32%); border: none;\">\n",
              "                <td colspan=\"2\" style=\"padding: 0 0.5em 0 0.5em; text-align: center; border: none; white-space: nowrap;\">\n",
              "                    <i>&hellip; 25 more &hellip;</i>\n",
              "                </td>\n",
              "            </tr>\n",
              "        \n",
              "    \n",
              "    </tbody>\n",
              "</table>\n",
              "    \n",
              "\n",
              "    \n",
              "\n",
              "\n",
              "    \n",
              "\n",
              "    \n",
              "\n",
              "    \n",
              "\n",
              "    \n",
              "\n",
              "    \n",
              "\n",
              "    \n",
              "\n",
              "\n",
              "\n"
            ],
            "text/plain": [
              "<IPython.core.display.HTML object>"
            ]
          },
          "execution_count": 312,
          "metadata": {},
          "output_type": "execute_result"
        }
      ],
      "source": [
        "# # Permutation importance 방법을 변수 선택에 이용해보겠습니다.\n",
        "# perm = PermutationImportance(model,        # 위에서 학습된 모델을 이용하겠습니다.\n",
        "#                              scoring = \"neg_mean_squared_error\",        # 평가 지표로는 회귀문제이기에 negative rmse를 사용합니다. (neg_mean_squared_error : 음의 평균 제곱 오차)\n",
        "#                              random_state = 42,\n",
        "#                              n_iter=3).fit(X_val, y_val)\n",
        "# eli5.show_weights(perm, feature_names = X_val.columns.tolist())    # valid data에 대해 적합시킵니다."
      ]
    },
    {
      "cell_type": "markdown",
      "metadata": {
        "id": "F0Ga4ljBNYIy"
      },
      "source": [
        "## 6. Inference"
      ]
    },
    {
      "cell_type": "code",
      "execution_count": 211,
      "metadata": {
        "id": "0HXvn8ZSa1kt"
      },
      "outputs": [],
      "source": [
        "# 저장된 모델을 불러옵니다.\n",
        "with open('model_xgb2.pkl', 'rb') as f:\n",
        "    model1 = pickle.load(f)"
      ]
    },
    {
      "cell_type": "code",
      "execution_count": 212,
      "metadata": {},
      "outputs": [
        {
          "name": "stdout",
          "output_type": "stream",
          "text": [
            "CPU times: user 687 µs, sys: 0 ns, total: 687 µs\n",
            "Wall time: 697 µs\n"
          ]
        }
      ],
      "source": [
        "%%time\n",
        "X_test.columns = X_test.columns.str.replace('[^\\w\\s]', '')\n",
        "X_test.columns = X_test.columns.str.replace(' ', '_')"
      ]
    },
    {
      "cell_type": "code",
      "execution_count": 213,
      "metadata": {
        "colab": {
          "base_uri": "https://localhost:8080/"
        },
        "id": "qbZ2A49LP_T9",
        "outputId": "89676c9b-c0a2-4951-84f0-430c5648331c"
      },
      "outputs": [],
      "source": [
        "# Test dataset에 대한 inference를 진행합니다.\n",
        "real_test_pred = model1.predict(X_test)"
      ]
    },
    {
      "cell_type": "code",
      "execution_count": 214,
      "metadata": {},
      "outputs": [],
      "source": [
        "# 앞서 예측한 예측값들을 저장합니다.\n",
        "preds_df = pd.DataFrame(real_test_pred.astype(int), columns=[\"target\"])\n",
        "preds_df.to_csv('output.csv', index=False)"
      ]
    },
    {
      "cell_type": "markdown",
      "metadata": {
        "id": "KlxtDBDNNa6Y"
      },
      "source": [
        "## 7. Output File Save"
      ]
    },
    {
      "cell_type": "code",
      "execution_count": 153,
      "metadata": {
        "id": "Tn36fIuB42aM"
      },
      "outputs": [],
      "source": [
        "# 앞서 예측한 예측값들을 저장합니다.\n",
        "preds_df = pd.DataFrame(real_test_pred.astype(int), columns=[\"target\"])\n",
        "preds_df.to_csv('output.csv', index=False)"
      ]
    },
    {
      "cell_type": "code",
      "execution_count": null,
      "metadata": {},
      "outputs": [],
      "source": []
    },
    {
      "cell_type": "code",
      "execution_count": null,
      "metadata": {},
      "outputs": [],
      "source": [
        "import lightgbm as lgb"
      ]
    },
    {
      "cell_type": "code",
      "execution_count": 322,
      "metadata": {},
      "outputs": [
        {
          "data": {
            "text/plain": [
              "Index(['번지', '본번', '부번', '아파트명', '전용면적', '계약년월', '계약일', '층', '건축년도', '도로명',\n",
              "       'k주거전용면적', 'k전용면적별세대현황60이하', 'k전용면적별세대현황6085이하', 'k85135이하', 'k수정일자',\n",
              "       '고용보험관리번호', '경비비관리형태', '세대전기계약방법', '청소비관리형태', '건축면적', '주차대수',\n",
              "       '기타의무임대임의1234', '단지승인일', '사용허가여부', '관리비_업로드', '좌표X', '좌표Y', '단지신청일',\n",
              "       'is_public', '구', '동', '계약년', '구_encoded', '구_std', '동_encoded',\n",
              "       '동_std', 'yrs_diff_built_contract', 'built_in3yrs', 'built_in5yrs',\n",
              "       'built_over30yrs', 'built_over35yrs', 'built_over40yrs', 'has_bds',\n",
              "       'road', 'on_main_st'],\n",
              "      dtype='object')"
            ]
          },
          "execution_count": 322,
          "metadata": {},
          "output_type": "execute_result"
        }
      ],
      "source": [
        "X_train.columns"
      ]
    },
    {
      "cell_type": "code",
      "execution_count": null,
      "metadata": {},
      "outputs": [],
      "source": [
        "# X_train = X_train.drop(columns=['구', '동', '좌표X', '좌표Y', '본번', '부번', '아파트명', '고용보험관리번호', '경비비관리형태', '세대전기계약방법', '청소비관리형태', 'road'])\n",
        "# X_val = X_val.drop(columns=['구', '동', '좌표X', '좌표Y', '본번', '부번', '아파트명', '고용보험관리번호', '경비비관리형태', '세대전기계약방법', '청소비관리형태', 'road'])\n",
        "# X_test = X_test.drop(columns=['구', '동', '좌표X', '좌표Y', '본번', '부번', '아파트명', '고용보험관리번호', '경비비관리형태', '세대전기계약방법', '청소비관리형태', 'road'])"
      ]
    },
    {
      "cell_type": "code",
      "execution_count": 333,
      "metadata": {},
      "outputs": [],
      "source": [
        "X_train = X_train.drop(columns=['road'])"
      ]
    },
    {
      "cell_type": "code",
      "execution_count": 334,
      "metadata": {},
      "outputs": [],
      "source": [
        "X_val = X_val.drop(columns=['road'])\n",
        "X_test = X_test.drop(columns=['road'])"
      ]
    },
    {
      "cell_type": "code",
      "execution_count": 335,
      "metadata": {},
      "outputs": [
        {
          "name": "stdout",
          "output_type": "stream",
          "text": [
            "[LightGBM] [Info] Auto-choosing col-wise multi-threading, the overhead of testing was 0.076178 seconds.\n",
            "You can set `force_col_wise=true` to remove the overhead.\n",
            "[LightGBM] [Info] Total Bins 3995\n",
            "[LightGBM] [Info] Number of data points in the train set: 895057, number of used features: 33\n",
            "[LightGBM] [Info] Start training from score 58003.281782\n",
            "[LightGBM] [Warning] No further splits with positive gain, best gain: -inf\n"
          ]
        }
      ],
      "source": [
        "# Define parameters for LGBMRegressor\n",
        "params = {\n",
        "    'objective': 'regression',\n",
        "    'metric': 'rmse',\n",
        "    'max_depth' : 20,\n",
        "    'num_leaves': 1023,\n",
        "    'min_child_samples' : 50,\n",
        "    'learning_rate': 0.05,\n",
        "    'n_estimators': 200,\n",
        "    'random_state': 42\n",
        "}\n",
        "\n",
        "# Create and train the LGBMRegressor model\n",
        "model_lgb1 = lgb.LGBMRegressor(**params)\n",
        "model_lgb1.fit(X_train, y_train)\n",
        "\n",
        "# Make predictions on the validation set\n",
        "pred_lgb1 = model_lgb1.predict(X_val)"
      ]
    },
    {
      "cell_type": "code",
      "execution_count": 336,
      "metadata": {},
      "outputs": [
        {
          "data": {
            "image/png": "[encoded data removed]",
            "text/plain": [
              "<Figure size 1500x6000 with 1 Axes>"
            ]
          },
          "metadata": {},
          "output_type": "display_data"
        }
      ],
      "source": [
        "lgb.plot_importance(model_lgb1, max_num_features=300, importance_type='split', figsize=(15, 60))\n",
        "plt.show()"
      ]
    },
    {
      "cell_type": "code",
      "execution_count": 337,
      "metadata": {},
      "outputs": [],
      "source": [
        "# 학습된 모델을 저장합니다. Pickle 라이브러리를 이용하겠습니다.\n",
        "with open('model_lgb1.pkl', 'wb') as f:\n",
        "    pickle.dump(model_lgb1, f)"
      ]
    },
    {
      "cell_type": "code",
      "execution_count": null,
      "metadata": {},
      "outputs": [],
      "source": []
    },
    {
      "cell_type": "code",
      "execution_count": 342,
      "metadata": {},
      "outputs": [],
      "source": [
        "# 저장된 모델을 불러옵니다.\n",
        "with open('model_lgb1.pkl', 'rb') as f:\n",
        "    model_lgb1 = pickle.load(f)"
      ]
    },
    {
      "cell_type": "code",
      "execution_count": null,
      "metadata": {},
      "outputs": [],
      "source": [
        "X_test = X_test.drop(columns=['구', '동', '좌표X', '좌표Y', '본번', '부번', '아파트명', '고용보험관리번호', '경비비관리형태', '세대전기계약방법', '청소비관리형태', 'road'])"
      ]
    },
    {
      "cell_type": "code",
      "execution_count": 338,
      "metadata": {},
      "outputs": [
        {
          "data": {
            "text/plain": [
              "Index(['번지', '전용면적', '계약년월', '계약일', '층', '건축년도', '도로명', 'k주거전용면적',\n",
              "       'k전용면적별세대현황60이하', 'k전용면적별세대현황6085이하', 'k85135이하', 'k수정일자', '건축면적',\n",
              "       '주차대수', '기타의무임대임의1234', '단지승인일', '사용허가여부', '관리비_업로드', '단지신청일',\n",
              "       'is_public', '계약년', '구_encoded', '구_std', '동_encoded', '동_std',\n",
              "       'yrs_diff_built_contract', 'built_in3yrs', 'built_in5yrs',\n",
              "       'built_over30yrs', 'built_over35yrs', 'built_over40yrs', 'has_bds',\n",
              "       'on_main_st'],\n",
              "      dtype='object')"
            ]
          },
          "execution_count": 338,
          "metadata": {},
          "output_type": "execute_result"
        }
      ],
      "source": [
        "X_test.columns"
      ]
    },
    {
      "cell_type": "code",
      "execution_count": 345,
      "metadata": {},
      "outputs": [
        {
          "name": "stdout",
          "output_type": "stream",
          "text": [
            "CPU times: user 693 µs, sys: 0 ns, total: 693 µs\n",
            "Wall time: 703 µs\n"
          ]
        }
      ],
      "source": [
        "%%time\n",
        "X_test.columns = X_test.columns.str.replace('[^\\w\\s]', '')\n",
        "X_test.columns = X_test.columns.str.replace(' ', '_')"
      ]
    },
    {
      "cell_type": "code",
      "execution_count": 346,
      "metadata": {},
      "outputs": [
        {
          "ename": "ValueError",
          "evalue": "Number of features of the model must match the input. Model n_features_ is 33 and input n_features is 45",
          "output_type": "error",
          "traceback": [
            "\u001b[0;31m---------------------------------------------------------------------------\u001b[0m",
            "\u001b[0;31mValueError\u001b[0m                                Traceback (most recent call last)",
            "Cell \u001b[0;32mIn[346], line 2\u001b[0m\n\u001b[1;32m      1\u001b[0m \u001b[38;5;66;03m# Test dataset에 대한 inference를 진행합니다.\u001b[39;00m\n\u001b[0;32m----> 2\u001b[0m real_test_pred \u001b[38;5;241m=\u001b[39m \u001b[43mmodel_lgb1\u001b[49m\u001b[38;5;241;43m.\u001b[39;49m\u001b[43mpredict\u001b[49m\u001b[43m(\u001b[49m\u001b[43mX_test\u001b[49m\u001b[43m)\u001b[49m\n",
            "File \u001b[0;32m/opt/conda/lib/python3.10/site-packages/lightgbm/sklearn.py:937\u001b[0m, in \u001b[0;36mLGBMModel.predict\u001b[0;34m(self, X, raw_score, start_iteration, num_iteration, pred_leaf, pred_contrib, validate_features, **kwargs)\u001b[0m\n\u001b[1;32m    935\u001b[0m n_features \u001b[38;5;241m=\u001b[39m X\u001b[38;5;241m.\u001b[39mshape[\u001b[38;5;241m1\u001b[39m]\n\u001b[1;32m    936\u001b[0m \u001b[38;5;28;01mif\u001b[39;00m \u001b[38;5;28mself\u001b[39m\u001b[38;5;241m.\u001b[39m_n_features \u001b[38;5;241m!=\u001b[39m n_features:\n\u001b[0;32m--> 937\u001b[0m     \u001b[38;5;28;01mraise\u001b[39;00m \u001b[38;5;167;01mValueError\u001b[39;00m(\u001b[38;5;124m\"\u001b[39m\u001b[38;5;124mNumber of features of the model must \u001b[39m\u001b[38;5;124m\"\u001b[39m\n\u001b[1;32m    938\u001b[0m                      \u001b[38;5;124mf\u001b[39m\u001b[38;5;124m\"\u001b[39m\u001b[38;5;124mmatch the input. Model n_features_ is \u001b[39m\u001b[38;5;132;01m{\u001b[39;00m\u001b[38;5;28mself\u001b[39m\u001b[38;5;241m.\u001b[39m_n_features\u001b[38;5;132;01m}\u001b[39;00m\u001b[38;5;124m and \u001b[39m\u001b[38;5;124m\"\u001b[39m\n\u001b[1;32m    939\u001b[0m                      \u001b[38;5;124mf\u001b[39m\u001b[38;5;124m\"\u001b[39m\u001b[38;5;124minput n_features is \u001b[39m\u001b[38;5;132;01m{\u001b[39;00mn_features\u001b[38;5;132;01m}\u001b[39;00m\u001b[38;5;124m\"\u001b[39m)\n\u001b[1;32m    940\u001b[0m \u001b[38;5;66;03m# retrive original params that possibly can be used in both training and prediction\u001b[39;00m\n\u001b[1;32m    941\u001b[0m \u001b[38;5;66;03m# and then overwrite them (considering aliases) with params that were passed directly in prediction\u001b[39;00m\n\u001b[1;32m    942\u001b[0m predict_params \u001b[38;5;241m=\u001b[39m \u001b[38;5;28mself\u001b[39m\u001b[38;5;241m.\u001b[39m_process_params(stage\u001b[38;5;241m=\u001b[39m\u001b[38;5;124m\"\u001b[39m\u001b[38;5;124mpredict\u001b[39m\u001b[38;5;124m\"\u001b[39m)\n",
            "\u001b[0;31mValueError\u001b[0m: Number of features of the model must match the input. Model n_features_ is 33 and input n_features is 45"
          ]
        }
      ],
      "source": [
        "# Test dataset에 대한 inference를 진행합니다.\n",
        "real_test_pred = model_lgb1.predict(X_test)"
      ]
    },
    {
      "cell_type": "code",
      "execution_count": 343,
      "metadata": {},
      "outputs": [],
      "source": [
        "# 앞서 예측한 예측값들을 저장합니다.\n",
        "preds_df = pd.DataFrame(real_test_pred.astype(int), columns=[\"target\"])\n",
        "preds_df.to_csv('output.csv', index=False)"
      ]
    },
    {
      "cell_type": "code",
      "execution_count": null,
      "metadata": {},
      "outputs": [],
      "source": []
    }
  ],
  "metadata": {
    "colab": {
      "provenance": []
    },
    "kernelspec": {
      "display_name": "Python 3.10.13 ('base')",
      "language": "python",
      "name": "python3"
    },
    "language_info": {
      "codemirror_mode": {
        "name": "ipython",
        "version": 3
      },
      "file_extension": ".py",
      "mimetype": "text/x-python",
      "name": "python",
      "nbconvert_exporter": "python",
      "pygments_lexer": "ipython3",
      "version": "3.10.13"
    },
    "vscode": {
      "interpreter": {
        "hash": "d4d1e4263499bec80672ea0156c357c1ee493ec2b1c70f0acce89fc37c4a6abe"
      }
    }
  },
  "nbformat": 4,
  "nbformat_minor": 0
}
