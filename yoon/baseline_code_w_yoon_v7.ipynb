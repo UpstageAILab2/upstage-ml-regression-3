{
  "cells": [
    {
      "cell_type": "markdown",
      "metadata": {
        "id": "92WHLz8346Yf"
      },
      "source": [
        "# **🏠 부동산 실거래가 Baseline code**\n",
        "> 부동산 실거래가 예측 대회에 오신 여러분 환영합니다! 🎉     \n",
        "> 아래 baseline에서는 RandomForest를 활용해 ML 방법론들을 실제 대회에 적용해보도록 하겠습니다.\n",
        "> 강의는 google colab으로 실행하였기에 아래의 베이스라인 코드와는 일부 차이가 있을 수 있습니다. \n",
        "\n",
        "## Contents\n",
        "- Library Import\n",
        "- Data Load\n",
        "- Data Preprocessing\n",
        "- Feature Engineering\n",
        "- Model Training\n",
        "- Inference\n",
        "- Output File Save\n"
      ]
    },
    {
      "cell_type": "markdown",
      "metadata": {
        "id": "2-DJzJjvO88V"
      },
      "source": [
        "## 1. Library Import\n",
        "- 필요한 라이브러리를 불러옵니다."
      ]
    },
    {
      "cell_type": "code",
      "execution_count": 43,
      "metadata": {
        "id": "d-NiCLGs4ZpM"
      },
      "outputs": [],
      "source": [
        "# visualization\n",
        "import matplotlib.pyplot as plt\n",
        "import matplotlib.font_manager as fm\n",
        "fe = fm.FontEntry(\n",
        "    fname=r'/usr/share/fonts/truetype/nanum/NanumGothic.ttf', # ttf 파일이 저장되어 있는 경로\n",
        "    name='NanumBarunGothic')                        # 이 폰트의 원하는 이름 설정\n",
        "fm.fontManager.ttflist.insert(0, fe)              # Matplotlib에 폰트 추가\n",
        "plt.rcParams.update({'font.size': 10, 'font.family': 'NanumBarunGothic'}) # 폰트 설정\n",
        "plt.rc('font', family='NanumBarunGothic')\n",
        "import seaborn as sns\n",
        "\n",
        "# utils\n",
        "import pandas as pd\n",
        "import numpy as np\n",
        "from tqdm import tqdm\n",
        "import pickle\n",
        "import glob\n",
        "import warnings;warnings.filterwarnings('ignore')\n",
        "\n",
        "# Model\n",
        "from sklearn.preprocessing import LabelEncoder\n",
        "from sklearn.model_selection import train_test_split\n",
        "from sklearn.metrics import mean_squared_error\n",
        "from sklearn.ensemble import RandomForestRegressor\n",
        "from sklearn import metrics\n",
        "\n",
        "import eli5\n",
        "from eli5.sklearn import PermutationImportance\n",
        "\n",
        "import xgboost as xgb"
      ]
    },
    {
      "cell_type": "markdown",
      "metadata": {
        "id": "OPJvYT0OPAWS"
      },
      "source": [
        "## 2. Data Load"
      ]
    },
    {
      "cell_type": "markdown",
      "metadata": {
        "id": "vvwnwnpNJeR1"
      },
      "source": [
        "#### 2.1. 데이터 로드"
      ]
    },
    {
      "cell_type": "code",
      "execution_count": 2,
      "metadata": {},
      "outputs": [],
      "source": [
        "import os"
      ]
    },
    {
      "cell_type": "code",
      "execution_count": 3,
      "metadata": {},
      "outputs": [
        {
          "data": {
            "text/plain": [
              "'/root/code/upstage-ml-regression-3/yoon'"
            ]
          },
          "execution_count": 3,
          "metadata": {},
          "output_type": "execute_result"
        }
      ],
      "source": [
        "os.getcwd()"
      ]
    },
    {
      "cell_type": "code",
      "execution_count": 4,
      "metadata": {
        "id": "hx6nk3N_4_Tk"
      },
      "outputs": [],
      "source": [
        "# 필요한 데이터를 load 하겠습니다. 경로는 환경에 맞게 지정해주면 됩니다.\n",
        "train_path = '/root/train.csv'\n",
        "test_path  = '/root/test.csv'"
      ]
    },
    {
      "cell_type": "code",
      "execution_count": 5,
      "metadata": {},
      "outputs": [],
      "source": [
        "dt = pd.read_csv(train_path)"
      ]
    },
    {
      "cell_type": "code",
      "execution_count": 6,
      "metadata": {},
      "outputs": [],
      "source": [
        "dt_test = pd.read_csv(test_path)"
      ]
    },
    {
      "cell_type": "code",
      "execution_count": 7,
      "metadata": {},
      "outputs": [
        {
          "name": "stdout",
          "output_type": "stream",
          "text": [
            "<class 'pandas.core.frame.DataFrame'>\n",
            "RangeIndex: 1118822 entries, 0 to 1118821\n",
            "Data columns (total 52 columns):\n",
            " #   Column                  Non-Null Count    Dtype  \n",
            "---  ------                  --------------    -----  \n",
            " 0   시군구                     1118822 non-null  object \n",
            " 1   번지                      1118597 non-null  object \n",
            " 2   본번                      1118747 non-null  float64\n",
            " 3   부번                      1118747 non-null  float64\n",
            " 4   아파트명                    1116696 non-null  object \n",
            " 5   전용면적(㎡)                 1118822 non-null  float64\n",
            " 6   계약년월                    1118822 non-null  int64  \n",
            " 7   계약일                     1118822 non-null  int64  \n",
            " 8   층                       1118822 non-null  int64  \n",
            " 9   건축년도                    1118822 non-null  int64  \n",
            " 10  도로명                     1118822 non-null  object \n",
            " 11  해제사유발생일                 5983 non-null     float64\n",
            " 12  등기신청일자                  1118822 non-null  object \n",
            " 13  거래유형                    1118822 non-null  object \n",
            " 14  중개사소재지                  1118822 non-null  object \n",
            " 15  k-단지분류(아파트,주상복합등등)      248131 non-null   object \n",
            " 16  k-전화번호                  248548 non-null   object \n",
            " 17  k-팩스번호                  246080 non-null   object \n",
            " 18  단지소개기존clob              68582 non-null    float64\n",
            " 19  k-세대타입(분양형태)            249259 non-null   object \n",
            " 20  k-관리방식                  249259 non-null   object \n",
            " 21  k-복도유형                  248932 non-null   object \n",
            " 22  k-난방방식                  249259 non-null   object \n",
            " 23  k-전체동수                  248192 non-null   float64\n",
            " 24  k-전체세대수                 249259 non-null   float64\n",
            " 25  k-건설사(시공사)              247764 non-null   object \n",
            " 26  k-시행사                   247568 non-null   object \n",
            " 27  k-사용검사일-사용승인일           249126 non-null   object \n",
            " 28  k-연면적                   249259 non-null   float64\n",
            " 29  k-주거전용면적                249214 non-null   float64\n",
            " 30  k-관리비부과면적               249259 non-null   float64\n",
            " 31  k-전용면적별세대현황(60㎡이하)      249214 non-null   float64\n",
            " 32  k-전용면적별세대현황(60㎡~85㎡이하)  249214 non-null   float64\n",
            " 33  k-85㎡~135㎡이하            249214 non-null   float64\n",
            " 34  k-135㎡초과                327 non-null      float64\n",
            " 35  k-홈페이지                  113175 non-null   object \n",
            " 36  k-등록일자                  10990 non-null    object \n",
            " 37  k-수정일자                  249214 non-null   object \n",
            " 38  고용보험관리번호                205518 non-null   object \n",
            " 39  경비비관리형태                 247834 non-null   object \n",
            " 40  세대전기계약방법                240075 non-null   object \n",
            " 41  청소비관리형태                 247644 non-null   object \n",
            " 42  건축면적                    249108 non-null   float64\n",
            " 43  주차대수                    249108 non-null   float64\n",
            " 44  기타/의무/임대/임의=1/2/3/4     249259 non-null   object \n",
            " 45  단지승인일                   248536 non-null   object \n",
            " 46  사용허가여부                  249259 non-null   object \n",
            " 47  관리비 업로드                 249259 non-null   object \n",
            " 48  좌표X                     249152 non-null   float64\n",
            " 49  좌표Y                     249152 non-null   float64\n",
            " 50  단지신청일                   249197 non-null   object \n",
            " 51  target                  1118822 non-null  int64  \n",
            "dtypes: float64(18), int64(5), object(29)\n",
            "memory usage: 443.9+ MB\n"
          ]
        }
      ],
      "source": [
        "dt.info()"
      ]
    },
    {
      "cell_type": "code",
      "execution_count": 8,
      "metadata": {},
      "outputs": [
        {
          "name": "stdout",
          "output_type": "stream",
          "text": [
            "<class 'pandas.core.frame.DataFrame'>\n",
            "RangeIndex: 9272 entries, 0 to 9271\n",
            "Data columns (total 51 columns):\n",
            " #   Column                  Non-Null Count  Dtype  \n",
            "---  ------                  --------------  -----  \n",
            " 0   시군구                     9272 non-null   object \n",
            " 1   번지                      9270 non-null   object \n",
            " 2   본번                      9272 non-null   float64\n",
            " 3   부번                      9272 non-null   float64\n",
            " 4   아파트명                    9262 non-null   object \n",
            " 5   전용면적(㎡)                 9272 non-null   float64\n",
            " 6   계약년월                    9272 non-null   int64  \n",
            " 7   계약일                     9272 non-null   int64  \n",
            " 8   층                       9272 non-null   int64  \n",
            " 9   건축년도                    9272 non-null   int64  \n",
            " 10  도로명                     9272 non-null   object \n",
            " 11  해제사유발생일                 212 non-null    float64\n",
            " 12  등기신청일자                  9272 non-null   object \n",
            " 13  거래유형                    9272 non-null   object \n",
            " 14  중개사소재지                  9272 non-null   object \n",
            " 15  k-단지분류(아파트,주상복합등등)      2690 non-null   object \n",
            " 16  k-전화번호                  2696 non-null   object \n",
            " 17  k-팩스번호                  2666 non-null   object \n",
            " 18  단지소개기존clob              554 non-null    float64\n",
            " 19  k-세대타입(분양형태)            2710 non-null   object \n",
            " 20  k-관리방식                  2710 non-null   object \n",
            " 21  k-복도유형                  2708 non-null   object \n",
            " 22  k-난방방식                  2710 non-null   object \n",
            " 23  k-전체동수                  2695 non-null   float64\n",
            " 24  k-전체세대수                 2710 non-null   float64\n",
            " 25  k-건설사(시공사)              2693 non-null   object \n",
            " 26  k-시행사                   2692 non-null   object \n",
            " 27  k-사용검사일-사용승인일           2709 non-null   object \n",
            " 28  k-연면적                   2710 non-null   float64\n",
            " 29  k-주거전용면적                2710 non-null   float64\n",
            " 30  k-관리비부과면적               2710 non-null   float64\n",
            " 31  k-전용면적별세대현황(60㎡이하)      2710 non-null   float64\n",
            " 32  k-전용면적별세대현황(60㎡~85㎡이하)  2710 non-null   float64\n",
            " 33  k-85㎡~135㎡이하            2710 non-null   float64\n",
            " 34  k-135㎡초과                2 non-null      float64\n",
            " 35  k-홈페이지                  1396 non-null   object \n",
            " 36  k-등록일자                  718 non-null    object \n",
            " 37  k-수정일자                  2710 non-null   object \n",
            " 38  고용보험관리번호                1819 non-null   object \n",
            " 39  경비비관리형태                 2699 non-null   object \n",
            " 40  세대전기계약방법                2630 non-null   object \n",
            " 41  청소비관리형태                 2699 non-null   object \n",
            " 42  건축면적                    2707 non-null   float64\n",
            " 43  주차대수                    2709 non-null   float64\n",
            " 44  기타/의무/임대/임의=1/2/3/4     2710 non-null   object \n",
            " 45  단지승인일                   2704 non-null   object \n",
            " 46  사용허가여부                  2710 non-null   object \n",
            " 47  관리비 업로드                 2710 non-null   object \n",
            " 48  좌표X                     2710 non-null   float64\n",
            " 49  좌표Y                     2710 non-null   float64\n",
            " 50  단지신청일                   2710 non-null   object \n",
            "dtypes: float64(18), int64(4), object(29)\n",
            "memory usage: 3.6+ MB\n"
          ]
        }
      ],
      "source": [
        "dt_test.info()"
      ]
    },
    {
      "cell_type": "code",
      "execution_count": 9,
      "metadata": {
        "colab": {
          "base_uri": "https://localhost:8080/"
        },
        "id": "O6tWMND66vT8",
        "outputId": "e0ba702b-6662-4723-c5a1-600d7236e597"
      },
      "outputs": [
        {
          "name": "stdout",
          "output_type": "stream",
          "text": [
            "Train data shape :  (1118822, 52) Test data shape :  (9272, 51)\n"
          ]
        }
      ],
      "source": [
        "# Train data와 Test data shape은 아래와 같습니다.\n",
        "print('Train data shape : ', dt.shape, 'Test data shape : ', dt_test.shape)"
      ]
    },
    {
      "cell_type": "code",
      "execution_count": 10,
      "metadata": {},
      "outputs": [
        {
          "data": {
            "text/plain": [
              "Index(['시군구', '번지', '본번', '부번', '아파트명', '전용면적(㎡)', '계약년월', '계약일', '층', '건축년도',\n",
              "       '도로명', '해제사유발생일', '등기신청일자', '거래유형', '중개사소재지', 'k-단지분류(아파트,주상복합등등)',\n",
              "       'k-전화번호', 'k-팩스번호', '단지소개기존clob', 'k-세대타입(분양형태)', 'k-관리방식', 'k-복도유형',\n",
              "       'k-난방방식', 'k-전체동수', 'k-전체세대수', 'k-건설사(시공사)', 'k-시행사', 'k-사용검사일-사용승인일',\n",
              "       'k-연면적', 'k-주거전용면적', 'k-관리비부과면적', 'k-전용면적별세대현황(60㎡이하)',\n",
              "       'k-전용면적별세대현황(60㎡~85㎡이하)', 'k-85㎡~135㎡이하', 'k-135㎡초과', 'k-홈페이지',\n",
              "       'k-등록일자', 'k-수정일자', '고용보험관리번호', '경비비관리형태', '세대전기계약방법', '청소비관리형태',\n",
              "       '건축면적', '주차대수', '기타/의무/임대/임의=1/2/3/4', '단지승인일', '사용허가여부', '관리비 업로드',\n",
              "       '좌표X', '좌표Y', '단지신청일', 'target'],\n",
              "      dtype='object')"
            ]
          },
          "execution_count": 10,
          "metadata": {},
          "output_type": "execute_result"
        }
      ],
      "source": [
        "dt.columns"
      ]
    },
    {
      "cell_type": "code",
      "execution_count": 11,
      "metadata": {},
      "outputs": [],
      "source": [
        "dt['계약년'] = dt['계약년월'].map(lambda x : x // 100)\n",
        "dt['계약월'] = dt['계약년월'].map(lambda x : x % 100)\n",
        "\n",
        "dt_test['계약년'] = dt_test['계약년월'].map(lambda x : x // 100)\n",
        "dt_test['계약월'] = dt_test['계약년월'].map(lambda x : x % 100)\n",
        "\n",
        "dt[\"date\"] = pd.to_datetime(dt['계약년'].astype(str) + '-' + dt['계약월'].astype(str) + '-' + dt['계약일'].astype(str))\n",
        "dt_test[\"date\"] = pd.to_datetime(dt_test['계약년'].astype(str) + '-' + dt_test['계약월'].astype(str) + '-' + dt_test['계약일'].astype(str))"
      ]
    },
    {
      "cell_type": "code",
      "execution_count": 12,
      "metadata": {},
      "outputs": [
        {
          "name": "stdout",
          "output_type": "stream",
          "text": [
            "2007 2023 2007-01-01 00:00:00 2023-06-30 00:00:00\n"
          ]
        }
      ],
      "source": [
        "print(dt[\"계약년\"].min(), dt[\"계약년\"].max(), dt['date'].min(), dt['date'].max())"
      ]
    },
    {
      "cell_type": "code",
      "execution_count": 13,
      "metadata": {},
      "outputs": [
        {
          "name": "stdout",
          "output_type": "stream",
          "text": [
            "2023 2023 2023-07-01 00:00:00 2023-09-26 00:00:00\n"
          ]
        }
      ],
      "source": [
        "print(dt_test[\"계약년\"].min(), dt_test[\"계약년\"].max(), dt_test['date'].min(), dt_test['date'].max())"
      ]
    },
    {
      "cell_type": "code",
      "execution_count": 14,
      "metadata": {},
      "outputs": [
        {
          "data": {
            "text/plain": [
              "Index(['시군구', '번지', '본번', '부번', '아파트명', '전용면적(㎡)', '계약년월', '계약일', '층', '건축년도',\n",
              "       '도로명', '해제사유발생일', '등기신청일자', '거래유형', '중개사소재지', 'k-단지분류(아파트,주상복합등등)',\n",
              "       'k-전화번호', 'k-팩스번호', '단지소개기존clob', 'k-세대타입(분양형태)', 'k-관리방식', 'k-복도유형',\n",
              "       'k-난방방식', 'k-전체동수', 'k-전체세대수', 'k-건설사(시공사)', 'k-시행사', 'k-사용검사일-사용승인일',\n",
              "       'k-연면적', 'k-주거전용면적', 'k-관리비부과면적', 'k-전용면적별세대현황(60㎡이하)',\n",
              "       'k-전용면적별세대현황(60㎡~85㎡이하)', 'k-85㎡~135㎡이하', 'k-135㎡초과', 'k-홈페이지',\n",
              "       'k-등록일자', 'k-수정일자', '고용보험관리번호', '경비비관리형태', '세대전기계약방법', '청소비관리형태',\n",
              "       '건축면적', '주차대수', '기타/의무/임대/임의=1/2/3/4', '단지승인일', '사용허가여부', '관리비 업로드',\n",
              "       '좌표X', '좌표Y', '단지신청일', 'target', '계약년', '계약월', 'date'],\n",
              "      dtype='object')"
            ]
          },
          "execution_count": 14,
          "metadata": {},
          "output_type": "execute_result"
        }
      ],
      "source": [
        "dt.columns"
      ]
    },
    {
      "cell_type": "code",
      "execution_count": 15,
      "metadata": {},
      "outputs": [
        {
          "data": {
            "text/plain": [
              "Index(['시군구', '번지', '본번', '부번', '아파트명', '전용면적(㎡)', '계약년월', '계약일', '층', '건축년도',\n",
              "       '도로명', '해제사유발생일', '등기신청일자', '거래유형', '중개사소재지', 'k-단지분류(아파트,주상복합등등)',\n",
              "       'k-전화번호', 'k-팩스번호', '단지소개기존clob', 'k-세대타입(분양형태)', 'k-관리방식', 'k-복도유형',\n",
              "       'k-난방방식', 'k-전체동수', 'k-전체세대수', 'k-건설사(시공사)', 'k-시행사', 'k-사용검사일-사용승인일',\n",
              "       'k-연면적', 'k-주거전용면적', 'k-관리비부과면적', 'k-전용면적별세대현황(60㎡이하)',\n",
              "       'k-전용면적별세대현황(60㎡~85㎡이하)', 'k-85㎡~135㎡이하', 'k-135㎡초과', 'k-홈페이지',\n",
              "       'k-등록일자', 'k-수정일자', '고용보험관리번호', '경비비관리형태', '세대전기계약방법', '청소비관리형태',\n",
              "       '건축면적', '주차대수', '기타/의무/임대/임의=1/2/3/4', '단지승인일', '사용허가여부', '관리비 업로드',\n",
              "       '좌표X', '좌표Y', '단지신청일', '계약년', '계약월', 'date'],\n",
              "      dtype='object')"
            ]
          },
          "execution_count": 15,
          "metadata": {},
          "output_type": "execute_result"
        }
      ],
      "source": [
        "dt_test.columns"
      ]
    },
    {
      "cell_type": "code",
      "execution_count": 16,
      "metadata": {},
      "outputs": [],
      "source": [
        "df_bus = pd.read_csv(\"/root/bus_feature.csv\")\n",
        "df_metro = pd.read_csv(\"/root/subway_feature.csv\")"
      ]
    },
    {
      "cell_type": "code",
      "execution_count": 17,
      "metadata": {},
      "outputs": [],
      "source": [
        "df_interest_rate = pd.read_csv(\"./base_rate.csv\")"
      ]
    },
    {
      "cell_type": "markdown",
      "metadata": {},
      "source": [
        "### 공공주택에 대한 가정 체크\n",
        "- 작업자 : 정혜윤"
      ]
    },
    {
      "cell_type": "code",
      "execution_count": 18,
      "metadata": {},
      "outputs": [],
      "source": [
        "k_rel_cols = ['k-단지분류(아파트,주상복합등등)',\n",
        "    'k-전화번호', 'k-팩스번호', '단지소개기존clob', 'k-세대타입(분양형태)', 'k-관리방식', 'k-복도유형',\n",
        "    'k-난방방식', 'k-전체동수', 'k-전체세대수', 'k-건설사(시공사)', 'k-시행사', 'k-사용검사일-사용승인일',\n",
        "    'k-연면적', 'k-주거전용면적', 'k-관리비부과면적', 'k-전용면적별세대현황(60㎡이하)',\n",
        "    'k-전용면적별세대현황(60㎡~85㎡이하)', 'k-85㎡~135㎡이하', 'k-135㎡초과', 'k-홈페이지',\n",
        "    'k-등록일자', 'k-수정일자']"
      ]
    },
    {
      "cell_type": "code",
      "execution_count": 19,
      "metadata": {},
      "outputs": [
        {
          "data": {
            "text/plain": [
              "869608"
            ]
          },
          "execution_count": 19,
          "metadata": {},
          "output_type": "execute_result"
        }
      ],
      "source": [
        "dt[\"k-전용면적별세대현황(60㎡이하)\"].isnull().sum()"
      ]
    },
    {
      "cell_type": "code",
      "execution_count": 20,
      "metadata": {},
      "outputs": [
        {
          "data": {
            "text/plain": [
              "249214"
            ]
          },
          "execution_count": 20,
          "metadata": {},
          "output_type": "execute_result"
        }
      ],
      "source": [
        "dt[\"k-전용면적별세대현황(60㎡이하)\"].notnull().sum()"
      ]
    },
    {
      "cell_type": "code",
      "execution_count": 21,
      "metadata": {},
      "outputs": [],
      "source": [
        "dt_k_area_isnull = dt[dt['k-전용면적별세대현황(60㎡이하)'].isnull()][k_rel_cols]"
      ]
    },
    {
      "cell_type": "code",
      "execution_count": 22,
      "metadata": {},
      "outputs": [
        {
          "data": {
            "text/plain": [
              "k-단지분류(아파트,주상복합등등)        0\n",
              "단지소개기존clob                0\n",
              "k-시행사                     0\n",
              "k-주거전용면적                  0\n",
              "k-전용면적별세대현황(60㎡이하)        0\n",
              "k-전용면적별세대현황(60㎡~85㎡이하)    0\n",
              "k-85㎡~135㎡이하              0\n",
              "k-135㎡초과                  0\n",
              "k-홈페이지                    0\n",
              "k-등록일자                    0\n",
              "k-수정일자                    0\n",
              "dtype: int64"
            ]
          },
          "execution_count": 22,
          "metadata": {},
          "output_type": "execute_result"
        }
      ],
      "source": [
        "dt_k_area_isnull.loc[:, dt_k_area_isnull.notnull().sum() == 0].notnull().sum()"
      ]
    },
    {
      "cell_type": "code",
      "execution_count": 23,
      "metadata": {},
      "outputs": [
        {
          "data": {
            "text/plain": [
              "k-전화번호           45\n",
              "k-팩스번호           45\n",
              "k-세대타입(분양형태)     45\n",
              "k-관리방식           45\n",
              "k-복도유형           45\n",
              "k-난방방식           45\n",
              "k-전체동수           45\n",
              "k-전체세대수          45\n",
              "k-건설사(시공사)       45\n",
              "k-사용검사일-사용승인일    45\n",
              "k-연면적            45\n",
              "k-관리비부과면적        45\n",
              "dtype: int64"
            ]
          },
          "execution_count": 23,
          "metadata": {},
          "output_type": "execute_result"
        }
      ],
      "source": [
        "dt_k_area_isnull.loc[:, dt_k_area_isnull.notnull().sum() != 0].notnull().sum()"
      ]
    },
    {
      "cell_type": "code",
      "execution_count": 24,
      "metadata": {},
      "outputs": [],
      "source": [
        "dt_k_area_notnull = dt[dt['k-전용면적별세대현황(60㎡이하)'].notnull()][k_rel_cols]"
      ]
    },
    {
      "cell_type": "code",
      "execution_count": 25,
      "metadata": {},
      "outputs": [
        {
          "data": {
            "text/plain": [
              "k-세대타입(분양형태)              0\n",
              "k-관리방식                    0\n",
              "k-난방방식                    0\n",
              "k-전체세대수                   0\n",
              "k-연면적                     0\n",
              "k-주거전용면적                  0\n",
              "k-관리비부과면적                 0\n",
              "k-전용면적별세대현황(60㎡이하)        0\n",
              "k-전용면적별세대현황(60㎡~85㎡이하)    0\n",
              "k-85㎡~135㎡이하              0\n",
              "k-수정일자                    0\n",
              "dtype: int64"
            ]
          },
          "execution_count": 25,
          "metadata": {},
          "output_type": "execute_result"
        }
      ],
      "source": [
        "dt_k_area_notnull.loc[:, dt_k_area_notnull.isnull().sum() == 0].isnull().sum()"
      ]
    },
    {
      "cell_type": "code",
      "execution_count": 26,
      "metadata": {},
      "outputs": [
        {
          "data": {
            "text/plain": [
              "k-단지분류(아파트,주상복합등등)      1083\n",
              "k-전화번호                   711\n",
              "k-팩스번호                  3179\n",
              "단지소개기존clob            180632\n",
              "k-복도유형                   327\n",
              "k-전체동수                  1067\n",
              "k-건설사(시공사)              1495\n",
              "k-시행사                   1646\n",
              "k-사용검사일-사용승인일            133\n",
              "k-135㎡초과              248887\n",
              "k-홈페이지                136039\n",
              "k-등록일자                238224\n",
              "dtype: int64"
            ]
          },
          "execution_count": 26,
          "metadata": {},
          "output_type": "execute_result"
        }
      ],
      "source": [
        "dt_k_area_notnull.loc[:, dt_k_area_notnull.isnull().sum() != 0].isnull().sum()"
      ]
    },
    {
      "cell_type": "code",
      "execution_count": 27,
      "metadata": {},
      "outputs": [
        {
          "data": {
            "text/plain": [
              "k-단지분류(아파트,주상복합등등)    0.0043\n",
              "k-전화번호                0.0029\n",
              "k-팩스번호                0.0128\n",
              "단지소개기존clob            0.7248\n",
              "k-복도유형                0.0013\n",
              "k-전체동수                0.0043\n",
              "k-건설사(시공사)            0.0060\n",
              "k-시행사                 0.0066\n",
              "k-사용검사일-사용승인일         0.0005\n",
              "k-135㎡초과              0.9987\n",
              "k-홈페이지                0.5459\n",
              "k-등록일자                0.9559\n",
              "dtype: float64"
            ]
          },
          "execution_count": 27,
          "metadata": {},
          "output_type": "execute_result"
        }
      ],
      "source": [
        "(dt_k_area_notnull.loc[:, dt_k_area_notnull.isnull().sum() != 0].isnull().sum()/dt_k_area_notnull.shape[0]).round(4)"
      ]
    },
    {
      "cell_type": "code",
      "execution_count": 28,
      "metadata": {},
      "outputs": [],
      "source": [
        "# dt_k_area_isnull 중 notnull().sum() == 0 인 컬럼들을 dt_k_area_notnull에 대하여 체크하기\n",
        "\n",
        "cols_to_check = dt_k_area_isnull.loc[:, dt_k_area_isnull.notnull().sum() == 0].columns.tolist()"
      ]
    },
    {
      "cell_type": "code",
      "execution_count": 29,
      "metadata": {},
      "outputs": [
        {
          "data": {
            "text/plain": [
              "k-단지분류(아파트,주상복합등등)          1083\n",
              "단지소개기존clob                180632\n",
              "k-시행사                       1646\n",
              "k-주거전용면적                       0\n",
              "k-전용면적별세대현황(60㎡이하)             0\n",
              "k-전용면적별세대현황(60㎡~85㎡이하)         0\n",
              "k-85㎡~135㎡이하                   0\n",
              "k-135㎡초과                  248887\n",
              "k-홈페이지                    136039\n",
              "k-등록일자                    238224\n",
              "k-수정일자                         0\n",
              "dtype: int64"
            ]
          },
          "execution_count": 29,
          "metadata": {},
          "output_type": "execute_result"
        }
      ],
      "source": [
        "dt_k_area_notnull[cols_to_check].isnull().sum()"
      ]
    },
    {
      "cell_type": "code",
      "execution_count": 30,
      "metadata": {},
      "outputs": [],
      "source": [
        "# 우선 dt_k_area_isnull 에 대하여 notnull().sum() == 0 이면서, dt_k_area_notnull 에 대하여 isnull().sum() == 0 이어야 공공주택과 아닌 경우를 구분할 수 있는 의미가 있는 컬럼을 판단\n",
        "\n",
        "cols_to_use = []\n",
        "for col in dt_k_area_isnull.loc[:, dt_k_area_isnull.notnull().sum() == 0].columns.tolist():\n",
        "    if col in dt_k_area_notnull.loc[:, dt_k_area_notnull.isnull().sum() == 0].columns.tolist():\n",
        "        cols_to_use.append(col)"
      ]
    },
    {
      "cell_type": "code",
      "execution_count": 31,
      "metadata": {},
      "outputs": [
        {
          "data": {
            "text/plain": [
              "['k-주거전용면적',\n",
              " 'k-전용면적별세대현황(60㎡이하)',\n",
              " 'k-전용면적별세대현황(60㎡~85㎡이하)',\n",
              " 'k-85㎡~135㎡이하',\n",
              " 'k-수정일자']"
            ]
          },
          "execution_count": 31,
          "metadata": {},
          "output_type": "execute_result"
        }
      ],
      "source": [
        "cols_to_use"
      ]
    },
    {
      "cell_type": "code",
      "execution_count": 32,
      "metadata": {},
      "outputs": [],
      "source": [
        "cols_to_drop = []\n",
        "\n",
        "for col in k_rel_cols:\n",
        "    if col not in cols_to_use:\n",
        "        cols_to_drop.append(col)"
      ]
    },
    {
      "cell_type": "code",
      "execution_count": 33,
      "metadata": {},
      "outputs": [],
      "source": [
        "dt['is_public'] = dt[\"k-전용면적별세대현황(60㎡이하)\"].notnull()"
      ]
    },
    {
      "cell_type": "code",
      "execution_count": 34,
      "metadata": {},
      "outputs": [],
      "source": [
        "dt_test['is_public'] = dt_test[\"k-전용면적별세대현황(60㎡이하)\"].notnull()"
      ]
    },
    {
      "cell_type": "code",
      "execution_count": 35,
      "metadata": {},
      "outputs": [
        {
          "data": {
            "text/plain": [
              "False    869608\n",
              "True     249214\n",
              "Name: is_public, dtype: int64"
            ]
          },
          "execution_count": 35,
          "metadata": {},
          "output_type": "execute_result"
        }
      ],
      "source": [
        "dt['is_public'].value_counts()"
      ]
    },
    {
      "cell_type": "code",
      "execution_count": 36,
      "metadata": {},
      "outputs": [],
      "source": [
        "dt = dt.drop(columns = cols_to_drop)"
      ]
    },
    {
      "cell_type": "code",
      "execution_count": 37,
      "metadata": {},
      "outputs": [],
      "source": [
        "dt_test = dt_test.drop(columns = cols_to_drop)"
      ]
    },
    {
      "cell_type": "markdown",
      "metadata": {},
      "source": [
        "### 등기정보 및 x좌표 y좌표 체크"
      ]
    },
    {
      "cell_type": "code",
      "execution_count": 38,
      "metadata": {},
      "outputs": [],
      "source": [
        "basic_cols = ['시군구', '번지', '본번', '부번', '아파트명', 'target']"
      ]
    },
    {
      "cell_type": "code",
      "execution_count": 39,
      "metadata": {},
      "outputs": [],
      "source": [
        "cols_except_k = []\n",
        "for col in dt.columns.tolist():\n",
        "    if (col not in k_rel_cols) & (col not in basic_cols):\n",
        "        cols_except_k.append(col)  "
      ]
    },
    {
      "cell_type": "code",
      "execution_count": 40,
      "metadata": {},
      "outputs": [
        {
          "data": {
            "text/plain": [
              "전용면적(㎡)                      0\n",
              "계약년월                         0\n",
              "계약일                          0\n",
              "층                            0\n",
              "건축년도                         0\n",
              "도로명                          0\n",
              "해제사유발생일                1112839\n",
              "등기신청일자                       0\n",
              "거래유형                         0\n",
              "중개사소재지                       0\n",
              "고용보험관리번호                913304\n",
              "경비비관리형태                 870988\n",
              "세대전기계약방법                878747\n",
              "청소비관리형태                 871178\n",
              "건축면적                    869714\n",
              "주차대수                    869714\n",
              "기타/의무/임대/임의=1/2/3/4     869563\n",
              "단지승인일                   870286\n",
              "사용허가여부                  869563\n",
              "관리비 업로드                 869563\n",
              "좌표X                     869670\n",
              "좌표Y                     869670\n",
              "단지신청일                   869625\n",
              "계약년                          0\n",
              "계약월                          0\n",
              "date                         0\n",
              "is_public                    0\n",
              "dtype: int64"
            ]
          },
          "execution_count": 40,
          "metadata": {},
          "output_type": "execute_result"
        }
      ],
      "source": [
        "dt[cols_except_k].isnull().sum()"
      ]
    },
    {
      "cell_type": "code",
      "execution_count": 41,
      "metadata": {},
      "outputs": [
        {
          "data": {
            "text/plain": [
              "전용면적(㎡)      0\n",
              "계약년월         0\n",
              "계약일          0\n",
              "층            0\n",
              "건축년도         0\n",
              "도로명          0\n",
              "등기신청일자       0\n",
              "거래유형         0\n",
              "중개사소재지       0\n",
              "계약년          0\n",
              "계약월          0\n",
              "date         0\n",
              "is_public    0\n",
              "dtype: int64"
            ]
          },
          "execution_count": 41,
          "metadata": {},
          "output_type": "execute_result"
        }
      ],
      "source": [
        "dt[cols_except_k].loc[:, dt[cols_except_k].isnull().sum() == 0].isnull().sum()"
      ]
    },
    {
      "cell_type": "markdown",
      "metadata": {},
      "source": [
        "### 분석"
      ]
    },
    {
      "cell_type": "code",
      "execution_count": 42,
      "metadata": {},
      "outputs": [
        {
          "data": {
            "text/plain": [
              "Index(['시군구', '번지', '본번', '부번', '아파트명', '전용면적(㎡)', '계약년월', '계약일', '층', '건축년도',\n",
              "       '도로명', '해제사유발생일', '등기신청일자', '거래유형', '중개사소재지', 'k-주거전용면적',\n",
              "       'k-전용면적별세대현황(60㎡이하)', 'k-전용면적별세대현황(60㎡~85㎡이하)', 'k-85㎡~135㎡이하',\n",
              "       'k-수정일자', '고용보험관리번호', '경비비관리형태', '세대전기계약방법', '청소비관리형태', '건축면적', '주차대수',\n",
              "       '기타/의무/임대/임의=1/2/3/4', '단지승인일', '사용허가여부', '관리비 업로드', '좌표X', '좌표Y',\n",
              "       '단지신청일', 'target', '계약년', '계약월', 'date', 'is_public'],\n",
              "      dtype='object')"
            ]
          },
          "execution_count": 42,
          "metadata": {},
          "output_type": "execute_result"
        }
      ],
      "source": [
        "dt.columns"
      ]
    },
    {
      "cell_type": "code",
      "execution_count": 44,
      "metadata": {},
      "outputs": [],
      "source": [
        "dt['구'] = dt['시군구'].map(lambda x : x.split()[1])\n",
        "dt['동'] = dt['시군구'].map(lambda x : x.split()[2])\n",
        "del dt['시군구']"
      ]
    },
    {
      "cell_type": "code",
      "execution_count": 45,
      "metadata": {},
      "outputs": [],
      "source": [
        "dt_test['구'] = dt_test['시군구'].map(lambda x : x.split()[1])\n",
        "dt_test['동'] = dt_test['시군구'].map(lambda x : x.split()[2])\n",
        "del dt_test['시군구']"
      ]
    },
    {
      "cell_type": "code",
      "execution_count": 46,
      "metadata": {},
      "outputs": [
        {
          "data": {
            "text/plain": [
              "구\n",
              "강남구     114847.461503\n",
              "서초구     113608.653390\n",
              "용산구     105876.961900\n",
              "송파구      83868.032920\n",
              "성동구      68924.389400\n",
              "광진구      67158.379293\n",
              "마포구      64445.226137\n",
              "중구       62084.985733\n",
              "동작구      60936.451058\n",
              "양천구      59042.132927\n",
              "종로구      57674.032963\n",
              "영등포구     56137.342464\n",
              "강동구      54402.872801\n",
              "서대문구     49082.573688\n",
              "동대문구     45194.761822\n",
              "성북구      45117.779038\n",
              "강서구      44215.453701\n",
              "은평구      43721.691848\n",
              "관악구      41954.133039\n",
              "구로구      38605.012447\n",
              "강북구      38316.975201\n",
              "중랑구      35195.762819\n",
              "노원구      33870.444730\n",
              "금천구      33709.248647\n",
              "도봉구      31924.613711\n",
              "Name: target, dtype: float64"
            ]
          },
          "execution_count": 46,
          "metadata": {},
          "output_type": "execute_result"
        }
      ],
      "source": [
        "dt.groupby(\"구\")[\"target\"].mean().sort_values(ascending=False)"
      ]
    },
    {
      "cell_type": "code",
      "execution_count": 47,
      "metadata": {},
      "outputs": [],
      "source": [
        "mean_val_by_gu = dt.groupby(\"구\")[\"target\"].mean().sort_values(ascending=False)"
      ]
    },
    {
      "cell_type": "code",
      "execution_count": 48,
      "metadata": {},
      "outputs": [
        {
          "data": {
            "text/plain": [
              "동\n",
              "신문로2가     329833.333333\n",
              "장충동1가     255131.818182\n",
              "압구정동      203222.949968\n",
              "용산동5가     188139.910569\n",
              "홍파동       170336.419753\n",
              "              ...      \n",
              "영등포동4가     13926.136364\n",
              "미근동        13084.848485\n",
              "영등포동3가     11530.827068\n",
              "안암동5가      11300.000000\n",
              "장충동2가       8530.128205\n",
              "Name: target, Length: 337, dtype: float64"
            ]
          },
          "execution_count": 48,
          "metadata": {},
          "output_type": "execute_result"
        }
      ],
      "source": [
        "dt.groupby(\"동\")[\"target\"].mean().sort_values(ascending=False)"
      ]
    },
    {
      "cell_type": "code",
      "execution_count": 49,
      "metadata": {},
      "outputs": [],
      "source": [
        "mean_val_by_dong = dt.groupby(\"동\")[\"target\"].mean().sort_values(ascending=False)"
      ]
    },
    {
      "cell_type": "code",
      "execution_count": 50,
      "metadata": {},
      "outputs": [
        {
          "data": {
            "text/plain": [
              "구\n",
              "용산구     90148.440633\n",
              "강남구     78572.045476\n",
              "서초구     74485.257724\n",
              "송파구     47626.592378\n",
              "성동구     45378.104410\n",
              "종로구     41036.478979\n",
              "양천구     37811.589121\n",
              "영등포구    37610.116967\n",
              "광진구     35952.014115\n",
              "중구      35533.593585\n",
              "마포구     35529.508459\n",
              "동작구     29448.545826\n",
              "강동구     28152.234720\n",
              "서대문구    27368.356400\n",
              "강서구     23947.649811\n",
              "동대문구    22755.297441\n",
              "은평구     21368.819979\n",
              "구로구     19893.188082\n",
              "성북구     19874.793126\n",
              "관악구     18337.719985\n",
              "노원구     17460.680792\n",
              "금천구     16949.254267\n",
              "중랑구     16822.560420\n",
              "강북구     16429.208005\n",
              "도봉구     15887.709700\n",
              "Name: target, dtype: float64"
            ]
          },
          "execution_count": 50,
          "metadata": {},
          "output_type": "execute_result"
        }
      ],
      "source": [
        "dt.groupby(\"구\")[\"target\"].std().sort_values(ascending=False)"
      ]
    },
    {
      "cell_type": "code",
      "execution_count": 51,
      "metadata": {},
      "outputs": [],
      "source": [
        "std_val_by_gu = dt.groupby(\"구\")[\"target\"].std().sort_values(ascending=False)"
      ]
    },
    {
      "cell_type": "code",
      "execution_count": 52,
      "metadata": {},
      "outputs": [
        {
          "data": {
            "text/plain": [
              "동\n",
              "한남동       186577.761692\n",
              "장충동1가     152718.687553\n",
              "반포동       100821.951289\n",
              "성수동1가     100050.693828\n",
              "압구정동       97856.744540\n",
              "              ...      \n",
              "충신동         1502.873888\n",
              "영등포동4가      1384.283234\n",
              "영등포동3가       614.555820\n",
              "안암동5가          0.000000\n",
              "입정동                 NaN\n",
              "Name: target, Length: 337, dtype: float64"
            ]
          },
          "execution_count": 52,
          "metadata": {},
          "output_type": "execute_result"
        }
      ],
      "source": [
        "dt.groupby(\"동\")[\"target\"].std().sort_values(ascending=False)"
      ]
    },
    {
      "cell_type": "code",
      "execution_count": 53,
      "metadata": {},
      "outputs": [],
      "source": [
        "std_val_by_dong = dt.groupby(\"동\")[\"target\"].std().sort_values(ascending=False)"
      ]
    },
    {
      "cell_type": "code",
      "execution_count": 54,
      "metadata": {},
      "outputs": [
        {
          "data": {
            "text/plain": [
              "Text(0.5, 1.0, '구별 평균가')"
            ]
          },
          "execution_count": 54,
          "metadata": {},
          "output_type": "execute_result"
        },
        {
          "data": {
            "image/png": "[encoded data removed]",
            "text/plain": [
              "<Figure size 2400x900 with 1 Axes>"
            ]
          },
          "metadata": {},
          "output_type": "display_data"
        }
      ],
      "source": [
        "plt.figure(figsize=(24, 9))\n",
        "mean_val_by_gu.plot.bar()\n",
        "plt.title(\"구별 평균가\")"
      ]
    },
    {
      "cell_type": "code",
      "execution_count": 55,
      "metadata": {},
      "outputs": [],
      "source": [
        "list_of_gu = dt[\"구\"].unique().tolist()"
      ]
    },
    {
      "cell_type": "code",
      "execution_count": 56,
      "metadata": {},
      "outputs": [
        {
          "data": {
            "text/plain": [
              "25"
            ]
          },
          "execution_count": 56,
          "metadata": {},
          "output_type": "execute_result"
        }
      ],
      "source": [
        "len(list_of_gu)"
      ]
    },
    {
      "cell_type": "code",
      "execution_count": 57,
      "metadata": {},
      "outputs": [
        {
          "data": {
            "image/png": "[encoded data removed]",
            "text/plain": [
              "<Figure size 2400x900 with 1 Axes>"
            ]
          },
          "metadata": {},
          "output_type": "display_data"
        }
      ],
      "source": [
        "plt.figure(figsize=(24, 9))\n",
        "sns.boxplot(data=dt, x=\"구\", y=\"target\")\n",
        "\n",
        "plt.xticks(rotation=90)\n",
        "plt.title('Apartment Prices Distribution by District')\n",
        "plt.xlabel('District')\n",
        "plt.ylabel('Apartment Price')\n",
        "\n",
        "plt.tight_layout()\n",
        "plt.show()"
      ]
    },
    {
      "cell_type": "code",
      "execution_count": 58,
      "metadata": {},
      "outputs": [],
      "source": [
        "dt = dt.drop(columns = ['번지', '본번', '부번', '아파트명'])\n",
        "dt_test = dt_test.drop(columns = ['번지', '본번', '부번', '아파트명'])"
      ]
    },
    {
      "cell_type": "code",
      "execution_count": 59,
      "metadata": {},
      "outputs": [],
      "source": [
        "dt.rename(columns={'도로명': 'street'}, inplace=True)\n",
        "dt_test.rename(columns={'도로명': 'street'}, inplace=True)"
      ]
    },
    {
      "cell_type": "code",
      "execution_count": 60,
      "metadata": {},
      "outputs": [],
      "source": [
        "# 언선님이 해준 좌표 작업은 나중에 추가하기\n",
        "# coords = pd.read_csv(\"좌표.csv\")"
      ]
    },
    {
      "cell_type": "code",
      "execution_count": 61,
      "metadata": {},
      "outputs": [],
      "source": [
        "# coords.set_index('street', inplace=True)"
      ]
    },
    {
      "cell_type": "code",
      "execution_count": 62,
      "metadata": {},
      "outputs": [],
      "source": [
        "# for index, row in dt.iterrows():\n",
        "#     if pd.isnull(row['좌표X']) or pd.isnull(row['좌표Y']):\n",
        "#         street = row['street']\n",
        "#         if street in coords.index:\n",
        "#             dt.at[index, '좌표X'] = coords.loc[street, '좌표X']\n",
        "#             dt.at[index, '좌표Y'] = coords.loc[street, '좌표Y']"
      ]
    },
    {
      "cell_type": "code",
      "execution_count": 63,
      "metadata": {},
      "outputs": [],
      "source": [
        "# for index, row in dt_test.iterrows():\n",
        "#     if pd.isnull(row['좌표X']) or pd.isnull(row['좌표Y']):\n",
        "#         street = row['street']\n",
        "#         if street in coords.index:\n",
        "#             dt.at[index, '좌표X'] = coords.loc[street, '좌표X']\n",
        "#             dt.at[index, '좌표Y'] = coords.loc[street, '좌표Y']"
      ]
    },
    {
      "cell_type": "code",
      "execution_count": 64,
      "metadata": {},
      "outputs": [],
      "source": [
        "# dt['좌표X'].isnull().sum()"
      ]
    },
    {
      "cell_type": "code",
      "execution_count": 65,
      "metadata": {},
      "outputs": [],
      "source": [
        "# dt_test['좌표X'].isnull().sum()"
      ]
    },
    {
      "cell_type": "code",
      "execution_count": 66,
      "metadata": {},
      "outputs": [],
      "source": [
        "df_interest_rate.rename(columns={'날짜': 'date'}, inplace=True)"
      ]
    },
    {
      "cell_type": "code",
      "execution_count": 67,
      "metadata": {},
      "outputs": [],
      "source": [
        "df_interest_rate['date'] = pd.to_datetime(df_interest_rate['date'])"
      ]
    },
    {
      "cell_type": "code",
      "execution_count": 68,
      "metadata": {},
      "outputs": [],
      "source": [
        "dt_merge = pd.merge(dt, df_interest_rate, on = 'date', how='left')\n",
        "dt_test_merge = pd.merge(dt_test, df_interest_rate, on = 'date', how='left')"
      ]
    },
    {
      "cell_type": "markdown",
      "metadata": {
        "id": "KVjw5Cnz24nz"
      },
      "source": [
        "## 3. Data Preprocessing"
      ]
    },
    {
      "cell_type": "markdown",
      "metadata": {
        "id": "X24Y1OIR2_oa"
      },
      "source": [
        "- 모델링 전에 데이터 내 결측치, 이상치 등을 제거하고 범주형과 연속형 변수를 살펴보도록 하겠습니다!\n",
        "- 먼저, 용이한 전처리를 위해 train과 test data를 합친 하나의 데이터로 진행하도록 하겠습니다."
      ]
    },
    {
      "cell_type": "code",
      "execution_count": 131,
      "metadata": {
        "id": "vltXVoeRhZiI"
      },
      "outputs": [],
      "source": [
        "# train/test 구분을 위한 칼럼을 하나 만들어 줍니다.\n",
        "dt_merge['is_test'] = 0\n",
        "dt_test_merge['is_test'] = 1\n",
        "concat = pd.concat([dt_merge, dt_test_merge])     # 하나의 데이터로 만들어줍니다."
      ]
    },
    {
      "cell_type": "code",
      "execution_count": 132,
      "metadata": {
        "colab": {
          "base_uri": "https://localhost:8080/"
        },
        "id": "e-iZAY9WxQLK",
        "outputId": "ee049806-cb94-4336-f376-6a5c6947f79a"
      },
      "outputs": [
        {
          "data": {
            "text/plain": [
              "0    1118822\n",
              "1       9272\n",
              "Name: is_test, dtype: int64"
            ]
          },
          "execution_count": 132,
          "metadata": {},
          "output_type": "execute_result"
        }
      ],
      "source": [
        "concat['is_test'].value_counts()      # train과 test data가 하나로 합쳐진 것을 확인할 수 있습니다."
      ]
    },
    {
      "cell_type": "markdown",
      "metadata": {
        "id": "jQLCLZYM_vBT"
      },
      "source": [
        "### 3.1. 결측치 탐색 및 보간\n",
        "- 결측치를 처리할 때 많이 쓰는 방법은 삭제(Deletion)과 대체(Imputation) 입니다.\n",
        "- 본 Baseline에서는 결측치가 90% 이상을 차지하는 변수의 결측치는 제거하고, 나머지 결측치는 대체하도록 하겠습니다.\n",
        "  - 연속형 변수의 경우에는 선형보간(Linear interpolation)으로 대체하겠습니다.\n",
        "  - 범주형 변수의 경우에는 'NULL' 이라는 임의의 범주로 대체해주도록 하겠습니다."
      ]
    },
    {
      "cell_type": "markdown",
      "metadata": {
        "id": "e6BUATgqyhOA"
      },
      "source": [
        "- 참고 ✅\n",
        "  - 선형보간(Linear interpolation)이란 두 점의 값이 주어졌을 때 **그 사이의 값**을 추정하기 위해 직선 거리에 따라 선형적으로 계산하는 방법입니다.\n",
        "  - 아래 두개의 붉은 점 사이에 ($x$, $y$) 값을 추정하기 위해, 해당 점이 두 붉은 점을 이은 선형적인 선분에 있다고 가정하고, 단순 비례식으로 ($x$, $y$)를 추정해 보간하는 방법입니다.\n",
        "  - [참고자료](https://ko.wikipedia.org/wiki/%EC%84%A0%ED%98%95_%EB%B3%B4%EA%B0%84%EB%B2%95#:~:text=%EC%84%A0%ED%98%95%20%EB%B3%B4%EA%B0%84%EB%B2%95(%E7%B7%9A%E5%9E%8B%E8%A3%9C%E9%96%93%E6%B3%95,%EC%9C%BC%EB%A1%9C%20%EA%B3%84%EC%82%B0%ED%95%98%EB%8A%94%20%EB%B0%A9%EB%B2%95%EC%9D%B4%EB%8B%A4.)\n"
      ]
    },
    {
      "cell_type": "code",
      "execution_count": 133,
      "metadata": {
        "id": "PSC14w1WZ-5I"
      },
      "outputs": [],
      "source": [
        "# 위 처럼 아무 의미도 갖지 않는 칼럼은 결측치와 같은 역할을 하므로, np.nan으로 채워 결측치로 인식되도록 합니다.\n",
        "concat['등기신청일자'] = concat['등기신청일자'].replace(' ', np.nan)\n",
        "concat['거래유형'] = concat['거래유형'].replace('-', np.nan)\n",
        "concat['중개사소재지'] = concat['중개사소재지'].replace('-', np.nan)"
      ]
    },
    {
      "cell_type": "code",
      "execution_count": 134,
      "metadata": {
        "colab": {
          "base_uri": "https://localhost:8080/"
        },
        "id": "msOiDlOPQ8hS",
        "outputId": "4ab60461-ef7e-4037-e6f4-5de494eed5bd"
      },
      "outputs": [
        {
          "data": {
            "text/plain": [
              "전용면적(㎡)                         0\n",
              "계약년월                            0\n",
              "계약일                             0\n",
              "층                               0\n",
              "건축년도                            0\n",
              "street                          0\n",
              "해제사유발생일                   1121899\n",
              "등기신청일자                    1111271\n",
              "거래유형                      1086451\n",
              "중개사소재지                    1090013\n",
              "k-주거전용면적                   876170\n",
              "k-전용면적별세대현황(60㎡이하)         876170\n",
              "k-전용면적별세대현황(60㎡~85㎡이하)     876170\n",
              "k-85㎡~135㎡이하               876170\n",
              "k-수정일자                     876170\n",
              "고용보험관리번호                   920757\n",
              "경비비관리형태                    877561\n",
              "세대전기계약방법                   885389\n",
              "청소비관리형태                    877751\n",
              "건축면적                       876279\n",
              "주차대수                       876277\n",
              "기타/의무/임대/임의=1/2/3/4        876125\n",
              "단지승인일                      876854\n",
              "사용허가여부                     876125\n",
              "관리비 업로드                    876125\n",
              "좌표X                        876232\n",
              "좌표Y                        876232\n",
              "단지신청일                      876187\n",
              "target                       9272\n",
              "계약년                             0\n",
              "계약월                             0\n",
              "date                            0\n",
              "is_public                       0\n",
              "구                               0\n",
              "동                               0\n",
              "기준금리                            0\n",
              "is_test                         0\n",
              "dtype: int64"
            ]
          },
          "execution_count": 134,
          "metadata": {},
          "output_type": "execute_result"
        }
      ],
      "source": [
        "# EDA에 앞서 결측치를 확인해보겠습니다.\n",
        "concat.isnull().sum()"
      ]
    },
    {
      "cell_type": "markdown",
      "metadata": {
        "id": "yLNXVw1dysm-"
      },
      "source": [
        "- 위 그래프에서 볼 수 있다시피 결측치가 100만개 이상인 칼럼들은 결측치가 해당 칼럼의 element 중 90% 이상을 차지하는 상황이 됩니다.\n",
        "- 따라서 본 Baseline 에서는 이 칼럼은 예측에 도움이 되지 않는다고 판단해 삭제해주도록 하겠습니다."
      ]
    },
    {
      "cell_type": "code",
      "execution_count": 135,
      "metadata": {},
      "outputs": [],
      "source": [
        "# 위에서 결측치가 100만개 이하인 변수들만 골라 새로운 concat_select 객체로 저장해줍니다.\n",
        "selected = list(concat.columns[concat.isnull().sum() <= 1000000])\n",
        "concat_select = concat[selected]"
      ]
    },
    {
      "cell_type": "code",
      "execution_count": 136,
      "metadata": {
        "colab": {
          "base_uri": "https://localhost:8080/"
        },
        "id": "cOvWhZncQrO_",
        "outputId": "f73f7b51-b5dc-4635-ad5c-6a9eaa5ef1a0"
      },
      "outputs": [
        {
          "data": {
            "text/plain": [
              "전용면적(㎡)                        0\n",
              "계약년월                           0\n",
              "계약일                            0\n",
              "층                              0\n",
              "건축년도                           0\n",
              "street                         0\n",
              "k-주거전용면적                  876170\n",
              "k-전용면적별세대현황(60㎡이하)        876170\n",
              "k-전용면적별세대현황(60㎡~85㎡이하)    876170\n",
              "k-85㎡~135㎡이하              876170\n",
              "k-수정일자                    876170\n",
              "고용보험관리번호                  920757\n",
              "경비비관리형태                   877561\n",
              "세대전기계약방법                  885389\n",
              "청소비관리형태                   877751\n",
              "건축면적                      876279\n",
              "주차대수                      876277\n",
              "기타/의무/임대/임의=1/2/3/4       876125\n",
              "단지승인일                     876854\n",
              "사용허가여부                    876125\n",
              "관리비 업로드                   876125\n",
              "좌표X                       876232\n",
              "좌표Y                       876232\n",
              "단지신청일                     876187\n",
              "target                      9272\n",
              "계약년                            0\n",
              "계약월                            0\n",
              "date                           0\n",
              "is_public                      0\n",
              "구                              0\n",
              "동                              0\n",
              "기준금리                           0\n",
              "is_test                        0\n",
              "dtype: int64"
            ]
          },
          "execution_count": 136,
          "metadata": {},
          "output_type": "execute_result"
        }
      ],
      "source": [
        "concat_select.isnull().sum()     # 결측치가 100만개 초과인 칼럼이 제거된 모습은 아래와 같습니다.\n",
        "# target변수는 test dataset 개수만큼(9272) 결측치가 존재함을 확인할 수 있습니다."
      ]
    },
    {
      "cell_type": "code",
      "execution_count": 137,
      "metadata": {
        "colab": {
          "base_uri": "https://localhost:8080/"
        },
        "id": "OAtKbkR3zTtR",
        "outputId": "5b161b68-f329-4e3a-eaf2-3d076f7f19c7"
      },
      "outputs": [
        {
          "name": "stdout",
          "output_type": "stream",
          "text": [
            "<class 'pandas.core.frame.DataFrame'>\n",
            "Int64Index: 1128094 entries, 0 to 9271\n",
            "Data columns (total 33 columns):\n",
            " #   Column                  Non-Null Count    Dtype         \n",
            "---  ------                  --------------    -----         \n",
            " 0   전용면적(㎡)                 1128094 non-null  float64       \n",
            " 1   계약년월                    1128094 non-null  int64         \n",
            " 2   계약일                     1128094 non-null  int64         \n",
            " 3   층                       1128094 non-null  int64         \n",
            " 4   건축년도                    1128094 non-null  int64         \n",
            " 5   street                  1128094 non-null  object        \n",
            " 6   k-주거전용면적                251924 non-null   float64       \n",
            " 7   k-전용면적별세대현황(60㎡이하)      251924 non-null   float64       \n",
            " 8   k-전용면적별세대현황(60㎡~85㎡이하)  251924 non-null   float64       \n",
            " 9   k-85㎡~135㎡이하            251924 non-null   float64       \n",
            " 10  k-수정일자                  251924 non-null   object        \n",
            " 11  고용보험관리번호                207337 non-null   object        \n",
            " 12  경비비관리형태                 250533 non-null   object        \n",
            " 13  세대전기계약방법                242705 non-null   object        \n",
            " 14  청소비관리형태                 250343 non-null   object        \n",
            " 15  건축면적                    251815 non-null   float64       \n",
            " 16  주차대수                    251817 non-null   float64       \n",
            " 17  기타/의무/임대/임의=1/2/3/4     251969 non-null   object        \n",
            " 18  단지승인일                   251240 non-null   object        \n",
            " 19  사용허가여부                  251969 non-null   object        \n",
            " 20  관리비 업로드                 251969 non-null   object        \n",
            " 21  좌표X                     251862 non-null   float64       \n",
            " 22  좌표Y                     251862 non-null   float64       \n",
            " 23  단지신청일                   251907 non-null   object        \n",
            " 24  target                  1118822 non-null  float64       \n",
            " 25  계약년                     1128094 non-null  int64         \n",
            " 26  계약월                     1128094 non-null  int64         \n",
            " 27  date                    1128094 non-null  datetime64[ns]\n",
            " 28  is_public               1128094 non-null  bool          \n",
            " 29  구                       1128094 non-null  object        \n",
            " 30  동                       1128094 non-null  object        \n",
            " 31  기준금리                    1128094 non-null  float64       \n",
            " 32  is_test                 1128094 non-null  int64         \n",
            "dtypes: bool(1), datetime64[ns](1), float64(11), int64(7), object(13)\n",
            "memory usage: 285.1+ MB\n"
          ]
        }
      ],
      "source": [
        "# 연속형 변수는 선형보간을 해주고, 범주형변수는 알수없기에 “unknown”이라고 임의로 보간해 주겠습니다.\n",
        "concat_select.info()"
      ]
    },
    {
      "cell_type": "code",
      "execution_count": 138,
      "metadata": {
        "colab": {
          "base_uri": "https://localhost:8080/"
        },
        "id": "wVdU-Ge00OGM",
        "outputId": "6bd1a10a-689a-46ef-c0af-c879be59f715"
      },
      "outputs": [],
      "source": [
        "# 먼저, 연속형 변수와 범주형 변수를 위 info에 따라 분리해주겠습니다.\n",
        "continuous_columns = []\n",
        "categorical_columns = []\n",
        "\n",
        "for column in concat_select.columns:\n",
        "    if pd.api.types.is_numeric_dtype(concat_select[column]):\n",
        "        continuous_columns.append(column)\n",
        "    else:\n",
        "        categorical_columns.append(column)"
      ]
    },
    {
      "cell_type": "markdown",
      "metadata": {
        "id": "pVtoElzZ5Y_z"
      },
      "source": [
        "- 연속형 변수와 범주형 변수가 알맞게 나누어졌는지 확인해보고, 이제 각각 보간을 진행합니다."
      ]
    },
    {
      "cell_type": "code",
      "execution_count": 139,
      "metadata": {
        "id": "193c8GTdzzOX"
      },
      "outputs": [],
      "source": [
        "# 범주형 변수에 대한 보간\n",
        "concat_select[categorical_columns] = concat_select[categorical_columns].fillna('NULL')\n",
        "\n",
        "# 연속형 변수에 대한 보간 (선형 보간)\n",
        "concat_select[continuous_columns] = concat_select[continuous_columns].interpolate(method='linear', axis=0)"
      ]
    },
    {
      "cell_type": "code",
      "execution_count": 140,
      "metadata": {
        "colab": {
          "base_uri": "https://localhost:8080/"
        },
        "id": "tTJHspKl0mhM",
        "outputId": "d212330d-6c07-4b68-cc0f-d626eb733bc9"
      },
      "outputs": [
        {
          "data": {
            "text/plain": [
              "전용면적(㎡)                   0\n",
              "계약년월                      0\n",
              "계약일                       0\n",
              "층                         0\n",
              "건축년도                      0\n",
              "street                    0\n",
              "k-주거전용면적                  0\n",
              "k-전용면적별세대현황(60㎡이하)        0\n",
              "k-전용면적별세대현황(60㎡~85㎡이하)    0\n",
              "k-85㎡~135㎡이하              0\n",
              "k-수정일자                    0\n",
              "고용보험관리번호                  0\n",
              "경비비관리형태                   0\n",
              "세대전기계약방법                  0\n",
              "청소비관리형태                   0\n",
              "건축면적                      0\n",
              "주차대수                      0\n",
              "기타/의무/임대/임의=1/2/3/4       0\n",
              "단지승인일                     0\n",
              "사용허가여부                    0\n",
              "관리비 업로드                   0\n",
              "좌표X                       0\n",
              "좌표Y                       0\n",
              "단지신청일                     0\n",
              "target                    0\n",
              "계약년                       0\n",
              "계약월                       0\n",
              "date                      0\n",
              "is_public                 0\n",
              "구                         0\n",
              "동                         0\n",
              "기준금리                      0\n",
              "is_test                   0\n",
              "dtype: int64"
            ]
          },
          "execution_count": 140,
          "metadata": {},
          "output_type": "execute_result"
        }
      ],
      "source": [
        "concat_select.isnull().sum()         # 결측치가 보간된 모습을 확인해봅니다."
      ]
    },
    {
      "cell_type": "markdown",
      "metadata": {
        "id": "4fU1E4SUafVU"
      },
      "source": [
        "- Baseline에서는 단순 결측치들을 제거하거나 보간했지만,\n",
        "EDA를 통해 변수들의 흐름을 조금 더 파악하고 더 나은 interpolation 등의 방법을 고려해볼 수 있을 것 같습니다."
      ]
    },
    {
      "cell_type": "markdown",
      "metadata": {
        "id": "zPm7QkS03RCZ"
      },
      "source": [
        "### 3.2. 이상치 처리\n",
        "- 이번엔 이상치를 처리해봅시다.\n",
        "- 이상치를 처리하는 방법은 IQR, Z-score 등 다양한 방법이 있습니다. 가장 쉽고 직관적으로 접근하는 방법은 기본 통계치를 이용하는 것입니다.\n",
        "- 본 baseline에서는 IQR를 이용한 방법을 사용하겠습니다."
      ]
    },
    {
      "cell_type": "code",
      "execution_count": 141,
      "metadata": {
        "colab": {
          "base_uri": "https://localhost:8080/"
        },
        "id": "t7omvXsd9GP1",
        "outputId": "83808c7b-df9a-46ee-d86a-966e7eff3248"
      },
      "outputs": [],
      "source": [
        "# # 이상치 제거 이전의 shape은 아래와 같습니다.\n",
        "# print(concat_select.shape)"
      ]
    },
    {
      "cell_type": "code",
      "execution_count": 142,
      "metadata": {
        "id": "fOCSdvBd8GJq"
      },
      "outputs": [],
      "source": [
        "# # 이상치 제거 방법에는 IQR을 이용하겠습니다.\n",
        "# def remove_outliers_iqr(dt, column_name):\n",
        "#     df = dt.query('is_test == 0')       # train data 내에 있는 이상치만 제거하도록 하겠습니다.\n",
        "#     df_test = dt.query('is_test == 1')\n",
        "\n",
        "#     Q1 = df[column_name].quantile(0.25)\n",
        "#     Q3 = df[column_name].quantile(0.75)\n",
        "#     IQR = Q3 - Q1\n",
        "\n",
        "#     lower_bound = Q1 - 1.5 * IQR\n",
        "#     upper_bound = Q3 + 1.5 * IQR\n",
        "\n",
        "#     df = df[(df[column_name] >= lower_bound) & (df[column_name] <= upper_bound)]\n",
        "\n",
        "#     result = pd.concat([df, df_test])   # test data와 다시 합쳐주겠습니다.\n",
        "#     return result"
      ]
    },
    {
      "cell_type": "code",
      "execution_count": 143,
      "metadata": {
        "id": "F_GJQBVX8AH9"
      },
      "outputs": [],
      "source": [
        "# # 위 방법으로 전용 면적에 대한 이상치를 제거해보겠습니다.\n",
        "# concat_select = remove_outliers_iqr(concat_select, '전용면적(㎡)')"
      ]
    },
    {
      "cell_type": "code",
      "execution_count": 144,
      "metadata": {
        "colab": {
          "base_uri": "https://localhost:8080/"
        },
        "id": "iBwwOd5t8qbj",
        "outputId": "54409d2d-84cd-4ad3-cb4f-cbe3b71bdfbd"
      },
      "outputs": [],
      "source": [
        "# # 이상치 제거 후의 shape은 아래와 같습니다. 약 10만개의 데이터가 제거된 모습을 확인할 수 있습니다.\n",
        "# print(concat_select.shape)"
      ]
    },
    {
      "cell_type": "markdown",
      "metadata": {
        "id": "9QxCTz0zJg0F"
      },
      "source": [
        "## 4. Feature Engineering\n",
        "- 이제 파생변수를 만들어보도록 하겠습니다.\n",
        "- 파생 변수는 도메인 지식에 기반해 제작하는 것이 중요합니다.\n",
        "- 주택의 가격을 예측하는 문제이기 때문에 약간의 부동산 지식을 기반으로 파생 변수를 만들어 보도록 하겠습니다."
      ]
    },
    {
      "cell_type": "code",
      "execution_count": 145,
      "metadata": {},
      "outputs": [
        {
          "data": {
            "text/plain": [
              "Index(['전용면적(㎡)', '계약년월', '계약일', '층', '건축년도', 'street', 'k-주거전용면적',\n",
              "       'k-전용면적별세대현황(60㎡이하)', 'k-전용면적별세대현황(60㎡~85㎡이하)', 'k-85㎡~135㎡이하',\n",
              "       'k-수정일자', '고용보험관리번호', '경비비관리형태', '세대전기계약방법', '청소비관리형태', '건축면적', '주차대수',\n",
              "       '기타/의무/임대/임의=1/2/3/4', '단지승인일', '사용허가여부', '관리비 업로드', '좌표X', '좌표Y',\n",
              "       '단지신청일', 'target', '계약년', '계약월', 'date', 'is_public', '구', '동', '기준금리',\n",
              "       'is_test'],\n",
              "      dtype='object')"
            ]
          },
          "execution_count": 145,
          "metadata": {},
          "output_type": "execute_result"
        }
      ],
      "source": [
        "concat_select.columns"
      ]
    },
    {
      "cell_type": "code",
      "execution_count": 146,
      "metadata": {},
      "outputs": [],
      "source": [
        "order1_mean_gu = mean_val_by_gu.index.tolist()\n",
        "order2_mean_dong = mean_val_by_dong.index.tolist()\n",
        "order3_std_gu = std_val_by_gu.index.tolist()\n",
        "order4_std_dong = std_val_by_dong.index.tolist()"
      ]
    },
    {
      "cell_type": "code",
      "execution_count": 147,
      "metadata": {},
      "outputs": [],
      "source": [
        "# Create a dictionary to map district names to their corresponding label encoded values\n",
        "gu_mapping1 = {district: label for label, district in enumerate(order1_mean_gu)}"
      ]
    },
    {
      "cell_type": "code",
      "execution_count": 148,
      "metadata": {},
      "outputs": [],
      "source": [
        "gu_mapping2 = {district: label for label, district in enumerate(order3_std_gu)}"
      ]
    },
    {
      "cell_type": "code",
      "execution_count": 149,
      "metadata": {},
      "outputs": [],
      "source": [
        "dong_mapping1 = {dong: label for label, dong in enumerate(order2_mean_dong)}"
      ]
    },
    {
      "cell_type": "code",
      "execution_count": 150,
      "metadata": {},
      "outputs": [],
      "source": [
        "dong_mapping2 = {dong: label for label, dong in enumerate(order4_std_dong)}"
      ]
    },
    {
      "cell_type": "code",
      "execution_count": 151,
      "metadata": {},
      "outputs": [],
      "source": [
        "concat_select['구_encoded'] = concat_select[\"구\"].map(gu_mapping1)"
      ]
    },
    {
      "cell_type": "code",
      "execution_count": 152,
      "metadata": {},
      "outputs": [],
      "source": [
        "concat_select['구_std'] = concat_select[\"구\"].map(gu_mapping2)"
      ]
    },
    {
      "cell_type": "code",
      "execution_count": 153,
      "metadata": {},
      "outputs": [],
      "source": [
        "concat_select['동_encoded'] = concat_select[\"동\"].map(dong_mapping1)"
      ]
    },
    {
      "cell_type": "code",
      "execution_count": 154,
      "metadata": {},
      "outputs": [],
      "source": [
        "concat_select['동_std'] = concat_select[\"동\"].map(dong_mapping2)"
      ]
    },
    {
      "cell_type": "code",
      "execution_count": 155,
      "metadata": {},
      "outputs": [],
      "source": [
        "seoul_bds = [\"강남구\", \"영등포구\", \"용산구\"]"
      ]
    },
    {
      "cell_type": "code",
      "execution_count": 156,
      "metadata": {},
      "outputs": [],
      "source": [
        "concat_select[\"has_bds\"] = concat_select[\"구\"].apply(lambda x : 1 if x in seoul_bds else 0)"
      ]
    },
    {
      "cell_type": "code",
      "execution_count": 157,
      "metadata": {},
      "outputs": [
        {
          "data": {
            "text/plain": [
              "Index(['전용면적(㎡)', '계약년월', '계약일', '층', '건축년도', 'street', 'k-주거전용면적',\n",
              "       'k-전용면적별세대현황(60㎡이하)', 'k-전용면적별세대현황(60㎡~85㎡이하)', 'k-85㎡~135㎡이하',\n",
              "       'k-수정일자', '고용보험관리번호', '경비비관리형태', '세대전기계약방법', '청소비관리형태', '건축면적', '주차대수',\n",
              "       '기타/의무/임대/임의=1/2/3/4', '단지승인일', '사용허가여부', '관리비 업로드', '좌표X', '좌표Y',\n",
              "       '단지신청일', 'target', '계약년', '계약월', 'date', 'is_public', '구', '동', '기준금리',\n",
              "       'is_test', '구_encoded', '구_std', '동_encoded', '동_std', 'has_bds'],\n",
              "      dtype='object')"
            ]
          },
          "execution_count": 157,
          "metadata": {},
          "output_type": "execute_result"
        }
      ],
      "source": [
        "concat_select.columns"
      ]
    },
    {
      "cell_type": "markdown",
      "metadata": {},
      "source": [
        "### add 구별 특성"
      ]
    },
    {
      "cell_type": "code",
      "execution_count": 158,
      "metadata": {},
      "outputs": [],
      "source": [
        "df_zones_original = pd.read_csv(\"./extra_data/2022년_도시계획현황통계_용도지역(시군구별)_서울시.CSV\", encoding='euc-kr', skiprows=1)"
      ]
    },
    {
      "cell_type": "code",
      "execution_count": 159,
      "metadata": {},
      "outputs": [],
      "source": [
        "df_zones_original = df_zones_original.dropna()"
      ]
    },
    {
      "cell_type": "code",
      "execution_count": 160,
      "metadata": {},
      "outputs": [
        {
          "name": "stdout",
          "output_type": "stream",
          "text": [
            "<class 'pandas.core.frame.DataFrame'>\n",
            "RangeIndex: 25 entries, 0 to 24\n",
            "Data columns (total 28 columns):\n",
            " #   Column           Non-Null Count  Dtype  \n",
            "---  ------           --------------  -----  \n",
            " 0   시군구              25 non-null     object \n",
            " 1   도시지역 면적          25 non-null     float64\n",
            " 2   주거지역_소계          25 non-null     float64\n",
            " 3   주거지역_비율          25 non-null     float64\n",
            " 4   주거지역_전용주거_소계     25 non-null     float64\n",
            " 5   주거지역_1종_전용주거     25 non-null     float64\n",
            " 6   주거지역_2종_전용주거     25 non-null     float64\n",
            " 7   주거지역_일반주거지역_소계   25 non-null     float64\n",
            " 8   주거지역_1종일반주거      25 non-null     float64\n",
            " 9   주거지역_2종일반주거      25 non-null     float64\n",
            " 10  주거지역_3종일반주거      25 non-null     float64\n",
            " 11  주거지역_준주거지역       25 non-null     float64\n",
            " 12  상업지역_소계          25 non-null     float64\n",
            " 13  상업지역_비율          25 non-null     float64\n",
            " 14  상업지역_중심상업        25 non-null     float64\n",
            " 15  상업지역_일반상업        25 non-null     float64\n",
            " 16  상업지역_근린상업        25 non-null     float64\n",
            " 17  상업지역_유통상업        25 non-null     float64\n",
            " 18  공업지역_소계          25 non-null     float64\n",
            " 19  공업지역_비율          25 non-null     float64\n",
            " 20  공업지역_전용공업        25 non-null     float64\n",
            " 21  공업지역_일반공업        25 non-null     float64\n",
            " 22  공업지역_준공업         25 non-null     float64\n",
            " 23  녹지지역_소계          25 non-null     float64\n",
            " 24  녹지지역_비율          25 non-null     float64\n",
            " 25  녹지지역_보전녹지        25 non-null     float64\n",
            " 26  녹지지역_자연녹지        25 non-null     float64\n",
            " 27  녹지지역_생산녹지        25 non-null     float64\n",
            "dtypes: float64(27), object(1)\n",
            "memory usage: 5.6+ KB\n"
          ]
        }
      ],
      "source": [
        "df_zones_original.info()"
      ]
    },
    {
      "cell_type": "code",
      "execution_count": 161,
      "metadata": {},
      "outputs": [
        {
          "data": {
            "text/plain": [
              "Index(['시군구', '도시지역 면적', '주거지역_소계', '주거지역_비율', '주거지역_전용주거_소계 ', '주거지역_1종_전용주거',\n",
              "       '주거지역_2종_전용주거', '주거지역_일반주거지역_소계 ', '주거지역_1종일반주거', '주거지역_2종일반주거',\n",
              "       '주거지역_3종일반주거', '주거지역_준주거지역', '상업지역_소계', '상업지역_비율', '상업지역_중심상업',\n",
              "       '상업지역_일반상업', '상업지역_근린상업 ', '상업지역_유통상업', '공업지역_소계', '공업지역_비율',\n",
              "       '공업지역_전용공업', '공업지역_일반공업', '공업지역_준공업', '녹지지역_소계', '녹지지역_비율', '녹지지역_보전녹지',\n",
              "       '녹지지역_자연녹지', '녹지지역_생산녹지'],\n",
              "      dtype='object')"
            ]
          },
          "execution_count": 161,
          "metadata": {},
          "output_type": "execute_result"
        }
      ],
      "source": [
        "df_zones_original.columns"
      ]
    },
    {
      "cell_type": "code",
      "execution_count": 162,
      "metadata": {},
      "outputs": [],
      "source": [
        "df_zones_original['주거지역_전용주거_비율'] = df_zones_original['주거지역_전용주거_소계 '] / df_zones_original['도시지역 면적']"
      ]
    },
    {
      "cell_type": "code",
      "execution_count": 163,
      "metadata": {},
      "outputs": [],
      "source": [
        "df_zones_original['주거지역_일반주거_비율'] = df_zones_original['주거지역_일반주거지역_소계 '] / df_zones_original['도시지역 면적']"
      ]
    },
    {
      "cell_type": "code",
      "execution_count": 164,
      "metadata": {},
      "outputs": [],
      "source": [
        "df_zones_original['주거지역_준주거_비율'] = df_zones_original['주거지역_준주거지역'] / df_zones_original['도시지역 면적']"
      ]
    },
    {
      "cell_type": "code",
      "execution_count": 165,
      "metadata": {},
      "outputs": [],
      "source": [
        "df_zones_original['중심상업_비율'] = df_zones_original['상업지역_중심상업'] / df_zones_original['도시지역 면적']"
      ]
    },
    {
      "cell_type": "code",
      "execution_count": 166,
      "metadata": {},
      "outputs": [],
      "source": [
        "df_zones_original['일반상업_비율'] = df_zones_original['상업지역_일반상업'] / df_zones_original['도시지역 면적']"
      ]
    },
    {
      "cell_type": "code",
      "execution_count": 167,
      "metadata": {},
      "outputs": [],
      "source": [
        "df_zones_original['근린상업_비율'] = df_zones_original['상업지역_근린상업 '] / df_zones_original['도시지역 면적']"
      ]
    },
    {
      "cell_type": "code",
      "execution_count": 168,
      "metadata": {},
      "outputs": [
        {
          "data": {
            "text/plain": [
              "Index(['시군구', '도시지역 면적', '주거지역_소계', '주거지역_비율', '주거지역_전용주거_소계 ', '주거지역_1종_전용주거',\n",
              "       '주거지역_2종_전용주거', '주거지역_일반주거지역_소계 ', '주거지역_1종일반주거', '주거지역_2종일반주거',\n",
              "       '주거지역_3종일반주거', '주거지역_준주거지역', '상업지역_소계', '상업지역_비율', '상업지역_중심상업',\n",
              "       '상업지역_일반상업', '상업지역_근린상업 ', '상업지역_유통상업', '공업지역_소계', '공업지역_비율',\n",
              "       '공업지역_전용공업', '공업지역_일반공업', '공업지역_준공업', '녹지지역_소계', '녹지지역_비율', '녹지지역_보전녹지',\n",
              "       '녹지지역_자연녹지', '녹지지역_생산녹지', '주거지역_전용주거_비율', '주거지역_일반주거_비율', '주거지역_준주거_비율',\n",
              "       '중심상업_비율', '일반상업_비율', '근린상업_비율'],\n",
              "      dtype='object')"
            ]
          },
          "execution_count": 168,
          "metadata": {},
          "output_type": "execute_result"
        }
      ],
      "source": [
        "df_zones_original.columns"
      ]
    },
    {
      "cell_type": "code",
      "execution_count": 169,
      "metadata": {},
      "outputs": [],
      "source": [
        "df_zone_ratio = df_zones_original[['시군구', '주거지역_비율', '상업지역_비율', '공업지역_비율', '녹지지역_비율', '주거지역_전용주거_비율', '주거지역_일반주거_비율', '주거지역_준주거_비율',\n",
        "       '중심상업_비율', '일반상업_비율', '근린상업_비율']]"
      ]
    },
    {
      "cell_type": "code",
      "execution_count": 170,
      "metadata": {},
      "outputs": [],
      "source": [
        "df_zone_ratio.rename(columns={'시군구': '구'}, inplace=True)"
      ]
    },
    {
      "cell_type": "code",
      "execution_count": 171,
      "metadata": {},
      "outputs": [
        {
          "data": {
            "text/html": [
              "<div>\n",
              "<style scoped>\n",
              "    .dataframe tbody tr th:only-of-type {\n",
              "        vertical-align: middle;\n",
              "    }\n",
              "\n",
              "    .dataframe tbody tr th {\n",
              "        vertical-align: top;\n",
              "    }\n",
              "\n",
              "    .dataframe thead th {\n",
              "        text-align: right;\n",
              "    }\n",
              "</style>\n",
              "<table border=\"1\" class=\"dataframe\">\n",
              "  <thead>\n",
              "    <tr style=\"text-align: right;\">\n",
              "      <th></th>\n",
              "      <th>구</th>\n",
              "      <th>주거지역_비율</th>\n",
              "      <th>상업지역_비율</th>\n",
              "      <th>공업지역_비율</th>\n",
              "      <th>녹지지역_비율</th>\n",
              "      <th>주거지역_전용주거_비율</th>\n",
              "      <th>주거지역_일반주거_비율</th>\n",
              "      <th>주거지역_준주거_비율</th>\n",
              "      <th>중심상업_비율</th>\n",
              "      <th>일반상업_비율</th>\n",
              "      <th>근린상업_비율</th>\n",
              "    </tr>\n",
              "  </thead>\n",
              "  <tbody>\n",
              "    <tr>\n",
              "      <th>0</th>\n",
              "      <td>종로구</td>\n",
              "      <td>41.01</td>\n",
              "      <td>12.25</td>\n",
              "      <td>0.00</td>\n",
              "      <td>46.74</td>\n",
              "      <td>0.066301</td>\n",
              "      <td>0.335481</td>\n",
              "      <td>0.008305</td>\n",
              "      <td>0.000000</td>\n",
              "      <td>0.122527</td>\n",
              "      <td>0.000000</td>\n",
              "    </tr>\n",
              "    <tr>\n",
              "      <th>1</th>\n",
              "      <td>중구</td>\n",
              "      <td>60.24</td>\n",
              "      <td>39.51</td>\n",
              "      <td>0.00</td>\n",
              "      <td>0.25</td>\n",
              "      <td>0.000000</td>\n",
              "      <td>0.575057</td>\n",
              "      <td>0.027327</td>\n",
              "      <td>0.032238</td>\n",
              "      <td>0.362857</td>\n",
              "      <td>0.000000</td>\n",
              "    </tr>\n",
              "    <tr>\n",
              "      <th>2</th>\n",
              "      <td>용산구</td>\n",
              "      <td>52.17</td>\n",
              "      <td>7.18</td>\n",
              "      <td>0.00</td>\n",
              "      <td>40.64</td>\n",
              "      <td>0.012276</td>\n",
              "      <td>0.484897</td>\n",
              "      <td>0.024574</td>\n",
              "      <td>0.000000</td>\n",
              "      <td>0.071832</td>\n",
              "      <td>0.000000</td>\n",
              "    </tr>\n",
              "    <tr>\n",
              "      <th>3</th>\n",
              "      <td>성동구</td>\n",
              "      <td>59.20</td>\n",
              "      <td>2.82</td>\n",
              "      <td>12.21</td>\n",
              "      <td>25.78</td>\n",
              "      <td>0.000000</td>\n",
              "      <td>0.576229</td>\n",
              "      <td>0.015732</td>\n",
              "      <td>0.000000</td>\n",
              "      <td>0.023666</td>\n",
              "      <td>0.000182</td>\n",
              "    </tr>\n",
              "    <tr>\n",
              "      <th>4</th>\n",
              "      <td>광진구</td>\n",
              "      <td>67.90</td>\n",
              "      <td>1.21</td>\n",
              "      <td>0.00</td>\n",
              "      <td>30.89</td>\n",
              "      <td>0.008257</td>\n",
              "      <td>0.613300</td>\n",
              "      <td>0.057421</td>\n",
              "      <td>0.000000</td>\n",
              "      <td>0.012100</td>\n",
              "      <td>0.000000</td>\n",
              "    </tr>\n",
              "    <tr>\n",
              "      <th>5</th>\n",
              "      <td>동대문구</td>\n",
              "      <td>91.49</td>\n",
              "      <td>5.82</td>\n",
              "      <td>0.00</td>\n",
              "      <td>2.69</td>\n",
              "      <td>0.000000</td>\n",
              "      <td>0.874509</td>\n",
              "      <td>0.040387</td>\n",
              "      <td>0.000000</td>\n",
              "      <td>0.052421</td>\n",
              "      <td>0.004382</td>\n",
              "    </tr>\n",
              "    <tr>\n",
              "      <th>6</th>\n",
              "      <td>중랑구</td>\n",
              "      <td>58.40</td>\n",
              "      <td>1.93</td>\n",
              "      <td>0.00</td>\n",
              "      <td>39.67</td>\n",
              "      <td>0.000000</td>\n",
              "      <td>0.537667</td>\n",
              "      <td>0.046297</td>\n",
              "      <td>0.000000</td>\n",
              "      <td>0.013774</td>\n",
              "      <td>0.005523</td>\n",
              "    </tr>\n",
              "    <tr>\n",
              "      <th>7</th>\n",
              "      <td>성북구</td>\n",
              "      <td>72.25</td>\n",
              "      <td>1.63</td>\n",
              "      <td>0.00</td>\n",
              "      <td>26.13</td>\n",
              "      <td>0.039594</td>\n",
              "      <td>0.659959</td>\n",
              "      <td>0.022899</td>\n",
              "      <td>0.000000</td>\n",
              "      <td>0.013661</td>\n",
              "      <td>0.002615</td>\n",
              "    </tr>\n",
              "    <tr>\n",
              "      <th>8</th>\n",
              "      <td>강북구</td>\n",
              "      <td>46.11</td>\n",
              "      <td>1.15</td>\n",
              "      <td>0.00</td>\n",
              "      <td>52.74</td>\n",
              "      <td>0.000000</td>\n",
              "      <td>0.442804</td>\n",
              "      <td>0.018312</td>\n",
              "      <td>0.000000</td>\n",
              "      <td>0.011518</td>\n",
              "      <td>0.000000</td>\n",
              "    </tr>\n",
              "    <tr>\n",
              "      <th>9</th>\n",
              "      <td>도봉구</td>\n",
              "      <td>41.81</td>\n",
              "      <td>1.29</td>\n",
              "      <td>7.07</td>\n",
              "      <td>49.83</td>\n",
              "      <td>0.000000</td>\n",
              "      <td>0.396931</td>\n",
              "      <td>0.021211</td>\n",
              "      <td>0.000000</td>\n",
              "      <td>0.011939</td>\n",
              "      <td>0.000919</td>\n",
              "    </tr>\n",
              "    <tr>\n",
              "      <th>10</th>\n",
              "      <td>노원구</td>\n",
              "      <td>39.15</td>\n",
              "      <td>1.69</td>\n",
              "      <td>0.00</td>\n",
              "      <td>59.16</td>\n",
              "      <td>0.002601</td>\n",
              "      <td>0.378520</td>\n",
              "      <td>0.010425</td>\n",
              "      <td>0.000000</td>\n",
              "      <td>0.016680</td>\n",
              "      <td>0.000220</td>\n",
              "    </tr>\n",
              "    <tr>\n",
              "      <th>11</th>\n",
              "      <td>은평구</td>\n",
              "      <td>51.62</td>\n",
              "      <td>1.71</td>\n",
              "      <td>0.00</td>\n",
              "      <td>46.67</td>\n",
              "      <td>0.026735</td>\n",
              "      <td>0.455638</td>\n",
              "      <td>0.033814</td>\n",
              "      <td>0.000000</td>\n",
              "      <td>0.013796</td>\n",
              "      <td>0.003325</td>\n",
              "    </tr>\n",
              "    <tr>\n",
              "      <th>12</th>\n",
              "      <td>서대문구</td>\n",
              "      <td>87.30</td>\n",
              "      <td>1.60</td>\n",
              "      <td>0.00</td>\n",
              "      <td>11.10</td>\n",
              "      <td>0.020051</td>\n",
              "      <td>0.833387</td>\n",
              "      <td>0.019533</td>\n",
              "      <td>0.000000</td>\n",
              "      <td>0.015515</td>\n",
              "      <td>0.000518</td>\n",
              "    </tr>\n",
              "    <tr>\n",
              "      <th>13</th>\n",
              "      <td>마포구</td>\n",
              "      <td>56.04</td>\n",
              "      <td>3.94</td>\n",
              "      <td>0.00</td>\n",
              "      <td>40.03</td>\n",
              "      <td>0.000000</td>\n",
              "      <td>0.526897</td>\n",
              "      <td>0.033477</td>\n",
              "      <td>0.001560</td>\n",
              "      <td>0.031704</td>\n",
              "      <td>0.003729</td>\n",
              "    </tr>\n",
              "    <tr>\n",
              "      <th>14</th>\n",
              "      <td>양천구</td>\n",
              "      <td>71.76</td>\n",
              "      <td>4.56</td>\n",
              "      <td>0.53</td>\n",
              "      <td>23.14</td>\n",
              "      <td>0.000000</td>\n",
              "      <td>0.698431</td>\n",
              "      <td>0.019194</td>\n",
              "      <td>0.000000</td>\n",
              "      <td>0.041960</td>\n",
              "      <td>0.003652</td>\n",
              "    </tr>\n",
              "    <tr>\n",
              "      <th>15</th>\n",
              "      <td>강서구</td>\n",
              "      <td>35.50</td>\n",
              "      <td>3.19</td>\n",
              "      <td>7.04</td>\n",
              "      <td>54.27</td>\n",
              "      <td>0.003810</td>\n",
              "      <td>0.331113</td>\n",
              "      <td>0.020050</td>\n",
              "      <td>0.000000</td>\n",
              "      <td>0.023951</td>\n",
              "      <td>0.001997</td>\n",
              "    </tr>\n",
              "    <tr>\n",
              "      <th>16</th>\n",
              "      <td>구로구</td>\n",
              "      <td>51.00</td>\n",
              "      <td>2.55</td>\n",
              "      <td>20.84</td>\n",
              "      <td>25.61</td>\n",
              "      <td>0.000000</td>\n",
              "      <td>0.495163</td>\n",
              "      <td>0.014833</td>\n",
              "      <td>0.000000</td>\n",
              "      <td>0.025506</td>\n",
              "      <td>0.000000</td>\n",
              "    </tr>\n",
              "    <tr>\n",
              "      <th>17</th>\n",
              "      <td>금천구</td>\n",
              "      <td>44.92</td>\n",
              "      <td>1.15</td>\n",
              "      <td>31.68</td>\n",
              "      <td>22.25</td>\n",
              "      <td>0.000000</td>\n",
              "      <td>0.428186</td>\n",
              "      <td>0.021029</td>\n",
              "      <td>0.000000</td>\n",
              "      <td>0.007908</td>\n",
              "      <td>0.003590</td>\n",
              "    </tr>\n",
              "    <tr>\n",
              "      <th>18</th>\n",
              "      <td>영등포구</td>\n",
              "      <td>32.89</td>\n",
              "      <td>10.72</td>\n",
              "      <td>20.63</td>\n",
              "      <td>35.76</td>\n",
              "      <td>0.000000</td>\n",
              "      <td>0.289949</td>\n",
              "      <td>0.038923</td>\n",
              "      <td>0.000000</td>\n",
              "      <td>0.105202</td>\n",
              "      <td>0.002024</td>\n",
              "    </tr>\n",
              "    <tr>\n",
              "      <th>19</th>\n",
              "      <td>동작구</td>\n",
              "      <td>84.11</td>\n",
              "      <td>2.16</td>\n",
              "      <td>0.00</td>\n",
              "      <td>13.73</td>\n",
              "      <td>0.000000</td>\n",
              "      <td>0.820936</td>\n",
              "      <td>0.020167</td>\n",
              "      <td>0.000000</td>\n",
              "      <td>0.016801</td>\n",
              "      <td>0.001954</td>\n",
              "    </tr>\n",
              "    <tr>\n",
              "      <th>20</th>\n",
              "      <td>관악구</td>\n",
              "      <td>51.83</td>\n",
              "      <td>1.34</td>\n",
              "      <td>0.00</td>\n",
              "      <td>46.83</td>\n",
              "      <td>0.000000</td>\n",
              "      <td>0.494818</td>\n",
              "      <td>0.023461</td>\n",
              "      <td>0.000000</td>\n",
              "      <td>0.013311</td>\n",
              "      <td>0.000060</td>\n",
              "    </tr>\n",
              "    <tr>\n",
              "      <th>21</th>\n",
              "      <td>서초구</td>\n",
              "      <td>40.53</td>\n",
              "      <td>2.84</td>\n",
              "      <td>0.00</td>\n",
              "      <td>56.63</td>\n",
              "      <td>0.017310</td>\n",
              "      <td>0.379986</td>\n",
              "      <td>0.008017</td>\n",
              "      <td>0.000000</td>\n",
              "      <td>0.028192</td>\n",
              "      <td>0.000162</td>\n",
              "    </tr>\n",
              "    <tr>\n",
              "      <th>22</th>\n",
              "      <td>강남구</td>\n",
              "      <td>61.24</td>\n",
              "      <td>4.25</td>\n",
              "      <td>0.00</td>\n",
              "      <td>34.51</td>\n",
              "      <td>0.015551</td>\n",
              "      <td>0.589335</td>\n",
              "      <td>0.007535</td>\n",
              "      <td>0.000000</td>\n",
              "      <td>0.042468</td>\n",
              "      <td>0.000000</td>\n",
              "    </tr>\n",
              "    <tr>\n",
              "      <th>23</th>\n",
              "      <td>송파구</td>\n",
              "      <td>63.27</td>\n",
              "      <td>6.98</td>\n",
              "      <td>0.00</td>\n",
              "      <td>29.75</td>\n",
              "      <td>0.002132</td>\n",
              "      <td>0.605947</td>\n",
              "      <td>0.024625</td>\n",
              "      <td>0.000000</td>\n",
              "      <td>0.037198</td>\n",
              "      <td>0.000268</td>\n",
              "    </tr>\n",
              "    <tr>\n",
              "      <th>24</th>\n",
              "      <td>강동구</td>\n",
              "      <td>52.74</td>\n",
              "      <td>2.83</td>\n",
              "      <td>0.32</td>\n",
              "      <td>44.11</td>\n",
              "      <td>0.001903</td>\n",
              "      <td>0.503306</td>\n",
              "      <td>0.022172</td>\n",
              "      <td>0.000000</td>\n",
              "      <td>0.024476</td>\n",
              "      <td>0.003854</td>\n",
              "    </tr>\n",
              "  </tbody>\n",
              "</table>\n",
              "</div>"
            ],
            "text/plain": [
              "       구  주거지역_비율  상업지역_비율  공업지역_비율  녹지지역_비율  주거지역_전용주거_비율  주거지역_일반주거_비율  \\\n",
              "0    종로구    41.01    12.25     0.00    46.74      0.066301      0.335481   \n",
              "1     중구    60.24    39.51     0.00     0.25      0.000000      0.575057   \n",
              "2    용산구    52.17     7.18     0.00    40.64      0.012276      0.484897   \n",
              "3    성동구    59.20     2.82    12.21    25.78      0.000000      0.576229   \n",
              "4    광진구    67.90     1.21     0.00    30.89      0.008257      0.613300   \n",
              "5   동대문구    91.49     5.82     0.00     2.69      0.000000      0.874509   \n",
              "6    중랑구    58.40     1.93     0.00    39.67      0.000000      0.537667   \n",
              "7    성북구    72.25     1.63     0.00    26.13      0.039594      0.659959   \n",
              "8    강북구    46.11     1.15     0.00    52.74      0.000000      0.442804   \n",
              "9    도봉구    41.81     1.29     7.07    49.83      0.000000      0.396931   \n",
              "10   노원구    39.15     1.69     0.00    59.16      0.002601      0.378520   \n",
              "11   은평구    51.62     1.71     0.00    46.67      0.026735      0.455638   \n",
              "12  서대문구    87.30     1.60     0.00    11.10      0.020051      0.833387   \n",
              "13   마포구    56.04     3.94     0.00    40.03      0.000000      0.526897   \n",
              "14   양천구    71.76     4.56     0.53    23.14      0.000000      0.698431   \n",
              "15   강서구    35.50     3.19     7.04    54.27      0.003810      0.331113   \n",
              "16   구로구    51.00     2.55    20.84    25.61      0.000000      0.495163   \n",
              "17   금천구    44.92     1.15    31.68    22.25      0.000000      0.428186   \n",
              "18  영등포구    32.89    10.72    20.63    35.76      0.000000      0.289949   \n",
              "19   동작구    84.11     2.16     0.00    13.73      0.000000      0.820936   \n",
              "20   관악구    51.83     1.34     0.00    46.83      0.000000      0.494818   \n",
              "21   서초구    40.53     2.84     0.00    56.63      0.017310      0.379986   \n",
              "22   강남구    61.24     4.25     0.00    34.51      0.015551      0.589335   \n",
              "23   송파구    63.27     6.98     0.00    29.75      0.002132      0.605947   \n",
              "24   강동구    52.74     2.83     0.32    44.11      0.001903      0.503306   \n",
              "\n",
              "    주거지역_준주거_비율   중심상업_비율   일반상업_비율   근린상업_비율  \n",
              "0      0.008305  0.000000  0.122527  0.000000  \n",
              "1      0.027327  0.032238  0.362857  0.000000  \n",
              "2      0.024574  0.000000  0.071832  0.000000  \n",
              "3      0.015732  0.000000  0.023666  0.000182  \n",
              "4      0.057421  0.000000  0.012100  0.000000  \n",
              "5      0.040387  0.000000  0.052421  0.004382  \n",
              "6      0.046297  0.000000  0.013774  0.005523  \n",
              "7      0.022899  0.000000  0.013661  0.002615  \n",
              "8      0.018312  0.000000  0.011518  0.000000  \n",
              "9      0.021211  0.000000  0.011939  0.000919  \n",
              "10     0.010425  0.000000  0.016680  0.000220  \n",
              "11     0.033814  0.000000  0.013796  0.003325  \n",
              "12     0.019533  0.000000  0.015515  0.000518  \n",
              "13     0.033477  0.001560  0.031704  0.003729  \n",
              "14     0.019194  0.000000  0.041960  0.003652  \n",
              "15     0.020050  0.000000  0.023951  0.001997  \n",
              "16     0.014833  0.000000  0.025506  0.000000  \n",
              "17     0.021029  0.000000  0.007908  0.003590  \n",
              "18     0.038923  0.000000  0.105202  0.002024  \n",
              "19     0.020167  0.000000  0.016801  0.001954  \n",
              "20     0.023461  0.000000  0.013311  0.000060  \n",
              "21     0.008017  0.000000  0.028192  0.000162  \n",
              "22     0.007535  0.000000  0.042468  0.000000  \n",
              "23     0.024625  0.000000  0.037198  0.000268  \n",
              "24     0.022172  0.000000  0.024476  0.003854  "
            ]
          },
          "execution_count": 171,
          "metadata": {},
          "output_type": "execute_result"
        }
      ],
      "source": [
        "df_zone_ratio"
      ]
    },
    {
      "cell_type": "code",
      "execution_count": 172,
      "metadata": {},
      "outputs": [
        {
          "name": "stdout",
          "output_type": "stream",
          "text": [
            "<class 'pandas.core.frame.DataFrame'>\n",
            "RangeIndex: 25 entries, 0 to 24\n",
            "Data columns (total 11 columns):\n",
            " #   Column        Non-Null Count  Dtype  \n",
            "---  ------        --------------  -----  \n",
            " 0   구             25 non-null     object \n",
            " 1   주거지역_비율       25 non-null     float64\n",
            " 2   상업지역_비율       25 non-null     float64\n",
            " 3   공업지역_비율       25 non-null     float64\n",
            " 4   녹지지역_비율       25 non-null     float64\n",
            " 5   주거지역_전용주거_비율  25 non-null     float64\n",
            " 6   주거지역_일반주거_비율  25 non-null     float64\n",
            " 7   주거지역_준주거_비율   25 non-null     float64\n",
            " 8   중심상업_비율       25 non-null     float64\n",
            " 9   일반상업_비율       25 non-null     float64\n",
            " 10  근린상업_비율       25 non-null     float64\n",
            "dtypes: float64(10), object(1)\n",
            "memory usage: 2.3+ KB\n"
          ]
        }
      ],
      "source": [
        "df_zone_ratio.info()"
      ]
    },
    {
      "cell_type": "code",
      "execution_count": 173,
      "metadata": {},
      "outputs": [],
      "source": [
        "concat_select_merge = pd.merge(left=concat_select, right=df_zone_ratio, on='구', how='left')"
      ]
    },
    {
      "cell_type": "code",
      "execution_count": 174,
      "metadata": {},
      "outputs": [],
      "source": [
        "concat_select = concat_select_merge"
      ]
    },
    {
      "cell_type": "code",
      "execution_count": 175,
      "metadata": {},
      "outputs": [],
      "source": [
        "df_academies = pd.read_csv(\"extra_data/2022_학생_1만명당_사설학원수_20240326124719.csv\", encoding='euc-kr')"
      ]
    },
    {
      "cell_type": "code",
      "execution_count": 176,
      "metadata": {},
      "outputs": [],
      "source": [
        "df_academies.rename(columns={\"자치구\":\"구\"}, inplace=True)"
      ]
    },
    {
      "cell_type": "code",
      "execution_count": 177,
      "metadata": {},
      "outputs": [
        {
          "data": {
            "text/plain": [
              "Index(['구', '초중고_학생수(명)', '사설학원수(개소)', '학생1만명당_사설학원수(개소)'], dtype='object')"
            ]
          },
          "execution_count": 177,
          "metadata": {},
          "output_type": "execute_result"
        }
      ],
      "source": [
        "df_academies.columns"
      ]
    },
    {
      "cell_type": "code",
      "execution_count": 178,
      "metadata": {},
      "outputs": [],
      "source": [
        "df_academies.drop(columns=['초중고_학생수(명)', '사설학원수(개소)'], inplace=True)"
      ]
    },
    {
      "cell_type": "code",
      "execution_count": 179,
      "metadata": {},
      "outputs": [],
      "source": [
        "concat_select_merge = pd.merge(left=concat_select, right=df_academies, on='구', how='left')"
      ]
    },
    {
      "cell_type": "code",
      "execution_count": 180,
      "metadata": {},
      "outputs": [],
      "source": [
        "concat_select = concat_select_merge"
      ]
    },
    {
      "cell_type": "markdown",
      "metadata": {},
      "source": [
        "### feature engineering from given data"
      ]
    },
    {
      "cell_type": "markdown",
      "metadata": {
        "id": "7zUmQubaAbKJ"
      },
      "source": [
        "- 또한 신축인지, 구축인지의 여부도 실거래가에 큰 영향을 줄 수 있습니다.\n",
        "- 따라서 건축년도에 따라 파생변수를 제작해주도록 하겠습니다."
      ]
    },
    {
      "cell_type": "code",
      "execution_count": 181,
      "metadata": {
        "colab": {
          "base_uri": "https://localhost:8080/"
        },
        "id": "_NcBva7dAVBq",
        "outputId": "9796e4f8-8f8f-4e0c-9fb2-9757ad6e0f3b"
      },
      "outputs": [
        {
          "data": {
            "text/plain": [
              "count    1.128094e+06\n",
              "mean     1.998791e+03\n",
              "std      9.358540e+00\n",
              "min      1.961000e+03\n",
              "10%      1.986000e+03\n",
              "25%      1.992000e+03\n",
              "50%      2.000000e+03\n",
              "75%      2.005000e+03\n",
              "80%      2.006000e+03\n",
              "90%      2.010000e+03\n",
              "max      2.023000e+03\n",
              "Name: 건축년도, dtype: float64"
            ]
          },
          "execution_count": 181,
          "metadata": {},
          "output_type": "execute_result"
        }
      ],
      "source": [
        "# 건축년도 분포는 아래와 같습니다. 특히 2005년이 Q3에 해당합니다.\n",
        "# 2009년 이후에 지어진 건물은 10%정도 되는 것을 확인할 수 있습니다.\n",
        "concat_select['건축년도'].describe(percentiles = [0.1, 0.25, 0.5, 0.75, 0.8, 0.9])"
      ]
    },
    {
      "cell_type": "code",
      "execution_count": 182,
      "metadata": {},
      "outputs": [],
      "source": [
        "concat_select['yrs_diff_built_contract'] = concat_select['계약년'] - concat_select['건축년도']"
      ]
    },
    {
      "cell_type": "code",
      "execution_count": 183,
      "metadata": {},
      "outputs": [],
      "source": [
        "concat_select['built_in3yrs'] = concat_select['yrs_diff_built_contract'].apply(lambda x : 1 if x <= 3 else 0)"
      ]
    },
    {
      "cell_type": "code",
      "execution_count": 184,
      "metadata": {},
      "outputs": [],
      "source": [
        "concat_select['built_in5yrs'] = concat_select['yrs_diff_built_contract'].apply(lambda x : 1 if x <= 5 else 0)"
      ]
    },
    {
      "cell_type": "code",
      "execution_count": 185,
      "metadata": {},
      "outputs": [],
      "source": [
        "concat_select['built_over30yrs'] = concat_select['yrs_diff_built_contract'].apply(lambda x : 1 if x >= 30 else 0)"
      ]
    },
    {
      "cell_type": "code",
      "execution_count": 186,
      "metadata": {},
      "outputs": [],
      "source": [
        "concat_select['built_over35yrs'] = concat_select['yrs_diff_built_contract'].apply(lambda x : 1 if x >= 35 else 0)"
      ]
    },
    {
      "cell_type": "code",
      "execution_count": 187,
      "metadata": {},
      "outputs": [],
      "source": [
        "concat_select['built_over40yrs'] = concat_select['yrs_diff_built_contract'].apply(lambda x : 1 if x >= 40 else 0)"
      ]
    },
    {
      "cell_type": "code",
      "execution_count": 188,
      "metadata": {},
      "outputs": [],
      "source": [
        "concat_select['road'] = concat_select['street'].apply(lambda x : x.split()[0] if len(x.split()) > 0 else x)"
      ]
    },
    {
      "cell_type": "code",
      "execution_count": 189,
      "metadata": {},
      "outputs": [],
      "source": [
        "concat_select['on_main_st'] = concat_select['road'].apply(lambda x: not any(char.isdigit() for char in x))\n",
        "del concat_select['road']"
      ]
    },
    {
      "cell_type": "code",
      "execution_count": 190,
      "metadata": {},
      "outputs": [],
      "source": [
        "concat_select.columns = concat_select.columns.str.replace('[^\\w\\s]', '')\n",
        "concat_select.columns = concat_select.columns.str.replace(' ', '_')"
      ]
    },
    {
      "cell_type": "code",
      "execution_count": 191,
      "metadata": {
        "colab": {
          "base_uri": "https://localhost:8080/"
        },
        "id": "c-VGjus86phR",
        "outputId": "a25af50e-7f13-4402-81e0-46bf7d94ad12"
      },
      "outputs": [
        {
          "data": {
            "text/plain": [
              "(1128094, 56)"
            ]
          },
          "execution_count": 191,
          "metadata": {},
          "output_type": "execute_result"
        }
      ],
      "source": [
        "concat_select.shape"
      ]
    },
    {
      "cell_type": "code",
      "execution_count": 192,
      "metadata": {},
      "outputs": [
        {
          "data": {
            "text/plain": [
              "Index(['전용면적', '계약년월', '계약일', '층', '건축년도', 'street', 'k주거전용면적',\n",
              "       'k전용면적별세대현황60이하', 'k전용면적별세대현황6085이하', 'k85135이하', 'k수정일자', '고용보험관리번호',\n",
              "       '경비비관리형태', '세대전기계약방법', '청소비관리형태', '건축면적', '주차대수', '기타의무임대임의1234',\n",
              "       '단지승인일', '사용허가여부', '관리비_업로드', '좌표X', '좌표Y', '단지신청일', 'target', '계약년',\n",
              "       '계약월', 'date', 'is_public', '구', '동', '기준금리', 'is_test', '구_encoded',\n",
              "       '구_std', '동_encoded', '동_std', 'has_bds', '주거지역_비율', '상업지역_비율',\n",
              "       '공업지역_비율', '녹지지역_비율', '주거지역_전용주거_비율', '주거지역_일반주거_비율', '주거지역_준주거_비율',\n",
              "       '중심상업_비율', '일반상업_비율', '근린상업_비율', '학생1만명당_사설학원수개소',\n",
              "       'yrs_diff_built_contract', 'built_in3yrs', 'built_in5yrs',\n",
              "       'built_over30yrs', 'built_over35yrs', 'built_over40yrs', 'on_main_st'],\n",
              "      dtype='object')"
            ]
          },
          "execution_count": 192,
          "metadata": {},
          "output_type": "execute_result"
        }
      ],
      "source": [
        "concat_select.columns"
      ]
    },
    {
      "cell_type": "code",
      "execution_count": 193,
      "metadata": {},
      "outputs": [],
      "source": [
        "del concat_select['좌표X']"
      ]
    },
    {
      "cell_type": "code",
      "execution_count": 194,
      "metadata": {},
      "outputs": [],
      "source": [
        "del concat_select['좌표Y']"
      ]
    },
    {
      "cell_type": "markdown",
      "metadata": {},
      "source": [
        "### 경제지표 필요"
      ]
    },
    {
      "cell_type": "code",
      "execution_count": 133,
      "metadata": {},
      "outputs": [
        {
          "data": {
            "text/plain": [
              "Timestamp('2007-01-01 00:00:00')"
            ]
          },
          "execution_count": 133,
          "metadata": {},
          "output_type": "execute_result"
        }
      ],
      "source": [
        "concat_select['date'].min()"
      ]
    },
    {
      "cell_type": "code",
      "execution_count": 134,
      "metadata": {},
      "outputs": [
        {
          "data": {
            "text/plain": [
              "Timestamp('2023-09-26 00:00:00')"
            ]
          },
          "execution_count": 134,
          "metadata": {},
          "output_type": "execute_result"
        }
      ],
      "source": [
        "concat_select['date'].max()"
      ]
    },
    {
      "cell_type": "code",
      "execution_count": 135,
      "metadata": {},
      "outputs": [
        {
          "data": {
            "text/plain": [
              "Timestamp('2023-07-01 00:00:00')"
            ]
          },
          "execution_count": 135,
          "metadata": {},
          "output_type": "execute_result"
        }
      ],
      "source": [
        "dt_test['date'].min()"
      ]
    },
    {
      "cell_type": "code",
      "execution_count": 136,
      "metadata": {},
      "outputs": [
        {
          "data": {
            "text/plain": [
              "Timestamp('2023-09-26 00:00:00')"
            ]
          },
          "execution_count": 136,
          "metadata": {},
          "output_type": "execute_result"
        }
      ],
      "source": [
        "dt_test['date'].max()"
      ]
    },
    {
      "cell_type": "code",
      "execution_count": 195,
      "metadata": {},
      "outputs": [
        {
          "data": {
            "text/plain": [
              "'/root/code/upstage-ml-regression-3/yoon'"
            ]
          },
          "execution_count": 195,
          "metadata": {},
          "output_type": "execute_result"
        }
      ],
      "source": [
        "os.getcwd()"
      ]
    },
    {
      "cell_type": "code",
      "execution_count": 227,
      "metadata": {},
      "outputs": [],
      "source": [
        "# Use glob to find all files that match the pattern\n",
        "file_paths = glob.glob(\"./extra_data/KOSPI_*.csv\")\n",
        "\n",
        "# Initialize an empty list to store the dataframes\n",
        "dfs = []\n",
        "\n",
        "# Iterate over the file paths and read each CSV file into a dataframe\n",
        "for file_path in file_paths:\n",
        "    df = pd.read_csv(file_path, encoding=\"euc-kr\")\n",
        "    dfs.append(df)"
      ]
    },
    {
      "cell_type": "code",
      "execution_count": 228,
      "metadata": {},
      "outputs": [],
      "source": [
        "kospi_df = pd.concat(dfs, ignore_index=True)"
      ]
    },
    {
      "cell_type": "code",
      "execution_count": 229,
      "metadata": {},
      "outputs": [],
      "source": [
        "kospi_df.rename(columns={\"일자\":\"date\"}, inplace=True)"
      ]
    },
    {
      "cell_type": "code",
      "execution_count": 230,
      "metadata": {},
      "outputs": [
        {
          "name": "stdout",
          "output_type": "stream",
          "text": [
            "<class 'pandas.core.frame.DataFrame'>\n",
            "RangeIndex: 4754 entries, 0 to 4753\n",
            "Data columns (total 10 columns):\n",
            " #   Column  Non-Null Count  Dtype  \n",
            "---  ------  --------------  -----  \n",
            " 0   date    4754 non-null   object \n",
            " 1   종가      4754 non-null   float64\n",
            " 2   대비      4754 non-null   float64\n",
            " 3   등락률     4754 non-null   float64\n",
            " 4   시가      4754 non-null   float64\n",
            " 5   고가      4754 non-null   float64\n",
            " 6   저가      4754 non-null   float64\n",
            " 7   거래량     4754 non-null   float64\n",
            " 8   거래대금    4754 non-null   float64\n",
            " 9   상장시가총액  4754 non-null   float64\n",
            "dtypes: float64(9), object(1)\n",
            "memory usage: 371.5+ KB\n"
          ]
        }
      ],
      "source": [
        "kospi_df.info()"
      ]
    },
    {
      "cell_type": "code",
      "execution_count": 231,
      "metadata": {},
      "outputs": [
        {
          "data": {
            "text/plain": [
              "0       2016/12/29\n",
              "1       2016/12/28\n",
              "2       2016/12/27\n",
              "3       2016/12/26\n",
              "4       2016/12/23\n",
              "           ...    \n",
              "4749    2023/01/06\n",
              "4750    2023/01/05\n",
              "4751    2023/01/04\n",
              "4752    2023/01/03\n",
              "4753    2023/01/02\n",
              "Name: date, Length: 4754, dtype: object"
            ]
          },
          "execution_count": 231,
          "metadata": {},
          "output_type": "execute_result"
        }
      ],
      "source": [
        "kospi_df['date']"
      ]
    },
    {
      "cell_type": "code",
      "execution_count": 232,
      "metadata": {},
      "outputs": [],
      "source": [
        "kospi_df[\"date\"] = kospi_df['date'].str.replace('/', '-')"
      ]
    },
    {
      "cell_type": "code",
      "execution_count": 233,
      "metadata": {},
      "outputs": [
        {
          "data": {
            "text/plain": [
              "0       2016-12-29\n",
              "1       2016-12-28\n",
              "2       2016-12-27\n",
              "3       2016-12-26\n",
              "4       2016-12-23\n",
              "           ...    \n",
              "4749    2023-01-06\n",
              "4750    2023-01-05\n",
              "4751    2023-01-04\n",
              "4752    2023-01-03\n",
              "4753    2023-01-02\n",
              "Name: date, Length: 4754, dtype: object"
            ]
          },
          "execution_count": 233,
          "metadata": {},
          "output_type": "execute_result"
        }
      ],
      "source": [
        "kospi_df[\"date\"]"
      ]
    },
    {
      "cell_type": "code",
      "execution_count": 234,
      "metadata": {},
      "outputs": [],
      "source": [
        "kospi_df[\"date\"] = pd.to_datetime(kospi_df[\"date\"])"
      ]
    },
    {
      "cell_type": "code",
      "execution_count": 235,
      "metadata": {},
      "outputs": [
        {
          "data": {
            "text/html": [
              "<div>\n",
              "<style scoped>\n",
              "    .dataframe tbody tr th:only-of-type {\n",
              "        vertical-align: middle;\n",
              "    }\n",
              "\n",
              "    .dataframe tbody tr th {\n",
              "        vertical-align: top;\n",
              "    }\n",
              "\n",
              "    .dataframe thead th {\n",
              "        text-align: right;\n",
              "    }\n",
              "</style>\n",
              "<table border=\"1\" class=\"dataframe\">\n",
              "  <thead>\n",
              "    <tr style=\"text-align: right;\">\n",
              "      <th></th>\n",
              "      <th>date</th>\n",
              "      <th>종가</th>\n",
              "      <th>대비</th>\n",
              "      <th>등락률</th>\n",
              "      <th>시가</th>\n",
              "      <th>고가</th>\n",
              "      <th>저가</th>\n",
              "      <th>거래량</th>\n",
              "      <th>거래대금</th>\n",
              "      <th>상장시가총액</th>\n",
              "    </tr>\n",
              "  </thead>\n",
              "  <tbody>\n",
              "    <tr>\n",
              "      <th>0</th>\n",
              "      <td>2016-12-29</td>\n",
              "      <td>2026.46</td>\n",
              "      <td>1.97</td>\n",
              "      <td>0.10</td>\n",
              "      <td>2020.42</td>\n",
              "      <td>2026.57</td>\n",
              "      <td>2016.25</td>\n",
              "      <td>264522.0</td>\n",
              "      <td>3009199.0</td>\n",
              "      <td>1.308440e+09</td>\n",
              "    </tr>\n",
              "    <tr>\n",
              "      <th>1</th>\n",
              "      <td>2016-12-28</td>\n",
              "      <td>2024.49</td>\n",
              "      <td>-17.68</td>\n",
              "      <td>-0.87</td>\n",
              "      <td>2021.86</td>\n",
              "      <td>2029.69</td>\n",
              "      <td>2020.86</td>\n",
              "      <td>356590.0</td>\n",
              "      <td>3051026.0</td>\n",
              "      <td>1.306848e+09</td>\n",
              "    </tr>\n",
              "    <tr>\n",
              "      <th>2</th>\n",
              "      <td>2016-12-27</td>\n",
              "      <td>2042.17</td>\n",
              "      <td>4.42</td>\n",
              "      <td>0.22</td>\n",
              "      <td>2040.74</td>\n",
              "      <td>2044.43</td>\n",
              "      <td>2037.12</td>\n",
              "      <td>384033.0</td>\n",
              "      <td>3095682.0</td>\n",
              "      <td>1.318586e+09</td>\n",
              "    </tr>\n",
              "    <tr>\n",
              "      <th>3</th>\n",
              "      <td>2016-12-26</td>\n",
              "      <td>2037.75</td>\n",
              "      <td>1.85</td>\n",
              "      <td>0.09</td>\n",
              "      <td>2038.33</td>\n",
              "      <td>2039.76</td>\n",
              "      <td>2034.80</td>\n",
              "      <td>366636.0</td>\n",
              "      <td>3036259.0</td>\n",
              "      <td>1.315024e+09</td>\n",
              "    </tr>\n",
              "    <tr>\n",
              "      <th>4</th>\n",
              "      <td>2016-12-23</td>\n",
              "      <td>2035.90</td>\n",
              "      <td>0.17</td>\n",
              "      <td>0.01</td>\n",
              "      <td>2036.17</td>\n",
              "      <td>2037.71</td>\n",
              "      <td>2031.54</td>\n",
              "      <td>310882.0</td>\n",
              "      <td>3200601.0</td>\n",
              "      <td>1.313649e+09</td>\n",
              "    </tr>\n",
              "    <tr>\n",
              "      <th>...</th>\n",
              "      <td>...</td>\n",
              "      <td>...</td>\n",
              "      <td>...</td>\n",
              "      <td>...</td>\n",
              "      <td>...</td>\n",
              "      <td>...</td>\n",
              "      <td>...</td>\n",
              "      <td>...</td>\n",
              "      <td>...</td>\n",
              "      <td>...</td>\n",
              "    </tr>\n",
              "    <tr>\n",
              "      <th>4749</th>\n",
              "      <td>2023-01-06</td>\n",
              "      <td>2289.97</td>\n",
              "      <td>25.32</td>\n",
              "      <td>1.12</td>\n",
              "      <td>2253.40</td>\n",
              "      <td>2300.62</td>\n",
              "      <td>2253.27</td>\n",
              "      <td>398607.0</td>\n",
              "      <td>6764112.0</td>\n",
              "      <td>1.811419e+09</td>\n",
              "    </tr>\n",
              "    <tr>\n",
              "      <th>4750</th>\n",
              "      <td>2023-01-05</td>\n",
              "      <td>2264.65</td>\n",
              "      <td>8.67</td>\n",
              "      <td>0.38</td>\n",
              "      <td>2268.20</td>\n",
              "      <td>2281.39</td>\n",
              "      <td>2252.97</td>\n",
              "      <td>430977.0</td>\n",
              "      <td>7521178.0</td>\n",
              "      <td>1.791817e+09</td>\n",
              "    </tr>\n",
              "    <tr>\n",
              "      <th>4751</th>\n",
              "      <td>2023-01-04</td>\n",
              "      <td>2255.98</td>\n",
              "      <td>37.30</td>\n",
              "      <td>1.68</td>\n",
              "      <td>2205.98</td>\n",
              "      <td>2260.06</td>\n",
              "      <td>2198.82</td>\n",
              "      <td>412841.0</td>\n",
              "      <td>6487598.0</td>\n",
              "      <td>1.783809e+09</td>\n",
              "    </tr>\n",
              "    <tr>\n",
              "      <th>4752</th>\n",
              "      <td>2023-01-03</td>\n",
              "      <td>2218.68</td>\n",
              "      <td>-6.99</td>\n",
              "      <td>-0.31</td>\n",
              "      <td>2230.98</td>\n",
              "      <td>2230.98</td>\n",
              "      <td>2180.67</td>\n",
              "      <td>410245.0</td>\n",
              "      <td>6149083.0</td>\n",
              "      <td>1.753771e+09</td>\n",
              "    </tr>\n",
              "    <tr>\n",
              "      <th>4753</th>\n",
              "      <td>2023-01-02</td>\n",
              "      <td>2225.67</td>\n",
              "      <td>-10.73</td>\n",
              "      <td>-0.48</td>\n",
              "      <td>2249.95</td>\n",
              "      <td>2259.88</td>\n",
              "      <td>2222.37</td>\n",
              "      <td>346345.0</td>\n",
              "      <td>5200138.0</td>\n",
              "      <td>1.759242e+09</td>\n",
              "    </tr>\n",
              "  </tbody>\n",
              "</table>\n",
              "<p>4754 rows × 10 columns</p>\n",
              "</div>"
            ],
            "text/plain": [
              "           date       종가     대비   등락률       시가       고가       저가       거래량  \\\n",
              "0    2016-12-29  2026.46   1.97  0.10  2020.42  2026.57  2016.25  264522.0   \n",
              "1    2016-12-28  2024.49 -17.68 -0.87  2021.86  2029.69  2020.86  356590.0   \n",
              "2    2016-12-27  2042.17   4.42  0.22  2040.74  2044.43  2037.12  384033.0   \n",
              "3    2016-12-26  2037.75   1.85  0.09  2038.33  2039.76  2034.80  366636.0   \n",
              "4    2016-12-23  2035.90   0.17  0.01  2036.17  2037.71  2031.54  310882.0   \n",
              "...         ...      ...    ...   ...      ...      ...      ...       ...   \n",
              "4749 2023-01-06  2289.97  25.32  1.12  2253.40  2300.62  2253.27  398607.0   \n",
              "4750 2023-01-05  2264.65   8.67  0.38  2268.20  2281.39  2252.97  430977.0   \n",
              "4751 2023-01-04  2255.98  37.30  1.68  2205.98  2260.06  2198.82  412841.0   \n",
              "4752 2023-01-03  2218.68  -6.99 -0.31  2230.98  2230.98  2180.67  410245.0   \n",
              "4753 2023-01-02  2225.67 -10.73 -0.48  2249.95  2259.88  2222.37  346345.0   \n",
              "\n",
              "           거래대금        상장시가총액  \n",
              "0     3009199.0  1.308440e+09  \n",
              "1     3051026.0  1.306848e+09  \n",
              "2     3095682.0  1.318586e+09  \n",
              "3     3036259.0  1.315024e+09  \n",
              "4     3200601.0  1.313649e+09  \n",
              "...         ...           ...  \n",
              "4749  6764112.0  1.811419e+09  \n",
              "4750  7521178.0  1.791817e+09  \n",
              "4751  6487598.0  1.783809e+09  \n",
              "4752  6149083.0  1.753771e+09  \n",
              "4753  5200138.0  1.759242e+09  \n",
              "\n",
              "[4754 rows x 10 columns]"
            ]
          },
          "execution_count": 235,
          "metadata": {},
          "output_type": "execute_result"
        }
      ],
      "source": [
        "kospi_df"
      ]
    },
    {
      "cell_type": "code",
      "execution_count": 236,
      "metadata": {},
      "outputs": [],
      "source": [
        "kospi_df.sort_values(by='date', ascending=True, inplace=True)"
      ]
    },
    {
      "cell_type": "code",
      "execution_count": 237,
      "metadata": {},
      "outputs": [
        {
          "data": {
            "text/html": [
              "<div>\n",
              "<style scoped>\n",
              "    .dataframe tbody tr th:only-of-type {\n",
              "        vertical-align: middle;\n",
              "    }\n",
              "\n",
              "    .dataframe tbody tr th {\n",
              "        vertical-align: top;\n",
              "    }\n",
              "\n",
              "    .dataframe thead th {\n",
              "        text-align: right;\n",
              "    }\n",
              "</style>\n",
              "<table border=\"1\" class=\"dataframe\">\n",
              "  <thead>\n",
              "    <tr style=\"text-align: right;\">\n",
              "      <th></th>\n",
              "      <th>date</th>\n",
              "      <th>종가</th>\n",
              "      <th>대비</th>\n",
              "      <th>등락률</th>\n",
              "      <th>시가</th>\n",
              "      <th>고가</th>\n",
              "      <th>저가</th>\n",
              "      <th>거래량</th>\n",
              "      <th>거래대금</th>\n",
              "      <th>상장시가총액</th>\n",
              "    </tr>\n",
              "  </thead>\n",
              "  <tbody>\n",
              "    <tr>\n",
              "      <th>2965</th>\n",
              "      <td>2005-01-03</td>\n",
              "      <td>893.71</td>\n",
              "      <td>-2.21</td>\n",
              "      <td>-0.25</td>\n",
              "      <td>896.00</td>\n",
              "      <td>897.59</td>\n",
              "      <td>890.93</td>\n",
              "      <td>252568.0</td>\n",
              "      <td>1466793.0</td>\n",
              "      <td>4.113691e+08</td>\n",
              "    </tr>\n",
              "    <tr>\n",
              "      <th>2964</th>\n",
              "      <td>2005-01-04</td>\n",
              "      <td>886.90</td>\n",
              "      <td>-6.81</td>\n",
              "      <td>-0.76</td>\n",
              "      <td>890.56</td>\n",
              "      <td>895.40</td>\n",
              "      <td>884.94</td>\n",
              "      <td>331633.0</td>\n",
              "      <td>1788773.0</td>\n",
              "      <td>4.083284e+08</td>\n",
              "    </tr>\n",
              "    <tr>\n",
              "      <th>2963</th>\n",
              "      <td>2005-01-05</td>\n",
              "      <td>885.19</td>\n",
              "      <td>-1.71</td>\n",
              "      <td>-0.19</td>\n",
              "      <td>874.92</td>\n",
              "      <td>885.20</td>\n",
              "      <td>873.18</td>\n",
              "      <td>343142.0</td>\n",
              "      <td>2062911.0</td>\n",
              "      <td>4.068608e+08</td>\n",
              "    </tr>\n",
              "    <tr>\n",
              "      <th>2962</th>\n",
              "      <td>2005-01-06</td>\n",
              "      <td>871.28</td>\n",
              "      <td>-13.91</td>\n",
              "      <td>-1.57</td>\n",
              "      <td>878.23</td>\n",
              "      <td>886.31</td>\n",
              "      <td>871.28</td>\n",
              "      <td>394697.0</td>\n",
              "      <td>2487651.0</td>\n",
              "      <td>4.016184e+08</td>\n",
              "    </tr>\n",
              "    <tr>\n",
              "      <th>2961</th>\n",
              "      <td>2005-01-07</td>\n",
              "      <td>870.84</td>\n",
              "      <td>-0.44</td>\n",
              "      <td>-0.05</td>\n",
              "      <td>876.36</td>\n",
              "      <td>878.89</td>\n",
              "      <td>866.72</td>\n",
              "      <td>294804.0</td>\n",
              "      <td>1982615.0</td>\n",
              "      <td>4.017294e+08</td>\n",
              "    </tr>\n",
              "    <tr>\n",
              "      <th>...</th>\n",
              "      <td>...</td>\n",
              "      <td>...</td>\n",
              "      <td>...</td>\n",
              "      <td>...</td>\n",
              "      <td>...</td>\n",
              "      <td>...</td>\n",
              "      <td>...</td>\n",
              "      <td>...</td>\n",
              "      <td>...</td>\n",
              "      <td>...</td>\n",
              "    </tr>\n",
              "    <tr>\n",
              "      <th>4455</th>\n",
              "      <td>2024-03-20</td>\n",
              "      <td>2690.14</td>\n",
              "      <td>33.97</td>\n",
              "      <td>1.28</td>\n",
              "      <td>2680.70</td>\n",
              "      <td>2692.52</td>\n",
              "      <td>2674.09</td>\n",
              "      <td>720452.0</td>\n",
              "      <td>12739395.0</td>\n",
              "      <td>2.190992e+09</td>\n",
              "    </tr>\n",
              "    <tr>\n",
              "      <th>4454</th>\n",
              "      <td>2024-03-21</td>\n",
              "      <td>2754.86</td>\n",
              "      <td>64.72</td>\n",
              "      <td>2.41</td>\n",
              "      <td>2731.18</td>\n",
              "      <td>2755.45</td>\n",
              "      <td>2724.25</td>\n",
              "      <td>825227.0</td>\n",
              "      <td>14013557.0</td>\n",
              "      <td>2.244170e+09</td>\n",
              "    </tr>\n",
              "    <tr>\n",
              "      <th>4453</th>\n",
              "      <td>2024-03-22</td>\n",
              "      <td>2748.56</td>\n",
              "      <td>-6.30</td>\n",
              "      <td>-0.23</td>\n",
              "      <td>2751.15</td>\n",
              "      <td>2763.06</td>\n",
              "      <td>2738.18</td>\n",
              "      <td>509545.0</td>\n",
              "      <td>11532687.0</td>\n",
              "      <td>2.240018e+09</td>\n",
              "    </tr>\n",
              "    <tr>\n",
              "      <th>4452</th>\n",
              "      <td>2024-03-25</td>\n",
              "      <td>2737.57</td>\n",
              "      <td>-10.99</td>\n",
              "      <td>-0.40</td>\n",
              "      <td>2756.59</td>\n",
              "      <td>2763.63</td>\n",
              "      <td>2731.70</td>\n",
              "      <td>489620.0</td>\n",
              "      <td>9979717.0</td>\n",
              "      <td>2.230451e+09</td>\n",
              "    </tr>\n",
              "    <tr>\n",
              "      <th>4451</th>\n",
              "      <td>2024-03-26</td>\n",
              "      <td>2757.09</td>\n",
              "      <td>19.52</td>\n",
              "      <td>0.71</td>\n",
              "      <td>2756.42</td>\n",
              "      <td>2779.40</td>\n",
              "      <td>2752.27</td>\n",
              "      <td>448301.0</td>\n",
              "      <td>12188273.0</td>\n",
              "      <td>2.248075e+09</td>\n",
              "    </tr>\n",
              "  </tbody>\n",
              "</table>\n",
              "<p>4754 rows × 10 columns</p>\n",
              "</div>"
            ],
            "text/plain": [
              "           date       종가     대비   등락률       시가       고가       저가       거래량  \\\n",
              "2965 2005-01-03   893.71  -2.21 -0.25   896.00   897.59   890.93  252568.0   \n",
              "2964 2005-01-04   886.90  -6.81 -0.76   890.56   895.40   884.94  331633.0   \n",
              "2963 2005-01-05   885.19  -1.71 -0.19   874.92   885.20   873.18  343142.0   \n",
              "2962 2005-01-06   871.28 -13.91 -1.57   878.23   886.31   871.28  394697.0   \n",
              "2961 2005-01-07   870.84  -0.44 -0.05   876.36   878.89   866.72  294804.0   \n",
              "...         ...      ...    ...   ...      ...      ...      ...       ...   \n",
              "4455 2024-03-20  2690.14  33.97  1.28  2680.70  2692.52  2674.09  720452.0   \n",
              "4454 2024-03-21  2754.86  64.72  2.41  2731.18  2755.45  2724.25  825227.0   \n",
              "4453 2024-03-22  2748.56  -6.30 -0.23  2751.15  2763.06  2738.18  509545.0   \n",
              "4452 2024-03-25  2737.57 -10.99 -0.40  2756.59  2763.63  2731.70  489620.0   \n",
              "4451 2024-03-26  2757.09  19.52  0.71  2756.42  2779.40  2752.27  448301.0   \n",
              "\n",
              "            거래대금        상장시가총액  \n",
              "2965   1466793.0  4.113691e+08  \n",
              "2964   1788773.0  4.083284e+08  \n",
              "2963   2062911.0  4.068608e+08  \n",
              "2962   2487651.0  4.016184e+08  \n",
              "2961   1982615.0  4.017294e+08  \n",
              "...          ...           ...  \n",
              "4455  12739395.0  2.190992e+09  \n",
              "4454  14013557.0  2.244170e+09  \n",
              "4453  11532687.0  2.240018e+09  \n",
              "4452   9979717.0  2.230451e+09  \n",
              "4451  12188273.0  2.248075e+09  \n",
              "\n",
              "[4754 rows x 10 columns]"
            ]
          },
          "execution_count": 237,
          "metadata": {},
          "output_type": "execute_result"
        }
      ],
      "source": [
        "kospi_df"
      ]
    },
    {
      "cell_type": "code",
      "execution_count": 238,
      "metadata": {},
      "outputs": [
        {
          "data": {
            "text/plain": [
              "2965   2005-01-03\n",
              "2964   2005-01-04\n",
              "2963   2005-01-05\n",
              "2962   2005-01-06\n",
              "2961   2005-01-07\n",
              "          ...    \n",
              "4455   2024-03-20\n",
              "4454   2024-03-21\n",
              "4453   2024-03-22\n",
              "4452   2024-03-25\n",
              "4451   2024-03-26\n",
              "Name: date, Length: 4754, dtype: datetime64[ns]"
            ]
          },
          "execution_count": 238,
          "metadata": {},
          "output_type": "execute_result"
        }
      ],
      "source": [
        "kospi_df[\"date\"]"
      ]
    },
    {
      "cell_type": "code",
      "execution_count": 239,
      "metadata": {},
      "outputs": [
        {
          "data": {
            "text/plain": [
              "4754"
            ]
          },
          "execution_count": 239,
          "metadata": {},
          "output_type": "execute_result"
        }
      ],
      "source": [
        "kospi_df[\"date\"].nunique()"
      ]
    },
    {
      "cell_type": "code",
      "execution_count": 240,
      "metadata": {},
      "outputs": [],
      "source": [
        "kospi_df.rename(columns={\"종가\":\"close\"}, inplace=True)"
      ]
    },
    {
      "cell_type": "code",
      "execution_count": 241,
      "metadata": {},
      "outputs": [],
      "source": [
        "kospi_df.rename(columns={\"close\":\"Close\"}, inplace=True)"
      ]
    },
    {
      "cell_type": "code",
      "execution_count": 243,
      "metadata": {},
      "outputs": [],
      "source": [
        "kospi_df[\"KOSPI_MA5d\"] = kospi_df[\"Close\"].transform(lambda x: x.rolling(window=5).mean())\n",
        "kospi_df[\"KOSPI_MA20d\"] = kospi_df[\"Close\"].transform(lambda x: x.rolling(window=20).mean())\n",
        "kospi_df[\"KOSPI_MA60d\"] = kospi_df[\"Close\"].transform(lambda x: x.rolling(window=60).mean())\n",
        "kospi_df[\"KOSPI_MA120d\"] = kospi_df[\"Close\"].transform(lambda x: x.rolling(window=120).mean())"
      ]
    },
    {
      "cell_type": "code",
      "execution_count": 244,
      "metadata": {},
      "outputs": [
        {
          "data": {
            "text/html": [
              "<div>\n",
              "<style scoped>\n",
              "    .dataframe tbody tr th:only-of-type {\n",
              "        vertical-align: middle;\n",
              "    }\n",
              "\n",
              "    .dataframe tbody tr th {\n",
              "        vertical-align: top;\n",
              "    }\n",
              "\n",
              "    .dataframe thead th {\n",
              "        text-align: right;\n",
              "    }\n",
              "</style>\n",
              "<table border=\"1\" class=\"dataframe\">\n",
              "  <thead>\n",
              "    <tr style=\"text-align: right;\">\n",
              "      <th></th>\n",
              "      <th>date</th>\n",
              "      <th>Close</th>\n",
              "      <th>대비</th>\n",
              "      <th>등락률</th>\n",
              "      <th>시가</th>\n",
              "      <th>고가</th>\n",
              "      <th>저가</th>\n",
              "      <th>거래량</th>\n",
              "      <th>거래대금</th>\n",
              "      <th>상장시가총액</th>\n",
              "      <th>KOSPI_MA5d</th>\n",
              "      <th>KOSPI_MA20d</th>\n",
              "      <th>KOSPI_MA60d</th>\n",
              "      <th>KOSPI_MA120d</th>\n",
              "    </tr>\n",
              "  </thead>\n",
              "  <tbody>\n",
              "    <tr>\n",
              "      <th>2965</th>\n",
              "      <td>2005-01-03</td>\n",
              "      <td>893.71</td>\n",
              "      <td>-2.21</td>\n",
              "      <td>-0.25</td>\n",
              "      <td>896.00</td>\n",
              "      <td>897.59</td>\n",
              "      <td>890.93</td>\n",
              "      <td>252568.0</td>\n",
              "      <td>1466793.0</td>\n",
              "      <td>4.113691e+08</td>\n",
              "      <td>NaN</td>\n",
              "      <td>NaN</td>\n",
              "      <td>NaN</td>\n",
              "      <td>NaN</td>\n",
              "    </tr>\n",
              "    <tr>\n",
              "      <th>2964</th>\n",
              "      <td>2005-01-04</td>\n",
              "      <td>886.90</td>\n",
              "      <td>-6.81</td>\n",
              "      <td>-0.76</td>\n",
              "      <td>890.56</td>\n",
              "      <td>895.40</td>\n",
              "      <td>884.94</td>\n",
              "      <td>331633.0</td>\n",
              "      <td>1788773.0</td>\n",
              "      <td>4.083284e+08</td>\n",
              "      <td>NaN</td>\n",
              "      <td>NaN</td>\n",
              "      <td>NaN</td>\n",
              "      <td>NaN</td>\n",
              "    </tr>\n",
              "    <tr>\n",
              "      <th>2963</th>\n",
              "      <td>2005-01-05</td>\n",
              "      <td>885.19</td>\n",
              "      <td>-1.71</td>\n",
              "      <td>-0.19</td>\n",
              "      <td>874.92</td>\n",
              "      <td>885.20</td>\n",
              "      <td>873.18</td>\n",
              "      <td>343142.0</td>\n",
              "      <td>2062911.0</td>\n",
              "      <td>4.068608e+08</td>\n",
              "      <td>NaN</td>\n",
              "      <td>NaN</td>\n",
              "      <td>NaN</td>\n",
              "      <td>NaN</td>\n",
              "    </tr>\n",
              "    <tr>\n",
              "      <th>2962</th>\n",
              "      <td>2005-01-06</td>\n",
              "      <td>871.28</td>\n",
              "      <td>-13.91</td>\n",
              "      <td>-1.57</td>\n",
              "      <td>878.23</td>\n",
              "      <td>886.31</td>\n",
              "      <td>871.28</td>\n",
              "      <td>394697.0</td>\n",
              "      <td>2487651.0</td>\n",
              "      <td>4.016184e+08</td>\n",
              "      <td>NaN</td>\n",
              "      <td>NaN</td>\n",
              "      <td>NaN</td>\n",
              "      <td>NaN</td>\n",
              "    </tr>\n",
              "    <tr>\n",
              "      <th>2961</th>\n",
              "      <td>2005-01-07</td>\n",
              "      <td>870.84</td>\n",
              "      <td>-0.44</td>\n",
              "      <td>-0.05</td>\n",
              "      <td>876.36</td>\n",
              "      <td>878.89</td>\n",
              "      <td>866.72</td>\n",
              "      <td>294804.0</td>\n",
              "      <td>1982615.0</td>\n",
              "      <td>4.017294e+08</td>\n",
              "      <td>881.584</td>\n",
              "      <td>NaN</td>\n",
              "      <td>NaN</td>\n",
              "      <td>NaN</td>\n",
              "    </tr>\n",
              "    <tr>\n",
              "      <th>...</th>\n",
              "      <td>...</td>\n",
              "      <td>...</td>\n",
              "      <td>...</td>\n",
              "      <td>...</td>\n",
              "      <td>...</td>\n",
              "      <td>...</td>\n",
              "      <td>...</td>\n",
              "      <td>...</td>\n",
              "      <td>...</td>\n",
              "      <td>...</td>\n",
              "      <td>...</td>\n",
              "      <td>...</td>\n",
              "      <td>...</td>\n",
              "      <td>...</td>\n",
              "    </tr>\n",
              "    <tr>\n",
              "      <th>4455</th>\n",
              "      <td>2024-03-20</td>\n",
              "      <td>2690.14</td>\n",
              "      <td>33.97</td>\n",
              "      <td>1.28</td>\n",
              "      <td>2680.70</td>\n",
              "      <td>2692.52</td>\n",
              "      <td>2674.09</td>\n",
              "      <td>720452.0</td>\n",
              "      <td>12739395.0</td>\n",
              "      <td>2.190992e+09</td>\n",
              "      <td>2683.550</td>\n",
              "      <td>2664.9080</td>\n",
              "      <td>2596.969167</td>\n",
              "      <td>2526.718417</td>\n",
              "    </tr>\n",
              "    <tr>\n",
              "      <th>4454</th>\n",
              "      <td>2024-03-21</td>\n",
              "      <td>2754.86</td>\n",
              "      <td>64.72</td>\n",
              "      <td>2.41</td>\n",
              "      <td>2731.18</td>\n",
              "      <td>2755.45</td>\n",
              "      <td>2724.25</td>\n",
              "      <td>825227.0</td>\n",
              "      <td>14013557.0</td>\n",
              "      <td>2.244170e+09</td>\n",
              "      <td>2690.770</td>\n",
              "      <td>2669.9855</td>\n",
              "      <td>2599.311833</td>\n",
              "      <td>2528.344417</td>\n",
              "    </tr>\n",
              "    <tr>\n",
              "      <th>4453</th>\n",
              "      <td>2024-03-22</td>\n",
              "      <td>2748.56</td>\n",
              "      <td>-6.30</td>\n",
              "      <td>-0.23</td>\n",
              "      <td>2751.15</td>\n",
              "      <td>2763.06</td>\n",
              "      <td>2738.18</td>\n",
              "      <td>509545.0</td>\n",
              "      <td>11532687.0</td>\n",
              "      <td>2.240018e+09</td>\n",
              "      <td>2707.114</td>\n",
              "      <td>2674.2000</td>\n",
              "      <td>2601.787500</td>\n",
              "      <td>2530.291000</td>\n",
              "    </tr>\n",
              "    <tr>\n",
              "      <th>4452</th>\n",
              "      <td>2024-03-25</td>\n",
              "      <td>2737.57</td>\n",
              "      <td>-10.99</td>\n",
              "      <td>-0.40</td>\n",
              "      <td>2756.59</td>\n",
              "      <td>2763.63</td>\n",
              "      <td>2731.70</td>\n",
              "      <td>489620.0</td>\n",
              "      <td>9979717.0</td>\n",
              "      <td>2.230451e+09</td>\n",
              "      <td>2717.460</td>\n",
              "      <td>2677.6935</td>\n",
              "      <td>2604.088500</td>\n",
              "      <td>2532.203000</td>\n",
              "    </tr>\n",
              "    <tr>\n",
              "      <th>4451</th>\n",
              "      <td>2024-03-26</td>\n",
              "      <td>2757.09</td>\n",
              "      <td>19.52</td>\n",
              "      <td>0.71</td>\n",
              "      <td>2756.42</td>\n",
              "      <td>2779.40</td>\n",
              "      <td>2752.27</td>\n",
              "      <td>448301.0</td>\n",
              "      <td>12188273.0</td>\n",
              "      <td>2.248075e+09</td>\n",
              "      <td>2737.644</td>\n",
              "      <td>2683.1940</td>\n",
              "      <td>2606.663500</td>\n",
              "      <td>2534.380750</td>\n",
              "    </tr>\n",
              "  </tbody>\n",
              "</table>\n",
              "<p>4754 rows × 14 columns</p>\n",
              "</div>"
            ],
            "text/plain": [
              "           date    Close     대비   등락률       시가       고가       저가       거래량  \\\n",
              "2965 2005-01-03   893.71  -2.21 -0.25   896.00   897.59   890.93  252568.0   \n",
              "2964 2005-01-04   886.90  -6.81 -0.76   890.56   895.40   884.94  331633.0   \n",
              "2963 2005-01-05   885.19  -1.71 -0.19   874.92   885.20   873.18  343142.0   \n",
              "2962 2005-01-06   871.28 -13.91 -1.57   878.23   886.31   871.28  394697.0   \n",
              "2961 2005-01-07   870.84  -0.44 -0.05   876.36   878.89   866.72  294804.0   \n",
              "...         ...      ...    ...   ...      ...      ...      ...       ...   \n",
              "4455 2024-03-20  2690.14  33.97  1.28  2680.70  2692.52  2674.09  720452.0   \n",
              "4454 2024-03-21  2754.86  64.72  2.41  2731.18  2755.45  2724.25  825227.0   \n",
              "4453 2024-03-22  2748.56  -6.30 -0.23  2751.15  2763.06  2738.18  509545.0   \n",
              "4452 2024-03-25  2737.57 -10.99 -0.40  2756.59  2763.63  2731.70  489620.0   \n",
              "4451 2024-03-26  2757.09  19.52  0.71  2756.42  2779.40  2752.27  448301.0   \n",
              "\n",
              "            거래대금        상장시가총액  KOSPI_MA5d  KOSPI_MA20d  KOSPI_MA60d  \\\n",
              "2965   1466793.0  4.113691e+08         NaN          NaN          NaN   \n",
              "2964   1788773.0  4.083284e+08         NaN          NaN          NaN   \n",
              "2963   2062911.0  4.068608e+08         NaN          NaN          NaN   \n",
              "2962   2487651.0  4.016184e+08         NaN          NaN          NaN   \n",
              "2961   1982615.0  4.017294e+08     881.584          NaN          NaN   \n",
              "...          ...           ...         ...          ...          ...   \n",
              "4455  12739395.0  2.190992e+09    2683.550    2664.9080  2596.969167   \n",
              "4454  14013557.0  2.244170e+09    2690.770    2669.9855  2599.311833   \n",
              "4453  11532687.0  2.240018e+09    2707.114    2674.2000  2601.787500   \n",
              "4452   9979717.0  2.230451e+09    2717.460    2677.6935  2604.088500   \n",
              "4451  12188273.0  2.248075e+09    2737.644    2683.1940  2606.663500   \n",
              "\n",
              "      KOSPI_MA120d  \n",
              "2965           NaN  \n",
              "2964           NaN  \n",
              "2963           NaN  \n",
              "2962           NaN  \n",
              "2961           NaN  \n",
              "...            ...  \n",
              "4455   2526.718417  \n",
              "4454   2528.344417  \n",
              "4453   2530.291000  \n",
              "4452   2532.203000  \n",
              "4451   2534.380750  \n",
              "\n",
              "[4754 rows x 14 columns]"
            ]
          },
          "execution_count": 244,
          "metadata": {},
          "output_type": "execute_result"
        }
      ],
      "source": [
        "kospi_df"
      ]
    },
    {
      "cell_type": "code",
      "execution_count": null,
      "metadata": {},
      "outputs": [],
      "source": []
    },
    {
      "cell_type": "code",
      "execution_count": 137,
      "metadata": {},
      "outputs": [],
      "source": [
        "# from geopy.distance import geodesic\n",
        "\n",
        "# # Function to calculate distances between two points\n",
        "# def calculate_distance(lat1, lon1, lat2, lon2):\n",
        "#     coords_1 = (lat1, lon1)\n",
        "#     coords_2 = (lat2, lon2)\n",
        "#     return geodesic(coords_1, coords_2).meters  # Calculate distance in meters\n",
        "\n",
        "# # Iterate over each row in concat_select\n",
        "# for index, row in concat_select.iterrows():\n",
        "#     property_lat = row['좌표Y']\n",
        "#     property_lon = row['좌표X']\n",
        "    \n",
        "#     # Initialize counters for bus and metro stations within different distances\n",
        "#     bus_500m = 0\n",
        "#     bus_1km = 0\n",
        "#     bus_3km = 0\n",
        "#     metro_500m = 0\n",
        "#     metro_1km = 0\n",
        "#     metro_3km = 0\n",
        "    \n",
        "#     # Iterate over each bus station\n",
        "#     for bus_index, bus_row in df_bus.iterrows():\n",
        "#         bus_lat = bus_row['Y좌표']\n",
        "#         bus_lon = bus_row['X좌표']\n",
        "        \n",
        "#         # Calculate distance between property and bus station\n",
        "#         distance = calculate_distance(property_lat, property_lon, bus_lat, bus_lon)\n",
        "        \n",
        "#         # Update counters based on distance\n",
        "#         if distance <= 500:\n",
        "#             bus_500m += 1\n",
        "#         elif distance <= 1000:\n",
        "#             bus_1km += 1\n",
        "#         elif distance <= 3000:\n",
        "#             bus_3km += 1\n",
        "            \n",
        "#     for metro_index, metro_row in df_metro.iterrows():\n",
        "#         metro_lat = metro_row['위도']\n",
        "#         metro_lon = metro_row['경도']\n",
        "        \n",
        "#         # Calculate distance between property and bus station\n",
        "#         distance = calculate_distance(property_lat, property_lon, metro_lat, metro_lon)\n",
        "        \n",
        "#         # Update counters based on distance\n",
        "#         if distance <= 500:\n",
        "#             metro_500m += 1\n",
        "#         elif distance <= 1000:\n",
        "#             metro_1km += 1\n",
        "#         elif distance <= 3000:\n",
        "#             metro_3km += 1\n",
        "#     # Iterate over each metro station (assuming the same process as for bus stations)\n",
        "#     # Update counters similarly\n",
        "    \n",
        "#     # Add new columns to concat_select\n",
        "#     concat_select.at[index, 'bus_500m'] = bus_500m\n",
        "#     concat_select.at[index, 'bus_1km'] = bus_1km\n",
        "#     concat_select.at[index, 'bus_3km'] = bus_3km\n",
        "#     concat_select.at[index, 'metro_500m'] = metro_500m\n",
        "#     concat_select.at[index, 'metro_1km'] = metro_1km\n",
        "#     concat_select.at[index, 'metro_3km'] = metro_3km\n"
      ]
    },
    {
      "cell_type": "code",
      "execution_count": null,
      "metadata": {},
      "outputs": [],
      "source": [
        "del concat_select['date']"
      ]
    },
    {
      "cell_type": "markdown",
      "metadata": {
        "id": "uXfXRevr3dfe"
      },
      "source": [
        "## 5. Model Training"
      ]
    },
    {
      "cell_type": "markdown",
      "metadata": {
        "id": "ytuwazY43gwQ"
      },
      "source": [
        "- 이제 위에서 만든 파생변수들과 정제한 데이터를 기반으로 본격적으로 부동산 실거래가를 예측하는 모델링을 진행하겠습니다.\n",
        "- 모델링에는 `sklearn`의 `RandomForest`를 이용하도록 하겠습니다.\n",
        "\n",
        "- 참고 ✅\n",
        "  - `RandomForest`는 배깅(Bagging)의 일종으로, 학습시키는 데이터 뿐 아니라 특성변수(X)들도 무작위로 선택해 트리를 생성하는 방법입니다.\n",
        "  - 모델 학습 과정에서 서로 다른 N개의 Tree 생성하고, N개의 Tree에서 발생한 Output을 Voting(범주형, 분류문제)하거나, Average(연속형, 회귀문제)해 최종 Output 생성합니다.\n",
        "  - 이는 High variance, Low bias 상황에서 분산(Variance) 감소에 도움을 줍니다."
      ]
    },
    {
      "cell_type": "code",
      "execution_count": 138,
      "metadata": {
        "colab": {
          "base_uri": "https://localhost:8080/"
        },
        "id": "9E__0jEyyXIA",
        "outputId": "ffb3cc6e-d337-4ed6-96d1-ddf96dc97449"
      },
      "outputs": [
        {
          "name": "stdout",
          "output_type": "stream",
          "text": [
            "(1118822, 52) (9272, 52)\n"
          ]
        }
      ],
      "source": [
        "# 이제 다시 train과 test dataset을 분할해줍니다. 위에서 제작해 놓았던 is_test 칼럼을 이용합니다.\n",
        "dt_train = concat_select.query('is_test==0')\n",
        "dt_test = concat_select.query('is_test==1')\n",
        "\n",
        "# 이제 is_test 칼럼은 drop해줍니다.\n",
        "dt_train.drop(['is_test'], axis = 1, inplace=True)\n",
        "dt_test.drop(['is_test'], axis = 1, inplace=True)\n",
        "print(dt_train.shape, dt_test.shape)"
      ]
    },
    {
      "cell_type": "code",
      "execution_count": 139,
      "metadata": {
        "id": "CpRwDCH7UB_p"
      },
      "outputs": [],
      "source": [
        "# dt_test의 target은 일단 0으로 임의로 채워주도록 하겠습니다.\n",
        "dt_test['target'] = 0"
      ]
    },
    {
      "cell_type": "markdown",
      "metadata": {
        "id": "wdHNkPO_3tSb"
      },
      "source": [
        "### 5.1. 범주형 변수 Encoding\n",
        "- 범주형 변수는 그대로 모델에 투입하면, 모델이 제대로 작동할 수 없습니다.\n",
        "- 따라서 **레이블 인코딩 과정**을 통해 범주형 변수들을 numeric하게 바꾸는 인코딩 과정을 진행해주도록 하겠습니다."
      ]
    },
    {
      "cell_type": "code",
      "execution_count": 140,
      "metadata": {
        "colab": {
          "base_uri": "https://localhost:8080/"
        },
        "id": "yCW2dTz12VMZ",
        "outputId": "5c81b9e1-0462-421e-cb77-6b056532e5cd"
      },
      "outputs": [
        {
          "name": "stdout",
          "output_type": "stream",
          "text": [
            "연속형 변수: ['전용면적', '계약일', '층', '건축년도', 'k주거전용면적', 'k전용면적별세대현황60이하', 'k전용면적별세대현황6085이하', 'k85135이하', '건축면적', '주차대수', 'target', '계약년', '계약월', 'is_public', '기준금리', '구_encoded', '구_std', '동_encoded', '동_std', 'has_bds', '주거지역_비율', '상업지역_비율', '공업지역_비율', '녹지지역_비율', '주거지역_전용주거_비율', '주거지역_일반주거_비율', '주거지역_준주거_비율', '중심상업_비율', '일반상업_비율', '근린상업_비율', '학생1만명당_사설학원수개소', 'yrs_diff_built_contract', 'built_in3yrs', 'built_in5yrs', 'built_over30yrs', 'built_over35yrs', 'built_over40yrs', 'on_main_st']\n",
            "범주형 변수: ['street', 'k수정일자', '고용보험관리번호', '경비비관리형태', '세대전기계약방법', '청소비관리형태', '기타의무임대임의1234', '단지승인일', '사용허가여부', '관리비_업로드', '단지신청일', 'date', '구', '동']\n"
          ]
        }
      ],
      "source": [
        "# 파생변수 제작으로 추가된 변수들이 존재하기에, 다시한번 연속형과 범주형 칼럼을 분리해주겠습니다.\n",
        "continuous_columns_v2 = []\n",
        "categorical_columns_v2 = []\n",
        "\n",
        "for column in dt_train.columns:\n",
        "    if pd.api.types.is_numeric_dtype(dt_train[column]):\n",
        "        continuous_columns_v2.append(column)\n",
        "    else:\n",
        "        categorical_columns_v2.append(column)\n",
        "\n",
        "print(\"연속형 변수:\", continuous_columns_v2)\n",
        "print(\"범주형 변수:\", categorical_columns_v2)"
      ]
    },
    {
      "cell_type": "code",
      "execution_count": 141,
      "metadata": {
        "colab": {
          "base_uri": "https://localhost:8080/"
        },
        "id": "klnjrUceP_bC",
        "outputId": "ba94e4af-e06b-4c5c-b3a6-736a4616e589"
      },
      "outputs": [
        {
          "name": "stderr",
          "output_type": "stream",
          "text": [
            " 79%|███████▊  | 11/14 [00:03<00:00,  3.02it/s]\n"
          ]
        },
        {
          "ename": "ValueError",
          "evalue": "y contains previously unseen labels: '2023-07-26'",
          "output_type": "error",
          "traceback": [
            "\u001b[0;31m---------------------------------------------------------------------------\u001b[0m",
            "\u001b[0;31mKeyError\u001b[0m                                  Traceback (most recent call last)",
            "File \u001b[0;32m/opt/conda/lib/python3.10/site-packages/sklearn/utils/_encode.py:224\u001b[0m, in \u001b[0;36m_encode\u001b[0;34m(values, uniques, check_unknown)\u001b[0m\n\u001b[1;32m    223\u001b[0m \u001b[38;5;28;01mtry\u001b[39;00m:\n\u001b[0;32m--> 224\u001b[0m     \u001b[38;5;28;01mreturn\u001b[39;00m \u001b[43m_map_to_integer\u001b[49m\u001b[43m(\u001b[49m\u001b[43mvalues\u001b[49m\u001b[43m,\u001b[49m\u001b[43m \u001b[49m\u001b[43muniques\u001b[49m\u001b[43m)\u001b[49m\n\u001b[1;32m    225\u001b[0m \u001b[38;5;28;01mexcept\u001b[39;00m \u001b[38;5;167;01mKeyError\u001b[39;00m \u001b[38;5;28;01mas\u001b[39;00m e:\n",
            "File \u001b[0;32m/opt/conda/lib/python3.10/site-packages/sklearn/utils/_encode.py:164\u001b[0m, in \u001b[0;36m_map_to_integer\u001b[0;34m(values, uniques)\u001b[0m\n\u001b[1;32m    163\u001b[0m table \u001b[38;5;241m=\u001b[39m _nandict({val: i \u001b[38;5;28;01mfor\u001b[39;00m i, val \u001b[38;5;129;01min\u001b[39;00m \u001b[38;5;28menumerate\u001b[39m(uniques)})\n\u001b[0;32m--> 164\u001b[0m \u001b[38;5;28;01mreturn\u001b[39;00m np\u001b[38;5;241m.\u001b[39marray([table[v] \u001b[38;5;28;01mfor\u001b[39;00m v \u001b[38;5;129;01min\u001b[39;00m values])\n",
            "File \u001b[0;32m/opt/conda/lib/python3.10/site-packages/sklearn/utils/_encode.py:164\u001b[0m, in \u001b[0;36m<listcomp>\u001b[0;34m(.0)\u001b[0m\n\u001b[1;32m    163\u001b[0m table \u001b[38;5;241m=\u001b[39m _nandict({val: i \u001b[38;5;28;01mfor\u001b[39;00m i, val \u001b[38;5;129;01min\u001b[39;00m \u001b[38;5;28menumerate\u001b[39m(uniques)})\n\u001b[0;32m--> 164\u001b[0m \u001b[38;5;28;01mreturn\u001b[39;00m np\u001b[38;5;241m.\u001b[39marray([\u001b[43mtable\u001b[49m\u001b[43m[\u001b[49m\u001b[43mv\u001b[49m\u001b[43m]\u001b[49m \u001b[38;5;28;01mfor\u001b[39;00m v \u001b[38;5;129;01min\u001b[39;00m values])\n",
            "File \u001b[0;32m/opt/conda/lib/python3.10/site-packages/sklearn/utils/_encode.py:158\u001b[0m, in \u001b[0;36m_nandict.__missing__\u001b[0;34m(self, key)\u001b[0m\n\u001b[1;32m    157\u001b[0m     \u001b[38;5;28;01mreturn\u001b[39;00m \u001b[38;5;28mself\u001b[39m\u001b[38;5;241m.\u001b[39mnan_value\n\u001b[0;32m--> 158\u001b[0m \u001b[38;5;28;01mraise\u001b[39;00m \u001b[38;5;167;01mKeyError\u001b[39;00m(key)\n",
            "\u001b[0;31mKeyError\u001b[0m: '2023-07-26'",
            "\nDuring handling of the above exception, another exception occurred:\n",
            "\u001b[0;31mValueError\u001b[0m                                Traceback (most recent call last)",
            "Cell \u001b[0;32mIn[141], line 20\u001b[0m\n\u001b[1;32m     17\u001b[0m   \u001b[38;5;28;01mif\u001b[39;00m label \u001b[38;5;129;01mnot\u001b[39;00m \u001b[38;5;129;01min\u001b[39;00m lbl\u001b[38;5;241m.\u001b[39mclasses_: \u001b[38;5;66;03m# unseen label 데이터인 경우\u001b[39;00m\n\u001b[1;32m     18\u001b[0m     lbl\u001b[38;5;241m.\u001b[39mclasses_ \u001b[38;5;241m=\u001b[39m np\u001b[38;5;241m.\u001b[39mappend(lbl\u001b[38;5;241m.\u001b[39mclasses_, label) \u001b[38;5;66;03m# 미처리 시 ValueError발생하니 주의하세요!\u001b[39;00m\n\u001b[0;32m---> 20\u001b[0m dt_test[col] \u001b[38;5;241m=\u001b[39m \u001b[43mlbl\u001b[49m\u001b[38;5;241;43m.\u001b[39;49m\u001b[43mtransform\u001b[49m\u001b[43m(\u001b[49m\u001b[43mdt_test\u001b[49m\u001b[43m[\u001b[49m\u001b[43mcol\u001b[49m\u001b[43m]\u001b[49m\u001b[38;5;241;43m.\u001b[39;49m\u001b[43mastype\u001b[49m\u001b[43m(\u001b[49m\u001b[38;5;28;43mstr\u001b[39;49m\u001b[43m)\u001b[49m\u001b[43m)\u001b[49m\n",
            "File \u001b[0;32m/opt/conda/lib/python3.10/site-packages/sklearn/utils/_set_output.py:140\u001b[0m, in \u001b[0;36m_wrap_method_output.<locals>.wrapped\u001b[0;34m(self, X, *args, **kwargs)\u001b[0m\n\u001b[1;32m    138\u001b[0m \u001b[38;5;129m@wraps\u001b[39m(f)\n\u001b[1;32m    139\u001b[0m \u001b[38;5;28;01mdef\u001b[39;00m \u001b[38;5;21mwrapped\u001b[39m(\u001b[38;5;28mself\u001b[39m, X, \u001b[38;5;241m*\u001b[39margs, \u001b[38;5;241m*\u001b[39m\u001b[38;5;241m*\u001b[39mkwargs):\n\u001b[0;32m--> 140\u001b[0m     data_to_wrap \u001b[38;5;241m=\u001b[39m \u001b[43mf\u001b[49m\u001b[43m(\u001b[49m\u001b[38;5;28;43mself\u001b[39;49m\u001b[43m,\u001b[49m\u001b[43m \u001b[49m\u001b[43mX\u001b[49m\u001b[43m,\u001b[49m\u001b[43m \u001b[49m\u001b[38;5;241;43m*\u001b[39;49m\u001b[43margs\u001b[49m\u001b[43m,\u001b[49m\u001b[43m \u001b[49m\u001b[38;5;241;43m*\u001b[39;49m\u001b[38;5;241;43m*\u001b[39;49m\u001b[43mkwargs\u001b[49m\u001b[43m)\u001b[49m\n\u001b[1;32m    141\u001b[0m     \u001b[38;5;28;01mif\u001b[39;00m \u001b[38;5;28misinstance\u001b[39m(data_to_wrap, \u001b[38;5;28mtuple\u001b[39m):\n\u001b[1;32m    142\u001b[0m         \u001b[38;5;66;03m# only wrap the first output for cross decomposition\u001b[39;00m\n\u001b[1;32m    143\u001b[0m         \u001b[38;5;28;01mreturn\u001b[39;00m (\n\u001b[1;32m    144\u001b[0m             _wrap_data_with_container(method, data_to_wrap[\u001b[38;5;241m0\u001b[39m], X, \u001b[38;5;28mself\u001b[39m),\n\u001b[1;32m    145\u001b[0m             \u001b[38;5;241m*\u001b[39mdata_to_wrap[\u001b[38;5;241m1\u001b[39m:],\n\u001b[1;32m    146\u001b[0m         )\n",
            "File \u001b[0;32m/opt/conda/lib/python3.10/site-packages/sklearn/preprocessing/_label.py:139\u001b[0m, in \u001b[0;36mLabelEncoder.transform\u001b[0;34m(self, y)\u001b[0m\n\u001b[1;32m    136\u001b[0m \u001b[38;5;28;01mif\u001b[39;00m _num_samples(y) \u001b[38;5;241m==\u001b[39m \u001b[38;5;241m0\u001b[39m:\n\u001b[1;32m    137\u001b[0m     \u001b[38;5;28;01mreturn\u001b[39;00m np\u001b[38;5;241m.\u001b[39marray([])\n\u001b[0;32m--> 139\u001b[0m \u001b[38;5;28;01mreturn\u001b[39;00m \u001b[43m_encode\u001b[49m\u001b[43m(\u001b[49m\u001b[43my\u001b[49m\u001b[43m,\u001b[49m\u001b[43m \u001b[49m\u001b[43muniques\u001b[49m\u001b[38;5;241;43m=\u001b[39;49m\u001b[38;5;28;43mself\u001b[39;49m\u001b[38;5;241;43m.\u001b[39;49m\u001b[43mclasses_\u001b[49m\u001b[43m)\u001b[49m\n",
            "File \u001b[0;32m/opt/conda/lib/python3.10/site-packages/sklearn/utils/_encode.py:226\u001b[0m, in \u001b[0;36m_encode\u001b[0;34m(values, uniques, check_unknown)\u001b[0m\n\u001b[1;32m    224\u001b[0m         \u001b[38;5;28;01mreturn\u001b[39;00m _map_to_integer(values, uniques)\n\u001b[1;32m    225\u001b[0m     \u001b[38;5;28;01mexcept\u001b[39;00m \u001b[38;5;167;01mKeyError\u001b[39;00m \u001b[38;5;28;01mas\u001b[39;00m e:\n\u001b[0;32m--> 226\u001b[0m         \u001b[38;5;28;01mraise\u001b[39;00m \u001b[38;5;167;01mValueError\u001b[39;00m(\u001b[38;5;124mf\u001b[39m\u001b[38;5;124m\"\u001b[39m\u001b[38;5;124my contains previously unseen labels: \u001b[39m\u001b[38;5;132;01m{\u001b[39;00m\u001b[38;5;28mstr\u001b[39m(e)\u001b[38;5;132;01m}\u001b[39;00m\u001b[38;5;124m\"\u001b[39m)\n\u001b[1;32m    227\u001b[0m \u001b[38;5;28;01melse\u001b[39;00m:\n\u001b[1;32m    228\u001b[0m     \u001b[38;5;28;01mif\u001b[39;00m check_unknown:\n",
            "\u001b[0;31mValueError\u001b[0m: y contains previously unseen labels: '2023-07-26'"
          ]
        }
      ],
      "source": [
        "# 아래에서 범주형 변수들을 대상으로 레이블인코딩을 진행해 주겠습니다.\n",
        "\n",
        "# 각 변수에 대한 LabelEncoder를 저장할 딕셔너리\n",
        "label_encoders = {}\n",
        "\n",
        "# Implement Label Encoding\n",
        "for col in tqdm( categorical_columns_v2 ):\n",
        "    lbl = LabelEncoder()\n",
        "\n",
        "    # Label-Encoding을 fit\n",
        "    lbl.fit( dt_train[col].astype(str) )\n",
        "    dt_train[col] = lbl.transform(dt_train[col].astype(str))\n",
        "    label_encoders[col] = lbl           # 나중에 후처리를 위해 레이블인코더를 저장해주겠습니다.\n",
        "\n",
        "    # Test 데이터에만 존재하는 새로 출현한 데이터를 신규 클래스로 추가해줍니다.\n",
        "    for label in np.unique(dt_test[col]):\n",
        "      if label not in lbl.classes_: # unseen label 데이터인 경우\n",
        "        lbl.classes_ = np.append(lbl.classes_, label) # 미처리 시 ValueError발생하니 주의하세요!\n",
        "\n",
        "    dt_test[col] = lbl.transform(dt_test[col].astype(str))"
      ]
    },
    {
      "cell_type": "markdown",
      "metadata": {
        "id": "L4sHljC3NWje"
      },
      "source": [
        "### 5.2. Model Training\n",
        "- 위 데이터를 이용해 모델을 train 해보겠습니다. 모델은 RandomForest를 이용하겠습니다.\n",
        "- Train과 Valid dataset을 분할하는 과정에서는 `holdout` 방법을 사용하겠습니다. 이 방법의 경우  대략적인 성능을 빠르게 확인할 수 있다는 점에서 baseline에서 사용해보도록 하겠습니다.\n",
        "  - 이 후 추가적인 eda를 통해서 평가세트와 경향을 맞추거나 kfold와 같은 분포에 대한 고려를 추가할 수 있습니다."
      ]
    },
    {
      "cell_type": "code",
      "execution_count": null,
      "metadata": {
        "id": "7S-ow8vVP_YZ"
      },
      "outputs": [],
      "source": [
        "assert dt_train.shape[1] == dt_test.shape[1]          # train/test dataset의 shape이 같은지 확인해주겠습니다."
      ]
    },
    {
      "cell_type": "code",
      "execution_count": 442,
      "metadata": {},
      "outputs": [
        {
          "data": {
            "text/plain": [
              "Index(['전용면적', '계약일', '층', '건축년도', 'street', 'k주거전용면적', 'k전용면적별세대현황60이하',\n",
              "       'k전용면적별세대현황6085이하', 'k85135이하', 'k수정일자', '고용보험관리번호', '경비비관리형태',\n",
              "       '세대전기계약방법', '청소비관리형태', '건축면적', '주차대수', '기타의무임대임의1234', '단지승인일',\n",
              "       '사용허가여부', '관리비_업로드', '단지신청일', 'target', '계약년', '계약월', 'date',\n",
              "       'is_public', '구', '동', '기준금리', '구_encoded', '구_std', '동_encoded',\n",
              "       '동_std', 'has_bds', '주거지역_비율', '상업지역_비율', '공업지역_비율', '녹지지역_비율',\n",
              "       '주거지역_전용주거_비율', '주거지역_일반주거_비율', '주거지역_준주거_비율', '중심상업_비율', '일반상업_비율',\n",
              "       '근린상업_비율', '학생1만명당_사설학원수개소', 'yrs_diff_built_contract', 'built_in3yrs',\n",
              "       'built_in5yrs', 'built_over30yrs', 'built_over35yrs', 'built_over40yrs',\n",
              "       'on_main_st'],\n",
              "      dtype='object')"
            ]
          },
          "execution_count": 442,
          "metadata": {},
          "output_type": "execute_result"
        }
      ],
      "source": [
        "dt_train.columns"
      ]
    },
    {
      "cell_type": "code",
      "execution_count": 443,
      "metadata": {},
      "outputs": [],
      "source": [
        "drop_cols_before_train = ['street', '구', '동', '계약월', '계약일', '고용보험관리번호', 'k수정일자', '관리비_업로드', '기타의무임대임의1234']"
      ]
    },
    {
      "cell_type": "code",
      "execution_count": 444,
      "metadata": {},
      "outputs": [],
      "source": [
        "dt_train = dt_train.drop(columns=drop_cols_before_train)\n",
        "dt_test = dt_test.drop(columns=drop_cols_before_train)"
      ]
    },
    {
      "cell_type": "code",
      "execution_count": 445,
      "metadata": {},
      "outputs": [
        {
          "data": {
            "text/plain": [
              "Index(['전용면적', '층', '건축년도', 'k주거전용면적', 'k전용면적별세대현황60이하', 'k전용면적별세대현황6085이하',\n",
              "       'k85135이하', '경비비관리형태', '세대전기계약방법', '청소비관리형태', '건축면적', '주차대수', '단지승인일',\n",
              "       '사용허가여부', '단지신청일', 'target', '계약년', 'date', 'is_public', '기준금리',\n",
              "       '구_encoded', '구_std', '동_encoded', '동_std', 'has_bds', '주거지역_비율',\n",
              "       '상업지역_비율', '공업지역_비율', '녹지지역_비율', '주거지역_전용주거_비율', '주거지역_일반주거_비율',\n",
              "       '주거지역_준주거_비율', '중심상업_비율', '일반상업_비율', '근린상업_비율', '학생1만명당_사설학원수개소',\n",
              "       'yrs_diff_built_contract', 'built_in3yrs', 'built_in5yrs',\n",
              "       'built_over30yrs', 'built_over35yrs', 'built_over40yrs', 'on_main_st'],\n",
              "      dtype='object')"
            ]
          },
          "execution_count": 445,
          "metadata": {},
          "output_type": "execute_result"
        }
      ],
      "source": [
        "dt_train.columns"
      ]
    },
    {
      "cell_type": "code",
      "execution_count": 446,
      "metadata": {},
      "outputs": [
        {
          "name": "stdout",
          "output_type": "stream",
          "text": [
            "(1118822, 43) (9272, 43)\n"
          ]
        }
      ],
      "source": [
        "print(dt_train.shape, dt_test.shape)"
      ]
    },
    {
      "cell_type": "code",
      "execution_count": 447,
      "metadata": {},
      "outputs": [],
      "source": [
        "# Target과 독립변수들을 분리해줍니다.\n",
        "y_train = dt_train['target']\n",
        "X_train = dt_train.drop(['target'], axis=1)"
      ]
    },
    {
      "cell_type": "code",
      "execution_count": 448,
      "metadata": {},
      "outputs": [],
      "source": [
        "# Hold out split을 사용해 학습 데이터와 검증 데이터를 8:2 비율로 나누겠습니다.\n",
        "X_train, X_val, y_train, y_val = train_test_split(X_train, y_train, test_size=0.2, random_state=42)"
      ]
    },
    {
      "cell_type": "code",
      "execution_count": 449,
      "metadata": {},
      "outputs": [],
      "source": [
        "X_test = dt_test.drop(['target'], axis=1)"
      ]
    },
    {
      "cell_type": "code",
      "execution_count": 450,
      "metadata": {},
      "outputs": [],
      "source": [
        "# Define parameters for XGBRegressor\n",
        "params = {\n",
        "    'objective': 'reg:squarederror',  # Use squared error for regression task\n",
        "    'eval_metric': 'rmse',  # Root Mean Squared Error for evaluation\n",
        "    'max_depth': 12,\n",
        "    'learning_rate': 0.05,\n",
        "    'n_estimators': 400,\n",
        "    'subsample': 0.8,\n",
        "    'colsample_bynode': 0.8,\n",
        "    'reg_lambda': 1,\n",
        "    'random_state': 42,\n",
        "}\n",
        "\n",
        "# Create and train the XGBRegressor model\n",
        "model_xgb1 = xgb.XGBRegressor(**params)\n",
        "model_xgb1.fit(X_train, y_train)\n",
        "\n",
        "# Make predictions on the validation set\n",
        "pred_xgb1 = model_xgb1.predict(X_val)"
      ]
    },
    {
      "cell_type": "code",
      "execution_count": 451,
      "metadata": {},
      "outputs": [
        {
          "name": "stdout",
          "output_type": "stream",
          "text": [
            "RMSE val: 7114.150362230062\n"
          ]
        }
      ],
      "source": [
        "# 회귀 관련 metric을 통해 train/valid의 모델 적합 결과를 관찰합니다.\n",
        "print(f'RMSE val: {np.sqrt(metrics.mean_squared_error(y_val, pred_xgb1))}')"
      ]
    },
    {
      "cell_type": "code",
      "execution_count": 452,
      "metadata": {
        "colab": {
          "base_uri": "https://localhost:8080/",
          "height": 698
        },
        "id": "VbgCRxFgdFQb",
        "outputId": "f9114f72-78e1-471c-fc0b-ba5b8b6b6d2f"
      },
      "outputs": [
        {
          "data": {
            "image/png": "[encoded data removed]",
            "text/plain": [
              "<Figure size 1000x800 with 1 Axes>"
            ]
          },
          "metadata": {},
          "output_type": "display_data"
        }
      ],
      "source": [
        "importances = pd.Series(model_xgb1.feature_importances_, index=list(X_train.columns))\n",
        "importances = importances.sort_values(ascending=False)\n",
        "\n",
        "plt.figure(figsize=(10, 8))\n",
        "plt.title(\"Feature Importances\")\n",
        "sns.barplot(x=importances, y=importances.index)\n",
        "plt.show()"
      ]
    },
    {
      "cell_type": "code",
      "execution_count": 453,
      "metadata": {},
      "outputs": [],
      "source": [
        "# 학습된 모델을 저장합니다. Pickle 라이브러리를 이용하겠습니다.\n",
        "with open('model_xgb1.pkl', 'wb') as f:\n",
        "    pickle.dump(model_xgb1, f)"
      ]
    },
    {
      "cell_type": "markdown",
      "metadata": {
        "id": "jOVbJ3KWgBTC"
      },
      "source": [
        "### 5.3. Feature selection"
      ]
    },
    {
      "cell_type": "markdown",
      "metadata": {
        "id": "0Qp7gLG3CfgJ"
      },
      "source": [
        "- 어떤 변수가 유용한 변수인지 확인해보기 위해 permutation selection을 이용해보겠습니다."
      ]
    },
    {
      "cell_type": "code",
      "execution_count": 312,
      "metadata": {
        "colab": {
          "base_uri": "https://localhost:8080/",
          "height": 399
        },
        "id": "bWucmvKrf-tq",
        "outputId": "016c2fae-320b-4778-efb9-799b5cf695b0"
      },
      "outputs": [
        {
          "data": {
            "text/html": [
              "\n",
              "    <style>\n",
              "    table.eli5-weights tr:hover {\n",
              "        filter: brightness(85%);\n",
              "    }\n",
              "</style>\n",
              "\n",
              "\n",
              "\n",
              "    \n",
              "\n",
              "    \n",
              "\n",
              "    \n",
              "\n",
              "    \n",
              "\n",
              "    \n",
              "\n",
              "    \n",
              "\n",
              "\n",
              "    \n",
              "\n",
              "    \n",
              "\n",
              "    \n",
              "\n",
              "    \n",
              "\n",
              "    \n",
              "\n",
              "    \n",
              "\n",
              "\n",
              "    \n",
              "\n",
              "    \n",
              "\n",
              "    \n",
              "\n",
              "    \n",
              "\n",
              "    \n",
              "        <table class=\"eli5-weights eli5-feature-importances\" style=\"border-collapse: collapse; border: none; margin-top: 0em; table-layout: auto;\">\n",
              "    <thead>\n",
              "    <tr style=\"border: none;\">\n",
              "        <th style=\"padding: 0 1em 0 0.5em; text-align: right; border: none;\">Weight</th>\n",
              "        <th style=\"padding: 0 0.5em 0 0.5em; text-align: left; border: none;\">Feature</th>\n",
              "    </tr>\n",
              "    </thead>\n",
              "    <tbody>\n",
              "    \n",
              "        <tr style=\"background-color: hsl(120, 100.00%, 80.00%); border: none;\">\n",
              "            <td style=\"padding: 0 1em 0 0.5em; text-align: right; border: none;\">\n",
              "                1115100604.8982\n",
              "                \n",
              "                    &plusmn; 16011314.4157\n",
              "                \n",
              "            </td>\n",
              "            <td style=\"padding: 0 0.5em 0 0.5em; text-align: left; border: none;\">\n",
              "                전용면적\n",
              "            </td>\n",
              "        </tr>\n",
              "    \n",
              "        <tr style=\"background-color: hsl(120, 100.00%, 81.31%); border: none;\">\n",
              "            <td style=\"padding: 0 1em 0 0.5em; text-align: right; border: none;\">\n",
              "                1012592379.8384\n",
              "                \n",
              "                    &plusmn; 9979412.9561\n",
              "                \n",
              "            </td>\n",
              "            <td style=\"padding: 0 0.5em 0 0.5em; text-align: left; border: none;\">\n",
              "                동_encoded\n",
              "            </td>\n",
              "        </tr>\n",
              "    \n",
              "        <tr style=\"background-color: hsl(120, 100.00%, 81.49%); border: none;\">\n",
              "            <td style=\"padding: 0 1em 0 0.5em; text-align: right; border: none;\">\n",
              "                998076962.4988\n",
              "                \n",
              "                    &plusmn; 7148859.3022\n",
              "                \n",
              "            </td>\n",
              "            <td style=\"padding: 0 0.5em 0 0.5em; text-align: left; border: none;\">\n",
              "                계약년월\n",
              "            </td>\n",
              "        </tr>\n",
              "    \n",
              "        <tr style=\"background-color: hsl(120, 100.00%, 90.10%); border: none;\">\n",
              "            <td style=\"padding: 0 1em 0 0.5em; text-align: right; border: none;\">\n",
              "                408483981.9837\n",
              "                \n",
              "                    &plusmn; 1699485.3199\n",
              "                \n",
              "            </td>\n",
              "            <td style=\"padding: 0 0.5em 0 0.5em; text-align: left; border: none;\">\n",
              "                동_std\n",
              "            </td>\n",
              "        </tr>\n",
              "    \n",
              "        <tr style=\"background-color: hsl(120, 100.00%, 94.42%); border: none;\">\n",
              "            <td style=\"padding: 0 1em 0 0.5em; text-align: right; border: none;\">\n",
              "                179847539.9027\n",
              "                \n",
              "                    &plusmn; 4178794.3527\n",
              "                \n",
              "            </td>\n",
              "            <td style=\"padding: 0 0.5em 0 0.5em; text-align: left; border: none;\">\n",
              "                건축년도\n",
              "            </td>\n",
              "        </tr>\n",
              "    \n",
              "        <tr style=\"background-color: hsl(120, 100.00%, 98.09%); border: none;\">\n",
              "            <td style=\"padding: 0 1em 0 0.5em; text-align: right; border: none;\">\n",
              "                39009181.6323\n",
              "                \n",
              "                    &plusmn; 733301.9405\n",
              "                \n",
              "            </td>\n",
              "            <td style=\"padding: 0 0.5em 0 0.5em; text-align: left; border: none;\">\n",
              "                부번\n",
              "            </td>\n",
              "        </tr>\n",
              "    \n",
              "        <tr style=\"background-color: hsl(120, 100.00%, 98.50%); border: none;\">\n",
              "            <td style=\"padding: 0 1em 0 0.5em; text-align: right; border: none;\">\n",
              "                27655840.5256\n",
              "                \n",
              "                    &plusmn; 658130.5952\n",
              "                \n",
              "            </td>\n",
              "            <td style=\"padding: 0 0.5em 0 0.5em; text-align: left; border: none;\">\n",
              "                도로명\n",
              "            </td>\n",
              "        </tr>\n",
              "    \n",
              "        <tr style=\"background-color: hsl(120, 100.00%, 98.65%); border: none;\">\n",
              "            <td style=\"padding: 0 1em 0 0.5em; text-align: right; border: none;\">\n",
              "                23801508.9218\n",
              "                \n",
              "                    &plusmn; 1016627.3693\n",
              "                \n",
              "            </td>\n",
              "            <td style=\"padding: 0 0.5em 0 0.5em; text-align: left; border: none;\">\n",
              "                동\n",
              "            </td>\n",
              "        </tr>\n",
              "    \n",
              "        <tr style=\"background-color: hsl(120, 100.00%, 98.74%); border: none;\">\n",
              "            <td style=\"padding: 0 1em 0 0.5em; text-align: right; border: none;\">\n",
              "                21363376.5972\n",
              "                \n",
              "                    &plusmn; 192892.0522\n",
              "                \n",
              "            </td>\n",
              "            <td style=\"padding: 0 0.5em 0 0.5em; text-align: left; border: none;\">\n",
              "                yrs_diff_built_contract\n",
              "            </td>\n",
              "        </tr>\n",
              "    \n",
              "        <tr style=\"background-color: hsl(120, 100.00%, 98.78%); border: none;\">\n",
              "            <td style=\"padding: 0 1em 0 0.5em; text-align: right; border: none;\">\n",
              "                20618314.2286\n",
              "                \n",
              "                    &plusmn; 243254.3049\n",
              "                \n",
              "            </td>\n",
              "            <td style=\"padding: 0 0.5em 0 0.5em; text-align: left; border: none;\">\n",
              "                구_encoded\n",
              "            </td>\n",
              "        </tr>\n",
              "    \n",
              "        <tr style=\"background-color: hsl(120, 100.00%, 98.93%); border: none;\">\n",
              "            <td style=\"padding: 0 1em 0 0.5em; text-align: right; border: none;\">\n",
              "                17095581.7190\n",
              "                \n",
              "                    &plusmn; 412943.4185\n",
              "                \n",
              "            </td>\n",
              "            <td style=\"padding: 0 0.5em 0 0.5em; text-align: left; border: none;\">\n",
              "                road\n",
              "            </td>\n",
              "        </tr>\n",
              "    \n",
              "        <tr style=\"background-color: hsl(120, 100.00%, 98.96%); border: none;\">\n",
              "            <td style=\"padding: 0 1em 0 0.5em; text-align: right; border: none;\">\n",
              "                16396688.1919\n",
              "                \n",
              "                    &plusmn; 752586.3723\n",
              "                \n",
              "            </td>\n",
              "            <td style=\"padding: 0 0.5em 0 0.5em; text-align: left; border: none;\">\n",
              "                아파트명\n",
              "            </td>\n",
              "        </tr>\n",
              "    \n",
              "        <tr style=\"background-color: hsl(120, 100.00%, 99.04%); border: none;\">\n",
              "            <td style=\"padding: 0 1em 0 0.5em; text-align: right; border: none;\">\n",
              "                14573717.4344\n",
              "                \n",
              "                    &plusmn; 138949.9844\n",
              "                \n",
              "            </td>\n",
              "            <td style=\"padding: 0 0.5em 0 0.5em; text-align: left; border: none;\">\n",
              "                구_std\n",
              "            </td>\n",
              "        </tr>\n",
              "    \n",
              "        <tr style=\"background-color: hsl(120, 100.00%, 99.13%); border: none;\">\n",
              "            <td style=\"padding: 0 1em 0 0.5em; text-align: right; border: none;\">\n",
              "                12587615.2423\n",
              "                \n",
              "                    &plusmn; 281359.9891\n",
              "                \n",
              "            </td>\n",
              "            <td style=\"padding: 0 0.5em 0 0.5em; text-align: left; border: none;\">\n",
              "                구\n",
              "            </td>\n",
              "        </tr>\n",
              "    \n",
              "        <tr style=\"background-color: hsl(120, 100.00%, 99.17%); border: none;\">\n",
              "            <td style=\"padding: 0 1em 0 0.5em; text-align: right; border: none;\">\n",
              "                11872203.2536\n",
              "                \n",
              "                    &plusmn; 946692.5475\n",
              "                \n",
              "            </td>\n",
              "            <td style=\"padding: 0 0.5em 0 0.5em; text-align: left; border: none;\">\n",
              "                층\n",
              "            </td>\n",
              "        </tr>\n",
              "    \n",
              "        <tr style=\"background-color: hsl(120, 100.00%, 99.21%); border: none;\">\n",
              "            <td style=\"padding: 0 1em 0 0.5em; text-align: right; border: none;\">\n",
              "                10967260.1166\n",
              "                \n",
              "                    &plusmn; 499609.6156\n",
              "                \n",
              "            </td>\n",
              "            <td style=\"padding: 0 0.5em 0 0.5em; text-align: left; border: none;\">\n",
              "                번지\n",
              "            </td>\n",
              "        </tr>\n",
              "    \n",
              "        <tr style=\"background-color: hsl(120, 100.00%, 99.25%); border: none;\">\n",
              "            <td style=\"padding: 0 1em 0 0.5em; text-align: right; border: none;\">\n",
              "                10280402.8423\n",
              "                \n",
              "                    &plusmn; 601341.6588\n",
              "                \n",
              "            </td>\n",
              "            <td style=\"padding: 0 0.5em 0 0.5em; text-align: left; border: none;\">\n",
              "                본번\n",
              "            </td>\n",
              "        </tr>\n",
              "    \n",
              "        <tr style=\"background-color: hsl(120, 100.00%, 99.25%); border: none;\">\n",
              "            <td style=\"padding: 0 1em 0 0.5em; text-align: right; border: none;\">\n",
              "                10168491.1157\n",
              "                \n",
              "                    &plusmn; 194565.4135\n",
              "                \n",
              "            </td>\n",
              "            <td style=\"padding: 0 0.5em 0 0.5em; text-align: left; border: none;\">\n",
              "                좌표Y\n",
              "            </td>\n",
              "        </tr>\n",
              "    \n",
              "        <tr style=\"background-color: hsl(120, 100.00%, 99.26%); border: none;\">\n",
              "            <td style=\"padding: 0 1em 0 0.5em; text-align: right; border: none;\">\n",
              "                10139860.3106\n",
              "                \n",
              "                    &plusmn; 114258.6776\n",
              "                \n",
              "            </td>\n",
              "            <td style=\"padding: 0 0.5em 0 0.5em; text-align: left; border: none;\">\n",
              "                on_main_st\n",
              "            </td>\n",
              "        </tr>\n",
              "    \n",
              "        <tr style=\"background-color: hsl(120, 100.00%, 99.32%); border: none;\">\n",
              "            <td style=\"padding: 0 1em 0 0.5em; text-align: right; border: none;\">\n",
              "                8914033.5872\n",
              "                \n",
              "                    &plusmn; 276041.3235\n",
              "                \n",
              "            </td>\n",
              "            <td style=\"padding: 0 0.5em 0 0.5em; text-align: left; border: none;\">\n",
              "                k주거전용면적\n",
              "            </td>\n",
              "        </tr>\n",
              "    \n",
              "    \n",
              "        \n",
              "            <tr style=\"background-color: hsl(120, 100.00%, 99.32%); border: none;\">\n",
              "                <td colspan=\"2\" style=\"padding: 0 0.5em 0 0.5em; text-align: center; border: none; white-space: nowrap;\">\n",
              "                    <i>&hellip; 25 more &hellip;</i>\n",
              "                </td>\n",
              "            </tr>\n",
              "        \n",
              "    \n",
              "    </tbody>\n",
              "</table>\n",
              "    \n",
              "\n",
              "    \n",
              "\n",
              "\n",
              "    \n",
              "\n",
              "    \n",
              "\n",
              "    \n",
              "\n",
              "    \n",
              "\n",
              "    \n",
              "\n",
              "    \n",
              "\n",
              "\n",
              "\n"
            ],
            "text/plain": [
              "<IPython.core.display.HTML object>"
            ]
          },
          "execution_count": 312,
          "metadata": {},
          "output_type": "execute_result"
        }
      ],
      "source": [
        "# # Permutation importance 방법을 변수 선택에 이용해보겠습니다.\n",
        "# perm = PermutationImportance(model,        # 위에서 학습된 모델을 이용하겠습니다.\n",
        "#                              scoring = \"neg_mean_squared_error\",        # 평가 지표로는 회귀문제이기에 negative rmse를 사용합니다. (neg_mean_squared_error : 음의 평균 제곱 오차)\n",
        "#                              random_state = 42,\n",
        "#                              n_iter=3).fit(X_val, y_val)\n",
        "# eli5.show_weights(perm, feature_names = X_val.columns.tolist())    # valid data에 대해 적합시킵니다."
      ]
    },
    {
      "cell_type": "markdown",
      "metadata": {
        "id": "F0Ga4ljBNYIy"
      },
      "source": [
        "## 6. Inference"
      ]
    },
    {
      "cell_type": "code",
      "execution_count": 454,
      "metadata": {
        "id": "0HXvn8ZSa1kt"
      },
      "outputs": [],
      "source": [
        "# 저장된 모델을 불러옵니다.\n",
        "with open('model_xgb1.pkl', 'rb') as f:\n",
        "    model1 = pickle.load(f)"
      ]
    },
    {
      "cell_type": "code",
      "execution_count": 455,
      "metadata": {},
      "outputs": [
        {
          "name": "stdout",
          "output_type": "stream",
          "text": [
            "CPU times: user 638 µs, sys: 3 µs, total: 641 µs\n",
            "Wall time: 651 µs\n"
          ]
        }
      ],
      "source": [
        "%%time\n",
        "X_test.columns = X_test.columns.str.replace('[^\\w\\s]', '')\n",
        "X_test.columns = X_test.columns.str.replace(' ', '_')"
      ]
    },
    {
      "cell_type": "code",
      "execution_count": 456,
      "metadata": {
        "colab": {
          "base_uri": "https://localhost:8080/"
        },
        "id": "qbZ2A49LP_T9",
        "outputId": "89676c9b-c0a2-4951-84f0-430c5648331c"
      },
      "outputs": [
        {
          "ename": "ValueError",
          "evalue": "DataFrame.dtypes for data must be int, float, bool or category. When categorical type is supplied, The experimental DMatrix parameter`enable_categorical` must be set to `True`.  Invalid columns:date: datetime64[ns]",
          "output_type": "error",
          "traceback": [
            "\u001b[0;31m---------------------------------------------------------------------------\u001b[0m",
            "\u001b[0;31mValueError\u001b[0m                                Traceback (most recent call last)",
            "Cell \u001b[0;32mIn[456], line 2\u001b[0m\n\u001b[1;32m      1\u001b[0m \u001b[38;5;66;03m# Test dataset에 대한 inference를 진행합니다.\u001b[39;00m\n\u001b[0;32m----> 2\u001b[0m real_test_pred \u001b[38;5;241m=\u001b[39m \u001b[43mmodel1\u001b[49m\u001b[38;5;241;43m.\u001b[39;49m\u001b[43mpredict\u001b[49m\u001b[43m(\u001b[49m\u001b[43mX_test\u001b[49m\u001b[43m)\u001b[49m\n",
            "File \u001b[0;32m/opt/conda/lib/python3.10/site-packages/xgboost/sklearn.py:1168\u001b[0m, in \u001b[0;36mXGBModel.predict\u001b[0;34m(self, X, output_margin, validate_features, base_margin, iteration_range)\u001b[0m\n\u001b[1;32m   1166\u001b[0m \u001b[38;5;28;01mif\u001b[39;00m \u001b[38;5;28mself\u001b[39m\u001b[38;5;241m.\u001b[39m_can_use_inplace_predict():\n\u001b[1;32m   1167\u001b[0m     \u001b[38;5;28;01mtry\u001b[39;00m:\n\u001b[0;32m-> 1168\u001b[0m         predts \u001b[38;5;241m=\u001b[39m \u001b[38;5;28;43mself\u001b[39;49m\u001b[38;5;241;43m.\u001b[39;49m\u001b[43mget_booster\u001b[49m\u001b[43m(\u001b[49m\u001b[43m)\u001b[49m\u001b[38;5;241;43m.\u001b[39;49m\u001b[43minplace_predict\u001b[49m\u001b[43m(\u001b[49m\n\u001b[1;32m   1169\u001b[0m \u001b[43m            \u001b[49m\u001b[43mdata\u001b[49m\u001b[38;5;241;43m=\u001b[39;49m\u001b[43mX\u001b[49m\u001b[43m,\u001b[49m\n\u001b[1;32m   1170\u001b[0m \u001b[43m            \u001b[49m\u001b[43miteration_range\u001b[49m\u001b[38;5;241;43m=\u001b[39;49m\u001b[43miteration_range\u001b[49m\u001b[43m,\u001b[49m\n\u001b[1;32m   1171\u001b[0m \u001b[43m            \u001b[49m\u001b[43mpredict_type\u001b[49m\u001b[38;5;241;43m=\u001b[39;49m\u001b[38;5;124;43m\"\u001b[39;49m\u001b[38;5;124;43mmargin\u001b[39;49m\u001b[38;5;124;43m\"\u001b[39;49m\u001b[43m \u001b[49m\u001b[38;5;28;43;01mif\u001b[39;49;00m\u001b[43m \u001b[49m\u001b[43moutput_margin\u001b[49m\u001b[43m \u001b[49m\u001b[38;5;28;43;01melse\u001b[39;49;00m\u001b[43m \u001b[49m\u001b[38;5;124;43m\"\u001b[39;49m\u001b[38;5;124;43mvalue\u001b[39;49m\u001b[38;5;124;43m\"\u001b[39;49m\u001b[43m,\u001b[49m\n\u001b[1;32m   1172\u001b[0m \u001b[43m            \u001b[49m\u001b[43mmissing\u001b[49m\u001b[38;5;241;43m=\u001b[39;49m\u001b[38;5;28;43mself\u001b[39;49m\u001b[38;5;241;43m.\u001b[39;49m\u001b[43mmissing\u001b[49m\u001b[43m,\u001b[49m\n\u001b[1;32m   1173\u001b[0m \u001b[43m            \u001b[49m\u001b[43mbase_margin\u001b[49m\u001b[38;5;241;43m=\u001b[39;49m\u001b[43mbase_margin\u001b[49m\u001b[43m,\u001b[49m\n\u001b[1;32m   1174\u001b[0m \u001b[43m            \u001b[49m\u001b[43mvalidate_features\u001b[49m\u001b[38;5;241;43m=\u001b[39;49m\u001b[43mvalidate_features\u001b[49m\u001b[43m,\u001b[49m\n\u001b[1;32m   1175\u001b[0m \u001b[43m        \u001b[49m\u001b[43m)\u001b[49m\n\u001b[1;32m   1176\u001b[0m         \u001b[38;5;28;01mif\u001b[39;00m _is_cupy_array(predts):\n\u001b[1;32m   1177\u001b[0m             \u001b[38;5;28;01mimport\u001b[39;00m \u001b[38;5;21;01mcupy\u001b[39;00m  \u001b[38;5;66;03m# pylint: disable=import-error\u001b[39;00m\n",
            "File \u001b[0;32m/opt/conda/lib/python3.10/site-packages/xgboost/core.py:2416\u001b[0m, in \u001b[0;36mBooster.inplace_predict\u001b[0;34m(self, data, iteration_range, predict_type, missing, validate_features, base_margin, strict_shape)\u001b[0m\n\u001b[1;32m   2414\u001b[0m     data \u001b[38;5;241m=\u001b[39m pd\u001b[38;5;241m.\u001b[39mDataFrame(data)\n\u001b[1;32m   2415\u001b[0m \u001b[38;5;28;01mif\u001b[39;00m _is_pandas_df(data):\n\u001b[0;32m-> 2416\u001b[0m     data, fns, _ \u001b[38;5;241m=\u001b[39m \u001b[43m_transform_pandas_df\u001b[49m\u001b[43m(\u001b[49m\u001b[43mdata\u001b[49m\u001b[43m,\u001b[49m\u001b[43m \u001b[49m\u001b[43menable_categorical\u001b[49m\u001b[43m)\u001b[49m\n\u001b[1;32m   2417\u001b[0m     \u001b[38;5;28;01mif\u001b[39;00m validate_features:\n\u001b[1;32m   2418\u001b[0m         \u001b[38;5;28mself\u001b[39m\u001b[38;5;241m.\u001b[39m_validate_features(fns)\n",
            "File \u001b[0;32m/opt/conda/lib/python3.10/site-packages/xgboost/data.py:490\u001b[0m, in \u001b[0;36m_transform_pandas_df\u001b[0;34m(data, enable_categorical, feature_names, feature_types, meta, meta_type)\u001b[0m\n\u001b[1;32m    483\u001b[0m \u001b[38;5;28;01mfor\u001b[39;00m dtype \u001b[38;5;129;01min\u001b[39;00m data\u001b[38;5;241m.\u001b[39mdtypes:\n\u001b[1;32m    484\u001b[0m     \u001b[38;5;28;01mif\u001b[39;00m \u001b[38;5;129;01mnot\u001b[39;00m (\n\u001b[1;32m    485\u001b[0m         (dtype\u001b[38;5;241m.\u001b[39mname \u001b[38;5;129;01min\u001b[39;00m _pandas_dtype_mapper)\n\u001b[1;32m    486\u001b[0m         \u001b[38;5;129;01mor\u001b[39;00m is_pd_sparse_dtype(dtype)\n\u001b[1;32m    487\u001b[0m         \u001b[38;5;129;01mor\u001b[39;00m (is_pd_cat_dtype(dtype) \u001b[38;5;129;01mand\u001b[39;00m enable_categorical)\n\u001b[1;32m    488\u001b[0m         \u001b[38;5;129;01mor\u001b[39;00m is_pa_ext_dtype(dtype)\n\u001b[1;32m    489\u001b[0m     ):\n\u001b[0;32m--> 490\u001b[0m         \u001b[43m_invalid_dataframe_dtype\u001b[49m\u001b[43m(\u001b[49m\u001b[43mdata\u001b[49m\u001b[43m)\u001b[49m\n\u001b[1;32m    491\u001b[0m     \u001b[38;5;28;01mif\u001b[39;00m is_pa_ext_dtype(dtype):\n\u001b[1;32m    492\u001b[0m         pyarrow_extension \u001b[38;5;241m=\u001b[39m \u001b[38;5;28;01mTrue\u001b[39;00m\n",
            "File \u001b[0;32m/opt/conda/lib/python3.10/site-packages/xgboost/data.py:308\u001b[0m, in \u001b[0;36m_invalid_dataframe_dtype\u001b[0;34m(data)\u001b[0m\n\u001b[1;32m    306\u001b[0m type_err \u001b[38;5;241m=\u001b[39m \u001b[38;5;124m\"\u001b[39m\u001b[38;5;124mDataFrame.dtypes for data must be int, float, bool or category.\u001b[39m\u001b[38;5;124m\"\u001b[39m\n\u001b[1;32m    307\u001b[0m msg \u001b[38;5;241m=\u001b[39m \u001b[38;5;124mf\u001b[39m\u001b[38;5;124m\"\"\"\u001b[39m\u001b[38;5;132;01m{\u001b[39;00mtype_err\u001b[38;5;132;01m}\u001b[39;00m\u001b[38;5;124m \u001b[39m\u001b[38;5;132;01m{\u001b[39;00m_ENABLE_CAT_ERR\u001b[38;5;132;01m}\u001b[39;00m\u001b[38;5;124m \u001b[39m\u001b[38;5;132;01m{\u001b[39;00merr\u001b[38;5;132;01m}\u001b[39;00m\u001b[38;5;124m\"\"\"\u001b[39m\n\u001b[0;32m--> 308\u001b[0m \u001b[38;5;28;01mraise\u001b[39;00m \u001b[38;5;167;01mValueError\u001b[39;00m(msg)\n",
            "\u001b[0;31mValueError\u001b[0m: DataFrame.dtypes for data must be int, float, bool or category. When categorical type is supplied, The experimental DMatrix parameter`enable_categorical` must be set to `True`.  Invalid columns:date: datetime64[ns]"
          ]
        }
      ],
      "source": [
        "# Test dataset에 대한 inference를 진행합니다.\n",
        "real_test_pred = model1.predict(X_test)"
      ]
    },
    {
      "cell_type": "markdown",
      "metadata": {
        "id": "KlxtDBDNNa6Y"
      },
      "source": [
        "## 7. Output File Save"
      ]
    },
    {
      "cell_type": "code",
      "execution_count": 152,
      "metadata": {},
      "outputs": [],
      "source": [
        "# 앞서 예측한 예측값들을 저장합니다.\n",
        "preds_df = pd.DataFrame(real_test_pred.astype(int), columns=[\"target\"])\n",
        "preds_df.to_csv('output.csv', index=False)"
      ]
    }
  ],
  "metadata": {
    "colab": {
      "provenance": []
    },
    "kernelspec": {
      "display_name": "Python 3.10.13 ('base')",
      "language": "python",
      "name": "python3"
    },
    "language_info": {
      "codemirror_mode": {
        "name": "ipython",
        "version": 3
      },
      "file_extension": ".py",
      "mimetype": "text/x-python",
      "name": "python",
      "nbconvert_exporter": "python",
      "pygments_lexer": "ipython3",
      "version": "3.10.13"
    },
    "vscode": {
      "interpreter": {
        "hash": "d4d1e4263499bec80672ea0156c357c1ee493ec2b1c70f0acce89fc37c4a6abe"
      }
    }
  },
  "nbformat": 4,
  "nbformat_minor": 0
}
