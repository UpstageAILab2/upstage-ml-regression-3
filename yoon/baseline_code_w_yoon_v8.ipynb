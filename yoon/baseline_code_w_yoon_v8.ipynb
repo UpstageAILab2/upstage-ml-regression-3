{
  "cells": [
    {
      "cell_type": "markdown",
      "metadata": {
        "id": "92WHLz8346Yf"
      },
      "source": [
        "# **🏠 부동산 실거래가 Baseline code**\n",
        "> 부동산 실거래가 예측 대회에 오신 여러분 환영합니다! 🎉     \n",
        "> 아래 baseline에서는 RandomForest를 활용해 ML 방법론들을 실제 대회에 적용해보도록 하겠습니다.\n",
        "> 강의는 google colab으로 실행하였기에 아래의 베이스라인 코드와는 일부 차이가 있을 수 있습니다. \n"
      ]
    },
    {
      "cell_type": "code",
      "execution_count": 1,
      "metadata": {
        "id": "d-NiCLGs4ZpM"
      },
      "outputs": [],
      "source": [
        "# visualization\n",
        "import matplotlib.pyplot as plt\n",
        "import matplotlib.font_manager as fm\n",
        "fe = fm.FontEntry(\n",
        "    fname=r'/usr/share/fonts/truetype/nanum/NanumGothic.ttf', # ttf 파일이 저장되어 있는 경로\n",
        "    name='NanumBarunGothic')                        # 이 폰트의 원하는 이름 설정\n",
        "fm.fontManager.ttflist.insert(0, fe)              # Matplotlib에 폰트 추가\n",
        "plt.rcParams.update({'font.size': 10, 'font.family': 'NanumBarunGothic'}) # 폰트 설정\n",
        "plt.rc('font', family='NanumBarunGothic')\n",
        "import seaborn as sns\n",
        "\n",
        "# utils\n",
        "import pandas as pd\n",
        "import numpy as np\n",
        "from tqdm import tqdm\n",
        "import pickle\n",
        "import glob\n",
        "import warnings;warnings.filterwarnings('ignore')\n",
        "\n",
        "# Model\n",
        "from sklearn.preprocessing import LabelEncoder\n",
        "from sklearn.model_selection import train_test_split\n",
        "from sklearn.metrics import mean_squared_error\n",
        "from sklearn.ensemble import RandomForestRegressor\n",
        "from sklearn import metrics\n",
        "\n",
        "import eli5\n",
        "from eli5.sklearn import PermutationImportance\n",
        "\n",
        "import xgboost as xgb\n",
        "\n",
        "import os"
      ]
    },
    {
      "cell_type": "code",
      "execution_count": 2,
      "metadata": {
        "id": "hx6nk3N_4_Tk"
      },
      "outputs": [],
      "source": [
        "# 필요한 데이터를 load 하겠습니다. 경로는 환경에 맞게 지정해주면 됩니다.\n",
        "train_path = '/root/train.csv'\n",
        "test_path  = '/root/test.csv'\n",
        "dt = pd.read_csv(train_path)\n",
        "dt_test = pd.read_csv(test_path)"
      ]
    },
    {
      "cell_type": "code",
      "execution_count": 3,
      "metadata": {
        "colab": {
          "base_uri": "https://localhost:8080/"
        },
        "id": "O6tWMND66vT8",
        "outputId": "e0ba702b-6662-4723-c5a1-600d7236e597"
      },
      "outputs": [
        {
          "name": "stdout",
          "output_type": "stream",
          "text": [
            "Train data shape :  (1118822, 52) Test data shape :  (9272, 51)\n"
          ]
        }
      ],
      "source": [
        "# Train data와 Test data shape은 아래와 같습니다.\n",
        "print('Train data shape : ', dt.shape, 'Test data shape : ', dt_test.shape)"
      ]
    },
    {
      "cell_type": "code",
      "execution_count": 4,
      "metadata": {},
      "outputs": [],
      "source": [
        "df_bus = pd.read_csv(\"/root/bus_feature.csv\")\n",
        "df_metro = pd.read_csv(\"/root/subway_feature.csv\")"
      ]
    },
    {
      "cell_type": "code",
      "execution_count": 9,
      "metadata": {},
      "outputs": [],
      "source": [
        "df_interest_rate = pd.read_csv(\"./extra_data/base_rate.csv\")"
      ]
    },
    {
      "cell_type": "markdown",
      "metadata": {},
      "source": [
        "### EDA"
      ]
    },
    {
      "cell_type": "code",
      "execution_count": 10,
      "metadata": {},
      "outputs": [],
      "source": [
        "dt['구'] = dt['시군구'].map(lambda x : x.split()[1])\n",
        "dt['동'] = dt['시군구'].map(lambda x : x.split()[2])\n",
        "del dt['시군구']\n",
        "\n",
        "dt_test['구'] = dt_test['시군구'].map(lambda x : x.split()[1])\n",
        "dt_test['동'] = dt_test['시군구'].map(lambda x : x.split()[2])\n",
        "del dt_test['시군구']"
      ]
    },
    {
      "cell_type": "code",
      "execution_count": 11,
      "metadata": {},
      "outputs": [],
      "source": [
        "mean_val_by_gu = dt.groupby(\"구\")[\"target\"].mean().sort_values(ascending=False)\n",
        "mean_val_by_dong = dt.groupby(\"동\")[\"target\"].mean().sort_values(ascending=False)\n",
        "std_val_by_gu = dt.groupby(\"구\")[\"target\"].std().sort_values(ascending=False)\n",
        "std_val_by_dong = dt.groupby(\"동\")[\"target\"].std().sort_values(ascending=False)"
      ]
    },
    {
      "cell_type": "markdown",
      "metadata": {},
      "source": [
        "### Data Preprocessing"
      ]
    },
    {
      "cell_type": "markdown",
      "metadata": {},
      "source": [
        "#### concat"
      ]
    },
    {
      "cell_type": "code",
      "execution_count": 12,
      "metadata": {},
      "outputs": [],
      "source": [
        "dt['is_test'] = 0\n",
        "dt_test['is_test'] = 1\n",
        "df = pd.concat([dt, dt_test])"
      ]
    },
    {
      "cell_type": "code",
      "execution_count": 13,
      "metadata": {
        "colab": {
          "base_uri": "https://localhost:8080/"
        },
        "id": "e-iZAY9WxQLK",
        "outputId": "ee049806-cb94-4336-f376-6a5c6947f79a"
      },
      "outputs": [
        {
          "data": {
            "text/plain": [
              "0    1118822\n",
              "1       9272\n",
              "Name: is_test, dtype: int64"
            ]
          },
          "execution_count": 13,
          "metadata": {},
          "output_type": "execute_result"
        }
      ],
      "source": [
        "df['is_test'].value_counts()      # train과 test data가 하나로 합쳐진 것을 확인할 수 있습니다."
      ]
    },
    {
      "cell_type": "code",
      "execution_count": 14,
      "metadata": {},
      "outputs": [],
      "source": [
        "del dt, dt_test"
      ]
    },
    {
      "cell_type": "markdown",
      "metadata": {},
      "source": [
        "#### preprocess"
      ]
    },
    {
      "cell_type": "code",
      "execution_count": 15,
      "metadata": {},
      "outputs": [],
      "source": [
        "df['계약년'] = df['계약년월'].map(lambda x : x // 100)\n",
        "df['계약월'] = df['계약년월'].map(lambda x : x % 100)\n",
        "\n",
        "df[\"date\"] = pd.to_datetime(df['계약년'].astype(str) + '-' + df['계약월'].astype(str) + '-' + df['계약일'].astype(str))"
      ]
    },
    {
      "cell_type": "code",
      "execution_count": 16,
      "metadata": {},
      "outputs": [],
      "source": [
        "df['is_public'] = df[\"k-전용면적별세대현황(60㎡이하)\"].notnull()"
      ]
    },
    {
      "cell_type": "code",
      "execution_count": 17,
      "metadata": {},
      "outputs": [],
      "source": [
        "drop_cols_k = ['k-단지분류(아파트,주상복합등등)', 'k-전화번호', 'k-팩스번호', '단지소개기존clob',\n",
        "                'k-세대타입(분양형태)', 'k-관리방식', 'k-복도유형', 'k-난방방식', \n",
        "                'k-전체동수', 'k-전체세대수', 'k-건설사(시공사)', 'k-시행사', \n",
        "                'k-사용검사일-사용승인일', 'k-연면적', 'k-관리비부과면적', 'k-135㎡초과', 'k-홈페이지', 'k-등록일자']\n",
        "\n",
        "df.drop(columns=drop_cols_k, inplace=True)\n",
        "df.drop(columns = ['번지', '본번', '부번'], inplace=True)"
      ]
    },
    {
      "cell_type": "code",
      "execution_count": 18,
      "metadata": {},
      "outputs": [],
      "source": [
        "df.rename(columns={'도로명': 'street'}, inplace=True)"
      ]
    },
    {
      "cell_type": "code",
      "execution_count": 19,
      "metadata": {},
      "outputs": [],
      "source": [
        "order1_mean_gu = mean_val_by_gu.index.tolist()\n",
        "order2_mean_dong = mean_val_by_dong.index.tolist()\n",
        "order3_std_gu = std_val_by_gu.index.tolist()\n",
        "order4_std_dong = std_val_by_dong.index.tolist()"
      ]
    },
    {
      "cell_type": "code",
      "execution_count": 20,
      "metadata": {},
      "outputs": [],
      "source": [
        "# Create a dictionary to map district names to their corresponding label encoded values\n",
        "gu_mapping1 = {district: label for label, district in enumerate(order1_mean_gu)}\n",
        "gu_mapping2 = {district: label for label, district in enumerate(order3_std_gu)}\n",
        "dong_mapping1 = {dong: label for label, dong in enumerate(order2_mean_dong)}\n",
        "dong_mapping2 = {dong: label for label, dong in enumerate(order4_std_dong)}\n",
        "\n",
        "df['구_encoded'] = df[\"구\"].map(gu_mapping1)\n",
        "df['구_std'] = df[\"구\"].map(gu_mapping2)\n",
        "df['동_encoded'] = df[\"동\"].map(dong_mapping1)\n",
        "df['동_std'] = df[\"동\"].map(dong_mapping2)"
      ]
    },
    {
      "cell_type": "code",
      "execution_count": 21,
      "metadata": {},
      "outputs": [],
      "source": [
        "seoul_bds = [\"강남구\", \"영등포구\", \"용산구\"]\n",
        "\n",
        "df[\"has_bds\"] = df[\"구\"].apply(lambda x : 1 if x in seoul_bds else 0)"
      ]
    },
    {
      "cell_type": "code",
      "execution_count": 22,
      "metadata": {},
      "outputs": [],
      "source": [
        "df['yrs_diff_built_contract'] = df['계약년'] - df['건축년도']\n",
        "df['built_in3yrs'] = df['yrs_diff_built_contract'].apply(lambda x : 1 if x <= 3 else 0)\n",
        "df['built_in5yrs'] = df['yrs_diff_built_contract'].apply(lambda x : 1 if x <= 5 else 0)\n",
        "df['built_over30yrs'] = df['yrs_diff_built_contract'].apply(lambda x : 1 if x >= 30 else 0)\n",
        "df['built_over35yrs'] = df['yrs_diff_built_contract'].apply(lambda x : 1 if x >= 35 else 0)\n",
        "df['built_over40yrs'] = df['yrs_diff_built_contract'].apply(lambda x : 1 if x >= 40 else 0)"
      ]
    },
    {
      "cell_type": "code",
      "execution_count": 23,
      "metadata": {},
      "outputs": [],
      "source": [
        "df['road'] = df['street'].apply(lambda x : x.split()[0] if len(x.split()) > 0 else x)\n",
        "df['on_main_st'] = df['road'].apply(lambda x: not any(char.isdigit() for char in x))\n",
        "del df['road']"
      ]
    },
    {
      "cell_type": "code",
      "execution_count": 24,
      "metadata": {
        "id": "PSC14w1WZ-5I"
      },
      "outputs": [],
      "source": [
        "# 위 처럼 아무 의미도 갖지 않는 칼럼은 결측치와 같은 역할을 하므로, np.nan으로 채워 결측치로 인식되도록 합니다.\n",
        "df['등기신청일자'] = df['등기신청일자'].replace(' ', np.nan)\n",
        "df['거래유형'] = df['거래유형'].replace('-', np.nan)\n",
        "df['중개사소재지'] = df['중개사소재지'].replace('-', np.nan)"
      ]
    },
    {
      "cell_type": "markdown",
      "metadata": {},
      "source": [
        "### extra data"
      ]
    },
    {
      "cell_type": "markdown",
      "metadata": {},
      "source": [
        "#### 구별 특성"
      ]
    },
    {
      "cell_type": "markdown",
      "metadata": {},
      "source": [
        "##### 시군구 단위 용도지역 현황 (2022)"
      ]
    },
    {
      "cell_type": "code",
      "execution_count": 25,
      "metadata": {},
      "outputs": [],
      "source": [
        "df_zones_original = pd.read_csv(\"./extra_data/2022_zoning_seoul.csv\", encoding='euc-kr')"
      ]
    },
    {
      "cell_type": "code",
      "execution_count": 26,
      "metadata": {},
      "outputs": [],
      "source": [
        "df_zones_original['주거지역_전용주거_비율'] = df_zones_original['주거지역_전용주거_소계'] / df_zones_original['도시지역 면적']\n",
        "df_zones_original['주거지역_일반주거_비율'] = df_zones_original['주거지역_일반주거지역_소계'] / df_zones_original['도시지역 면적']\n",
        "df_zones_original['주거지역_준주거_비율'] = df_zones_original['주거지역_준주거지역'] / df_zones_original['도시지역 면적']\n",
        "df_zones_original['중심상업_비율'] = df_zones_original['상업지역_중심상업'] / df_zones_original['도시지역 면적']\n",
        "df_zones_original['일반상업_비율'] = df_zones_original['상업지역_일반상업'] / df_zones_original['도시지역 면적']\n",
        "df_zones_original['근린상업_비율'] = df_zones_original['상업지역_근린상업'] / df_zones_original['도시지역 면적']"
      ]
    },
    {
      "cell_type": "code",
      "execution_count": 27,
      "metadata": {},
      "outputs": [],
      "source": [
        "df_zone_ratio = df_zones_original[['시군구', '주거지역_비율', '상업지역_비율', '공업지역_비율', '녹지지역_비율', '주거지역_전용주거_비율', '주거지역_일반주거_비율', '주거지역_준주거_비율',\n",
        "       '중심상업_비율', '일반상업_비율', '근린상업_비율']]"
      ]
    },
    {
      "cell_type": "code",
      "execution_count": 28,
      "metadata": {},
      "outputs": [],
      "source": [
        "df_zone_ratio.rename(columns={'시군구': '구'}, inplace=True)"
      ]
    },
    {
      "cell_type": "code",
      "execution_count": 29,
      "metadata": {},
      "outputs": [],
      "source": [
        "df = pd.merge(left=df, right=df_zone_ratio, on='구', how='left')"
      ]
    },
    {
      "cell_type": "markdown",
      "metadata": {},
      "source": [
        "##### 2022_학생_1만명당_사설학원수"
      ]
    },
    {
      "cell_type": "code",
      "execution_count": 30,
      "metadata": {},
      "outputs": [],
      "source": [
        "df_academies = pd.read_csv(\"extra_data/2022_학생_1만명당_사설학원수_20240326124719.csv\", encoding='euc-kr')"
      ]
    },
    {
      "cell_type": "code",
      "execution_count": 31,
      "metadata": {},
      "outputs": [],
      "source": [
        "df_academies.rename(columns={\"자치구\":\"구\"}, inplace=True)\n",
        "df_academies.drop(columns=['초중고_학생수(명)', '사설학원수(개소)'], inplace=True)"
      ]
    },
    {
      "cell_type": "code",
      "execution_count": 32,
      "metadata": {},
      "outputs": [],
      "source": [
        "df = pd.merge(left=df, right=df_academies, on='구', how='left')"
      ]
    },
    {
      "cell_type": "markdown",
      "metadata": {},
      "source": [
        "#### 경제지표"
      ]
    },
    {
      "cell_type": "markdown",
      "metadata": {},
      "source": [
        "##### 기준금리"
      ]
    },
    {
      "cell_type": "code",
      "execution_count": 33,
      "metadata": {},
      "outputs": [],
      "source": [
        "df_interest_rate.rename(columns={'날짜': 'date'}, inplace=True)\n",
        "df_interest_rate['date'] = pd.to_datetime(df_interest_rate['date'])"
      ]
    },
    {
      "cell_type": "code",
      "execution_count": 34,
      "metadata": {},
      "outputs": [],
      "source": [
        "df = pd.merge(df, df_interest_rate, on = 'date', how='left')"
      ]
    },
    {
      "cell_type": "markdown",
      "metadata": {},
      "source": [
        "##### KOSPI"
      ]
    },
    {
      "cell_type": "code",
      "execution_count": 35,
      "metadata": {},
      "outputs": [],
      "source": [
        "# Use glob to find all files that match the pattern\n",
        "file_paths = glob.glob(\"./extra_data/KOSPI_*.csv\")\n",
        "\n",
        "# Initialize an empty list to store the dataframes\n",
        "dfs = []\n",
        "\n",
        "# Iterate over the file paths and read each CSV file into a dataframe\n",
        "for file_path in file_paths:\n",
        "    kospi_df_yr = pd.read_csv(file_path, encoding=\"euc-kr\")\n",
        "    dfs.append(kospi_df_yr)"
      ]
    },
    {
      "cell_type": "code",
      "execution_count": 36,
      "metadata": {},
      "outputs": [],
      "source": [
        "kospi_df = pd.concat(dfs, ignore_index=True)\n",
        "\n",
        "kospi_df = kospi_df.drop(columns=['시가', '고가', '저가'])"
      ]
    },
    {
      "cell_type": "code",
      "execution_count": 37,
      "metadata": {},
      "outputs": [],
      "source": [
        "kospi_df.rename(columns={\"일자\":\"date\", \"종가\":\"Close\"}, inplace=True)\n",
        "kospi_df[\"date\"] = kospi_df['date'].str.replace('/', '-')\n",
        "kospi_df[\"date\"] = pd.to_datetime(kospi_df[\"date\"])\n",
        "kospi_df.sort_values(by='date', ascending=True, inplace=True)"
      ]
    },
    {
      "cell_type": "code",
      "execution_count": 38,
      "metadata": {},
      "outputs": [],
      "source": [
        "kospi_df[\"KOSPI_MA5d\"] = kospi_df[\"Close\"].transform(lambda x: x.rolling(window=5).mean())\n",
        "kospi_df[\"KOSPI_MA20d\"] = kospi_df[\"Close\"].transform(lambda x: x.rolling(window=20).mean())\n",
        "kospi_df[\"KOSPI_MA60d\"] = kospi_df[\"Close\"].transform(lambda x: x.rolling(window=60).mean())\n",
        "kospi_df[\"KOSPI_MA120d\"] = kospi_df[\"Close\"].transform(lambda x: x.rolling(window=120).mean())"
      ]
    },
    {
      "cell_type": "code",
      "execution_count": 39,
      "metadata": {},
      "outputs": [],
      "source": [
        "kospi_cols = ['Close', '대비', '등락률', '거래량', '거래대금', '상장시가총액',\n",
        "       'KOSPI_MA5d', 'KOSPI_MA20d', 'KOSPI_MA60d', 'KOSPI_MA120d']"
      ]
    },
    {
      "cell_type": "code",
      "execution_count": 40,
      "metadata": {},
      "outputs": [],
      "source": [
        "df = pd.merge(left=df, right=kospi_df, on='date', how='left')"
      ]
    },
    {
      "cell_type": "code",
      "execution_count": 41,
      "metadata": {},
      "outputs": [],
      "source": [
        "df[kospi_cols] = df[kospi_cols].interpolate(method='linear', axis=0)"
      ]
    },
    {
      "cell_type": "markdown",
      "metadata": {},
      "source": [
        "##### 실업률"
      ]
    },
    {
      "cell_type": "code",
      "execution_count": 42,
      "metadata": {},
      "outputs": [],
      "source": [
        "unempl_rate = pd.read_csv(\"./extra_data/서울시_월별실업률_2007_2024.csv\", encoding=\"euc-kr\")"
      ]
    },
    {
      "cell_type": "code",
      "execution_count": 43,
      "metadata": {},
      "outputs": [],
      "source": [
        "unempl_rate[\"시점\"] = unempl_rate[\"시점\"]*100\n",
        "unempl_rate[\"시점\"] = unempl_rate[\"시점\"].astype(int)\n",
        "unempl_rate.rename(columns={\"계\" : \"unempl_rate_total\", \"남자\": \"unempl_male\", \"여자\":\"unempl_female\"}, inplace=True)"
      ]
    },
    {
      "cell_type": "code",
      "execution_count": 44,
      "metadata": {},
      "outputs": [],
      "source": [
        "df = pd.merge(left=df, right=unempl_rate, left_on=\"계약년월\", right_on=\"시점\", how=\"left\")\n",
        "df.drop(columns=['시점'], inplace=True)"
      ]
    },
    {
      "cell_type": "markdown",
      "metadata": {},
      "source": [
        "### delete columns"
      ]
    },
    {
      "cell_type": "code",
      "execution_count": 316,
      "metadata": {},
      "outputs": [
        {
          "data": {
            "text/plain": [
              "Index(['아파트명', '전용면적(㎡)', '계약년월', '계약일', '층', '건축년도', 'street', '해제사유발생일',\n",
              "       '등기신청일자', '거래유형', '중개사소재지', 'k-주거전용면적', 'k-전용면적별세대현황(60㎡이하)',\n",
              "       'k-전용면적별세대현황(60㎡~85㎡이하)', 'k-85㎡~135㎡이하', 'k-수정일자', '고용보험관리번호',\n",
              "       '경비비관리형태', '세대전기계약방법', '청소비관리형태', '건축면적', '주차대수', '기타/의무/임대/임의=1/2/3/4',\n",
              "       '단지승인일', '사용허가여부', '관리비 업로드', '좌표X', '좌표Y', '단지신청일', 'target', '구', '동',\n",
              "       'is_test', '계약년', '계약월', 'date', 'is_public', '구_encoded', '구_std',\n",
              "       '동_encoded', '동_std', 'has_bds', 'yrs_diff_built_contract',\n",
              "       'built_in3yrs', 'built_in5yrs', 'built_over30yrs', 'built_over35yrs',\n",
              "       'built_over40yrs', 'on_main_st', '주거지역_비율', '상업지역_비율', '공업지역_비율',\n",
              "       '녹지지역_비율', '주거지역_전용주거_비율', '주거지역_일반주거_비율', '주거지역_준주거_비율', '중심상업_비율',\n",
              "       '일반상업_비율', '근린상업_비율', '학생1만명당_사설학원수(개소)', '기준금리', 'Close', '대비', '등락률',\n",
              "       '거래량', '거래대금', '상장시가총액', 'KOSPI_MA5d', 'KOSPI_MA20d', 'KOSPI_MA60d',\n",
              "       'KOSPI_MA120d', 'unempl_rate_total', 'unempl_male', 'unempl_female'],\n",
              "      dtype='object')"
            ]
          },
          "execution_count": 316,
          "metadata": {},
          "output_type": "execute_result"
        }
      ],
      "source": [
        "df.columns"
      ]
    },
    {
      "cell_type": "code",
      "execution_count": 45,
      "metadata": {},
      "outputs": [],
      "source": [
        "drop_cols_before_train = ['date', '좌표X', '좌표Y', '구', '동', '계약월', '계약일', '고용보험관리번호', 'k-수정일자', '관리비 업로드', '기타/의무/임대/임의=1/2/3/4', '계약년']\n",
        "\n",
        "df.drop(columns=drop_cols_before_train, inplace=True)\n",
        "\n",
        "df.columns = df.columns.str.replace('[^\\w\\s]', '')\n",
        "df.columns = df.columns.str.replace(' ', '_')"
      ]
    },
    {
      "cell_type": "code",
      "execution_count": 46,
      "metadata": {},
      "outputs": [
        {
          "data": {
            "text/plain": [
              "Index(['아파트명', '전용면적', '계약년월', '층', '건축년도', 'street', '해제사유발생일', '등기신청일자',\n",
              "       '거래유형', '중개사소재지', 'k주거전용면적', 'k전용면적별세대현황60이하', 'k전용면적별세대현황6085이하',\n",
              "       'k85135이하', '경비비관리형태', '세대전기계약방법', '청소비관리형태', '건축면적', '주차대수', '단지승인일',\n",
              "       '사용허가여부', '단지신청일', 'target', 'is_test', 'is_public', '구_encoded',\n",
              "       '구_std', '동_encoded', '동_std', 'has_bds', 'yrs_diff_built_contract',\n",
              "       'built_in3yrs', 'built_in5yrs', 'built_over30yrs', 'built_over35yrs',\n",
              "       'built_over40yrs', 'on_main_st', '주거지역_비율', '상업지역_비율', '공업지역_비율',\n",
              "       '녹지지역_비율', '주거지역_전용주거_비율', '주거지역_일반주거_비율', '주거지역_준주거_비율', '중심상업_비율',\n",
              "       '일반상업_비율', '근린상업_비율', '학생1만명당_사설학원수개소', '기준금리', 'Close', '대비', '등락률',\n",
              "       '거래량', '거래대금', '상장시가총액', 'KOSPI_MA5d', 'KOSPI_MA20d', 'KOSPI_MA60d',\n",
              "       'KOSPI_MA120d', 'unempl_rate_total', 'unempl_male', 'unempl_female'],\n",
              "      dtype='object')"
            ]
          },
          "execution_count": 46,
          "metadata": {},
          "output_type": "execute_result"
        }
      ],
      "source": [
        "df.columns"
      ]
    },
    {
      "cell_type": "code",
      "execution_count": 47,
      "metadata": {},
      "outputs": [],
      "source": [
        "df['k전용면적별세대현황60이하'] = df['k전용면적별세대현황60이하'].fillna(0)"
      ]
    },
    {
      "cell_type": "code",
      "execution_count": 48,
      "metadata": {},
      "outputs": [],
      "source": [
        "df['k전용면적별세대현황6085이하'] = df['k전용면적별세대현황6085이하'].fillna(0)\n",
        "df['k85135이하'] = df['k85135이하'].fillna(0)"
      ]
    },
    {
      "cell_type": "code",
      "execution_count": 50,
      "metadata": {},
      "outputs": [],
      "source": [
        "# 해제사유발생일, 등기신청일자, 거래유형, 중개사소재지 - 삭제해도 될 듯\n",
        "df.drop(columns=['해제사유발생일', '등기신청일자', '거래유형', '중개사소재지'], inplace=True)"
      ]
    },
    {
      "cell_type": "code",
      "execution_count": 49,
      "metadata": {},
      "outputs": [],
      "source": [
        "def info_df(df):\n",
        "    temp_df = pd.DataFrame()\n",
        "    temp_df['col_name'] = df.columns\n",
        "    \n",
        "\n",
        "    for i in range(len(df.columns)):\n",
        "        x = df.iloc[:, i]\n",
        "        temp_df.loc[i, 'data_type'] = x.dtype\n",
        "        temp_df.loc[i, 'have_null'] = any(x.isna())\n",
        "        temp_df.loc[i, 'null_count'] = x.isna().sum()\n",
        "        temp_df.loc[i, 'null_ratio'] = x.isna().sum() / x.shape[0]\n",
        "        temp_df.loc[i, 'nunique'] = x.nunique()\n",
        "    return temp_df"
      ]
    },
    {
      "cell_type": "code",
      "execution_count": 51,
      "metadata": {},
      "outputs": [
        {
          "data": {
            "text/html": [
              "<div>\n",
              "<style scoped>\n",
              "    .dataframe tbody tr th:only-of-type {\n",
              "        vertical-align: middle;\n",
              "    }\n",
              "\n",
              "    .dataframe tbody tr th {\n",
              "        vertical-align: top;\n",
              "    }\n",
              "\n",
              "    .dataframe thead th {\n",
              "        text-align: right;\n",
              "    }\n",
              "</style>\n",
              "<table border=\"1\" class=\"dataframe\">\n",
              "  <thead>\n",
              "    <tr style=\"text-align: right;\">\n",
              "      <th></th>\n",
              "      <th>col_name</th>\n",
              "      <th>data_type</th>\n",
              "      <th>have_null</th>\n",
              "      <th>null_count</th>\n",
              "      <th>null_ratio</th>\n",
              "      <th>nunique</th>\n",
              "    </tr>\n",
              "  </thead>\n",
              "  <tbody>\n",
              "    <tr>\n",
              "      <th>0</th>\n",
              "      <td>아파트명</td>\n",
              "      <td>object</td>\n",
              "      <td>True</td>\n",
              "      <td>2136.0</td>\n",
              "      <td>0.001893</td>\n",
              "      <td>6549.0</td>\n",
              "    </tr>\n",
              "    <tr>\n",
              "      <th>1</th>\n",
              "      <td>전용면적</td>\n",
              "      <td>float64</td>\n",
              "      <td>False</td>\n",
              "      <td>0.0</td>\n",
              "      <td>0.000000</td>\n",
              "      <td>14670.0</td>\n",
              "    </tr>\n",
              "    <tr>\n",
              "      <th>2</th>\n",
              "      <td>계약년월</td>\n",
              "      <td>int64</td>\n",
              "      <td>False</td>\n",
              "      <td>0.0</td>\n",
              "      <td>0.000000</td>\n",
              "      <td>201.0</td>\n",
              "    </tr>\n",
              "    <tr>\n",
              "      <th>3</th>\n",
              "      <td>층</td>\n",
              "      <td>int64</td>\n",
              "      <td>False</td>\n",
              "      <td>0.0</td>\n",
              "      <td>0.000000</td>\n",
              "      <td>73.0</td>\n",
              "    </tr>\n",
              "    <tr>\n",
              "      <th>4</th>\n",
              "      <td>건축년도</td>\n",
              "      <td>int64</td>\n",
              "      <td>False</td>\n",
              "      <td>0.0</td>\n",
              "      <td>0.000000</td>\n",
              "      <td>60.0</td>\n",
              "    </tr>\n",
              "    <tr>\n",
              "      <th>5</th>\n",
              "      <td>street</td>\n",
              "      <td>object</td>\n",
              "      <td>False</td>\n",
              "      <td>0.0</td>\n",
              "      <td>0.000000</td>\n",
              "      <td>9245.0</td>\n",
              "    </tr>\n",
              "    <tr>\n",
              "      <th>6</th>\n",
              "      <td>k주거전용면적</td>\n",
              "      <td>float64</td>\n",
              "      <td>True</td>\n",
              "      <td>876170.0</td>\n",
              "      <td>0.776682</td>\n",
              "      <td>740.0</td>\n",
              "    </tr>\n",
              "    <tr>\n",
              "      <th>7</th>\n",
              "      <td>k전용면적별세대현황60이하</td>\n",
              "      <td>float64</td>\n",
              "      <td>False</td>\n",
              "      <td>0.0</td>\n",
              "      <td>0.000000</td>\n",
              "      <td>349.0</td>\n",
              "    </tr>\n",
              "    <tr>\n",
              "      <th>8</th>\n",
              "      <td>k전용면적별세대현황6085이하</td>\n",
              "      <td>float64</td>\n",
              "      <td>False</td>\n",
              "      <td>0.0</td>\n",
              "      <td>0.000000</td>\n",
              "      <td>387.0</td>\n",
              "    </tr>\n",
              "    <tr>\n",
              "      <th>9</th>\n",
              "      <td>k85135이하</td>\n",
              "      <td>float64</td>\n",
              "      <td>False</td>\n",
              "      <td>0.0</td>\n",
              "      <td>0.000000</td>\n",
              "      <td>244.0</td>\n",
              "    </tr>\n",
              "    <tr>\n",
              "      <th>10</th>\n",
              "      <td>경비비관리형태</td>\n",
              "      <td>object</td>\n",
              "      <td>True</td>\n",
              "      <td>877561.0</td>\n",
              "      <td>0.777915</td>\n",
              "      <td>4.0</td>\n",
              "    </tr>\n",
              "    <tr>\n",
              "      <th>11</th>\n",
              "      <td>세대전기계약방법</td>\n",
              "      <td>object</td>\n",
              "      <td>True</td>\n",
              "      <td>885389.0</td>\n",
              "      <td>0.784854</td>\n",
              "      <td>2.0</td>\n",
              "    </tr>\n",
              "    <tr>\n",
              "      <th>12</th>\n",
              "      <td>청소비관리형태</td>\n",
              "      <td>object</td>\n",
              "      <td>True</td>\n",
              "      <td>877751.0</td>\n",
              "      <td>0.778083</td>\n",
              "      <td>4.0</td>\n",
              "    </tr>\n",
              "    <tr>\n",
              "      <th>13</th>\n",
              "      <td>건축면적</td>\n",
              "      <td>float64</td>\n",
              "      <td>True</td>\n",
              "      <td>876279.0</td>\n",
              "      <td>0.776778</td>\n",
              "      <td>455.0</td>\n",
              "    </tr>\n",
              "    <tr>\n",
              "      <th>14</th>\n",
              "      <td>주차대수</td>\n",
              "      <td>float64</td>\n",
              "      <td>True</td>\n",
              "      <td>876277.0</td>\n",
              "      <td>0.776777</td>\n",
              "      <td>526.0</td>\n",
              "    </tr>\n",
              "    <tr>\n",
              "      <th>15</th>\n",
              "      <td>단지승인일</td>\n",
              "      <td>object</td>\n",
              "      <td>True</td>\n",
              "      <td>876854.0</td>\n",
              "      <td>0.777288</td>\n",
              "      <td>736.0</td>\n",
              "    </tr>\n",
              "    <tr>\n",
              "      <th>16</th>\n",
              "      <td>사용허가여부</td>\n",
              "      <td>object</td>\n",
              "      <td>True</td>\n",
              "      <td>876125.0</td>\n",
              "      <td>0.776642</td>\n",
              "      <td>1.0</td>\n",
              "    </tr>\n",
              "    <tr>\n",
              "      <th>17</th>\n",
              "      <td>단지신청일</td>\n",
              "      <td>object</td>\n",
              "      <td>True</td>\n",
              "      <td>876187.0</td>\n",
              "      <td>0.776697</td>\n",
              "      <td>260.0</td>\n",
              "    </tr>\n",
              "    <tr>\n",
              "      <th>18</th>\n",
              "      <td>target</td>\n",
              "      <td>float64</td>\n",
              "      <td>True</td>\n",
              "      <td>9272.0</td>\n",
              "      <td>0.008219</td>\n",
              "      <td>14530.0</td>\n",
              "    </tr>\n",
              "    <tr>\n",
              "      <th>19</th>\n",
              "      <td>is_test</td>\n",
              "      <td>int64</td>\n",
              "      <td>False</td>\n",
              "      <td>0.0</td>\n",
              "      <td>0.000000</td>\n",
              "      <td>2.0</td>\n",
              "    </tr>\n",
              "    <tr>\n",
              "      <th>20</th>\n",
              "      <td>is_public</td>\n",
              "      <td>bool</td>\n",
              "      <td>False</td>\n",
              "      <td>0.0</td>\n",
              "      <td>0.000000</td>\n",
              "      <td>2.0</td>\n",
              "    </tr>\n",
              "    <tr>\n",
              "      <th>21</th>\n",
              "      <td>구_encoded</td>\n",
              "      <td>int64</td>\n",
              "      <td>False</td>\n",
              "      <td>0.0</td>\n",
              "      <td>0.000000</td>\n",
              "      <td>25.0</td>\n",
              "    </tr>\n",
              "    <tr>\n",
              "      <th>22</th>\n",
              "      <td>구_std</td>\n",
              "      <td>int64</td>\n",
              "      <td>False</td>\n",
              "      <td>0.0</td>\n",
              "      <td>0.000000</td>\n",
              "      <td>25.0</td>\n",
              "    </tr>\n",
              "    <tr>\n",
              "      <th>23</th>\n",
              "      <td>동_encoded</td>\n",
              "      <td>int64</td>\n",
              "      <td>False</td>\n",
              "      <td>0.0</td>\n",
              "      <td>0.000000</td>\n",
              "      <td>337.0</td>\n",
              "    </tr>\n",
              "    <tr>\n",
              "      <th>24</th>\n",
              "      <td>동_std</td>\n",
              "      <td>int64</td>\n",
              "      <td>False</td>\n",
              "      <td>0.0</td>\n",
              "      <td>0.000000</td>\n",
              "      <td>337.0</td>\n",
              "    </tr>\n",
              "    <tr>\n",
              "      <th>25</th>\n",
              "      <td>has_bds</td>\n",
              "      <td>int64</td>\n",
              "      <td>False</td>\n",
              "      <td>0.0</td>\n",
              "      <td>0.000000</td>\n",
              "      <td>2.0</td>\n",
              "    </tr>\n",
              "    <tr>\n",
              "      <th>26</th>\n",
              "      <td>yrs_diff_built_contract</td>\n",
              "      <td>int64</td>\n",
              "      <td>False</td>\n",
              "      <td>0.0</td>\n",
              "      <td>0.000000</td>\n",
              "      <td>74.0</td>\n",
              "    </tr>\n",
              "    <tr>\n",
              "      <th>27</th>\n",
              "      <td>built_in3yrs</td>\n",
              "      <td>int64</td>\n",
              "      <td>False</td>\n",
              "      <td>0.0</td>\n",
              "      <td>0.000000</td>\n",
              "      <td>2.0</td>\n",
              "    </tr>\n",
              "    <tr>\n",
              "      <th>28</th>\n",
              "      <td>built_in5yrs</td>\n",
              "      <td>int64</td>\n",
              "      <td>False</td>\n",
              "      <td>0.0</td>\n",
              "      <td>0.000000</td>\n",
              "      <td>2.0</td>\n",
              "    </tr>\n",
              "    <tr>\n",
              "      <th>29</th>\n",
              "      <td>built_over30yrs</td>\n",
              "      <td>int64</td>\n",
              "      <td>False</td>\n",
              "      <td>0.0</td>\n",
              "      <td>0.000000</td>\n",
              "      <td>2.0</td>\n",
              "    </tr>\n",
              "    <tr>\n",
              "      <th>30</th>\n",
              "      <td>built_over35yrs</td>\n",
              "      <td>int64</td>\n",
              "      <td>False</td>\n",
              "      <td>0.0</td>\n",
              "      <td>0.000000</td>\n",
              "      <td>2.0</td>\n",
              "    </tr>\n",
              "    <tr>\n",
              "      <th>31</th>\n",
              "      <td>built_over40yrs</td>\n",
              "      <td>int64</td>\n",
              "      <td>False</td>\n",
              "      <td>0.0</td>\n",
              "      <td>0.000000</td>\n",
              "      <td>2.0</td>\n",
              "    </tr>\n",
              "    <tr>\n",
              "      <th>32</th>\n",
              "      <td>on_main_st</td>\n",
              "      <td>bool</td>\n",
              "      <td>False</td>\n",
              "      <td>0.0</td>\n",
              "      <td>0.000000</td>\n",
              "      <td>2.0</td>\n",
              "    </tr>\n",
              "    <tr>\n",
              "      <th>33</th>\n",
              "      <td>주거지역_비율</td>\n",
              "      <td>float64</td>\n",
              "      <td>False</td>\n",
              "      <td>0.0</td>\n",
              "      <td>0.000000</td>\n",
              "      <td>25.0</td>\n",
              "    </tr>\n",
              "    <tr>\n",
              "      <th>34</th>\n",
              "      <td>상업지역_비율</td>\n",
              "      <td>float64</td>\n",
              "      <td>False</td>\n",
              "      <td>0.0</td>\n",
              "      <td>0.000000</td>\n",
              "      <td>24.0</td>\n",
              "    </tr>\n",
              "    <tr>\n",
              "      <th>35</th>\n",
              "      <td>공업지역_비율</td>\n",
              "      <td>float64</td>\n",
              "      <td>False</td>\n",
              "      <td>0.0</td>\n",
              "      <td>0.000000</td>\n",
              "      <td>9.0</td>\n",
              "    </tr>\n",
              "    <tr>\n",
              "      <th>36</th>\n",
              "      <td>녹지지역_비율</td>\n",
              "      <td>float64</td>\n",
              "      <td>False</td>\n",
              "      <td>0.0</td>\n",
              "      <td>0.000000</td>\n",
              "      <td>25.0</td>\n",
              "    </tr>\n",
              "    <tr>\n",
              "      <th>37</th>\n",
              "      <td>주거지역_전용주거_비율</td>\n",
              "      <td>float64</td>\n",
              "      <td>False</td>\n",
              "      <td>0.0</td>\n",
              "      <td>0.000000</td>\n",
              "      <td>13.0</td>\n",
              "    </tr>\n",
              "    <tr>\n",
              "      <th>38</th>\n",
              "      <td>주거지역_일반주거_비율</td>\n",
              "      <td>float64</td>\n",
              "      <td>False</td>\n",
              "      <td>0.0</td>\n",
              "      <td>0.000000</td>\n",
              "      <td>25.0</td>\n",
              "    </tr>\n",
              "    <tr>\n",
              "      <th>39</th>\n",
              "      <td>주거지역_준주거_비율</td>\n",
              "      <td>float64</td>\n",
              "      <td>False</td>\n",
              "      <td>0.0</td>\n",
              "      <td>0.000000</td>\n",
              "      <td>25.0</td>\n",
              "    </tr>\n",
              "    <tr>\n",
              "      <th>40</th>\n",
              "      <td>중심상업_비율</td>\n",
              "      <td>float64</td>\n",
              "      <td>False</td>\n",
              "      <td>0.0</td>\n",
              "      <td>0.000000</td>\n",
              "      <td>3.0</td>\n",
              "    </tr>\n",
              "    <tr>\n",
              "      <th>41</th>\n",
              "      <td>일반상업_비율</td>\n",
              "      <td>float64</td>\n",
              "      <td>False</td>\n",
              "      <td>0.0</td>\n",
              "      <td>0.000000</td>\n",
              "      <td>25.0</td>\n",
              "    </tr>\n",
              "    <tr>\n",
              "      <th>42</th>\n",
              "      <td>근린상업_비율</td>\n",
              "      <td>float64</td>\n",
              "      <td>False</td>\n",
              "      <td>0.0</td>\n",
              "      <td>0.000000</td>\n",
              "      <td>19.0</td>\n",
              "    </tr>\n",
              "    <tr>\n",
              "      <th>43</th>\n",
              "      <td>학생1만명당_사설학원수개소</td>\n",
              "      <td>float64</td>\n",
              "      <td>False</td>\n",
              "      <td>0.0</td>\n",
              "      <td>0.000000</td>\n",
              "      <td>25.0</td>\n",
              "    </tr>\n",
              "    <tr>\n",
              "      <th>44</th>\n",
              "      <td>기준금리</td>\n",
              "      <td>float64</td>\n",
              "      <td>False</td>\n",
              "      <td>0.0</td>\n",
              "      <td>0.000000</td>\n",
              "      <td>19.0</td>\n",
              "    </tr>\n",
              "    <tr>\n",
              "      <th>45</th>\n",
              "      <td>Close</td>\n",
              "      <td>float64</td>\n",
              "      <td>False</td>\n",
              "      <td>0.0</td>\n",
              "      <td>0.000000</td>\n",
              "      <td>183023.0</td>\n",
              "    </tr>\n",
              "    <tr>\n",
              "      <th>46</th>\n",
              "      <td>대비</td>\n",
              "      <td>float64</td>\n",
              "      <td>False</td>\n",
              "      <td>0.0</td>\n",
              "      <td>0.000000</td>\n",
              "      <td>94176.0</td>\n",
              "    </tr>\n",
              "    <tr>\n",
              "      <th>47</th>\n",
              "      <td>등락률</td>\n",
              "      <td>float64</td>\n",
              "      <td>False</td>\n",
              "      <td>0.0</td>\n",
              "      <td>0.000000</td>\n",
              "      <td>21093.0</td>\n",
              "    </tr>\n",
              "    <tr>\n",
              "      <th>48</th>\n",
              "      <td>거래량</td>\n",
              "      <td>float64</td>\n",
              "      <td>False</td>\n",
              "      <td>0.0</td>\n",
              "      <td>0.000000</td>\n",
              "      <td>211186.0</td>\n",
              "    </tr>\n",
              "    <tr>\n",
              "      <th>49</th>\n",
              "      <td>거래대금</td>\n",
              "      <td>float64</td>\n",
              "      <td>False</td>\n",
              "      <td>0.0</td>\n",
              "      <td>0.000000</td>\n",
              "      <td>220789.0</td>\n",
              "    </tr>\n",
              "    <tr>\n",
              "      <th>50</th>\n",
              "      <td>상장시가총액</td>\n",
              "      <td>float64</td>\n",
              "      <td>False</td>\n",
              "      <td>0.0</td>\n",
              "      <td>0.000000</td>\n",
              "      <td>221680.0</td>\n",
              "    </tr>\n",
              "    <tr>\n",
              "      <th>51</th>\n",
              "      <td>KOSPI_MA5d</td>\n",
              "      <td>float64</td>\n",
              "      <td>False</td>\n",
              "      <td>0.0</td>\n",
              "      <td>0.000000</td>\n",
              "      <td>214286.0</td>\n",
              "    </tr>\n",
              "    <tr>\n",
              "      <th>52</th>\n",
              "      <td>KOSPI_MA20d</td>\n",
              "      <td>float64</td>\n",
              "      <td>False</td>\n",
              "      <td>0.0</td>\n",
              "      <td>0.000000</td>\n",
              "      <td>219691.0</td>\n",
              "    </tr>\n",
              "    <tr>\n",
              "      <th>53</th>\n",
              "      <td>KOSPI_MA60d</td>\n",
              "      <td>float64</td>\n",
              "      <td>False</td>\n",
              "      <td>0.0</td>\n",
              "      <td>0.000000</td>\n",
              "      <td>220830.0</td>\n",
              "    </tr>\n",
              "    <tr>\n",
              "      <th>54</th>\n",
              "      <td>KOSPI_MA120d</td>\n",
              "      <td>float64</td>\n",
              "      <td>False</td>\n",
              "      <td>0.0</td>\n",
              "      <td>0.000000</td>\n",
              "      <td>221134.0</td>\n",
              "    </tr>\n",
              "    <tr>\n",
              "      <th>55</th>\n",
              "      <td>unempl_rate_total</td>\n",
              "      <td>float64</td>\n",
              "      <td>False</td>\n",
              "      <td>0.0</td>\n",
              "      <td>0.000000</td>\n",
              "      <td>35.0</td>\n",
              "    </tr>\n",
              "    <tr>\n",
              "      <th>56</th>\n",
              "      <td>unempl_male</td>\n",
              "      <td>float64</td>\n",
              "      <td>False</td>\n",
              "      <td>0.0</td>\n",
              "      <td>0.000000</td>\n",
              "      <td>41.0</td>\n",
              "    </tr>\n",
              "    <tr>\n",
              "      <th>57</th>\n",
              "      <td>unempl_female</td>\n",
              "      <td>float64</td>\n",
              "      <td>False</td>\n",
              "      <td>0.0</td>\n",
              "      <td>0.000000</td>\n",
              "      <td>37.0</td>\n",
              "    </tr>\n",
              "  </tbody>\n",
              "</table>\n",
              "</div>"
            ],
            "text/plain": [
              "                   col_name data_type have_null  null_count  null_ratio  \\\n",
              "0                      아파트명    object      True      2136.0    0.001893   \n",
              "1                      전용면적   float64     False         0.0    0.000000   \n",
              "2                      계약년월     int64     False         0.0    0.000000   \n",
              "3                         층     int64     False         0.0    0.000000   \n",
              "4                      건축년도     int64     False         0.0    0.000000   \n",
              "5                    street    object     False         0.0    0.000000   \n",
              "6                   k주거전용면적   float64      True    876170.0    0.776682   \n",
              "7            k전용면적별세대현황60이하   float64     False         0.0    0.000000   \n",
              "8          k전용면적별세대현황6085이하   float64     False         0.0    0.000000   \n",
              "9                  k85135이하   float64     False         0.0    0.000000   \n",
              "10                  경비비관리형태    object      True    877561.0    0.777915   \n",
              "11                 세대전기계약방법    object      True    885389.0    0.784854   \n",
              "12                  청소비관리형태    object      True    877751.0    0.778083   \n",
              "13                     건축면적   float64      True    876279.0    0.776778   \n",
              "14                     주차대수   float64      True    876277.0    0.776777   \n",
              "15                    단지승인일    object      True    876854.0    0.777288   \n",
              "16                   사용허가여부    object      True    876125.0    0.776642   \n",
              "17                    단지신청일    object      True    876187.0    0.776697   \n",
              "18                   target   float64      True      9272.0    0.008219   \n",
              "19                  is_test     int64     False         0.0    0.000000   \n",
              "20                is_public      bool     False         0.0    0.000000   \n",
              "21                구_encoded     int64     False         0.0    0.000000   \n",
              "22                    구_std     int64     False         0.0    0.000000   \n",
              "23                동_encoded     int64     False         0.0    0.000000   \n",
              "24                    동_std     int64     False         0.0    0.000000   \n",
              "25                  has_bds     int64     False         0.0    0.000000   \n",
              "26  yrs_diff_built_contract     int64     False         0.0    0.000000   \n",
              "27             built_in3yrs     int64     False         0.0    0.000000   \n",
              "28             built_in5yrs     int64     False         0.0    0.000000   \n",
              "29          built_over30yrs     int64     False         0.0    0.000000   \n",
              "30          built_over35yrs     int64     False         0.0    0.000000   \n",
              "31          built_over40yrs     int64     False         0.0    0.000000   \n",
              "32               on_main_st      bool     False         0.0    0.000000   \n",
              "33                  주거지역_비율   float64     False         0.0    0.000000   \n",
              "34                  상업지역_비율   float64     False         0.0    0.000000   \n",
              "35                  공업지역_비율   float64     False         0.0    0.000000   \n",
              "36                  녹지지역_비율   float64     False         0.0    0.000000   \n",
              "37             주거지역_전용주거_비율   float64     False         0.0    0.000000   \n",
              "38             주거지역_일반주거_비율   float64     False         0.0    0.000000   \n",
              "39              주거지역_준주거_비율   float64     False         0.0    0.000000   \n",
              "40                  중심상업_비율   float64     False         0.0    0.000000   \n",
              "41                  일반상업_비율   float64     False         0.0    0.000000   \n",
              "42                  근린상업_비율   float64     False         0.0    0.000000   \n",
              "43           학생1만명당_사설학원수개소   float64     False         0.0    0.000000   \n",
              "44                     기준금리   float64     False         0.0    0.000000   \n",
              "45                    Close   float64     False         0.0    0.000000   \n",
              "46                       대비   float64     False         0.0    0.000000   \n",
              "47                      등락률   float64     False         0.0    0.000000   \n",
              "48                      거래량   float64     False         0.0    0.000000   \n",
              "49                     거래대금   float64     False         0.0    0.000000   \n",
              "50                   상장시가총액   float64     False         0.0    0.000000   \n",
              "51               KOSPI_MA5d   float64     False         0.0    0.000000   \n",
              "52              KOSPI_MA20d   float64     False         0.0    0.000000   \n",
              "53              KOSPI_MA60d   float64     False         0.0    0.000000   \n",
              "54             KOSPI_MA120d   float64     False         0.0    0.000000   \n",
              "55        unempl_rate_total   float64     False         0.0    0.000000   \n",
              "56              unempl_male   float64     False         0.0    0.000000   \n",
              "57            unempl_female   float64     False         0.0    0.000000   \n",
              "\n",
              "     nunique  \n",
              "0     6549.0  \n",
              "1    14670.0  \n",
              "2      201.0  \n",
              "3       73.0  \n",
              "4       60.0  \n",
              "5     9245.0  \n",
              "6      740.0  \n",
              "7      349.0  \n",
              "8      387.0  \n",
              "9      244.0  \n",
              "10       4.0  \n",
              "11       2.0  \n",
              "12       4.0  \n",
              "13     455.0  \n",
              "14     526.0  \n",
              "15     736.0  \n",
              "16       1.0  \n",
              "17     260.0  \n",
              "18   14530.0  \n",
              "19       2.0  \n",
              "20       2.0  \n",
              "21      25.0  \n",
              "22      25.0  \n",
              "23     337.0  \n",
              "24     337.0  \n",
              "25       2.0  \n",
              "26      74.0  \n",
              "27       2.0  \n",
              "28       2.0  \n",
              "29       2.0  \n",
              "30       2.0  \n",
              "31       2.0  \n",
              "32       2.0  \n",
              "33      25.0  \n",
              "34      24.0  \n",
              "35       9.0  \n",
              "36      25.0  \n",
              "37      13.0  \n",
              "38      25.0  \n",
              "39      25.0  \n",
              "40       3.0  \n",
              "41      25.0  \n",
              "42      19.0  \n",
              "43      25.0  \n",
              "44      19.0  \n",
              "45  183023.0  \n",
              "46   94176.0  \n",
              "47   21093.0  \n",
              "48  211186.0  \n",
              "49  220789.0  \n",
              "50  221680.0  \n",
              "51  214286.0  \n",
              "52  219691.0  \n",
              "53  220830.0  \n",
              "54  221134.0  \n",
              "55      35.0  \n",
              "56      41.0  \n",
              "57      37.0  "
            ]
          },
          "execution_count": 51,
          "metadata": {},
          "output_type": "execute_result"
        }
      ],
      "source": [
        "# Set the display option to show all rows\n",
        "pd.set_option('display.max_rows', None)\n",
        "info_df(df)"
      ]
    },
    {
      "cell_type": "code",
      "execution_count": null,
      "metadata": {},
      "outputs": [],
      "source": [
        "# k주거전용면적 - 전용면적과 비교후 삭제해도 되는지 판단"
      ]
    },
    {
      "cell_type": "code",
      "execution_count": 54,
      "metadata": {},
      "outputs": [],
      "source": [
        "pd.reset_option('display.max_rows')"
      ]
    },
    {
      "cell_type": "markdown",
      "metadata": {
        "id": "uXfXRevr3dfe"
      },
      "source": [
        "## 5. Model Training"
      ]
    },
    {
      "cell_type": "code",
      "execution_count": 218,
      "metadata": {
        "colab": {
          "base_uri": "https://localhost:8080/"
        },
        "id": "9E__0jEyyXIA",
        "outputId": "ffb3cc6e-d337-4ed6-96d1-ddf96dc97449"
      },
      "outputs": [
        {
          "name": "stdout",
          "output_type": "stream",
          "text": [
            "(1118822, 73) (9272, 73)\n"
          ]
        }
      ],
      "source": [
        "# 이제 다시 train과 test dataset을 분할해줍니다. 위에서 제작해 놓았던 is_test 칼럼을 이용합니다.\n",
        "dt_train = df.query('is_test==0')\n",
        "dt_test = df.query('is_test==1')\n",
        "\n",
        "# 이제 is_test 칼럼은 drop해줍니다.\n",
        "dt_train.drop(['is_test'], axis = 1, inplace=True)\n",
        "dt_test.drop(['is_test'], axis = 1, inplace=True)\n",
        "print(dt_train.shape, dt_test.shape)"
      ]
    },
    {
      "cell_type": "code",
      "execution_count": 219,
      "metadata": {
        "id": "CpRwDCH7UB_p"
      },
      "outputs": [],
      "source": [
        "# dt_test의 target은 일단 0으로 임의로 채워주도록 하겠습니다.\n",
        "dt_test['target'] = 0"
      ]
    },
    {
      "cell_type": "markdown",
      "metadata": {},
      "source": [
        "############ 인코딩에서 막힘"
      ]
    },
    {
      "cell_type": "markdown",
      "metadata": {
        "id": "wdHNkPO_3tSb"
      },
      "source": [
        "### 5.1. 범주형 변수 Encoding\n",
        "- 범주형 변수는 그대로 모델에 투입하면, 모델이 제대로 작동할 수 없습니다.\n",
        "- 따라서 **레이블 인코딩 과정**을 통해 범주형 변수들을 numeric하게 바꾸는 인코딩 과정을 진행해주도록 하겠습니다."
      ]
    },
    {
      "cell_type": "code",
      "execution_count": 220,
      "metadata": {},
      "outputs": [
        {
          "name": "stdout",
          "output_type": "stream",
          "text": [
            "연속형 변수: ['전용면적', '계약년월', '계약일', '층', '건축년도', '해제사유발생일', 'k주거전용면적', 'k전용면적별세대현황60이하', 'k전용면적별세대현황6085이하', 'k85135이하', '건축면적', '주차대수', '좌표X', '좌표Y', 'target', 'is_test', '계약년', '계약월', 'is_public', '구_encoded', '구_std', '동_encoded', '동_std', 'has_bds', 'yrs_diff_built_contract', 'built_in3yrs', 'built_in5yrs', 'built_over30yrs', 'built_over35yrs', 'built_over40yrs', 'on_main_st', '주거지역_비율', '상업지역_비율', '공업지역_비율', '녹지지역_비율', '주거지역_전용주거_비율', '주거지역_일반주거_비율', '주거지역_준주거_비율', '중심상업_비율', '일반상업_비율', '근린상업_비율', '학생1만명당_사설학원수개소', '기준금리', 'Close', '대비', '등락률', '거래량', '거래대금', '상장시가총액', 'KOSPI_MA5d', 'KOSPI_MA20d', 'KOSPI_MA60d', 'KOSPI_MA120d', 'unempl_rate_total', 'unempl_male', 'unempl_female']\n",
            "범주형 변수: ['아파트명', 'street', '등기신청일자', '거래유형', '중개사소재지', 'k수정일자', '고용보험관리번호', '경비비관리형태', '세대전기계약방법', '청소비관리형태', '기타의무임대임의1234', '단지승인일', '사용허가여부', '관리비_업로드', '단지신청일', '구', '동', 'date']\n"
          ]
        }
      ],
      "source": [
        "# 파생변수 제작으로 추가된 변수들이 존재하기에, 다시한번 연속형과 범주형 칼럼을 분리해주겠습니다.\n",
        "continuous_columns_v2 = []\n",
        "categorical_columns_v2 = []\n",
        "\n",
        "for column in df.columns:\n",
        "    if pd.api.types.is_numeric_dtype(df[column]):\n",
        "        continuous_columns_v2.append(column)\n",
        "    else:\n",
        "        categorical_columns_v2.append(column)\n",
        "\n",
        "print(\"연속형 변수:\", continuous_columns_v2)\n",
        "print(\"범주형 변수:\", categorical_columns_v2)"
      ]
    },
    {
      "cell_type": "code",
      "execution_count": null,
      "metadata": {},
      "outputs": [],
      "source": [
        "# 범주형 변수에 대한 보간\n",
        "df[categorical_columns_v2] = df[categorical_columns_v2].fillna('NULL')\n",
        "\n",
        "# 연속형 변수에 대한 보간 (선형 보간)\n",
        "df[continuous_columns_v2] = df[continuous_columns_v2].interpolate(method='linear', axis=0)"
      ]
    },
    {
      "cell_type": "code",
      "execution_count": null,
      "metadata": {},
      "outputs": [],
      "source": [
        "# 아래에서 범주형 변수들을 대상으로 레이블인코딩을 진행해 주겠습니다.\n",
        "\n",
        "# 각 변수에 대한 LabelEncoder를 저장할 딕셔너리\n",
        "label_encoders = {}\n",
        "\n",
        "# Implement Label Encoding\n",
        "for col in tqdm(categorical_columns_v2):\n",
        "    lbl = LabelEncoder()\n",
        "\n",
        "    # Label-Encoding을 fit\n",
        "    lbl.fit(df[col].astype(str))\n",
        "    df[col] = lbl.transform(df[col].astype(str))\n",
        "    label_encoders[col] = lbl           # 나중에 후처리를 위해 레이블인코더를 저장해주겠습니다.\n",
        "\n",
        "    # Test 데이터에만 존재하는 새로 출현한 데이터를 신규 클래스로 추가해줍니다.\n",
        "    for label in np.unique(df[col]):\n",
        "      if label not in lbl.classes_: # unseen label 데이터인 경우\n",
        "        lbl.classes_ = np.append(lbl.classes_, label) # 미처리 시 ValueError발생하니 주의하세요!\n",
        "\n",
        "    df[col] = lbl.transform(df[col].astype(str))"
      ]
    },
    {
      "cell_type": "markdown",
      "metadata": {
        "id": "L4sHljC3NWje"
      },
      "source": [
        "### 5.2. Model Training"
      ]
    },
    {
      "cell_type": "code",
      "execution_count": 199,
      "metadata": {
        "id": "7S-ow8vVP_YZ"
      },
      "outputs": [],
      "source": [
        "assert dt_train.shape[1] == dt_test.shape[1]          # train/test dataset의 shape이 같은지 확인해주겠습니다."
      ]
    },
    {
      "cell_type": "code",
      "execution_count": 201,
      "metadata": {},
      "outputs": [],
      "source": [
        "drop_cols_before_train = "
      ]
    },
    {
      "cell_type": "code",
      "execution_count": 202,
      "metadata": {},
      "outputs": [],
      "source": [
        "dt_train = dt_train.drop(columns=drop_cols_before_train)\n",
        "dt_test = dt_test.drop(columns=drop_cols_before_train)"
      ]
    },
    {
      "cell_type": "code",
      "execution_count": 203,
      "metadata": {},
      "outputs": [
        {
          "data": {
            "text/plain": [
              "Index(['전용면적', '계약년월', '층', '건축년도', 'k주거전용면적', 'k전용면적별세대현황60이하',\n",
              "       'k전용면적별세대현황6085이하', 'k85135이하', '경비비관리형태', '세대전기계약방법', '청소비관리형태',\n",
              "       '건축면적', '주차대수', '단지승인일', '사용허가여부', '단지신청일', 'target', 'is_public',\n",
              "       '기준금리', '구_encoded', '구_std', '동_encoded', '동_std', 'has_bds',\n",
              "       '주거지역_비율', '상업지역_비율', '공업지역_비율', '녹지지역_비율', '주거지역_전용주거_비율',\n",
              "       '주거지역_일반주거_비율', '주거지역_준주거_비율', '중심상업_비율', '일반상업_비율', '근린상업_비율',\n",
              "       '학생1만명당_사설학원수개소', 'yrs_diff_built_contract', 'built_in3yrs',\n",
              "       'built_in5yrs', 'built_over30yrs', 'built_over35yrs', 'built_over40yrs',\n",
              "       'on_main_st', 'Close', '대비', '등락률', '거래량', '거래대금', '상장시가총액',\n",
              "       'KOSPI_MA5d', 'KOSPI_MA20d', 'KOSPI_MA60d', 'KOSPI_MA120d',\n",
              "       'unempl_rate_total', 'unempl_male', 'unempl_female'],\n",
              "      dtype='object')"
            ]
          },
          "execution_count": 203,
          "metadata": {},
          "output_type": "execute_result"
        }
      ],
      "source": [
        "dt_train.columns"
      ]
    },
    {
      "cell_type": "code",
      "execution_count": 204,
      "metadata": {},
      "outputs": [
        {
          "name": "stdout",
          "output_type": "stream",
          "text": [
            "(1118822, 55) (9272, 55)\n"
          ]
        }
      ],
      "source": [
        "print(dt_train.shape, dt_test.shape)"
      ]
    },
    {
      "cell_type": "code",
      "execution_count": 205,
      "metadata": {},
      "outputs": [],
      "source": [
        "# Target과 독립변수들을 분리해줍니다.\n",
        "y_train = dt_train['target']\n",
        "X_train = dt_train.drop(['target'], axis=1)"
      ]
    },
    {
      "cell_type": "code",
      "execution_count": 206,
      "metadata": {},
      "outputs": [],
      "source": [
        "# Hold out split을 사용해 학습 데이터와 검증 데이터를 8:2 비율로 나누겠습니다.\n",
        "X_train, X_val, y_train, y_val = train_test_split(X_train, y_train, test_size=0.2, random_state=42)"
      ]
    },
    {
      "cell_type": "code",
      "execution_count": 207,
      "metadata": {},
      "outputs": [],
      "source": [
        "X_test = dt_test.drop(['target'], axis=1)"
      ]
    },
    {
      "cell_type": "code",
      "execution_count": 208,
      "metadata": {},
      "outputs": [],
      "source": [
        "# Define parameters for XGBRegressor\n",
        "params = {\n",
        "    'objective': 'reg:squarederror',  # Use squared error for regression task\n",
        "    'eval_metric': 'rmse',  # Root Mean Squared Error for evaluation\n",
        "    'max_depth': 12,\n",
        "    'learning_rate': 0.05,\n",
        "    'n_estimators': 1000,\n",
        "    'subsample': 0.8,\n",
        "    'colsample_bynode': 0.8,\n",
        "    'reg_lambda': 1,\n",
        "    'random_state': 42,\n",
        "}\n",
        "\n",
        "# Create and train the XGBRegressor model\n",
        "model_xgb1 = xgb.XGBRegressor(**params)\n",
        "model_xgb1.fit(X_train, y_train)\n",
        "\n",
        "# Make predictions on the validation set\n",
        "pred_xgb1 = model_xgb1.predict(X_val)"
      ]
    },
    {
      "cell_type": "code",
      "execution_count": 209,
      "metadata": {},
      "outputs": [
        {
          "name": "stdout",
          "output_type": "stream",
          "text": [
            "RMSE val: 6998.347686702911\n"
          ]
        }
      ],
      "source": [
        "# 회귀 관련 metric을 통해 train/valid의 모델 적합 결과를 관찰합니다.\n",
        "print(f'RMSE val: {np.sqrt(metrics.mean_squared_error(y_val, pred_xgb1))}')"
      ]
    },
    {
      "cell_type": "code",
      "execution_count": 210,
      "metadata": {
        "colab": {
          "base_uri": "https://localhost:8080/",
          "height": 698
        },
        "id": "VbgCRxFgdFQb",
        "outputId": "f9114f72-78e1-471c-fc0b-ba5b8b6b6d2f"
      },
      "outputs": [
        {
          "data": {
            "image/png": "[encoded data removed]",
            "text/plain": [
              "<Figure size 1000x1200 with 1 Axes>"
            ]
          },
          "metadata": {},
          "output_type": "display_data"
        }
      ],
      "source": [
        "importances = pd.Series(model_xgb1.feature_importances_, index=list(X_train.columns))\n",
        "importances = importances.sort_values(ascending=False)\n",
        "\n",
        "plt.figure(figsize=(10, 12))\n",
        "plt.title(\"Feature Importances\")\n",
        "sns.barplot(x=importances, y=importances.index)\n",
        "plt.show()"
      ]
    },
    {
      "cell_type": "code",
      "execution_count": 643,
      "metadata": {},
      "outputs": [],
      "source": [
        "# 학습된 모델을 저장합니다. Pickle 라이브러리를 이용하겠습니다.\n",
        "with open('model_xgb1.pkl', 'wb') as f:\n",
        "    pickle.dump(model_xgb1, f)"
      ]
    },
    {
      "cell_type": "markdown",
      "metadata": {
        "id": "jOVbJ3KWgBTC"
      },
      "source": [
        "### 5.3. Feature selection"
      ]
    },
    {
      "cell_type": "markdown",
      "metadata": {
        "id": "0Qp7gLG3CfgJ"
      },
      "source": [
        "- 어떤 변수가 유용한 변수인지 확인해보기 위해 permutation selection을 이용해보겠습니다."
      ]
    },
    {
      "cell_type": "code",
      "execution_count": 312,
      "metadata": {
        "colab": {
          "base_uri": "https://localhost:8080/",
          "height": 399
        },
        "id": "bWucmvKrf-tq",
        "outputId": "016c2fae-320b-4778-efb9-799b5cf695b0"
      },
      "outputs": [
        {
          "data": {
            "text/html": [
              "\n",
              "    <style>\n",
              "    table.eli5-weights tr:hover {\n",
              "        filter: brightness(85%);\n",
              "    }\n",
              "</style>\n",
              "\n",
              "\n",
              "\n",
              "    \n",
              "\n",
              "    \n",
              "\n",
              "    \n",
              "\n",
              "    \n",
              "\n",
              "    \n",
              "\n",
              "    \n",
              "\n",
              "\n",
              "    \n",
              "\n",
              "    \n",
              "\n",
              "    \n",
              "\n",
              "    \n",
              "\n",
              "    \n",
              "\n",
              "    \n",
              "\n",
              "\n",
              "    \n",
              "\n",
              "    \n",
              "\n",
              "    \n",
              "\n",
              "    \n",
              "\n",
              "    \n",
              "        <table class=\"eli5-weights eli5-feature-importances\" style=\"border-collapse: collapse; border: none; margin-top: 0em; table-layout: auto;\">\n",
              "    <thead>\n",
              "    <tr style=\"border: none;\">\n",
              "        <th style=\"padding: 0 1em 0 0.5em; text-align: right; border: none;\">Weight</th>\n",
              "        <th style=\"padding: 0 0.5em 0 0.5em; text-align: left; border: none;\">Feature</th>\n",
              "    </tr>\n",
              "    </thead>\n",
              "    <tbody>\n",
              "    \n",
              "        <tr style=\"background-color: hsl(120, 100.00%, 80.00%); border: none;\">\n",
              "            <td style=\"padding: 0 1em 0 0.5em; text-align: right; border: none;\">\n",
              "                1115100604.8982\n",
              "                \n",
              "                    &plusmn; 16011314.4157\n",
              "                \n",
              "            </td>\n",
              "            <td style=\"padding: 0 0.5em 0 0.5em; text-align: left; border: none;\">\n",
              "                전용면적\n",
              "            </td>\n",
              "        </tr>\n",
              "    \n",
              "        <tr style=\"background-color: hsl(120, 100.00%, 81.31%); border: none;\">\n",
              "            <td style=\"padding: 0 1em 0 0.5em; text-align: right; border: none;\">\n",
              "                1012592379.8384\n",
              "                \n",
              "                    &plusmn; 9979412.9561\n",
              "                \n",
              "            </td>\n",
              "            <td style=\"padding: 0 0.5em 0 0.5em; text-align: left; border: none;\">\n",
              "                동_encoded\n",
              "            </td>\n",
              "        </tr>\n",
              "    \n",
              "        <tr style=\"background-color: hsl(120, 100.00%, 81.49%); border: none;\">\n",
              "            <td style=\"padding: 0 1em 0 0.5em; text-align: right; border: none;\">\n",
              "                998076962.4988\n",
              "                \n",
              "                    &plusmn; 7148859.3022\n",
              "                \n",
              "            </td>\n",
              "            <td style=\"padding: 0 0.5em 0 0.5em; text-align: left; border: none;\">\n",
              "                계약년월\n",
              "            </td>\n",
              "        </tr>\n",
              "    \n",
              "        <tr style=\"background-color: hsl(120, 100.00%, 90.10%); border: none;\">\n",
              "            <td style=\"padding: 0 1em 0 0.5em; text-align: right; border: none;\">\n",
              "                408483981.9837\n",
              "                \n",
              "                    &plusmn; 1699485.3199\n",
              "                \n",
              "            </td>\n",
              "            <td style=\"padding: 0 0.5em 0 0.5em; text-align: left; border: none;\">\n",
              "                동_std\n",
              "            </td>\n",
              "        </tr>\n",
              "    \n",
              "        <tr style=\"background-color: hsl(120, 100.00%, 94.42%); border: none;\">\n",
              "            <td style=\"padding: 0 1em 0 0.5em; text-align: right; border: none;\">\n",
              "                179847539.9027\n",
              "                \n",
              "                    &plusmn; 4178794.3527\n",
              "                \n",
              "            </td>\n",
              "            <td style=\"padding: 0 0.5em 0 0.5em; text-align: left; border: none;\">\n",
              "                건축년도\n",
              "            </td>\n",
              "        </tr>\n",
              "    \n",
              "        <tr style=\"background-color: hsl(120, 100.00%, 98.09%); border: none;\">\n",
              "            <td style=\"padding: 0 1em 0 0.5em; text-align: right; border: none;\">\n",
              "                39009181.6323\n",
              "                \n",
              "                    &plusmn; 733301.9405\n",
              "                \n",
              "            </td>\n",
              "            <td style=\"padding: 0 0.5em 0 0.5em; text-align: left; border: none;\">\n",
              "                부번\n",
              "            </td>\n",
              "        </tr>\n",
              "    \n",
              "        <tr style=\"background-color: hsl(120, 100.00%, 98.50%); border: none;\">\n",
              "            <td style=\"padding: 0 1em 0 0.5em; text-align: right; border: none;\">\n",
              "                27655840.5256\n",
              "                \n",
              "                    &plusmn; 658130.5952\n",
              "                \n",
              "            </td>\n",
              "            <td style=\"padding: 0 0.5em 0 0.5em; text-align: left; border: none;\">\n",
              "                도로명\n",
              "            </td>\n",
              "        </tr>\n",
              "    \n",
              "        <tr style=\"background-color: hsl(120, 100.00%, 98.65%); border: none;\">\n",
              "            <td style=\"padding: 0 1em 0 0.5em; text-align: right; border: none;\">\n",
              "                23801508.9218\n",
              "                \n",
              "                    &plusmn; 1016627.3693\n",
              "                \n",
              "            </td>\n",
              "            <td style=\"padding: 0 0.5em 0 0.5em; text-align: left; border: none;\">\n",
              "                동\n",
              "            </td>\n",
              "        </tr>\n",
              "    \n",
              "        <tr style=\"background-color: hsl(120, 100.00%, 98.74%); border: none;\">\n",
              "            <td style=\"padding: 0 1em 0 0.5em; text-align: right; border: none;\">\n",
              "                21363376.5972\n",
              "                \n",
              "                    &plusmn; 192892.0522\n",
              "                \n",
              "            </td>\n",
              "            <td style=\"padding: 0 0.5em 0 0.5em; text-align: left; border: none;\">\n",
              "                yrs_diff_built_contract\n",
              "            </td>\n",
              "        </tr>\n",
              "    \n",
              "        <tr style=\"background-color: hsl(120, 100.00%, 98.78%); border: none;\">\n",
              "            <td style=\"padding: 0 1em 0 0.5em; text-align: right; border: none;\">\n",
              "                20618314.2286\n",
              "                \n",
              "                    &plusmn; 243254.3049\n",
              "                \n",
              "            </td>\n",
              "            <td style=\"padding: 0 0.5em 0 0.5em; text-align: left; border: none;\">\n",
              "                구_encoded\n",
              "            </td>\n",
              "        </tr>\n",
              "    \n",
              "        <tr style=\"background-color: hsl(120, 100.00%, 98.93%); border: none;\">\n",
              "            <td style=\"padding: 0 1em 0 0.5em; text-align: right; border: none;\">\n",
              "                17095581.7190\n",
              "                \n",
              "                    &plusmn; 412943.4185\n",
              "                \n",
              "            </td>\n",
              "            <td style=\"padding: 0 0.5em 0 0.5em; text-align: left; border: none;\">\n",
              "                road\n",
              "            </td>\n",
              "        </tr>\n",
              "    \n",
              "        <tr style=\"background-color: hsl(120, 100.00%, 98.96%); border: none;\">\n",
              "            <td style=\"padding: 0 1em 0 0.5em; text-align: right; border: none;\">\n",
              "                16396688.1919\n",
              "                \n",
              "                    &plusmn; 752586.3723\n",
              "                \n",
              "            </td>\n",
              "            <td style=\"padding: 0 0.5em 0 0.5em; text-align: left; border: none;\">\n",
              "                아파트명\n",
              "            </td>\n",
              "        </tr>\n",
              "    \n",
              "        <tr style=\"background-color: hsl(120, 100.00%, 99.04%); border: none;\">\n",
              "            <td style=\"padding: 0 1em 0 0.5em; text-align: right; border: none;\">\n",
              "                14573717.4344\n",
              "                \n",
              "                    &plusmn; 138949.9844\n",
              "                \n",
              "            </td>\n",
              "            <td style=\"padding: 0 0.5em 0 0.5em; text-align: left; border: none;\">\n",
              "                구_std\n",
              "            </td>\n",
              "        </tr>\n",
              "    \n",
              "        <tr style=\"background-color: hsl(120, 100.00%, 99.13%); border: none;\">\n",
              "            <td style=\"padding: 0 1em 0 0.5em; text-align: right; border: none;\">\n",
              "                12587615.2423\n",
              "                \n",
              "                    &plusmn; 281359.9891\n",
              "                \n",
              "            </td>\n",
              "            <td style=\"padding: 0 0.5em 0 0.5em; text-align: left; border: none;\">\n",
              "                구\n",
              "            </td>\n",
              "        </tr>\n",
              "    \n",
              "        <tr style=\"background-color: hsl(120, 100.00%, 99.17%); border: none;\">\n",
              "            <td style=\"padding: 0 1em 0 0.5em; text-align: right; border: none;\">\n",
              "                11872203.2536\n",
              "                \n",
              "                    &plusmn; 946692.5475\n",
              "                \n",
              "            </td>\n",
              "            <td style=\"padding: 0 0.5em 0 0.5em; text-align: left; border: none;\">\n",
              "                층\n",
              "            </td>\n",
              "        </tr>\n",
              "    \n",
              "        <tr style=\"background-color: hsl(120, 100.00%, 99.21%); border: none;\">\n",
              "            <td style=\"padding: 0 1em 0 0.5em; text-align: right; border: none;\">\n",
              "                10967260.1166\n",
              "                \n",
              "                    &plusmn; 499609.6156\n",
              "                \n",
              "            </td>\n",
              "            <td style=\"padding: 0 0.5em 0 0.5em; text-align: left; border: none;\">\n",
              "                번지\n",
              "            </td>\n",
              "        </tr>\n",
              "    \n",
              "        <tr style=\"background-color: hsl(120, 100.00%, 99.25%); border: none;\">\n",
              "            <td style=\"padding: 0 1em 0 0.5em; text-align: right; border: none;\">\n",
              "                10280402.8423\n",
              "                \n",
              "                    &plusmn; 601341.6588\n",
              "                \n",
              "            </td>\n",
              "            <td style=\"padding: 0 0.5em 0 0.5em; text-align: left; border: none;\">\n",
              "                본번\n",
              "            </td>\n",
              "        </tr>\n",
              "    \n",
              "        <tr style=\"background-color: hsl(120, 100.00%, 99.25%); border: none;\">\n",
              "            <td style=\"padding: 0 1em 0 0.5em; text-align: right; border: none;\">\n",
              "                10168491.1157\n",
              "                \n",
              "                    &plusmn; 194565.4135\n",
              "                \n",
              "            </td>\n",
              "            <td style=\"padding: 0 0.5em 0 0.5em; text-align: left; border: none;\">\n",
              "                좌표Y\n",
              "            </td>\n",
              "        </tr>\n",
              "    \n",
              "        <tr style=\"background-color: hsl(120, 100.00%, 99.26%); border: none;\">\n",
              "            <td style=\"padding: 0 1em 0 0.5em; text-align: right; border: none;\">\n",
              "                10139860.3106\n",
              "                \n",
              "                    &plusmn; 114258.6776\n",
              "                \n",
              "            </td>\n",
              "            <td style=\"padding: 0 0.5em 0 0.5em; text-align: left; border: none;\">\n",
              "                on_main_st\n",
              "            </td>\n",
              "        </tr>\n",
              "    \n",
              "        <tr style=\"background-color: hsl(120, 100.00%, 99.32%); border: none;\">\n",
              "            <td style=\"padding: 0 1em 0 0.5em; text-align: right; border: none;\">\n",
              "                8914033.5872\n",
              "                \n",
              "                    &plusmn; 276041.3235\n",
              "                \n",
              "            </td>\n",
              "            <td style=\"padding: 0 0.5em 0 0.5em; text-align: left; border: none;\">\n",
              "                k주거전용면적\n",
              "            </td>\n",
              "        </tr>\n",
              "    \n",
              "    \n",
              "        \n",
              "            <tr style=\"background-color: hsl(120, 100.00%, 99.32%); border: none;\">\n",
              "                <td colspan=\"2\" style=\"padding: 0 0.5em 0 0.5em; text-align: center; border: none; white-space: nowrap;\">\n",
              "                    <i>&hellip; 25 more &hellip;</i>\n",
              "                </td>\n",
              "            </tr>\n",
              "        \n",
              "    \n",
              "    </tbody>\n",
              "</table>\n",
              "    \n",
              "\n",
              "    \n",
              "\n",
              "\n",
              "    \n",
              "\n",
              "    \n",
              "\n",
              "    \n",
              "\n",
              "    \n",
              "\n",
              "    \n",
              "\n",
              "    \n",
              "\n",
              "\n",
              "\n"
            ],
            "text/plain": [
              "<IPython.core.display.HTML object>"
            ]
          },
          "execution_count": 312,
          "metadata": {},
          "output_type": "execute_result"
        }
      ],
      "source": [
        "# # Permutation importance 방법을 변수 선택에 이용해보겠습니다.\n",
        "# perm = PermutationImportance(model,        # 위에서 학습된 모델을 이용하겠습니다.\n",
        "#                              scoring = \"neg_mean_squared_error\",        # 평가 지표로는 회귀문제이기에 negative rmse를 사용합니다. (neg_mean_squared_error : 음의 평균 제곱 오차)\n",
        "#                              random_state = 42,\n",
        "#                              n_iter=3).fit(X_val, y_val)\n",
        "# eli5.show_weights(perm, feature_names = X_val.columns.tolist())    # valid data에 대해 적합시킵니다."
      ]
    },
    {
      "cell_type": "markdown",
      "metadata": {
        "id": "F0Ga4ljBNYIy"
      },
      "source": [
        "## 6. Inference"
      ]
    },
    {
      "cell_type": "code",
      "execution_count": 644,
      "metadata": {
        "id": "0HXvn8ZSa1kt"
      },
      "outputs": [],
      "source": [
        "# 저장된 모델을 불러옵니다.\n",
        "with open('model_xgb1.pkl', 'rb') as f:\n",
        "    model1 = pickle.load(f)"
      ]
    },
    {
      "cell_type": "code",
      "execution_count": 645,
      "metadata": {},
      "outputs": [
        {
          "name": "stdout",
          "output_type": "stream",
          "text": [
            "CPU times: user 655 µs, sys: 0 ns, total: 655 µs\n",
            "Wall time: 664 µs\n"
          ]
        }
      ],
      "source": [
        "%%time\n",
        "X_test.columns = X_test.columns.str.replace('[^\\w\\s]', '')\n",
        "X_test.columns = X_test.columns.str.replace(' ', '_')"
      ]
    },
    {
      "cell_type": "code",
      "execution_count": 646,
      "metadata": {
        "colab": {
          "base_uri": "https://localhost:8080/"
        },
        "id": "qbZ2A49LP_T9",
        "outputId": "89676c9b-c0a2-4951-84f0-430c5648331c"
      },
      "outputs": [],
      "source": [
        "# Test dataset에 대한 inference를 진행합니다.\n",
        "real_test_pred = model1.predict(X_test)"
      ]
    },
    {
      "cell_type": "markdown",
      "metadata": {
        "id": "KlxtDBDNNa6Y"
      },
      "source": [
        "## 7. Output File Save"
      ]
    },
    {
      "cell_type": "code",
      "execution_count": 647,
      "metadata": {},
      "outputs": [],
      "source": [
        "# 앞서 예측한 예측값들을 저장합니다.\n",
        "preds_df = pd.DataFrame(real_test_pred.astype(int), columns=[\"target\"])\n",
        "preds_df.to_csv('output.csv', index=False)"
      ]
    },
    {
      "cell_type": "code",
      "execution_count": null,
      "metadata": {},
      "outputs": [],
      "source": []
    }
  ],
  "metadata": {
    "colab": {
      "provenance": []
    },
    "kernelspec": {
      "display_name": "Python 3.10.13 ('base')",
      "language": "python",
      "name": "python3"
    },
    "language_info": {
      "codemirror_mode": {
        "name": "ipython",
        "version": 3
      },
      "file_extension": ".py",
      "mimetype": "text/x-python",
      "name": "python",
      "nbconvert_exporter": "python",
      "pygments_lexer": "ipython3",
      "version": "3.10.13"
    },
    "vscode": {
      "interpreter": {
        "hash": "d4d1e4263499bec80672ea0156c357c1ee493ec2b1c70f0acce89fc37c4a6abe"
      }
    }
  },
  "nbformat": 4,
  "nbformat_minor": 0
}
